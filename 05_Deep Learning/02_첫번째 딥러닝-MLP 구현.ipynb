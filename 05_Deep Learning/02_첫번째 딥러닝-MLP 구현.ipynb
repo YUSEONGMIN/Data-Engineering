{
 "cells": [
  {
   "cell_type": "markdown",
   "metadata": {
    "slideshow": {
     "slide_type": "slide"
    }
   },
   "source": [
    "# Keras 개발 Process"
   ]
  },
  {
   "cell_type": "markdown",
   "metadata": {
    "slideshow": {
     "slide_type": "fragment"
    }
   },
   "source": [
    "1. 입력 텐서(X)와 출력 텐서(y)로 이뤄진 **훈련 데이터를 정의**"
   ]
  },
  {
   "cell_type": "markdown",
   "metadata": {
    "slideshow": {
     "slide_type": "fragment"
    }
   },
   "source": [
    "2. 입력과 출력을 연결하는 Layer(층)으로 이뤄진 **네트워크(모델)을 정의**\n",
    "    - Sequential 방식: 순서대로 쌓아올린 네트워크로 이뤄진 모델을 생성하는 방식\n",
    "    - Functional API 방식: 다양한 구조의 네트워크로 이뤄진 모델을 생성하는 방식\n",
    "    - Subclass 방식: 네트워크를 정의하는 클래스를 구현.\n",
    "    "
   ]
  },
  {
   "cell_type": "markdown",
   "metadata": {
    "slideshow": {
     "slide_type": "fragment"
    }
   },
   "source": [
    "3. **모델 Compile(컴파일)**\n",
    "    - 모델이 Train(학습)할때 사용할 손실함수(Loss Function), 최적화기법(Optimizer), 학습과정을 모니터링할 평가지표(Metrics)를 설정\n",
    "    \n",
    "    > Compile: 실행할 수 있는 상태로 만들어 주는 것."
   ]
  },
  {
   "cell_type": "markdown",
   "metadata": {
    "slideshow": {
     "slide_type": "fragment"
    }
   },
   "source": [
    "4. **Training(학습/훈련)**\n",
    "    - Train dataset을 이용해 모델을 Train 시킨다."
   ]
  },
  {
   "cell_type": "markdown",
   "metadata": {
    "slideshow": {
     "slide_type": "slide"
    }
   },
   "source": [
    "# MNIST 이미지 분류 \n",
    "- ### [MNIST](https://ko.wikipedia.org/wiki/MNIST_%EB%8D%B0%EC%9D%B4%ED%84%B0%EB%B2%A0%EC%9D%B4%EC%8A%A4)(Modified National Institute of Standards and Technology) database\n",
    "- 흑백 손글씨 숫자 0-9까지 10개의 범주로 구분해놓은 데이터셋\n",
    "- 하나의 이미지는 28 * 28 pixel 의 크기\n",
    "- 6만개의 Train 이미지와 1만개의 Test 이미지로 구성됨."
   ]
  },
  {
   "cell_type": "markdown",
   "metadata": {},
   "source": [
    "##### import"
   ]
  },
  {
   "cell_type": "code",
   "execution_count": 1,
   "metadata": {
    "ExecuteTime": {
     "end_time": "2024-01-31T12:24:29.300826Z",
     "start_time": "2024-01-31T12:24:25.703459Z"
    },
    "colab": {
     "base_uri": "https://localhost:8080/"
    },
    "executionInfo": {
     "elapsed": 3583,
     "status": "ok",
     "timestamp": 1707093820613,
     "user": {
      "displayName": "Sunghwan KIM",
      "userId": "06010856989212311727"
     },
     "user_tz": -540
    },
    "id": "W3mV2HDSXAhu",
    "outputId": "d596523d-8076-48fd-b3e2-c49da96aa35e"
   },
   "outputs": [
    {
     "name": "stdout",
     "output_type": "stream",
     "text": [
      "2.15.0\n"
     ]
    }
   ],
   "source": [
    "import random\n",
    "import numpy as np\n",
    "import tensorflow as tf\n",
    "from tensorflow import keras\n",
    "\n",
    "print(tf.__version__)\n",
    "# seed값 설정\n",
    "np.random.seed(0)\n",
    "tf.random.set_seed(0)\n",
    "random.seed(0)"
   ]
  },
  {
   "cell_type": "markdown",
   "metadata": {
    "ExecuteTime": {
     "end_time": "2021-08-30T05:02:52.852140Z",
     "start_time": "2021-08-30T05:02:52.563117Z"
    },
    "id": "0v3tMcQ1XAhv"
   },
   "source": [
    "##### MNIST dataset Loading"
   ]
  },
  {
   "cell_type": "code",
   "execution_count": 2,
   "metadata": {
    "ExecuteTime": {
     "end_time": "2023-07-07T06:28:23.583172Z",
     "start_time": "2023-07-07T06:28:23.291893Z"
    },
    "colab": {
     "base_uri": "https://localhost:8080/"
    },
    "executionInfo": {
     "elapsed": 1181,
     "status": "ok",
     "timestamp": 1707093848970,
     "user": {
      "displayName": "Sunghwan KIM",
      "userId": "06010856989212311727"
     },
     "user_tz": -540
    },
    "id": "Xn5jG92KXAhv",
    "outputId": "df235b97-9513-46df-91d7-62bd697c1863"
   },
   "outputs": [
    {
     "name": "stdout",
     "output_type": "stream",
     "text": [
      "Downloading data from https://storage.googleapis.com/tensorflow/tf-keras-datasets/mnist.npz\n",
      "11490434/11490434 [==============================] - 0s 0us/step\n"
     ]
    }
   ],
   "source": [
    "(train_image, train_label), (test_image, test_label) = keras.datasets.mnist.load_data()"
   ]
  },
  {
   "cell_type": "code",
   "execution_count": 3,
   "metadata": {
    "colab": {
     "base_uri": "https://localhost:8080/"
    },
    "executionInfo": {
     "elapsed": 361,
     "status": "ok",
     "timestamp": 1707093855404,
     "user": {
      "displayName": "Sunghwan KIM",
      "userId": "06010856989212311727"
     },
     "user_tz": -540
    },
    "id": "0ukRoA4hyX6Y",
    "outputId": "7bdb2f4d-f651-4fa2-f6ca-2987eb27bb2a"
   },
   "outputs": [
    {
     "data": {
      "text/plain": [
       "(numpy.ndarray, numpy.ndarray)"
      ]
     },
     "execution_count": 3,
     "metadata": {},
     "output_type": "execute_result"
    }
   ],
   "source": [
    "type(train_image), type(train_label)"
   ]
  },
  {
   "cell_type": "code",
   "execution_count": 4,
   "metadata": {
    "ExecuteTime": {
     "end_time": "2023-07-07T06:28:24.298523Z",
     "start_time": "2023-07-07T06:28:24.279443Z"
    },
    "colab": {
     "base_uri": "https://localhost:8080/"
    },
    "executionInfo": {
     "elapsed": 363,
     "status": "ok",
     "timestamp": 1707093857462,
     "user": {
      "displayName": "Sunghwan KIM",
      "userId": "06010856989212311727"
     },
     "user_tz": -540
    },
    "id": "i1TYY4GSXAhv",
    "outputId": "839d3271-746c-4503-a5f1-3e3b863321c4"
   },
   "outputs": [
    {
     "data": {
      "text/plain": [
       "((60000, 28, 28), (60000,), (10000, 28, 28), (10000,))"
      ]
     },
     "execution_count": 4,
     "metadata": {},
     "output_type": "execute_result"
    }
   ],
   "source": [
    "train_image.shape, train_label.shape, test_image.shape, test_label.shape"
   ]
  },
  {
   "cell_type": "code",
   "execution_count": 5,
   "metadata": {
    "ExecuteTime": {
     "end_time": "2023-07-07T06:28:27.692286Z",
     "start_time": "2023-07-07T06:28:26.540799Z"
    },
    "colab": {
     "base_uri": "https://localhost:8080/",
     "height": 481
    },
    "executionInfo": {
     "elapsed": 1304,
     "status": "ok",
     "timestamp": 1707093862694,
     "user": {
      "displayName": "Sunghwan KIM",
      "userId": "06010856989212311727"
     },
     "user_tz": -540
    },
    "id": "TE0WZAjOXAhv",
    "outputId": "324af29d-2ac9-4ea8-db90-f5712054c3b9"
   },
   "outputs": [
    {
     "data": {
      "image/png": "[encoded data removed]",
      "text/plain": [
       "<Figure size 1000x500 with 10 Axes>"
      ]
     },
     "metadata": {},
     "output_type": "display_data"
    }
   ],
   "source": [
    "# X값-image 확인\n",
    "import matplotlib.pyplot as plt\n",
    "plt.figure(figsize=(10,5))\n",
    "\n",
    "for i in range(10):\n",
    "    plt.subplot(2, 5, i+1)\n",
    "    plt.imshow(train_image[i], cmap='gray')\n",
    "    plt.title(f'{train_label[i]}', fontsize=20)\n",
    "    plt.axis('off')\n",
    "\n",
    "plt.tight_layout()\n",
    "plt.show()"
   ]
  },
  {
   "cell_type": "markdown",
   "metadata": {
    "slideshow": {
     "slide_type": "slide"
    }
   },
   "source": [
    "## 데이터 준비\n",
    "- X (Input Data Image)\n",
    "    - 0 ~ 1 사이의 값으로 정규화 시킨다.\n",
    "- y (Output Data)\n",
    "    - one hot encoding 처리\n",
    "        - Label이 다중분류(Multi class classification)일 경우 One Hot Encoding 한다.\n",
    "            - 딥러닝 모델이 각 Label별 확률을 출력하도록 정의 되기 때문에 y(정답)도 같은 형태로 만들어 줘야 한다.\n",
    "    - Keras의 onehot encoding 처리 함수\n",
    "        - tensorflow.keras.utils.to_categorical()"
   ]
  },
  {
   "cell_type": "markdown",
   "metadata": {
    "ExecuteTime": {
     "end_time": "2021-08-30T05:07:46.170159Z",
     "start_time": "2021-08-30T05:07:45.800170Z"
    },
    "slideshow": {
     "slide_type": "fragment"
    }
   },
   "source": [
    "##### input image(X)를 정규화. \n",
    "- 이미지를 0 ~ 1 로 정규화 하고 타입을 float32로 변환"
   ]
  },
  {
   "cell_type": "code",
   "execution_count": 6,
   "metadata": {
    "colab": {
     "base_uri": "https://localhost:8080/"
    },
    "executionInfo": {
     "elapsed": 367,
     "status": "ok",
     "timestamp": 1707093870229,
     "user": {
      "displayName": "Sunghwan KIM",
      "userId": "06010856989212311727"
     },
     "user_tz": -540
    },
    "id": "XHbhsSYx4ITw",
    "outputId": "a86270db-7fea-43f8-be5d-ea0a402e97f1"
   },
   "outputs": [
    {
     "name": "stdout",
     "output_type": "stream",
     "text": [
      "0 255 uint8\n"
     ]
    }
   ],
   "source": [
    "train_image.min(), train_image.max(), train_image.dtype\n",
    "# u_int8 = 2^8 = 256\n",
    "# gray scale 명도 수치"
   ]
  },
  {
   "cell_type": "code",
   "execution_count": null,
   "metadata": {
    "ExecuteTime": {
     "end_time": "2023-07-07T06:28:32.833599Z",
     "start_time": "2023-07-07T06:28:32.691355Z"
    }
   },
   "outputs": [],
   "source": [
    "X_train = train_image.astype(\"float32\")/255\n",
    "X_test = test_image.astype('float32')/255"
   ]
  },
  {
   "cell_type": "markdown",
   "metadata": {
    "ExecuteTime": {
     "end_time": "2021-08-30T05:08:02.687904Z",
     "start_time": "2021-08-30T05:08:02.678864Z"
    },
    "slideshow": {
     "slide_type": "slide"
    }
   },
   "source": [
    "##### label(y)를 one hot encoding"
   ]
  },
  {
   "cell_type": "code",
   "execution_count": 8,
   "metadata": {
    "ExecuteTime": {
     "end_time": "2023-07-07T06:28:39.844729Z",
     "start_time": "2023-07-07T06:28:39.836669Z"
    },
    "colab": {
     "base_uri": "https://localhost:8080/"
    },
    "executionInfo": {
     "elapsed": 317,
     "status": "ok",
     "timestamp": 1707093892730,
     "user": {
      "displayName": "Sunghwan KIM",
      "userId": "06010856989212311727"
     },
     "user_tz": -540
    },
    "id": "DabKX6MVXAhw",
    "outputId": "179449e0-4c12-45b1-a93b-602fd08610bf"
   },
   "outputs": [
    {
     "data": {
      "text/plain": [
       "(array([0, 1, 2, 3, 4, 5, 6, 7, 8, 9], dtype=uint8),\n",
       " array([5923, 6742, 5958, 6131, 5842, 5421, 5918, 6265, 5851, 5949]))"
      ]
     },
     "execution_count": 8,
     "metadata": {},
     "output_type": "execute_result"
    }
   ],
   "source": [
    "np.unique(train_label, return_counts=True)"
   ]
  },
  {
   "cell_type": "code",
   "execution_count": 9,
   "metadata": {
    "ExecuteTime": {
     "end_time": "2023-07-07T06:28:40.560055Z",
     "start_time": "2023-07-07T06:28:40.547738Z"
    },
    "colab": {
     "base_uri": "https://localhost:8080/"
    },
    "executionInfo": {
     "elapsed": 332,
     "status": "ok",
     "timestamp": 1707093897531,
     "user": {
      "displayName": "Sunghwan KIM",
      "userId": "06010856989212311727"
     },
     "user_tz": -540
    },
    "id": "pa3xANHlXAhw",
    "outputId": "a780d573-cd44-4e70-97af-eb45e9a6af58"
   },
   "outputs": [
    {
     "data": {
      "text/plain": [
       "((60000, 10), (10000, 10))"
      ]
     },
     "execution_count": 9,
     "metadata": {},
     "output_type": "execute_result"
    }
   ],
   "source": [
    "y_train = keras.utils.to_categorical(train_label, num_classes=10)\n",
    "y_test = keras.utils.to_categorical(test_label)\n",
    "\n",
    "y_train.shape, y_test.shape"
   ]
  },
  {
   "cell_type": "code",
   "execution_count": 10,
   "metadata": {
    "colab": {
     "base_uri": "https://localhost:8080/"
    },
    "executionInfo": {
     "elapsed": 330,
     "status": "ok",
     "timestamp": 1707093908586,
     "user": {
      "displayName": "Sunghwan KIM",
      "userId": "06010856989212311727"
     },
     "user_tz": -540
    },
    "id": "NkuP7b1I6WYe",
    "outputId": "e24673e6-e178-4303-b617-835d3cb646a3"
   },
   "outputs": [
    {
     "data": {
      "text/plain": [
       "array([5, 0, 4], dtype=uint8)"
      ]
     },
     "execution_count": 10,
     "metadata": {},
     "output_type": "execute_result"
    }
   ],
   "source": [
    "train_label[:3]"
   ]
  },
  {
   "cell_type": "code",
   "execution_count": 10,
   "metadata": {
    "colab": {
     "base_uri": "https://localhost:8080/"
    },
    "executionInfo": {
     "elapsed": 31,
     "status": "ok",
     "timestamp": 1707093831509,
     "user": {
      "displayName": "유성민/응용통계학과",
      "userId": "04114143840809416676"
     },
     "user_tz": -540
    },
    "id": "-GyUTXRf6hlj",
    "outputId": "664c82f5-0656-48ab-de44-b37be0acdb7c"
   },
   "outputs": [
    {
     "data": {
      "text/plain": [
       "5"
      ]
     },
     "execution_count": 10,
     "metadata": {},
     "output_type": "execute_result"
    }
   ],
   "source": [
    "train_label[0]"
   ]
  },
  {
   "cell_type": "code",
   "execution_count": 11,
   "metadata": {
    "colab": {
     "base_uri": "https://localhost:8080/"
    },
    "executionInfo": {
     "elapsed": 3,
     "status": "ok",
     "timestamp": 1707093909923,
     "user": {
      "displayName": "Sunghwan KIM",
      "userId": "06010856989212311727"
     },
     "user_tz": -540
    },
    "id": "8BwH7IQt6bEZ",
    "outputId": "eb35414c-a936-40ce-94c8-4e83d064bd83"
   },
   "outputs": [
    {
     "data": {
      "text/plain": [
       "array([0., 0., 0., 0., 0., 1., 0., 0., 0., 0.], dtype=float32)"
      ]
     },
     "execution_count": 11,
     "metadata": {},
     "output_type": "execute_result"
    }
   ],
   "source": [
    "y_train[0]"
   ]
  },
  {
   "cell_type": "markdown",
   "metadata": {
    "slideshow": {
     "slide_type": "slide"
    }
   },
   "source": [
    "## 네트워크(모델) 정의\n",
    "- Network : 전체 모델 구조\n",
    "\n",
    "### 모델 정의 방법 - Sequential API 이용\n",
    "- Keras Sequential API는 모델을 구성하는 각 레이어에 하나의 입력 텐서와 하나의 출력 텐서가 있는 구조의 모델을 만들 때 사용한다.\n",
    "- 모델 정의 뿐 아니라 모델을 구성하는 레이버 블록을 정의할 때 사용할 수 있다."
   ]
  },
  {
   "cell_type": "code",
   "execution_count": null,
   "metadata": {
    "ExecuteTime": {
     "end_time": "2023-07-07T06:28:43.171823Z",
     "start_time": "2023-07-07T06:28:43.067530Z"
    }
   },
   "outputs": [],
   "source": [
    "# Sequential model 정의 1: 모델객체를 생성하고 add() 메소드를 이용해 순서대로 Layer 를 하나씩 추가.\n",
    "model = keras.Sequential()\n",
    "model.add(keras.layers.Flatten(input_shape=(28,28)))\n",
    "model.add(keras.layers.Dense(units=128,\n",
    "                             activation=\"relu\"))\n",
    "model.add(keras.layers.Dense(units=64, activation=\"relu\"))\n",
    "model.add(keras.layers.Dense(units=32, activation=\"relu\"))\n",
    "model.add(keras.layers.Dense(units=16, activation=\"relu\"))\n",
    "model.add(keras.layers.Dense(units=10, activation=\"softmax\"))\n"
   ]
  },
  {
   "cell_type": "code",
   "execution_count": null,
   "metadata": {
    "ExecuteTime": {
     "end_time": "2023-07-07T06:28:43.667708Z",
     "start_time": "2023-07-07T06:28:43.604798Z"
    }
   },
   "outputs": [],
   "source": [
    "# Sequential Model 정의 2: 객체 생성시 Layer들을 순서대로 리스트로 묶어 전달.\n",
    "model = keras.Sequential([\n",
    "    keras.layers.Flatten(input_shape=(28, 28)),\n",
    "    keras.layers.Dense(units=128, activation=\"relu\"),\n",
    "    keras.layers.Dense(units=64, activation=\"relu\"),\n",
    "    keras.layers.Dense(units=32, activation=\"relu\"),\n",
    "    keras.layers.Dense(units=16, activation=\"relu\"),\n",
    "    keras.layers.Dense(units=10, activation=\"softmax\"),\n",
    "])"
   ]
  },
  {
   "cell_type": "markdown",
   "metadata": {},
   "source": [
    "### 모델 정의 방법 - Functional API \n",
    "- Keras Functional API는 Sequential API보다 다양한 구조의 모델을 생성할 수 있는 더 유연한 방법이다. 함수형 API는 다중 입력, 다중 출력 모델, 레이어 분기 및 병합등의 다양한  구조를 정의할 수 있다.\n",
    "\n"
   ]
  },
  {
   "cell_type": "code",
   "execution_count": null,
   "metadata": {},
   "outputs": [],
   "source": [
    "inputs = keras.layers.Input(shape=(28, 28))\n",
    "X = keras.layers.Flatten()(inputs)\n",
    "X = keras.layers.Dense(units=128, activation=\"relu\")(X)\n",
    "X = keras.layers.Dense(units=64, activation=\"relu\")(X)\n",
    "X = keras.layers.Dense(units=32, activation=\"relu\")(X)\n",
    "X = keras.layers.Dense(units=16, activation=\"relu\")(X)\n",
    "outputs = keras.layers.Dense(units=10, activation=\"softmax\")(X)\n",
    "\n",
    "model = keras.models.Model(inputs=inputs, outputs=outputs)"
   ]
  },
  {
   "cell_type": "code",
   "execution_count": 55,
   "metadata": {
    "ExecuteTime": {
     "end_time": "2023-07-07T06:28:44.183665Z",
     "start_time": "2023-07-07T06:28:44.163633Z"
    },
    "colab": {
     "base_uri": "https://localhost:8080/"
    },
    "executionInfo": {
     "elapsed": 494,
     "status": "ok",
     "timestamp": 1707099523095,
     "user": {
      "displayName": "Sunghwan KIM",
      "userId": "06010856989212311727"
     },
     "user_tz": -540
    },
    "id": "tmvUWCIjXAhx",
    "outputId": "7efca1ad-7d26-4c95-bcc9-bd4a5eb92a5d"
   },
   "outputs": [
    {
     "name": "stdout",
     "output_type": "stream",
     "text": [
      "Model: \"model\"\n",
      "_________________________________________________________________\n",
      " Layer (type)                Output Shape              Param #   \n",
      "=================================================================\n",
      " input_1 (InputLayer)        [(None, 28, 28)]          0         \n",
      "                                                                 \n",
      " flatten_4 (Flatten)         (None, 784)               0         \n",
      "                                                                 \n",
      " dense_20 (Dense)            (None, 128)               100480    \n",
      "                                                                 \n",
      " dense_21 (Dense)            (None, 64)                8256      \n",
      "                                                                 \n",
      " dense_22 (Dense)            (None, 32)                2080      \n",
      "                                                                 \n",
      " dense_23 (Dense)            (None, 16)                528       \n",
      "                                                                 \n",
      " dense_24 (Dense)            (None, 10)                170       \n",
      "                                                                 \n",
      "=================================================================\n",
      "Total params: 111514 (435.60 KB)\n",
      "Trainable params: 111514 (435.60 KB)\n",
      "Non-trainable params: 0 (0.00 Byte)\n",
      "_________________________________________________________________\n"
     ]
    }
   ],
   "source": [
    "# 모델의 구조를 확인\n",
    "model.summary()"
   ]
  },
  {
   "cell_type": "code",
   "execution_count": null,
   "metadata": {},
   "outputs": [],
   "source": [
    "# !pip install graphviz pydot pydotplus"
   ]
  },
  {
   "cell_type": "code",
   "execution_count": 56,
   "metadata": {
    "ExecuteTime": {
     "end_time": "2023-07-07T06:28:45.315766Z",
     "start_time": "2023-07-07T06:28:44.819722Z"
    },
    "colab": {
     "base_uri": "https://localhost:8080/",
     "height": 754
    },
    "executionInfo": {
     "elapsed": 540,
     "status": "ok",
     "timestamp": 1707099528994,
     "user": {
      "displayName": "Sunghwan KIM",
      "userId": "06010856989212311727"
     },
     "user_tz": -540
    },
    "id": "MKiHFwmEXAhx",
    "outputId": "5304c61c-6072-46c0-94d9-cd2db1c8ab3a",
    "scrolled": true
   },
   "outputs": [
    {
     "data": {
      "image/png": "[encoded data removed]",
      "text/plain": [
       "<IPython.core.display.Image object>"
      ]
     },
     "execution_count": 56,
     "metadata": {},
     "output_type": "execute_result"
    }
   ],
   "source": [
    "# graphviz를 이용한 모델구조를 시각화\n",
    "keras.utils.plot_model(model,\n",
    "                       show_shapes=True\n",
    "                       , to_file='model_shapes.png'\n",
    "                      )"
   ]
  },
  {
   "cell_type": "markdown",
   "metadata": {
    "slideshow": {
     "slide_type": "slide"
    }
   },
   "source": [
    "## 컴파일\n",
    "- 정의된 딥러닝 모델을 학습할 수 있는 상태로 만들어 주기 위해 다음을 추가적으로 설정 한다.\n",
    "    - Optimizer\n",
    "    - 손실함수\n",
    "    - 평가지표"
   ]
  },
  {
   "cell_type": "code",
   "execution_count": 57,
   "metadata": {
    "executionInfo": {
     "elapsed": 384,
     "status": "ok",
     "timestamp": 1707099536490,
     "user": {
      "displayName": "Sunghwan KIM",
      "userId": "06010856989212311727"
     },
     "user_tz": -540
    },
    "id": "oxkThNJnXAhx"
   },
   "outputs": [],
   "source": [
    "model.compile(loss=\"categorical_crossentropy\", # 손실함수 설정.\n",
    "              optimizer=\"adam\",                # 최적화 함수(optimizer) 설정\n",
    "              metrics=[\"accuracy\"]\n",
    "              )"
   ]
  },
  {
   "cell_type": "markdown",
   "metadata": {
    "slideshow": {
     "slide_type": "slide"
    }
   },
   "source": [
    "## 학습 (fit)\n",
    "- model.fit()\n",
    "    - 모델 학습 메소드. \n",
    "    - 학습과정의 Log를 **History** 객체에 넣어 반환한다.\n",
    "- **History**: train 시 에폭별 평가지표값들을 모아서 제공. \n"
   ]
  },
  {
   "cell_type": "code",
   "execution_count": 58,
   "metadata": {
    "ExecuteTime": {
     "end_time": "2023-07-07T06:29:31.883745Z",
     "start_time": "2023-07-07T06:29:14.688625Z"
    },
    "colab": {
     "base_uri": "https://localhost:8080/"
    },
    "executionInfo": {
     "elapsed": 11466,
     "status": "ok",
     "timestamp": 1707099550915,
     "user": {
      "displayName": "Sunghwan KIM",
      "userId": "06010856989212311727"
     },
     "user_tz": -540
    },
    "id": "ejev_QVLXAhy",
    "outputId": "683b7668-f312-41d7-b41d-2e498bb307bd",
    "scrolled": true
   },
   "outputs": [
    {
     "name": "stdout",
     "output_type": "stream",
     "text": [
      "Epoch 1/10\n",
      "42/42 [==============================] - 2s 24ms/step - loss: 1.4360 - accuracy: 0.5059 - val_loss: 0.6408 - val_accuracy: 0.8504\n",
      "Epoch 2/10\n",
      "42/42 [==============================] - 1s 19ms/step - loss: 0.4296 - accuracy: 0.8834 - val_loss: 0.3221 - val_accuracy: 0.9076\n",
      "Epoch 3/10\n",
      "42/42 [==============================] - 1s 19ms/step - loss: 0.2863 - accuracy: 0.9195 - val_loss: 0.2559 - val_accuracy: 0.9267\n",
      "Epoch 4/10\n",
      "42/42 [==============================] - 1s 28ms/step - loss: 0.2241 - accuracy: 0.9369 - val_loss: 0.2113 - val_accuracy: 0.9397\n",
      "Epoch 5/10\n",
      "42/42 [==============================] - 1s 29ms/step - loss: 0.1855 - accuracy: 0.9475 - val_loss: 0.1882 - val_accuracy: 0.9462\n",
      "Epoch 6/10\n",
      "42/42 [==============================] - 1s 21ms/step - loss: 0.1543 - accuracy: 0.9560 - val_loss: 0.1674 - val_accuracy: 0.9503\n",
      "Epoch 7/10\n",
      "42/42 [==============================] - 1s 18ms/step - loss: 0.1331 - accuracy: 0.9621 - val_loss: 0.1521 - val_accuracy: 0.9568\n",
      "Epoch 8/10\n",
      "42/42 [==============================] - 1s 18ms/step - loss: 0.1197 - accuracy: 0.9658 - val_loss: 0.1488 - val_accuracy: 0.9553\n",
      "Epoch 9/10\n",
      "42/42 [==============================] - 1s 19ms/step - loss: 0.1015 - accuracy: 0.9707 - val_loss: 0.1399 - val_accuracy: 0.9602\n",
      "Epoch 10/10\n",
      "42/42 [==============================] - 1s 18ms/step - loss: 0.0893 - accuracy: 0.9739 - val_loss: 0.1371 - val_accuracy: 0.9593\n"
     ]
    }
   ],
   "source": [
    "history = model.fit(X_train,         # 학습 데이터\n",
    "                    y_train,\n",
    "                    batch_size=1000, # 몇개씩 끊어서 학습할 것인지.\n",
    "                    epochs=10,       # 데이터셋을 몇번 학습할지 횟수.\n",
    "                    validation_split=0.3 # 학습데이터의 30%를 검증용으로 써라.\n",
    "                    )"
   ]
  },
  {
   "cell_type": "markdown",
   "metadata": {
    "slideshow": {
     "slide_type": "slide"
    }
   },
   "source": [
    "##### 학습 과정 시각화"
   ]
  },
  {
   "cell_type": "code",
   "execution_count": 19,
   "metadata": {
    "colab": {
     "base_uri": "https://localhost:8080/"
    },
    "executionInfo": {
     "elapsed": 3,
     "status": "ok",
     "timestamp": 1707095706293,
     "user": {
      "displayName": "Sunghwan KIM",
      "userId": "06010856989212311727"
     },
     "user_tz": -540
    },
    "id": "o0gr-6vV1Tgm",
    "outputId": "2d87bf0c-e583-4b3d-8bf3-10650ccea181"
   },
   "outputs": [
    {
     "data": {
      "text/plain": [
       "keras.src.callbacks.History"
      ]
     },
     "execution_count": 19,
     "metadata": {},
     "output_type": "execute_result"
    }
   ],
   "source": [
    "type(history)"
   ]
  },
  {
   "cell_type": "code",
   "execution_count": 20,
   "metadata": {
    "ExecuteTime": {
     "end_time": "2023-07-07T06:34:25.031933Z",
     "start_time": "2023-07-07T06:34:25.014210Z"
    },
    "colab": {
     "base_uri": "https://localhost:8080/"
    },
    "executionInfo": {
     "elapsed": 335,
     "status": "ok",
     "timestamp": 1707095745194,
     "user": {
      "displayName": "Sunghwan KIM",
      "userId": "06010856989212311727"
     },
     "user_tz": -540
    },
    "id": "Jbpxi2jvXAhy",
    "outputId": "dbb2f3d6-0ddc-4832-8792-1fa19d3866bc"
   },
   "outputs": [
    {
     "name": "stdout",
     "output_type": "stream",
     "text": [
      "<class 'keras.src.callbacks.History'>\n",
      "학습 에폭리스트:  [0, 1, 2, 3, 4, 5, 6, 7, 8, 9]\n",
      "에폭수, 에폭당 step수:  {'verbose': 1, 'epochs': 10, 'steps': 42}\n"
     ]
    }
   ],
   "source": [
    "print(type(history))\n",
    "print(\"학습 에폭리스트: \", history.epoch)\n",
    "print(\"에폭수, 에폭당 step수: \", history.params)"
   ]
  },
  {
   "cell_type": "code",
   "execution_count": 21,
   "metadata": {
    "ExecuteTime": {
     "end_time": "2023-07-07T06:34:26.622606Z",
     "start_time": "2023-07-07T06:34:26.612469Z"
    },
    "colab": {
     "base_uri": "https://localhost:8080/"
    },
    "executionInfo": {
     "elapsed": 366,
     "status": "ok",
     "timestamp": 1707095949523,
     "user": {
      "displayName": "Sunghwan KIM",
      "userId": "06010856989212311727"
     },
     "user_tz": -540
    },
    "id": "oZFKgJbeXAhy",
    "outputId": "11ef94ec-54d4-40b6-cc81-86ca7c0da5db",
    "scrolled": true
   },
   "outputs": [
    {
     "data": {
      "text/plain": [
       "{'loss': [1.479690432548523,\n",
       "  0.44290223717689514,\n",
       "  0.27626147866249084,\n",
       "  0.213568314909935,\n",
       "  0.17530936002731323,\n",
       "  0.14651918411254883,\n",
       "  0.12446649372577667,\n",
       "  0.1074243038892746,\n",
       "  0.09352390468120575,\n",
       "  0.0854981541633606],\n",
       " 'accuracy': [0.5322142839431763,\n",
       "  0.8816666603088379,\n",
       "  0.9250476360321045,\n",
       "  0.9420475959777832,\n",
       "  0.9515237808227539,\n",
       "  0.9591190218925476,\n",
       "  0.9645476341247559,\n",
       "  0.9703094959259033,\n",
       "  0.9736904501914978,\n",
       "  0.9758809804916382],\n",
       " 'val_loss': [0.6225899457931519,\n",
       "  0.31632089614868164,\n",
       "  0.2522355020046234,\n",
       "  0.20055074989795685,\n",
       "  0.18992124497890472,\n",
       "  0.16278740763664246,\n",
       "  0.15584392845630646,\n",
       "  0.14509984850883484,\n",
       "  0.13760045170783997,\n",
       "  0.1311035007238388],\n",
       " 'val_accuracy': [0.8437777757644653,\n",
       "  0.914222240447998,\n",
       "  0.9284444451332092,\n",
       "  0.9442777633666992,\n",
       "  0.9465555548667908,\n",
       "  0.9538888931274414,\n",
       "  0.9557222127914429,\n",
       "  0.9583333134651184,\n",
       "  0.9600555300712585,\n",
       "  0.9621666669845581]}"
      ]
     },
     "execution_count": 21,
     "metadata": {},
     "output_type": "execute_result"
    }
   ],
   "source": [
    "history.history"
   ]
  },
  {
   "cell_type": "code",
   "execution_count": 23,
   "metadata": {
    "ExecuteTime": {
     "end_time": "2023-07-07T06:34:28.383298Z",
     "start_time": "2023-07-07T06:34:27.899363Z"
    },
    "colab": {
     "base_uri": "https://localhost:8080/",
     "height": 512
    },
    "executionInfo": {
     "elapsed": 925,
     "status": "ok",
     "timestamp": 1707096132795,
     "user": {
      "displayName": "Sunghwan KIM",
      "userId": "06010856989212311727"
     },
     "user_tz": -540
    },
    "id": "ol3gs8pBXAhy",
    "outputId": "336c1589-d72a-4019-a6ab-e7a0f59e68a3"
   },
   "outputs": [
    {
     "data": {
      "image/png": "[encoded data removed]",
      "text/plain": [
       "<Figure size 1000x500 with 2 Axes>"
      ]
     },
     "metadata": {},
     "output_type": "display_data"
    }
   ],
   "source": [
    "# 학습 에폭별 loss와 accuracy 변화량 시각화\n",
    "import matplotlib.pyplot as plt\n",
    "\n",
    "# plt.rcParams['font.family'] = 'malgun gothic'\n",
    "# plt.rcParams['axes.unicode_minus'] = False\n",
    "\n",
    "plt.figure(figsize=(10, 5))\n",
    "plt.suptitle('Result')\n",
    "\n",
    "plt.subplot(1, 2, 1)\n",
    "plt.plot(history.history['loss'], label='train loss')\n",
    "plt.plot(history.history['val_loss'], label='val loss')\n",
    "plt.title('Loss')\n",
    "plt.legend()\n",
    "\n",
    "plt.subplot(1, 2, 2)\n",
    "plt.plot(history.history['accuracy'], label='train acc')\n",
    "plt.plot(history.history['val_accuracy'], label='val acc')\n",
    "plt.title('Accuracy')\n",
    "\n",
    "plt.legend()\n",
    "plt.tight_layout()\n",
    "plt.show()"
   ]
  },
  {
   "cell_type": "markdown",
   "metadata": {
    "slideshow": {
     "slide_type": "slide"
    }
   },
   "source": [
    "## 테스트셋 평가"
   ]
  },
  {
   "cell_type": "code",
   "execution_count": 25,
   "metadata": {
    "colab": {
     "base_uri": "https://localhost:8080/"
    },
    "executionInfo": {
     "elapsed": 2466,
     "status": "ok",
     "timestamp": 1707096401573,
     "user": {
      "displayName": "Sunghwan KIM",
      "userId": "06010856989212311727"
     },
     "user_tz": -540
    },
    "id": "eqM83mV4XAhy",
    "outputId": "7134ce6f-b1f8-4229-a2b9-94005bb8d54e"
   },
   "outputs": [
    {
     "name": "stdout",
     "output_type": "stream",
     "text": [
      "313/313 [==============================] - 2s 4ms/step - loss: 0.1234 - accuracy: 0.9649\n"
     ]
    }
   ],
   "source": [
    "result = model.evaluate(X_test, y_test)"
   ]
  },
  {
   "cell_type": "code",
   "execution_count": 27,
   "metadata": {
    "colab": {
     "base_uri": "https://localhost:8080/"
    },
    "executionInfo": {
     "elapsed": 5,
     "status": "ok",
     "timestamp": 1707096442399,
     "user": {
      "displayName": "Sunghwan KIM",
      "userId": "06010856989212311727"
     },
     "user_tz": -540
    },
    "id": "kaxVurHNXAhy",
    "outputId": "3b76659a-6766-497c-9e56-8a054e91bf72"
   },
   "outputs": [
    {
     "name": "stdout",
     "output_type": "stream",
     "text": [
      "[0.12340373545885086, 0.964900016784668]\n",
      "testset 검증결과 - loss: 0.12340373545885086, accuracy: 0.964900016784668\n"
     ]
    }
   ],
   "source": [
    "print(result)\n",
    "print(f\"testset 검증결과 - loss: {result[0]}, accuracy: {result[1]}\")\n",
    "# 검증결과: loss(오차) + compile시 지정한 metrics가 추가"
   ]
  },
  {
   "cell_type": "markdown",
   "metadata": {
    "slideshow": {
     "slide_type": "slide"
    }
   },
   "source": [
    "## 새로운 데이터 추론\n",
    "- 새로운 데이터를 추론하기 전에 학습데이터에 했던 전처리과정을 동일하게 적용 한 뒤 추론한다."
   ]
  },
  {
   "cell_type": "markdown",
   "metadata": {
    "slideshow": {
     "slide_type": "fragment"
    }
   },
   "source": [
    "### 추론 메소드\n",
    "- predict()\n",
    "    - **분류:** 각 클래스 별 확률 반환\n",
    "    - **회귀:** 최종 예측 결과\n",
    "- 분류문제일때 predict() 결과에서 class label 출력하기    \n",
    "    - 이진 분류(binary classification)\n",
    "        - `numpy.where(model.predict(x) > 0.5, 1, 0).astype(\"int32\")`\n",
    "    - 다중클래스 분류(multi-class classification)\n",
    "        - `numpy.argmax(model.predict(x), axis=1)`"
   ]
  },
  {
   "cell_type": "code",
   "execution_count": 28,
   "metadata": {
    "ExecuteTime": {
     "end_time": "2023-07-07T06:34:45.614232Z",
     "start_time": "2023-07-07T06:34:45.592264Z"
    },
    "colab": {
     "base_uri": "https://localhost:8080/"
    },
    "executionInfo": {
     "elapsed": 352,
     "status": "ok",
     "timestamp": 1707096749333,
     "user": {
      "displayName": "Sunghwan KIM",
      "userId": "06010856989212311727"
     },
     "user_tz": -540
    },
    "id": "ijJrWjyhXAh7",
    "outputId": "abf9506f-6af2-4514-b402-2497c33fefd0"
   },
   "outputs": [
    {
     "data": {
      "text/plain": [
       "(3, 28, 28)"
      ]
     },
     "execution_count": 28,
     "metadata": {},
     "output_type": "execute_result"
    }
   ],
   "source": [
    "X_new = X_test[:3]  #추론할 데이터들\n",
    "X_new.shape"
   ]
  },
  {
   "cell_type": "code",
   "execution_count": 29,
   "metadata": {
    "colab": {
     "base_uri": "https://localhost:8080/"
    },
    "executionInfo": {
     "elapsed": 3,
     "status": "ok",
     "timestamp": 1707096772616,
     "user": {
      "displayName": "Sunghwan KIM",
      "userId": "06010856989212311727"
     },
     "user_tz": -540
    },
    "id": "_8yWGP7E5UeJ",
    "outputId": "9ca776c0-3919-4579-868b-94316f2f43b3"
   },
   "outputs": [
    {
     "data": {
      "text/plain": [
       "(0.0, 1.0)"
      ]
     },
     "execution_count": 29,
     "metadata": {},
     "output_type": "execute_result"
    }
   ],
   "source": [
    "X_new.min(), X_new.max()"
   ]
  },
  {
   "cell_type": "code",
   "execution_count": 30,
   "metadata": {
    "colab": {
     "base_uri": "https://localhost:8080/"
    },
    "executionInfo": {
     "elapsed": 4,
     "status": "ok",
     "timestamp": 1707096827891,
     "user": {
      "displayName": "Sunghwan KIM",
      "userId": "06010856989212311727"
     },
     "user_tz": -540
    },
    "id": "tL_ix9pc5kDn",
    "outputId": "004d0da5-5936-46af-f83f-38faa10cbbf8"
   },
   "outputs": [
    {
     "data": {
      "text/plain": [
       "array([0., 0., 0., 0., 0., 0., 0., 1., 0., 0.], dtype=float32)"
      ]
     },
     "execution_count": 30,
     "metadata": {},
     "output_type": "execute_result"
    }
   ],
   "source": [
    "y_test[0]"
   ]
  },
  {
   "cell_type": "code",
   "execution_count": 31,
   "metadata": {
    "ExecuteTime": {
     "end_time": "2023-07-07T06:34:46.736003Z",
     "start_time": "2023-07-07T06:34:46.509910Z"
    },
    "colab": {
     "base_uri": "https://localhost:8080/"
    },
    "executionInfo": {
     "elapsed": 365,
     "status": "ok",
     "timestamp": 1707096868757,
     "user": {
      "displayName": "Sunghwan KIM",
      "userId": "06010856989212311727"
     },
     "user_tz": -540
    },
    "id": "OHIcTNHOXAh7",
    "outputId": "4414d59d-8a71-41e0-fd7d-f1afc31e1f3f"
   },
   "outputs": [
    {
     "name": "stdout",
     "output_type": "stream",
     "text": [
      "1/1 [==============================] - 0s 99ms/step\n"
     ]
    }
   ],
   "source": [
    "pred = model.predict(X_new)"
   ]
  },
  {
   "cell_type": "code",
   "execution_count": 24,
   "metadata": {
    "ExecuteTime": {
     "end_time": "2023-07-07T06:34:47.796747Z",
     "start_time": "2023-07-07T06:34:47.762977Z"
    },
    "colab": {
     "base_uri": "https://localhost:8080/"
    },
    "executionInfo": {
     "elapsed": 10,
     "status": "ok",
     "timestamp": 1707093855175,
     "user": {
      "displayName": "유성민/응용통계학과",
      "userId": "04114143840809416676"
     },
     "user_tz": -540
    },
    "id": "GhSajokewj_o",
    "outputId": "fe408616-dbac-4f1d-a7d1-33aea1be7a92"
   },
   "outputs": [
    {
     "name": "stdout",
     "output_type": "stream",
     "text": [
      "(3, 10)\n"
     ]
    },
    {
     "data": {
      "text/plain": [
       "array([[0.   , 0.   , 0.   , 0.006, 0.   , 0.   , 0.   , 0.993, 0.   ,\n",
       "        0.   ],\n",
       "       [0.   , 0.   , 0.994, 0.003, 0.   , 0.003, 0.   , 0.   , 0.   ,\n",
       "        0.   ],\n",
       "       [0.   , 0.989, 0.   , 0.   , 0.001, 0.002, 0.001, 0.005, 0.001,\n",
       "        0.   ]], dtype=float32)"
      ]
     },
     "execution_count": 24,
     "metadata": {},
     "output_type": "execute_result"
    }
   ],
   "source": [
    "print(pred.shape)\n",
    "np.round(pred, 3)"
   ]
  },
  {
   "cell_type": "code",
   "execution_count": 34,
   "metadata": {
    "ExecuteTime": {
     "end_time": "2023-07-07T06:34:47.796747Z",
     "start_time": "2023-07-07T06:34:47.762977Z"
    },
    "colab": {
     "base_uri": "https://localhost:8080/"
    },
    "executionInfo": {
     "elapsed": 328,
     "status": "ok",
     "timestamp": 1707096923225,
     "user": {
      "displayName": "Sunghwan KIM",
      "userId": "06010856989212311727"
     },
     "user_tz": -540
    },
    "id": "hWDZPsf-XAh7",
    "outputId": "6baf9263-1f97-4051-c7d1-e074e7dd6bb9"
   },
   "outputs": [
    {
     "name": "stdout",
     "output_type": "stream",
     "text": [
      "(3, 10)\n"
     ]
    },
    {
     "data": {
      "text/plain": [
       "array([0.   , 0.   , 0.   , 0.001, 0.   , 0.   , 0.   , 0.998, 0.   ,\n",
       "       0.   ], dtype=float32)"
      ]
     },
     "execution_count": 34,
     "metadata": {},
     "output_type": "execute_result"
    }
   ],
   "source": [
    "print(pred.shape)\n",
    "np.round(pred[0], 3)"
   ]
  },
  {
   "cell_type": "code",
   "execution_count": 35,
   "metadata": {
    "ExecuteTime": {
     "end_time": "2023-07-07T06:34:48.529732Z",
     "start_time": "2023-07-07T06:34:48.511901Z"
    },
    "colab": {
     "base_uri": "https://localhost:8080/"
    },
    "executionInfo": {
     "elapsed": 348,
     "status": "ok",
     "timestamp": 1707097213957,
     "user": {
      "displayName": "Sunghwan KIM",
      "userId": "06010856989212311727"
     },
     "user_tz": -540
    },
    "id": "XAJoq4i2XAh8",
    "outputId": "37e794ab-503f-4ac4-df21-fef5873d28ed"
   },
   "outputs": [
    {
     "data": {
      "text/plain": [
       "array([7, 2, 1])"
      ]
     },
     "execution_count": 35,
     "metadata": {},
     "output_type": "execute_result"
    }
   ],
   "source": [
    "np.argmax(pred, axis=1)"
   ]
  },
  {
   "cell_type": "code",
   "execution_count": 41,
   "metadata": {
    "ExecuteTime": {
     "end_time": "2023-07-07T06:34:49.652485Z",
     "start_time": "2023-07-07T06:34:49.634971Z"
    },
    "colab": {
     "base_uri": "https://localhost:8080/"
    },
    "executionInfo": {
     "elapsed": 2,
     "status": "ok",
     "timestamp": 1707097324078,
     "user": {
      "displayName": "Sunghwan KIM",
      "userId": "06010856989212311727"
     },
     "user_tz": -540
    },
    "id": "kT9iWUdtXAh8",
    "outputId": "b16dc147-ba18-4969-97d1-45351314c8ac"
   },
   "outputs": [
    {
     "data": {
      "text/plain": [
       "array([7, 2, 1])"
      ]
     },
     "execution_count": 41,
     "metadata": {},
     "output_type": "execute_result"
    }
   ],
   "source": [
    "np.argmax(y_test[:3], axis=-1)"
   ]
  },
  {
   "cell_type": "code",
   "execution_count": 40,
   "metadata": {
    "colab": {
     "base_uri": "https://localhost:8080/"
    },
    "executionInfo": {
     "elapsed": 330,
     "status": "ok",
     "timestamp": 1707097316310,
     "user": {
      "displayName": "Sunghwan KIM",
      "userId": "06010856989212311727"
     },
     "user_tz": -540
    },
    "id": "s5LIisuuXAh8",
    "outputId": "9632dcb9-05c2-44af-a525-6bda574af3c9"
   },
   "outputs": [
    {
     "data": {
      "text/plain": [
       "array([7, 2, 1], dtype=uint8)"
      ]
     },
     "execution_count": 40,
     "metadata": {},
     "output_type": "execute_result"
    }
   ],
   "source": [
    "test_label[:3]"
   ]
  }
 ],
 "metadata": {
  "kernelspec": {
   "display_name": "Python 3 (ipykernel)",
   "language": "python",
   "name": "python3"
  },
  "language_info": {
   "codemirror_mode": {
    "name": "ipython",
    "version": 3
   },
   "file_extension": ".py",
   "mimetype": "text/x-python",
   "name": "python",
   "nbconvert_exporter": "python",
   "pygments_lexer": "ipython3",
   "version": "3.11.5"
  },
  "toc": {
   "base_numbering": 1,
   "nav_menu": {},
   "number_sections": false,
   "sideBar": true,
   "skip_h1_title": false,
   "title_cell": "Table of Contents",
   "title_sidebar": "Contents",
   "toc_cell": false,
   "toc_position": {},
   "toc_section_display": true,
   "toc_window_display": false
  },
  "varInspector": {
   "cols": {
    "lenName": 16,
    "lenType": 16,
    "lenVar": 40
   },
   "kernels_config": {
    "python": {
     "delete_cmd_postfix": "",
     "delete_cmd_prefix": "del ",
     "library": "var_list.py",
     "varRefreshCmd": "print(var_dic_list())"
    },
    "r": {
     "delete_cmd_postfix": ") ",
     "delete_cmd_prefix": "rm(",
     "library": "var_list.r",
     "varRefreshCmd": "cat(var_dic_list()) "
    }
   },
   "types_to_exclude": [
    "module",
    "function",
    "builtin_function_or_method",
    "instance",
    "_Feature"
   ],
   "window_display": false
  }
 },
 "nbformat": 4,
 "nbformat_minor": 4
}
