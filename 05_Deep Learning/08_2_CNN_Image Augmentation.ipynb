{
 "cells": [
  {
   "cell_type": "markdown",
   "metadata": {
    "id": "N7dzZc_rYrhN"
   },
   "source": [
    "# CNN   small datasets 학습\n"
   ]
  },
  {
   "cell_type": "markdown",
   "metadata": {
    "id": "IZSgQnWLYrhV"
   },
   "source": [
    "- 딥러닝 모델은 대용량 데이터를 학습할 때 좋은 성능이 나온다. 그래서 학습할 Data가 적을 경우 좋은 성능을 내기가 어렵다.\n",
    "  - 딥러닝은 **다양한 패턴의 많은 개수**의 데이터를 통해 feature engineering 과정 없이 원하는 문제를 해결하는 모델이다.\n",
    "- Data가 많지 않아 학습에 어려움이 있을 때 사용 가능한 방법.\n",
    "    1. **Data augmentation 활용**\n",
    "        - 기존 데이터를 변경하여 데이터 개수를 늘린다.\n",
    "        - 이미지의 경우 원본 이미지의 색깔, 각도 등을 약간씩 변형한 이미지들을 추가로 만들어 data의 수를 늘린다.\n",
    "    2. **Pre-trained network의 활용**\n",
    "        - 매우 큰 데이터셋으로 미리 Training한 모델의 파라미터(가중치)를 가져와서 풀려는 문제에 맞게 모델을 재보정해서 사용한다.\n",
    "        - 성능이 좋은 학습된 모델을 사용하므로 적은 데이터에도 좋은 성능을 낼 수있다."
   ]
  },
  {
   "cell_type": "markdown",
   "metadata": {
    "id": "b8vvonb2YrhW"
   },
   "source": [
    "## Data for cats vs. dogs\n",
    "- 2013년 Kaggle의 computer vision competition data 활용 https://www.kaggle.com/c/dogs-vs-cats/data\n",
    "- 개와 고양이를 구분하기 위한 문제로 각 12,500개의 이미지를 포함\n",
    "- Medium-resolution color JPEGs\n",
    "- 25000장의 사진 중 4000장의 cats/dogs 사진(2000 cats, 2000 dogs) 만을 사용하여 학습하여 좋은 모형을 만들어 낼 수 있을까?\n",
    "    - 학습: 2000, 검증: 1000, 테스트: 1000\n",
    "    \n",
    "![cats_vs_dogs_samples](https://s3.amazonaws.com/book.keras.io/img/ch5/cats_vs_dogs_samples.jpg)"
   ]
  },
  {
   "cell_type": "markdown",
   "metadata": {
    "id": "Lz3IRzELYrhX"
   },
   "source": [
    "##### 이미지 다운로드\n",
    "- gdown 패키지 : 구글 드라이브의 공유파일 다운로드 패키지    \n",
    "- `pip install gdown`\n",
    "- 코랩에는 설치 되어 있음."
   ]
  },
  {
   "cell_type": "code",
   "execution_count": null,
   "metadata": {
    "ExecuteTime": {
     "end_time": "2024-02-05T15:04:00.486599Z",
     "start_time": "2024-02-05T15:03:59.205870Z"
    },
    "colab": {
     "base_uri": "https://localhost:8080/"
    },
    "executionInfo": {
     "elapsed": 5345,
     "status": "ok",
     "timestamp": 1707214112690,
     "user": {
      "displayName": "김성환",
      "userId": "02802166581970122576"
     },
     "user_tz": -540
    },
    "id": "zditZdln7tZN",
    "outputId": "96e5ad1d-78d4-4851-dc5d-982844afebfb"
   },
   "outputs": [],
   "source": [
    "!pip install gdown --upgrade"
   ]
  },
  {
   "cell_type": "code",
   "execution_count": 1,
   "metadata": {
    "colab": {
     "base_uri": "https://localhost:8080/"
    },
    "executionInfo": {
     "elapsed": 737,
     "status": "ok",
     "timestamp": 1707786114090,
     "user": {
      "displayName": "Sunghwan KIM",
      "userId": "06010856989212311727"
     },
     "user_tz": -540
    },
    "id": "59bgmS6j_AJP",
    "outputId": "325ac284-b3aa-45e1-ac22-fb62cfa973f8"
   },
   "outputs": [
    {
     "name": "stdout",
     "output_type": "stream",
     "text": [
      "4.7.3\n"
     ]
    }
   ],
   "source": [
    "import gdown\n",
    "from zipfile import ZipFile\n",
    "import os\n",
    "print(gdown.__version__)"
   ]
  },
  {
   "cell_type": "code",
   "execution_count": 8,
   "metadata": {
    "ExecuteTime": {
     "end_time": "2024-02-05T15:03:52.061776Z",
     "start_time": "2024-02-05T15:03:52.035399Z"
    },
    "colab": {
     "base_uri": "https://localhost:8080/"
    },
    "executionInfo": {
     "elapsed": 517,
     "status": "ok",
     "timestamp": 1707786222771,
     "user": {
      "displayName": "Sunghwan KIM",
      "userId": "06010856989212311727"
     },
     "user_tz": -540
    },
    "id": "dvrTkPMS8R5K",
    "outputId": "4c638e13-7d27-4549-b8a1-89a427a9610b"
   },
   "outputs": [
    {
     "name": "stdout",
     "output_type": "stream",
     "text": [
      "4.7.3\n"
     ]
    }
   ],
   "source": [
    "def down_extract(down_path='data/cats_and_dogs_small'):\n",
    "\n",
    "    url = 'https://drive.google.com/uc?id=1YIxDL0XJhhAMdScdRUfDgccAqyCw5-ZV'\n",
    "    fname = 'cats_and_dogs_small.zip'   # 다운받아서 저장할 파일 이름.\n",
    "    # 다운로드\n",
    "    gdown.download(url, fname, quiet=False)\n",
    "    # 압축풀기\n",
    "    with ZipFile(fname) as zipFile: # 압축파일의 경로를 넣어서  ZipFile 객체 생성\n",
    "        zipFile.extractall(down_path)  # 압축 풀 디렉토리 넣어서 실행."
   ]
  },
  {
   "cell_type": "code",
   "execution_count": null,
   "metadata": {
    "ExecuteTime": {
     "end_time": "2023-07-18T04:23:43.465015Z",
     "start_time": "2023-07-18T04:23:32.155134Z"
    },
    "colab": {
     "base_uri": "https://localhost:8080/"
    },
    "executionInfo": {
     "elapsed": 3349,
     "status": "ok",
     "timestamp": 1707214116034,
     "user": {
      "displayName": "김성환",
      "userId": "02802166581970122576"
     },
     "user_tz": -540
    },
    "id": "NfaqyC9Q-ESz",
    "outputId": "97419b06-1662-482a-f2bd-43f68b3da8e1"
   },
   "outputs": [],
   "source": [
    "down_extract()"
   ]
  },
  {
   "cell_type": "markdown",
   "metadata": {
    "id": "LwpGLGo1f9F-"
   },
   "source": [
    "# 하이퍼파라미터 정의"
   ]
  },
  {
   "cell_type": "code",
   "execution_count": null,
   "metadata": {
    "ExecuteTime": {
     "end_time": "2024-02-05T14:54:58.351316Z",
     "start_time": "2024-02-05T14:54:58.334308Z"
    },
    "executionInfo": {
     "elapsed": 13,
     "status": "ok",
     "timestamp": 1707214116035,
     "user": {
      "displayName": "김성환",
      "userId": "02802166581970122576"
     },
     "user_tz": -540
    },
    "id": "BkqMob8E7tZQ"
   },
   "outputs": [],
   "source": [
    "LEARNING_RATE = 0.001\n",
    "N_EPOCH = 10 # 200\n",
    "N_BATCH = 64"
   ]
  },
  {
   "cell_type": "markdown",
   "metadata": {
    "id": "2zBEjjWgYrha"
   },
   "source": [
    "## 모델 구현 및 학습\n",
    "\n",
    "- Input: $224 \\times 224$ 픽셀의 RGB layer\n",
    "- Output: cat or dog (binary classification)  \n",
    "- ImageDataGenerator를 이용해 파일시스템에 저장된 이미지 데이터셋을 학습시킨다."
   ]
  },
  {
   "cell_type": "code",
   "execution_count": null,
   "metadata": {
    "ExecuteTime": {
     "end_time": "2024-02-05T14:54:59.562783Z",
     "start_time": "2024-02-05T14:54:59.557511Z"
    },
    "executionInfo": {
     "elapsed": 12,
     "status": "ok",
     "timestamp": 1707214116035,
     "user": {
      "displayName": "김성환",
      "userId": "02802166581970122576"
     },
     "user_tz": -540
    },
    "id": "2Q5QMdVt7tZS"
   },
   "outputs": [],
   "source": [
    "import tensorflow as tf\n",
    "from tensorflow import keras\n",
    "from tensorflow.keras import layers, models, optimizers\n",
    "from tensorflow.keras.preprocessing.image import ImageDataGenerator\n",
    "import os\n",
    "import numpy as np\n",
    "import random\n",
    "\n",
    "random.seed(0)\n",
    "np.random.seed(0)\n",
    "tf.random.set_seed(0)"
   ]
  },
  {
   "cell_type": "code",
   "execution_count": null,
   "metadata": {
    "executionInfo": {
     "elapsed": 11,
     "status": "ok",
     "timestamp": 1707214116035,
     "user": {
      "displayName": "김성환",
      "userId": "02802166581970122576"
     },
     "user_tz": -540
    },
    "id": "NxgWCU8BtwIg"
   },
   "outputs": [],
   "source": [
    "def get_model():\n",
    "\n",
    "    dropout_rate = 0.3\n",
    "    model = keras.Sequential()\n",
    "\n",
    "    model.add(layers.Conv2D(filters=64, kernel_size=3, padding='same', activation='relu', input_shape=(224, 224, 3)))\n",
    "    model.add(layers.MaxPooling2D(padding='same'))\n",
    "\n",
    "    model.add(layers.Conv2D(filters=64, kernel_size=3, padding='same', activation='relu'))\n",
    "    model.add(layers.MaxPooling2D(padding='same'))\n",
    "\n",
    "    model.add(layers.Conv2D(filters=128, kernel_size=3, padding='same', activation='relu'))\n",
    "    model.add(layers.MaxPooling2D(padding='same'))\n",
    "\n",
    "    model.add(layers.Conv2D(filters=128, kernel_size=3, padding='same', activation='relu'))\n",
    "    model.add(layers.MaxPooling2D(padding='same'))\n",
    "\n",
    "    model.add(layers.Conv2D(filters=256, kernel_size=3, padding='same', activation='relu'))\n",
    "    model.add(layers.MaxPooling2D(padding='same'))\n",
    "\n",
    "    model.add(layers.Conv2D(filters=256, kernel_size=3, padding='same', activation='relu'))\n",
    "    model.add(layers.MaxPooling2D(padding='same'))\n",
    "\n",
    "    model.add(layers.Flatten())\n",
    "\n",
    "    # output layer - 다중분류\n",
    "    model.add(layers.Dense(units=2, activation='softmax', name='output'))\n",
    "\n",
    "    model.compile(optimizer=optimizers.Adam(learning_rate=LEARNING_RATE),\n",
    "                  loss='categorical_crossentropy',\n",
    "                  metrics=['accuracy'])\n",
    "    return model"
   ]
  },
  {
   "cell_type": "markdown",
   "metadata": {
    "id": "gRGa9ay4eAx6"
   },
   "source": [
    "# ImageDataGenerator 생성"
   ]
  },
  {
   "cell_type": "code",
   "execution_count": null,
   "metadata": {
    "ExecuteTime": {
     "end_time": "2023-07-18T04:24:17.179271Z",
     "start_time": "2023-07-18T04:24:17.171843Z"
    },
    "executionInfo": {
     "elapsed": 11,
     "status": "ok",
     "timestamp": 1707214116035,
     "user": {
      "displayName": "김성환",
      "userId": "02802166581970122576"
     },
     "user_tz": -540
    },
    "id": "56TWLKJxW_uJ"
   },
   "outputs": [],
   "source": [
    "# 데이터셋 디렉토리 경로\n",
    "trainset_dir = 'data/cats_and_dogs_small/train'\n",
    "valset_dir = 'data/cats_and_dogs_small/validation/'\n",
    "testset_dir = 'data/cats_and_dogs_small/test/'"
   ]
  },
  {
   "cell_type": "code",
   "execution_count": null,
   "metadata": {
    "ExecuteTime": {
     "end_time": "2023-07-18T04:24:18.847011Z",
     "start_time": "2023-07-18T04:24:18.492625Z"
    },
    "colab": {
     "base_uri": "https://localhost:8080/"
    },
    "executionInfo": {
     "elapsed": 394,
     "status": "ok",
     "timestamp": 1707377630394,
     "user": {
      "displayName": "Sunghwan KIM",
      "userId": "06010856989212311727"
     },
     "user_tz": -540
    },
    "id": "UWa-K0cG7tZT",
    "outputId": "992bb47d-8ca2-49b2-f65d-1e1ff2925b01"
   },
   "outputs": [
    {
     "name": "stdout",
     "output_type": "stream",
     "text": [
      "Found 2000 images belonging to 2 classes.\n",
      "Found 1000 images belonging to 2 classes.\n",
      "Found 1000 images belonging to 2 classes.\n"
     ]
    }
   ],
   "source": [
    "# image augmentation 적용하지 않음.\n",
    "train_datagen = ImageDataGenerator(rescale=1./255)\n",
    "test_datagen = ImageDataGenerator(rescale=1./255)\n",
    "val_datagen = ImageDataGenerator(rescale=1./255)\n",
    "\n",
    "# Iterator 생성->raw data파일과 연결.\n",
    "train_iter = train_datagen.flow_from_directory(trainset_dir,\n",
    "                                               target_size=(224,224),\n",
    "                                               class_mode='categorical',\n",
    "                                               batch_size=N_BATCH\n",
    "                                               )\n",
    "\n",
    "val_iter = val_datagen.flow_from_directory(valset_dir, target_size=(224, 224), class_mode='categorical', batch_size=N_BATCH)\n",
    "test_iter = test_datagen.flow_from_directory(testset_dir, target_size=(224, 224), class_mode='categorical', batch_size=N_BATCH)"
   ]
  },
  {
   "cell_type": "code",
   "execution_count": null,
   "metadata": {
    "ExecuteTime": {
     "end_time": "2023-07-18T04:24:27.199837Z",
     "start_time": "2023-07-18T04:24:27.180437Z"
    },
    "colab": {
     "base_uri": "https://localhost:8080/"
    },
    "executionInfo": {
     "elapsed": 382,
     "status": "ok",
     "timestamp": 1707377638868,
     "user": {
      "displayName": "Sunghwan KIM",
      "userId": "06010856989212311727"
     },
     "user_tz": -540
    },
    "id": "eYyEBXUiZyE_",
    "outputId": "d3457c54-8fa2-4ad9-99c9-9786d5ba62c8"
   },
   "outputs": [
    {
     "name": "stdout",
     "output_type": "stream",
     "text": [
      "==class index-class name확인\n",
      "{'cats': 0, 'dogs': 1}\n"
     ]
    }
   ],
   "source": [
    "print(\"==class index-class name확인\")\n",
    "print(train_iter.class_indices)"
   ]
  },
  {
   "cell_type": "code",
   "execution_count": null,
   "metadata": {
    "ExecuteTime": {
     "end_time": "2023-07-18T04:24:31.181094Z",
     "start_time": "2023-07-18T04:24:31.173735Z"
    },
    "colab": {
     "base_uri": "https://localhost:8080/"
    },
    "executionInfo": {
     "elapsed": 3,
     "status": "ok",
     "timestamp": 1707377640211,
     "user": {
      "displayName": "Sunghwan KIM",
      "userId": "06010856989212311727"
     },
     "user_tz": -540
    },
    "id": "mKatIZUNZ6hO",
    "outputId": "33480612-54b8-40c3-95b8-cc8edd21d039"
   },
   "outputs": [
    {
     "name": "stdout",
     "output_type": "stream",
     "text": [
      "==에폭당 step 수\n",
      "32 16 16\n"
     ]
    }
   ],
   "source": [
    "print('==에폭당 step 수')\n",
    "print(len(train_iter), len(val_iter), len(test_iter))"
   ]
  },
  {
   "cell_type": "markdown",
   "metadata": {
    "id": "AIfzRaBOYrhj"
   },
   "source": [
    "\n",
    "##  Model Training(학습)"
   ]
  },
  {
   "cell_type": "code",
   "execution_count": null,
   "metadata": {
    "ExecuteTime": {
     "end_time": "2023-07-18T04:29:29.188091Z",
     "start_time": "2023-07-18T04:29:29.171383Z"
    },
    "executionInfo": {
     "elapsed": 5,
     "status": "ok",
     "timestamp": 1707214116035,
     "user": {
      "displayName": "김성환",
      "userId": "02802166581970122576"
     },
     "user_tz": -540
    },
    "id": "kiUlSLsZ7tZU"
   },
   "outputs": [],
   "source": [
    "g_drive_path = '/content/drive/MyDrive/my_model'\n",
    "save_dir_path = os.path.join(g_drive_path, 'saved_model', 'cat_dog_model_no_aug')\n",
    "\n",
    "save_weight_path = os.path.join(save_dir_path, 'ckpt')\n",
    "\n",
    "mc_callback = keras.callbacks.ModelCheckpoint(filepath=save_weight_path,\n",
    "                                              save_weights_only=True,# 파라미터만 저장\n",
    "                                              save_best_only=True,\n",
    "                                              monitor='val_loss',\n",
    "                                              verbose=1)\n",
    "\n",
    "es_callback = keras.callbacks.EarlyStopping(monitor='val_loss', patience=10, verbose=1)"
   ]
  },
  {
   "cell_type": "code",
   "execution_count": null,
   "metadata": {
    "ExecuteTime": {
     "end_time": "2023-07-18T04:31:42.723611Z",
     "start_time": "2023-07-18T04:29:35.235120Z"
    },
    "colab": {
     "base_uri": "https://localhost:8080/"
    },
    "executionInfo": {
     "elapsed": 123582,
     "status": "ok",
     "timestamp": 1707377942492,
     "user": {
      "displayName": "Sunghwan KIM",
      "userId": "06010856989212311727"
     },
     "user_tz": -540
    },
    "id": "G7s9iKn1cz5t",
    "outputId": "7372ed19-8512-45a2-b858-cc2f0fa80531",
    "scrolled": true
   },
   "outputs": [
    {
     "name": "stdout",
     "output_type": "stream",
     "text": [
      "Epoch 1/10\n",
      "32/32 [==============================] - ETA: 0s - loss: 0.7012 - accuracy: 0.4880\n",
      "Epoch 1: val_loss improved from inf to 0.69311, saving model to /content/drive/MyDrive/my_model/saved_model/cat_dog_model_no_aug/ckpt\n",
      "32/32 [==============================] - 22s 395ms/step - loss: 0.7012 - accuracy: 0.4880 - val_loss: 0.6931 - val_accuracy: 0.5000\n",
      "Epoch 2/10\n",
      "32/32 [==============================] - ETA: 0s - loss: 0.6925 - accuracy: 0.5095\n",
      "Epoch 2: val_loss improved from 0.69311 to 0.68948, saving model to /content/drive/MyDrive/my_model/saved_model/cat_dog_model_no_aug/ckpt\n",
      "32/32 [==============================] - 8s 259ms/step - loss: 0.6925 - accuracy: 0.5095 - val_loss: 0.6895 - val_accuracy: 0.5530\n",
      "Epoch 3/10\n",
      "31/32 [============================>.] - ETA: 0s - loss: 0.6926 - accuracy: 0.5207\n",
      "Epoch 3: val_loss did not improve from 0.68948\n",
      "32/32 [==============================] - 9s 272ms/step - loss: 0.6926 - accuracy: 0.5205 - val_loss: 0.6924 - val_accuracy: 0.5120\n",
      "Epoch 4/10\n",
      "32/32 [==============================] - ETA: 0s - loss: 0.6809 - accuracy: 0.5730\n",
      "Epoch 4: val_loss improved from 0.68948 to 0.65922, saving model to /content/drive/MyDrive/my_model/saved_model/cat_dog_model_no_aug/ckpt\n",
      "32/32 [==============================] - 12s 388ms/step - loss: 0.6809 - accuracy: 0.5730 - val_loss: 0.6592 - val_accuracy: 0.6030\n",
      "Epoch 5/10\n",
      "32/32 [==============================] - ETA: 0s - loss: 0.6259 - accuracy: 0.6450\n",
      "Epoch 5: val_loss improved from 0.65922 to 0.64401, saving model to /content/drive/MyDrive/my_model/saved_model/cat_dog_model_no_aug/ckpt\n",
      "32/32 [==============================] - 12s 363ms/step - loss: 0.6259 - accuracy: 0.6450 - val_loss: 0.6440 - val_accuracy: 0.6460\n",
      "Epoch 6/10\n",
      "32/32 [==============================] - ETA: 0s - loss: 0.6297 - accuracy: 0.6570\n",
      "Epoch 6: val_loss did not improve from 0.64401\n",
      "32/32 [==============================] - 9s 270ms/step - loss: 0.6297 - accuracy: 0.6570 - val_loss: 0.6659 - val_accuracy: 0.6360\n",
      "Epoch 7/10\n",
      "32/32 [==============================] - ETA: 0s - loss: 0.6366 - accuracy: 0.6415\n",
      "Epoch 7: val_loss did not improve from 0.64401\n",
      "32/32 [==============================] - 8s 256ms/step - loss: 0.6366 - accuracy: 0.6415 - val_loss: 0.6479 - val_accuracy: 0.6120\n",
      "Epoch 8/10\n",
      "32/32 [==============================] - ETA: 0s - loss: 0.6300 - accuracy: 0.6675\n",
      "Epoch 8: val_loss improved from 0.64401 to 0.64325, saving model to /content/drive/MyDrive/my_model/saved_model/cat_dog_model_no_aug/ckpt\n",
      "32/32 [==============================] - 12s 384ms/step - loss: 0.6300 - accuracy: 0.6675 - val_loss: 0.6433 - val_accuracy: 0.6530\n",
      "Epoch 9/10\n",
      "32/32 [==============================] - ETA: 0s - loss: 0.6064 - accuracy: 0.6655\n",
      "Epoch 9: val_loss improved from 0.64325 to 0.62870, saving model to /content/drive/MyDrive/my_model/saved_model/cat_dog_model_no_aug/ckpt\n",
      "32/32 [==============================] - 9s 269ms/step - loss: 0.6064 - accuracy: 0.6655 - val_loss: 0.6287 - val_accuracy: 0.6670\n",
      "Epoch 10/10\n",
      "32/32 [==============================] - ETA: 0s - loss: 0.5617 - accuracy: 0.7110\n",
      "Epoch 10: val_loss improved from 0.62870 to 0.60823, saving model to /content/drive/MyDrive/my_model/saved_model/cat_dog_model_no_aug/ckpt\n",
      "32/32 [==============================] - 9s 277ms/step - loss: 0.5617 - accuracy: 0.7110 - val_loss: 0.6082 - val_accuracy: 0.6920\n"
     ]
    }
   ],
   "source": [
    "model = get_model()\n",
    "hist = model.fit(train_iter,    # trainset으로 iterator 지정. (X, y)\n",
    "                 epochs=N_EPOCH,\n",
    "                 steps_per_epoch=len(train_iter), # train 1 epoch당 step수\n",
    "                 validation_data=val_iter,  # 검증 데이터셋 지정.\n",
    "                 validation_steps=len(val_iter), # step 수\n",
    "                 callbacks=[mc_callback, es_callback]\n",
    "                 )"
   ]
  },
  {
   "cell_type": "code",
   "execution_count": null,
   "metadata": {
    "ExecuteTime": {
     "end_time": "2023-07-18T04:32:01.200539Z",
     "start_time": "2023-07-18T04:32:00.410809Z"
    },
    "colab": {
     "base_uri": "https://localhost:8080/",
     "height": 522
    },
    "executionInfo": {
     "elapsed": 1106,
     "status": "ok",
     "timestamp": 1707378260976,
     "user": {
      "displayName": "Sunghwan KIM",
      "userId": "06010856989212311727"
     },
     "user_tz": -540
    },
    "id": "S9XoQeNDczwi",
    "outputId": "94669b48-e51e-42e7-95fb-f597cd05ceb0"
   },
   "outputs": [
    {
     "data": {
      "image/png": "[encoded data removed]",
      "text/plain": [
       "<Figure size 1000x600 with 1 Axes>"
      ]
     },
     "metadata": {},
     "output_type": "display_data"
    }
   ],
   "source": [
    "import matplotlib.pyplot as plt\n",
    "\n",
    "plt.figure(figsize=(10, 6))\n",
    "plt.plot(hist.epoch, hist.history['loss'], label='train')\n",
    "plt.plot(hist.epoch, hist.history['val_loss'], label='validation')\n",
    "plt.legend()\n",
    "plt.show()"
   ]
  },
  {
   "cell_type": "markdown",
   "metadata": {
    "executionInfo": {
     "elapsed": 308,
     "status": "ok",
     "timestamp": 1631154596465,
     "user": {
      "displayName": "김성환",
      "photoUrl": "",
      "userId": "17974227978557155744"
     },
     "user_tz": -540
    },
    "id": "W7zoPdxDYw_D"
   },
   "source": [
    "##### 저장된 모델 조회"
   ]
  },
  {
   "cell_type": "code",
   "execution_count": null,
   "metadata": {
    "ExecuteTime": {
     "end_time": "2023-07-18T04:32:28.371451Z",
     "start_time": "2023-07-18T04:32:11.633224Z"
    },
    "colab": {
     "base_uri": "https://localhost:8080/"
    },
    "executionInfo": {
     "elapsed": 3248,
     "status": "ok",
     "timestamp": 1707378300705,
     "user": {
      "displayName": "Sunghwan KIM",
      "userId": "06010856989212311727"
     },
     "user_tz": -540
    },
    "id": "mIdENT0L7tZV",
    "outputId": "ef527735-4e3a-4aec-aaa1-ee0ac6a400f2"
   },
   "outputs": [
    {
     "name": "stdout",
     "output_type": "stream",
     "text": [
      "16/16 [==============================] - 3s 157ms/step - loss: 0.6930 - accuracy: 0.4980\n"
     ]
    },
    {
     "data": {
      "text/plain": [
       "[0.6930402517318726, 0.49799999594688416]"
      ]
     },
     "execution_count": 16,
     "metadata": {},
     "output_type": "execute_result"
    }
   ],
   "source": [
    "# 모델 생성\n",
    "saved_model1 = get_model()\n",
    "saved_model1.evaluate(test_iter)"
   ]
  },
  {
   "cell_type": "code",
   "execution_count": null,
   "metadata": {
    "ExecuteTime": {
     "end_time": "2023-07-18T04:32:43.605323Z",
     "start_time": "2023-07-18T04:32:31.314179Z"
    },
    "colab": {
     "base_uri": "https://localhost:8080/"
    },
    "executionInfo": {
     "elapsed": 2737,
     "status": "ok",
     "timestamp": 1707378327708,
     "user": {
      "displayName": "Sunghwan KIM",
      "userId": "06010856989212311727"
     },
     "user_tz": -540
    },
    "id": "_NU4Zd3ejrRW",
    "outputId": "e0788e40-7225-4e6c-bf7a-57f5496677fc"
   },
   "outputs": [
    {
     "name": "stdout",
     "output_type": "stream",
     "text": [
      "16/16 [==============================] - 3s 159ms/step - loss: 0.6222 - accuracy: 0.6670\n"
     ]
    },
    {
     "data": {
      "text/plain": [
       "[0.6221778392791748, 0.6669999957084656]"
      ]
     },
     "execution_count": 17,
     "metadata": {},
     "output_type": "execute_result"
    }
   ],
   "source": [
    "# 새로 생성된 모델에 저장 best wegith 덮어씌우기\n",
    "saved_model1.load_weights(save_weight_path)\n",
    "\n",
    "saved_model1.evaluate(test_iter)"
   ]
  },
  {
   "cell_type": "markdown",
   "metadata": {
    "id": "yPb0Ky5jZ9uU"
   },
   "source": [
    "# 새로운 데이터 추론"
   ]
  },
  {
   "cell_type": "code",
   "execution_count": null,
   "metadata": {
    "ExecuteTime": {
     "end_time": "2023-07-18T04:33:32.451325Z",
     "start_time": "2023-07-18T04:33:32.442920Z"
    },
    "executionInfo": {
     "elapsed": 10,
     "status": "ok",
     "timestamp": 1707214265474,
     "user": {
      "displayName": "김성환",
      "userId": "02802166581970122576"
     },
     "user_tz": -540
    },
    "id": "iOnFXKugllVm"
   },
   "outputs": [],
   "source": [
    "from tensorflow.keras.preprocessing.image import load_img, img_to_array\n",
    "\n",
    "def load_preprocessing(image_path):\n",
    "    \"\"\"\n",
    "    경로의 이미지를 읽어서 전처리(scaling) 한 뒤 반환.\n",
    "    [Parameter]\n",
    "       image_path: str - 변환할 이미지 경로(Path)\n",
    "    [Return]\n",
    "       ndarray: 전처리한 이미지\n",
    "    \"\"\"\n",
    "    raw_img = load_img(image_path, target_size=(224,224))\n",
    "    img_array = img_to_array(raw_img) # PIL ImageFile -> ndarray (224, 224, 3)\n",
    "    img_array = img_array[np.newaxis, ...] # 3차원-4차원 (224,224,3)=>(1, 224,224,3)\n",
    "    img_array = img_array.astype('float32')/255 # 전처리. float32변환, /225 (scaling)\n",
    "    return img_array"
   ]
  },
  {
   "cell_type": "code",
   "execution_count": null,
   "metadata": {
    "id": "5AvgOCOvzmiI"
   },
   "outputs": [],
   "source": [
    "img = load_preprocessing(\"img/a.jpg\")\n",
    "pred = model.predict(img)\n",
    "result = result_postprocessing(pred)"
   ]
  },
  {
   "cell_type": "code",
   "execution_count": null,
   "metadata": {
    "executionInfo": {
     "elapsed": 10,
     "status": "ok",
     "timestamp": 1707214265474,
     "user": {
      "displayName": "김성환",
      "userId": "02802166581970122576"
     },
     "user_tz": -540
    },
    "id": "YLtqiiJVtwIj"
   },
   "outputs": [],
   "source": [
    "def result_postprocessing(pred):\n",
    "    \"\"\"\n",
    "    모델이 추론한 결과를 받아서 결과 문자열을 만들어 반환\n",
    "\n",
    "    [Parameter]\n",
    "        pred: ndarray - 모델 추론 결과. idx 0: 고양이 확률, 1: 개 확률\n",
    "    [Return]\n",
    "        str: 결과 후처리. 형식: \"label: 0, name: cats, 확률: 0.8\"\n",
    "\n",
    "    \"\"\"\n",
    "    index2classname = np.array([k for k in train_iter.class_indices.keys()])\n",
    "    label = np.argmax(pred, axis=-1)\n",
    "    prob = np.max(pred, axis=-1)\n",
    "    label_name = index2classname[label]\n",
    "    return f\"label: {label}, name: {label_name}, 확률: {prob}\""
   ]
  },
  {
   "cell_type": "code",
   "execution_count": null,
   "metadata": {
    "ExecuteTime": {
     "end_time": "2023-07-18T04:33:33.479710Z",
     "start_time": "2023-07-18T04:33:33.138076Z"
    },
    "colab": {
     "base_uri": "https://localhost:8080/"
    },
    "executionInfo": {
     "elapsed": 9,
     "status": "ok",
     "timestamp": 1707214265474,
     "user": {
      "displayName": "김성환",
      "userId": "02802166581970122576"
     },
     "user_tz": -540
    },
    "id": "swskb-I87tZV",
    "outputId": "bb049f8f-f5c7-442e-94fb-1fca9b362f92"
   },
   "outputs": [],
   "source": [
    "new_img_path = 'dog.jpg'\n",
    "new_img_path = 'cat.jpg'\n",
    "new_X = load_preprocessing(new_img_path)\n",
    "\n",
    "pred = saved_model1.predict(new_X)\n",
    "print(pred)\n",
    "print(result_postprocessing(pred))"
   ]
  },
  {
   "cell_type": "markdown",
   "metadata": {
    "id": "9fAwTvdIYrhm"
   },
   "source": [
    "# Image data augmentation 사용\n",
    "\n",
    "- 학습 이미지의 수가 적어서 overfitting이 발생할 가능성을 줄이기 위해 기존 훈련 데이터로부터 그럴듯하게 이미지 변환을 통해서 이미지(데이터)를 늘리는 작업을 Image augmentation\n",
    "- train_set에만 적용, validation, test set에는 적용하지 않는다. (rescaling만 한다.)"
   ]
  },
  {
   "cell_type": "markdown",
   "metadata": {
    "id": "Twoi5hPj7tZW"
   },
   "source": [
    "##### ImageDataGenerator 생성"
   ]
  },
  {
   "cell_type": "code",
   "execution_count": null,
   "metadata": {
    "ExecuteTime": {
     "end_time": "2023-07-18T04:33:47.643121Z",
     "start_time": "2023-07-18T04:33:47.623864Z"
    },
    "executionInfo": {
     "elapsed": 7,
     "status": "ok",
     "timestamp": 1707214265474,
     "user": {
      "displayName": "김성환",
      "userId": "02802166581970122576"
     },
     "user_tz": -540
    },
    "id": "G9Z1V9rq7tZW"
   },
   "outputs": [],
   "source": [
    "# 데이터셋 디렉토리 경로\n",
    "trainset_dir = 'data/cats_and_dogs_small/train'\n",
    "valset_dir = 'data/cats_and_dogs_small/validation/'\n",
    "testset_dir = 'data/cats_and_dogs_small/test/'"
   ]
  },
  {
   "cell_type": "code",
   "execution_count": null,
   "metadata": {
    "ExecuteTime": {
     "end_time": "2023-07-18T04:33:48.404798Z",
     "start_time": "2023-07-18T04:33:48.394820Z"
    },
    "executionInfo": {
     "elapsed": 7,
     "status": "ok",
     "timestamp": 1707214265474,
     "user": {
      "displayName": "김성환",
      "userId": "02802166581970122576"
     },
     "user_tz": -540
    },
    "id": "PoJUgbl4t6wf"
   },
   "outputs": [],
   "source": [
    "# Image Augmentation 적용.\n",
    "train_datagen2 = ImageDataGenerator(rescale=1./255,\n",
    "                                    rotation_range=40,\n",
    "                                    width_shift_range=0.2,\n",
    "                                    height_shift_range=0.2,\n",
    "                                    zoom_range=0.2,\n",
    "                                    horizontal_flip=True,\n",
    "                                    fill_mode='constant')\n",
    "\n",
    "val_datagen2 = ImageDataGenerator(rescale=1./255)\n",
    "test_datagen2 = ImageDataGenerator(rescale=1./255)"
   ]
  },
  {
   "cell_type": "code",
   "execution_count": null,
   "metadata": {
    "ExecuteTime": {
     "end_time": "2023-07-18T04:33:50.342886Z",
     "start_time": "2023-07-18T04:33:50.002130Z"
    },
    "colab": {
     "base_uri": "https://localhost:8080/"
    },
    "executionInfo": {
     "elapsed": 334,
     "status": "ok",
     "timestamp": 1707378407713,
     "user": {
      "displayName": "Sunghwan KIM",
      "userId": "06010856989212311727"
     },
     "user_tz": -540
    },
    "id": "wZ9YWljTu_jQ",
    "outputId": "5ff3a8fd-abd3-4d89-8ee7-cdd5615218ff"
   },
   "outputs": [
    {
     "name": "stdout",
     "output_type": "stream",
     "text": [
      "Found 2000 images belonging to 2 classes.\n",
      "Found 1000 images belonging to 2 classes.\n",
      "Found 1000 images belonging to 2 classes.\n"
     ]
    }
   ],
   "source": [
    "train_iter2 = train_datagen2.flow_from_directory(trainset_dir, target_size=(224,224), class_mode='categorical', batch_size=N_BATCH)\n",
    "\n",
    "val_iter2 = val_datagen2.flow_from_directory(valset_dir, target_size=(224,224), class_mode='categorical', batch_size=N_BATCH)\n",
    "\n",
    "test_iter2 = test_datagen2.flow_from_directory(testset_dir, target_size=(224,224), class_mode='categorical', batch_size=N_BATCH)"
   ]
  },
  {
   "cell_type": "markdown",
   "metadata": {
    "executionInfo": {
     "elapsed": 277,
     "status": "ok",
     "timestamp": 1631158426700,
     "user": {
      "displayName": "김성환",
      "photoUrl": "",
      "userId": "17974227978557155744"
     },
     "user_tz": -540
    },
    "id": "NI8tn-1cWqrR"
   },
   "source": [
    "##### 모델 생성, 컴파일, 학습"
   ]
  },
  {
   "cell_type": "code",
   "execution_count": null,
   "metadata": {
    "ExecuteTime": {
     "end_time": "2023-07-18T04:36:19.990510Z",
     "start_time": "2023-07-18T04:33:56.547385Z"
    },
    "colab": {
     "base_uri": "https://localhost:8080/"
    },
    "executionInfo": {
     "elapsed": 1409061,
     "status": "ok",
     "timestamp": 1707380774727,
     "user": {
      "displayName": "Sunghwan KIM",
      "userId": "06010856989212311727"
     },
     "user_tz": -540
    },
    "id": "TOdsKmnu7tZX",
    "outputId": "129bd02e-09c3-4051-f4eb-d267f7d0eda4",
    "scrolled": true
   },
   "outputs": [
    {
     "name": "stdout",
     "output_type": "stream",
     "text": [
      "Epoch 1/200\n",
      "32/32 [==============================] - ETA: 0s - loss: 0.6969 - accuracy: 0.4910\n",
      "Epoch 1: val_loss improved from inf to 0.69221, saving model to /content/drive/MyDrive/my_model/saved_model/cat_dog_model_aug\n",
      "32/32 [==============================] - 29s 845ms/step - loss: 0.6969 - accuracy: 0.4910 - val_loss: 0.6922 - val_accuracy: 0.5060\n",
      "Epoch 2/200\n",
      "32/32 [==============================] - ETA: 0s - loss: 0.6933 - accuracy: 0.5270\n",
      "Epoch 2: val_loss did not improve from 0.69221\n",
      "32/32 [==============================] - 26s 818ms/step - loss: 0.6933 - accuracy: 0.5270 - val_loss: 0.6931 - val_accuracy: 0.4910\n",
      "Epoch 3/200\n",
      "32/32 [==============================] - ETA: 0s - loss: 0.6892 - accuracy: 0.5380\n",
      "Epoch 3: val_loss did not improve from 0.69221\n",
      "32/32 [==============================] - 26s 820ms/step - loss: 0.6892 - accuracy: 0.5380 - val_loss: 0.6939 - val_accuracy: 0.5000\n",
      "Epoch 4/200\n",
      "32/32 [==============================] - ETA: 0s - loss: 0.6911 - accuracy: 0.5250\n",
      "Epoch 4: val_loss improved from 0.69221 to 0.68768, saving model to /content/drive/MyDrive/my_model/saved_model/cat_dog_model_aug\n",
      "32/32 [==============================] - 28s 852ms/step - loss: 0.6911 - accuracy: 0.5250 - val_loss: 0.6877 - val_accuracy: 0.5750\n",
      "Epoch 5/200\n",
      "32/32 [==============================] - ETA: 0s - loss: 0.6887 - accuracy: 0.5615\n",
      "Epoch 5: val_loss did not improve from 0.68768\n",
      "32/32 [==============================] - 26s 814ms/step - loss: 0.6887 - accuracy: 0.5615 - val_loss: 0.6900 - val_accuracy: 0.5590\n",
      "Epoch 6/200\n",
      "32/32 [==============================] - ETA: 0s - loss: 0.6936 - accuracy: 0.5325\n",
      "Epoch 6: val_loss did not improve from 0.68768\n",
      "32/32 [==============================] - 26s 814ms/step - loss: 0.6936 - accuracy: 0.5325 - val_loss: 0.6921 - val_accuracy: 0.5140\n",
      "Epoch 7/200\n",
      "32/32 [==============================] - ETA: 0s - loss: 0.6882 - accuracy: 0.5315\n",
      "Epoch 7: val_loss improved from 0.68768 to 0.68113, saving model to /content/drive/MyDrive/my_model/saved_model/cat_dog_model_aug\n",
      "32/32 [==============================] - 30s 947ms/step - loss: 0.6882 - accuracy: 0.5315 - val_loss: 0.6811 - val_accuracy: 0.5860\n",
      "Epoch 8/200\n",
      "32/32 [==============================] - ETA: 0s - loss: 0.6816 - accuracy: 0.5670\n",
      "Epoch 8: val_loss improved from 0.68113 to 0.67414, saving model to /content/drive/MyDrive/my_model/saved_model/cat_dog_model_aug\n",
      "32/32 [==============================] - 27s 852ms/step - loss: 0.6816 - accuracy: 0.5670 - val_loss: 0.6741 - val_accuracy: 0.5600\n",
      "Epoch 9/200\n",
      "32/32 [==============================] - ETA: 0s - loss: 0.6721 - accuracy: 0.5780\n",
      "Epoch 9: val_loss did not improve from 0.67414\n",
      "32/32 [==============================] - 26s 818ms/step - loss: 0.6721 - accuracy: 0.5780 - val_loss: 0.6823 - val_accuracy: 0.6180\n",
      "Epoch 10/200\n",
      "32/32 [==============================] - ETA: 0s - loss: 0.6661 - accuracy: 0.6030\n",
      "Epoch 10: val_loss improved from 0.67414 to 0.65603, saving model to /content/drive/MyDrive/my_model/saved_model/cat_dog_model_aug\n",
      "32/32 [==============================] - 28s 877ms/step - loss: 0.6661 - accuracy: 0.6030 - val_loss: 0.6560 - val_accuracy: 0.6180\n",
      "Epoch 11/200\n",
      "32/32 [==============================] - ETA: 0s - loss: 0.6606 - accuracy: 0.6085\n",
      "Epoch 11: val_loss did not improve from 0.65603\n",
      "32/32 [==============================] - 26s 809ms/step - loss: 0.6606 - accuracy: 0.6085 - val_loss: 0.6935 - val_accuracy: 0.5870\n",
      "Epoch 12/200\n",
      "32/32 [==============================] - ETA: 0s - loss: 0.6572 - accuracy: 0.6160\n",
      "Epoch 12: val_loss improved from 0.65603 to 0.65569, saving model to /content/drive/MyDrive/my_model/saved_model/cat_dog_model_aug\n",
      "32/32 [==============================] - 27s 833ms/step - loss: 0.6572 - accuracy: 0.6160 - val_loss: 0.6557 - val_accuracy: 0.6390\n",
      "Epoch 13/200\n",
      "32/32 [==============================] - ETA: 0s - loss: 0.6450 - accuracy: 0.6270\n",
      "Epoch 13: val_loss did not improve from 0.65569\n",
      "32/32 [==============================] - 26s 801ms/step - loss: 0.6450 - accuracy: 0.6270 - val_loss: 0.6901 - val_accuracy: 0.5840\n",
      "Epoch 14/200\n",
      "32/32 [==============================] - ETA: 0s - loss: 0.6709 - accuracy: 0.5980\n",
      "Epoch 14: val_loss did not improve from 0.65569\n",
      "32/32 [==============================] - 26s 799ms/step - loss: 0.6709 - accuracy: 0.5980 - val_loss: 0.6651 - val_accuracy: 0.6170\n",
      "Epoch 15/200\n",
      "32/32 [==============================] - ETA: 0s - loss: 0.6604 - accuracy: 0.6075\n",
      "Epoch 15: val_loss did not improve from 0.65569\n",
      "32/32 [==============================] - 26s 802ms/step - loss: 0.6604 - accuracy: 0.6075 - val_loss: 0.6827 - val_accuracy: 0.5460\n",
      "Epoch 16/200\n",
      "32/32 [==============================] - ETA: 0s - loss: 0.6509 - accuracy: 0.6275\n",
      "Epoch 16: val_loss improved from 0.65569 to 0.64870, saving model to /content/drive/MyDrive/my_model/saved_model/cat_dog_model_aug\n",
      "32/32 [==============================] - 29s 912ms/step - loss: 0.6509 - accuracy: 0.6275 - val_loss: 0.6487 - val_accuracy: 0.6230\n",
      "Epoch 17/200\n",
      "32/32 [==============================] - ETA: 0s - loss: 0.6633 - accuracy: 0.5795\n",
      "Epoch 17: val_loss did not improve from 0.64870\n",
      "32/32 [==============================] - 25s 795ms/step - loss: 0.6633 - accuracy: 0.5795 - val_loss: 0.6999 - val_accuracy: 0.5380\n",
      "Epoch 18/200\n",
      "32/32 [==============================] - ETA: 0s - loss: 0.6881 - accuracy: 0.5280\n",
      "Epoch 18: val_loss did not improve from 0.64870\n",
      "32/32 [==============================] - 26s 806ms/step - loss: 0.6881 - accuracy: 0.5280 - val_loss: 0.6887 - val_accuracy: 0.5300\n",
      "Epoch 19/200\n",
      "32/32 [==============================] - ETA: 0s - loss: 0.6828 - accuracy: 0.5615\n",
      "Epoch 19: val_loss did not improve from 0.64870\n",
      "32/32 [==============================] - 27s 858ms/step - loss: 0.6828 - accuracy: 0.5615 - val_loss: 0.6764 - val_accuracy: 0.6230\n",
      "Epoch 20/200\n",
      "32/32 [==============================] - ETA: 0s - loss: 0.6546 - accuracy: 0.6205\n",
      "Epoch 20: val_loss improved from 0.64870 to 0.64316, saving model to /content/drive/MyDrive/my_model/saved_model/cat_dog_model_aug\n",
      "32/32 [==============================] - 28s 875ms/step - loss: 0.6546 - accuracy: 0.6205 - val_loss: 0.6432 - val_accuracy: 0.6280\n",
      "Epoch 21/200\n",
      "32/32 [==============================] - ETA: 0s - loss: 0.6484 - accuracy: 0.6265\n",
      "Epoch 21: val_loss did not improve from 0.64316\n",
      "32/32 [==============================] - 26s 820ms/step - loss: 0.6484 - accuracy: 0.6265 - val_loss: 0.6503 - val_accuracy: 0.6210\n",
      "Epoch 22/200\n",
      "32/32 [==============================] - ETA: 0s - loss: 0.6281 - accuracy: 0.6515\n",
      "Epoch 22: val_loss did not improve from 0.64316\n",
      "32/32 [==============================] - 28s 904ms/step - loss: 0.6281 - accuracy: 0.6515 - val_loss: 0.6732 - val_accuracy: 0.5940\n",
      "Epoch 23/200\n",
      "32/32 [==============================] - ETA: 0s - loss: 0.6373 - accuracy: 0.6395\n",
      "Epoch 23: val_loss improved from 0.64316 to 0.62554, saving model to /content/drive/MyDrive/my_model/saved_model/cat_dog_model_aug\n",
      "32/32 [==============================] - 27s 838ms/step - loss: 0.6373 - accuracy: 0.6395 - val_loss: 0.6255 - val_accuracy: 0.6760\n",
      "Epoch 24/200\n",
      "32/32 [==============================] - ETA: 0s - loss: 0.6294 - accuracy: 0.6445\n",
      "Epoch 24: val_loss did not improve from 0.62554\n",
      "32/32 [==============================] - 26s 801ms/step - loss: 0.6294 - accuracy: 0.6445 - val_loss: 0.6320 - val_accuracy: 0.6510\n",
      "Epoch 25/200\n",
      "32/32 [==============================] - ETA: 0s - loss: 0.6178 - accuracy: 0.6660\n",
      "Epoch 25: val_loss improved from 0.62554 to 0.61289, saving model to /content/drive/MyDrive/my_model/saved_model/cat_dog_model_aug\n",
      "32/32 [==============================] - 28s 873ms/step - loss: 0.6178 - accuracy: 0.6660 - val_loss: 0.6129 - val_accuracy: 0.6700\n",
      "Epoch 26/200\n",
      "32/32 [==============================] - ETA: 0s - loss: 0.6078 - accuracy: 0.6630\n",
      "Epoch 26: val_loss improved from 0.61289 to 0.57983, saving model to /content/drive/MyDrive/my_model/saved_model/cat_dog_model_aug\n",
      "32/32 [==============================] - 27s 836ms/step - loss: 0.6078 - accuracy: 0.6630 - val_loss: 0.5798 - val_accuracy: 0.7050\n",
      "Epoch 27/200\n",
      "32/32 [==============================] - ETA: 0s - loss: 0.5945 - accuracy: 0.6790\n",
      "Epoch 27: val_loss did not improve from 0.57983\n",
      "32/32 [==============================] - 26s 805ms/step - loss: 0.5945 - accuracy: 0.6790 - val_loss: 0.6113 - val_accuracy: 0.6650\n",
      "Epoch 28/200\n",
      "32/32 [==============================] - ETA: 0s - loss: 0.5754 - accuracy: 0.7055\n",
      "Epoch 28: val_loss improved from 0.57983 to 0.56121, saving model to /content/drive/MyDrive/my_model/saved_model/cat_dog_model_aug\n",
      "32/32 [==============================] - 28s 873ms/step - loss: 0.5754 - accuracy: 0.7055 - val_loss: 0.5612 - val_accuracy: 0.7140\n",
      "Epoch 29/200\n",
      "32/32 [==============================] - ETA: 0s - loss: 0.5620 - accuracy: 0.7160\n",
      "Epoch 29: val_loss improved from 0.56121 to 0.54737, saving model to /content/drive/MyDrive/my_model/saved_model/cat_dog_model_aug\n",
      "32/32 [==============================] - 27s 853ms/step - loss: 0.5620 - accuracy: 0.7160 - val_loss: 0.5474 - val_accuracy: 0.7280\n",
      "Epoch 30/200\n",
      "32/32 [==============================] - ETA: 0s - loss: 0.5752 - accuracy: 0.6945\n",
      "Epoch 30: val_loss did not improve from 0.54737\n",
      "32/32 [==============================] - 28s 885ms/step - loss: 0.5752 - accuracy: 0.6945 - val_loss: 0.5580 - val_accuracy: 0.7150\n",
      "Epoch 31/200\n",
      "32/32 [==============================] - ETA: 0s - loss: 0.5649 - accuracy: 0.7010\n",
      "Epoch 31: val_loss did not improve from 0.54737\n",
      "32/32 [==============================] - 31s 982ms/step - loss: 0.5649 - accuracy: 0.7010 - val_loss: 0.5596 - val_accuracy: 0.7050\n",
      "Epoch 32/200\n",
      "32/32 [==============================] - ETA: 0s - loss: 0.5586 - accuracy: 0.7225\n",
      "Epoch 32: val_loss did not improve from 0.54737\n",
      "32/32 [==============================] - 31s 973ms/step - loss: 0.5586 - accuracy: 0.7225 - val_loss: 0.5837 - val_accuracy: 0.6940\n",
      "Epoch 33/200\n",
      "32/32 [==============================] - ETA: 0s - loss: 0.5627 - accuracy: 0.7170\n",
      "Epoch 33: val_loss did not improve from 0.54737\n",
      "32/32 [==============================] - 30s 926ms/step - loss: 0.5627 - accuracy: 0.7170 - val_loss: 0.5699 - val_accuracy: 0.7120\n",
      "Epoch 34/200\n",
      "32/32 [==============================] - ETA: 0s - loss: 0.5479 - accuracy: 0.7350\n",
      "Epoch 34: val_loss improved from 0.54737 to 0.51085, saving model to /content/drive/MyDrive/my_model/saved_model/cat_dog_model_aug\n",
      "32/32 [==============================] - 30s 939ms/step - loss: 0.5479 - accuracy: 0.7350 - val_loss: 0.5108 - val_accuracy: 0.7490\n",
      "Epoch 35/200\n",
      "32/32 [==============================] - ETA: 0s - loss: 0.5281 - accuracy: 0.7395\n",
      "Epoch 35: val_loss did not improve from 0.51085\n",
      "32/32 [==============================] - 35s 1s/step - loss: 0.5281 - accuracy: 0.7395 - val_loss: 0.5328 - val_accuracy: 0.7360\n",
      "Epoch 36/200\n",
      "32/32 [==============================] - ETA: 0s - loss: 0.5325 - accuracy: 0.7395\n",
      "Epoch 36: val_loss did not improve from 0.51085\n",
      "32/32 [==============================] - 27s 842ms/step - loss: 0.5325 - accuracy: 0.7395 - val_loss: 0.5576 - val_accuracy: 0.7160\n",
      "Epoch 37/200\n",
      "32/32 [==============================] - ETA: 0s - loss: 0.5323 - accuracy: 0.7270\n",
      "Epoch 37: val_loss did not improve from 0.51085\n",
      "32/32 [==============================] - 26s 825ms/step - loss: 0.5323 - accuracy: 0.7270 - val_loss: 0.5252 - val_accuracy: 0.7450\n",
      "Epoch 38/200\n",
      "32/32 [==============================] - ETA: 0s - loss: 0.5349 - accuracy: 0.7305\n",
      "Epoch 38: val_loss did not improve from 0.51085\n",
      "32/32 [==============================] - 27s 842ms/step - loss: 0.5349 - accuracy: 0.7305 - val_loss: 0.5610 - val_accuracy: 0.7160\n",
      "Epoch 39/200\n",
      "32/32 [==============================] - ETA: 0s - loss: 0.5146 - accuracy: 0.7470\n",
      "Epoch 39: val_loss did not improve from 0.51085\n",
      "32/32 [==============================] - 31s 962ms/step - loss: 0.5146 - accuracy: 0.7470 - val_loss: 0.5680 - val_accuracy: 0.7360\n",
      "Epoch 40/200\n",
      "32/32 [==============================] - ETA: 0s - loss: 0.5269 - accuracy: 0.7370\n",
      "Epoch 40: val_loss did not improve from 0.51085\n",
      "32/32 [==============================] - 26s 807ms/step - loss: 0.5269 - accuracy: 0.7370 - val_loss: 0.5218 - val_accuracy: 0.7420\n",
      "Epoch 41/200\n",
      "32/32 [==============================] - ETA: 0s - loss: 0.5131 - accuracy: 0.7485\n",
      "Epoch 41: val_loss did not improve from 0.51085\n",
      "32/32 [==============================] - 26s 825ms/step - loss: 0.5131 - accuracy: 0.7485 - val_loss: 0.5732 - val_accuracy: 0.7350\n",
      "Epoch 42/200\n",
      "32/32 [==============================] - ETA: 0s - loss: 0.5167 - accuracy: 0.7465\n",
      "Epoch 42: val_loss did not improve from 0.51085\n",
      "32/32 [==============================] - 27s 825ms/step - loss: 0.5167 - accuracy: 0.7465 - val_loss: 0.5618 - val_accuracy: 0.7170\n",
      "Epoch 43/200\n",
      "32/32 [==============================] - ETA: 0s - loss: 0.5004 - accuracy: 0.7610\n",
      "Epoch 43: val_loss did not improve from 0.51085\n",
      "32/32 [==============================] - 27s 854ms/step - loss: 0.5004 - accuracy: 0.7610 - val_loss: 0.5742 - val_accuracy: 0.7360\n",
      "Epoch 44/200\n",
      "32/32 [==============================] - ETA: 0s - loss: 0.5030 - accuracy: 0.7555\n",
      "Epoch 44: val_loss did not improve from 0.51085\n",
      "32/32 [==============================] - 31s 985ms/step - loss: 0.5030 - accuracy: 0.7555 - val_loss: 0.6307 - val_accuracy: 0.6810\n",
      "Epoch 44: early stopping\n"
     ]
    }
   ],
   "source": [
    "g_drive_path = '/content/drive/MyDrive/my_model'\n",
    "save_dir_path_aug = os.path.join(g_drive_path, \"saved_model\", \"cat_dog_model_aug\")\n",
    "mc_callback2 = keras.callbacks.ModelCheckpoint(save_dir_path_aug, save_best_only=True, monitor='val_loss', verbose=1)\n",
    "es_callback2 = keras.callbacks.EarlyStopping(monitor='val_loss', patience=10, verbose=1)\n",
    "\n",
    "\n",
    "model2 = get_model()\n",
    "\n",
    "hist2 = model2.fit(train_iter2, epochs=200,\n",
    "                   steps_per_epoch=len(train_iter2),\n",
    "                   validation_data=val_iter2,\n",
    "                   validation_steps=len(val_iter2),\n",
    "                   callbacks=[mc_callback2, es_callback2])"
   ]
  },
  {
   "cell_type": "code",
   "execution_count": null,
   "metadata": {
    "ExecuteTime": {
     "end_time": "2023-07-18T04:36:24.450526Z",
     "start_time": "2023-07-18T04:36:24.185107Z"
    },
    "colab": {
     "base_uri": "https://localhost:8080/",
     "height": 522
    },
    "executionInfo": {
     "elapsed": 1576,
     "status": "ok",
     "timestamp": 1707380845677,
     "user": {
      "displayName": "Sunghwan KIM",
      "userId": "06010856989212311727"
     },
     "user_tz": -540
    },
    "id": "AzOroweXyaZ1",
    "outputId": "b75a64d4-fece-4358-e077-f0d936ef0561"
   },
   "outputs": [
    {
     "data": {
      "image/png": "[encoded data removed]",
      "text/plain": [
       "<Figure size 1000x600 with 1 Axes>"
      ]
     },
     "metadata": {},
     "output_type": "display_data"
    }
   ],
   "source": [
    "import matplotlib.pyplot as plt\n",
    "\n",
    "plt.figure(figsize=(10, 6))\n",
    "plt.plot(hist2.epoch, hist2.history['loss'], label='train')\n",
    "plt.plot(hist2.epoch, hist2.history['val_loss'], label='validation')\n",
    "plt.legend()\n",
    "plt.show()"
   ]
  },
  {
   "cell_type": "markdown",
   "metadata": {
    "id": "i_dlXsnp7tZX"
   },
   "source": [
    "##### 저장된 모델 Loading 후 평가(사용)"
   ]
  },
  {
   "cell_type": "markdown",
   "metadata": {
    "executionInfo": {
     "elapsed": 499,
     "status": "ok",
     "timestamp": 1631166141746,
     "user": {
      "displayName": "김성환",
      "photoUrl": "",
      "userId": "17974227978557155744"
     },
     "user_tz": -540
    },
    "id": "o4sSoGQXlJKX"
   },
   "source": [
    "##### 새로운데이터 추론"
   ]
  },
  {
   "cell_type": "code",
   "execution_count": null,
   "metadata": {
    "colab": {
     "base_uri": "https://localhost:8080/"
    },
    "executionInfo": {
     "elapsed": 3663,
     "status": "ok",
     "timestamp": 1707380987655,
     "user": {
      "displayName": "Sunghwan KIM",
      "userId": "06010856989212311727"
     },
     "user_tz": -540
    },
    "id": "QlC1uE6y3dL9",
    "outputId": "d2ed0fe5-0ac2-40a8-c7f6-a75098c63f2a"
   },
   "outputs": [
    {
     "name": "stdout",
     "output_type": "stream",
     "text": [
      "16/16 [==============================] - 3s 153ms/step - loss: 0.5400 - accuracy: 0.7320\n"
     ]
    },
    {
     "data": {
      "text/plain": [
       "[0.5399696230888367, 0.7319999933242798]"
      ]
     },
     "execution_count": 24,
     "metadata": {},
     "output_type": "execute_result"
    }
   ],
   "source": [
    "saved_model2 = models.load_model(save_dir_path_aug)\n",
    "saved_model2.evaluate(test_iter2)"
   ]
  },
  {
   "cell_type": "code",
   "execution_count": null,
   "metadata": {
    "ExecuteTime": {
     "end_time": "2023-07-18T04:36:56.339252Z",
     "start_time": "2023-07-18T04:36:56.099066Z"
    },
    "colab": {
     "base_uri": "https://localhost:8080/"
    },
    "executionInfo": {
     "elapsed": 3,
     "status": "ok",
     "timestamp": 1707381324935,
     "user": {
      "displayName": "Sunghwan KIM",
      "userId": "06010856989212311727"
     },
     "user_tz": -540
    },
    "id": "Q_RxaHUlbef8",
    "outputId": "d9620cb7-acab-4a76-fc99-55d36e6986e3"
   },
   "outputs": [
    {
     "name": "stdout",
     "output_type": "stream",
     "text": [
      "1/1 [==============================] - 0s 19ms/step\n",
      "(1, 2)\n",
      "[[0.6653326  0.33466738]]\n",
      "label: [0], name: ['cats'], 확률: [0.6653326]\n"
     ]
    }
   ],
   "source": [
    "# img_path = 'dog.jpg'\n",
    "img_path = 'cat_3.jpg'\n",
    "# img_path = \"https://newsimg.hankookilbo.com/2015/12/17/201512171111528240_2.jpg\"\n",
    "data2 = load_preprocessing(img_path)\n",
    "# data.shape\n",
    "pred2 = saved_model2.predict(data2)\n",
    "print(pred2.shape)\n",
    "print(pred2)\n",
    "print(result_postprocessing(pred2))"
   ]
  }
 ],
 "metadata": {
  "colab": {
   "provenance": []
  },
  "kernelspec": {
   "display_name": "Python 3 (ipykernel)",
   "language": "python",
   "name": "python3"
  },
  "language_info": {
   "codemirror_mode": {
    "name": "ipython",
    "version": 3
   },
   "file_extension": ".py",
   "mimetype": "text/x-python",
   "name": "python",
   "nbconvert_exporter": "python",
   "pygments_lexer": "ipython3",
   "version": "3.11.5"
  },
  "toc": {
   "base_numbering": 1,
   "nav_menu": {},
   "number_sections": false,
   "sideBar": true,
   "skip_h1_title": false,
   "title_cell": "Table of Contents",
   "title_sidebar": "Contents",
   "toc_cell": false,
   "toc_position": {},
   "toc_section_display": true,
   "toc_window_display": false
  },
  "varInspector": {
   "cols": {
    "lenName": 16,
    "lenType": 16,
    "lenVar": 40
   },
   "kernels_config": {
    "python": {
     "delete_cmd_postfix": "",
     "delete_cmd_prefix": "del ",
     "library": "var_list.py",
     "varRefreshCmd": "print(var_dic_list())"
    },
    "r": {
     "delete_cmd_postfix": ") ",
     "delete_cmd_prefix": "rm(",
     "library": "var_list.r",
     "varRefreshCmd": "cat(var_dic_list()) "
    }
   },
   "types_to_exclude": [
    "module",
    "function",
    "builtin_function_or_method",
    "instance",
    "_Feature"
   ],
   "window_display": false
  }
 },
 "nbformat": 4,
 "nbformat_minor": 4
}
