{
 "cells": [
  {
   "cell_type": "markdown",
   "metadata": {
    "slideshow": {
     "slide_type": "slide"
    }
   },
   "source": [
    "# 문제 유형별 MLP 네트워크\n",
    "- MLP(Multi Layer Perceptron), ANN(Artificial Neural Network), DNN (Deep Neural Network)\n",
    "    - Fully Connected Layer(Dense)로 구성된 네트워크"
   ]
  },
  {
   "cell_type": "markdown",
   "metadata": {
    "slideshow": {
     "slide_type": "fragment"
    }
   },
   "source": [
    "# Regression(회귀)\n",
    "\n",
    "## Boston Housing Dataset\n",
    "보스턴 주택가격 dataset은 다음과 같은 속성을 바탕으로 해당 타운 주택 가격의 중앙값을 예측하는 문제.\n",
    "- CRIM: 범죄율\n",
    "- ZN: 25,000 평방피트당 주거지역 비율\n",
    "- INDUS: 비소매 상업지구 비율\n",
    "- CHAS: 찰스강에 인접해 있는지 여부(인접:1, 아니면:0)\n",
    "- NOX: 일산화질소 농도(단위: 0.1ppm)\n",
    "- RM: 주택당 방의 수\n",
    "- AGE: 1940년 이전에 건설된 주택의 비율\n",
    "- DIS: 5개의 보스턴 직업고용센터와의 거리(가중 평균)\n",
    "- RAD: 고속도로 접근성\n",
    "- TAX: 재산세율\n",
    "- PTRATIO: 학생/교사 비율\n",
    "- B: 흑인 비율\n",
    "- LSTAT: 하위 계층 비율\n",
    "<br><br>\n",
    "- **Target**\n",
    "    - MEDV: 타운의 주택가격 중앙값(단위: 1,000달러)"
   ]
  },
  {
   "cell_type": "code",
   "execution_count": null,
   "metadata": {},
   "outputs": [],
   "source": [
    "import tensorflow as tf\n",
    "from tensorflow import keras\n",
    "from tensorflow.keras import layers\n",
    "# from tensorflow.keras.layers import Dense\n",
    "\n",
    "\n",
    "import numpy as np\n",
    "import matplotlib.pyplot as plt\n",
    "# 딥러닝 -> 연속형: Feature scaling 전처리를 해준다.\n",
    "#           범주형: One Hot Encoding\n",
    "from sklearn.preprocessing import StandardScaler\n",
    "\n",
    "import random"
   ]
  },
  {
   "cell_type": "code",
   "execution_count": null,
   "metadata": {},
   "outputs": [],
   "source": [
    "# random seed값 설정\n",
    "tf.random.set_seed(0)\n",
    "np.random.seed(0)\n",
    "random.seed(0)"
   ]
  },
  {
   "cell_type": "markdown",
   "metadata": {
    "slideshow": {
     "slide_type": "slide"
    }
   },
   "source": [
    "##### 데이터 로딩"
   ]
  },
  {
   "cell_type": "code",
   "execution_count": 7,
   "metadata": {
    "colab": {
     "base_uri": "https://localhost:8080/"
    },
    "executionInfo": {
     "elapsed": 346,
     "status": "ok",
     "timestamp": 1707196107762,
     "user": {
      "displayName": "Sunghwan KIM",
      "userId": "06010856989212311727"
     },
     "user_tz": -540
    },
    "id": "RkZR0yrWe50i",
    "outputId": "1c0cf3fe-5d8f-4906-c976-fc108727157d"
   },
   "outputs": [
    {
     "name": "stdout",
     "output_type": "stream",
     "text": [
      "(404, 13) (404,)\n",
      "(102, 13) (102,)\n"
     ]
    }
   ],
   "source": [
    "(train_X, y_train), (test_X, y_test) = keras.datasets.boston_housing.load_data()\n",
    "print(train_X.shape, y_train.shape)\n",
    "print(test_X.shape, y_test.shape)"
   ]
  },
  {
   "cell_type": "code",
   "execution_count": 8,
   "metadata": {
    "colab": {
     "base_uri": "https://localhost:8080/"
    },
    "executionInfo": {
     "elapsed": 376,
     "status": "ok",
     "timestamp": 1707196112151,
     "user": {
      "displayName": "Sunghwan KIM",
      "userId": "06010856989212311727"
     },
     "user_tz": -540
    },
    "id": "-AS-Ipize50i",
    "outputId": "159dc0a7-0bed-456f-88ea-299bdad11d91"
   },
   "outputs": [
    {
     "name": "stdout",
     "output_type": "stream",
     "text": [
      "[  1.23247   0.        8.14      0.        0.538     6.142    91.7\n",
      "   3.9769    4.      307.       21.      396.9      18.72   ]\n",
      "15.2\n"
     ]
    }
   ],
   "source": [
    "print(train_X[0])\n",
    "print(y_train[0])"
   ]
  },
  {
   "cell_type": "markdown",
   "metadata": {
    "slideshow": {
     "slide_type": "slide"
    }
   },
   "source": [
    "##### 하이퍼파라미터, 변수 정의\n",
    "- 하이퍼파라미터와 중복되서 사용할 변수들을 미리 모아서 정의하면 관리하기 편리하다."
   ]
  },
  {
   "cell_type": "code",
   "execution_count": null,
   "metadata": {},
   "outputs": [],
   "source": [
    "#하이퍼파라미터 변수\n",
    "\n",
    "# 학습율 => 파라미터 업데이트시 계산된 gradient를 파라미터에 적용할 비율. 0 ~ 1 사이 실수를 지정한다. optimizer 생성때 설정.\n",
    "LEARNING_RATE = 0.001  \n",
    "N_EPOCH = 100 # 에폭수\n",
    "N_BATCH = 200 # Train 배치사이즈"
   ]
  },
  {
   "cell_type": "markdown",
   "metadata": {
    "slideshow": {
     "slide_type": "fragment"
    }
   },
   "source": [
    "##### X, y 전처리\n",
    "- MLP는 선형모델을 기반으로 하므로 Feature scaling을 해준다."
   ]
  },
  {
   "cell_type": "code",
   "execution_count": null,
   "metadata": {},
   "outputs": [],
   "source": [
    "scaler = StandardScaler()\n",
    "X_train = scaler.fit_transform(train_X)\n",
    "X_test = scaler.transform(test_X)"
   ]
  },
  {
   "cell_type": "markdown",
   "metadata": {
    "slideshow": {
     "slide_type": "slide"
    }
   },
   "source": [
    "##### 모델 구현\n",
    "\n",
    "1. 모델 객체 생성 - Sequential\n",
    "2. 모델에 Layer들 추가\n",
    "    - Input Layer 추가\n",
    "        - 입력 데이터의 shape을 지정한다.\n",
    "        1. InputLayer 객체를 생성해서 추가한다.\n",
    "        2. 첫번째 Hidden Layer에 input_shape 매개변수에 shape을 지정하여 추가한다.\n",
    "    - Hidden Layer들 추가\n",
    "        - Layer의 개수와 Layer의 Unit의 개수는 튜닝대상으로 성능에 영향을 준다.\n",
    "        - 활성함수는 ReLU 를 사용한다.\n",
    "        - Layer의 개수와 Unit 개수가 많을 수록 복잡한 모델, 적을 수록 단순한 모델이된다.\n",
    "    - Output Layer 추가\n",
    "        - 풀려는 문제에 따라 unit개수와 활성함수를 지정한다."
   ]
  },
  {
   "cell_type": "code",
   "execution_count": 11,
   "metadata": {
    "colab": {
     "base_uri": "https://localhost:8080/"
    },
    "executionInfo": {
     "elapsed": 7,
     "status": "ok",
     "timestamp": 1707196826651,
     "user": {
      "displayName": "Sunghwan KIM",
      "userId": "06010856989212311727"
     },
     "user_tz": -540
    },
    "id": "6JhV2mTc3Cxe",
    "outputId": "70f65968-9b8d-4b50-cb95-bf1db8c2d56b"
   },
   "outputs": [
    {
     "data": {
      "text/plain": [
       "(404,)"
      ]
     },
     "execution_count": 11,
     "metadata": {},
     "output_type": "execute_result"
    }
   ],
   "source": [
    "y_train.shape"
   ]
  },
  {
   "cell_type": "code",
   "execution_count": null,
   "metadata": {},
   "outputs": [],
   "source": [
    "def get_model_boston(lr=0.01):\n",
    "    model = keras.Sequential()\n",
    "   \n",
    "    model.add(layers.Dense(units=32, activation='relu', input_shape=(13, )))\n",
    "    model.add(layers.Dense(units=16, activation='relu'))\n",
    "    model.add(layers.Dense(units=8, activation='relu'))\n",
    "    \n",
    "\n",
    "    # 집값 한개의 값을 추론하므로 unit수를 1로 지정. \n",
    "    model.add(layers.Dense(units=1))\n",
    "    \n",
    "    # 컴파일\n",
    "    # optimizer를 파라미터값들을 모두 default로 설정해서 생성할 경우 문자열로 지정. (\"adam\")    \n",
    "    model.compile(optimizer=keras.optimizers.Adam(learning_rate=lr),\n",
    "                  loss='mse')\n",
    "    return model"
   ]
  },
  {
   "cell_type": "code",
   "execution_count": 15,
   "metadata": {
    "colab": {
     "base_uri": "https://localhost:8080/"
    },
    "executionInfo": {
     "elapsed": 368,
     "status": "ok",
     "timestamp": 1707197254145,
     "user": {
      "displayName": "Sunghwan KIM",
      "userId": "06010856989212311727"
     },
     "user_tz": -540
    },
    "id": "-MzLNLcVe50j",
    "outputId": "23ef7c38-317c-4422-d1dc-4ef0f238a56d"
   },
   "outputs": [
    {
     "name": "stdout",
     "output_type": "stream",
     "text": [
      "Model: \"sequential_1\"\n",
      "_________________________________________________________________\n",
      " Layer (type)                Output Shape              Param #   \n",
      "=================================================================\n",
      " dense_4 (Dense)             (None, 32)                448       \n",
      "                                                                 \n",
      " dense_5 (Dense)             (None, 16)                528       \n",
      "                                                                 \n",
      " dense_6 (Dense)             (None, 8)                 136       \n",
      "                                                                 \n",
      " output (Dense)              (None, 1)                 9         \n",
      "                                                                 \n",
      "=================================================================\n",
      "Total params: 1121 (4.38 KB)\n",
      "Trainable params: 1121 (4.38 KB)\n",
      "Non-trainable params: 0 (0.00 Byte)\n",
      "_________________________________________________________________\n"
     ]
    }
   ],
   "source": [
    "model_boston = get_model_boston()\n",
    "\n",
    "# 딥러닝 모델의 구조 확인\n",
    "model_boston.summary()"
   ]
  },
  {
   "cell_type": "markdown",
   "metadata": {
    "id": "BQAo9Pg64VVW"
   },
   "source": [
    "```\n",
    "_________________________________________________________________\n",
    " Layer-이름 (type-Class)       Output Shape (출력결과의 shape)      Param # (weight+bias개수)  \n",
    "=================================================================\n",
    " dense (Dense)               (None, 32)                448       \n",
    "                                                                 \n",
    " dense_1 (Dense)             (None, 16)                528       \n",
    "                                                                 \n",
    " dense_2 (Dense)             (None, 8)                 136       \n",
    "                                                                 \n",
    " output (Dense)               (None, 1)                 9         \n",
    "                                                                 \n",
    "=================================================================\n",
    "전체 파라미터 개수\n",
    "Total params: 1121 (4.38 KB)\n",
    "Trainable params: 1121 (4.38 KB)\n",
    "Non-trainable params: 0 (0.00 Byte)\n",
    "_________________________________________________________________\n",
    "```"
   ]
  },
  {
   "cell_type": "code",
   "execution_count": 18,
   "metadata": {
    "colab": {
     "base_uri": "https://localhost:8080/",
     "height": 533
    },
    "executionInfo": {
     "elapsed": 445,
     "status": "ok",
     "timestamp": 1707197610945,
     "user": {
      "displayName": "Sunghwan KIM",
      "userId": "06010856989212311727"
     },
     "user_tz": -540
    },
    "id": "SkeCzDX4e50j",
    "outputId": "ac3a30b8-672b-4d03-f9f9-c71df0391ef6",
    "scrolled": true
   },
   "outputs": [
    {
     "data": {
      "image/png": "[encoded data removed]",
      "text/plain": [
       "<IPython.core.display.Image object>"
      ]
     },
     "execution_count": 18,
     "metadata": {},
     "output_type": "execute_result"
    }
   ],
   "source": [
    "keras.utils.plot_model(model_boston, show_shapes=True)"
   ]
  },
  {
   "cell_type": "markdown",
   "metadata": {
    "slideshow": {
     "slide_type": "slide"
    }
   },
   "source": [
    "##### 학습(Train)"
   ]
  },
  {
   "cell_type": "code",
   "execution_count": 19,
   "metadata": {
    "colab": {
     "base_uri": "https://localhost:8080/"
    },
    "executionInfo": {
     "elapsed": 11594,
     "status": "ok",
     "timestamp": 1707197941993,
     "user": {
      "displayName": "Sunghwan KIM",
      "userId": "06010856989212311727"
     },
     "user_tz": -540
    },
    "id": "KCd_HWWPe50k",
    "outputId": "57231ace-8ef1-402f-a229-3ebdf156925c",
    "scrolled": true
   },
   "outputs": [
    {
     "name": "stdout",
     "output_type": "stream",
     "text": [
      "Epoch 1/100\n",
      "2/2 [==============================] - 1s 198ms/step - loss: 573.1349 - val_loss: 630.9248\n",
      "Epoch 2/100\n",
      "2/2 [==============================] - 0s 30ms/step - loss: 554.3610 - val_loss: 613.1664\n",
      "Epoch 3/100\n",
      "2/2 [==============================] - 0s 37ms/step - loss: 533.3019 - val_loss: 586.6031\n",
      "Epoch 4/100\n",
      "2/2 [==============================] - 0s 34ms/step - loss: 505.6201 - val_loss: 549.3510\n",
      "Epoch 5/100\n",
      "2/2 [==============================] - 0s 30ms/step - loss: 467.5925 - val_loss: 501.3729\n",
      "Epoch 6/100\n",
      "2/2 [==============================] - 0s 33ms/step - loss: 420.3364 - val_loss: 442.5710\n",
      "Epoch 7/100\n",
      "2/2 [==============================] - 0s 35ms/step - loss: 361.9750 - val_loss: 372.8127\n",
      "Epoch 8/100\n",
      "2/2 [==============================] - 0s 32ms/step - loss: 294.0909 - val_loss: 292.5586\n",
      "Epoch 9/100\n",
      "2/2 [==============================] - 0s 31ms/step - loss: 218.6862 - val_loss: 215.6622\n",
      "Epoch 10/100\n",
      "2/2 [==============================] - 0s 31ms/step - loss: 154.9913 - val_loss: 164.9533\n",
      "Epoch 11/100\n",
      "2/2 [==============================] - 0s 32ms/step - loss: 129.7282 - val_loss: 155.4929\n",
      "Epoch 12/100\n",
      "2/2 [==============================] - 0s 33ms/step - loss: 138.2964 - val_loss: 155.0521\n",
      "Epoch 13/100\n",
      "2/2 [==============================] - 0s 31ms/step - loss: 138.4108 - val_loss: 131.2314\n",
      "Epoch 14/100\n",
      "2/2 [==============================] - 0s 31ms/step - loss: 111.7437 - val_loss: 99.0374\n",
      "Epoch 15/100\n",
      "2/2 [==============================] - 0s 31ms/step - loss: 79.3360 - val_loss: 78.3836\n",
      "Epoch 16/100\n",
      "2/2 [==============================] - 0s 34ms/step - loss: 60.2169 - val_loss: 69.0381\n",
      "Epoch 17/100\n",
      "2/2 [==============================] - 0s 30ms/step - loss: 51.8866 - val_loss: 62.1028\n",
      "Epoch 18/100\n",
      "2/2 [==============================] - 0s 31ms/step - loss: 47.9260 - val_loss: 52.5559\n",
      "Epoch 19/100\n",
      "2/2 [==============================] - 0s 31ms/step - loss: 41.7564 - val_loss: 40.4135\n",
      "Epoch 20/100\n",
      "2/2 [==============================] - 0s 30ms/step - loss: 34.0118 - val_loss: 30.1747\n",
      "Epoch 21/100\n",
      "2/2 [==============================] - 0s 39ms/step - loss: 28.9661 - val_loss: 26.0900\n",
      "Epoch 22/100\n",
      "2/2 [==============================] - 0s 31ms/step - loss: 26.9889 - val_loss: 26.8304\n",
      "Epoch 23/100\n",
      "2/2 [==============================] - 0s 30ms/step - loss: 28.2853 - val_loss: 26.8177\n",
      "Epoch 24/100\n",
      "2/2 [==============================] - 0s 31ms/step - loss: 27.5125 - val_loss: 23.8988\n",
      "Epoch 25/100\n",
      "2/2 [==============================] - 0s 32ms/step - loss: 24.4446 - val_loss: 21.2638\n",
      "Epoch 26/100\n",
      "2/2 [==============================] - 0s 30ms/step - loss: 22.0662 - val_loss: 20.5512\n",
      "Epoch 27/100\n",
      "2/2 [==============================] - 0s 30ms/step - loss: 21.0101 - val_loss: 20.7391\n",
      "Epoch 28/100\n",
      "2/2 [==============================] - 0s 37ms/step - loss: 20.6567 - val_loss: 20.4370\n",
      "Epoch 29/100\n",
      "2/2 [==============================] - 0s 37ms/step - loss: 19.9584 - val_loss: 19.5469\n",
      "Epoch 30/100\n",
      "2/2 [==============================] - 0s 30ms/step - loss: 18.8267 - val_loss: 18.6326\n",
      "Epoch 31/100\n",
      "2/2 [==============================] - 0s 32ms/step - loss: 17.7788 - val_loss: 18.3466\n",
      "Epoch 32/100\n",
      "2/2 [==============================] - 0s 31ms/step - loss: 17.2569 - val_loss: 18.4697\n",
      "Epoch 33/100\n",
      "2/2 [==============================] - 0s 32ms/step - loss: 16.8990 - val_loss: 18.2749\n",
      "Epoch 34/100\n",
      "2/2 [==============================] - 0s 31ms/step - loss: 16.4324 - val_loss: 17.6215\n",
      "Epoch 35/100\n",
      "2/2 [==============================] - 0s 30ms/step - loss: 15.7416 - val_loss: 16.9737\n",
      "Epoch 36/100\n",
      "2/2 [==============================] - 0s 30ms/step - loss: 15.2353 - val_loss: 16.5805\n",
      "Epoch 37/100\n",
      "2/2 [==============================] - 0s 33ms/step - loss: 15.0365 - val_loss: 16.3618\n",
      "Epoch 38/100\n",
      "2/2 [==============================] - 0s 35ms/step - loss: 14.7469 - val_loss: 16.3132\n",
      "Epoch 39/100\n",
      "2/2 [==============================] - 0s 32ms/step - loss: 14.3311 - val_loss: 16.3328\n",
      "Epoch 40/100\n",
      "2/2 [==============================] - 0s 31ms/step - loss: 13.9653 - val_loss: 16.2808\n",
      "Epoch 41/100\n",
      "2/2 [==============================] - 0s 36ms/step - loss: 13.6931 - val_loss: 16.0846\n",
      "Epoch 42/100\n",
      "2/2 [==============================] - 0s 31ms/step - loss: 13.3632 - val_loss: 15.4389\n",
      "Epoch 43/100\n",
      "2/2 [==============================] - 0s 31ms/step - loss: 13.1380 - val_loss: 14.7881\n",
      "Epoch 44/100\n",
      "2/2 [==============================] - 0s 30ms/step - loss: 12.7466 - val_loss: 14.4393\n",
      "Epoch 45/100\n",
      "2/2 [==============================] - 0s 36ms/step - loss: 12.4330 - val_loss: 14.2591\n",
      "Epoch 46/100\n",
      "2/2 [==============================] - 0s 33ms/step - loss: 12.1581 - val_loss: 14.0926\n",
      "Epoch 47/100\n",
      "2/2 [==============================] - 0s 31ms/step - loss: 11.9437 - val_loss: 13.9147\n",
      "Epoch 48/100\n",
      "2/2 [==============================] - 0s 31ms/step - loss: 11.7225 - val_loss: 13.5972\n",
      "Epoch 49/100\n",
      "2/2 [==============================] - 0s 37ms/step - loss: 11.5002 - val_loss: 13.2374\n",
      "Epoch 50/100\n",
      "2/2 [==============================] - 0s 31ms/step - loss: 11.2681 - val_loss: 13.0266\n",
      "Epoch 51/100\n",
      "2/2 [==============================] - 0s 31ms/step - loss: 11.0809 - val_loss: 13.0354\n",
      "Epoch 52/100\n",
      "2/2 [==============================] - 0s 37ms/step - loss: 10.8367 - val_loss: 13.2231\n",
      "Epoch 53/100\n",
      "2/2 [==============================] - 0s 32ms/step - loss: 10.7280 - val_loss: 13.3326\n",
      "Epoch 54/100\n",
      "2/2 [==============================] - 0s 30ms/step - loss: 10.5223 - val_loss: 13.0186\n",
      "Epoch 55/100\n",
      "2/2 [==============================] - 0s 30ms/step - loss: 10.3321 - val_loss: 12.6937\n",
      "Epoch 56/100\n",
      "2/2 [==============================] - 0s 30ms/step - loss: 10.1549 - val_loss: 12.3689\n",
      "Epoch 57/100\n",
      "2/2 [==============================] - 0s 30ms/step - loss: 10.0264 - val_loss: 12.1600\n",
      "Epoch 58/100\n",
      "2/2 [==============================] - 0s 33ms/step - loss: 9.8798 - val_loss: 12.0035\n",
      "Epoch 59/100\n",
      "2/2 [==============================] - 0s 31ms/step - loss: 9.8193 - val_loss: 12.0456\n",
      "Epoch 60/100\n",
      "2/2 [==============================] - 0s 31ms/step - loss: 9.5810 - val_loss: 11.8658\n",
      "Epoch 61/100\n",
      "2/2 [==============================] - 0s 38ms/step - loss: 9.4717 - val_loss: 11.6742\n",
      "Epoch 62/100\n",
      "2/2 [==============================] - 0s 51ms/step - loss: 9.3477 - val_loss: 11.4251\n",
      "Epoch 63/100\n",
      "2/2 [==============================] - 0s 52ms/step - loss: 9.2848 - val_loss: 11.2632\n",
      "Epoch 64/100\n",
      "2/2 [==============================] - 0s 64ms/step - loss: 9.1114 - val_loss: 11.4585\n",
      "Epoch 65/100\n",
      "2/2 [==============================] - 0s 62ms/step - loss: 8.9911 - val_loss: 11.7339\n",
      "Epoch 66/100\n",
      "2/2 [==============================] - 0s 48ms/step - loss: 8.8947 - val_loss: 11.6996\n",
      "Epoch 67/100\n",
      "2/2 [==============================] - 0s 58ms/step - loss: 8.7987 - val_loss: 11.5178\n",
      "Epoch 68/100\n",
      "2/2 [==============================] - 0s 53ms/step - loss: 8.6842 - val_loss: 11.3417\n",
      "Epoch 69/100\n",
      "2/2 [==============================] - 0s 42ms/step - loss: 8.6017 - val_loss: 10.9933\n",
      "Epoch 70/100\n",
      "2/2 [==============================] - 0s 44ms/step - loss: 8.4960 - val_loss: 10.9756\n",
      "Epoch 71/100\n",
      "2/2 [==============================] - 0s 49ms/step - loss: 8.4002 - val_loss: 11.0796\n",
      "Epoch 72/100\n",
      "2/2 [==============================] - 0s 43ms/step - loss: 8.2878 - val_loss: 10.9315\n",
      "Epoch 73/100\n",
      "2/2 [==============================] - 0s 43ms/step - loss: 8.2045 - val_loss: 10.6550\n",
      "Epoch 74/100\n",
      "2/2 [==============================] - 0s 43ms/step - loss: 8.1399 - val_loss: 10.4170\n",
      "Epoch 75/100\n",
      "2/2 [==============================] - 0s 41ms/step - loss: 8.0931 - val_loss: 10.2465\n",
      "Epoch 76/100\n",
      "2/2 [==============================] - 0s 46ms/step - loss: 7.9880 - val_loss: 10.1241\n",
      "Epoch 77/100\n",
      "2/2 [==============================] - 0s 40ms/step - loss: 7.8866 - val_loss: 10.2162\n",
      "Epoch 78/100\n",
      "2/2 [==============================] - 0s 64ms/step - loss: 7.8612 - val_loss: 10.2551\n",
      "Epoch 79/100\n",
      "2/2 [==============================] - 0s 64ms/step - loss: 7.7776 - val_loss: 10.0795\n",
      "Epoch 80/100\n",
      "2/2 [==============================] - 0s 74ms/step - loss: 7.7020 - val_loss: 10.0151\n",
      "Epoch 81/100\n",
      "2/2 [==============================] - 0s 49ms/step - loss: 7.6255 - val_loss: 9.7846\n",
      "Epoch 82/100\n",
      "2/2 [==============================] - 0s 61ms/step - loss: 7.5398 - val_loss: 9.4467\n",
      "Epoch 83/100\n",
      "2/2 [==============================] - 0s 42ms/step - loss: 7.4838 - val_loss: 9.2633\n",
      "Epoch 84/100\n",
      "2/2 [==============================] - 0s 42ms/step - loss: 7.4060 - val_loss: 9.1186\n",
      "Epoch 85/100\n",
      "2/2 [==============================] - 0s 41ms/step - loss: 7.3346 - val_loss: 9.2608\n",
      "Epoch 86/100\n",
      "2/2 [==============================] - 0s 41ms/step - loss: 7.2694 - val_loss: 9.2311\n",
      "Epoch 87/100\n",
      "2/2 [==============================] - 0s 60ms/step - loss: 7.1717 - val_loss: 9.3166\n",
      "Epoch 88/100\n",
      "2/2 [==============================] - 0s 46ms/step - loss: 7.1081 - val_loss: 9.3073\n",
      "Epoch 89/100\n",
      "2/2 [==============================] - 0s 59ms/step - loss: 7.0499 - val_loss: 9.2958\n",
      "Epoch 90/100\n",
      "2/2 [==============================] - 0s 44ms/step - loss: 6.9813 - val_loss: 9.3073\n",
      "Epoch 91/100\n",
      "2/2 [==============================] - 0s 70ms/step - loss: 6.9415 - val_loss: 9.2707\n",
      "Epoch 92/100\n",
      "2/2 [==============================] - 0s 46ms/step - loss: 6.9262 - val_loss: 9.0352\n",
      "Epoch 93/100\n",
      "2/2 [==============================] - 0s 53ms/step - loss: 6.8287 - val_loss: 9.2174\n",
      "Epoch 94/100\n",
      "2/2 [==============================] - 0s 58ms/step - loss: 6.7597 - val_loss: 9.0997\n",
      "Epoch 95/100\n",
      "2/2 [==============================] - 0s 76ms/step - loss: 6.6871 - val_loss: 8.7410\n",
      "Epoch 96/100\n",
      "2/2 [==============================] - 0s 46ms/step - loss: 6.6566 - val_loss: 8.4262\n",
      "Epoch 97/100\n",
      "2/2 [==============================] - 0s 59ms/step - loss: 6.6222 - val_loss: 8.4463\n",
      "Epoch 98/100\n",
      "2/2 [==============================] - 0s 64ms/step - loss: 6.5487 - val_loss: 8.4481\n",
      "Epoch 99/100\n",
      "2/2 [==============================] - 0s 48ms/step - loss: 6.4843 - val_loss: 8.4434\n",
      "Epoch 100/100\n",
      "2/2 [==============================] - 0s 63ms/step - loss: 6.4482 - val_loss: 8.4577\n"
     ]
    }
   ],
   "source": [
    "hist = model_boston.fit(X_train,   # Train set -> input(X)\n",
    "                        y_train,   # Train set -> output(y)\n",
    "                        epochs=N_EPOCH, # 에폭수(데이터셋을 몇번 학습할지.)\n",
    "                        batch_size=N_BATCH, # 배치크기(데이터를 몇개씩 한번에 학습할지.)\n",
    "                        validation_split=0.2 # train set중 지정한 비율의 개수를 validation 용으로 사용.\n",
    "\n",
    "                        )"
   ]
  },
  {
   "cell_type": "markdown",
   "metadata": {
    "id": "c9bR4NB87sc_"
   },
   "source": [
    "```\n",
    "Epoch 1/100 (현재 epoch/총 epoch)\n",
    "2/2 [==============================] - 1s 198ms/step(스텝당 걸린시간) - loss: 573.1349 - val_loss: 630.9248  (검증결과)\n",
    "Epoch 2/100\n",
    "2/2 [==============================] - 0s 30ms/step - loss: 554.3610 - val_loss: 613.1664\n",
    "```"
   ]
  },
  {
   "cell_type": "markdown",
   "metadata": {
    "slideshow": {
     "slide_type": "slide"
    }
   },
   "source": [
    "##### 결과 시각화\n",
    "- 학습 시 epoch별 검증 결과를 시각화한다."
   ]
  },
  {
   "cell_type": "code",
   "execution_count": 20,
   "metadata": {
    "colab": {
     "base_uri": "https://localhost:8080/"
    },
    "executionInfo": {
     "elapsed": 399,
     "status": "ok",
     "timestamp": 1707198261780,
     "user": {
      "displayName": "Sunghwan KIM",
      "userId": "06010856989212311727"
     },
     "user_tz": -540
    },
    "id": "a732Bb0ee50k",
    "outputId": "fd41d891-7e03-4451-b260-791db330abc8"
   },
   "outputs": [
    {
     "data": {
      "text/plain": [
       "dict_keys(['loss', 'val_loss'])"
      ]
     },
     "execution_count": 20,
     "metadata": {},
     "output_type": "execute_result"
    }
   ],
   "source": [
    "hist.history.keys()"
   ]
  },
  {
   "cell_type": "code",
   "execution_count": null,
   "metadata": {
    "id": "_t850TP58pRV"
   },
   "outputs": [],
   "source": [
    "hist.epoch"
   ]
  },
  {
   "cell_type": "code",
   "execution_count": 23,
   "metadata": {
    "colab": {
     "base_uri": "https://localhost:8080/",
     "height": 452
    },
    "executionInfo": {
     "elapsed": 425,
     "status": "ok",
     "timestamp": 1707198389810,
     "user": {
      "displayName": "Sunghwan KIM",
      "userId": "06010856989212311727"
     },
     "user_tz": -540
    },
    "id": "gVpMTDeve50k",
    "outputId": "207ffd71-4f77-45b7-9e94-4791367bf88d"
   },
   "outputs": [
    {
     "data": {
      "image/png": "[encoded data removed]",
      "text/plain": [
       "<Figure size 640x480 with 1 Axes>"
      ]
     },
     "metadata": {},
     "output_type": "display_data"
    }
   ],
   "source": [
    "# hist.history : 에폭별 검증 결과\n",
    "# hist.epoch : 에폭리스트\n",
    "plt.plot(hist.epoch, hist.history['loss'], label='Train set')\n",
    "plt.plot(hist.epoch, hist.history['val_loss'], label='Validation set')\n",
    "\n",
    "plt.title('Loss')\n",
    "plt.ylim(0, 30)\n",
    "plt.legend()\n",
    "plt.show()"
   ]
  },
  {
   "cell_type": "markdown",
   "metadata": {
    "slideshow": {
     "slide_type": "slide"
    }
   },
   "source": [
    "##### 최종 테스트"
   ]
  },
  {
   "cell_type": "code",
   "execution_count": 24,
   "metadata": {
    "colab": {
     "base_uri": "https://localhost:8080/"
    },
    "executionInfo": {
     "elapsed": 365,
     "status": "ok",
     "timestamp": 1707198533038,
     "user": {
      "displayName": "Sunghwan KIM",
      "userId": "06010856989212311727"
     },
     "user_tz": -540
    },
    "id": "GshZ6cune50k",
    "outputId": "a2544d26-2cca-47fe-eec9-4dbcd74f0a3b"
   },
   "outputs": [
    {
     "name": "stdout",
     "output_type": "stream",
     "text": [
      "4/4 [==============================] - 0s 3ms/step - loss: 24.0507\n",
      "24.050676345825195\n"
     ]
    }
   ],
   "source": [
    "loss = model_boston.evaluate(X_test, y_test)\n",
    "print(loss)"
   ]
  },
  {
   "cell_type": "markdown",
   "metadata": {
    "slideshow": {
     "slide_type": "slide"
    }
   },
   "source": [
    "##### 모델 네트워크 저장"
   ]
  },
  {
   "cell_type": "code",
   "execution_count": null,
   "metadata": {},
   "outputs": [],
   "source": [
    "import os\n",
    "#### 전체 경로 안에 한글이 있으면 안된다.\n",
    "saved_dir = 'saved_model/boston_model'"
   ]
  },
  {
   "cell_type": "code",
   "execution_count": null,
   "metadata": {},
   "outputs": [],
   "source": [
    "# saved_dir = '/content/drive/MyDrive/my_model/saved_model/boston_model'\n",
    "# from google.colab import drive\n",
    "# drive.mount('/content/drive')"
   ]
  },
  {
   "cell_type": "code",
   "execution_count": null,
   "metadata": {},
   "outputs": [],
   "source": [
    "model_boston.save(saved_dir)"
   ]
  },
  {
   "cell_type": "markdown",
   "metadata": {
    "slideshow": {
     "slide_type": "slide"
    }
   },
   "source": [
    "##### 새로운 데이터 추론"
   ]
  },
  {
   "cell_type": "code",
   "execution_count": 29,
   "metadata": {
    "colab": {
     "base_uri": "https://localhost:8080/"
    },
    "executionInfo": {
     "elapsed": 876,
     "status": "ok",
     "timestamp": 1707198735557,
     "user": {
      "displayName": "Sunghwan KIM",
      "userId": "06010856989212311727"
     },
     "user_tz": -540
    },
    "id": "Y8UmI8Ybe50k",
    "outputId": "4436882d-83c4-4dba-dd77-9a196639df90"
   },
   "outputs": [
    {
     "name": "stdout",
     "output_type": "stream",
     "text": [
      "4/4 [==============================] - 0s 3ms/step - loss: 24.0507\n"
     ]
    },
    {
     "data": {
      "text/plain": [
       "24.050676345825195"
      ]
     },
     "execution_count": 29,
     "metadata": {},
     "output_type": "execute_result"
    }
   ],
   "source": [
    "# 저장된 모델을 불러와서 추론\n",
    "saved_model = keras.models.load_model(saved_dir)\n",
    "saved_model.evaluate(X_test, y_test)"
   ]
  },
  {
   "cell_type": "code",
   "execution_count": 33,
   "metadata": {
    "colab": {
     "base_uri": "https://localhost:8080/"
    },
    "executionInfo": {
     "elapsed": 576,
     "status": "ok",
     "timestamp": 1707199284335,
     "user": {
      "displayName": "Sunghwan KIM",
      "userId": "06010856989212311727"
     },
     "user_tz": -540
    },
    "id": "ayadHwW_e50l",
    "outputId": "e822f3a5-b634-48d7-c03a-f31cebe798a9"
   },
   "outputs": [
    {
     "name": "stdout",
     "output_type": "stream",
     "text": [
      "1/1 [==============================] - 0s 94ms/step\n",
      "[[ 8.33283 ]\n",
      " [17.825748]\n",
      " [21.51342 ]\n",
      " [32.361057]\n",
      " [25.61314 ]]\n"
     ]
    }
   ],
   "source": [
    "X_new = X_test[:5]\n",
    "pred = saved_model.predict(X_new)\n",
    "print(pred)"
   ]
  },
  {
   "cell_type": "code",
   "execution_count": 34,
   "metadata": {
    "colab": {
     "base_uri": "https://localhost:8080/"
    },
    "executionInfo": {
     "elapsed": 328,
     "status": "ok",
     "timestamp": 1707199303579,
     "user": {
      "displayName": "Sunghwan KIM",
      "userId": "06010856989212311727"
     },
     "user_tz": -540
    },
    "id": "dEf86dHpe50l",
    "outputId": "a62164f6-7c7b-49b2-87ea-0f9271402f33"
   },
   "outputs": [
    {
     "data": {
      "text/plain": [
       "array([ 7.2, 18.8, 19. , 27. , 22.2])"
      ]
     },
     "execution_count": 34,
     "metadata": {},
     "output_type": "execute_result"
    }
   ],
   "source": [
    "y_test[:5]"
   ]
  },
  {
   "cell_type": "markdown",
   "metadata": {
    "slideshow": {
     "slide_type": "slide"
    }
   },
   "source": [
    "# 분류 (Classification)\n",
    "\n",
    "## Fashion MNIST Dataset - 다중분류(Multi-Class Classification) 문제"
   ]
  },
  {
   "cell_type": "markdown",
   "metadata": {
    "slideshow": {
     "slide_type": "fragment"
    }
   },
   "source": [
    "10개의 범주(category)와 70,000개의 흑백 이미지로 구성된 [패션 MNIST](https://github.com/zalandoresearch/fashion-mnist) 데이터셋. \n",
    "이미지는 해상도(28x28 픽셀)가 낮고 다음처럼 개별 의류 품목을 나타낸다:\n",
    "\n",
    "<table>\n",
    "  <tr><td>\n",
    "    <img src=\"https://tensorflow.org/images/fashion-mnist-sprite.png\"\n",
    "         alt=\"Fashion MNIST sprite\"  width=\"600\">\n",
    "  </td></tr>\n",
    "  <tr><td align=\"center\">\n",
    "    <b>그림</b> <a href=\"https://github.com/zalandoresearch/fashion-mnist\">패션-MNIST 샘플</a> (Zalando, MIT License).<br/>&nbsp;\n",
    "  </td></tr>\n",
    "</table>"
   ]
  },
  {
   "cell_type": "markdown",
   "metadata": {
    "slideshow": {
     "slide_type": "fragment"
    }
   },
   "source": [
    "이미지는 28x28 크기이며 Gray scale이다. *레이블*(label)은 0에서 9까지의 정수 배열이다. 아래 표는 이미지에 있는 의류의 **클래스**(class)들이다.\n",
    "\n",
    "<table>\n",
    "  <tr>\n",
    "    <th>class index</th>\n",
    "    <th>class name</th>\n",
    "  </tr>\n",
    "  <tr>\n",
    "    <td>0</td>\n",
    "    <td>T-shirt/top</td>\n",
    "  </tr>\n",
    "  <tr>\n",
    "    <td>1</td>\n",
    "    <td>Trousers</td>\n",
    "  </tr>\n",
    "    <tr>\n",
    "    <td>2</td>\n",
    "    <td>Pullover</td>\n",
    "  </tr>\n",
    "    <tr>\n",
    "    <td>3</td>\n",
    "    <td>Dress</td>\n",
    "  </tr>\n",
    "    <tr>\n",
    "    <td>4</td>\n",
    "    <td>Coat</td>\n",
    "  </tr>\n",
    "    <tr>\n",
    "    <td>5</td>\n",
    "    <td>Sandal</td>\n",
    "  </tr>\n",
    "    <tr>\n",
    "    <td>6</td>\n",
    "    <td>Shirt</td>\n",
    "  </tr>\n",
    "    <tr>\n",
    "    <td>7</td>\n",
    "    <td>Sneaker</td>\n",
    "  </tr>\n",
    "    <tr>\n",
    "    <td>8</td>\n",
    "    <td>Bag</td>\n",
    "  </tr>\n",
    "    <tr>\n",
    "    <td>9</td>\n",
    "    <td>Ankle boot</td>\n",
    "  </tr>\n",
    "</table>\n",
    "\n",
    "각 이미지는 하나의 레이블에 매핑되어 있다. 데이터셋에 클래스 이름이 들어있지 않기 때문에 나중에 이미지를 출력할 때 사용하기 위해 별도의 변수를 만들어 저장한다."
   ]
  },
  {
   "cell_type": "code",
   "execution_count": null,
   "metadata": {},
   "outputs": [],
   "source": [
    "import tensorflow as tf\n",
    "from tensorflow import keras\n",
    "from tensorflow.keras import layers, models, optimizers\n",
    "\n",
    "import numpy as np\n",
    "import matplotlib.pyplot as plt\n",
    "\n",
    "import os\n",
    "import random\n",
    "\n",
    "# seed 값 설정\n",
    "random.seed(0)\n",
    "np.random.seed(0)\n",
    "tf.random.set_seed(0)"
   ]
  },
  {
   "cell_type": "code",
   "execution_count": null,
   "metadata": {
    "slideshow": {
     "slide_type": "fragment"
    }
   },
   "outputs": [],
   "source": [
    "class_names = np.array(['T-shirt/top', 'Trousers', 'Pullover', 'Dress', 'Coat', 'Sandal', 'Shirt', 'Sneaker', 'Bag', 'Ankle boot'])"
   ]
  },
  {
   "cell_type": "code",
   "execution_count": 39,
   "metadata": {
    "colab": {
     "base_uri": "https://localhost:8080/"
    },
    "executionInfo": {
     "elapsed": 666,
     "status": "ok",
     "timestamp": 1707200585942,
     "user": {
      "displayName": "Sunghwan KIM",
      "userId": "06010856989212311727"
     },
     "user_tz": -540
    },
    "id": "_XB-qLijFUhK",
    "outputId": "34733bb3-6a5d-4705-97c0-1ae8b6ee0168"
   },
   "outputs": [
    {
     "data": {
      "text/plain": [
       "array(['T-shirt/top', 'Pullover', 'T-shirt/top', 'Trousers'], dtype='<U11')"
      ]
     },
     "execution_count": 39,
     "metadata": {},
     "output_type": "execute_result"
    }
   ],
   "source": [
    "# class_names[[0, 2, 0, 1]]"
   ]
  },
  {
   "cell_type": "markdown",
   "metadata": {
    "slideshow": {
     "slide_type": "slide"
    }
   },
   "source": [
    "##### Data 로딩"
   ]
  },
  {
   "cell_type": "code",
   "execution_count": 40,
   "metadata": {
    "colab": {
     "base_uri": "https://localhost:8080/"
    },
    "executionInfo": {
     "elapsed": 1085,
     "status": "ok",
     "timestamp": 1707200619479,
     "user": {
      "displayName": "Sunghwan KIM",
      "userId": "06010856989212311727"
     },
     "user_tz": -540
    },
    "id": "AM6dSJTUe50l",
    "outputId": "7b7e17c7-0d03-4752-de5c-b2d6b723f9fc"
   },
   "outputs": [
    {
     "name": "stdout",
     "output_type": "stream",
     "text": [
      "Downloading data from https://storage.googleapis.com/tensorflow/tf-keras-datasets/train-labels-idx1-ubyte.gz\n",
      "29515/29515 [==============================] - 0s 0us/step\n",
      "Downloading data from https://storage.googleapis.com/tensorflow/tf-keras-datasets/train-images-idx3-ubyte.gz\n",
      "26421880/26421880 [==============================] - 0s 0us/step\n",
      "Downloading data from https://storage.googleapis.com/tensorflow/tf-keras-datasets/t10k-labels-idx1-ubyte.gz\n",
      "5148/5148 [==============================] - 0s 0us/step\n",
      "Downloading data from https://storage.googleapis.com/tensorflow/tf-keras-datasets/t10k-images-idx3-ubyte.gz\n",
      "4422102/4422102 [==============================] - 0s 0us/step\n"
     ]
    },
    {
     "data": {
      "text/plain": [
       "((60000, 28, 28), (60000,), (10000, 28, 28), (10000,))"
      ]
     },
     "execution_count": 40,
     "metadata": {},
     "output_type": "execute_result"
    }
   ],
   "source": [
    "(train_image, y_train), (test_image, y_test) = keras.datasets.fashion_mnist.load_data()\n",
    "train_image.shape, y_train.shape, test_image.shape, y_test.shape"
   ]
  },
  {
   "cell_type": "code",
   "execution_count": 41,
   "metadata": {
    "colab": {
     "base_uri": "https://localhost:8080/"
    },
    "executionInfo": {
     "elapsed": 452,
     "status": "ok",
     "timestamp": 1707200650672,
     "user": {
      "displayName": "Sunghwan KIM",
      "userId": "06010856989212311727"
     },
     "user_tz": -540
    },
    "id": "XQpzuHW9e50m",
    "outputId": "63e9d64e-830e-40c1-e2b3-62386e8e7765",
    "scrolled": true
   },
   "outputs": [
    {
     "data": {
      "text/plain": [
       "(array([0, 1, 2, 3, 4, 5, 6, 7, 8, 9], dtype=uint8),\n",
       " array([6000, 6000, 6000, 6000, 6000, 6000, 6000, 6000, 6000, 6000]))"
      ]
     },
     "execution_count": 41,
     "metadata": {},
     "output_type": "execute_result"
    }
   ],
   "source": [
    "np.unique(y_train, return_counts=True)"
   ]
  },
  {
   "cell_type": "markdown",
   "metadata": {
    "slideshow": {
     "slide_type": "fragment"
    }
   },
   "source": [
    "##### validatation dataset set  분리\n",
    "- Train set을 Train/validation set으로 분리"
   ]
  },
  {
   "cell_type": "markdown",
   "metadata": {
    "slideshow": {
     "slide_type": "slide"
    }
   },
   "source": [
    "##### 이미지 확인"
   ]
  },
  {
   "cell_type": "code",
   "execution_count": 42,
   "metadata": {
    "colab": {
     "base_uri": "https://localhost:8080/"
    },
    "executionInfo": {
     "elapsed": 333,
     "status": "ok",
     "timestamp": 1707200800113,
     "user": {
      "displayName": "Sunghwan KIM",
      "userId": "06010856989212311727"
     },
     "user_tz": -540
    },
    "id": "vVdpHw7lGNP9",
    "outputId": "4b3624b0-8729-4f11-9135-5d34b6f8964a"
   },
   "outputs": [
    {
     "data": {
      "text/plain": [
       "0"
      ]
     },
     "execution_count": 42,
     "metadata": {},
     "output_type": "execute_result"
    }
   ],
   "source": [
    "y_train[2]"
   ]
  },
  {
   "cell_type": "code",
   "execution_count": 45,
   "metadata": {
    "colab": {
     "base_uri": "https://localhost:8080/",
     "height": 670
    },
    "executionInfo": {
     "elapsed": 9025,
     "status": "ok",
     "timestamp": 1707200900504,
     "user": {
      "displayName": "Sunghwan KIM",
      "userId": "06010856989212311727"
     },
     "user_tz": -540
    },
    "id": "TD34KHEOe50r",
    "outputId": "357e75da-0ee7-47e1-c29c-7e5f5616fdc0"
   },
   "outputs": [
    {
     "data": {
      "image/png": "[encoded data removed]",
      "text/plain": [
       "<Figure size 700x700 with 40 Axes>"
      ]
     },
     "metadata": {},
     "output_type": "display_data"
    }
   ],
   "source": [
    "cnt = 25  # 확인할 이미지개수 (5배수)\n",
    "plt.figure(figsize=(7,7))\n",
    "for i in range(cnt):\n",
    "    plt.subplot(5, int(cnt/5), i+1)\n",
    "    plt.imshow(train_image[i], cmap='Greys')  # gray: 0-black, 255: white,  Greys: 0-white, 255-black\n",
    "    label = class_names[y_train[i]]\n",
    "    plt.title(label)\n",
    "\n",
    "plt.tight_layout()\n",
    "plt.show()"
   ]
  },
  {
   "cell_type": "markdown",
   "metadata": {
    "slideshow": {
     "slide_type": "slide"
    }
   },
   "source": [
    "#### 하이퍼파라미터, 변수 설정"
   ]
  },
  {
   "cell_type": "code",
   "execution_count": null,
   "metadata": {},
   "outputs": [],
   "source": [
    "LEARNING_RATE = 0.001  # 학습률\n",
    "N_EPOCH = 20          # 에폭수\n",
    "N_BATCH = 1000         # 배치 사이즈"
   ]
  },
  {
   "cell_type": "markdown",
   "metadata": {
    "slideshow": {
     "slide_type": "fragment"
    }
   },
   "source": [
    "#### X, y  전처리\n",
    "- y값 처리\n",
    "    1. 다중 분류에서 label encoding 형식의 label을 one hot encoding 처리 ==> loss: categorical_crossentropy\n",
    "    2. label encoding 형식의 label을 그대로 모델에 전달. => loss: sparse_categorical_crossentropy\n",
    "        - one hot encoding 처리를 loss가 대신 한다."
   ]
  },
  {
   "cell_type": "markdown",
   "metadata": {
    "slideshow": {
     "slide_type": "fragment"
    }
   },
   "source": [
    "- x값(이미지) 처리\n",
    "    - dtype을 uint8에서 float32로 변환한다.\n",
    "    - 0 ~ 1 정규화. X/255.0으로 나눈다."
   ]
  },
  {
   "cell_type": "code",
   "execution_count": 47,
   "metadata": {
    "colab": {
     "base_uri": "https://localhost:8080/"
    },
    "executionInfo": {
     "elapsed": 382,
     "status": "ok",
     "timestamp": 1707201053593,
     "user": {
      "displayName": "Sunghwan KIM",
      "userId": "06010856989212311727"
     },
     "user_tz": -540
    },
    "id": "-IgEjtNZHJA0",
    "outputId": "5fe20029-43c9-4532-eab0-8c490c783f7e"
   },
   "outputs": [
    {
     "data": {
      "text/plain": [
       "dtype('uint8')"
      ]
     },
     "execution_count": 47,
     "metadata": {},
     "output_type": "execute_result"
    }
   ],
   "source": [
    "train_image.dtype"
   ]
  },
  {
   "cell_type": "code",
   "execution_count": null,
   "metadata": {},
   "outputs": [],
   "source": [
    "X_train = train_image.astype('float32')/255.0\n",
    "X_test = test_image.astype('float32')/255.0"
   ]
  },
  {
   "cell_type": "code",
   "execution_count": 49,
   "metadata": {
    "colab": {
     "base_uri": "https://localhost:8080/"
    },
    "executionInfo": {
     "elapsed": 397,
     "status": "ok",
     "timestamp": 1707201196161,
     "user": {
      "displayName": "Sunghwan KIM",
      "userId": "06010856989212311727"
     },
     "user_tz": -540
    },
    "id": "YtZQaEa2e50r",
    "outputId": "c713bd6a-33b2-4f17-cf81-0401849bfa72"
   },
   "outputs": [
    {
     "name": "stdout",
     "output_type": "stream",
     "text": [
      "0 255\n",
      "0.0 1.0\n"
     ]
    }
   ],
   "source": [
    "print(train_image.min(), train_image.max())\n",
    "print(X_train.min(), X_train.max())"
   ]
  },
  {
   "cell_type": "code",
   "execution_count": 50,
   "metadata": {
    "colab": {
     "base_uri": "https://localhost:8080/"
    },
    "executionInfo": {
     "elapsed": 3,
     "status": "ok",
     "timestamp": 1707201209455,
     "user": {
      "displayName": "Sunghwan KIM",
      "userId": "06010856989212311727"
     },
     "user_tz": -540
    },
    "id": "qkd27Y_de50r",
    "outputId": "66be4f72-9484-41a8-ae37-2c2de1d08a1a"
   },
   "outputs": [
    {
     "data": {
      "text/plain": [
       "((60000, 28, 28), (10000, 28, 28))"
      ]
     },
     "execution_count": 50,
     "metadata": {},
     "output_type": "execute_result"
    }
   ],
   "source": [
    "X_train.shape, X_test.shape"
   ]
  },
  {
   "cell_type": "markdown",
   "metadata": {
    "id": "jPIBBcgUe50r"
   },
   "source": [
    "##### 모델 생성 및 컴파일"
   ]
  },
  {
   "cell_type": "code",
   "execution_count": null,
   "metadata": {},
   "outputs": [],
   "source": [
    "def get_model_fashion(lr=0.01):\n",
    "    model = keras.Sequential()\n",
    "    \n",
    "    model.add(layers.Flatten(input_shape=(28, 28)))\n",
    "    \n",
    "    # Dense Layer의 Unit개수는 점점 줄여나가는 패턴을 사용.\n",
    "    model.add(layers.Dense(256, activation='relu'))\n",
    "    model.add(layers.Dense(128, activation='relu'))\n",
    "    model.add(layers.Dense(64, activation='relu'))\n",
    "    model.add(layers.Dense(32, activation='relu'))\n",
    "    \n",
    "    # output layer\n",
    "    ## class 별 확률을 출력해야하므로 activation은 softmax를 사용하고 fashion mnist class개수인 10을 unit개수로 지정한다.\n",
    "    model.add(layers.Dense(10, activation='softmax', name='output'))\n",
    "    \n",
    "    # 컴파일\n",
    "    # 다중분류 loss함수:\n",
    "    #   y가 one hot encoding이 안된 경우: sparse_categorical_crossentropy  (원핫인코딩 후 loss를 계산한다.)\n",
    "    #   y를 one hot encoding 한 경우: categorical_crossentropy\n",
    "    model.compile(optimizer=optimizers.Adam(learning_rate=lr), \n",
    "                  loss='sparse_categorical_crossentropy',   \n",
    "                  metrics=['accuracy']\n",
    "                 )\n",
    "    return model"
   ]
  },
  {
   "cell_type": "code",
   "execution_count": 57,
   "metadata": {
    "colab": {
     "base_uri": "https://localhost:8080/"
    },
    "executionInfo": {
     "elapsed": 5,
     "status": "ok",
     "timestamp": 1707201990768,
     "user": {
      "displayName": "Sunghwan KIM",
      "userId": "06010856989212311727"
     },
     "user_tz": -540
    },
    "id": "o--GU0fLe50s",
    "outputId": "a848d9b8-e927-42eb-de5e-54c9ad4e9a1a"
   },
   "outputs": [
    {
     "name": "stdout",
     "output_type": "stream",
     "text": [
      "Model: \"sequential_3\"\n",
      "_________________________________________________________________\n",
      " Layer (type)                Output Shape              Param #   \n",
      "=================================================================\n",
      " flatten_1 (Flatten)         (None, 784)               0         \n",
      "                                                                 \n",
      " dense_11 (Dense)            (None, 256)               200960    \n",
      "                                                                 \n",
      " dense_12 (Dense)            (None, 128)               32896     \n",
      "                                                                 \n",
      " dense_13 (Dense)            (None, 64)                8256      \n",
      "                                                                 \n",
      " dense_14 (Dense)            (None, 32)                2080      \n",
      "                                                                 \n",
      " output (Dense)              (None, 10)                330       \n",
      "                                                                 \n",
      "=================================================================\n",
      "Total params: 244522 (955.16 KB)\n",
      "Trainable params: 244522 (955.16 KB)\n",
      "Non-trainable params: 0 (0.00 Byte)\n",
      "_________________________________________________________________\n"
     ]
    }
   ],
   "source": [
    "model_fashion = get_model_fashion(LEARNING_RATE)\n",
    "model_fashion.summary()"
   ]
  },
  {
   "cell_type": "code",
   "execution_count": 54,
   "metadata": {
    "colab": {
     "base_uri": "https://localhost:8080/",
     "height": 754
    },
    "executionInfo": {
     "elapsed": 550,
     "status": "ok",
     "timestamp": 1707201848040,
     "user": {
      "displayName": "Sunghwan KIM",
      "userId": "06010856989212311727"
     },
     "user_tz": -540
    },
    "id": "fAK7sTR9e50s",
    "outputId": "7dc8d7f2-9533-4378-ec7f-1971baaaf062"
   },
   "outputs": [
    {
     "data": {
      "image/png": "[encoded data removed]",
      "text/plain": [
       "<IPython.core.display.Image object>"
      ]
     },
     "execution_count": 54,
     "metadata": {},
     "output_type": "execute_result"
    }
   ],
   "source": [
    "keras.utils.plot_model(model_fashion, show_shapes=True)"
   ]
  },
  {
   "cell_type": "markdown",
   "metadata": {
    "slideshow": {
     "slide_type": "slide"
    }
   },
   "source": [
    "##### Train(학습)"
   ]
  },
  {
   "cell_type": "code",
   "execution_count": 58,
   "metadata": {
    "colab": {
     "base_uri": "https://localhost:8080/"
    },
    "executionInfo": {
     "elapsed": 42495,
     "status": "ok",
     "timestamp": 1707202038093,
     "user": {
      "displayName": "Sunghwan KIM",
      "userId": "06010856989212311727"
     },
     "user_tz": -540
    },
    "id": "E1EwSzV8e50s",
    "outputId": "f3ebc913-53d5-4d3b-e3b6-5c06179758ba",
    "scrolled": true
   },
   "outputs": [
    {
     "name": "stdout",
     "output_type": "stream",
     "text": [
      "Epoch 1/20\n",
      "48/48 [==============================] - 3s 38ms/step - loss: 0.9097 - accuracy: 0.6946 - val_loss: 0.5737 - val_accuracy: 0.7972\n",
      "Epoch 2/20\n",
      "48/48 [==============================] - 2s 33ms/step - loss: 0.4960 - accuracy: 0.8266 - val_loss: 0.4515 - val_accuracy: 0.8423\n",
      "Epoch 3/20\n",
      "48/48 [==============================] - 2s 33ms/step - loss: 0.4253 - accuracy: 0.8517 - val_loss: 0.4373 - val_accuracy: 0.8453\n",
      "Epoch 4/20\n",
      "48/48 [==============================] - 2s 33ms/step - loss: 0.3927 - accuracy: 0.8624 - val_loss: 0.4036 - val_accuracy: 0.8597\n",
      "Epoch 5/20\n",
      "48/48 [==============================] - 1s 30ms/step - loss: 0.3684 - accuracy: 0.8696 - val_loss: 0.3962 - val_accuracy: 0.8618\n",
      "Epoch 6/20\n",
      "48/48 [==============================] - 2s 45ms/step - loss: 0.3543 - accuracy: 0.8737 - val_loss: 0.3705 - val_accuracy: 0.8699\n",
      "Epoch 7/20\n",
      "48/48 [==============================] - 2s 49ms/step - loss: 0.3284 - accuracy: 0.8831 - val_loss: 0.3589 - val_accuracy: 0.8740\n",
      "Epoch 8/20\n",
      "48/48 [==============================] - 2s 34ms/step - loss: 0.3160 - accuracy: 0.8876 - val_loss: 0.3456 - val_accuracy: 0.8763\n",
      "Epoch 9/20\n",
      "48/48 [==============================] - 1s 30ms/step - loss: 0.3077 - accuracy: 0.8897 - val_loss: 0.3520 - val_accuracy: 0.8753\n",
      "Epoch 10/20\n",
      "48/48 [==============================] - 1s 30ms/step - loss: 0.2921 - accuracy: 0.8930 - val_loss: 0.3394 - val_accuracy: 0.8795\n",
      "Epoch 11/20\n",
      "48/48 [==============================] - 1s 30ms/step - loss: 0.2829 - accuracy: 0.8969 - val_loss: 0.3363 - val_accuracy: 0.8801\n",
      "Epoch 12/20\n",
      "48/48 [==============================] - 1s 30ms/step - loss: 0.2739 - accuracy: 0.9001 - val_loss: 0.3430 - val_accuracy: 0.8775\n",
      "Epoch 13/20\n",
      "48/48 [==============================] - 1s 30ms/step - loss: 0.2650 - accuracy: 0.9023 - val_loss: 0.3422 - val_accuracy: 0.8789\n",
      "Epoch 14/20\n",
      "48/48 [==============================] - 2s 35ms/step - loss: 0.2624 - accuracy: 0.9039 - val_loss: 0.3242 - val_accuracy: 0.8848\n",
      "Epoch 15/20\n",
      "48/48 [==============================] - 2s 51ms/step - loss: 0.2455 - accuracy: 0.9097 - val_loss: 0.3200 - val_accuracy: 0.8858\n",
      "Epoch 16/20\n",
      "48/48 [==============================] - 2s 51ms/step - loss: 0.2368 - accuracy: 0.9136 - val_loss: 0.3284 - val_accuracy: 0.8832\n",
      "Epoch 17/20\n",
      "48/48 [==============================] - 2s 36ms/step - loss: 0.2370 - accuracy: 0.9119 - val_loss: 0.3261 - val_accuracy: 0.8875\n",
      "Epoch 18/20\n",
      "48/48 [==============================] - 1s 30ms/step - loss: 0.2381 - accuracy: 0.9118 - val_loss: 0.3275 - val_accuracy: 0.8827\n",
      "Epoch 19/20\n",
      "48/48 [==============================] - 1s 30ms/step - loss: 0.2240 - accuracy: 0.9172 - val_loss: 0.3392 - val_accuracy: 0.8798\n",
      "Epoch 20/20\n",
      "48/48 [==============================] - 1s 30ms/step - loss: 0.2143 - accuracy: 0.9209 - val_loss: 0.3204 - val_accuracy: 0.8898\n"
     ]
    }
   ],
   "source": [
    "hist = model_fashion.fit(X_train, y_train,\n",
    "                         epochs=N_EPOCH,\n",
    "                         batch_size=N_BATCH,\n",
    "                         validation_split=0.2)"
   ]
  },
  {
   "cell_type": "code",
   "execution_count": 60,
   "metadata": {
    "colab": {
     "base_uri": "https://localhost:8080/"
    },
    "executionInfo": {
     "elapsed": 411,
     "status": "ok",
     "timestamp": 1707202074367,
     "user": {
      "displayName": "Sunghwan KIM",
      "userId": "06010856989212311727"
     },
     "user_tz": -540
    },
    "id": "PQYlfhuoLAaE",
    "outputId": "8b52847f-8332-49aa-aec5-aa8638bd14ee"
   },
   "outputs": [
    {
     "data": {
      "text/plain": [
       "48.0"
      ]
     },
     "execution_count": 60,
     "metadata": {},
     "output_type": "execute_result"
    }
   ],
   "source": [
    "60000*0.8/1000"
   ]
  },
  {
   "cell_type": "code",
   "execution_count": null,
   "metadata": {
    "id": "aAVJ2LvcLKLY"
   },
   "outputs": [],
   "source": [
    "1s 30ms/step - loss: 0.2143 - accuracy: 0.9209 - val_loss: 0.3204 - val_accuracy: 0.8898"
   ]
  },
  {
   "cell_type": "markdown",
   "metadata": {
    "slideshow": {
     "slide_type": "fragment"
    }
   },
   "source": [
    "##### 결과 시각화\n",
    "- 학습 시 epoch별 검증 결과를 시각화한다."
   ]
  },
  {
   "cell_type": "code",
   "execution_count": 61,
   "metadata": {
    "colab": {
     "base_uri": "https://localhost:8080/",
     "height": 507
    },
    "executionInfo": {
     "elapsed": 1145,
     "status": "ok",
     "timestamp": 1707202427901,
     "user": {
      "displayName": "Sunghwan KIM",
      "userId": "06010856989212311727"
     },
     "user_tz": -540
    },
    "id": "HxdN_FoJe50s",
    "outputId": "b83bfce3-7b6b-413b-8143-e0afe269d27c"
   },
   "outputs": [
    {
     "data": {
      "image/png": "[encoded data removed]",
      "text/plain": [
       "<Figure size 1000x500 with 2 Axes>"
      ]
     },
     "metadata": {},
     "output_type": "display_data"
    }
   ],
   "source": [
    "plt.figure(figsize=(10, 5))\n",
    "plt.subplot(1, 2, 1)\n",
    "plt.plot(hist.epoch, hist.history['loss'], label=\"train\")\n",
    "plt.plot(hist.epoch, hist.history['val_loss'], label='validation')\n",
    "plt.title('Loss')\n",
    "plt.xlabel('Epoch')\n",
    "plt.ylabel('loss')\n",
    "plt.legend()\n",
    "\n",
    "plt.subplot(1, 2, 2)\n",
    "plt.plot(hist.epoch, hist.history['accuracy'], label='train')\n",
    "plt.plot(hist.epoch, hist.history['val_accuracy'], label='validation')\n",
    "plt.title('Accuracy')\n",
    "plt.xlabel('Epoch')\n",
    "plt.ylabel('accuracy')\n",
    "plt.legend()\n",
    "\n",
    "plt.tight_layout()\n",
    "plt.show()"
   ]
  },
  {
   "cell_type": "markdown",
   "metadata": {
    "slideshow": {
     "slide_type": "slide"
    }
   },
   "source": [
    "#### 최종평가"
   ]
  },
  {
   "cell_type": "code",
   "execution_count": 62,
   "metadata": {
    "colab": {
     "base_uri": "https://localhost:8080/"
    },
    "executionInfo": {
     "elapsed": 1006,
     "status": "ok",
     "timestamp": 1707202482377,
     "user": {
      "displayName": "Sunghwan KIM",
      "userId": "06010856989212311727"
     },
     "user_tz": -540
    },
    "id": "Srq0WCkIe50s",
    "outputId": "2d9b4579-c10e-49b0-8e39-e6e2f77d2496"
   },
   "outputs": [
    {
     "name": "stdout",
     "output_type": "stream",
     "text": [
      "313/313 [==============================] - 1s 2ms/step - loss: 0.3399 - accuracy: 0.8819\n"
     ]
    }
   ],
   "source": [
    "loss, acc = model_fashion.evaluate(X_test, y_test)"
   ]
  },
  {
   "cell_type": "code",
   "execution_count": 63,
   "metadata": {
    "colab": {
     "base_uri": "https://localhost:8080/"
    },
    "executionInfo": {
     "elapsed": 364,
     "status": "ok",
     "timestamp": 1707202487792,
     "user": {
      "displayName": "Sunghwan KIM",
      "userId": "06010856989212311727"
     },
     "user_tz": -540
    },
    "id": "JBWUjuxke50s",
    "outputId": "c1b36245-a24c-4a62-84b5-80ec340fe3e6"
   },
   "outputs": [
    {
     "name": "stdout",
     "output_type": "stream",
     "text": [
      "테스트결과: Loss: 0.3398779332637787, 정확도: 0.8819000124931335\n"
     ]
    }
   ],
   "source": [
    "print(f\"테스트결과: Loss: {loss}, 정확도: {acc}\")"
   ]
  },
  {
   "cell_type": "markdown",
   "metadata": {
    "slideshow": {
     "slide_type": "fragment"
    }
   },
   "source": [
    "#### 모델저장"
   ]
  },
  {
   "cell_type": "code",
   "execution_count": 65,
   "metadata": {
    "colab": {
     "base_uri": "https://localhost:8080/"
    },
    "executionInfo": {
     "elapsed": 359,
     "status": "ok",
     "timestamp": 1707203427339,
     "user": {
      "displayName": "Sunghwan KIM",
      "userId": "06010856989212311727"
     },
     "user_tz": -540
    },
    "id": "iIJ4njIPe50t",
    "outputId": "8fdeba44-263f-4cb2-c74b-7c7f5d9047f3"
   },
   "outputs": [
    {
     "name": "stdout",
     "output_type": "stream",
     "text": [
      "/content/drive/MyDrive/my_model/saved_model/fashion_mnist_model\n"
     ]
    }
   ],
   "source": [
    "# import os\n",
    "# base_dir = \"/content/drive/MyDrive/my_model\"\n",
    "# save_dir_fashion = os.path.join(base_dir,'saved_model/fashion_mnist_model')\n",
    "# print(save_dir_fashion)"
   ]
  },
  {
   "cell_type": "code",
   "execution_count": null,
   "metadata": {},
   "outputs": [],
   "source": [
    "save_dir_fashion = 'saved_model/fashion_mnist_model'"
   ]
  },
  {
   "cell_type": "code",
   "execution_count": null,
   "metadata": {},
   "outputs": [],
   "source": [
    "model_fashion.save(save_dir_fashion)"
   ]
  },
  {
   "cell_type": "markdown",
   "metadata": {
    "slideshow": {
     "slide_type": "slide"
    }
   },
   "source": [
    "#### 새로운 데이터 추론"
   ]
  },
  {
   "cell_type": "code",
   "execution_count": 67,
   "metadata": {
    "colab": {
     "base_uri": "https://localhost:8080/"
    },
    "executionInfo": {
     "elapsed": 3671,
     "status": "ok",
     "timestamp": 1707203474561,
     "user": {
      "displayName": "Sunghwan KIM",
      "userId": "06010856989212311727"
     },
     "user_tz": -540
    },
    "id": "5e-y_aJ7e50t",
    "outputId": "f5e805a0-19bf-4768-cadc-da512d356365"
   },
   "outputs": [
    {
     "name": "stdout",
     "output_type": "stream",
     "text": [
      "313/313 [==============================] - 2s 5ms/step - loss: 0.3399 - accuracy: 0.8819\n"
     ]
    },
    {
     "data": {
      "text/plain": [
       "[0.3398779332637787, 0.8819000124931335]"
      ]
     },
     "execution_count": 67,
     "metadata": {},
     "output_type": "execute_result"
    }
   ],
   "source": [
    "# 저장된 모델을 loading해서 추론\n",
    "saved_model_fashion = keras.models.load_model(save_dir_fashion)\n",
    "saved_model_fashion.evaluate(X_test, y_test)"
   ]
  },
  {
   "cell_type": "code",
   "execution_count": 68,
   "metadata": {
    "colab": {
     "base_uri": "https://localhost:8080/"
    },
    "executionInfo": {
     "elapsed": 5,
     "status": "ok",
     "timestamp": 1707203587075,
     "user": {
      "displayName": "Sunghwan KIM",
      "userId": "06010856989212311727"
     },
     "user_tz": -540
    },
    "id": "uM77je7Ye50t",
    "outputId": "c4be6d02-b602-488e-f544-22de6f28e0f1"
   },
   "outputs": [
    {
     "data": {
      "text/plain": [
       "(10, 28, 28)"
      ]
     },
     "execution_count": 68,
     "metadata": {},
     "output_type": "execute_result"
    }
   ],
   "source": [
    "new_X = X_test[1000:1010]\n",
    "new_X.shape"
   ]
  },
  {
   "cell_type": "code",
   "execution_count": 69,
   "metadata": {
    "colab": {
     "base_uri": "https://localhost:8080/"
    },
    "executionInfo": {
     "elapsed": 379,
     "status": "ok",
     "timestamp": 1707203648053,
     "user": {
      "displayName": "Sunghwan KIM",
      "userId": "06010856989212311727"
     },
     "user_tz": -540
    },
    "id": "iQuHOu6Fe50t",
    "outputId": "a03f403f-e0ba-4755-80bd-e765d8160a1c"
   },
   "outputs": [
    {
     "name": "stdout",
     "output_type": "stream",
     "text": [
      "1/1 [==============================] - 0s 89ms/step\n"
     ]
    },
    {
     "data": {
      "text/plain": [
       "(10, 10)"
      ]
     },
     "execution_count": 69,
     "metadata": {},
     "output_type": "execute_result"
    }
   ],
   "source": [
    "pred = saved_model_fashion.predict(new_X)\n",
    "pred.shape"
   ]
  },
  {
   "cell_type": "code",
   "execution_count": 70,
   "metadata": {
    "colab": {
     "base_uri": "https://localhost:8080/"
    },
    "executionInfo": {
     "elapsed": 410,
     "status": "ok",
     "timestamp": 1707203668577,
     "user": {
      "displayName": "Sunghwan KIM",
      "userId": "06010856989212311727"
     },
     "user_tz": -540
    },
    "id": "F7RUFH1hRJnR",
    "outputId": "c91448a5-9c9c-40fb-928a-71a3fe063c74",
    "scrolled": true
   },
   "outputs": [
    {
     "data": {
      "text/plain": [
       "array([[1.6904451e-01, 4.5912813e-07, 7.7732920e-04, 3.3558946e-04,\n",
       "        8.8801079e-07, 6.7237681e-13, 8.2983309e-01, 4.1476831e-09,\n",
       "        8.1057779e-06, 4.7586468e-08],\n",
       "       [1.8662295e-05, 1.0630459e-06, 1.5083683e-05, 9.9970567e-01,\n",
       "        1.9168983e-04, 1.1929228e-11, 6.3967731e-05, 6.5385634e-11,\n",
       "        3.9474539e-06, 2.4995865e-08],\n",
       "       [3.7067946e-11, 1.0433397e-08, 9.0618499e-07, 6.6944438e-07,\n",
       "        6.2185861e-09, 9.9998862e-01, 8.2696801e-07, 2.6061986e-09,\n",
       "        6.8241765e-14, 8.8542838e-06],\n",
       "       [1.3810322e-10, 1.2604156e-08, 3.6725518e-07, 4.0236409e-06,\n",
       "        1.2765403e-07, 9.9999458e-01, 4.1668716e-07, 3.9151399e-08,\n",
       "        1.2266882e-10, 4.0931377e-07],\n",
       "       [4.0771009e-04, 3.2660150e-04, 2.5251618e-01, 2.2872361e-04,\n",
       "        1.3065225e-01, 2.3101231e-06, 6.1583120e-01, 8.7177119e-07,\n",
       "        2.1400356e-05, 1.2729330e-05],\n",
       "       [3.4745615e-03, 3.9853959e-04, 1.1534155e-01, 5.2668020e-02,\n",
       "        7.9346871e-01, 4.1627384e-08, 3.3683430e-02, 2.4308704e-08,\n",
       "        9.6153253e-04, 3.5233047e-06],\n",
       "       [2.3639126e-08, 7.2403469e-07, 9.9970002e-08, 2.3235402e-06,\n",
       "        1.7655427e-07, 9.9999541e-01, 3.3788115e-07, 9.2104727e-07,\n",
       "        4.1355705e-08, 3.9305825e-10],\n",
       "       [3.2682181e-07, 1.3331131e-10, 1.5020583e-05, 4.2040842e-06,\n",
       "        9.0286903e-08, 2.2971688e-05, 2.6300673e-05, 7.8655528e-03,\n",
       "        2.1653777e-06, 9.9206328e-01],\n",
       "       [1.8326949e-01, 2.6993093e-03, 6.7514502e-02, 1.4513742e-02,\n",
       "        1.2957481e-02, 3.1086356e-07, 7.1804863e-01, 3.8806897e-06,\n",
       "        9.7562862e-04, 1.7005255e-05],\n",
       "       [5.2110720e-03, 5.1023406e-05, 2.7716099e-04, 9.9363762e-01,\n",
       "        8.2636594e-05, 7.9117823e-11, 7.0001296e-04, 3.0656766e-09,\n",
       "        3.9846887e-05, 5.7195240e-07]], dtype=float32)"
      ]
     },
     "execution_count": 70,
     "metadata": {},
     "output_type": "execute_result"
    }
   ],
   "source": [
    "pred"
   ]
  },
  {
   "cell_type": "code",
   "execution_count": null,
   "metadata": {},
   "outputs": [],
   "source": [
    "# 모델 추론결과에 대한 후처리 작업\n",
    "## class, class name 조회\n",
    "label = np.argmax(pred, axis=-1)\n",
    "label_name = class_names[label]\n",
    "## 확률 조회\n",
    "proba = np.max(pred, axis=-1) "
   ]
  },
  {
   "cell_type": "code",
   "execution_count": 75,
   "metadata": {
    "colab": {
     "base_uri": "https://localhost:8080/"
    },
    "executionInfo": {
     "elapsed": 593,
     "status": "ok",
     "timestamp": 1707203937698,
     "user": {
      "displayName": "Sunghwan KIM",
      "userId": "06010856989212311727"
     },
     "user_tz": -540
    },
    "id": "6vrmu3kZSGRs",
    "outputId": "0c377b3e-9b03-4827-cb27-696340ea2eb0"
   },
   "outputs": [
    {
     "data": {
      "text/plain": [
       "((10,), (10,), (10,))"
      ]
     },
     "execution_count": 75,
     "metadata": {},
     "output_type": "execute_result"
    }
   ],
   "source": [
    "label.shape, label_name.shape, proba.shape"
   ]
  },
  {
   "cell_type": "code",
   "execution_count": 76,
   "metadata": {
    "colab": {
     "base_uri": "https://localhost:8080/"
    },
    "executionInfo": {
     "elapsed": 345,
     "status": "ok",
     "timestamp": 1707203967067,
     "user": {
      "displayName": "Sunghwan KIM",
      "userId": "06010856989212311727"
     },
     "user_tz": -540
    },
    "id": "dW85xcoWe50t",
    "outputId": "4a2656f4-9318-4c79-985a-51554c22216a"
   },
   "outputs": [
    {
     "name": "stdout",
     "output_type": "stream",
     "text": [
      "1. Shirt - 82%\n",
      "2. Dress - 99%\n",
      "3. Sandal - 99%\n",
      "4. Sandal - 99%\n",
      "5. Shirt - 61%\n",
      "6. Coat - 79%\n",
      "7. Sandal - 99%\n",
      "8. Ankle boot - 99%\n",
      "9. Shirt - 71%\n",
      "10. Dress - 99%\n"
     ]
    }
   ],
   "source": [
    "for idx, (n, p) in enumerate(zip(label_name, proba), start=1):\n",
    "    print(f\"{idx}. {n} - {int(p*100)}%\")"
   ]
  },
  {
   "cell_type": "code",
   "execution_count": null,
   "metadata": {},
   "outputs": [],
   "source": [
    "# 정답과 비교\n",
    "class_names[y_test[1000:1010]]"
   ]
  },
  {
   "cell_type": "markdown",
   "metadata": {
    "slideshow": {
     "slide_type": "slide"
    }
   },
   "source": [
    "## 위스콘신 유방암 데이터셋 - 이진분류(Binary Classification) 문제\n",
    "\n",
    "- **이진 분류 문제 처리 모델의 두가지 방법**\n",
    "    1. positive(1)일 확률을 출력하도록 구현\n",
    "        - output layer: units=1, activation='sigmoid'\n",
    "        - loss: binary_crossentropy\n",
    "    2. negative(0)일 확률과 positive(1)일 확률을 출력하도록 구현 => 다중분류 처리 방식으로 해결\n",
    "        - output layer: units=2, activation='softmax', y(정답)은 one hot encoding 처리\n",
    "        - loss: categorical_crossentropy\n",
    "        \n",
    "- 위스콘신 대학교에서 제공한 종양의 악성/양성여부 분류를 위한 데이터셋\n",
    "- Feature\n",
    "    - 종양에 대한 다양한 측정값들\n",
    "- Target의 class\n",
    "    - 0 - malignant(악성종양)\n",
    "    - 1 - benign(양성종양)"
   ]
  },
  {
   "cell_type": "code",
   "execution_count": null,
   "metadata": {},
   "outputs": [],
   "source": [
    "import tensorflow as tf\n",
    "from tensorflow import keras\n",
    "from tensorflow.keras import layers, models, optimizers\n",
    "\n",
    "from sklearn.datasets import load_breast_cancer\n",
    "from sklearn.model_selection import train_test_split\n",
    "from sklearn.preprocessing import StandardScaler\n",
    "\n",
    "import random\n",
    "import numpy as np\n",
    "import matplotlib.pyplot as plt\n",
    "\n",
    "random.seed(0)\n",
    "np.random.seed(0)\n",
    "tf.random.set_seed(0)"
   ]
  },
  {
   "cell_type": "markdown",
   "metadata": {
    "slideshow": {
     "slide_type": "slide"
    }
   },
   "source": [
    "##### 데이터 로딩, train/validation/test set 나누기"
   ]
  },
  {
   "cell_type": "code",
   "execution_count": 79,
   "metadata": {
    "colab": {
     "base_uri": "https://localhost:8080/"
    },
    "executionInfo": {
     "elapsed": 353,
     "status": "ok",
     "timestamp": 1707204565188,
     "user": {
      "displayName": "Sunghwan KIM",
      "userId": "06010856989212311727"
     },
     "user_tz": -540
    },
    "id": "J0ZCBCgge50u",
    "outputId": "80b3fc69-e265-4801-93ef-4d96695cccee"
   },
   "outputs": [
    {
     "data": {
      "text/plain": [
       "((569, 30), (569,))"
      ]
     },
     "execution_count": 79,
     "metadata": {},
     "output_type": "execute_result"
    }
   ],
   "source": [
    "X, y = load_breast_cancer(return_X_y=True)\n",
    "X.shape, y.shape"
   ]
  },
  {
   "cell_type": "code",
   "execution_count": null,
   "metadata": {},
   "outputs": [],
   "source": [
    "# Test set 분리\n",
    "X_train, X_test, y_train, y_test = train_test_split(X, y, test_size=0.2, stratify=y, random_state=0)\n",
    "# Train / Validation 분리\n",
    "X_train, X_val, y_train, y_val = train_test_split(X_train, y_train, test_size=0.2, stratify=y_train, random_state=0)"
   ]
  },
  {
   "cell_type": "code",
   "execution_count": 81,
   "metadata": {
    "colab": {
     "base_uri": "https://localhost:8080/"
    },
    "executionInfo": {
     "elapsed": 404,
     "status": "ok",
     "timestamp": 1707204624153,
     "user": {
      "displayName": "Sunghwan KIM",
      "userId": "06010856989212311727"
     },
     "user_tz": -540
    },
    "id": "GlD_9emke50u",
    "outputId": "2f2feb24-93c7-40bf-9bc1-1065befafc38"
   },
   "outputs": [
    {
     "data": {
      "text/plain": [
       "((364, 30), (91, 30), (114, 30))"
      ]
     },
     "execution_count": 81,
     "metadata": {},
     "output_type": "execute_result"
    }
   ],
   "source": [
    "X_train.shape, X_val.shape, X_test.shape"
   ]
  },
  {
   "cell_type": "markdown",
   "metadata": {
    "slideshow": {
     "slide_type": "slide"
    }
   },
   "source": [
    "#### 하이퍼파라미터, 변수 정의"
   ]
  },
  {
   "cell_type": "code",
   "execution_count": null,
   "metadata": {},
   "outputs": [],
   "source": [
    "LEARNING_RATE = 0.001\n",
    "N_EPOCH = 50\n",
    "N_BATCH = 100"
   ]
  },
  {
   "cell_type": "code",
   "execution_count": 83,
   "metadata": {
    "colab": {
     "base_uri": "https://localhost:8080/"
    },
    "executionInfo": {
     "elapsed": 355,
     "status": "ok",
     "timestamp": 1707204660724,
     "user": {
      "displayName": "Sunghwan KIM",
      "userId": "06010856989212311727"
     },
     "user_tz": -540
    },
    "id": "cunmAFu7U7hk",
    "outputId": "362ca53a-6c42-48fc-b091-fa81fa7faeae"
   },
   "outputs": [
    {
     "data": {
      "text/plain": [
       "array([0, 1])"
      ]
     },
     "execution_count": 83,
     "metadata": {},
     "output_type": "execute_result"
    }
   ],
   "source": [
    "np.unique(y) # array([0, 1])"
   ]
  },
  {
   "cell_type": "markdown",
   "metadata": {
    "slideshow": {
     "slide_type": "fragment"
    }
   },
   "source": [
    "#### 데이터 전처리\n",
    "- y (label) 처리\n",
    "    - 이진 분류\n",
    "        - 양성의 확률을 출력하도록 모델을 구성하는 경우 그대로 사용.\n",
    "        - 양성일 확률, 음성일 확률을 출력하도록 모델을 구성하는 경우(다중분류 방식으로 처리) one hot encoding 처리한다.\n",
    "- X (feature) 처리\n",
    "    - 문자열(범주형): one hot encoding\n",
    "    - 연속형(수치형): feature scaling"
   ]
  },
  {
   "cell_type": "code",
   "execution_count": null,
   "metadata": {},
   "outputs": [],
   "source": [
    "# Feature scaling\n",
    "scaler = StandardScaler()\n",
    "X_train_scaled = scaler.fit_transform(X_train)\n",
    "X_val_scaled = scaler.transform(X_val)\n",
    "X_test_scaled = scaler.transform(X_test)"
   ]
  },
  {
   "cell_type": "markdown",
   "metadata": {
    "slideshow": {
     "slide_type": "slide"
    }
   },
   "source": [
    "#### model 생성, 컴파일"
   ]
  },
  {
   "cell_type": "code",
   "execution_count": 85,
   "metadata": {
    "colab": {
     "base_uri": "https://localhost:8080/"
    },
    "executionInfo": {
     "elapsed": 348,
     "status": "ok",
     "timestamp": 1707204806043,
     "user": {
      "displayName": "Sunghwan KIM",
      "userId": "06010856989212311727"
     },
     "user_tz": -540
    },
    "id": "yUeYdwJ7VfEj",
    "outputId": "5af2f013-f2de-4aef-ce9b-c5b5dfa1deac"
   },
   "outputs": [
    {
     "data": {
      "text/plain": [
       "(364, 30)"
      ]
     },
     "execution_count": 85,
     "metadata": {},
     "output_type": "execute_result"
    }
   ],
   "source": [
    "X_train.shape # (364: 개수, 30: feature수)"
   ]
  },
  {
   "cell_type": "code",
   "execution_count": null,
   "metadata": {},
   "outputs": [],
   "source": [
    "from tensorflow.keras.metrics import Recall, Precision\n",
    "\n",
    "def get_model_cancer(lr=0.01):\n",
    "    model = keras.Sequential()\n",
    "    \n",
    "    #Hidden layer\n",
    "    model.add(layers.Dense(32, activation='relu', input_shape=(30,)))\n",
    "    model.add(layers.Dense(16, activation='relu'))\n",
    "    \n",
    "    # Output Layer\n",
    "    # 이진분류(양성일 확률을 출력):\n",
    "    ##  unit개수-1개(positive-양성일 확률), activation: \"sigmoid(logistic)\"\n",
    "    model.add(layers.Dense(1, activation='sigmoid', name='output_layer'))\n",
    "    \n",
    "    # 컴파일 - 이진분류의 loss함수: binary_crossentropy\n",
    "    model.compile(optimizer=optimizers.Adam(learning_rate=lr), \n",
    "                  loss='binary_crossentropy', \n",
    "                  metrics=['accuracy', Recall(), Precision()])  # Recall, Precision은 문자열을 지원안하므로 직접 객체생성한다.\n",
    "    \n",
    "    return model"
   ]
  },
  {
   "cell_type": "code",
   "execution_count": 87,
   "metadata": {
    "colab": {
     "base_uri": "https://localhost:8080/"
    },
    "executionInfo": {
     "elapsed": 422,
     "status": "ok",
     "timestamp": 1707205014973,
     "user": {
      "displayName": "Sunghwan KIM",
      "userId": "06010856989212311727"
     },
     "user_tz": -540
    },
    "id": "c3LJH8uCe50v",
    "outputId": "74d0e541-1f94-4d1a-8a04-e0750a52b87a"
   },
   "outputs": [
    {
     "name": "stdout",
     "output_type": "stream",
     "text": [
      "Model: \"sequential_4\"\n",
      "_________________________________________________________________\n",
      " Layer (type)                Output Shape              Param #   \n",
      "=================================================================\n",
      " dense_15 (Dense)            (None, 32)                992       \n",
      "                                                                 \n",
      " dense_16 (Dense)            (None, 16)                528       \n",
      "                                                                 \n",
      " output_layer (Dense)        (None, 1)                 17        \n",
      "                                                                 \n",
      "=================================================================\n",
      "Total params: 1537 (6.00 KB)\n",
      "Trainable params: 1537 (6.00 KB)\n",
      "Non-trainable params: 0 (0.00 Byte)\n",
      "_________________________________________________________________\n"
     ]
    }
   ],
   "source": [
    "model_cancer = get_model_cancer(LEARNING_RATE)\n",
    "model_cancer.summary()"
   ]
  },
  {
   "cell_type": "code",
   "execution_count": 88,
   "metadata": {
    "colab": {
     "base_uri": "https://localhost:8080/",
     "height": 422
    },
    "executionInfo": {
     "elapsed": 8,
     "status": "ok",
     "timestamp": 1707205092861,
     "user": {
      "displayName": "Sunghwan KIM",
      "userId": "06010856989212311727"
     },
     "user_tz": -540
    },
    "id": "7t7G8vjae50v",
    "outputId": "93fe4b51-b667-442e-f290-8047c4899ae7"
   },
   "outputs": [
    {
     "data": {
      "image/png": "[encoded data removed]",
      "text/plain": [
       "<IPython.core.display.Image object>"
      ]
     },
     "execution_count": 88,
     "metadata": {},
     "output_type": "execute_result"
    }
   ],
   "source": [
    "keras.utils.plot_model(model_cancer, show_shapes=True,\n",
    "                       to_file='model_cancer.png') # 이미지 경로 (생략: ./model.png)"
   ]
  },
  {
   "cell_type": "markdown",
   "metadata": {
    "slideshow": {
     "slide_type": "slide"
    }
   },
   "source": [
    "#### Train(학습)"
   ]
  },
  {
   "cell_type": "code",
   "execution_count": 89,
   "metadata": {
    "colab": {
     "base_uri": "https://localhost:8080/"
    },
    "executionInfo": {
     "elapsed": 4829,
     "status": "ok",
     "timestamp": 1707205324337,
     "user": {
      "displayName": "Sunghwan KIM",
      "userId": "06010856989212311727"
     },
     "user_tz": -540
    },
    "id": "OuyodWSHe50v",
    "outputId": "c012efe6-ee36-409c-a373-997892d05b16",
    "scrolled": true
   },
   "outputs": [
    {
     "name": "stdout",
     "output_type": "stream",
     "text": [
      "Epoch 1/50\n",
      "4/4 [==============================] - 1s 111ms/step - loss: 0.5863 - accuracy: 0.7555 - recall: 0.8904 - precision: 0.7603 - val_loss: 0.5330 - val_accuracy: 0.7912 - val_recall: 0.8772 - val_precision: 0.8065\n",
      "Epoch 2/50\n",
      "4/4 [==============================] - 0s 14ms/step - loss: 0.5027 - accuracy: 0.8214 - recall: 0.9211 - precision: 0.8171 - val_loss: 0.4717 - val_accuracy: 0.8681 - val_recall: 0.9298 - val_precision: 0.8689\n",
      "Epoch 3/50\n",
      "4/4 [==============================] - 0s 20ms/step - loss: 0.4405 - accuracy: 0.8571 - recall: 0.9386 - precision: 0.8492 - val_loss: 0.4209 - val_accuracy: 0.8681 - val_recall: 0.9298 - val_precision: 0.8689\n",
      "Epoch 4/50\n",
      "4/4 [==============================] - 0s 19ms/step - loss: 0.3883 - accuracy: 0.8819 - recall: 0.9430 - precision: 0.8776 - val_loss: 0.3765 - val_accuracy: 0.8681 - val_recall: 0.9298 - val_precision: 0.8689\n",
      "Epoch 5/50\n",
      "4/4 [==============================] - 0s 18ms/step - loss: 0.3482 - accuracy: 0.9066 - recall: 0.9605 - precision: 0.8975 - val_loss: 0.3381 - val_accuracy: 0.9011 - val_recall: 0.9474 - val_precision: 0.9000\n",
      "Epoch 6/50\n",
      "4/4 [==============================] - 0s 19ms/step - loss: 0.3140 - accuracy: 0.9258 - recall: 0.9693 - precision: 0.9170 - val_loss: 0.3043 - val_accuracy: 0.9011 - val_recall: 0.9474 - val_precision: 0.9000\n",
      "Epoch 7/50\n",
      "4/4 [==============================] - 0s 19ms/step - loss: 0.2850 - accuracy: 0.9341 - recall: 0.9693 - precision: 0.9286 - val_loss: 0.2739 - val_accuracy: 0.9121 - val_recall: 0.9474 - val_precision: 0.9153\n",
      "Epoch 8/50\n",
      "4/4 [==============================] - 0s 20ms/step - loss: 0.2599 - accuracy: 0.9396 - recall: 0.9693 - precision: 0.9364 - val_loss: 0.2466 - val_accuracy: 0.9231 - val_recall: 0.9474 - val_precision: 0.9310\n",
      "Epoch 9/50\n",
      "4/4 [==============================] - 0s 19ms/step - loss: 0.2378 - accuracy: 0.9451 - recall: 0.9737 - precision: 0.9407 - val_loss: 0.2222 - val_accuracy: 0.9451 - val_recall: 0.9649 - val_precision: 0.9483\n",
      "Epoch 10/50\n",
      "4/4 [==============================] - 0s 19ms/step - loss: 0.2186 - accuracy: 0.9478 - recall: 0.9737 - precision: 0.9447 - val_loss: 0.1997 - val_accuracy: 0.9560 - val_recall: 0.9825 - val_precision: 0.9492\n",
      "Epoch 11/50\n",
      "4/4 [==============================] - 0s 19ms/step - loss: 0.2015 - accuracy: 0.9478 - recall: 0.9737 - precision: 0.9447 - val_loss: 0.1799 - val_accuracy: 0.9560 - val_recall: 0.9825 - val_precision: 0.9492\n",
      "Epoch 12/50\n",
      "4/4 [==============================] - 0s 14ms/step - loss: 0.1853 - accuracy: 0.9588 - recall: 0.9781 - precision: 0.9571 - val_loss: 0.1625 - val_accuracy: 0.9670 - val_recall: 1.0000 - val_precision: 0.9500\n",
      "Epoch 13/50\n",
      "4/4 [==============================] - 0s 15ms/step - loss: 0.1712 - accuracy: 0.9698 - recall: 0.9868 - precision: 0.9657 - val_loss: 0.1469 - val_accuracy: 0.9670 - val_recall: 1.0000 - val_precision: 0.9500\n",
      "Epoch 14/50\n",
      "4/4 [==============================] - 0s 19ms/step - loss: 0.1594 - accuracy: 0.9725 - recall: 0.9868 - precision: 0.9698 - val_loss: 0.1332 - val_accuracy: 0.9890 - val_recall: 1.0000 - val_precision: 0.9828\n",
      "Epoch 15/50\n",
      "4/4 [==============================] - 0s 15ms/step - loss: 0.1476 - accuracy: 0.9725 - recall: 0.9868 - precision: 0.9698 - val_loss: 0.1213 - val_accuracy: 0.9890 - val_recall: 1.0000 - val_precision: 0.9828\n",
      "Epoch 16/50\n",
      "4/4 [==============================] - 0s 14ms/step - loss: 0.1379 - accuracy: 0.9698 - recall: 0.9825 - precision: 0.9697 - val_loss: 0.1108 - val_accuracy: 0.9890 - val_recall: 1.0000 - val_precision: 0.9828\n",
      "Epoch 17/50\n",
      "4/4 [==============================] - 0s 14ms/step - loss: 0.1289 - accuracy: 0.9725 - recall: 0.9825 - precision: 0.9739 - val_loss: 0.1017 - val_accuracy: 0.9890 - val_recall: 1.0000 - val_precision: 0.9828\n",
      "Epoch 18/50\n",
      "4/4 [==============================] - 0s 20ms/step - loss: 0.1202 - accuracy: 0.9753 - recall: 0.9825 - precision: 0.9782 - val_loss: 0.0936 - val_accuracy: 0.9890 - val_recall: 1.0000 - val_precision: 0.9828\n",
      "Epoch 19/50\n",
      "4/4 [==============================] - 0s 19ms/step - loss: 0.1124 - accuracy: 0.9780 - recall: 0.9825 - precision: 0.9825 - val_loss: 0.0862 - val_accuracy: 0.9890 - val_recall: 1.0000 - val_precision: 0.9828\n",
      "Epoch 20/50\n",
      "4/4 [==============================] - 0s 14ms/step - loss: 0.1064 - accuracy: 0.9780 - recall: 0.9825 - precision: 0.9825 - val_loss: 0.0791 - val_accuracy: 0.9890 - val_recall: 1.0000 - val_precision: 0.9828\n",
      "Epoch 21/50\n",
      "4/4 [==============================] - 0s 22ms/step - loss: 0.1002 - accuracy: 0.9780 - recall: 0.9825 - precision: 0.9825 - val_loss: 0.0730 - val_accuracy: 0.9890 - val_recall: 1.0000 - val_precision: 0.9828\n",
      "Epoch 22/50\n",
      "4/4 [==============================] - 0s 19ms/step - loss: 0.0944 - accuracy: 0.9808 - recall: 0.9868 - precision: 0.9825 - val_loss: 0.0677 - val_accuracy: 0.9890 - val_recall: 1.0000 - val_precision: 0.9828\n",
      "Epoch 23/50\n",
      "4/4 [==============================] - 0s 14ms/step - loss: 0.0897 - accuracy: 0.9808 - recall: 0.9868 - precision: 0.9825 - val_loss: 0.0626 - val_accuracy: 1.0000 - val_recall: 1.0000 - val_precision: 1.0000\n",
      "Epoch 24/50\n",
      "4/4 [==============================] - 0s 20ms/step - loss: 0.0853 - accuracy: 0.9835 - recall: 0.9912 - precision: 0.9826 - val_loss: 0.0582 - val_accuracy: 1.0000 - val_recall: 1.0000 - val_precision: 1.0000\n",
      "Epoch 25/50\n",
      "4/4 [==============================] - 0s 14ms/step - loss: 0.0814 - accuracy: 0.9835 - recall: 0.9912 - precision: 0.9826 - val_loss: 0.0543 - val_accuracy: 1.0000 - val_recall: 1.0000 - val_precision: 1.0000\n",
      "Epoch 26/50\n",
      "4/4 [==============================] - 0s 19ms/step - loss: 0.0781 - accuracy: 0.9835 - recall: 0.9912 - precision: 0.9826 - val_loss: 0.0507 - val_accuracy: 1.0000 - val_recall: 1.0000 - val_precision: 1.0000\n",
      "Epoch 27/50\n",
      "4/4 [==============================] - 0s 22ms/step - loss: 0.0747 - accuracy: 0.9835 - recall: 0.9912 - precision: 0.9826 - val_loss: 0.0477 - val_accuracy: 1.0000 - val_recall: 1.0000 - val_precision: 1.0000\n",
      "Epoch 28/50\n",
      "4/4 [==============================] - 0s 19ms/step - loss: 0.0719 - accuracy: 0.9863 - recall: 0.9912 - precision: 0.9869 - val_loss: 0.0451 - val_accuracy: 1.0000 - val_recall: 1.0000 - val_precision: 1.0000\n",
      "Epoch 29/50\n",
      "4/4 [==============================] - 0s 20ms/step - loss: 0.0694 - accuracy: 0.9863 - recall: 0.9912 - precision: 0.9869 - val_loss: 0.0426 - val_accuracy: 1.0000 - val_recall: 1.0000 - val_precision: 1.0000\n",
      "Epoch 30/50\n",
      "4/4 [==============================] - 0s 18ms/step - loss: 0.0669 - accuracy: 0.9863 - recall: 0.9912 - precision: 0.9869 - val_loss: 0.0405 - val_accuracy: 1.0000 - val_recall: 1.0000 - val_precision: 1.0000\n",
      "Epoch 31/50\n",
      "4/4 [==============================] - 0s 19ms/step - loss: 0.0647 - accuracy: 0.9863 - recall: 0.9912 - precision: 0.9869 - val_loss: 0.0385 - val_accuracy: 1.0000 - val_recall: 1.0000 - val_precision: 1.0000\n",
      "Epoch 32/50\n",
      "4/4 [==============================] - 0s 15ms/step - loss: 0.0629 - accuracy: 0.9863 - recall: 0.9912 - precision: 0.9869 - val_loss: 0.0366 - val_accuracy: 1.0000 - val_recall: 1.0000 - val_precision: 1.0000\n",
      "Epoch 33/50\n",
      "4/4 [==============================] - 0s 14ms/step - loss: 0.0610 - accuracy: 0.9863 - recall: 0.9912 - precision: 0.9869 - val_loss: 0.0348 - val_accuracy: 1.0000 - val_recall: 1.0000 - val_precision: 1.0000\n",
      "Epoch 34/50\n",
      "4/4 [==============================] - 0s 20ms/step - loss: 0.0593 - accuracy: 0.9863 - recall: 0.9912 - precision: 0.9869 - val_loss: 0.0334 - val_accuracy: 1.0000 - val_recall: 1.0000 - val_precision: 1.0000\n",
      "Epoch 35/50\n",
      "4/4 [==============================] - 0s 19ms/step - loss: 0.0578 - accuracy: 0.9863 - recall: 0.9912 - precision: 0.9869 - val_loss: 0.0322 - val_accuracy: 1.0000 - val_recall: 1.0000 - val_precision: 1.0000\n",
      "Epoch 36/50\n",
      "4/4 [==============================] - 0s 21ms/step - loss: 0.0564 - accuracy: 0.9863 - recall: 0.9912 - precision: 0.9869 - val_loss: 0.0309 - val_accuracy: 1.0000 - val_recall: 1.0000 - val_precision: 1.0000\n",
      "Epoch 37/50\n",
      "4/4 [==============================] - 0s 20ms/step - loss: 0.0550 - accuracy: 0.9863 - recall: 0.9912 - precision: 0.9869 - val_loss: 0.0298 - val_accuracy: 1.0000 - val_recall: 1.0000 - val_precision: 1.0000\n",
      "Epoch 38/50\n",
      "4/4 [==============================] - 0s 14ms/step - loss: 0.0538 - accuracy: 0.9863 - recall: 0.9912 - precision: 0.9869 - val_loss: 0.0289 - val_accuracy: 1.0000 - val_recall: 1.0000 - val_precision: 1.0000\n",
      "Epoch 39/50\n",
      "4/4 [==============================] - 0s 13ms/step - loss: 0.0525 - accuracy: 0.9863 - recall: 0.9912 - precision: 0.9869 - val_loss: 0.0280 - val_accuracy: 1.0000 - val_recall: 1.0000 - val_precision: 1.0000\n",
      "Epoch 40/50\n",
      "4/4 [==============================] - 0s 20ms/step - loss: 0.0513 - accuracy: 0.9863 - recall: 0.9912 - precision: 0.9869 - val_loss: 0.0272 - val_accuracy: 1.0000 - val_recall: 1.0000 - val_precision: 1.0000\n",
      "Epoch 41/50\n",
      "4/4 [==============================] - 0s 19ms/step - loss: 0.0504 - accuracy: 0.9863 - recall: 0.9912 - precision: 0.9869 - val_loss: 0.0266 - val_accuracy: 1.0000 - val_recall: 1.0000 - val_precision: 1.0000\n",
      "Epoch 42/50\n",
      "4/4 [==============================] - 0s 14ms/step - loss: 0.0493 - accuracy: 0.9918 - recall: 0.9956 - precision: 0.9913 - val_loss: 0.0259 - val_accuracy: 1.0000 - val_recall: 1.0000 - val_precision: 1.0000\n",
      "Epoch 43/50\n",
      "4/4 [==============================] - 0s 14ms/step - loss: 0.0483 - accuracy: 0.9890 - recall: 0.9956 - precision: 0.9870 - val_loss: 0.0251 - val_accuracy: 1.0000 - val_recall: 1.0000 - val_precision: 1.0000\n",
      "Epoch 44/50\n",
      "4/4 [==============================] - 0s 19ms/step - loss: 0.0473 - accuracy: 0.9890 - recall: 0.9956 - precision: 0.9870 - val_loss: 0.0244 - val_accuracy: 1.0000 - val_recall: 1.0000 - val_precision: 1.0000\n",
      "Epoch 45/50\n",
      "4/4 [==============================] - 0s 20ms/step - loss: 0.0463 - accuracy: 0.9890 - recall: 0.9956 - precision: 0.9870 - val_loss: 0.0237 - val_accuracy: 1.0000 - val_recall: 1.0000 - val_precision: 1.0000\n",
      "Epoch 46/50\n",
      "4/4 [==============================] - 0s 20ms/step - loss: 0.0455 - accuracy: 0.9890 - recall: 0.9956 - precision: 0.9870 - val_loss: 0.0231 - val_accuracy: 1.0000 - val_recall: 1.0000 - val_precision: 1.0000\n",
      "Epoch 47/50\n",
      "4/4 [==============================] - 0s 14ms/step - loss: 0.0446 - accuracy: 0.9890 - recall: 0.9956 - precision: 0.9870 - val_loss: 0.0226 - val_accuracy: 1.0000 - val_recall: 1.0000 - val_precision: 1.0000\n",
      "Epoch 48/50\n",
      "4/4 [==============================] - 0s 19ms/step - loss: 0.0438 - accuracy: 0.9890 - recall: 0.9956 - precision: 0.9870 - val_loss: 0.0222 - val_accuracy: 1.0000 - val_recall: 1.0000 - val_precision: 1.0000\n",
      "Epoch 49/50\n",
      "4/4 [==============================] - 0s 19ms/step - loss: 0.0429 - accuracy: 0.9890 - recall: 0.9956 - precision: 0.9870 - val_loss: 0.0218 - val_accuracy: 1.0000 - val_recall: 1.0000 - val_precision: 1.0000\n",
      "Epoch 50/50\n",
      "4/4 [==============================] - 0s 15ms/step - loss: 0.0423 - accuracy: 0.9890 - recall: 0.9956 - precision: 0.9870 - val_loss: 0.0214 - val_accuracy: 1.0000 - val_recall: 1.0000 - val_precision: 1.0000\n"
     ]
    }
   ],
   "source": [
    "hist = model_cancer.fit(X_train_scaled, y_train, epochs=N_EPOCH, batch_size=N_BATCH,\n",
    "                        validation_data=(X_val_scaled, y_val) #validation set이 있는 경우 X, y를 튜플로 묶어서 설정.\n",
    "                        )"
   ]
  },
  {
   "cell_type": "markdown",
   "metadata": {
    "slideshow": {
     "slide_type": "fragment"
    }
   },
   "source": [
    "#### 결과 시각화"
   ]
  },
  {
   "cell_type": "code",
   "execution_count": 91,
   "metadata": {
    "colab": {
     "base_uri": "https://localhost:8080/"
    },
    "executionInfo": {
     "elapsed": 348,
     "status": "ok",
     "timestamp": 1707205442239,
     "user": {
      "displayName": "Sunghwan KIM",
      "userId": "06010856989212311727"
     },
     "user_tz": -540
    },
    "id": "4B6AXZSZX3oW",
    "outputId": "df2f1465-b35d-4d6c-fd4a-ddcd1864f1fb"
   },
   "outputs": [
    {
     "data": {
      "text/plain": [
       "dict_keys(['loss', 'accuracy', 'recall', 'precision', 'val_loss', 'val_accuracy', 'val_recall', 'val_precision'])"
      ]
     },
     "execution_count": 91,
     "metadata": {},
     "output_type": "execute_result"
    }
   ],
   "source": [
    "hist.history.keys()"
   ]
  },
  {
   "cell_type": "code",
   "execution_count": 92,
   "metadata": {
    "colab": {
     "base_uri": "https://localhost:8080/",
     "height": 507
    },
    "executionInfo": {
     "elapsed": 1209,
     "status": "ok",
     "timestamp": 1707205470677,
     "user": {
      "displayName": "Sunghwan KIM",
      "userId": "06010856989212311727"
     },
     "user_tz": -540
    },
    "id": "lQ8F_ANYe50v",
    "outputId": "1fe9b012-e207-4b54-b744-c2ae7e18008c"
   },
   "outputs": [
    {
     "data": {
      "image/png": "[encoded data removed]",
      "text/plain": [
       "<Figure size 1000x500 with 2 Axes>"
      ]
     },
     "metadata": {},
     "output_type": "display_data"
    }
   ],
   "source": [
    "plt.figure(figsize=(10, 5))\n",
    "plt.subplot(1, 2, 1)\n",
    "plt.plot(hist.epoch, hist.history['loss'], label=\"train\")\n",
    "plt.plot(hist.epoch, hist.history['val_loss'], label='validation')\n",
    "plt.title('Loss')\n",
    "\n",
    "plt.xlabel('epoch')\n",
    "plt.ylabel('loss')\n",
    "plt.legend()\n",
    "\n",
    "plt.subplot(1, 2, 2)\n",
    "plt.plot(hist.epoch, hist.history['accuracy'], label='train')\n",
    "plt.plot(hist.epoch, hist.history['val_accuracy'], label='validation')\n",
    "plt.title('Accuracy')\n",
    "plt.xlabel('epoch')\n",
    "plt.ylabel('accuracy')\n",
    "plt.legend()\n",
    "\n",
    "plt.tight_layout()\n",
    "plt.show()"
   ]
  },
  {
   "cell_type": "markdown",
   "metadata": {
    "slideshow": {
     "slide_type": "slide"
    }
   },
   "source": [
    "#### 최종평가"
   ]
  },
  {
   "cell_type": "code",
   "execution_count": 93,
   "metadata": {
    "colab": {
     "base_uri": "https://localhost:8080/"
    },
    "executionInfo": {
     "elapsed": 402,
     "status": "ok",
     "timestamp": 1707205536338,
     "user": {
      "displayName": "Sunghwan KIM",
      "userId": "06010856989212311727"
     },
     "user_tz": -540
    },
    "id": "I93s31r4e50v",
    "outputId": "be5340a1-5815-4e29-d0c8-8bed71943fef"
   },
   "outputs": [
    {
     "name": "stdout",
     "output_type": "stream",
     "text": [
      "4/4 [==============================] - 0s 4ms/step - loss: 0.0943 - accuracy: 0.9737 - recall: 0.9861 - precision: 0.9726\n",
      "0.09427635371685028 0.9736841917037964 0.9861111044883728 0.9726027250289917\n"
     ]
    }
   ],
   "source": [
    "loss, acc, recall, precision = model_cancer.evaluate(X_test_scaled, y_test)\n",
    "print(loss, acc, recall, precision)"
   ]
  },
  {
   "cell_type": "markdown",
   "metadata": {
    "slideshow": {
     "slide_type": "fragment"
    }
   },
   "source": [
    "#### 모델저장"
   ]
  },
  {
   "cell_type": "code",
   "execution_count": null,
   "metadata": {},
   "outputs": [],
   "source": [
    "save_dir_path = 'saved_model/cancer_model'"
   ]
  },
  {
   "cell_type": "code",
   "execution_count": null,
   "metadata": {},
   "outputs": [],
   "source": [
    "model_cancer.save(save_dir_path)"
   ]
  },
  {
   "cell_type": "markdown",
   "metadata": {
    "slideshow": {
     "slide_type": "slide"
    }
   },
   "source": [
    "#### 새로운 데이터 추론"
   ]
  },
  {
   "cell_type": "code",
   "execution_count": 96,
   "metadata": {
    "colab": {
     "base_uri": "https://localhost:8080/"
    },
    "executionInfo": {
     "elapsed": 967,
     "status": "ok",
     "timestamp": 1707205576619,
     "user": {
      "displayName": "Sunghwan KIM",
      "userId": "06010856989212311727"
     },
     "user_tz": -540
    },
    "id": "oWd1gRnHe50w",
    "outputId": "3d926114-dd42-4ef6-d7f9-a946d142ceaa"
   },
   "outputs": [
    {
     "name": "stdout",
     "output_type": "stream",
     "text": [
      "4/4 [==============================] - 0s 4ms/step - loss: 0.0943 - accuracy: 0.9737 - recall: 0.9861 - precision: 0.9726\n"
     ]
    },
    {
     "data": {
      "text/plain": [
       "[0.09427635371685028,\n",
       " 0.9736841917037964,\n",
       " 0.9861111044883728,\n",
       " 0.9726027250289917]"
      ]
     },
     "execution_count": 96,
     "metadata": {},
     "output_type": "execute_result"
    }
   ],
   "source": [
    "saved_model = models.load_model(save_dir_path)\n",
    "saved_model.evaluate(X_test_scaled, y_test)"
   ]
  },
  {
   "cell_type": "code",
   "execution_count": 97,
   "metadata": {
    "colab": {
     "base_uri": "https://localhost:8080/"
    },
    "executionInfo": {
     "elapsed": 337,
     "status": "ok",
     "timestamp": 1707205633644,
     "user": {
      "displayName": "Sunghwan KIM",
      "userId": "06010856989212311727"
     },
     "user_tz": -540
    },
    "id": "gSw8rda_e50w",
    "outputId": "37b20fcb-37b5-4cd5-bcc7-a919246f1043"
   },
   "outputs": [
    {
     "name": "stdout",
     "output_type": "stream",
     "text": [
      "1/1 [==============================] - 0s 62ms/step\n"
     ]
    },
    {
     "data": {
      "text/plain": [
       "(10, 1)"
      ]
     },
     "execution_count": 97,
     "metadata": {},
     "output_type": "execute_result"
    }
   ],
   "source": [
    "new_X = X_test_scaled[:10]\n",
    "pred = saved_model.predict(new_X)\n",
    "pred.shape  #(10, 1)"
   ]
  },
  {
   "cell_type": "code",
   "execution_count": 98,
   "metadata": {
    "colab": {
     "base_uri": "https://localhost:8080/"
    },
    "executionInfo": {
     "elapsed": 342,
     "status": "ok",
     "timestamp": 1707205645617,
     "user": {
      "displayName": "Sunghwan KIM",
      "userId": "06010856989212311727"
     },
     "user_tz": -540
    },
    "id": "GvuipFPrYsno",
    "outputId": "6fee9467-0cca-47e7-903f-1d8c55fa32df"
   },
   "outputs": [
    {
     "data": {
      "text/plain": [
       "array([[3.3139043e-02],\n",
       "       [1.3995048e-08],\n",
       "       [1.3386250e-03],\n",
       "       [9.9820191e-01],\n",
       "       [1.0354783e-02],\n",
       "       [9.7877216e-01],\n",
       "       [5.9736241e-03],\n",
       "       [9.9590635e-01],\n",
       "       [9.9925756e-01],\n",
       "       [2.3481134e-06]], dtype=float32)"
      ]
     },
     "execution_count": 98,
     "metadata": {},
     "output_type": "execute_result"
    }
   ],
   "source": [
    "pred"
   ]
  },
  {
   "cell_type": "markdown",
   "metadata": {},
   "source": [
    "##### 모델출력결과 후처리"
   ]
  },
  {
   "cell_type": "code",
   "execution_count": 99,
   "metadata": {
    "colab": {
     "base_uri": "https://localhost:8080/"
    },
    "executionInfo": {
     "elapsed": 451,
     "status": "ok",
     "timestamp": 1707205724128,
     "user": {
      "displayName": "Sunghwan KIM",
      "userId": "06010856989212311727"
     },
     "user_tz": -540
    },
    "id": "UAMGy0ASe50w",
    "outputId": "9a46acbc-e1df-404c-fef1-cce766707b03"
   },
   "outputs": [
    {
     "data": {
      "text/plain": [
       "array([['악성- 0'],\n",
       "       ['악성- 0'],\n",
       "       ['악성- 0'],\n",
       "       ['양성- 1'],\n",
       "       ['악성- 0'],\n",
       "       ['양성- 1'],\n",
       "       ['악성- 0'],\n",
       "       ['양성- 1'],\n",
       "       ['양성- 1'],\n",
       "       ['악성- 0']], dtype='<U5')"
      ]
     },
     "execution_count": 99,
     "metadata": {},
     "output_type": "execute_result"
    }
   ],
   "source": [
    "np.where(pred >= 0.5, '양성- 1', '악성- 0')"
   ]
  },
  {
   "cell_type": "code",
   "execution_count": 100,
   "metadata": {
    "colab": {
     "base_uri": "https://localhost:8080/"
    },
    "executionInfo": {
     "elapsed": 350,
     "status": "ok",
     "timestamp": 1707205737445,
     "user": {
      "displayName": "Sunghwan KIM",
      "userId": "06010856989212311727"
     },
     "user_tz": -540
    },
    "id": "RObYVAPse50w",
    "outputId": "edd3eed2-deac-4f90-aa4a-54f719d9b488"
   },
   "outputs": [
    {
     "data": {
      "text/plain": [
       "array(['악성', '악성', '악성', '양성', '악성', '양성', '악성', '양성', '양성', '악성'],\n",
       "      dtype='<U2')"
      ]
     },
     "execution_count": 100,
     "metadata": {},
     "output_type": "execute_result"
    }
   ],
   "source": [
    "np.where(y_test[:10] == 1, \"양성\", \"악성\")"
   ]
  }
 ],
 "metadata": {
  "kernelspec": {
   "display_name": "Python 3 (ipykernel)",
   "language": "python",
   "name": "python3"
  },
  "language_info": {
   "codemirror_mode": {
    "name": "ipython",
    "version": 3
   },
   "file_extension": ".py",
   "mimetype": "text/x-python",
   "name": "python",
   "nbconvert_exporter": "python",
   "pygments_lexer": "ipython3",
   "version": "3.11.5"
  },
  "toc": {
   "base_numbering": 1,
   "nav_menu": {},
   "number_sections": false,
   "sideBar": true,
   "skip_h1_title": false,
   "title_cell": "Table of Contents",
   "title_sidebar": "Contents",
   "toc_cell": false,
   "toc_position": {},
   "toc_section_display": true,
   "toc_window_display": false
  },
  "varInspector": {
   "cols": {
    "lenName": 16,
    "lenType": 16,
    "lenVar": 40
   },
   "kernels_config": {
    "python": {
     "delete_cmd_postfix": "",
     "delete_cmd_prefix": "del ",
     "library": "var_list.py",
     "varRefreshCmd": "print(var_dic_list())"
    },
    "r": {
     "delete_cmd_postfix": ") ",
     "delete_cmd_prefix": "rm(",
     "library": "var_list.r",
     "varRefreshCmd": "cat(var_dic_list()) "
    }
   },
   "types_to_exclude": [
    "module",
    "function",
    "builtin_function_or_method",
    "instance",
    "_Feature"
   ],
   "window_display": false
  }
 },
 "nbformat": 4,
 "nbformat_minor": 4
}
