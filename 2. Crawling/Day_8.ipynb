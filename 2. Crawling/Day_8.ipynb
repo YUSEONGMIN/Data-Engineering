{
 "cells": [
  {
   "cell_type": "markdown",
   "id": "6e980f30-e8ea-4f86-832f-ca91d2fbb58b",
   "metadata": {
    "editable": true,
    "slideshow": {
     "slide_type": ""
    },
    "tags": []
   },
   "source": [
    "# 8일차 (2024.01.08)\n",
    "\n",
    "- 개요\n",
    "    - 데이터 수집 개요"
   ]
  },
  {
   "cell_type": "markdown",
   "id": "55fbd46f-99e7-44ca-81f5-54244fd1a1ee",
   "metadata": {
    "editable": true,
    "slideshow": {
     "slide_type": ""
    },
    "tags": []
   },
   "source": [
    "# 데이터 수집개요\n",
    "\n",
    "데이터 선정\n",
    "- 요구사항 분석을 통해 분석 목표가 정해졌다면 어떤 데이터를 수집할 지 선정해야 한다.\n",
    "\n",
    "데이터 수집 방법 선정\n",
    "- 수집할 데이터를 선정했다면 어떻게 데이터를 수집할 지 그 방법을 정해야 한다.\n",
    "\n",
    "- **어디서 구할 것인가?**\n",
    "    - 사내 데이터베이스\n",
    "    - 외부 데이터\n",
    "        - 공개 데이터셋\n",
    "        - 유료 데이터셋\n",
    "        - 데이터 크롤링\n",
    "             \n",
    "데이터 수집 주기\n",
    "- **일회성 데이터**\n",
    "    - 수집한 데이터를 csv, txt등의 파일형식으로 저장하여 활용한다.\n",
    "- **주기적으로 수집이 필요한 데이터**\n",
    "    - 자동화 시스템 구축을 하여 데이터베이스에 데이터를 주기적으로 수집, 저장한다."
   ]
  },
  {
   "cell_type": "markdown",
   "id": "f71ab106-f85d-44bd-a926-c56261d179d3",
   "metadata": {
    "jp-MarkdownHeadingCollapsed": true
   },
   "source": [
    "## 데이터 수집 사이트\n",
    "\n",
    "- **국가 통계포털**: https://kosis.kr\n",
    "- **공공데이터 포털**: https://www.data.go.kr\n",
    "- **Kaggle**: 데이터과학 관련 경진대회 플랫폼\n",
    "- **구글 데이터셋 서치**\n",
    "- **AI Hub**: AI 학습용 데이터셋\n",
    "- **Roboflow Universe**: 컴퓨터비전 관련 데이터셋"
   ]
  },
  {
   "cell_type": "markdown",
   "id": "8fc21c60-0a3f-414b-931d-85128ec8f49f",
   "metadata": {},
   "source": [
    "## BeautifulSoup\n",
    "- Markup 언어 parsing 라이브러리\n",
    "    - HTML, XML 문서 내에서 원하는 정보를 가져오기 위한 파이썬 라이브러리\n",
    "\n",
    "코딩 패턴\n",
    "1. 조회할 HTML 내용을 전달하여 BeautifulSoup 객체 생성 \n",
    "2. BeautifulSoup 객체의 메소드들을 이용해 문서내에서 필요한 정보 조회\n",
    "    - 태그 이름과 속성으로 조회\n",
    "    - css selector를 이용해 조회\n",
    "    - . 표기법을 이용한 탐색 (Tree 구조 순서대로 탐색)\n",
    "  \n",
    "- BeautifulSoup(html str [, 파서])"
   ]
  },
  {
   "cell_type": "code",
   "execution_count": 4,
   "id": "ea284fc4-d30e-498a-9670-d4f86bbea896",
   "metadata": {},
   "outputs": [],
   "source": [
    "with open(\"../02_크롤링/example.html\", \"rt\", encoding=\"utf-8\") as fr:\n",
    "    html = fr.read()\n",
    "# print(html) # 데이터를 가져올 html 문서의 내용을 str으로 정의 => 인터넷에서 가져올 것"
   ]
  },
  {
   "cell_type": "code",
   "execution_count": 5,
   "id": "4d2652e1-7f90-441b-abed-03aafa72c93c",
   "metadata": {},
   "outputs": [],
   "source": [
    "# import bs4\n",
    "from bs4 import BeautifulSoup\n",
    "\n",
    "soup = BeautifulSoup(html, 'lxml')"
   ]
  },
  {
   "cell_type": "code",
   "execution_count": 6,
   "id": "0a8200ab-65ee-48bf-a6cb-8d3a56b657e2",
   "metadata": {
    "scrolled": true
   },
   "outputs": [
    {
     "name": "stdout",
     "output_type": "stream",
     "text": [
      "<!-- html태그: 문서의 시작과 끝 표시-->\n",
      "<!-- head: 문서의 설명 작성하는 태그-->\n",
      "<!-- body: 문서의 내용을 작성하는 태그-->\n",
      "<html>\n",
      " <head>\n",
      "  <title>\n",
      "   example.html 테스트\n",
      "  </title>\n",
      "  <meta charset=\"utf-8\"/>\n",
      "  <style>\n",
      "   #animal1{color:red}\n",
      "             .count {color:skyblue}\n",
      "  </style>\n",
      " </head>\n",
      " <body>\n",
      "  <h1>\n",
      "   동물 목록\n",
      "  </h1>\n",
      "  <div id=\"animal1\">\n",
      "   <div class=\"animal\">\n",
      "    사자\n",
      "   </div>\n",
      "   <div class=\"count\">\n",
      "    3마리\n",
      "   </div>\n",
      "  </div>\n",
      "  <div id=\"animal2\">\n",
      "   <div class=\"animal\">\n",
      "    호랑이\n",
      "   </div>\n",
      "   <div class=\"count\">\n",
      "    10마리\n",
      "   </div>\n",
      "  </div>\n",
      "  <div id=\"animal3\">\n",
      "   <div class=\"animal\">\n",
      "    곰\n",
      "   </div>\n",
      "   <div class=\"count\">\n",
      "    5마리\n",
      "   </div>\n",
      "  </div>\n",
      "  <div id=\"content\">\n",
      "   우리 동물원에는\n",
      "   <span class=\"animal\">\n",
      "    기린\n",
      "   </span>\n",
      "   도\n",
      "   <b class=\"count\">\n",
      "    30마리\n",
      "   </b>\n",
      "   있습니다.\n",
      "  </div>\n",
      "  <h1>\n",
      "   다른 동물원\n",
      "  </h1>\n",
      "  <!--ul 태그: 순서가 없는 목록, ol: 순서가 있는 목록 -->\n",
      "  <!--li 태그: ul/ol의 하위태그 - 목록을 구성하는 item을 작성-->\n",
      "  <ul>\n",
      "   <li>\n",
      "    <a href=\"https://grandpark.seoul.go.kr/main/ko.do\">\n",
      "     서울대공원\n",
      "    </a>\n",
      "   </li>\n",
      "   <li>\n",
      "    <a href=\"https://www.everland.com/web/everland/favorite/zootopia/index.html\">\n",
      "     에버랜드 동물원\n",
      "    </a>\n",
      "   </li>\n",
      "   <li>\n",
      "    <a href=\"https://www.coexaqua.com\">\n",
      "     코엑스 아쿠아리움\n",
      "    </a>\n",
      "   </li>\n",
      "  </ul>\n",
      "  <a href=\"https://www.google.co.kr\">\n",
      "   구 글\n",
      "  </a>\n",
      "  <br/>\n",
      "  <a href=\"https://www.w3schools.com\">\n",
      "   HTML배우기\n",
      "  </a>\n",
      " </body>\n",
      "</html>\n",
      "\n"
     ]
    }
   ],
   "source": [
    "print(soup.prettify())"
   ]
  },
  {
   "cell_type": "markdown",
   "id": "23f04313-e51e-4b64-bc99-e74d5b016fad",
   "metadata": {},
   "source": [
    "Tag 객체\n",
    "- 하나의 태그(element)에 대한 정보를 다루는 객체.\n",
    "    - BeautifulSoup 조회 메소드들의 **조회 결과의 반환 타입.**\n",
    "    - Tag 객체는 찾은 정보를 제공하는 메소드와 Attribute를 가지고 있다."
   ]
  },
  {
   "cell_type": "markdown",
   "id": "b0cd426a-2d3c-4e32-a61c-1a5cfacc577d",
   "metadata": {},
   "source": [
    "- 주요 속성/메소드\n",
    "    - **태그의 속성값 조회**\n",
    "        - tag객체.get('속성명') \n",
    "        - tag객체\\['속성명'\\]\n",
    "    - **태그내 text값 조회**\n",
    "        - tag객체.get_text()\n",
    "        - tag객체.text\n",
    "    - **contents 속성**\n",
    "        - 조회한 태그의 모든 자식 요소들을 리스트로 반환\n",
    "        - ex) child_list = tag.contents"
   ]
  },
  {
   "cell_type": "markdown",
   "id": "efaf0f14-d6f2-4bee-9273-f8a2e27b2a91",
   "metadata": {},
   "source": [
    "## 조회 함수\n",
    "- **태그의 이름으로 조회**\n",
    "    - find_all()\n",
    "    - find()\n",
    "- **css selector를 이용해 조회**\n",
    "    - select(), select_one()\n",
    "- **`.` 표기법(dot notation)**\n",
    "    - dom tree 구조의 계층 순서대로 조회\n",
    "    - 위의 두방식으로 찾은 tag를 기준으로 그 주위의 element 들을 찾을 때 사용"
   ]
  },
  {
   "cell_type": "markdown",
   "id": "625052d0-7342-43e6-abf9-6a00ddd3fa4d",
   "metadata": {},
   "source": [
    "태그의 이름으로 조회\n",
    "- **find_all**(name=태그명, attrs={속성명:속성값, ..})\n",
    "   - 이름의 모든 태그 element들을 리스트에 담아 반환.\n",
    "   - 태그의 attribute 조건으로만 조회할 경우 name을 생략한다. \n",
    "- **find**(name=태그명, attrs={속성명:속성값})\n",
    "    - 이름의 태그중 첫번째 태그 element를 반환."
   ]
  },
  {
   "cell_type": "code",
   "execution_count": 7,
   "id": "b896d295-9f3a-48c5-be33-f9ffd64a5a23",
   "metadata": {},
   "outputs": [
    {
     "name": "stdout",
     "output_type": "stream",
     "text": [
      "<class 'bs4.element.ResultSet'>\n",
      "[<a href=\"https://grandpark.seoul.go.kr/main/ko.do\">서울대공원</a>, <a href=\"https://www.everland.com/web/everland/favorite/zootopia/index.html\">에버랜드 동물원</a>, <a href=\"https://www.coexaqua.com\">코엑스 아쿠아리움</a>, <a href=\"https://www.google.co.kr\">구 글</a>, <a href=\"https://www.w3schools.com\">HTML배우기</a>]\n",
      "<class 'bs4.element.Tag'>\n",
      "==================\n",
      "태그안에 text: 서울대공원 서울대공원\n",
      "href 속성의 값: https://grandpark.seoul.go.kr/main/ko.do https://grandpark.seoul.go.kr/main/ko.do\n",
      "==================\n",
      "서울대공원 https://grandpark.seoul.go.kr/main/ko.do\n",
      "에버랜드 동물원 https://www.everland.com/web/everland/favorite/zootopia/index.html\n",
      "코엑스 아쿠아리움 https://www.coexaqua.com\n",
      "구 글 https://www.google.co.kr\n",
      "HTML배우기 https://www.w3schools.com\n"
     ]
    }
   ],
   "source": [
    "# find 메소드 실습\n",
    "result = soup.find_all(\"a\") # 태그명이 a인 element를 다 조회\n",
    "\n",
    "print(type(result))\n",
    "print(result)\n",
    "print(type(result[0]))\n",
    "print(\"==================\")\n",
    "print(\"태그안에 text:\", result[0].text, result[0].get_text())\n",
    "print(\"href 속성의 값:\", result[0]['href'], result[0].get(\"href\"))\n",
    "print(\"==================\")\n",
    "for tag in result:\n",
    "    # if tag.text == \"서울대공원\":\n",
    "    #     continue\n",
    "    print(tag.text, tag.get(\"href\"))"
   ]
  },
  {
   "cell_type": "code",
   "execution_count": 8,
   "id": "2382520a-db20-42b4-af21-86595084ccbb",
   "metadata": {},
   "outputs": [
    {
     "name": "stdout",
     "output_type": "stream",
     "text": [
      "1\n",
      "<div class=\"count\">3마리</div>\n",
      "3마리\n"
     ]
    }
   ],
   "source": [
    "result = soup.find_all([\"a\", \"span\"]) # <a>, <span> 모두 찾아라\n",
    "result = soup.find_all(\"div\", attrs={\"class\", \"animal\"}) # <div class=\"animal\">\n",
    "result = soup.find(\"div\", attrs={\"class\", \"count\"}) # Tag 객체\n",
    "\n",
    "print(len(result))\n",
    "print(result)\n",
    "print(result.get_text())"
   ]
  },
  {
   "cell_type": "markdown",
   "id": "3bcecf80-108b-4f6b-b0b2-a6820e600d90",
   "metadata": {},
   "source": [
    "### CSS Selector를 이용해 조회\n",
    "- **select(selector='css셀렉터')**\n",
    "    - css 셀렉터와 일치하는 tag들을 반환한다.\n",
    "- **select_one(selector='css셀렉터')**\n",
    "    - 일치하는 것이 여러 개일 경우 첫번째 것 하나만 반환한다."
   ]
  },
  {
   "cell_type": "code",
   "execution_count": 9,
   "id": "c91600b9-ef68-4d98-be8c-fe28c4e72e5e",
   "metadata": {},
   "outputs": [
    {
     "name": "stdout",
     "output_type": "stream",
     "text": [
      "3\n",
      "[<div class=\"count\">3마리</div>, <div class=\"count\">10마리</div>, <div class=\"count\">5마리</div>]\n"
     ]
    }
   ],
   "source": [
    "# 태그 이름으로 찾기\n",
    "result = soup.select(\"a\") # a 태그들\n",
    "result = soup.select(\"a, span\") # a와 b 태그들. selector1, selector2\n",
    "\n",
    "# 클래스 이름으로 찾기\n",
    "result = soup.select(\".count\") # *.count => 모든 태그 중 class=count인 것들\n",
    "result = soup.select(\"div.count\") # div 태그 중 class가 count\n",
    "\n",
    "print(len(result))\n",
    "print(result)"
   ]
  },
  {
   "cell_type": "code",
   "execution_count": 10,
   "id": "0c493655-7f7c-4122-b4a3-f2743ab8276a",
   "metadata": {},
   "outputs": [
    {
     "data": {
      "text/plain": [
       "<div id=\"animal1\">\n",
       "<div class=\"animal\">사자</div>\n",
       "<div class=\"count\">3마리</div>\n",
       "</div>"
      ]
     },
     "execution_count": 10,
     "metadata": {},
     "output_type": "execute_result"
    }
   ],
   "source": [
    "# id로 조회\n",
    "result = soup.select_one(\"#animal1\") # *#animal1 -> 모든 태그들 중 id=animal1\n",
    "result"
   ]
  },
  {
   "cell_type": "code",
   "execution_count": 11,
   "id": "b703d062-7acb-4f37-aa6d-6d33b72ec1d2",
   "metadata": {},
   "outputs": [
    {
     "data": {
      "text/plain": [
       "<div class=\"count\">3마리</div>"
      ]
     },
     "execution_count": 11,
     "metadata": {},
     "output_type": "execute_result"
    }
   ],
   "source": [
    "# soup.select(), soup,find() 전체 문서 안에서 찾는다.\n",
    "# 찾은 결과 Tag 하위의 요소들을 추가 검색\n",
    "result.select_one(\".count\")"
   ]
  },
  {
   "cell_type": "code",
   "execution_count": 12,
   "id": "89857f19-dda8-4f62-b305-3eb02dcfc4b4",
   "metadata": {},
   "outputs": [
    {
     "name": "stdout",
     "output_type": "stream",
     "text": [
      "서울대공원\n",
      "에버랜드 동물원\n",
      "코엑스 아쿠아리움\n"
     ]
    }
   ],
   "source": [
    "result = soup.select(\"ul > li > a\")\n",
    "for tag in result:\n",
    "    print(tag.text)"
   ]
  }
 ],
 "metadata": {
  "kernelspec": {
   "display_name": "Python 3 (ipykernel)",
   "language": "python",
   "name": "python3"
  },
  "language_info": {
   "codemirror_mode": {
    "name": "ipython",
    "version": 3
   },
   "file_extension": ".py",
   "mimetype": "text/x-python",
   "name": "python",
   "nbconvert_exporter": "python",
   "pygments_lexer": "ipython3",
   "version": "3.11.5"
  },
  "toc": {
   "base_numbering": 1
  }
 },
 "nbformat": 4,
 "nbformat_minor": 5
}
