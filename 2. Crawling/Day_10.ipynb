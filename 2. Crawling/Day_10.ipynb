{
 "cells": [
  {
   "cell_type": "markdown",
   "id": "5023ce56-6c00-42d7-8b33-9ea54386e0ac",
   "metadata": {
    "editable": true,
    "slideshow": {
     "slide_type": ""
    },
    "tags": []
   },
   "source": [
    "# 10일차 (2024.01.10)\n",
    "\n",
    "- 개요\n",
    "    - Selenium\n",
    "        - Driver\n",
    "        - WebDeriver\n",
    "        - Element\n",
    "        - Explicit"
   ]
  },
  {
   "cell_type": "markdown",
   "id": "fe2100b9-f99b-4c88-875c-899e65703643",
   "metadata": {},
   "source": [
    "# Selenium\n",
    "\n",
    "- **웹 브라우저 제어 도구**\n",
    "    - 웹 어플리케이션 자동 테스트를 위한 목적으로 만들어진 프레임워크.\n",
    "    - 웹브라우저를 프로그램을 이용해 제어할 수 있다.\n",
    "- **requests 모듈의 한계**   \n",
    "    - Javascript를 이용한 AJAX 기법의 비동기적 요청 처리 페이지 크롤링이 힘들다.\n",
    "    - 로그인 후 요청이 가능한 페이지들에 대한 크롤링이 번거롭다.\n",
    "    \n",
    "- **Selenium 단점** \n",
    "    - 속도가 느림"
   ]
  },
  {
   "cell_type": "raw",
   "id": "c0fd8c13-9105-4e70-8071-5faf93b86e3a",
   "metadata": {
    "scrolled": true
   },
   "source": [
    "!터미널 명령어\n",
    "!pip install selenium"
   ]
  },
  {
   "cell_type": "markdown",
   "id": "6c002e74-3a47-4608-851b-fc0cedd9d0f1",
   "metadata": {},
   "source": [
    "## Driver\n",
    "- 웹브라우저를 제어하는 프로그램으로 웹 브라우저별로 제공된다.\n",
    "- Selenium 패키지의 Driver객체를 이용해 제어하게 된다."
   ]
  },
  {
   "cell_type": "raw",
   "id": "78d1ff0b-632a-4bb4-ac14-ae55edc71ea5",
   "metadata": {},
   "source": [
    "# DriverManager를 이용해 WebDriver 생성\n",
    "!pip install webdriver-manager"
   ]
  },
  {
   "cell_type": "code",
   "execution_count": 1,
   "id": "f996f957-e557-4681-a3e0-c1437a09d85b",
   "metadata": {},
   "outputs": [
    {
     "name": "stdout",
     "output_type": "stream",
     "text": [
      "C:\\Users\\Playdata\\.wdm\\drivers\\edgedriver\\win64\\120.0.2210.121\\msedgedriver.exe\n"
     ]
    }
   ],
   "source": [
    "# 다운받은 Driver 이용해 WebDriver 생성\n",
    "\n",
    "# from webdriver_manager.chrome import ChromeDriverManager\n",
    "from webdriver_manager.microsoft import EdgeChromiumDriverManager\n",
    "# from selenium.webdriver.chrome.service import Service\n",
    "from selenium.webdriver.edge.service import Service\n",
    "from selenium import webdriver\n",
    "\n",
    "# driver를 다운로드 받기\n",
    "# driver = ChromeDriverManager()\n",
    "driver = EdgeChromiumDriverManager().install() # 다운받은 경로를 반환\n",
    "print(driver)"
   ]
  },
  {
   "cell_type": "code",
   "execution_count": 21,
   "id": "46af6577-a937-4398-b85a-ab7f09246194",
   "metadata": {},
   "outputs": [
    {
     "name": "stdout",
     "output_type": "stream",
     "text": [
      "<class 'selenium.webdriver.edge.webdriver.WebDriver'>\n"
     ]
    }
   ],
   "source": [
    "service = Service(executable_path=driver) # driver 경로를 넣어서 생성\n",
    "# browser = webdriver.Chrome(service=service)\n",
    "browser = webdriver.Edge(service=service)\n",
    "print(type(browser)) # 웹브라우저(크롬/엣지)을 관리하는 객체"
   ]
  },
  {
   "cell_type": "code",
   "execution_count": 22,
   "id": "48a552b2-60ba-438d-ae05-ffe1560a86ac",
   "metadata": {},
   "outputs": [],
   "source": [
    "browser.get(\"https://www.naver.com\")\n",
    "# browser.get(\"https://www.daum.net\")"
   ]
  },
  {
   "cell_type": "code",
   "execution_count": 23,
   "id": "cf73a641-5e44-4c96-99ea-595b5ff55d98",
   "metadata": {
    "scrolled": true
   },
   "outputs": [],
   "source": [
    "browser.close() # 끄기"
   ]
  },
  {
   "cell_type": "markdown",
   "id": "235430f8-2837-4eb9-9e40-be8cd0af2615",
   "metadata": {
    "heading_collapsed": true
   },
   "source": [
    "## WebDriver 메소드\n",
    "\n",
    "- **page_source** : 현재 페이지의 html 소스를 반환\n",
    "    - page_source로 html을 받아서 BeautifulSoup으로 크롤링할 원소를 찾을 수 있다.\n",
    "- **get_screenshot_as_file(파일경로)**\n",
    "    - 현재 웹브라우저 화면을 지정한 캡처해서 지정한 파일 경로에 저장한다.\n",
    "- **set_window_size(width, height)**\n",
    "    - 웹브라우저 윈도우 크기 조정\n",
    "- **maximize_window()**\n",
    "    - 웹브라우저 화면 최대 크기로 만들기.\n",
    "- **get_window_size()**\n",
    "    - 웹브라우저 윈도우 크기 조회. (width, height)\n",
    "- **execute_script(\"자바스크립트코드\")**\n",
    "    - 문자열로 전달한 **javascript 코드**를 실행시킨다.\n",
    "- **quit()**, **close()**\n",
    "    - 웹브라우저를 종료한다.\n",
    "    "
   ]
  },
  {
   "cell_type": "markdown",
   "id": "b2a6e079-72f8-461f-a35e-067f265fc7fb",
   "metadata": {
    "heading_collapsed": true
   },
   "source": [
    "## Element 조회 메소드\n",
    "- **find_element()**: 조건을 만족하는 첫번째 요소를 반환한다.\n",
    "    - 매개변수\n",
    "        - **by**: 검색방식\n",
    "            - **By.ID**\n",
    "            - **By.CLASS_NAME**\n",
    "            - **By.TAG_NAME**\n",
    "            - **By.CSS_SELECTOR**\n",
    "            - **By.XPATH**\n",
    "            - **By.LINK_TEXT**\n",
    "            - **By.PARTIAL_LINK_TEXT**\n",
    "        - **value**: str - 검색조건\n",
    "    - 반환타입: **WebElement**\n",
    "- **find_elements()**: 조건을 만족하는 모든 요소를 찾는다.\n",
    "    - 매개변수: find_element()와 동일\n",
    "    - 반환타입\n",
    "        - **list of WebElement**       "
   ]
  },
  {
   "cell_type": "markdown",
   "id": "d8691414-eddb-4295-b6ae-65bb1f154f60",
   "metadata": {
    "heading_collapsed": true
   },
   "source": [
    "## WebElement 결과 메소드 / 속성\n",
    "- 메소드\n",
    "    - **get_attribute('속성명')**: 태그의 속성값 조회\n",
    "    - **send_keys(\"문자열\")**: 입력폼에 문자열 값을 입력.\n",
    "    - **click()**: element를 클릭\n",
    "    - **submit()**: element가 Form인 경우 폼 전송\n",
    "    - **clear()**: element가 입력폼인 경우 텍스트를 지운다.\n",
    "    - 위 조회 메소드들 : 하위의 elements들 조회\n",
    "- 속성\n",
    "    - **text**: 태그내의 텍스트\n",
    "    - **tag_name**: 태그이름 "
   ]
  },
  {
   "cell_type": "code",
   "execution_count": 24,
   "id": "25cbfd65-15e2-49bb-a6ac-807c527f42af",
   "metadata": {},
   "outputs": [],
   "source": [
    "from webdriver_manager.microsoft import EdgeChromiumDriverManager\n",
    "from selenium import webdriver\n",
    "from selenium.webdriver.edge.service import Service\n",
    "from selenium.webdriver.common.by import By\n",
    "from selenium.webdriver.common.keys import Keys"
   ]
  },
  {
   "cell_type": "code",
   "execution_count": 25,
   "id": "4de8c246-bc44-4e7b-b089-c93ce4e74a7f",
   "metadata": {},
   "outputs": [],
   "source": [
    "# web browser(크롬/엣지)을 실행\n",
    "service = Service(executable_path=driver)\n",
    "browser = webdriver.Edge(service=service)\n",
    "\n",
    "# url로 이동 (naver)\n",
    "browser.get(\"https://www.naver.com\")"
   ]
  },
  {
   "cell_type": "code",
   "execution_count": 27,
   "id": "1ebd8925-0a4a-4622-97d9-b0a304a91730",
   "metadata": {},
   "outputs": [
    {
     "name": "stdout",
     "output_type": "stream",
     "text": [
      "<html lang=\"ko\" class=\"fzoom\" data-dark=\"false\"><head><script async=\"\" src=\"https://ntm.pstatic.net/ex/nlog.js\"></script><script async=\"\" src=\"https://ntm.pstatic.net/scripts/ntm_27291e35193e.js\"></script><script async=\"\" type=\"text/javascript\" src=\"https://ssl.pstatic.net/tveta/libs/ndpsdk/prod/ndp-core.js\"></script> <meta charset=\"utf-8\"> <meta name=\"Referrer\" content=\"origin\"> <meta http-equiv=\"X-UA-Compatible\" content=\"IE=edge\"> <meta name=\"viewport\" content=\"width=1190\"> <title>NAVER</title> <meta name=\"apple-mobile-web-app-title\" content=\"NAVER\"> <meta name=\"robots\" content=\"index,nofollow\"> <meta name=\"description\" content=\"네이버 메인에서 다양한 정보와 유용한 컨텐츠를 만나 보세요\"> <meta property=\"og:title\" content=\"네이버\"> <meta property=\"og:url\" content=\"https://www.naver.com/\"> <meta property=\"og:image\" content=\"https://s.pstatic.net/static/www/mobile/edit/2016/0705/mobile_212852414260.png\"> <meta property=\"og:description\" content=\"네이버 메인에서 다양한 정보와 유용한 컨텐츠를 만나 보세요\"> <meta name=\"twitter:card\" content=\"\n"
     ]
    }
   ],
   "source": [
    "# html 소스코드를 조회 -> BeautifulSoup 이용해서 데이터 추출\n",
    "html = browser.page_source\n",
    "print(html[:1000])"
   ]
  },
  {
   "cell_type": "code",
   "execution_count": 50,
   "id": "d075a32f-a999-4f7e-9270-e5f013702a02",
   "metadata": {},
   "outputs": [],
   "source": [
    "# 화면 크기를 최대화\n",
    "browser.maximize_window()"
   ]
  },
  {
   "cell_type": "code",
   "execution_count": 37,
   "id": "7430c950-1952-4cf8-a306-d9f17e381ff6",
   "metadata": {},
   "outputs": [
    {
     "data": {
      "text/plain": [
       "True"
      ]
     },
     "execution_count": 37,
     "metadata": {},
     "output_type": "execute_result"
    }
   ],
   "source": [
    "# 화면 캡쳐\n",
    "browser.get_screenshot_as_file(\"naver_main.png\")"
   ]
  },
  {
   "cell_type": "code",
   "execution_count": 49,
   "id": "8c8eb6d4-2e22-4583-aaa6-51299825d7cc",
   "metadata": {},
   "outputs": [
    {
     "data": {
      "text/plain": [
       "{'width': 803, 'height': 469}"
      ]
     },
     "execution_count": 49,
     "metadata": {},
     "output_type": "execute_result"
    }
   ],
   "source": [
    "browser.set_window_size(1000, 500)\n",
    "browser.get_window_size()"
   ]
  },
  {
   "cell_type": "code",
   "execution_count": 105,
   "id": "2c4e0a06-1d48-4e03-b517-ecee8260f563",
   "metadata": {},
   "outputs": [
    {
     "name": "stdout",
     "output_type": "stream",
     "text": [
      "<class 'selenium.webdriver.remote.webelement.WebElement'>\n",
      "input query\n"
     ]
    }
   ],
   "source": [
    "textfield = browser.find_element(By.ID, \"query\")\n",
    "print(type(textfield))\n",
    "print(textfield.tag_name, textfield.get_attribute(\"name\"))"
   ]
  },
  {
   "cell_type": "code",
   "execution_count": 106,
   "id": "7c93a459-0090-4461-a23e-086615b7338b",
   "metadata": {},
   "outputs": [],
   "source": [
    "# 키보드 입력 -> 글자들을 입력\n",
    "textfield.clear()\n",
    "textfield.send_keys(\"날씨\")"
   ]
  },
  {
   "cell_type": "code",
   "execution_count": 116,
   "id": "947609c7-a6bd-46eb-aea3-16303db6f8d4",
   "metadata": {},
   "outputs": [],
   "source": [
    "textfield.send_keys(Keys.ENTER)"
   ]
  },
  {
   "cell_type": "code",
   "execution_count": 118,
   "id": "6358c694-3d32-4fc8-803c-94cbabc058a7",
   "metadata": {},
   "outputs": [],
   "source": [
    "textfield2 = browser.find_element(By.ID, \"nx_query\")\n",
    "textfield2.clear()\n",
    "textfield2.send_keys(\"미세먼지\")"
   ]
  },
  {
   "cell_type": "code",
   "execution_count": 126,
   "id": "1437fe6a-0329-4e2a-b01f-02b84b89f05b",
   "metadata": {},
   "outputs": [
    {
     "name": "stdout",
     "output_type": "stream",
     "text": [
      "button\n"
     ]
    }
   ],
   "source": [
    "submit_btn = browser.find_element(By.CLASS_NAME, \"bt_search\")\n",
    "print(submit_btn.tag_name)\n",
    "submit_btn.click()"
   ]
  },
  {
   "cell_type": "code",
   "execution_count": 127,
   "id": "7d627090-9bb9-4c65-a105-3c11d7a9d97b",
   "metadata": {},
   "outputs": [],
   "source": [
    "browser.close()"
   ]
  },
  {
   "cell_type": "markdown",
   "id": "99a2012c-e8db-4b01-aa88-053c9ceb456e",
   "metadata": {
    "editable": true,
    "slideshow": {
     "slide_type": ""
    },
    "tags": []
   },
   "source": [
    "- ## 구글 검색\n",
    "1. https://www.google.co.kr 페이지로 이동\n",
    "2. 파이썬을 검색한다.\n",
    "3. 검색결과 title들을 출력한다."
   ]
  },
  {
   "cell_type": "code",
   "execution_count": 7,
   "id": "59fa0384-c1af-46f5-b4f0-765da4ca6d66",
   "metadata": {},
   "outputs": [],
   "source": [
    "from webdriver_manager.microsoft import EdgeChromiumDriverManager\n",
    "from selenium import webdriver\n",
    "from selenium.webdriver.edge.service import Service\n",
    "from selenium.webdriver.common.by import By\n",
    "from selenium.webdriver.common.keys import Keys\n",
    "\n",
    "from selenium.webdriver.support.ui import WebDriverWait\n",
    "from selenium.webdriver.support import expected_conditions as EC"
   ]
  },
  {
   "cell_type": "code",
   "execution_count": 303,
   "id": "9796bd3b-484f-4153-baa1-cc3a2ed782fb",
   "metadata": {},
   "outputs": [
    {
     "name": "stdout",
     "output_type": "stream",
     "text": [
      "Welcome to Python.org\n",
      "Python - 파이썬\n",
      "1. 파이썬 시작하기 - 왕초보를 위한 Python\n",
      "Python Tutorial\n",
      "파이썬 - 위키백과, 우리 모두의 백과사전\n",
      "Python란 무엇인가요? - Python 언어 설명\n",
      "Python (programming language)\n",
      "파이썬 코딩 무료 강의 (기본편) - 6시간 뒤면 여러분도 개발자가 ...\n"
     ]
    }
   ],
   "source": [
    "option = webdriver.EdgeOptions()\n",
    "option.add_argument(\"--headless\")\n",
    "\n",
    "driver = EdgeChromiumDriverManager().install()\n",
    "service = Service(executable_path=driver)\n",
    "browser = webdriver.Edge(service=service) # 브라우저 띄우기\n",
    "# 구글 이동\n",
    "browser.get(\"https://www.google.co.kr/\")\n",
    "# 키워드 입력필드를 조회\n",
    "keyword_tf = browser.find_element(By.ID, \"APjFqb\") #(By.NAME, 'q')\n",
    "# 검색 키워드 입력\n",
    "keyword_tf.send_keys(\"python\")\n",
    "keyword_tf.send_keys(Keys.ENTER)\n",
    "\n",
    "# import time\n",
    "# time.sleep(5)\n",
    "# title_list = browser.find_elements(By.CSS_SELECTOR, \".LC20lb.MBeuO.DKV0Md\")\n",
    "\n",
    "# element를 가져올 수 있을 때까지 10초까지 대기\n",
    "title_list = WebDriverWait(browser, 10).until(\n",
    "    EC.presence_of_all_elements_located((By.CSS_SELECTOR, \".LC20lb.MBeuO.DKV0Md\"))\n",
    ")\n",
    "\n",
    "## EC.presence_of_all_elements_located = find_elements()\n",
    "## EC.presence_of_element_located = find_element()\n",
    "\n",
    "print(len(title_list))\n",
    "for tag in title_list:\n",
    "    print(tag.text)\n",
    "browser.close()"
   ]
  },
  {
   "cell_type": "code",
   "execution_count": 7,
   "id": "2e4af5e8",
   "metadata": {},
   "outputs": [],
   "source": [
    "from webdriver_manager.microsoft import EdgeChromiumDriverManager\n",
    "from selenium import webdriver\n",
    "from selenium.webdriver.edge.service import Service\n",
    "from selenium.webdriver.common.by import By\n",
    "from selenium.webdriver.common.keys import Keys\n",
    "\n",
    "from selenium.webdriver.support.ui import WebDriverWait\n",
    "from selenium.webdriver.support import expected_conditions as EC"
   ]
  },
  {
   "cell_type": "code",
   "execution_count": 303,
   "id": "599dfb47",
   "metadata": {},
   "outputs": [
    {
     "name": "stdout",
     "output_type": "stream",
     "text": [
      "Welcome to Python.org\n",
      "Python - 파이썬\n",
      "1. 파이썬 시작하기 - 왕초보를 위한 Python\n",
      "Python Tutorial\n",
      "파이썬 - 위키백과, 우리 모두의 백과사전\n",
      "Python란 무엇인가요? - Python 언어 설명\n",
      "Python (programming language)\n",
      "파이썬 코딩 무료 강의 (기본편) - 6시간 뒤면 여러분도 개발자가 ...\n"
     ]
    }
   ],
   "source": [
    "option = webdriver.EdgeOptions()\n",
    "option.add_argument(\"--headless\")\n",
    "\n",
    "driver = EdgeChromiumDriverManager().install()\n",
    "service = Service(executable_path=driver)\n",
    "browser = webdriver.Edge(service=service) # 브라우저 띄우기\n",
    "# 구글 이동\n",
    "browser.get(\"https://www.google.co.kr/\")\n",
    "# 키워드 입력필드를 조회\n",
    "keyword_tf = browser.find_element(By.ID, \"APjFqb\") #(By.NAME, 'q')\n",
    "# 검색 키워드 입력\n",
    "keyword_tf.send_keys(\"python\")\n",
    "keyword_tf.send_keys(Keys.ENTER)\n",
    "\n",
    "# import time\n",
    "# time.sleep(5)\n",
    "# title_list = browser.find_elements(By.CSS_SELECTOR, \".LC20lb.MBeuO.DKV0Md\")\n",
    "\n",
    "# element를 가져올 수 있을 때까지 10초까지 대기\n",
    "title_list = WebDriverWait(browser, 10).until(\n",
    "    EC.presence_of_all_elements_located((By.CSS_SELECTOR, \".LC20lb.MBeuO.DKV0Md\"))\n",
    ")\n",
    "\n",
    "## EC.presence_of_all_elements_located = find_elements()\n",
    "## EC.presence_of_element_located = find_element()\n",
    "\n",
    "print(len(title_list))\n",
    "for tag in title_list:\n",
    "    print(tag.text)\n",
    "browser.close()"
   ]
  },
  {
   "cell_type": "code",
   "execution_count": null,
   "id": "6b246677-e01a-49a3-86ec-5da92956cdd5",
   "metadata": {},
   "outputs": [],
   "source": []
  },
  {
   "cell_type": "markdown",
   "id": "564ceb8d-a1ec-42e0-a07b-917eed79f962",
   "metadata": {},
   "source": [
    "- Headless 브라우저 \n",
    "    - 브라우저의 창을 띄우지 않고 실제 브라우저와 동일하게 동작하도록 하는 방식\n",
    "    - CLI 기반의 OS (리눅스 서버)를 지원하기 위한 브라우저\n",
    "    - webdriver options에 headless 설정"
   ]
  },
  {
   "cell_type": "code",
   "execution_count": 309,
   "id": "b7b85488-8ba4-41d8-899d-9869b930d853",
   "metadata": {},
   "outputs": [],
   "source": [
    "# option = webdriver.ChromeOptions()\n",
    "option = webdriver.EdgeOptions()\n",
    "option.add_argument(\"--headless\")\n",
    "\n",
    "service = Service(executable_path=driver)\n",
    "browser = webdriver.Edge(service=service, options=option)\n",
    "\n",
    "browser.get(\"https://www.naver.com\")\n",
    "browser.get_screenshot_as_file(\"page_image.png\")\n",
    "browser.close()"
   ]
  },
  {
   "cell_type": "markdown",
   "id": "5080e188-d86b-47ae-9f3d-3d7b9fc7ebbf",
   "metadata": {
    "hidden": true
   },
   "source": [
    "## Explicit Wait\n",
    "- 특정 조건/상황을 만족할 때 까지 대기\n",
    "- `WebDriverWait(driver, 초).until(expected_contition)` 구문 사용\n",
    "- expected_condition 함수\n",
    "     - selenium.webdriver.support.expected_conditions 모듈에 정의된 함수 사용.\n",
    "     \n",
    "## Implicit Wait\n",
    "- 현재 페이지에 없는 element나 elememt들이 loading 되기를 설정한 시간만큼 기다린다. \n",
    "- 설정한 시간 이내에 elements가 loading되면 대기가 종료된다.\n",
    "- `implicit_wait(초)` 구문 사용\n",
    "- 한번 설정하면 설정된 WebDriver가 close될때 까지 그 설정이 유지된다."
   ]
  },
  {
   "cell_type": "code",
   "execution_count": 311,
   "id": "ab52adca-4e9d-41fb-9144-f521e0074768",
   "metadata": {},
   "outputs": [],
   "source": [
    "# 무한스크롤\n",
    "url = \"https://www.youtube.com\"\n",
    "\n",
    "driver = EdgeChromiumDriverManager().install()\n",
    "service = Service(executable_path=driver)\n",
    "browser = webdriver.Edge(service=service)"
   ]
  },
  {
   "cell_type": "code",
   "execution_count": 321,
   "id": "0cbcb398-4e2d-4d40-99e1-33e03e49f7f6",
   "metadata": {},
   "outputs": [],
   "source": [
    "browser.maximize_window()\n",
    "browser.get(url)\n",
    "# time.sleep(3)\n",
    "# browser.execute_script(\"자바스크립트 코드\") -> 자바스크립트 코드가 브라우저에서 실행된다.\n",
    "\n",
    "# document.documentElement.scrollHeight 세로 스크롤 길이 (페이지의 height 길이)\n",
    "scroll_pane_height = browser.execute_script(\"return document.documentElement.scrollHeight\")\n",
    "while True:\n",
    "    # scroll 이동 - window.scrollTo(가로스크롤 이동할 위치, 세로스크롤 이동할 위치)\n",
    "    browser.execute_script(\"window.scrollTo(0, document.documentElement.scrollHeight)\")\n",
    "    time.sleep(1)\n",
    "    # 이동 후 height 길이 조회\n",
    "    new_scroll_height = browser.execute_script(\"return document.documentElement.scrollHeight\")\n",
    "    if scroll_pane_height == new_scroll_height:\n",
    "        break # 스크롤 이동을 멈춘다.\n",
    "    scroll_pane_height = new_scroll_height\n",
    "\n",
    "# 페이지에서 원하는 항목 추출\n",
    "browser.close()"
   ]
  },
  {
   "cell_type": "code",
   "execution_count": 38,
   "id": "ea02b04e-51c0-4652-8122-c227e5bcdd13",
   "metadata": {},
   "outputs": [],
   "source": [
    "# 트립어드바이저 크롤링\n",
    "from bs4 import BeautifulSoup\n",
    "\n",
    "# 1페이지 리뷰 조회\n",
    "review_list = []\n",
    "\n",
    "url = \"https://www.tripadvisor.co.kr/Restaurant_Review-g294197-d3200324-Reviews-or50-Jungsik-Seoul.html\"\n",
    "\n",
    "service = Service(executable_path=EdgeChromiumDriverManager().install())\n",
    "browser = webdriver.Edge(service=service)\n",
    "\n",
    "browser.get(url)\n",
    "\n",
    "more_btn = WebDriverWait(browser, 10).until(\n",
    "    EC.presence_of_element_located((By.CSS_SELECTOR, \".taLnk.ulBlueLinks\"))\n",
    ")\n",
    "more_btn.click()\n",
    "\n",
    "time.sleep(1) # 내용이 나오기까지 1초 정도 대기\n",
    "# html -> str 조회\n",
    "html_txt = browser.page_source\n",
    "soup = BeautifulSoup(html_txt, 'lxml')\n",
    "\n",
    "tag_list = soup.select('.partial_entry')\n",
    "for tag in tag_list:\n",
    "    review_list.append(tag.get_text().strip())\n",
    "\n",
    "browser.close()"
   ]
  },
  {
   "cell_type": "code",
   "execution_count": 78,
   "id": "b689a47b-6746-405c-8c2d-7feadf26aa92",
   "metadata": {},
   "outputs": [
    {
     "name": "stdout",
     "output_type": "stream",
     "text": [
      "종료\n"
     ]
    }
   ],
   "source": [
    "# 전체 리뷰 조회\n",
    "review_list = []\n",
    "\n",
    "url = \"https://www.tripadvisor.co.kr/Restaurant_Review-g294197-d3200324-Reviews-or50-Jungsik-Seoul.html\"\n",
    "\n",
    "service = Service(executable_path=EdgeChromiumDriverManager().install())\n",
    "browser = webdriver.Edge(service=service)\n",
    "browser.get(url)\n",
    "\n",
    "# 반복문 안에서 한페이지 리뷰 조회하는 코드를 실행\n",
    "# 반복문은 '다음' 버튼을 클릭할 수 없을 때까지 반복\n",
    "while True:\n",
    "    more_btn = WebDriverWait(browser, 10).until(\n",
    "        EC.presence_of_element_located((By.CSS_SELECTOR, \".taLnk.ulBlueLinks\"))\n",
    "    )\n",
    "    more_btn.click()\n",
    "    \n",
    "    time.sleep(1) # 내용이 나오기까지 1초 정도 대기\n",
    "    # html -> str 조회\n",
    "    html_txt = browser.page_source\n",
    "    soup = BeautifulSoup(html_txt, 'lxml')\n",
    "    \n",
    "    tag_list = soup.select('.partial_entry')\n",
    "    for tag in tag_list:\n",
    "        review_list.append(tag.get_text().strip())\n",
    "\n",
    "    # 다음 버튼 클릭\n",
    "    try:\n",
    "        next_btn = WebDriverWait(browser, 5).until(\n",
    "            EC.presence_of_element_located((By.CSS_SELECTOR, \"#taplc_location_reviews_list_resp_rr_resp_0 > div > div:nth-child(12) > div > div > a.nav.next.ui_button.primary\"))\n",
    "        )\n",
    "        next_btn.click()\n",
    "    except:\n",
    "        # selector의 다음 버튼이 없다.\n",
    "        break\n",
    "    time.sleep(1)\n",
    "\n",
    "print(\"종료\")"
   ]
  },
  {
   "cell_type": "code",
   "execution_count": 80,
   "id": "68cfd434-e9a3-4df4-8c3f-7ccc258b80c2",
   "metadata": {
    "editable": true,
    "slideshow": {
     "slide_type": ""
    },
    "tags": []
   },
   "outputs": [
    {
     "data": {
      "text/plain": [
       "169"
      ]
     },
     "execution_count": 80,
     "metadata": {},
     "output_type": "execute_result"
    }
   ],
   "source": [
    "browser.close()\n",
    "len(review_list)"
   ]
  }
 ],
 "metadata": {
  "kernelspec": {
   "display_name": "Python 3 (ipykernel)",
   "language": "python",
   "name": "python3"
  },
  "language_info": {
   "codemirror_mode": {
    "name": "ipython",
    "version": 3
   },
   "file_extension": ".py",
   "mimetype": "text/x-python",
   "name": "python",
   "nbconvert_exporter": "python",
   "pygments_lexer": "ipython3",
   "version": "3.11.5"
  },
  "toc": {
   "base_numbering": 1
  }
 },
 "nbformat": 4,
 "nbformat_minor": 5
}
