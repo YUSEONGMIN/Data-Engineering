{
 "cells": [
  {
   "cell_type": "markdown",
   "id": "cc203478-9005-4fad-98b6-5e6fee7cc2f8",
   "metadata": {},
   "source": [
    "# 5일차(2024.01.03)\n",
    "- 개요\n",
    "    - 람다표현식\n",
    "        - sorted, filter, map\n",
    "    - OOP\n",
    "        - Instance, Class, Attribute"
   ]
  },
  {
   "cell_type": "markdown",
   "id": "167f2011-d51d-4faa-890d-208761dddbb9",
   "metadata": {
    "slideshow": {
     "slide_type": "slide"
    }
   },
   "source": [
    "# 람다표현식 (Lambda Expression)\n",
    "- 함수를 하나의 식을 이용해서 정의할때 사용하는 표현식(구문).\n",
    "- **람다식은 함수의 매개변수로 함수를 전달하는 일회성 함수를 만들때 주로 사용한다.**"
   ]
  },
  {
   "cell_type": "code",
   "execution_count": 1,
   "id": "236d1788-a0a8-46cc-b4cf-a0d5b9a6b46b",
   "metadata": {},
   "outputs": [
    {
     "data": {
      "text/plain": [
       "30"
      ]
     },
     "execution_count": 1,
     "metadata": {},
     "output_type": "execute_result"
    }
   ],
   "source": [
    "a = lambda num1, num2: num1 + num2\n",
    "a(10, 20)"
   ]
  },
  {
   "cell_type": "code",
   "execution_count": 2,
   "id": "25d4d009-26a5-46ff-a6ef-1a17196f60a5",
   "metadata": {
    "slideshow": {
     "slide_type": "fragment"
    }
   },
   "outputs": [
    {
     "data": {
      "text/plain": [
       "<function __main__.<lambda>()>"
      ]
     },
     "execution_count": 2,
     "metadata": {},
     "output_type": "execute_result"
    }
   ],
   "source": [
    "# callback 구현용\n",
    "lambda x,y,z : x+y+z\n",
    "lambda : 10"
   ]
  },
  {
   "cell_type": "code",
   "execution_count": 3,
   "id": "963260b5-4a1f-4b11-8411-dabd92cf6a8d",
   "metadata": {},
   "outputs": [],
   "source": [
    "def calc(func):\n",
    "    num1, num2 = 10, 20\n",
    "    result = func(num1, num2) # callback 함수 호출\n",
    "    return result"
   ]
  },
  {
   "cell_type": "code",
   "execution_count": 4,
   "id": "06688a8a-694a-4cb2-aae3-233a75a1f9d8",
   "metadata": {},
   "outputs": [
    {
     "data": {
      "text/plain": [
       "30"
      ]
     },
     "execution_count": 4,
     "metadata": {},
     "output_type": "execute_result"
    }
   ],
   "source": [
    "calc(lambda x,y: x+y)"
   ]
  },
  {
   "cell_type": "code",
   "execution_count": 5,
   "id": "6c44adc2-2cbb-46c7-b784-2031df5d139e",
   "metadata": {},
   "outputs": [
    {
     "data": {
      "text/plain": [
       "False"
      ]
     },
     "execution_count": 5,
     "metadata": {},
     "output_type": "execute_result"
    }
   ],
   "source": [
    "calc(lambda x,y: x>y)"
   ]
  },
  {
   "cell_type": "code",
   "execution_count": 6,
   "id": "39f39b6a-0b39-426c-a720-b042cbb58fac",
   "metadata": {},
   "outputs": [
    {
     "data": {
      "text/plain": [
       "<function __main__.<lambda>(x, y)>"
      ]
     },
     "execution_count": 6,
     "metadata": {},
     "output_type": "execute_result"
    }
   ],
   "source": [
    "# 여러 개의 처리를 할 경우, 자료구조로 묶어준다.\n",
    "# 튜플로 묶을 때는 ()를 반드시 사용\n",
    "lambda x,y: [x+y, x-y, x*y, x/y]"
   ]
  },
  {
   "cell_type": "markdown",
   "id": "a600a317-8933-44dc-803a-463db6543bff",
   "metadata": {
    "slideshow": {
     "slide_type": "slide"
    }
   },
   "source": [
    "iterable 관련 함수에서 함수를 매개변수로 받아 처리하는 함수들\n",
    "\n",
    "- sorted(iterable, reverse=False, key=None): 정렬처리  \n",
    "- filter(함수, Iterable): Iterable의 원소들 중에서 특정 조건을 만족하는 원소들만 걸러주는 함수\n",
    "- map(함수, Iterable): Iterable의 원소들 하나 하나를 처리(변형)해서 그 결과를 반환\n",
    "\n",
    "- **filter/map 반환타입**: generator 가 반환 된다."
   ]
  },
  {
   "cell_type": "code",
   "execution_count": 7,
   "id": "df1f647a-8752-4a6f-be27-c533304bcef2",
   "metadata": {},
   "outputs": [
    {
     "data": {
      "text/plain": [
       "['안녕하세요.', 'rs', 'k', 'abcde', 'abc', 'a', 'Zz', '12345']"
      ]
     },
     "execution_count": 7,
     "metadata": {},
     "output_type": "execute_result"
    }
   ],
   "source": [
    "# 특수문자 < 숫자 < 대문자 < 소문자 < 한글\n",
    "lst = [\"a\",\"abc\",\"k\",\"Zz\",\"abcde\",\"rs\",\"12345\",\"안녕하세요.\"]\n",
    "lst.sort() # 리스트 자체를 정렬\n",
    "lst.sort(reverse=True) # 내림차순\n",
    "lst"
   ]
  },
  {
   "cell_type": "code",
   "execution_count": 8,
   "id": "a0d467ce-3ab8-4962-b486-dca49f8bb520",
   "metadata": {},
   "outputs": [
    {
     "data": {
      "text/plain": [
       "['안녕하세요.', 'rs', 'k', 'abcde', 'abc', 'a', 'Zz', '12345']"
      ]
     },
     "execution_count": 8,
     "metadata": {},
     "output_type": "execute_result"
    }
   ],
   "source": [
    "sorted(lst) # 정렬한 새로운 리스트를 반환\n",
    "sorted(lst, reverse=True)\n",
    "# 모든 자료구조를 정렬해서 리스트에 담아준다."
   ]
  },
  {
   "cell_type": "code",
   "execution_count": 9,
   "id": "c5b1fc60-df02-4715-85d4-f9775c498f71",
   "metadata": {},
   "outputs": [
    {
     "data": {
      "text/plain": [
       "[6, 2, 1, 5, 3, 1, 2, 5]"
      ]
     },
     "execution_count": 9,
     "metadata": {},
     "output_type": "execute_result"
    }
   ],
   "source": [
    "def countChar(txt):\n",
    "    return len(txt)\n",
    "\n",
    "[countChar(t) for t in lst]"
   ]
  },
  {
   "cell_type": "code",
   "execution_count": 10,
   "id": "55dc60eb-2aaa-419b-852f-ab60339c1f3c",
   "metadata": {},
   "outputs": [
    {
     "data": {
      "text/plain": [
       "['k', 'a', 'rs', 'Zz', 'abc', 'abcde', '12345', '안녕하세요.']"
      ]
     },
     "execution_count": 10,
     "metadata": {},
     "output_type": "execute_result"
    }
   ],
   "source": [
    "# 각 원소를 key 함수에 전달해서 리턴되는 값을 기준으로 정렬\n",
    "sorted(lst, key=countChar)"
   ]
  },
  {
   "cell_type": "code",
   "execution_count": 11,
   "id": "593d7b22-c88e-4849-a851-c7b2c0222a66",
   "metadata": {
    "editable": true,
    "slideshow": {
     "slide_type": ""
    },
    "tags": []
   },
   "outputs": [
    {
     "data": {
      "text/plain": [
       "['안녕하세요.', 'abcde', '12345', 'abc', 'rs', 'Zz', 'k', 'a']"
      ]
     },
     "execution_count": 11,
     "metadata": {},
     "output_type": "execute_result"
    }
   ],
   "source": [
    "sorted(lst, key=lambda x: len(x), reverse=True)"
   ]
  },
  {
   "cell_type": "code",
   "execution_count": 12,
   "id": "665dd173-e940-4017-af2e-fd456c90f047",
   "metadata": {},
   "outputs": [
    {
     "data": {
      "text/plain": [
       "[1, 13, 27, -101, 17]"
      ]
     },
     "execution_count": 12,
     "metadata": {},
     "output_type": "execute_result"
    }
   ],
   "source": [
    "lst2 = [1,10,-2,13,26,27,-101,17]\n",
    "# 홀수\n",
    "[v for v in lst2 if v % 2 != 0]"
   ]
  },
  {
   "cell_type": "code",
   "execution_count": 13,
   "id": "10eb0579-e9e5-4a2c-9e72-398f3dca8bca",
   "metadata": {},
   "outputs": [
    {
     "data": {
      "text/plain": [
       "[1, 13, 27, -101, 17]"
      ]
     },
     "execution_count": 13,
     "metadata": {},
     "output_type": "execute_result"
    }
   ],
   "source": [
    "# filter(함수-filter 조건, 자료구조)\n",
    "# x: 원소 하나를 받을 변수. bool 리턴\n",
    "list(filter(lambda x: x%2 != 0, lst2))"
   ]
  },
  {
   "cell_type": "code",
   "execution_count": 14,
   "id": "aecc3bfc-bd02-4d84-8cba-aafcddb0bc4a",
   "metadata": {},
   "outputs": [
    {
     "data": {
      "text/plain": [
       "[-1, -10, 2, -13, -26, -27, 101, -17]"
      ]
     },
     "execution_count": 14,
     "metadata": {},
     "output_type": "execute_result"
    }
   ],
   "source": [
    "# map(함수-처리방식, 자료구조)\n",
    "# 원소들을 일괄처리\n",
    "# 함수 -> 원소 하나를 받아서 처리 결과를 리턴\n",
    "list(map(lambda x: x*-1, lst2))"
   ]
  },
  {
   "cell_type": "markdown",
   "id": "fa6659be-6c25-481b-bfb2-2b50ff252d7a",
   "metadata": {
    "slideshow": {
     "slide_type": "slide"
    }
   },
   "source": [
    "# 객체지향 프로그래밍 (Object Oriented Programming)\n",
    "\n",
    "프로그램을 구성하는 변수와 함수들에서 서로 연관성있는 것 끼리 묶어서 모듈화하는 개발하는 언어들을 객체지향프로그래밍 언어라고 한다."
   ]
  },
  {
   "cell_type": "markdown",
   "id": "b6bcd5b4-c055-492c-9542-f8979e641aff",
   "metadata": {
    "slideshow": {
     "slide_type": "fragment"
    }
   },
   "source": [
    "## Instance(객체)\n",
    "- 연관성 있는 값들과 그 값들을 처리하는 함수(메소드)들을 묶어서 가지고 있는 것.\n",
    "- 객체의 구성요소\n",
    "    - 속성(Attribute)\n",
    "        - 객체의 데이터/상태로 객체를 구성하는 값들.\n",
    "    - 메소드(method)\n",
    "        - 객체가 제공하는 기능으로 주로 Attribute들을 처리한다."
   ]
  },
  {
   "cell_type": "markdown",
   "id": "73f0dae1-87ea-432c-a875-1727d51fb350",
   "metadata": {
    "slideshow": {
     "slide_type": "subslide"
    }
   },
   "source": [
    "## Class(클래스)\n",
    "\n",
    "- class란: 객체(instance)의 설계도\n",
    "    - 동일한 형태의 객체들이 가져야 하는 Attribute와 Method들을 정의 한 것\n",
    "    - 클래스를 정의할 때 어떤 속성과 메소드를 가지는지 먼저 설계해야 한다.\n",
    "    - 클래스로부터 객체(instance)를 생성한 뒤 사용한다."
   ]
  },
  {
   "cell_type": "code",
   "execution_count": 15,
   "id": "40cddde5-4d89-4911-9a60-07cefaaf6c80",
   "metadata": {},
   "outputs": [],
   "source": [
    "class User:\n",
    "    pass"
   ]
  },
  {
   "cell_type": "code",
   "execution_count": 16,
   "id": "3c9bd13a-e50c-4538-8f9d-061fb6c4be2c",
   "metadata": {},
   "outputs": [
    {
     "data": {
      "text/plain": [
       "<__main__.User at 0x2647f01c550>"
      ]
     },
     "execution_count": 16,
     "metadata": {},
     "output_type": "execute_result"
    }
   ],
   "source": [
    "User() # Instance 생성"
   ]
  },
  {
   "cell_type": "code",
   "execution_count": 17,
   "id": "685e1cee-9f08-4550-9689-4b0bee10b155",
   "metadata": {},
   "outputs": [],
   "source": [
    "u1 = User() # 다른 클래스\n",
    "u2 = User()\n",
    "u3 = User()"
   ]
  },
  {
   "cell_type": "code",
   "execution_count": 18,
   "id": "05a7d2e9-be78-4d37-ace8-c938b1ed918e",
   "metadata": {},
   "outputs": [],
   "source": [
    "# instance에 속성을 추가\n",
    "## instance의 상태/데이터\n",
    "u1.name = \"홍길동\" # 객체.변수명 = 값\n",
    "u1.age = 30\n",
    "u1.address = \"서울\""
   ]
  },
  {
   "cell_type": "raw",
   "id": "6fffa0e5-4ee6-4963-9eb3-2422b69f96ef",
   "metadata": {},
   "source": [
    "User 클래스로부터 u1 객체 생성\n",
    "name, age, address가 저장된 영역을 묶어서 u1에서 관리"
   ]
  },
  {
   "cell_type": "code",
   "execution_count": 19,
   "id": "818fa495-7049-4e1a-9242-7c02172e657e",
   "metadata": {
    "slideshow": {
     "slide_type": "fragment"
    }
   },
   "outputs": [],
   "source": [
    "u2.name = \"이순신\""
   ]
  },
  {
   "cell_type": "code",
   "execution_count": 20,
   "id": "0afd5f53-ac1e-4f3e-bde8-9bfedce28304",
   "metadata": {},
   "outputs": [],
   "source": [
    "u3.age = 20\n",
    "u3.이름 = \"이름\" # 이런 경우 발생 -> 초기화(Initialize)"
   ]
  },
  {
   "cell_type": "code",
   "execution_count": 21,
   "id": "de8f2ad8-2cb6-4c0a-8291-64e3e84a19f7",
   "metadata": {},
   "outputs": [
    {
     "name": "stdout",
     "output_type": "stream",
     "text": [
      "홍길동 이순신\n"
     ]
    }
   ],
   "source": [
    "print(u1.name, u2.name)"
   ]
  },
  {
   "cell_type": "code",
   "execution_count": 22,
   "id": "af4c4138-6186-4b66-8c53-a9035d239789",
   "metadata": {},
   "outputs": [],
   "source": [
    "# Initialize를 이용해서 객체의 속성을 초기화하는 클래스\n",
    "class User2:\n",
    "    \n",
    "    def __init__(self, name, age, email):\n",
    "        self.name = name\n",
    "        self.age = age\n",
    "        self.email = email\n",
    "        self.address = \"서울\"\n",
    "# self(객체)에 할당"
   ]
  },
  {
   "cell_type": "raw",
   "id": "97f36f39-2079-4c19-8a79-d13746c731d6",
   "metadata": {},
   "source": [
    "class이름() -> instance 생성 => initializer를 호출해서 객체를 생성\n",
    "User2()는 __init__ 메소드를 호출"
   ]
  },
  {
   "cell_type": "code",
   "execution_count": 23,
   "id": "391029b1-e5da-4b27-b275-3ac72e59d75f",
   "metadata": {},
   "outputs": [],
   "source": [
    "u1 = User2('이순신', 30, 'lee@a.com')"
   ]
  },
  {
   "cell_type": "raw",
   "id": "020c7426-72e4-42b6-9906-8e103cb0572c",
   "metadata": {},
   "source": [
    "메모리 상 객체 생성\n",
    "__init__ 메소드 호출\n",
    "self 파라미터(영역)에 메모리 상 생성된 객체 할당\n",
    "name 영역에는 \"이순신\" 할당\n",
    "...\n",
    "\n",
    "self.name -> self 안에 name 생성\n",
    "name(지역변수) 안 \"이순신\" -> self 안 name으로 이동\n",
    "age(지역변수)의 30이 self 안 age로 이동\n",
    "...\n",
    "\n",
    "객체 생성 후 지역변수는 사라짐"
   ]
  },
  {
   "cell_type": "raw",
   "id": "c0a37675-8481-4b53-94a5-5250494a37f0",
   "metadata": {},
   "source": [
    "객체 생성\n",
    "1. instance 영역이 메모리에 생성\n",
    "2. __init__()을 호출\n",
    "    1에서 생성된 instance를 __init__() 메소드의 첫번째 파라미터에 전달"
   ]
  },
  {
   "cell_type": "code",
   "execution_count": 24,
   "id": "16c6aa2f-d4e1-4e75-af05-754d1fbcc543",
   "metadata": {},
   "outputs": [
    {
     "name": "stdout",
     "output_type": "stream",
     "text": [
      "이순신 30 lee@a.com 서울\n"
     ]
    }
   ],
   "source": [
    "print(u1.name, u1.age, u1.email, u1.address)"
   ]
  },
  {
   "cell_type": "code",
   "execution_count": 25,
   "id": "0d4604ab-3d96-4933-8f2f-8a273bfb15af",
   "metadata": {},
   "outputs": [],
   "source": [
    "u2 = User2(\"유관순\", 40, \"yoo@a.com\")"
   ]
  },
  {
   "cell_type": "code",
   "execution_count": 26,
   "id": "69c21aa2-2653-4f28-aeb9-1c8bdef4bf74",
   "metadata": {},
   "outputs": [
    {
     "name": "stdout",
     "output_type": "stream",
     "text": [
      "유관순 40 yoo@a.com 서울\n"
     ]
    }
   ],
   "source": [
    "print(u2.name, u2.age, u2.email, u2.address)"
   ]
  },
  {
   "cell_type": "code",
   "execution_count": 27,
   "id": "aa0b8698-5ea9-43fc-adf2-2e4403c9d15b",
   "metadata": {},
   "outputs": [
    {
     "data": {
      "text/plain": [
       "'강감찬'"
      ]
     },
     "execution_count": 27,
     "metadata": {},
     "output_type": "execute_result"
    }
   ],
   "source": [
    "u1.name = \"강감찬\"\n",
    "u1.name"
   ]
  },
  {
   "cell_type": "code",
   "execution_count": 28,
   "id": "d1575dd0-0878-4840-89bc-3a8a43df2cfc",
   "metadata": {},
   "outputs": [
    {
     "name": "stdout",
     "output_type": "stream",
     "text": [
      "B형\n"
     ]
    }
   ],
   "source": [
    "u1.blood_type = \"B형\" # 추가보단 속성 값을 변경할 때 사용\n",
    "print(u1.blood_type)\n",
    "# u1과 u2가 가진 변수들이 달라짐 -> 초기화가 있는 이유"
   ]
  },
  {
   "cell_type": "raw",
   "id": "2fbcc3a3-ded8-4050-8e63-66e1007a6d2a",
   "metadata": {},
   "source": [
    "class -> Data Type, instance(객체) -> Value"
   ]
  },
  {
   "cell_type": "code",
   "execution_count": 29,
   "id": "4ed6ab9b-07fc-425b-8637-8dee463cadfc",
   "metadata": {},
   "outputs": [
    {
     "name": "stdout",
     "output_type": "stream",
     "text": [
      "<class '__main__.User2'>\n",
      "<class 'int'>\n",
      "<class 'float'>\n"
     ]
    }
   ],
   "source": [
    "print(type(u2))\n",
    "print(type(20))\n",
    "print(type(30.2))"
   ]
  },
  {
   "cell_type": "markdown",
   "id": "408d0a92-46ab-4c51-893b-05c2e2f0c6e9",
   "metadata": {
    "slideshow": {
     "slide_type": "subslide"
    }
   },
   "source": [
    "## Attribute(속성) \n",
    "- attribute는 객체의 데이터, 객체가 가지는 값, 객체의 상태\n",
    "\n",
    "객체에 속성을 추가, 조회\n",
    "- 객체의 속성 추가(값 변경)\n",
    "    1. Initializer(생성자)를 통한 추가\n",
    "    2. 객체.속성명 = 값 (추가/변경)\n",
    "    3. 메소드를 통한 추가/변경"
   ]
  },
  {
   "cell_type": "code",
   "execution_count": 30,
   "id": "fc7c63c3-163c-486b-8de8-0093b7cdc22a",
   "metadata": {},
   "outputs": [
    {
     "data": {
      "text/plain": [
       "{'name': '강감찬',\n",
       " 'age': 30,\n",
       " 'email': 'lee@a.com',\n",
       " 'address': '서울',\n",
       " 'blood_type': 'B형'}"
      ]
     },
     "execution_count": 30,
     "metadata": {},
     "output_type": "execute_result"
    }
   ],
   "source": [
    "u1.__dict__"
   ]
  },
  {
   "cell_type": "code",
   "execution_count": 31,
   "id": "8dfe0843-f1b3-400a-9ced-7190eeccca74",
   "metadata": {},
   "outputs": [
    {
     "data": {
      "text/plain": [
       "{'name': '유관순', 'age': 40, 'email': 'yoo@a.com', 'address': '서울'}"
      ]
     },
     "execution_count": 31,
     "metadata": {},
     "output_type": "execute_result"
    }
   ],
   "source": [
    "u2.__dict__"
   ]
  },
  {
   "cell_type": "markdown",
   "id": "d2b86df7-9ffa-45f1-bbd5-5ea3e1b676ba",
   "metadata": {
    "slideshow": {
     "slide_type": "subslide"
    }
   },
   "source": [
    "생성자(Initializer)\n",
    "- 객체를 생성할 때 호출되는 특수메소드로 attribute들 초기화에 하는 코드를 구현한다.\n",
    "- Inializer를 이용해 초기화하는 Attribute들이 그 클래스의 객체들이 가져야 하는 공통 Attribute가 된다.\n"
   ]
  },
  {
   "cell_type": "markdown",
   "id": "dce317e4-2741-4a6a-aa6a-046fdcf500a3",
   "metadata": {
    "slideshow": {
     "slide_type": "subslide"
    }
   },
   "source": [
    "Instance 메소드(method)\n",
    "- 객체가 제공하는 기능\n",
    "- 객체의 attribute 값을 처리하는 기능을 구현한다."
   ]
  },
  {
   "cell_type": "code",
   "execution_count": 32,
   "id": "4b0ce8ab-8b17-447d-9417-ac8036eba17c",
   "metadata": {
    "slideshow": {
     "slide_type": "fragment"
    }
   },
   "outputs": [],
   "source": [
    "class User3:\n",
    "    \n",
    "    def __init__(self, name, age, email):\n",
    "        self.name = name\n",
    "        self.age = age\n",
    "        self.email = email\n",
    "        self.address = \"서울\"\n",
    "\n",
    "    # 메소드\n",
    "    def add_age(self, age):\n",
    "        # 기존 나이에 받은 나이를 더해준다.\n",
    "        self.age = self.age + age # self.age: attribute 변수, age: local 변수\n",
    "\n",
    "    def get_user_info(self):\n",
    "        # User의 정보를 하나의 문자열로 만들어서 변환\n",
    "        return f\"이름: {self.name}, 나이: {self.age}, Email: {self.email}, 주소: {self.address}\"\n",
    "\n",
    "    def get_city_type(self):\n",
    "        result = None\n",
    "        if self.address == \"서울\":\n",
    "            result = \"특별시\"\n",
    "        elif self.address in [\"부산\",\"인천\",\"대구\",\"광주\",\"울산\",\"대전\"]:\n",
    "            result = \"광역시\"\n",
    "        else:\n",
    "            result = \"일반시\"\n",
    "        return result"
   ]
  },
  {
   "cell_type": "code",
   "execution_count": 33,
   "id": "e3b5dfbe-2bb2-436a-bfc1-1e227be4779f",
   "metadata": {},
   "outputs": [
    {
     "name": "stdout",
     "output_type": "stream",
     "text": [
      "이름: 이순신, 나이: 30, Email: lee@a.com, 주소: 서울\n"
     ]
    }
   ],
   "source": [
    "u1 = User3(\"이순신\",30,\"lee@a.com\")\n",
    "u1_info = u1.get_user_info()\n",
    "print(u1_info)"
   ]
  },
  {
   "cell_type": "code",
   "execution_count": 34,
   "id": "b0e8d72f-3b73-43af-b066-e41540310c27",
   "metadata": {},
   "outputs": [
    {
     "name": "stdout",
     "output_type": "stream",
     "text": [
      "32\n"
     ]
    }
   ],
   "source": [
    "u1.add_age(2) # add_age(self, age) -> self에는 u1, age에는 2\n",
    "print(u1.age)"
   ]
  },
  {
   "cell_type": "code",
   "execution_count": 35,
   "id": "29b533e4-ddb9-4fdd-802f-8648a2cbf737",
   "metadata": {},
   "outputs": [
    {
     "name": "stdout",
     "output_type": "stream",
     "text": [
      "특별시\n"
     ]
    }
   ],
   "source": [
    "city_type = u1.get_city_type()\n",
    "print(city_type)"
   ]
  },
  {
   "cell_type": "code",
   "execution_count": 36,
   "id": "05b8d4a5-064d-4779-9992-4ab30f924ec8",
   "metadata": {},
   "outputs": [
    {
     "name": "stdout",
     "output_type": "stream",
     "text": [
      "광역시\n",
      "일반시\n"
     ]
    }
   ],
   "source": [
    "u1.address = \"울산\"\n",
    "print(u1.get_city_type())\n",
    "\n",
    "u1.address = \"구미\"\n",
    "print(u1.get_city_type())"
   ]
  },
  {
   "cell_type": "markdown",
   "id": "7f8c6871-f330-4863-8049-f50a4b9f39ca",
   "metadata": {
    "slideshow": {
     "slide_type": "slide"
    }
   },
   "source": [
    "정보 은닉 (Information Hiding)\n",
    "- Attribute의 값을 caller(객체 외부)가 마음대로 바꾸지 못하게 하기 위해 직접 호출을 막고 setter/getter 메소드를 통해 값을 변경/조회 하도록 한다.\n",
    "    - Attribute의 값을 업무 규칙/조건에 맞는 값만 대입할 수 있도록 하는 것이 목적.\n",
    "        - Attribute의 값을 변경하는 메소드에 변경 가능 조건을 넣어 업무 규칙에 맞는 값들만 대입될 수 있도록 한다.\n",
    "    - **setter**\n",
    "        - Attribute의 값을 변경하는 메소드. 관례상 set 으로 시작\n",
    "    - **getter**\n",
    "        - Attribute의 값을 조회하는 메소드. 관례상 get 으로 시작\n",
    "- Attribute 직접 호출 막기\n",
    "    - Attribute의 이름을 \\_\\_(double underscore)로 시작한다. (\\_\\_로 끝나면 안된다.)\n",
    "    - 같은 클래스에서는 선언한 이름으로 사용가능하지만 외부에서는 그 이름으로 호출할 수 없게 된다.\n",
    "    "
   ]
  },
  {
   "cell_type": "code",
   "execution_count": 37,
   "id": "bf14bfd0-5e75-435e-8752-634aa110b86d",
   "metadata": {
    "slideshow": {
     "slide_type": "fragment"
    }
   },
   "outputs": [],
   "source": [
    "# 년도, 월, 일 -> 날짜 타입\n",
    "## 년도: 1 ~ 2030\n",
    "## 월: 1 ~ 12\n",
    "## 일: 1 ~ 31\n",
    "\n",
    "class MyDate:\n",
    "\n",
    "    def __init__(self, year, month, day):\n",
    "        self.year = year\n",
    "        self.month = month\n",
    "        self.day = day\n",
    "\n",
    "    def get_date(self):\n",
    "        return f\"{self.year}/{self.month}/{self.day}\""
   ]
  },
  {
   "cell_type": "code",
   "execution_count": 38,
   "id": "865fc872-9650-44c7-87e4-4c3568193cb4",
   "metadata": {},
   "outputs": [],
   "source": [
    "today = MyDate(2024, 1, 3)\n",
    "tomm = MyDate(year=2024, month=1, day=4)"
   ]
  },
  {
   "cell_type": "code",
   "execution_count": 39,
   "id": "0909b27b-0d74-4ef9-a31b-1c880084d781",
   "metadata": {},
   "outputs": [
    {
     "name": "stdout",
     "output_type": "stream",
     "text": [
      "2024/1/3\n",
      "3 2024\n"
     ]
    }
   ],
   "source": [
    "print(today.get_date())\n",
    "print(today.day, today.year)"
   ]
  },
  {
   "cell_type": "code",
   "execution_count": 40,
   "id": "95321bef-0288-468b-9721-bd1a3e2ec8d1",
   "metadata": {},
   "outputs": [
    {
     "name": "stdout",
     "output_type": "stream",
     "text": [
      "2024/22/50\n"
     ]
    }
   ],
   "source": [
    "today.day = 50\n",
    "today.month = 22\n",
    "print(today.get_date())"
   ]
  }
 ],
 "metadata": {
  "kernelspec": {
   "display_name": "Python 3 (ipykernel)",
   "language": "python",
   "name": "python3"
  },
  "language_info": {
   "codemirror_mode": {
    "name": "ipython",
    "version": 3
   },
   "file_extension": ".py",
   "mimetype": "text/x-python",
   "name": "python",
   "nbconvert_exporter": "python",
   "pygments_lexer": "ipython3",
   "version": "3.11.5"
  }
 },
 "nbformat": 4,
 "nbformat_minor": 5
}
