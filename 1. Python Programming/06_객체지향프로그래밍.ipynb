{
 "cells": [
  {
   "cell_type": "raw",
   "metadata": {
    "editable": true,
    "slideshow": {
     "slide_type": ""
    },
    "tags": []
   },
   "source": [
    "절차지향은 유지보수 어려움\n",
    "중간에 코드 수정하면 위험\n",
    "\n",
    "개발 단계: 분석 -> 설계 -> 구현 -> 테스트 -> 완성\n",
    "-> 유지 보수: 오류, 기능 추가/변경/삭제\n",
    "\n",
    "객체 안의 함수: 메소드"
   ]
  },
  {
   "cell_type": "markdown",
   "metadata": {
    "slideshow": {
     "slide_type": "slide"
    }
   },
   "source": [
    "# 객체지향 프로그래밍 (Object Oriented Programming)\n",
    "\n",
    "프로그램을 구성하는 변수와 함수들에서 서로 연관성있는 것 끼리 묶어서 모듈화하는 개발하는 언어들을 객체지향프로그래밍 언어라고 한다."
   ]
  },
  {
   "cell_type": "markdown",
   "metadata": {
    "slideshow": {
     "slide_type": "fragment"
    }
   },
   "source": [
    "# Instance(객체)\n",
    "- 연관성 있는 값들과 그 값들을 처리하는 함수(메소드)들을 묶어서 가지고 있는 것.\n",
    "- 객체의 구성요소\n",
    "    - 속성(Attribute)\n",
    "        - 객체의 데이터/상태로 객체를 구성하는 값들.\n",
    "    - 메소드(method)\n",
    "        - 객체가 제공하는 기능으로 주로 Attribute들을 처리한다."
   ]
  },
  {
   "cell_type": "markdown",
   "metadata": {
    "slideshow": {
     "slide_type": "subslide"
    }
   },
   "source": [
    "## Class(클래스) 정의\n",
    "\n",
    "- class란: 객체(instance)의 설계도\n",
    "    - 동일한 형태의 객체들이 가져야 하는 Attribute와 Method들을 정의 한 것\n",
    "        - 클래스를 정의할 때 어떤 속성과 메소드를 가지는지 먼저 설계해야 한다.\n",
    "    - 클래스로 부터 객체(instance)를 생성한 뒤 사용한다.\n",
    "```python\n",
    "class 클래스이름:  #선언부\n",
    "    #클래스 구현\n",
    "    #메소드들을 정의\n",
    "```\n",
    "- **클래스 이름의 관례**\n",
    "    - **파스칼 표기법** 사용-각 단어의 첫글자는 대문자 나머진 소문자로 정의한다.\n",
    "    - ex) Person, Student, HighSchoolStudent\n",
    "    "
   ]
  },
  {
   "cell_type": "markdown",
   "metadata": {
    "slideshow": {
     "slide_type": "fragment"
    }
   },
   "source": [
    "## 클래스로부터 객체(Instance) 생성\n",
    "- 클래스는 데이터 타입 instance는 값이다.\n",
    "\n",
    "```python\n",
    "변수 = 클래스이름()\n",
    "```"
   ]
  },
  {
   "cell_type": "code",
   "execution_count": 1,
   "metadata": {},
   "outputs": [],
   "source": [
    "class User:\n",
    "    pass"
   ]
  },
  {
   "cell_type": "code",
   "execution_count": 2,
   "metadata": {},
   "outputs": [
    {
     "data": {
      "text/plain": [
       "<__main__.User at 0x20152a857d0>"
      ]
     },
     "execution_count": 2,
     "metadata": {},
     "output_type": "execute_result"
    }
   ],
   "source": [
    "User() # Instance 생성"
   ]
  },
  {
   "cell_type": "code",
   "execution_count": 3,
   "metadata": {},
   "outputs": [
    {
     "data": {
      "text/plain": [
       "__main__.User"
      ]
     },
     "execution_count": 3,
     "metadata": {},
     "output_type": "execute_result"
    }
   ],
   "source": [
    "type(User())"
   ]
  },
  {
   "cell_type": "code",
   "execution_count": 28,
   "metadata": {},
   "outputs": [],
   "source": [
    "u1 = User() # 다른 클래스\n",
    "u2 = User()\n",
    "u3 = User()"
   ]
  },
  {
   "cell_type": "raw",
   "metadata": {},
   "source": [
    "User 클래스로부터 u1 객체 생성\n",
    "name, age, address가 저장된 영역을 묶어서 u1에서 관리"
   ]
  },
  {
   "cell_type": "code",
   "execution_count": 33,
   "metadata": {},
   "outputs": [],
   "source": [
    "# instance에 속성을 추가\n",
    "## instance의 상태/데이터\n",
    "u1.name = \"홍길동\" # 객체.변수명 = 값\n",
    "u1.age = 30\n",
    "u1.address = \"서울\""
   ]
  },
  {
   "cell_type": "code",
   "execution_count": 34,
   "metadata": {
    "slideshow": {
     "slide_type": "fragment"
    }
   },
   "outputs": [],
   "source": [
    "u2.name = \"이순신\""
   ]
  },
  {
   "cell_type": "code",
   "execution_count": 58,
   "metadata": {},
   "outputs": [],
   "source": [
    "u3.age = 20\n",
    "u3.이름 = \"이름\" # 이런 경우 발생 -> 초기화(Initialize)"
   ]
  },
  {
   "cell_type": "code",
   "execution_count": 41,
   "metadata": {},
   "outputs": [
    {
     "name": "stdout",
     "output_type": "stream",
     "text": [
      "홍길동 이순신\n"
     ]
    }
   ],
   "source": [
    "print(u1.name, u2.name)"
   ]
  },
  {
   "cell_type": "code",
   "execution_count": 4,
   "metadata": {},
   "outputs": [],
   "source": [
    "# Initialize를 이용해서 객체의 속성을 초기화하는 클래스\n",
    "class User2:\n",
    "    \n",
    "    def __init__(self, name, age, email):\n",
    "        self.name = name\n",
    "        self.age = age\n",
    "        self.email = email\n",
    "        self.address = \"서울\"\n",
    "# self(객체)에 할당"
   ]
  },
  {
   "cell_type": "raw",
   "metadata": {},
   "source": [
    "class이름() -> instance 생성 => initializer를 호출해서 객체를 생성\n",
    "User2()는 __init__ 메소드를 호출"
   ]
  },
  {
   "cell_type": "code",
   "execution_count": 5,
   "metadata": {},
   "outputs": [],
   "source": [
    "u1 = User2('이순신', 30, 'lee@a.com')"
   ]
  },
  {
   "cell_type": "code",
   "execution_count": 7,
   "metadata": {},
   "outputs": [
    {
     "data": {
      "text/plain": [
       "__main__.User2"
      ]
     },
     "execution_count": 7,
     "metadata": {},
     "output_type": "execute_result"
    }
   ],
   "source": [
    "type(u1)"
   ]
  },
  {
   "cell_type": "raw",
   "metadata": {},
   "source": [
    "메모리 상 객체 생성\n",
    "__init__ 메소드 호출\n",
    "self 파라미터(영역)에 메모리 상 생성된 객체 할당\n",
    "name 영역에는 \"이순신\" 할당\n",
    "...\n",
    "\n",
    "self.name -> self 안에 name 생성\n",
    "name(지역변수) 안 \"이순신\" -> self 안 name으로 이동\n",
    "age(지역변수)의 30이 self 안 age로 이동\n",
    "...\n",
    "\n",
    "객체 생성 후 지역변수는 사라짐"
   ]
  },
  {
   "cell_type": "raw",
   "metadata": {},
   "source": [
    "객체 생성\n",
    "1. instance 영역이 메모리에 생성\n",
    "2. __init__()을 호출\n",
    "    1에서 생성된 instance를 __init__() 메소드의 첫번째 파라미터에 전달"
   ]
  },
  {
   "cell_type": "code",
   "execution_count": 81,
   "metadata": {},
   "outputs": [
    {
     "name": "stdout",
     "output_type": "stream",
     "text": [
      "이순신 30 lee@a.com 서울\n"
     ]
    }
   ],
   "source": [
    "print(u1.name, u1.age, u1.email, u1.address)"
   ]
  },
  {
   "cell_type": "code",
   "execution_count": 82,
   "metadata": {},
   "outputs": [],
   "source": [
    "u2 = User2(\"유관순\", 40, \"yoo@a.com\")"
   ]
  },
  {
   "cell_type": "code",
   "execution_count": 86,
   "metadata": {},
   "outputs": [
    {
     "name": "stdout",
     "output_type": "stream",
     "text": [
      "유관순 40 yoo@a.com 서울\n"
     ]
    }
   ],
   "source": [
    "print(u2.name, u2.age, u2.email, u2.address)"
   ]
  },
  {
   "cell_type": "code",
   "execution_count": 88,
   "metadata": {},
   "outputs": [
    {
     "data": {
      "text/plain": [
       "'강감찬'"
      ]
     },
     "execution_count": 88,
     "metadata": {},
     "output_type": "execute_result"
    }
   ],
   "source": [
    "u1.name = \"강감찬\"\n",
    "u1.name"
   ]
  },
  {
   "cell_type": "code",
   "execution_count": 89,
   "metadata": {},
   "outputs": [
    {
     "name": "stdout",
     "output_type": "stream",
     "text": [
      "B형\n"
     ]
    }
   ],
   "source": [
    "u1.blood_type = \"B형\" # 추가보단 속성 값을 변경할 때 사용\n",
    "print(u1.blood_type)\n",
    "# u1과 u2가 가진 변수들이 달라짐 -> 초기화가 있는 이유"
   ]
  },
  {
   "cell_type": "raw",
   "metadata": {},
   "source": [
    "class -> Data Type, instance(객체) -> Value"
   ]
  },
  {
   "cell_type": "code",
   "execution_count": 84,
   "metadata": {},
   "outputs": [
    {
     "name": "stdout",
     "output_type": "stream",
     "text": [
      "<class '__main__.User2'>\n",
      "<class 'int'>\n",
      "<class 'float'>\n"
     ]
    }
   ],
   "source": [
    "print(type(u2))\n",
    "print(type(20))\n",
    "print(type(30.2))"
   ]
  },
  {
   "cell_type": "markdown",
   "metadata": {
    "slideshow": {
     "slide_type": "subslide"
    }
   },
   "source": [
    "## Attribute(속성) \n",
    "- attribute는 객체의 데이터, 객체가 가지는 값, 객체의 상태\n",
    "\n",
    "### 객체에 속성을 추가, 조회\n",
    "- 객체의 속성 추가(값 변경)\n",
    "    1. Initializer(생성자)를 통한 추가\n",
    "    2. 객체.속성명 = 값 (추가/변경)\n",
    "    3. 메소드를 통한 추가/변경\n",
    "    - 1번 방식(Initializer)은 초기화(처음 추가)할 때. 2, 3번 방식은 속성값을 변경할 때 적용하는 것이 좋다.\n",
    "- 속성 값 조회\n",
    "    - `객체.속성명`\n",
    "- `객체.___dict__`\n",
    "    - 객체가 가지고 있는 Attribute들을 dictionary로 반환한다."
   ]
  },
  {
   "cell_type": "code",
   "execution_count": 90,
   "metadata": {},
   "outputs": [
    {
     "data": {
      "text/plain": [
       "{'name': '강감찬',\n",
       " 'age': 30,\n",
       " 'email': 'lee@a.com',\n",
       " 'address': '서울',\n",
       " 'blood_type': 'B형'}"
      ]
     },
     "execution_count": 90,
     "metadata": {},
     "output_type": "execute_result"
    }
   ],
   "source": [
    "u1.__dict__"
   ]
  },
  {
   "cell_type": "code",
   "execution_count": 91,
   "metadata": {},
   "outputs": [
    {
     "data": {
      "text/plain": [
       "{'name': '유관순', 'age': 40, 'email': 'yoo@a.com', 'address': '서울'}"
      ]
     },
     "execution_count": 91,
     "metadata": {},
     "output_type": "execute_result"
    }
   ],
   "source": [
    "u2.__dict__"
   ]
  },
  {
   "cell_type": "markdown",
   "metadata": {
    "slideshow": {
     "slide_type": "subslide"
    }
   },
   "source": [
    "### 생성자(Initializer)\n",
    "- 객체를 생성할 때 호출되는 특수메소드로 attribute들 초기화에 하는 코드를 구현한다.\n",
    "    - Inializer를 이용해 초기화하는 Attribute들이 그 클래스의 객체들이 가져야 하는 공통 Attribute가 된다.\n",
    "- 구문\n",
    "```python\n",
    "def __init__(self [,매개변수들 선언]):  #[ ] 옵션.\n",
    "    # 구현 -> attribute(instance변수) 초기화\n",
    "    self.속성명 = 값\n",
    "```\n",
    "> 변수 초기화: 처음 변수 만들어서 처음 값 대입.    "
   ]
  },
  {
   "cell_type": "markdown",
   "metadata": {
    "slideshow": {
     "slide_type": "fragment"
    }
   },
   "source": [
    "### self  parameter\n",
    "- 메소드는 반드시 한개 이상의 parameter를 선언해야 하고 그 첫번째 parameter를 말한다.\n",
    "- 메소드 호출시 그 메소드를 소유한 instance가 self parameter에 할당된다.\n",
    "- Initializer의 self\n",
    "    - 현재 만들어 지고 있는 객체를 받는다.\n",
    "- 메소드의 self\n",
    "    - 메소드를 소유한 객체를 받는다.\n",
    "- Caller에서 생성자/메소드에 전달된 argument들을 받을 parameter는 두번째 변수부터 선언한다.    "
   ]
  },
  {
   "cell_type": "markdown",
   "metadata": {
    "slideshow": {
     "slide_type": "subslide"
    }
   },
   "source": [
    "### Instance 메소드(method)\n",
    "- 객체가 제공하는 기능\n",
    "- 객체의 attribute 값을 처리하는 기능을 구현한다.\n",
    "- 구문\n",
    "```python\n",
    "def 이름(self [, 매개변수들 선언]):\n",
    "    # 구현\n",
    "    # attribute 사용(조회/대입)\n",
    "    self.attribute \n",
    "```\n",
    "- self (첫번째 매개변수)\n",
    "    - 메소드를 소유한 객체를 받는 변수\n",
    "    - 호출할 때 전달하는 argument를 받는 매개변수는 두번째 부터 선언한다.\n",
    "\n",
    "![self](images/ch06_01.png)\n",
    "    \n",
    "- **메소드 호출**\n",
    "    - `객체.메소드이름([argument, ...])`"
   ]
  },
  {
   "cell_type": "raw",
   "metadata": {},
   "source": [
    "인스턴스 메소드는 어트리뷰트를 처리하는 기능을 구현"
   ]
  },
  {
   "cell_type": "code",
   "execution_count": 94,
   "metadata": {
    "slideshow": {
     "slide_type": "fragment"
    }
   },
   "outputs": [],
   "source": [
    "class User3:\n",
    "    \n",
    "    def __init__(self, name, age, email):\n",
    "        self.name = name\n",
    "        self.age = age\n",
    "        self.email = email\n",
    "        self.address = \"서울\"\n",
    "\n",
    "    # 메소드\n",
    "    def add_age(self, age):\n",
    "        # 기존 나이에 받은 나이를 더해준다.\n",
    "        self.age = self.age + age # self.age: attribute 변수, age: local 변수\n",
    "\n",
    "    def get_user_info(self):\n",
    "        # User의 정보를 하나의 문자열로 만들어서 변환\n",
    "        return f\"이름: {self.name}, 나이: {self.age}, Email: {self.email}, 주소: {self.address}\"\n",
    "\n",
    "    def get_city_type(self):\n",
    "        result = None\n",
    "        if self.address == \"서울\":\n",
    "            result = \"특별시\"\n",
    "        elif self.address in [\"부산\",\"인천\",\"대구\",\"광주\",\"울산\",\"대전\"]:\n",
    "            result = \"광역시\"\n",
    "        else:\n",
    "            result = \"일반시\"\n",
    "        return result"
   ]
  },
  {
   "cell_type": "code",
   "execution_count": 103,
   "metadata": {},
   "outputs": [
    {
     "name": "stdout",
     "output_type": "stream",
     "text": [
      "이름: 이순신, 나이: 30, Email: lee@a.com, 주소: 서울\n"
     ]
    }
   ],
   "source": [
    "u1 = User3(\"이순신\",30,\"lee@a.com\")\n",
    "u1_info = u1.get_user_info()\n",
    "print(u1_info)"
   ]
  },
  {
   "cell_type": "raw",
   "metadata": {},
   "source": [
    "u1은 전역변수(global)\n",
    "User3 내 self.name 등은 instance 변수\n",
    "u1에는 name 등의 메모리 상 주소(self.name 위치)가 들어감"
   ]
  },
  {
   "cell_type": "raw",
   "metadata": {},
   "source": [
    "u1.user_name은 class에 없는 변수\n",
    "u1.user_name = \"aaa\"을 하면 class에 없는 변수를 갖게 되어 안좋음"
   ]
  },
  {
   "cell_type": "code",
   "execution_count": 104,
   "metadata": {},
   "outputs": [
    {
     "data": {
      "text/plain": [
       "32"
      ]
     },
     "execution_count": 104,
     "metadata": {},
     "output_type": "execute_result"
    }
   ],
   "source": [
    "u1.add_age(2) # add_age(self, age) -> self에는 u1, age에는 2\n",
    "print(u1.age)"
   ]
  },
  {
   "cell_type": "code",
   "execution_count": 108,
   "metadata": {},
   "outputs": [
    {
     "data": {
      "text/plain": [
       "'특별시'"
      ]
     },
     "execution_count": 108,
     "metadata": {},
     "output_type": "execute_result"
    }
   ],
   "source": [
    "city_type = u1.get_city_type()\n",
    "print(city_type)"
   ]
  },
  {
   "cell_type": "code",
   "execution_count": 110,
   "metadata": {},
   "outputs": [
    {
     "name": "stdout",
     "output_type": "stream",
     "text": [
      "광역시\n",
      "일반시\n"
     ]
    }
   ],
   "source": [
    "u1.address = \"울산\"\n",
    "print(u1.get_city_type())\n",
    "\n",
    "u1.address = \"구미\"\n",
    "print(u1.get_city_type())"
   ]
  },
  {
   "cell_type": "markdown",
   "metadata": {
    "slideshow": {
     "slide_type": "slide"
    }
   },
   "source": [
    "## 정보 은닉 (Information Hiding)\n",
    "- Attribute의 값을 caller(객체 외부)가 마음대로 바꾸지 못하게 하기 위해 직접 호출을 막고 setter/getter 메소드를 통해 값을 변경/조회 하도록 한다.\n",
    "    - Attribute의 값을 업무 규칙/조건에 맞는 값만 대입할 수 있도록 하는 것이 목적.\n",
    "        - Attribute의 값을 변경하는 메소드에 변경 가능 조건을 넣어 업무 규칙에 맞는 값들만 대입될 수 있도록 한다.\n",
    "    - **setter**\n",
    "        - Attribute의 값을 변경하는 메소드. 관례상 set 으로 시작\n",
    "    - **getter**\n",
    "        - Attribute의 값을 조회하는 메소드. 관례상 get 으로 시작\n",
    "- Attribute 직접 호출 막기\n",
    "    - Attribute의 이름을 \\_\\_(double underscore)로 시작한다. (\\_\\_로 끝나면 안된다.)\n",
    "    - 같은 클래스에서는 선언한 이름으로 사용가능하지만 외부에서는 그 이름으로 호출할 수 없게 된다.\n",
    "    "
   ]
  },
  {
   "cell_type": "code",
   "execution_count": 2,
   "metadata": {
    "slideshow": {
     "slide_type": "fragment"
    }
   },
   "outputs": [],
   "source": [
    "# 년도, 월, 일 -> 날짜 타입\n",
    "## 년도: 1 ~ 2030\n",
    "## 월: 1 ~ 12\n",
    "## 일: 1 ~ 31\n",
    "\n",
    "class MyDate:\n",
    "\n",
    "    def __init__(self, year, month, day):\n",
    "        self.year = year\n",
    "        self.month = month\n",
    "        self.day = day\n",
    "\n",
    "    def get_date(self):\n",
    "        return f\"{self.year}/{self.month}/{self.day}\""
   ]
  },
  {
   "cell_type": "code",
   "execution_count": 3,
   "metadata": {},
   "outputs": [],
   "source": [
    "today = MyDate(2024, 1, 3)\n",
    "tomm = MyDate(year=2024, month=1, day=4)"
   ]
  },
  {
   "cell_type": "code",
   "execution_count": 4,
   "metadata": {},
   "outputs": [
    {
     "name": "stdout",
     "output_type": "stream",
     "text": [
      "2024/1/3\n",
      "3 2024\n"
     ]
    }
   ],
   "source": [
    "print(today.get_date())\n",
    "print(today.day, today.year)"
   ]
  },
  {
   "cell_type": "code",
   "execution_count": 5,
   "metadata": {},
   "outputs": [
    {
     "name": "stdout",
     "output_type": "stream",
     "text": [
      "2024/삼월/50\n"
     ]
    }
   ],
   "source": [
    "today.day = 50\n",
    "today.month = \"삼월\"\n",
    "print(today.get_date())"
   ]
  },
  {
   "cell_type": "code",
   "execution_count": 8,
   "metadata": {},
   "outputs": [],
   "source": [
    "# 위와 같은 값들을 방지하기 위해\n",
    "\n",
    "class MyDate:\n",
    "\n",
    "    def __init__(self, year, month, day):\n",
    "        # attribute 이름.__이름 => class 외부에서 호출할 수 없다. 내부에서만 호출 가능\n",
    "        # self.__year = year\n",
    "        # self.__month = month\n",
    "        # self.__day = day\n",
    "        self.set_year(year) # 같은 클래스의 instance 메소드 호출 -> self.메소드명()\n",
    "        self.set_month(month)\n",
    "        self.set_day(day)\n",
    "\n",
    "    # attribute들의 값을 변경 메소드 -> setter\n",
    "    def set_year(self, year): # 규칙이 있는 경우\n",
    "        if year >= 1 and year <= 2030:\n",
    "            self.__year = year\n",
    "        else:\n",
    "            print(\"1~2023 사이의 값을 넣으세요.\")\n",
    "\n",
    "    def set_month(self, month):\n",
    "        if month >= 1 and month <= 12:\n",
    "            self.__month = month\n",
    "        else:\n",
    "            print(\"1~12 사이의 값을 넣으세요.\")\n",
    "\n",
    "    def set_day(self, day):\n",
    "        if day >= 1 and day <= 31:\n",
    "            self.__day = day\n",
    "        else:\n",
    "            print(\"1~31 사이의 값을 넣으세요.\")\n",
    "\n",
    "    # attribute들의 값을 반환(알려주는) 메소드 -> getter\n",
    "    def get_year(self): # 값을 조회\n",
    "        return self.__year # __가 있으면 조회가 안됨 -> get 함수 이용\n",
    "\n",
    "    def get_month(self):\n",
    "        return self.__month\n",
    "\n",
    "    def get_day(self):\n",
    "        return self.__day\n",
    "\n",
    "    def get_date(self):\n",
    "        return f\"{self.__year}/{self.__month}/{self.__day}\""
   ]
  },
  {
   "cell_type": "code",
   "execution_count": 9,
   "metadata": {},
   "outputs": [],
   "source": [
    "today = MyDate(2024, 1, 3)\n",
    "tomm = MyDate(year=2024, month=1, day=4)"
   ]
  },
  {
   "cell_type": "code",
   "execution_count": 10,
   "metadata": {},
   "outputs": [
    {
     "data": {
      "text/plain": [
       "__main__.MyDate"
      ]
     },
     "execution_count": 10,
     "metadata": {},
     "output_type": "execute_result"
    }
   ],
   "source": [
    "type(today)"
   ]
  },
  {
   "cell_type": "code",
   "execution_count": 65,
   "metadata": {},
   "outputs": [
    {
     "name": "stdout",
     "output_type": "stream",
     "text": [
      "2024/1/3\n"
     ]
    }
   ],
   "source": [
    "print(today.get_date())\n",
    "# print(today.__day, today.__year)"
   ]
  },
  {
   "cell_type": "code",
   "execution_count": 51,
   "metadata": {},
   "outputs": [
    {
     "data": {
      "text/plain": [
       "{'_MyDate__year': 2024, '_MyDate__month': 1, '_MyDate__day': 3}"
      ]
     },
     "execution_count": 51,
     "metadata": {},
     "output_type": "execute_result"
    }
   ],
   "source": [
    "today.__dict__"
   ]
  },
  {
   "cell_type": "code",
   "execution_count": 52,
   "metadata": {},
   "outputs": [
    {
     "name": "stdout",
     "output_type": "stream",
     "text": [
      "2024/1/3\n",
      "3\n"
     ]
    }
   ],
   "source": [
    "today.__day = 50\n",
    "today.__month = 22\n",
    "print(today.get_date()) # 값이 바뀌지 않음. __day라는 변수를 새로 생성한 것\n",
    "print(today.get_day())"
   ]
  },
  {
   "cell_type": "code",
   "execution_count": 54,
   "metadata": {},
   "outputs": [
    {
     "name": "stdout",
     "output_type": "stream",
     "text": [
      "1~12 사이의 값을 넣으세요.\n",
      "2024/1/10\n"
     ]
    }
   ],
   "source": [
    "today.set_day(10)\n",
    "today.set_month(30)\n",
    "print(today.get_date())"
   ]
  },
  {
   "cell_type": "code",
   "execution_count": 42,
   "metadata": {},
   "outputs": [
    {
     "data": {
      "text/plain": [
       "{'_MyDate__year': 2024,\n",
       " '_MyDate__month': 1,\n",
       " '_MyDate__day': 3,\n",
       " '__day': 50,\n",
       " '__month': 22}"
      ]
     },
     "execution_count": 42,
     "metadata": {},
     "output_type": "execute_result"
    }
   ],
   "source": [
    "today.__dict__"
   ]
  },
  {
   "cell_type": "code",
   "execution_count": 43,
   "metadata": {},
   "outputs": [
    {
     "data": {
      "text/plain": [
       "3"
      ]
     },
     "execution_count": 43,
     "metadata": {},
     "output_type": "execute_result"
    }
   ],
   "source": [
    "today._MyDate__day # 이것은 바뀔 수는 있음"
   ]
  },
  {
   "cell_type": "raw",
   "metadata": {},
   "source": [
    "어떤 변수는 self.__year = year, self.abc = abc 그대로\n",
    "어떤 변수는 self.set_month(month) 메소드\n",
    "헷갈릴 수 있음"
   ]
  },
  {
   "cell_type": "markdown",
   "metadata": {
    "slideshow": {
     "slide_type": "subslide"
    },
    "tags": []
   },
   "source": [
    "### 데코레이터(decorator)를 이용해 property 지정.\n",
    "- setter/getter 구현 + property()를 이용해 변수 등록 하는 것을 더 간단하게 구현하는 방식\n",
    "- setter/getter 메소드이름을 변수처럼 지정. (보통은 같은 이름으로 지정)\n",
    "- getter메소드: @property 데코레이터를 선언  \n",
    "- setter메소드: @getter메소드이름.setter  데코레이터를 선언.\n",
    "    - 반드시 getter 메소드를 먼저 정의한다.\n",
    "    - setter메소드 이름은 getter와 동일해야 한다.\n",
    "- getter/setter의 이름을 Attribute 변수처럼 사용한다.\n",
    "- 주의: getter/setter 메소드를 직접 호출 할 수 없다. 변수형식으로만 호출가능하다."
   ]
  },
  {
   "cell_type": "code",
   "execution_count": 56,
   "metadata": {},
   "outputs": [],
   "source": [
    "class MyDate2:\n",
    "\n",
    "    def __init__(self, year, month, day):\n",
    "        self.year = year # self.year => setter 호출\n",
    "        self.month = month\n",
    "        self.day = day\n",
    "\n",
    "    # attribute들의 값을 반환(알려주는) 메소드 -> getter\n",
    "    # 메소드 이름 -> 사용할 attribute의 이름으로 지정\n",
    "    # @property (decorator)를 선언\n",
    "    \n",
    "    @property # getter 메소드로 처리\n",
    "    def year(self):\n",
    "        return self.__year\n",
    "\n",
    "    @property\n",
    "    def month(self):\n",
    "        return self.__month\n",
    "\n",
    "    @property\n",
    "    def day(self):\n",
    "        return self.__day\n",
    "\n",
    "    # attribute들의 값을 변경 메소드 -> setter\n",
    "    # 메소드 이름 -> 사용할 attribute의 이름으로 지정\n",
    "    # getter이름.setter\n",
    "    \n",
    "    @year.setter\n",
    "    def year(self, year):\n",
    "        if year >= 1 and year <= 2030:\n",
    "            self.__year = year\n",
    "        else:\n",
    "            print(\"1~2023 사이의 값을 넣으세요.\")\n",
    "    \n",
    "    @month.setter\n",
    "    def month(self, month):\n",
    "        if month >= 1 and month <= 12:\n",
    "            self.__month = month\n",
    "        else:\n",
    "            print(\"1~12 사이의 값을 넣으세요.\")\n",
    "\n",
    "    @day.setter\n",
    "    def day(self, day):\n",
    "        if day >= 1 and day <= 31:\n",
    "            self.__day = day\n",
    "        else:\n",
    "            print(\"1~31 사이의 값을 넣으세요.\")\n",
    "\n",
    "    def get_date(self):\n",
    "        return f\"{self.__year}/{self.__month}/{self.__day}\""
   ]
  },
  {
   "cell_type": "code",
   "execution_count": 69,
   "metadata": {},
   "outputs": [
    {
     "name": "stdout",
     "output_type": "stream",
     "text": [
      "2024/1/4\n"
     ]
    }
   ],
   "source": [
    "date = MyDate2(2024, 1, 4)\n",
    "print(date.get_date())"
   ]
  },
  {
   "cell_type": "code",
   "execution_count": 70,
   "metadata": {},
   "outputs": [
    {
     "name": "stdout",
     "output_type": "stream",
     "text": [
      "2020/10/5\n"
     ]
    }
   ],
   "source": [
    "date.year = 2020\n",
    "date.month = 10\n",
    "date.day = 5\n",
    "\n",
    "print(date.get_date())"
   ]
  },
  {
   "cell_type": "code",
   "execution_count": 74,
   "metadata": {},
   "outputs": [
    {
     "name": "stdout",
     "output_type": "stream",
     "text": [
      "2020 10 5\n"
     ]
    }
   ],
   "source": [
    "# 값을 조회 => getter\n",
    "print(date.year, date.month, date.day)"
   ]
  },
  {
   "cell_type": "code",
   "execution_count": 73,
   "metadata": {},
   "outputs": [
    {
     "name": "stdout",
     "output_type": "stream",
     "text": [
      "1~2023 사이의 값을 넣으세요.\n",
      "1~12 사이의 값을 넣으세요.\n",
      "1~31 사이의 값을 넣으세요.\n"
     ]
    }
   ],
   "source": [
    "# 값을 대입 => setter 호출\n",
    "date.year = 3000\n",
    "date.month = 30\n",
    "date.day = 50"
   ]
  },
  {
   "cell_type": "raw",
   "metadata": {
    "slideshow": {
     "slide_type": "fragment"
    }
   },
   "source": [
    "@을 이용하면 메소드를 변수처럼"
   ]
  },
  {
   "cell_type": "code",
   "execution_count": 75,
   "metadata": {},
   "outputs": [
    {
     "name": "stdout",
     "output_type": "stream",
     "text": [
      "1~2023 사이의 값을 넣으세요.\n",
      "1~12 사이의 값을 넣으세요.\n",
      "1~31 사이의 값을 넣으세요.\n"
     ]
    }
   ],
   "source": [
    "d = MyDate2(3000,30,50) # setter 호출"
   ]
  },
  {
   "cell_type": "markdown",
   "metadata": {
    "slideshow": {
     "slide_type": "slide"
    }
   },
   "source": [
    "## 상속 (Inheritance)\n",
    "\n",
    "- 기존 클래스를 확장하여 새로운 클래스를 구현한다.\n",
    "    - 생성된 객체(instance)가 기존 클래스에 정의된 Attribute나 method를 사용할 수있고 그 외의 추가적인 member들을 가질 수 있는 클래스를 구현하는 방법.\n",
    "- **기반(Base) 클래스, 상위(Super) 클래스, 부모(Parent) 클래스**\n",
    "    - 물려 주는 클래스.\n",
    "    - 상속하는 클래스에 비해 더 추상적인 클래스가 된다. \n",
    "    - 상속하는 클래스의 데이터 타입이 된다.\n",
    "- **파생(Derived) 클래스, 하위(Sub) 클래스, 자식(Child) 클래스**\n",
    "    - 상속하는 클래스.\n",
    "    - 상속을 해준 클래스 보다 좀더 구체적인 클래스가 된다.\n",
    "- 상위 클래스와 하위 클래스는 계층관계를 이룬다.\n",
    "    - 상위 클래스는 하위 클래스 객체의 타입이 된다."
   ]
  },
  {
   "cell_type": "code",
   "execution_count": 18,
   "metadata": {},
   "outputs": [],
   "source": [
    "class Person: # 부모 클래스\n",
    "\n",
    "    def go(self):\n",
    "        print(\"간다.\")\n",
    "\n",
    "    def eat(self):\n",
    "        print(\"먹는다.\")"
   ]
  },
  {
   "cell_type": "code",
   "execution_count": 19,
   "metadata": {},
   "outputs": [],
   "source": [
    "class Student(Person): # 자식 클래스\n",
    "\n",
    "    # def go(self):\n",
    "    #     print(\"간다.\")\n",
    "\n",
    "    # def eat(self):\n",
    "    #     print(\"먹는다.\")\n",
    "\n",
    "    def study(self):\n",
    "        print(\"공부한다.\")"
   ]
  },
  {
   "cell_type": "code",
   "execution_count": 20,
   "metadata": {},
   "outputs": [],
   "source": [
    "class Teacher(Person):\n",
    "\n",
    "    def teach(self):\n",
    "        print(\"수업을 진행한다.\")"
   ]
  },
  {
   "cell_type": "code",
   "execution_count": 88,
   "metadata": {},
   "outputs": [
    {
     "name": "stdout",
     "output_type": "stream",
     "text": [
      "간다.\n",
      "먹는다.\n",
      "공부한다.\n"
     ]
    }
   ],
   "source": [
    "s = Student()\n",
    "s.go()\n",
    "s.eat()\n",
    "s.study()"
   ]
  },
  {
   "cell_type": "code",
   "execution_count": 89,
   "metadata": {},
   "outputs": [
    {
     "name": "stdout",
     "output_type": "stream",
     "text": [
      "간다.\n",
      "먹는다.\n",
      "수업을 진행한다.\n"
     ]
    }
   ],
   "source": [
    "t = Teacher()\n",
    "t.go()\n",
    "t.eat()\n",
    "t.teach()"
   ]
  },
  {
   "cell_type": "code",
   "execution_count": 22,
   "metadata": {},
   "outputs": [],
   "source": [
    "class Worker:\n",
    "\n",
    "    def work(self):\n",
    "        print(\"일을 한다.\")\n",
    "\n",
    "    def study(self):\n",
    "        print(\"일을 배운다.\")"
   ]
  },
  {
   "cell_type": "code",
   "execution_count": 23,
   "metadata": {},
   "outputs": [],
   "source": [
    "class UniversityStudent(Student, Worker): # 다중 상속\n",
    "\n",
    "    def drink(self):\n",
    "        print(\"술 마신다.\")"
   ]
  },
  {
   "cell_type": "code",
   "execution_count": 24,
   "metadata": {},
   "outputs": [
    {
     "name": "stdout",
     "output_type": "stream",
     "text": [
      "간다.\n",
      "공부한다.\n",
      "술 마신다.\n",
      "일을 한다.\n"
     ]
    }
   ],
   "source": [
    "us = UniversityStudent()\n",
    "us.go()\n",
    "us.study() # 이름이 같은 메소드는 왼쪽 먼저 실행\n",
    "us.drink()\n",
    "us.work()"
   ]
  },
  {
   "cell_type": "raw",
   "metadata": {},
   "source": [
    "study는 Student, Worker 둘 다 있음. 같은 이름, 서로 다른 메소드\n",
    "다중 상속의 문제\n",
    "왼쪽 위로 가면서 찾음"
   ]
  },
  {
   "cell_type": "code",
   "execution_count": 123,
   "metadata": {},
   "outputs": [
    {
     "data": {
      "text/plain": [
       "[__main__.UniversityStudent,\n",
       " __main__.Student,\n",
       " __main__.Person,\n",
       " __main__.Worker,\n",
       " object]"
      ]
     },
     "execution_count": 123,
     "metadata": {},
     "output_type": "execute_result"
    }
   ],
   "source": [
    "# 메소드 찾는 순서를 확인 ---> 왼쪽 -> 오른쪽 순으로 찾는다.\n",
    "UniversityStudent.mro()"
   ]
  },
  {
   "cell_type": "raw",
   "metadata": {},
   "source": [
    "[3]-[4]\n",
    "  [2] [5] [6]\n",
    "    [1]   "
   ]
  },
  {
   "cell_type": "markdown",
   "metadata": {
    "slideshow": {
     "slide_type": "subslide"
    }
   },
   "source": [
    "### 다중상속과 단일 상속\n",
    "- 다중상속\n",
    "    - 여러 클래스로부터 상속할 수 있다\n",
    "- 단일상속\n",
    "    - 하나의 클래스로 부터만 상속할 수 있다.\n",
    "- **파이썬은 다중상속을 지원한다.**\n",
    "- MRO (Method Resolution Order)\n",
    "    - 다중상속 시 메소드 호출할 때 그 메소드를 찾는 순서. \n",
    "    1. 자기 자신\n",
    "    2. 상위클래스(하위에서 상위로 올라간다)\n",
    "        - 다중상속의 경우 먼저 선언한 클래스 부터 찾는다. (왼쪽->오른쪽)\n",
    "- MRO 순서 조회 \n",
    "    - Class이름.mro()"
   ]
  },
  {
   "cell_type": "markdown",
   "metadata": {
    "slideshow": {
     "slide_type": "subslide"
    }
   },
   "source": [
    "### Method Overriding (메소드 재정의)\n",
    "상위 클래스의 메소드의 구현부를 하위 클래스에서 다시 구현하는 것을 말한다.  \n",
    "상위 클래스는 모든 하위 클래스들에 적용할 수 있는 추상적인 구현밖에는 못한다.  \n",
    "이 경우 하위 클래스에서 그 내용을 자신에 맞게 좀더 구체적으로 재구현할 수 있게 해주는 것을 Method Overriding이라고 한다.  \n",
    "방법은 하위 클래스에서 overriding할 메소드의 선언문은 그래로 사용하고 그 구현부는 재구현하면 된다.  \n",
    "\n",
    "### super() 내장함수\n",
    "- 하위 클래스에서 **상위 클래스의 instance를** 반환(return) 해주는 함수\n",
    "- 구문\n",
    "```python\n",
    "super().메소드명() \n",
    "```\n",
    "- 상위 클래스의 Instance 메소드를 호출할 때 – super().메소드()\n",
    "    - 특히 method overriding을 한 클래스에서 상위 클래스의 overriding한 메소드를 호출 할 경우 반드시 `super().메소드() `형식으로 호출해야 한다.\n",
    "- 메소드에서\n",
    "    - self.xxxx : 같은 클래스에 정의된 메소드나 attribute(instance 변수) 호출\n",
    "    - super().xxxx : 부모클래스에 정의된 메소드나 attribute(부모객체의 attribute) 호출"
   ]
  },
  {
   "cell_type": "code",
   "execution_count": 25,
   "metadata": {
    "slideshow": {
     "slide_type": "fragment"
    }
   },
   "outputs": [],
   "source": [
    "class UniversityStudent2(Student, Worker):\n",
    "\n",
    "    def drink(self):\n",
    "        print(\"술 마신다.\")\n",
    "\n",
    "    # method overriding\n",
    "    def work(self): # 상위 클래스의 메소드를 오버라이딩\n",
    "        print(\"아르바이르를 한다.\")\n",
    "\n",
    "    def eat(self):\n",
    "        print(\"학교 식당에 간다.\")\n",
    "        # self.eat <- 무한루프 자기자신 eat 호출\n",
    "        super().eat() # super() => 부모객체"
   ]
  },
  {
   "cell_type": "raw",
   "metadata": {},
   "source": [
    "메소드 내에서\n",
    "self: 자기 자신 (현재 이 객체, 현재 이 클래스)\n",
    "super(): 상위 객체, 상위 클래"
   ]
  },
  {
   "cell_type": "code",
   "execution_count": 26,
   "metadata": {},
   "outputs": [
    {
     "name": "stdout",
     "output_type": "stream",
     "text": [
      "아르바이르를 한다.\n",
      "학교 식당에 간다.\n",
      "먹는다.\n"
     ]
    }
   ],
   "source": [
    "us2 = UniversityStudent2()\n",
    "us2.work() # Worker 클래스를 바꿀 수는 없음\n",
    "us2.eat()"
   ]
  },
  {
   "cell_type": "code",
   "execution_count": 27,
   "metadata": {},
   "outputs": [
    {
     "data": {
      "text/plain": [
       "__main__.UniversityStudent2"
      ]
     },
     "execution_count": 27,
     "metadata": {},
     "output_type": "execute_result"
    }
   ],
   "source": [
    "type(us2)"
   ]
  },
  {
   "cell_type": "code",
   "execution_count": 142,
   "metadata": {},
   "outputs": [],
   "source": [
    "class Person:\n",
    "\n",
    "    def __init__(self, name, age):\n",
    "        self.name = name\n",
    "        self.age = age\n",
    "\n",
    "    def eat(self):\n",
    "        print(f\"{self.name} 이 먹는다.\")\n",
    "\n",
    "    def get_info(self):\n",
    "        return f\"{self.name}, {self.age}\""
   ]
  },
  {
   "cell_type": "code",
   "execution_count": 149,
   "metadata": {},
   "outputs": [],
   "source": [
    "class Student(Person):\n",
    "    def __init__(self, name, age, school_name):\n",
    "        # name, age => Person의 속성\n",
    "        # Person 객체를 초기화하도록 name과 age를 전달\n",
    "        super().__init__(name, age) # 부모 객체의 __init__()을 호출 => 부모 클래스의 instance가 생성\n",
    "        self.school_name = school_name\n",
    "\n",
    "    def get_info(self): # method overriding 해서 구현\n",
    "        info = super().get_info()\n",
    "        return f\"{info}, {self.school_name}\""
   ]
  },
  {
   "cell_type": "code",
   "execution_count": 150,
   "metadata": {},
   "outputs": [],
   "source": [
    "s = Student(\"홍길동\", 17, \"A고등학교\")"
   ]
  },
  {
   "cell_type": "code",
   "execution_count": 151,
   "metadata": {},
   "outputs": [
    {
     "data": {
      "text/plain": [
       "('홍길동', 17, 'A고등학교')"
      ]
     },
     "execution_count": 151,
     "metadata": {},
     "output_type": "execute_result"
    }
   ],
   "source": [
    "s.name, s.age, s.school_name"
   ]
  },
  {
   "cell_type": "code",
   "execution_count": 152,
   "metadata": {},
   "outputs": [
    {
     "name": "stdout",
     "output_type": "stream",
     "text": [
      "홍길동 이 먹는다.\n"
     ]
    }
   ],
   "source": [
    "s.eat()"
   ]
  },
  {
   "cell_type": "code",
   "execution_count": 153,
   "metadata": {},
   "outputs": [
    {
     "data": {
      "text/plain": [
       "'홍길동, 17, A고등학교'"
      ]
     },
     "execution_count": 153,
     "metadata": {},
     "output_type": "execute_result"
    }
   ],
   "source": [
    "s.get_info()"
   ]
  },
  {
   "cell_type": "markdown",
   "metadata": {
    "slideshow": {
     "slide_type": "slide"
    }
   },
   "source": [
    "## 객체 관련 유용한 내장 함수, 특수 변수\n",
    "-  **`isinstance(객체, 클래스이름-datatype)`** : bool\n",
    "    - 객체가 두번째 매개변수로 지정한 클래스의 타입이면 True, 아니면 False 반환\n",
    "    - 여러개의 타입여부를 확인할 경우 class이름(type)들을 **튜플(tuple)로** 묶어 준다.\n",
    "    - 상위 클래스는 하위 클래스객체의 타입이 되므로 객체와 그 객체의 상위 클래스 비교시 True가 나온다.\n",
    "- **`객체.__dict__`**\n",
    "     - 객체가 가지고 있는 Attribute 변수들과 대입된 값을 dictionary에 넣어 반환\n",
    "- **`객체.__class__`**\n",
    "    - 객체의 타입을 반환"
   ]
  },
  {
   "cell_type": "code",
   "execution_count": 154,
   "metadata": {},
   "outputs": [
    {
     "data": {
      "text/plain": [
       "{'name': '홍길동', 'age': 17, 'school_name': 'A고등학교'}"
      ]
     },
     "execution_count": 154,
     "metadata": {},
     "output_type": "execute_result"
    }
   ],
   "source": [
    "s.__dict__"
   ]
  },
  {
   "cell_type": "code",
   "execution_count": 155,
   "metadata": {},
   "outputs": [
    {
     "data": {
      "text/plain": [
       "__main__.Student"
      ]
     },
     "execution_count": 155,
     "metadata": {},
     "output_type": "execute_result"
    }
   ],
   "source": [
    "s.__class__"
   ]
  },
  {
   "cell_type": "code",
   "execution_count": 162,
   "metadata": {},
   "outputs": [
    {
     "data": {
      "text/plain": [
       "True"
      ]
     },
     "execution_count": 162,
     "metadata": {},
     "output_type": "execute_result"
    }
   ],
   "source": [
    "isinstance(s, Student) # s가 Student의 instance인지?"
   ]
  },
  {
   "cell_type": "code",
   "execution_count": 163,
   "metadata": {},
   "outputs": [
    {
     "data": {
      "text/plain": [
       "False"
      ]
     },
     "execution_count": 163,
     "metadata": {},
     "output_type": "execute_result"
    }
   ],
   "source": [
    "t = Teacher()\n",
    "isinstance(t, Student)"
   ]
  },
  {
   "cell_type": "code",
   "execution_count": 164,
   "metadata": {},
   "outputs": [
    {
     "data": {
      "text/plain": [
       "True"
      ]
     },
     "execution_count": 164,
     "metadata": {},
     "output_type": "execute_result"
    }
   ],
   "source": [
    "isinstance(s, Person) # 자식 클래스의 객체 타입 -> 자식 클래스, 부모 클래스\n",
    "# Student 객체 -> Student 타입, Person 타입, object 타입"
   ]
  },
  {
   "cell_type": "code",
   "execution_count": 165,
   "metadata": {},
   "outputs": [],
   "source": [
    "def test(obj): # Person 객체를 받아서 메소드를 호출\n",
    "    if isinstance(obj, Person):\n",
    "        obj.eat()\n",
    "    print(\"종료\")"
   ]
  },
  {
   "cell_type": "code",
   "execution_count": 166,
   "metadata": {},
   "outputs": [
    {
     "name": "stdout",
     "output_type": "stream",
     "text": [
      "종료\n"
     ]
    }
   ],
   "source": [
    "test(10)"
   ]
  },
  {
   "cell_type": "code",
   "execution_count": 167,
   "metadata": {},
   "outputs": [
    {
     "name": "stdout",
     "output_type": "stream",
     "text": [
      "홍길동 이 먹는다.\n",
      "종료\n"
     ]
    }
   ],
   "source": [
    "test(s)"
   ]
  },
  {
   "cell_type": "code",
   "execution_count": 168,
   "metadata": {},
   "outputs": [
    {
     "data": {
      "text/plain": [
       "True"
      ]
     },
     "execution_count": 168,
     "metadata": {},
     "output_type": "execute_result"
    }
   ],
   "source": [
    "isinstance(s, (Person, int)) # s가 Person 또는 int 타입인지?"
   ]
  },
  {
   "cell_type": "markdown",
   "metadata": {
    "slideshow": {
     "slide_type": "slide"
    }
   },
   "source": [
    "## 특수 메소드\n",
    "\n",
    "\n",
    "### 특수 메소드란\n",
    "- 파이썬 실행환경(Python runtime)이 객체와 관련해서 특정 상황 발생하면 호출 하도록 정의한 메소드들. 그 특정상황에서 처리해야 할 일이 있으면 구현을 재정의 한다.\n",
    "    - 객체에 특정 기능들을 추가할 때 사용한다.\n",
    "    - 정의한 메소드와 그것을 호출하는 함수가 다르다.\n",
    "         - ex) `__init__()` => **객체 생성할 때** 호출 된다.\n",
    "- 메소드 명이 더블 언더스코어로 시작하고 끝난다. \n",
    "    - ex) `__init__(), __str__()`\n",
    "- 매직 메소드(Magic Method), 던더(DUNDER) 메소드라고도 한다.\n",
    "- 특수메소드 종류\n",
    "    - https://docs.python.org/ko/3/reference/datamodel.html#special-method-names"
   ]
  },
  {
   "cell_type": "markdown",
   "metadata": {
    "slideshow": {
     "slide_type": "subslide"
    }
   },
   "source": [
    "### 주요 특수메소드\n",
    "- **`__init__(self [, …])`**\n",
    "    - Initializer\n",
    "    - 객체 생성시 호출 된다.\n",
    "    - 객체 생성시 Attribute의 값들을 초기화하는 것을 구현한다.\n",
    "    - self 변수로 받은 instance에 Attribute를 설정한다.\n",
    "- **`__call__(self [, …])`**\n",
    "    - 객체를 함수처럼 호출 하면 실행되는 메소드\n",
    "        - Argument를 받을 Parameter 변수는 self 변수 다음에 필요한대로 선언한다.\n",
    "        - 처리결과를 반환하도록 구현할 경우 `return value` 구문을 넣는다. (필수는 아니다.)\n",
    "\n"
   ]
  },
  {
   "cell_type": "markdown",
   "metadata": {
    "slideshow": {
     "slide_type": "subslide"
    }
   },
   "source": [
    "- **`__str__(self)`**\n",
    "    - Instance(객체)의 Attribute들을 묶어서 문자열로 반환한다.\n",
    "    - 내장 함수 **str(객체)**  호출할 때 이 메소드가 호출 된다.\n",
    "        - str() 호출할 때 객체에 `__str__()`의 정의 안되 있으면 `__repr__()` 을 호출한다. `__repr__()`도 없으면 상위클래스에 정의된 `__str__()`을 호출한다.\n",
    "        - print() 함수는 값을 문자열로 변환해서 출력한다. 이때 그 값을 str() 에 넣어 문자열로 변환한다."
   ]
  },
  {
   "cell_type": "code",
   "execution_count": 169,
   "metadata": {},
   "outputs": [],
   "source": [
    "class Test1:\n",
    "\n",
    "    def __call__(self):\n",
    "        print(\"__call__() 실행\")"
   ]
  },
  {
   "cell_type": "code",
   "execution_count": 177,
   "metadata": {},
   "outputs": [
    {
     "name": "stdout",
     "output_type": "stream",
     "text": [
      "__call__() 실행\n"
     ]
    }
   ],
   "source": [
    "t = Test1()\n",
    "t() # 객체를 함수처럼 호출 ---> __call__()가 실행"
   ]
  },
  {
   "cell_type": "code",
   "execution_count": 11,
   "metadata": {},
   "outputs": [],
   "source": [
    "class Test2:\n",
    "    # 객체가 제공하는 메소드가 하나일 경우 사용\n",
    "    def __call__(self, a1, a2):\n",
    "        print(\"__call__() 실행\", a1, a2)\n",
    "        return a1 + a2\n",
    "\n",
    "    def __str__(self):\n",
    "        return \"안녕하세요\" # 문자열 반환"
   ]
  },
  {
   "cell_type": "code",
   "execution_count": 12,
   "metadata": {},
   "outputs": [
    {
     "name": "stdout",
     "output_type": "stream",
     "text": [
      "__call__() 실행 1 2\n"
     ]
    },
    {
     "data": {
      "text/plain": [
       "3"
      ]
     },
     "execution_count": 12,
     "metadata": {},
     "output_type": "execute_result"
    }
   ],
   "source": [
    "t2 = Test2()\n",
    "t2(1,2)"
   ]
  },
  {
   "cell_type": "code",
   "execution_count": 16,
   "metadata": {},
   "outputs": [
    {
     "data": {
      "text/plain": [
       "__main__.Test2"
      ]
     },
     "execution_count": 16,
     "metadata": {},
     "output_type": "execute_result"
    }
   ],
   "source": [
    "type(t2)"
   ]
  },
  {
   "cell_type": "code",
   "execution_count": 187,
   "metadata": {},
   "outputs": [
    {
     "name": "stdout",
     "output_type": "stream",
     "text": [
      "__call__() 실행 10 20\n"
     ]
    },
    {
     "data": {
      "text/plain": [
       "30"
      ]
     },
     "execution_count": 187,
     "metadata": {},
     "output_type": "execute_result"
    }
   ],
   "source": [
    "a = Test2()(10,20) # Test2(): 객체 생성 (10,20): call 함수\n",
    "a"
   ]
  },
  {
   "cell_type": "code",
   "execution_count": 191,
   "metadata": {},
   "outputs": [
    {
     "data": {
      "text/plain": [
       "'30'"
      ]
     },
     "execution_count": 191,
     "metadata": {},
     "output_type": "execute_result"
    }
   ],
   "source": [
    "str(30) # int 값 -> string 값\n",
    "# __str()__"
   ]
  },
  {
   "cell_type": "code",
   "execution_count": 194,
   "metadata": {},
   "outputs": [
    {
     "data": {
      "text/plain": [
       "'안녕하세요'"
      ]
     },
     "execution_count": 194,
     "metadata": {},
     "output_type": "execute_result"
    }
   ],
   "source": [
    "t2 = Test2()\n",
    "str(t2) # t2.__str__()"
   ]
  },
  {
   "cell_type": "code",
   "execution_count": 211,
   "metadata": {},
   "outputs": [],
   "source": [
    "class Person:\n",
    "\n",
    "    # 객체 생성 시 호출\n",
    "    def __init__(self, name, age, address):\n",
    "        self.name = name\n",
    "        self.age = age\n",
    "        self.address = address\n",
    "\n",
    "    def __str__(self): # 파라미터는 self만 가능, return 값은 \"문자열\"\n",
    "        return f\"이름: {self.name}, 나이: {self.age}, 주소: {self.address}\"\n",
    "\n",
    "    def __add__(self, other):\n",
    "        print(\"__add__()\")\n",
    "        return self.age + other\n",
    "\n",
    "    def __eq__(self, other): # p == other\n",
    "        # 두 Person 객체의 속성값이 같으면 True, 다르면 False\n",
    "        if not isinstance(other, Person): # 비교대상이 Person 타입이 아니면\n",
    "            return False\n",
    "\n",
    "        if self.name == other.name and self.age == other.age and self.address == other.address:\n",
    "            return True\n",
    "        else:\n",
    "            return False"
   ]
  },
  {
   "cell_type": "code",
   "execution_count": 212,
   "metadata": {},
   "outputs": [],
   "source": [
    "p1 = Person(\"이순신\", 20, \"서울시 서초구\")\n",
    "p2 = Person(\"이순신\", 20, \"서울시 서초구\")\n",
    "p3 = Person(\"이순신\", 25, \"서울시 서초구\")"
   ]
  },
  {
   "cell_type": "code",
   "execution_count": 213,
   "metadata": {},
   "outputs": [
    {
     "data": {
      "text/plain": [
       "True"
      ]
     },
     "execution_count": 213,
     "metadata": {},
     "output_type": "execute_result"
    }
   ],
   "source": [
    "p1 == p2 # => p1.__eq__(p2): self: p1, other: 02"
   ]
  },
  {
   "cell_type": "code",
   "execution_count": 215,
   "metadata": {},
   "outputs": [
    {
     "data": {
      "text/plain": [
       "False"
      ]
     },
     "execution_count": 215,
     "metadata": {},
     "output_type": "execute_result"
    }
   ],
   "source": [
    "p1 == p3"
   ]
  },
  {
   "cell_type": "code",
   "execution_count": 216,
   "metadata": {},
   "outputs": [
    {
     "data": {
      "text/plain": [
       "True"
      ]
     },
     "execution_count": 216,
     "metadata": {},
     "output_type": "execute_result"
    }
   ],
   "source": [
    "p1 != p3"
   ]
  },
  {
   "cell_type": "code",
   "execution_count": 206,
   "metadata": {},
   "outputs": [
    {
     "name": "stdout",
     "output_type": "stream",
     "text": [
      "이름: 이순신, 나이: 20, 주소: 서울시 서초구\n",
      "이름: 이순신, 나이: 20, 주소: 서울시 서초구\n"
     ]
    }
   ],
   "source": [
    "p = Person(\"이순신\",20,\"서울시 서초구\") # __init__ 호출됨\n",
    "\n",
    "print(str(p))\n",
    "print(p)"
   ]
  },
  {
   "cell_type": "code",
   "execution_count": 210,
   "metadata": {},
   "outputs": [
    {
     "name": "stdout",
     "output_type": "stream",
     "text": [
      "__add__()\n"
     ]
    },
    {
     "data": {
      "text/plain": [
       "35"
      ]
     },
     "execution_count": 210,
     "metadata": {},
     "output_type": "execute_result"
    }
   ],
   "source": [
    "p + 15 # Person 객체 + 값 ==> Person.__add__(self: p, other: 15)"
   ]
  },
  {
   "cell_type": "raw",
   "metadata": {},
   "source": [
    "10 + p # int.__add__(self: 10, other: p) --> int에는 정의 안됨. 에러"
   ]
  },
  {
   "cell_type": "markdown",
   "metadata": {
    "slideshow": {
     "slide_type": "subslide"
    }
   },
   "source": [
    "#### 연산자 재정의(Operator overriding) 관련 특수 메소드\n",
    "- 연산자의 피연산자로 객체를 사용하면 호출되는 메소드들\n",
    "- 다항연산자일 경우 가장 왼쪽의 객체에 정의된 메소드가 호출된다.\n",
    "    - `a + b` 일경우 a의 `__add__()` 가 호출된다.\n",
    "- **비교 연산자**\n",
    "    - **`__eq__(self, other)`** : self == other\n",
    "        - == 로 객체의 내용을 비교할 때 정의 한다.\n",
    "    - **`__lt__(self, other)`** : self < other, \n",
    "    - **`__gt__(self, other)`**: self > other\n",
    "        - min()이나 max()에서 인수로 사용할 경우 정의해야 한다.\n",
    "    - **`__le__(self, other)`**: self <= other\n",
    "    - **`__ge__(self, other)`**: self >= other\n",
    "    - **`__ne__(self, other)`**: self != other"
   ]
  },
  {
   "cell_type": "markdown",
   "metadata": {
    "slideshow": {
     "slide_type": "fragment"
    }
   },
   "source": [
    "- **산술 연산자**\n",
    "    - **`__add__(self, other)`**: self + other\n",
    "    - **`__sub__(self, other)`**: self - other\n",
    "    - **`__mul__(self, other)`**: self * other\n",
    "    - **`__truediv__(self, other)`**: self / other\n",
    "    - **`__floordiv__(self, other)`**: self // other\n",
    "    - **`__mod__(self, other)`**: self % other"
   ]
  },
  {
   "cell_type": "markdown",
   "metadata": {
    "slideshow": {
     "slide_type": "slide"
    }
   },
   "source": [
    "# class변수, class 메소드\n",
    "- **class변수**\n",
    "    - (Intance가 아닌) 클래스 자체의 데이터\n",
    "    - Attribute가 객체별로 생성된다면, class변수는 클래스당 하나가 생성된다.\n",
    "    - 구현\n",
    "        - class 블럭에 변수 선언.\n",
    "- **class 메소드**\n",
    "    - 클래스 변수를 처리하는 메소드\n",
    "    - 구현\n",
    "        - @classmethod 데코레이터를 붙인다.\n",
    "        - 첫번째 매개변수로 클래스를 받는 변수를 선언한다. 이 변수를 이용해 클래스 변수나 다른 클래스 메소드를 호출 한다."
   ]
  },
  {
   "cell_type": "code",
   "execution_count": 233,
   "metadata": {},
   "outputs": [],
   "source": [
    "class Person:\n",
    "\n",
    "    BLOOD_TYPES = (\"A형\",\"B형\",\"O형\",\"AB형\",\"RH-형\") # CLASS 변수 -> class의 데이터\n",
    "    # 대문자: 변경하지 말 것 의미\n",
    "\n",
    "    @classmethod\n",
    "    def get_blood_types(clazz): # 예약어 class 대신 clazz 많이 씀.    clazz: class 자체를 받는다.\n",
    "        return clazz.BLOOD_TYPES\n",
    "    \n",
    "    # 객체 생성 시 호출\n",
    "    def __init__(self, name, age, address, blood_type=None):\n",
    "        self.name = name\n",
    "        self.age = age\n",
    "        self.address = address\n",
    "        self.blood_type = blood_type\n",
    "        # instance 메소드에서 class 변수/메소드 호출 -> class이름.메소드(), class이름.변수\n",
    "        # Person.BLOOD_TYPES\n",
    "\n",
    "    def __str__(self): # 파라미터는 self만 가능, return 값은 \"문자열\"\n",
    "        return f\"이름: {self.name}, 나이: {self.age}, 주소: {self.address}, 혈액형: {self.blood_type}\"\n",
    "\n",
    "    def __add__(self, other):\n",
    "        print(\"__add__()\")\n",
    "        return self.age + other\n",
    "\n",
    "    def __eq__(self, other): # p == other\n",
    "        # 두 Person 객체의 속성값이 같으면 True, 다르면 False\n",
    "        if not isinstance(other, Person): # 비교대상이 Person 타입이 아니면\n",
    "            return False\n",
    "\n",
    "        if self.name == other.name and self.age == other.age and self.address == other.address:\n",
    "            return True\n",
    "        else:\n",
    "            return False\n",
    "\n",
    "    @staticmethod\n",
    "    def get_class_version():\n",
    "        # STATIC 메소드 -> instance 변수나 class 변수를 사용(처리)하지 않는 메소드\n",
    "        return 1.0"
   ]
  },
  {
   "cell_type": "code",
   "execution_count": 230,
   "metadata": {},
   "outputs": [
    {
     "data": {
      "text/plain": [
       "('A형', 'B형', 'O형', 'AB형', 'RH-형')"
      ]
     },
     "execution_count": 230,
     "metadata": {},
     "output_type": "execute_result"
    }
   ],
   "source": [
    "# class 변수 호출 => class 이름.BLOOD_TYPES\n",
    "Person.BLOOD_TYPES"
   ]
  },
  {
   "cell_type": "code",
   "execution_count": 228,
   "metadata": {},
   "outputs": [],
   "source": [
    "p1 = Person(\"유관순\", 30, \"서울\", \"O\")\n",
    "p2 = Person(\"이순신\", 35, \"서울\", \"O형\")\n",
    "p3 = Person(\"이순신\", 35, \"서울\", \"오형\") # 이런 경우 방지 -> class 변수 사용"
   ]
  },
  {
   "cell_type": "code",
   "execution_count": null,
   "metadata": {},
   "outputs": [],
   "source": [
    "p1 = Person(\"유관순\", 30, \"서울\", Person.BLOOD_TYPES[2])\n",
    "p2 = Person(\"이순신\", 35, \"서울\", Person.BLOOD_TYPES[2])\n",
    "p3 = Person(\"이순신\", 35, \"서울\", Person.BLOOD_TYPES[2])"
   ]
  },
  {
   "cell_type": "code",
   "execution_count": 232,
   "metadata": {},
   "outputs": [
    {
     "data": {
      "text/plain": [
       "('A형', 'B형', 'O형', 'AB형', 'RH-형')"
      ]
     },
     "execution_count": 232,
     "metadata": {},
     "output_type": "execute_result"
    }
   ],
   "source": [
    "Person.get_blood_types()"
   ]
  },
  {
   "cell_type": "code",
   "execution_count": 234,
   "metadata": {},
   "outputs": [
    {
     "data": {
      "text/plain": [
       "1.0"
      ]
     },
     "execution_count": 234,
     "metadata": {},
     "output_type": "execute_result"
    }
   ],
   "source": [
    "Person.get_class_version()"
   ]
  },
  {
   "cell_type": "markdown",
   "metadata": {
    "slideshow": {
     "slide_type": "subslide"
    }
   },
   "source": [
    "# static 메소드\n",
    "- 클래스의 메소드로 클래스 변수와 상관없는 단순기능을 정의한다.\n",
    "    - Caller 에서 받은 argument만 가지고 일하는 메소드를 구현한다.\n",
    "- 구현\n",
    "    - @staticmethod 데코레이터를 붙인다.\n",
    "    - Parameter에 대한 규칙은 없이 필요한 변수들만 선언한다.\n",
    "    "
   ]
  },
  {
   "cell_type": "markdown",
   "metadata": {
    "slideshow": {
     "slide_type": "fragment"
    }
   },
   "source": [
    "## class 메소드/변수, static 메소드 호출\n",
    "- 클래스이름.변수\n",
    "- 클래스이름.메소드() "
   ]
  }
 ],
 "metadata": {
  "kernelspec": {
   "display_name": "Python 3 (ipykernel)",
   "language": "python",
   "name": "python3"
  },
  "language_info": {
   "codemirror_mode": {
    "name": "ipython",
    "version": 3
   },
   "file_extension": ".py",
   "mimetype": "text/x-python",
   "name": "python",
   "nbconvert_exporter": "python",
   "pygments_lexer": "ipython3",
   "version": "3.11.5"
  },
  "toc": {
   "base_numbering": 1,
   "nav_menu": {},
   "number_sections": true,
   "sideBar": true,
   "skip_h1_title": false,
   "title_cell": "Table of Contents",
   "title_sidebar": "Contents",
   "toc_cell": false,
   "toc_position": {},
   "toc_section_display": true,
   "toc_window_display": false
  },
  "varInspector": {
   "cols": {
    "lenName": 16,
    "lenType": 16,
    "lenVar": 40
   },
   "kernels_config": {
    "python": {
     "delete_cmd_postfix": "",
     "delete_cmd_prefix": "del ",
     "library": "var_list.py",
     "varRefreshCmd": "print(var_dic_list())"
    },
    "r": {
     "delete_cmd_postfix": ") ",
     "delete_cmd_prefix": "rm(",
     "library": "var_list.r",
     "varRefreshCmd": "cat(var_dic_list()) "
    }
   },
   "types_to_exclude": [
    "module",
    "function",
    "builtin_function_or_method",
    "instance",
    "_Feature"
   ],
   "window_display": false
  }
 },
 "nbformat": 4,
 "nbformat_minor": 4
}
