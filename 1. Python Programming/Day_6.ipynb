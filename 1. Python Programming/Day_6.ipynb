{
 "cells": [
  {
   "cell_type": "markdown",
   "id": "2cf1a84a-5412-4aa2-b673-1e06a77b767b",
   "metadata": {},
   "source": [
    "# 6일차(2024.01.04)\n",
    "\n",
    "- 개요\n",
    "    - 데코레이터\n",
    "    - 상속\n",
    "    - 메소드 재정의\n",
    "    - 패키지/모듈"
   ]
  },
  {
   "cell_type": "markdown",
   "id": "700b4f48-82a2-4664-b517-cd7ca0195a9f",
   "metadata": {
    "slideshow": {
     "slide_type": "subslide"
    },
    "tags": []
   },
   "source": [
    "# 데코레이터(decorator)\n",
    "- setter/getter 메소드이름을 변수처럼 지정\n",
    "- getter메소드: @property 데코레이터를 선언  \n",
    "- setter메소드: @getter메소드이름.setter  데코레이터를 선언.\n",
    "- getter/setter의 이름을 Attribute 변수처럼 사용한다."
   ]
  },
  {
   "cell_type": "code",
   "execution_count": 1,
   "id": "52f4db63-4546-41c2-849a-154ece7d3ec2",
   "metadata": {},
   "outputs": [],
   "source": [
    "class MyDate2:\n",
    "\n",
    "    def __init__(self, year, month, day):\n",
    "        self.year = year # self.year => setter 호출\n",
    "        self.month = month\n",
    "        self.day = day\n",
    "\n",
    "    # attribute들의 값을 반환(알려주는) 메소드 -> getter\n",
    "    # 메소드 이름 -> 사용할 attribute의 이름으로 지정\n",
    "    # @property (decorator)를 선언\n",
    "    \n",
    "    @property # getter 메소드로 처리\n",
    "    def year(self):\n",
    "        return self.__year\n",
    "\n",
    "    @property\n",
    "    def month(self):\n",
    "        return self.__month\n",
    "\n",
    "    @property\n",
    "    def day(self):\n",
    "        return self.__day\n",
    "\n",
    "    # attribute들의 값을 변경 메소드 -> setter\n",
    "    # 메소드 이름 -> 사용할 attribute의 이름으로 지정\n",
    "    # getter이름.setter\n",
    "    \n",
    "    @year.setter\n",
    "    def year(self, year):\n",
    "        if year >= 1 and year <= 2030:\n",
    "            self.__year = year\n",
    "        else:\n",
    "            print(\"1~2023 사이의 값을 넣으세요.\")\n",
    "    \n",
    "    @month.setter\n",
    "    def month(self, month):\n",
    "        if month >= 1 and month <= 12:\n",
    "            self.__month = month\n",
    "        else:\n",
    "            print(\"1~12 사이의 값을 넣으세요.\")\n",
    "\n",
    "    @day.setter\n",
    "    def day(self, day):\n",
    "        if day >= 1 and day <= 31:\n",
    "            self.__day = day\n",
    "        else:\n",
    "            print(\"1~31 사이의 값을 넣으세요.\")\n",
    "\n",
    "    def get_date(self):\n",
    "        return f\"{self.__year}/{self.__month}/{self.__day}\""
   ]
  },
  {
   "cell_type": "code",
   "execution_count": 2,
   "id": "09dface3-a9e1-4f9a-b24b-469ad355e807",
   "metadata": {},
   "outputs": [
    {
     "name": "stdout",
     "output_type": "stream",
     "text": [
      "2024/1/4\n"
     ]
    }
   ],
   "source": [
    "date = MyDate2(2024, 1, 4)\n",
    "print(date.get_date())"
   ]
  },
  {
   "cell_type": "code",
   "execution_count": 3,
   "id": "a58b6953-c29a-477b-aacc-48e776cd758a",
   "metadata": {},
   "outputs": [
    {
     "name": "stdout",
     "output_type": "stream",
     "text": [
      "2020/10/5\n"
     ]
    }
   ],
   "source": [
    "date.year = 2020\n",
    "date.month = 10\n",
    "date.day = 5\n",
    "\n",
    "print(date.get_date())"
   ]
  },
  {
   "cell_type": "code",
   "execution_count": 4,
   "id": "1ee35502-2494-45bb-8a4d-ae67ab2ad1fb",
   "metadata": {},
   "outputs": [
    {
     "name": "stdout",
     "output_type": "stream",
     "text": [
      "2020 10 5\n"
     ]
    }
   ],
   "source": [
    "# 값을 조회 => getter\n",
    "print(date.year, date.month, date.day)"
   ]
  },
  {
   "cell_type": "code",
   "execution_count": 5,
   "id": "d12350ed-923a-4a27-9e08-9ae2e17a5ef3",
   "metadata": {},
   "outputs": [
    {
     "name": "stdout",
     "output_type": "stream",
     "text": [
      "1~2023 사이의 값을 넣으세요.\n",
      "1~12 사이의 값을 넣으세요.\n",
      "1~31 사이의 값을 넣으세요.\n"
     ]
    }
   ],
   "source": [
    "# 값을 대입 => setter 호출\n",
    "date.year = 3000\n",
    "date.month = 30\n",
    "date.day = 50"
   ]
  },
  {
   "cell_type": "raw",
   "id": "43644d0f-48b3-4e6d-8900-d6efd9a393e6",
   "metadata": {
    "slideshow": {
     "slide_type": "fragment"
    }
   },
   "source": [
    "@을 이용하면 메소드를 변수처럼"
   ]
  },
  {
   "cell_type": "code",
   "execution_count": 6,
   "id": "25e3d0ed-677a-4c87-806b-fc6283ba4ee1",
   "metadata": {},
   "outputs": [
    {
     "name": "stdout",
     "output_type": "stream",
     "text": [
      "1~2023 사이의 값을 넣으세요.\n",
      "1~12 사이의 값을 넣으세요.\n",
      "1~31 사이의 값을 넣으세요.\n"
     ]
    }
   ],
   "source": [
    "d = MyDate2(3000,30,50) # setter 호출"
   ]
  },
  {
   "cell_type": "markdown",
   "id": "664a7553-30de-4fad-b035-8e281b10123e",
   "metadata": {
    "slideshow": {
     "slide_type": "slide"
    }
   },
   "source": [
    "# 상속 (Inheritance)\n",
    "\n",
    "- 기존 클래스를 확장하여 새로운 클래스를 구현한다.\n",
    "- **기반(Base) 클래스, 상위(Super) 클래스, 부모(Parent) 클래스**\n",
    "- **파생(Derived) 클래스, 하위(Sub) 클래스, 자식(Child) 클래스**"
   ]
  },
  {
   "cell_type": "code",
   "execution_count": 7,
   "id": "79137c88-fe24-419b-8d30-24b5435869d1",
   "metadata": {},
   "outputs": [],
   "source": [
    "class Person: # 부모 클래스\n",
    "\n",
    "    def go(self):\n",
    "        print(\"간다.\")\n",
    "\n",
    "    def eat(self):\n",
    "        print(\"먹는다.\")"
   ]
  },
  {
   "cell_type": "code",
   "execution_count": 8,
   "id": "08debcc2-94c0-452c-ad55-11bce6ce22e3",
   "metadata": {},
   "outputs": [],
   "source": [
    "class Student(Person): # 자식 클래스\n",
    "\n",
    "    # def go(self):\n",
    "    #     print(\"간다.\")\n",
    "\n",
    "    # def eat(self):\n",
    "    #     print(\"먹는다.\")\n",
    "\n",
    "    def study(self):\n",
    "        print(\"공부한다.\")"
   ]
  },
  {
   "cell_type": "code",
   "execution_count": 9,
   "id": "d9ac25c9-98e0-43f3-a04e-3aac028a43f9",
   "metadata": {},
   "outputs": [],
   "source": [
    "class Teacher(Person):\n",
    "\n",
    "    def teach(self):\n",
    "        print(\"수업을 진행한다.\")"
   ]
  },
  {
   "cell_type": "code",
   "execution_count": 10,
   "id": "8ead3bb2-c6d8-4894-9618-f858ccaf4ef3",
   "metadata": {},
   "outputs": [
    {
     "name": "stdout",
     "output_type": "stream",
     "text": [
      "간다.\n",
      "먹는다.\n",
      "공부한다.\n"
     ]
    }
   ],
   "source": [
    "s = Student()\n",
    "s.go()\n",
    "s.eat()\n",
    "s.study()"
   ]
  },
  {
   "cell_type": "code",
   "execution_count": 11,
   "id": "07d679ab-1d62-409d-b623-23a77b0c93f5",
   "metadata": {},
   "outputs": [
    {
     "name": "stdout",
     "output_type": "stream",
     "text": [
      "간다.\n",
      "먹는다.\n",
      "수업을 진행한다.\n"
     ]
    }
   ],
   "source": [
    "t = Teacher()\n",
    "t.go()\n",
    "t.eat()\n",
    "t.teach()"
   ]
  },
  {
   "cell_type": "code",
   "execution_count": 12,
   "id": "6e4df9ba-5fcc-4a5c-b21d-c1eef6b2bd72",
   "metadata": {},
   "outputs": [],
   "source": [
    "class Worker:\n",
    "\n",
    "    def work(self):\n",
    "        print(\"일을 한다.\")\n",
    "\n",
    "    def study(self):\n",
    "        print(\"일을 배운다.\")"
   ]
  },
  {
   "cell_type": "code",
   "execution_count": 13,
   "id": "2f40e167-3f87-4f70-9afb-d1ab97af67bb",
   "metadata": {},
   "outputs": [],
   "source": [
    "class UniversityStudent(Student, Worker): # 다중 상속\n",
    "\n",
    "    def drink(self):\n",
    "        print(\"술 마신다.\")"
   ]
  },
  {
   "cell_type": "code",
   "execution_count": 14,
   "id": "d1e4d00a-c8f1-4bfd-85c4-318c61130659",
   "metadata": {},
   "outputs": [
    {
     "name": "stdout",
     "output_type": "stream",
     "text": [
      "간다.\n",
      "공부한다.\n",
      "술 마신다.\n",
      "일을 한다.\n"
     ]
    }
   ],
   "source": [
    "us = UniversityStudent()\n",
    "us.go()\n",
    "us.study() # 이름이 같은 메소드는 왼쪽 먼저 실행\n",
    "us.drink()\n",
    "us.work()"
   ]
  },
  {
   "cell_type": "raw",
   "id": "173cd728-e669-403f-9507-619dcf593bb2",
   "metadata": {},
   "source": [
    "study는 Student, Worker 둘 다 있음. 같은 이름, 서로 다른 메소드\n",
    "다중 상속의 문제\n",
    "왼쪽 위로 가면서 찾음"
   ]
  },
  {
   "cell_type": "code",
   "execution_count": 15,
   "id": "64ec8b9f-8f41-46a0-886d-d26606c69495",
   "metadata": {},
   "outputs": [
    {
     "data": {
      "text/plain": [
       "[__main__.UniversityStudent,\n",
       " __main__.Student,\n",
       " __main__.Person,\n",
       " __main__.Worker,\n",
       " object]"
      ]
     },
     "execution_count": 15,
     "metadata": {},
     "output_type": "execute_result"
    }
   ],
   "source": [
    "# 메소드 찾는 순서를 확인 ---> 왼쪽 -> 오른쪽 순으로 찾는다.\n",
    "UniversityStudent.mro()"
   ]
  },
  {
   "cell_type": "raw",
   "id": "83613de8-fafb-43bd-ae0c-620fcff26abf",
   "metadata": {},
   "source": [
    "[3]-[4]\n",
    "  [2] [5] [6]\n",
    "    [1]   "
   ]
  },
  {
   "cell_type": "markdown",
   "id": "2488a47b-e20d-47c7-b6d3-caa7b558ab3c",
   "metadata": {
    "slideshow": {
     "slide_type": "subslide"
    }
   },
   "source": [
    "다중상속과 단일 상속\n",
    "\n",
    "- **파이썬은 다중상속을 지원한다.**\n",
    "- MRO (Method Resolution Order)\n",
    "    - 다중상속 시 메소드 호출할 때 그 메소드를 찾는 순서. "
   ]
  },
  {
   "cell_type": "markdown",
   "id": "0d53291c-5e88-4227-b960-2a4313b425b1",
   "metadata": {
    "slideshow": {
     "slide_type": "subslide"
    }
   },
   "source": [
    "# Method Overriding (메소드 재정의)\n",
    "- 상위 클래스의 메소드의 구현부를 하위 클래스에서 다시 구현하는 것을 말한다.  \n",
    "\n",
    "super() 내장함수\n",
    "- 하위 클래스에서 **상위 클래스의 instance를** 반환(return) 해주는 함수\n",
    "- 상위 클래스의 Instance 메소드를 호출할 때 – super().메소드()\n",
    "- 메소드에서\n",
    "    - self.xxxx : 같은 클래스에 정의된 메소드나 attribute(instance 변수) 호출\n",
    "    - super().xxxx : 부모클래스에 정의된 메소드나 attribute(부모객체의 attribute) 호출"
   ]
  },
  {
   "cell_type": "code",
   "execution_count": 16,
   "id": "891cf829-e69b-4cc3-949f-d80ee7985d8f",
   "metadata": {
    "slideshow": {
     "slide_type": "fragment"
    }
   },
   "outputs": [],
   "source": [
    "class UniversityStudent2(Student, Worker):\n",
    "\n",
    "    def drink(self):\n",
    "        print(\"술 마신다.\")\n",
    "\n",
    "    # method overriding\n",
    "    def work(self): # 상위 클래스의 메소드를 오버라이딩\n",
    "        print(\"아르바이르를 한다.\")\n",
    "\n",
    "    def eat(self):\n",
    "        print(\"학교 식당에 간다.\")\n",
    "        # self.eat <- 무한루프 자기자신 eat 호출\n",
    "        super().eat() # super() => 부모객체"
   ]
  },
  {
   "cell_type": "raw",
   "id": "8367d1f9-ca5f-486f-a936-12c40198a709",
   "metadata": {},
   "source": [
    "메소드 내에서\n",
    "self: 자기 자신 (현재 이 객체, 현재 이 클래스)\n",
    "super(): 상위 객체, 상위 클래"
   ]
  },
  {
   "cell_type": "code",
   "execution_count": 17,
   "id": "83d20d41-1d21-48c9-b50d-077ed8740fa4",
   "metadata": {},
   "outputs": [
    {
     "name": "stdout",
     "output_type": "stream",
     "text": [
      "아르바이르를 한다.\n",
      "학교 식당에 간다.\n",
      "먹는다.\n"
     ]
    }
   ],
   "source": [
    "us2 = UniversityStudent2()\n",
    "us2.work() # Worker 클래스를 바꿀 수는 없음\n",
    "us2.eat()"
   ]
  },
  {
   "cell_type": "code",
   "execution_count": 18,
   "id": "ee52744f-b5f7-4c5e-8b68-6a1d83961400",
   "metadata": {},
   "outputs": [],
   "source": [
    "class Person:\n",
    "\n",
    "    def __init__(self, name, age):\n",
    "        self.name = name\n",
    "        self.age = age\n",
    "\n",
    "    def eat(self):\n",
    "        print(f\"{self.name} 이 먹는다.\")\n",
    "\n",
    "    def get_info(self):\n",
    "        return f\"{self.name}, {self.age}\""
   ]
  },
  {
   "cell_type": "code",
   "execution_count": 19,
   "id": "bcbcfaa7-7125-4dbd-bcdf-9ad6b19d1606",
   "metadata": {},
   "outputs": [],
   "source": [
    "class Student(Person):\n",
    "    def __init__(self, name, age, school_name):\n",
    "        # name, age => Person의 속성\n",
    "        # Person 객체를 초기화하도록 name과 age를 전달\n",
    "        super().__init__(name, age) # 부모 객체의 __init__()을 호출 => 부모 클래스의 instance가 생성\n",
    "        self.school_name = school_name\n",
    "\n",
    "    def get_info(self): # method overriding 해서 구현\n",
    "        info = super().get_info()\n",
    "        return f\"{info}, {self.school_name}\""
   ]
  },
  {
   "cell_type": "code",
   "execution_count": 20,
   "id": "65fd15e1-2ec4-44e0-8da8-4613b6272fad",
   "metadata": {},
   "outputs": [],
   "source": [
    "s = Student(\"홍길동\", 17, \"A고등학교\")"
   ]
  },
  {
   "cell_type": "code",
   "execution_count": 21,
   "id": "13c2b262-775a-448f-ba6d-143de519883c",
   "metadata": {},
   "outputs": [
    {
     "data": {
      "text/plain": [
       "('홍길동', 17, 'A고등학교')"
      ]
     },
     "execution_count": 21,
     "metadata": {},
     "output_type": "execute_result"
    }
   ],
   "source": [
    "s.name, s.age, s.school_name"
   ]
  },
  {
   "cell_type": "code",
   "execution_count": 22,
   "id": "221f7d4f-672b-4995-ad3a-647109dffc85",
   "metadata": {},
   "outputs": [
    {
     "name": "stdout",
     "output_type": "stream",
     "text": [
      "홍길동 이 먹는다.\n"
     ]
    }
   ],
   "source": [
    "s.eat()"
   ]
  },
  {
   "cell_type": "code",
   "execution_count": 23,
   "id": "ef52d7ad-8c7f-4fb6-a082-490939ba3ae5",
   "metadata": {},
   "outputs": [
    {
     "data": {
      "text/plain": [
       "'홍길동, 17, A고등학교'"
      ]
     },
     "execution_count": 23,
     "metadata": {},
     "output_type": "execute_result"
    }
   ],
   "source": [
    "s.get_info()"
   ]
  },
  {
   "cell_type": "markdown",
   "id": "71b6b378-5db9-448f-b9df-8d86641e450b",
   "metadata": {
    "slideshow": {
     "slide_type": "slide"
    }
   },
   "source": [
    "객체 관련 유용한 내장 함수, 특수 변수\n",
    "-  **`isinstance(객체, 클래스이름-datatype)`** : bool\n",
    "    - 객체가 두번째 매개변수로 지정한 클래스의 타입이면 True, 아니면 False 반환\n",
    "- **`객체.__dict__`**\n",
    "     - 객체가 가지고 있는 Attribute 변수들과 대입된 값을 dictionary에 넣어 반환\n",
    "- **`객체.__class__`**\n",
    "    - 객체의 타입을 반환"
   ]
  },
  {
   "cell_type": "code",
   "execution_count": 24,
   "id": "3b2ec43c-134c-4872-9e0a-eee2c2c2212d",
   "metadata": {},
   "outputs": [
    {
     "data": {
      "text/plain": [
       "{'name': '홍길동', 'age': 17, 'school_name': 'A고등학교'}"
      ]
     },
     "execution_count": 24,
     "metadata": {},
     "output_type": "execute_result"
    }
   ],
   "source": [
    "s.__dict__"
   ]
  },
  {
   "cell_type": "code",
   "execution_count": 25,
   "id": "e773c59f-db3a-4324-b8ba-61d401d1f4e5",
   "metadata": {},
   "outputs": [
    {
     "data": {
      "text/plain": [
       "__main__.Student"
      ]
     },
     "execution_count": 25,
     "metadata": {},
     "output_type": "execute_result"
    }
   ],
   "source": [
    "s.__class__"
   ]
  },
  {
   "cell_type": "code",
   "execution_count": 26,
   "id": "26cbac4f-0013-4de4-a170-bc08779a47c4",
   "metadata": {},
   "outputs": [
    {
     "data": {
      "text/plain": [
       "True"
      ]
     },
     "execution_count": 26,
     "metadata": {},
     "output_type": "execute_result"
    }
   ],
   "source": [
    "isinstance(s, Student) # s가 Student의 instance인지?"
   ]
  },
  {
   "cell_type": "code",
   "execution_count": 27,
   "id": "58a2cf65-f0f9-4efc-a3f4-ba455b86de05",
   "metadata": {},
   "outputs": [
    {
     "data": {
      "text/plain": [
       "False"
      ]
     },
     "execution_count": 27,
     "metadata": {},
     "output_type": "execute_result"
    }
   ],
   "source": [
    "t = Teacher()\n",
    "isinstance(t, Student)"
   ]
  },
  {
   "cell_type": "code",
   "execution_count": 28,
   "id": "24fa6697-1e9a-4471-9fb7-0244c8371c6e",
   "metadata": {},
   "outputs": [
    {
     "data": {
      "text/plain": [
       "True"
      ]
     },
     "execution_count": 28,
     "metadata": {},
     "output_type": "execute_result"
    }
   ],
   "source": [
    "isinstance(s, Person) # 자식 클래스의 객체 타입 -> 자식 클래스, 부모 클래스\n",
    "# Student 객체 -> Student 타입, Person 타입, object 타입"
   ]
  },
  {
   "cell_type": "code",
   "execution_count": 29,
   "id": "e2a88a6b-6901-4fa3-ae5c-9840b6d78cbf",
   "metadata": {},
   "outputs": [],
   "source": [
    "def test(obj): # Person 객체를 받아서 메소드를 호출\n",
    "    if isinstance(obj, Person):\n",
    "        obj.eat()\n",
    "    print(\"종료\")"
   ]
  },
  {
   "cell_type": "code",
   "execution_count": 30,
   "id": "8e4631b5-67cb-461b-a81c-ad6dda08383c",
   "metadata": {},
   "outputs": [
    {
     "name": "stdout",
     "output_type": "stream",
     "text": [
      "종료\n"
     ]
    }
   ],
   "source": [
    "test(10)"
   ]
  },
  {
   "cell_type": "code",
   "execution_count": 31,
   "id": "014e5ba7-eef9-490b-9606-5e7c22d81f10",
   "metadata": {},
   "outputs": [
    {
     "name": "stdout",
     "output_type": "stream",
     "text": [
      "홍길동 이 먹는다.\n",
      "종료\n"
     ]
    }
   ],
   "source": [
    "test(s)"
   ]
  },
  {
   "cell_type": "code",
   "execution_count": 32,
   "id": "3be57112-bbed-4e5e-8b03-3c9cbd4d9f70",
   "metadata": {},
   "outputs": [
    {
     "data": {
      "text/plain": [
       "True"
      ]
     },
     "execution_count": 32,
     "metadata": {},
     "output_type": "execute_result"
    }
   ],
   "source": [
    "isinstance(s, (Person, int)) # s가 Person 또는 int 타입인지?"
   ]
  },
  {
   "cell_type": "markdown",
   "id": "8d3dc68e-ae81-4bfb-9f36-1fc59f30b9bc",
   "metadata": {
    "slideshow": {
     "slide_type": "slide"
    }
   },
   "source": [
    "## 특수 메소드\n",
    "\n",
    "- 파이썬 실행환경(Python runtime)이 객체와 관련해서 특정 상황 발생하면 호출 하도록 정의한 메소드들\n",
    "    - 객체에 특정 기능들을 추가할 때 사용한다.\n",
    "- 매직 메소드(Magic Method), 던더(DUNDER) 메소드라고도 한다.\n",
    "- 특수메소드 종류\n",
    "    - https://docs.python.org/ko/3/reference/datamodel.html#special-method-names"
   ]
  },
  {
   "cell_type": "markdown",
   "id": "b2370f81-c612-41d5-a7d8-0136c9133666",
   "metadata": {
    "slideshow": {
     "slide_type": "subslide"
    }
   },
   "source": [
    "- **`__init__(self [, …])`**\n",
    "    - Initializer\n",
    "    - 객체 생성시 호출 된다.\n",
    "    - 객체 생성시 Attribute의 값들을 초기화하는 것을 구현한다.\n",
    "- **`__call__(self [, …])`**\n",
    "    - 객체를 함수처럼 호출 하면 실행되는 메소드\n",
    "    - Argument를 받을 Parameter 변수는 self 변수 다음에 필요한대로 선언한다.\n",
    "- **`__str__(self)`**\n",
    "    - Instance(객체)의 Attribute들을 묶어서 문자열로 반환한다.\n",
    "    - 내장 함수 **str(객체)**  호출할 때 이 메소드가 호출 된다."
   ]
  },
  {
   "cell_type": "code",
   "execution_count": 33,
   "id": "42f52e8c-224e-4d71-a9f2-53660dc63c6b",
   "metadata": {},
   "outputs": [],
   "source": [
    "class Test1:\n",
    "\n",
    "    def __call__(self):\n",
    "        print(\"__call__() 실행\")"
   ]
  },
  {
   "cell_type": "code",
   "execution_count": 34,
   "id": "41bbea66-4d68-47a9-a9ed-6cb86c0f6b40",
   "metadata": {},
   "outputs": [
    {
     "name": "stdout",
     "output_type": "stream",
     "text": [
      "__call__() 실행\n"
     ]
    }
   ],
   "source": [
    "t = Test1()\n",
    "t() # 객체를 함수처럼 호출 ---> __call__()가 실행"
   ]
  },
  {
   "cell_type": "code",
   "execution_count": 35,
   "id": "9686ac42-7d74-4fb8-a954-4201d0d01312",
   "metadata": {},
   "outputs": [],
   "source": [
    "class Test2:\n",
    "    # 객체가 제공하는 메소드가 하나일 경우 사용\n",
    "    def __call__(self, a1, a2):\n",
    "        print(\"__call__() 실행\", a1, a2)\n",
    "        return a1 + a2\n",
    "\n",
    "    def __str__(self):\n",
    "        return \"안녕하세요\" # 문자열 반환"
   ]
  },
  {
   "cell_type": "code",
   "execution_count": 36,
   "id": "2fc1a2ec-c5bf-44a5-9181-bcaaf51f654d",
   "metadata": {},
   "outputs": [
    {
     "name": "stdout",
     "output_type": "stream",
     "text": [
      "__call__() 실행 1 2\n"
     ]
    },
    {
     "data": {
      "text/plain": [
       "3"
      ]
     },
     "execution_count": 36,
     "metadata": {},
     "output_type": "execute_result"
    }
   ],
   "source": [
    "t2 = Test2()\n",
    "t2(1,2)"
   ]
  },
  {
   "cell_type": "code",
   "execution_count": 37,
   "id": "743f28a6-bcb8-4cf9-8fc1-97b96deb1844",
   "metadata": {},
   "outputs": [
    {
     "name": "stdout",
     "output_type": "stream",
     "text": [
      "__call__() 실행 10 20\n"
     ]
    },
    {
     "data": {
      "text/plain": [
       "30"
      ]
     },
     "execution_count": 37,
     "metadata": {},
     "output_type": "execute_result"
    }
   ],
   "source": [
    "a = Test2()(10,20) # Test2(): 객체 생성 (10,20): call 함수\n",
    "a"
   ]
  },
  {
   "cell_type": "code",
   "execution_count": 38,
   "id": "d4795bae-ee12-4e70-beac-fa5e44e7b22f",
   "metadata": {},
   "outputs": [
    {
     "data": {
      "text/plain": [
       "'30'"
      ]
     },
     "execution_count": 38,
     "metadata": {},
     "output_type": "execute_result"
    }
   ],
   "source": [
    "str(30) # int 값 -> string 값\n",
    "# __str()__"
   ]
  },
  {
   "cell_type": "code",
   "execution_count": 39,
   "id": "cd07dda0-9089-418a-8ce2-e69fe2e232ec",
   "metadata": {},
   "outputs": [
    {
     "data": {
      "text/plain": [
       "'안녕하세요'"
      ]
     },
     "execution_count": 39,
     "metadata": {},
     "output_type": "execute_result"
    }
   ],
   "source": [
    "t2 = Test2()\n",
    "str(t2) # t2.__str__()"
   ]
  },
  {
   "cell_type": "code",
   "execution_count": 40,
   "id": "62d4aa5a-8c9c-46f5-a88c-713f21185d6f",
   "metadata": {},
   "outputs": [],
   "source": [
    "class Person:\n",
    "\n",
    "    # 객체 생성 시 호출\n",
    "    def __init__(self, name, age, address):\n",
    "        self.name = name\n",
    "        self.age = age\n",
    "        self.address = address\n",
    "\n",
    "    def __str__(self): # 파라미터는 self만 가능, return 값은 \"문자열\"\n",
    "        return f\"이름: {self.name}, 나이: {self.age}, 주소: {self.address}\"\n",
    "\n",
    "    def __add__(self, other):\n",
    "        print(\"__add__()\")\n",
    "        return self.age + other\n",
    "\n",
    "    def __eq__(self, other): # p == other\n",
    "        # 두 Person 객체의 속성값이 같으면 True, 다르면 False\n",
    "        if not isinstance(other, Person): # 비교대상이 Person 타입이 아니면\n",
    "            return False\n",
    "\n",
    "        if self.name == other.name and self.age == other.age and self.address == other.address:\n",
    "            return True\n",
    "        else:\n",
    "            return False"
   ]
  },
  {
   "cell_type": "code",
   "execution_count": 41,
   "id": "edcc7d6a-cadf-4237-a262-ca8c9d18ca40",
   "metadata": {},
   "outputs": [],
   "source": [
    "p1 = Person(\"이순신\", 20, \"서울시 서초구\")\n",
    "p2 = Person(\"이순신\", 20, \"서울시 서초구\")\n",
    "p3 = Person(\"이순신\", 25, \"서울시 서초구\")"
   ]
  },
  {
   "cell_type": "code",
   "execution_count": 42,
   "id": "3a69b8c6-a7cb-44e3-94c1-2fa19fd9616f",
   "metadata": {},
   "outputs": [
    {
     "data": {
      "text/plain": [
       "True"
      ]
     },
     "execution_count": 42,
     "metadata": {},
     "output_type": "execute_result"
    }
   ],
   "source": [
    "p1 == p2 # => p1.__eq__(p2): self: p1, other: 02"
   ]
  },
  {
   "cell_type": "code",
   "execution_count": 43,
   "id": "608938cc-b9e5-458f-ab87-005d7dcec1a8",
   "metadata": {},
   "outputs": [
    {
     "data": {
      "text/plain": [
       "False"
      ]
     },
     "execution_count": 43,
     "metadata": {},
     "output_type": "execute_result"
    }
   ],
   "source": [
    "p1 == p3"
   ]
  },
  {
   "cell_type": "code",
   "execution_count": 44,
   "id": "a5bcb66e-4d98-4032-ad97-764b982ab4a1",
   "metadata": {},
   "outputs": [
    {
     "data": {
      "text/plain": [
       "True"
      ]
     },
     "execution_count": 44,
     "metadata": {},
     "output_type": "execute_result"
    }
   ],
   "source": [
    "p1 != p3"
   ]
  },
  {
   "cell_type": "code",
   "execution_count": 45,
   "id": "d9e751dd-bb87-4d1f-b8bf-9559bd522bd8",
   "metadata": {},
   "outputs": [
    {
     "name": "stdout",
     "output_type": "stream",
     "text": [
      "이름: 이순신, 나이: 20, 주소: 서울시 서초구\n",
      "이름: 이순신, 나이: 20, 주소: 서울시 서초구\n"
     ]
    }
   ],
   "source": [
    "p = Person(\"이순신\",20,\"서울시 서초구\") # __init__ 호출됨\n",
    "\n",
    "print(str(p))\n",
    "print(p)"
   ]
  },
  {
   "cell_type": "code",
   "execution_count": 46,
   "id": "fc119027-1428-4af5-81c9-ce24f6b00811",
   "metadata": {},
   "outputs": [
    {
     "name": "stdout",
     "output_type": "stream",
     "text": [
      "__add__()\n"
     ]
    },
    {
     "data": {
      "text/plain": [
       "35"
      ]
     },
     "execution_count": 46,
     "metadata": {},
     "output_type": "execute_result"
    }
   ],
   "source": [
    "p + 15 # Person 객체 + 값 ==> Person.__add__(self: p, other: 15)"
   ]
  },
  {
   "cell_type": "raw",
   "id": "94b584b8-4732-4af0-af11-eac905ce7b24",
   "metadata": {},
   "source": [
    "10 + p # int.__add__(self: 10, other: p) --> int에는 정의 안됨. 에러"
   ]
  },
  {
   "cell_type": "markdown",
   "id": "9051b5b1-eeca-48b8-9d51-6726bf1a41ad",
   "metadata": {
    "slideshow": {
     "slide_type": "subslide"
    }
   },
   "source": [
    "연산자 재정의(Operator overriding)\n",
    "- 연산자의 피연산자로 객체를 사용하면 호출되는 메소드들\n",
    "\n",
    "\n",
    "- **비교 연산자**\n",
    "    - **`__eq__(self, other)`** : self == other\n",
    "        - == 로 객체의 내용을 비교할 때 정의 한다.\n",
    "    - **`__lt__(self, other)`** : self < other, \n",
    "    - **`__gt__(self, other)`**: self > other\n",
    "        - min()이나 max()에서 인수로 사용할 경우 정의해야 한다.\n",
    "    - **`__le__(self, other)`**: self <= other\n",
    "    - **`__ge__(self, other)`**: self >= other\n",
    "    - **`__ne__(self, other)`**: self != other"
   ]
  },
  {
   "cell_type": "markdown",
   "id": "da682cc5-63a3-451e-a1f7-3f8fb231ac09",
   "metadata": {
    "slideshow": {
     "slide_type": "fragment"
    }
   },
   "source": [
    "- **산술 연산자**\n",
    "    - **`__add__(self, other)`**: self + other\n",
    "    - **`__sub__(self, other)`**: self - other\n",
    "    - **`__mul__(self, other)`**: self * other\n",
    "    - **`__truediv__(self, other)`**: self / other\n",
    "    - **`__floordiv__(self, other)`**: self // other\n",
    "    - **`__mod__(self, other)`**: self % other"
   ]
  },
  {
   "cell_type": "markdown",
   "id": "27534523-2a5c-42f4-8c34-8afa9c6ab5ed",
   "metadata": {
    "slideshow": {
     "slide_type": "slide"
    }
   },
   "source": [
    "## class변수, class 메소드\n",
    "- **class변수**\n",
    "    - (Intance가 아닌) 클래스 자체의 데이터\n",
    "    - Attribute가 객체별로 생성된다면, class변수는 클래스당 하나가 생성된다.\n",
    "    - 구현\n",
    "        - class 블럭에 변수 선언.\n",
    "- **class 메소드**\n",
    "    - 클래스 변수를 처리하는 메소드\n",
    "    - 구현\n",
    "        - @classmethod 데코레이터를 붙인다.\n",
    "        - 첫번째 매개변수로 클래스를 받는 변수를 선언한다. 이 변수를 이용해 클래스 변수나 다른 클래스 메소드를 호출 한다."
   ]
  },
  {
   "cell_type": "code",
   "execution_count": 47,
   "id": "39ccd4de-44db-461a-8dc3-42bbd651481b",
   "metadata": {},
   "outputs": [],
   "source": [
    "class Person:\n",
    "\n",
    "    BLOOD_TYPES = (\"A형\",\"B형\",\"O형\",\"AB형\",\"RH-형\") # CLASS 변수 -> class의 데이터\n",
    "    # 대문자: 변경하지 말 것 의미\n",
    "\n",
    "    @classmethod\n",
    "    def get_blood_types(clazz): # 예약어 class 대신 clazz 많이 씀.    clazz: class 자체를 받는다.\n",
    "        return clazz.BLOOD_TYPES\n",
    "    \n",
    "    # 객체 생성 시 호출\n",
    "    def __init__(self, name, age, address, blood_type=None):\n",
    "        self.name = name\n",
    "        self.age = age\n",
    "        self.address = address\n",
    "        self.blood_type = blood_type\n",
    "        # instance 메소드에서 class 변수/메소드 호출 -> class이름.메소드(), class이름.변수\n",
    "        # Person.BLOOD_TYPES\n",
    "\n",
    "    def __str__(self): # 파라미터는 self만 가능, return 값은 \"문자열\"\n",
    "        return f\"이름: {self.name}, 나이: {self.age}, 주소: {self.address}, 혈액형: {self.blood_type}\"\n",
    "\n",
    "    def __add__(self, other):\n",
    "        print(\"__add__()\")\n",
    "        return self.age + other\n",
    "\n",
    "    def __eq__(self, other): # p == other\n",
    "        # 두 Person 객체의 속성값이 같으면 True, 다르면 False\n",
    "        if not isinstance(other, Person): # 비교대상이 Person 타입이 아니면\n",
    "            return False\n",
    "\n",
    "        if self.name == other.name and self.age == other.age and self.address == other.address:\n",
    "            return True\n",
    "        else:\n",
    "            return False\n",
    "\n",
    "    @staticmethod\n",
    "    def get_class_version():\n",
    "        # STATIC 메소드 -> instance 변수나 class 변수를 사용(처리)하지 않는 메소드\n",
    "        return 1.0"
   ]
  },
  {
   "cell_type": "code",
   "execution_count": 48,
   "id": "9ac2a619-c495-446d-8c90-c43dda932655",
   "metadata": {},
   "outputs": [
    {
     "data": {
      "text/plain": [
       "('A형', 'B형', 'O형', 'AB형', 'RH-형')"
      ]
     },
     "execution_count": 48,
     "metadata": {},
     "output_type": "execute_result"
    }
   ],
   "source": [
    "# class 변수 호출 => class 이름.BLOOD_TYPES\n",
    "Person.BLOOD_TYPES"
   ]
  },
  {
   "cell_type": "code",
   "execution_count": 49,
   "id": "1ce5d106-69e2-49e6-b16c-d0912820411e",
   "metadata": {},
   "outputs": [],
   "source": [
    "p1 = Person(\"유관순\", 30, \"서울\", \"O\")\n",
    "p2 = Person(\"이순신\", 35, \"서울\", \"O형\")\n",
    "p3 = Person(\"이순신\", 35, \"서울\", \"오형\") # 이런 경우 방지 -> class 변수 사용"
   ]
  },
  {
   "cell_type": "code",
   "execution_count": 50,
   "id": "b4a2428b-bab7-4303-90b5-a983c4e60b0e",
   "metadata": {},
   "outputs": [],
   "source": [
    "p1 = Person(\"유관순\", 30, \"서울\", Person.BLOOD_TYPES[2])\n",
    "p2 = Person(\"이순신\", 35, \"서울\", Person.BLOOD_TYPES[2])\n",
    "p3 = Person(\"이순신\", 35, \"서울\", Person.BLOOD_TYPES[2])"
   ]
  },
  {
   "cell_type": "code",
   "execution_count": 51,
   "id": "9bb992aa-5673-4129-b879-64eef440bf03",
   "metadata": {},
   "outputs": [
    {
     "data": {
      "text/plain": [
       "('A형', 'B형', 'O형', 'AB형', 'RH-형')"
      ]
     },
     "execution_count": 51,
     "metadata": {},
     "output_type": "execute_result"
    }
   ],
   "source": [
    "Person.get_blood_types()"
   ]
  },
  {
   "cell_type": "code",
   "execution_count": 52,
   "id": "2ac8c470-ed4d-4823-9372-395e3d523efe",
   "metadata": {},
   "outputs": [
    {
     "data": {
      "text/plain": [
       "1.0"
      ]
     },
     "execution_count": 52,
     "metadata": {},
     "output_type": "execute_result"
    }
   ],
   "source": [
    "Person.get_class_version()"
   ]
  },
  {
   "cell_type": "markdown",
   "id": "e20589a9-8a2d-49e5-baa3-f6701a9751fa",
   "metadata": {
    "slideshow": {
     "slide_type": "subslide"
    }
   },
   "source": [
    "static 메소드\n",
    "- 클래스의 메소드로 클래스 변수와 상관없는 단순기능을 정의한다.\n",
    "    - Caller 에서 받은 argument만 가지고 일하는 메소드를 구현한다.\n",
    "- 구현\n",
    "    - @staticmethod 데코레이터를 붙인다.\n",
    "    - Parameter에 대한 규칙은 없이 필요한 변수들만 선언한다.\n",
    "    "
   ]
  },
  {
   "cell_type": "markdown",
   "id": "be14399d-cce5-4526-8cc0-e0e3746595d1",
   "metadata": {
    "slideshow": {
     "slide_type": "fragment"
    }
   },
   "source": [
    "class 메소드/변수, static 메소드 호출\n",
    "- 클래스이름.변수\n",
    "- 클래스이름.메소드() "
   ]
  },
  {
   "cell_type": "markdown",
   "id": "adb7a590-54c3-46c0-a5b2-dd3bdfacbdd3",
   "metadata": {
    "slideshow": {
     "slide_type": "slide"
    }
   },
   "source": [
    "# 모듈(Module)\n",
    "\n",
    "- 독립적인 기능을 가지고 재사용 가능한 프로그램 단위를 모듈이라고 한다.\n",
    "- **파이썬에서 모듈**은 재사용 가능한 함수, 클래스등을 작성한 소스 파일을 말한다.\n",
    "    - 함수나 클래스를 작성한 `.py` 스크립트 파일 파일이 모듈이 된다.\n",
    "- 이런 모듈들을 모아 놓으면 라이브러리가 된다."
   ]
  },
  {
   "cell_type": "markdown",
   "id": "75640770-7648-4db3-8d48-94c95d312689",
   "metadata": {
    "slideshow": {
     "slide_type": "slide"
    }
   },
   "source": [
    "# 패키지 (Package)\n",
    "- 모듈들을 모아 놓은 것을 패키지라고 한다.\n",
    "    - 그래서 파이썬에서는 **라이브러리를 패키지라고 한다.**"
   ]
  },
  {
   "cell_type": "markdown",
   "id": "8bfcefd7-3fd9-4d18-ae9f-29525a36098e",
   "metadata": {
    "slideshow": {
     "slide_type": "subslide"
    }
   },
   "source": [
    "## import\n",
    "- 파이썬 모듈 파일에 정의된 변수, 함수, 클래스들을 사용하기 위해 **파이썬 실행환경에 등록하는 작업**을 말한다.\n",
    "- 현재 프로그램 모듈의 것들이 아니라 **다른 모듈에 있는 것들은 사용하기 위해 import 작업을 먼저 해야 한다.**"
   ]
  },
  {
   "cell_type": "markdown",
   "id": "0ee820db-b481-4700-b900-25ca9d1f867c",
   "metadata": {
    "slideshow": {
     "slide_type": "subslide"
    }
   },
   "source": [
    "<b style='font-size:1.2em'> 1. 모듈 import</b>\n",
    "```python\n",
    "import 모듈   # 하나의 모듈 import.\n",
    "import 모듈 as 별칭 # namespace의 이름을 모듈명이 아니라 별칭으로 지정한다.\n",
    "import 모듈_1, 모듈_2 # 여러개 모듈 import.','를 구분자로 나열한다.\n",
    "```"
   ]
  },
  {
   "cell_type": "markdown",
   "id": "b0191e14-d698-446d-8449-520a02d1ab3a",
   "metadata": {
    "slideshow": {
     "slide_type": "subslide"
    }
   },
   "source": [
    "<b style='font-size:1.2em'>2. 모듈내의 특정 항목만 import</b>\n",
    "```python \n",
    "from 모듈 import 함수  # 함수/클래스가 있는 모듈과 함수를 분리해서 import한다.\n",
    "from 모듈 import 클래스\n",
    "from 모듈 import 함수_1, 함수_2, 클래스\n",
    "from 모듈 import *   \n",
    "```"
   ]
  },
  {
   "cell_type": "markdown",
   "id": "e42ae5e2-e6ae-40cb-8398-cebce1f0e14d",
   "metadata": {
    "slideshow": {
     "slide_type": "subslide"
    }
   },
   "source": [
    "<b style='font-size:1.2em'>3. 패키지에 속한 모듈 import</b>\n",
    "\n",
    "```python\n",
    "import 패키지명.모듈\n",
    "from 패키지명 import 모듈\n",
    "from 패키지명 import 모듈_1, 모듈_2\n",
    "from 패키지명.모듈 import 함수\n",
    "from 패키지명.모듈 import 클래스\n",
    "from 패키지명.모듈 import 함수_1, 함수_2, 클래스\n",
    "from Root패키지.Sub패키지1.Sub패키지2 import 모듈        # 패키지가 계층구조로 되있을 경우 `.` 으로 이용해 나열한다.\n",
    "from Root패키지.Sub패키지1.Sub패키지2.모듈 import 함수\n",
    "from Root패키지.Sub패키지1.Sub패키지2.모듈 import 클래스\n",
    "```"
   ]
  },
  {
   "cell_type": "code",
   "execution_count": 57,
   "id": "6ebd3cdd",
   "metadata": {
    "slideshow": {
     "slide_type": "fragment"
    }
   },
   "outputs": [],
   "source": [
    "# my_module에 있는 함수/클래스 사용\n",
    "# my_module을 import를 먼저 한다.\n",
    "# my_module.py에서 확장자는 빼고 import\n",
    "import my_module"
   ]
  },
  {
   "cell_type": "code",
   "execution_count": 58,
   "id": "c71188ce-b725-4f75-b13b-1b6dd7372308",
   "metadata": {},
   "outputs": [
    {
     "data": {
      "text/plain": [
       "'홍길동님 안녕하세요'"
      ]
     },
     "execution_count": 58,
     "metadata": {},
     "output_type": "execute_result"
    }
   ],
   "source": [
    "# my_module의 greet 함수 호출\n",
    "my_module.greet(\"홍길동\")"
   ]
  },
  {
   "cell_type": "code",
   "execution_count": 59,
   "id": "49beb16f-653e-4434-afd0-102e4fc6caa8",
   "metadata": {},
   "outputs": [
    {
     "name": "stdout",
     "output_type": "stream",
     "text": [
      "이름: 이순신, 나이: 30\n"
     ]
    }
   ],
   "source": [
    "p = my_module.Person(\"이순신\", 30)\n",
    "print(p)"
   ]
  },
  {
   "cell_type": "code",
   "execution_count": 60,
   "id": "44c06b00-2682-4b58-831f-c54f0459fca7",
   "metadata": {},
   "outputs": [],
   "source": [
    "import my_module as mm # mm => 별칭(alias)"
   ]
  },
  {
   "cell_type": "code",
   "execution_count": 61,
   "id": "dee01199-fcb1-4a25-879c-10c3889c4250",
   "metadata": {},
   "outputs": [
    {
     "name": "stdout",
     "output_type": "stream",
     "text": [
      "이순신님 안녕하세요\n"
     ]
    }
   ],
   "source": [
    "txt = mm.greet(\"이순신\")\n",
    "print(txt)"
   ]
  },
  {
   "cell_type": "code",
   "execution_count": 62,
   "id": "99b2c17a-86d0-4f35-ae3d-0833947820d6",
   "metadata": {},
   "outputs": [
    {
     "name": "stdout",
     "output_type": "stream",
     "text": [
      "이름: 강감찬, 나이: 10\n"
     ]
    }
   ],
   "source": [
    "p2 = mm.Person(\"강감찬\", 10)\n",
    "print(p2)"
   ]
  },
  {
   "cell_type": "raw",
   "id": "7557f1bd-e0cf-4a60-b533-a234c853eb82",
   "metadata": {},
   "source": [
    "주피터노트북 기능\n",
    "%%writefile .py # 새로 쓰기/덮어쓰기"
   ]
  },
  {
   "cell_type": "code",
   "execution_count": 63,
   "id": "bb001da8-2d88-4ebd-9a27-5785c4c193cf",
   "metadata": {},
   "outputs": [
    {
     "name": "stdout",
     "output_type": "stream",
     "text": [
      "Writing run.py\n"
     ]
    }
   ],
   "source": [
    "%%writefile run.py\n",
    "asd\n",
    "asdasd"
   ]
  },
  {
   "cell_type": "raw",
   "id": "882569f4-e216-4a4c-acf7-4dc0697f4f03",
   "metadata": {},
   "source": [
    "%load run.py # 불러오기"
   ]
  },
  {
   "cell_type": "raw",
   "id": "a63f4d71-57b9-4da4-b170-1d83d385c47b",
   "metadata": {},
   "source": [
    "# %load run.py\n",
    "asd\n",
    "asdasd\n"
   ]
  },
  {
   "cell_type": "code",
   "execution_count": 64,
   "id": "c4e586df-04be-4486-9295-64cfa5b72d9a",
   "metadata": {},
   "outputs": [
    {
     "name": "stdout",
     "output_type": "stream",
     "text": [
      "Overwriting run.py\n"
     ]
    }
   ],
   "source": [
    "%%writefile run.py\n",
    "# run.py에서 my_module의 함수를 사용\n",
    "import my_module as mm\n",
    "\n",
    "txt = mm.greet(\"홍길동\")\n",
    "print(txt)\n",
    "\n",
    "p = mm.Person(\"이순신\", 30)\n",
    "print(p)\n",
    "\n",
    "txt2 = mm.greet(p.name)\n",
    "print(txt2)"
   ]
  },
  {
   "cell_type": "code",
   "execution_count": 65,
   "id": "f072c146-5cf6-4948-bc79-8542a9d80e1c",
   "metadata": {},
   "outputs": [
    {
     "name": "stdout",
     "output_type": "stream",
     "text": [
      "Writing run2.py\n"
     ]
    }
   ],
   "source": [
    "%%writefile run2.py\n",
    "# 모듈 안의 특정 함수/클래스만 import\n",
    "# from 모듈명 import import 대상\n",
    "from my_module import greet\n",
    "\n",
    "txt = greet(\"홍길동\")\n",
    "print(txt)"
   ]
  },
  {
   "cell_type": "code",
   "execution_count": 66,
   "id": "dfd21dd0-4860-4ac2-9831-e1e472c32b4c",
   "metadata": {},
   "outputs": [
    {
     "name": "stdout",
     "output_type": "stream",
     "text": [
      "이름: 유관순, 나이: 30\n"
     ]
    }
   ],
   "source": [
    "from my_module import Person\n",
    "\n",
    "p = Person(\"유관순\", 30)\n",
    "print(p)"
   ]
  }
 ],
 "metadata": {
  "kernelspec": {
   "display_name": "Python 3 (ipykernel)",
   "language": "python",
   "name": "python3"
  },
  "language_info": {
   "codemirror_mode": {
    "name": "ipython",
    "version": 3
   },
   "file_extension": ".py",
   "mimetype": "text/x-python",
   "name": "python",
   "nbconvert_exporter": "python",
   "pygments_lexer": "ipython3",
   "version": "3.11.5"
  }
 },
 "nbformat": 4,
 "nbformat_minor": 5
}
