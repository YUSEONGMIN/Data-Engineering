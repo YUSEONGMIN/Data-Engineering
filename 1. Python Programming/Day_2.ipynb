{
 "cells": [
  {
   "cell_type": "markdown",
   "id": "9921ca2a-6810-48c9-a31d-a23fbe7aa310",
   "metadata": {},
   "source": [
    "# 2일차(2023.12.28)\n",
    "- 개요\n",
    "    - Indexing과 Slicing\n",
    "    - Format string\n",
    "    - 데이터 타입 변환\n",
    "    - 자료구조"
   ]
  },
  {
   "cell_type": "markdown",
   "id": "c97b5fdc-9cbb-4c48-8f0a-9c47e6146fd9",
   "metadata": {},
   "source": [
    "# Indexing과 Slicing\n",
    "\n",
    "**indexing**: 집합 내에서 하나의 값을 조회하는 방법  \n",
    "**slicing**: 집합내에서 여러개의 값들을 범위로 지정해 조회하는 방법\n",
    "\n"
   ]
  },
  {
   "cell_type": "code",
   "execution_count": 1,
   "id": "2051662d-ad1e-40bf-9f56-53f3d8851921",
   "metadata": {},
   "outputs": [
    {
     "name": "stdout",
     "output_type": "stream",
     "text": [
      "안녕하세요. 반갑습니다.\n"
     ]
    }
   ],
   "source": [
    "s = \"안녕하세요. 반갑습니다.\"\n",
    "print(s)"
   ]
  },
  {
   "cell_type": "code",
   "execution_count": 2,
   "id": "528eb96d-8cfa-4a30-ad27-4f46b05f5296",
   "metadata": {},
   "outputs": [
    {
     "name": "stdout",
     "output_type": "stream",
     "text": [
      "안 .\n",
      "안 .\n"
     ]
    }
   ],
   "source": [
    "print(s[0], s[12]) # 양수 인덱스: 앞에서 몇번째 글자를 조회\n",
    "print(s[-13], s[-1]) # 음수 인덱스: 뒤에서 몇번째 글자를 조회"
   ]
  },
  {
   "cell_type": "code",
   "execution_count": 3,
   "id": "4d407b92-91d3-496d-8418-f7a5efe3437a",
   "metadata": {},
   "outputs": [
    {
     "name": "stdout",
     "output_type": "stream",
     "text": [
      "녕하세요\n",
      "안녕하세요\n",
      "하세요. 반갑습니다.\n",
      "안세 습.\n",
      ".요세하\n"
     ]
    }
   ],
   "source": [
    "print(s[1:5]) # 1~4번째 글자 슬라이싱\n",
    "print(s[:5]) # 4번째 글자까지 슬라이싱\n",
    "print(s[2:]) # 2번째 글자부터 슬라이싱\n",
    "print(s[::3]) # 0,3,6,9번째 글자\n",
    "print(s[5:1:-1]) # 5,4,3,2번째 글자"
   ]
  },
  {
   "cell_type": "markdown",
   "id": "f9f600c5-076b-4f32-9753-0e3aa1e0ff54",
   "metadata": {},
   "source": [
    "# Format string 생성\n",
    "\n",
    "문자열에 문장 형식을 미리 만든 후 나중에 대입하는 방식\n",
    "\n",
    "---\n",
    "format() 함수 이용 (placeholder)"
   ]
  },
  {
   "cell_type": "code",
   "execution_count": 4,
   "id": "47a4512b-fffd-423a-9305-2d82f1bffc42",
   "metadata": {},
   "outputs": [
    {
     "name": "stdout",
     "output_type": "stream",
     "text": [
      "이름: 이순신\n",
      "나이: 20\n",
      "주소: 서울\n"
     ]
    }
   ],
   "source": [
    "name = \"이순신\"\n",
    "age = 20\n",
    "address = \"서울\"\n",
    "\n",
    "layout = \"이름: {}\\n나이: {}\\n주소: {}\"\n",
    "result = layout.format(name, age, address)\n",
    "print(result)"
   ]
  },
  {
   "cell_type": "markdown",
   "id": "541276e6-57a1-4a3b-9ac7-f4206190ec58",
   "metadata": {},
   "source": [
    "---\n",
    "% value 사용"
   ]
  },
  {
   "cell_type": "code",
   "execution_count": 5,
   "id": "4e67691e-6d52-47a0-940f-59ee5556b2ce",
   "metadata": {},
   "outputs": [
    {
     "name": "stdout",
     "output_type": "stream",
     "text": [
      "이름: 이순신\n",
      "나이: 20\n",
      "주소: 서울\n"
     ]
    }
   ],
   "source": [
    "print(\"이름: %s\\n나이: %d\\n주소: %s\" % (name, age, address))"
   ]
  },
  {
   "cell_type": "markdown",
   "id": "0ca0f9e7-dd22-499a-bd20-78955445c5d6",
   "metadata": {},
   "source": [
    "---\n",
    "f-string 방법"
   ]
  },
  {
   "cell_type": "code",
   "execution_count": 6,
   "id": "70b5b75e-027c-4334-89b3-ae5c65319e5e",
   "metadata": {},
   "outputs": [
    {
     "name": "stdout",
     "output_type": "stream",
     "text": [
      "이름: 이순신\n",
      "나이: 20\n",
      "주소: 서울\n"
     ]
    }
   ],
   "source": [
    "print(f\"이름: {name}\\n나이: {age}\\n주소: {address}\")"
   ]
  },
  {
   "cell_type": "markdown",
   "id": "384ed242-febd-4bc9-9c71-4862f9685007",
   "metadata": {},
   "source": [
    "## string 주요 메소드"
   ]
  },
  {
   "cell_type": "code",
   "execution_count": 7,
   "id": "589e468a-67e9-434f-a965-abd7f9618873",
   "metadata": {},
   "outputs": [
    {
     "data": {
      "text/plain": [
       "True"
      ]
     },
     "execution_count": 7,
     "metadata": {},
     "output_type": "execute_result"
    }
   ],
   "source": [
    "'a b c'.split() # 구분 문자열을 기준으로 나눔\n",
    "' a b c '.strip() # 양 끝 공백을 제거함\n",
    "'a b c'.replace('c','d') # 문자열을 바꿈\n",
    "'aabbbcccc'.count('a') # 문자열을 세줌\n",
    "'abc'.index('a') # 문자열의 인덱스를 조회 = .find()\n",
    "'abc'.upper() # 대문자로 바꿔줌 <-> lower()\n",
    "'abc'.capitalize() # 첫글자를 대문자로\n",
    "'abc'.islower() # 모든 문자가 소문자인지 <-> isupper()\n",
    "'abc'.startswith('a') # 문자열로 시작하는지 <-> endswith()"
   ]
  },
  {
   "cell_type": "markdown",
   "id": "cdfe0942-2879-4c9d-a970-5dc2215c7161",
   "metadata": {},
   "source": [
    "# 데이터 타입 변환\n",
    "\n",
    "동적타입 언어 특징: 변수의 타입이 정해져 있지 않음"
   ]
  },
  {
   "cell_type": "code",
   "execution_count": 8,
   "id": "d53318b8-7437-44c5-b78e-26c187a07db9",
   "metadata": {},
   "outputs": [
    {
     "name": "stdout",
     "output_type": "stream",
     "text": [
      "<class 'str'>\n",
      "<class 'int'>\n"
     ]
    }
   ],
   "source": [
    "print(type('1'))\n",
    "print(type(int('1'))) # 정수로 변환"
   ]
  },
  {
   "cell_type": "code",
   "execution_count": 9,
   "id": "bae3c893-4bff-43de-96af-80fc4d0d5afc",
   "metadata": {},
   "outputs": [
    {
     "name": "stdout",
     "output_type": "stream",
     "text": [
      "<class 'str'>\n",
      "<class 'float'>\n"
     ]
    }
   ],
   "source": [
    "print(type('1'))\n",
    "print(type(float('1'))) # 실수로 변환"
   ]
  },
  {
   "cell_type": "code",
   "execution_count": 10,
   "id": "e606fedd-8a9a-426a-924e-fc9154720c87",
   "metadata": {},
   "outputs": [
    {
     "name": "stdout",
     "output_type": "stream",
     "text": [
      "<class 'int'>\n",
      "<class 'str'>\n"
     ]
    }
   ],
   "source": [
    "print(type(1))\n",
    "print(type(str('1'))) # 문자열로 변환"
   ]
  },
  {
   "cell_type": "code",
   "execution_count": 11,
   "id": "017cd800-d084-4a4f-95ad-5090b603d15f",
   "metadata": {},
   "outputs": [
    {
     "name": "stdout",
     "output_type": "stream",
     "text": [
      "<class 'str'>\n",
      "<class 'bool'>\n"
     ]
    }
   ],
   "source": [
    "print(type('1'))\n",
    "print(type(bool('1'))) # 논리형으로 변환"
   ]
  },
  {
   "cell_type": "code",
   "execution_count": 12,
   "id": "b37095ba-6afd-4ad0-914a-a2ce98944d24",
   "metadata": {},
   "outputs": [
    {
     "name": "stdin",
     "output_type": "stream",
     "text": [
      "숫자1  2\n",
      "숫자2  5\n"
     ]
    },
    {
     "data": {
      "text/plain": [
       "7"
      ]
     },
     "execution_count": 12,
     "metadata": {},
     "output_type": "execute_result"
    }
   ],
   "source": [
    "n1 = int(input(\"숫자1 \"))\n",
    "n2 = int(input(\"숫자2 \"))\n",
    "n1 + n2 # input은 입력 값을 문자열로 받음"
   ]
  },
  {
   "cell_type": "markdown",
   "id": "4a681ff6-ad21-4659-a552-10bc4fa7a8e8",
   "metadata": {},
   "source": [
    "0, 0.0, 0글자, None, 원소가 없는 자료는 False"
   ]
  },
  {
   "cell_type": "code",
   "execution_count": 13,
   "id": "5089ad2d-6798-4ae3-acf1-0ab11111fc5f",
   "metadata": {},
   "outputs": [
    {
     "data": {
      "text/plain": [
       "(False, False, False, False)"
      ]
     },
     "execution_count": 13,
     "metadata": {},
     "output_type": "execute_result"
    }
   ],
   "source": [
    "bool(0), bool(\"\"), bool(None), bool([])"
   ]
  },
  {
   "cell_type": "markdown",
   "id": "789ba3aa-e50d-40e6-bbbd-0d56010529c3",
   "metadata": {},
   "source": [
    "# 자료구조\n",
    "\n",
    "- 여러 개의 값들을 모아서 관리하는 데이터 타입  \n",
    "- 원소: 자료구조의 값들을 구성하는 개별 값"
   ]
  },
  {
   "cell_type": "markdown",
   "id": "520abc12-d394-410c-8733-2270ecdcc5f4",
   "metadata": {},
   "source": [
    "## 리스트(List)  \n",
    "\n",
    "- 값들을 순서대로 모아서 관리하는 자료구조  \n",
    "- 인덱스를 가지고 식별  \n",
    "- 중복된 값들 저장 가능  \n",
    "- 원소들을 변경할 수 있음  "
   ]
  },
  {
   "cell_type": "code",
   "execution_count": 14,
   "id": "7e58a392-09b7-4999-82ad-ec4d557b8f76",
   "metadata": {},
   "outputs": [],
   "source": [
    "names = [\"홍길동\", \"이순신\", \"유관순\", \"강감찬\"]\n",
    "ages = [10, 16, 20, 43]"
   ]
  },
  {
   "cell_type": "code",
   "execution_count": 15,
   "id": "29f7b918-ad1e-46d4-b624-fba222129eb2",
   "metadata": {},
   "outputs": [],
   "source": [
    "customer_info = [\"홍길동\", 30, \"서울\", 176.3, True] # 서로 다른 타입의 값들을 모을 수 있다."
   ]
  },
  {
   "cell_type": "code",
   "execution_count": 16,
   "id": "07ae05be-4f71-4b36-92fd-de7bc420f75e",
   "metadata": {},
   "outputs": [
    {
     "data": {
      "text/plain": [
       "['세종대왕', '이순신', '유관순', '강감찬']"
      ]
     },
     "execution_count": 16,
     "metadata": {},
     "output_type": "execute_result"
    }
   ],
   "source": [
    "names[0] = \"세종대왕\" # index 0의 원소를 변경\n",
    "names"
   ]
  },
  {
   "cell_type": "code",
   "execution_count": 17,
   "id": "c8718ce2-5e10-4313-b9f5-2ace7af8fd7b",
   "metadata": {},
   "outputs": [
    {
     "data": {
      "text/plain": [
       "['세종대왕', '이순신', '유관순', '강감찬', 10, 16, 20, 43]"
      ]
     },
     "execution_count": 17,
     "metadata": {},
     "output_type": "execute_result"
    }
   ],
   "source": [
    "# 두 리스트의 원소를 합친 새로운 리스트를 생성\n",
    "names + ages"
   ]
  },
  {
   "cell_type": "markdown",
   "id": "b5607129-e912-4dc1-8195-765b331f123b",
   "metadata": {},
   "source": [
    "중첩 리스트 (Nested List)  \n",
    "- List가 원소로 List를 가지는 것  "
   ]
  },
  {
   "cell_type": "code",
   "execution_count": 18,
   "id": "44d5d1e2-7fba-4d7d-b6c9-6282632ac554",
   "metadata": {},
   "outputs": [
    {
     "data": {
      "text/plain": [
       "[[10, 20, 30, 40], [15, 60, 50, 43], [30, 25, 7, 11, 10, 20]]"
      ]
     },
     "execution_count": 18,
     "metadata": {},
     "output_type": "execute_result"
    }
   ],
   "source": [
    "ages1 = [10, 20, 30, 40]\n",
    "ages2 = [15, 60, 50, 43]\n",
    "ages3 = [30, 25, 7 , 11, 10, 20]\n",
    "\n",
    "age_group = [ages1, ages2, ages3]\n",
    "age_group"
   ]
  },
  {
   "cell_type": "code",
   "execution_count": 19,
   "id": "1412f1b6-9240-4c28-942e-44450cdb0849",
   "metadata": {},
   "outputs": [
    {
     "data": {
      "text/plain": [
       "20"
      ]
     },
     "execution_count": 19,
     "metadata": {},
     "output_type": "execute_result"
    }
   ],
   "source": [
    "age_group[0][1]"
   ]
  },
  {
   "cell_type": "markdown",
   "id": "23321af2-6832-4a9e-9c62-d7ff10bc2d6f",
   "metadata": {},
   "source": [
    "### List 주요 메소드"
   ]
  },
  {
   "cell_type": "code",
   "execution_count": 20,
   "id": "5c435310-44d3-4c06-8163-70553d5610a8",
   "metadata": {},
   "outputs": [
    {
     "data": {
      "text/plain": [
       "['세종대왕', '이순신', '유관순', '강감찬']"
      ]
     },
     "execution_count": 20,
     "metadata": {},
     "output_type": "execute_result"
    }
   ],
   "source": [
    "names"
   ]
  },
  {
   "cell_type": "code",
   "execution_count": 21,
   "id": "800e4695-329b-4879-b235-3420ccc94223",
   "metadata": {},
   "outputs": [
    {
     "data": {
      "text/plain": [
       "['세종대왕', '이순신', '유관순', '강감찬', ['오철기', '박영희']]"
      ]
     },
     "execution_count": 21,
     "metadata": {},
     "output_type": "execute_result"
    }
   ],
   "source": [
    "names.append([\"오철기\",\"박영희\"])\n",
    "names # value 값을 추가"
   ]
  },
  {
   "cell_type": "code",
   "execution_count": 22,
   "id": "873778b1-beb9-4ca5-aba1-8e1b4de63819",
   "metadata": {},
   "outputs": [
    {
     "data": {
      "text/plain": [
       "['세종대왕', '이순신', '유관순', '강감찬', ['오철기', '박영희'], '오철기', '박영희']"
      ]
     },
     "execution_count": 22,
     "metadata": {},
     "output_type": "execute_result"
    }
   ],
   "source": [
    "names.extend([\"오철기\",\"박영희\"])\n",
    "names # List의 원소 추가"
   ]
  },
  {
   "cell_type": "code",
   "execution_count": 23,
   "id": "221d6de7-b39d-45a5-981e-0bd5dd084549",
   "metadata": {},
   "outputs": [
    {
     "data": {
      "text/plain": [
       "['세종대왕', '이순신', '유관순', '강감찬', ['오철기', '박영희'], '오철기', '박영희']"
      ]
     },
     "execution_count": 23,
     "metadata": {},
     "output_type": "execute_result"
    }
   ],
   "source": [
    "names.sort\n",
    "names # 원소들을 오름차순 정렬 <-> reverse=True"
   ]
  },
  {
   "cell_type": "code",
   "execution_count": 24,
   "id": "4713ab5b-3cea-4e22-a147-4b5e6b496156",
   "metadata": {},
   "outputs": [
    {
     "data": {
      "text/plain": [
       "['세종대왕', '이순신', '광개토대왕', '유관순', '강감찬', ['오철기', '박영희'], '오철기', '박영희']"
      ]
     },
     "execution_count": 24,
     "metadata": {},
     "output_type": "execute_result"
    }
   ],
   "source": [
    "names.insert(2, \"광개토대왕\")\n",
    "names # 지정한 인덱스에 값 삽입"
   ]
  },
  {
   "cell_type": "code",
   "execution_count": 25,
   "id": "1c0fc62a-12c5-40b2-bf54-8b72e655d048",
   "metadata": {},
   "outputs": [
    {
     "data": {
      "text/plain": [
       "['세종대왕', '이순신', '광개토대왕', '유관순', '강감찬', ['오철기', '박영희'], '박영희']"
      ]
     },
     "execution_count": 25,
     "metadata": {},
     "output_type": "execute_result"
    }
   ],
   "source": [
    "names.remove(\"오철기\") \n",
    "names # 같은 값 중 첫 원소를 삭제"
   ]
  },
  {
   "cell_type": "code",
   "execution_count": 26,
   "id": "a7aeb8b5-37b1-47cd-bb12-510380dacaec",
   "metadata": {},
   "outputs": [
    {
     "data": {
      "text/plain": [
       "4"
      ]
     },
     "execution_count": 26,
     "metadata": {},
     "output_type": "execute_result"
    }
   ],
   "source": [
    "names.index('강감찬',0) # 값의 인덱스 조회"
   ]
  },
  {
   "cell_type": "code",
   "execution_count": 27,
   "id": "2ed454cb-8d81-4d61-ba89-e9e9fce93923",
   "metadata": {},
   "outputs": [
    {
     "data": {
      "text/plain": [
       "['세종대왕', '이순신', '광개토대왕', '유관순', '강감찬', ['오철기', '박영희']]"
      ]
     },
     "execution_count": 27,
     "metadata": {},
     "output_type": "execute_result"
    }
   ],
   "source": [
    "names.pop() # 인덱스의 값 반환 후 삭제 -> 없으면 마지막\n",
    "names"
   ]
  },
  {
   "cell_type": "markdown",
   "id": "4755f19f-98bd-4ea0-941f-4415b204e073",
   "metadata": {},
   "source": [
    "## 튜플(Tuple)\n",
    "\n",
    "- 순서대로 원소들을 관리\n",
    "- 저장된 원소를 변경할 수 없음"
   ]
  },
  {
   "cell_type": "code",
   "execution_count": 28,
   "id": "e39b3b96-90ea-48cf-a370-98798db69ba3",
   "metadata": {},
   "outputs": [
    {
     "data": {
      "text/plain": [
       "(10, '가나다', True, 23.2)"
      ]
     },
     "execution_count": 28,
     "metadata": {},
     "output_type": "execute_result"
    }
   ],
   "source": [
    "t3 = 10, \"가나다\", True, 23.2 # 다른 타입의 값들을 모을 수 있다.\n",
    "t3 # 소괄호를 생략할 수 있다."
   ]
  },
  {
   "cell_type": "code",
   "execution_count": 29,
   "id": "250cf807-95b8-4209-9b9e-ec92b2ceec4d",
   "metadata": {},
   "outputs": [
    {
     "data": {
      "text/plain": [
       "(10, 20, 30, 40, 50, 100, 200, 300, 400)"
      ]
     },
     "execution_count": 29,
     "metadata": {},
     "output_type": "execute_result"
    }
   ],
   "source": [
    "t1 = (10, 20, 30, 40, 50)\n",
    "t2 = (100, 200, 300, 400)\n",
    "\n",
    "t3 = t1 + t2 # t1과 t2는 변하지 않음\n",
    "t3 # 둘을 합친 새로운 tuple을 반환"
   ]
  },
  {
   "cell_type": "code",
   "execution_count": 30,
   "id": "274e131d-8081-4a86-9cf1-c06fb02a1951",
   "metadata": {},
   "outputs": [
    {
     "data": {
      "text/plain": [
       "4"
      ]
     },
     "execution_count": 30,
     "metadata": {},
     "output_type": "execute_result"
    }
   ],
   "source": [
    "t4 = (1,2,3,10,2)\n",
    "t4.index(2) # 가장 먼저 나오는 값 인덱스 반환\n",
    "t4.index(2, 3) # 값 2를 index 3에서부터 찾음"
   ]
  },
  {
   "cell_type": "markdown",
   "id": "4aa81135-69fa-4a78-a075-e0cf55f80066",
   "metadata": {},
   "source": [
    "## 딕셔너리(Dictionary)\n",
    "\n",
    "- 값을 키(key)-값(value) 쌍으로 묶어서 저장하는 자료구조\n",
    "-  index의 역할을 하는 key를 직접 지\n",
    "- 다.\r\n",
    "key-value 쌍으로 묶은 데이터 한개를 \n",
    "- 한다.\r\n",
    "key는 중복을 허용,하지 않고 value는 중허용한다."
   ]
  },
  {
   "cell_type": "code",
   "execution_count": 31,
   "id": "cd941b69-4340-4e1f-a738-1776252d6472",
   "metadata": {},
   "outputs": [
    {
     "data": {
      "text/plain": [
       "{'이름': '홍길동', '나이': 30, '주소': '서울시 서초구', '결혼여부': True}"
      ]
     },
     "execution_count": 31,
     "metadata": {},
     "output_type": "execute_result"
    }
   ],
   "source": [
    "customer_info = {\"이름\":\"홍길동\",\n",
    "                 \"나이\":30,\n",
    "                 \"주소\":\"서울시 서초구\",\n",
    "                 \"결혼여부\":True\n",
    "                }\n",
    "customer_info"
   ]
  },
  {
   "cell_type": "code",
   "execution_count": 32,
   "id": "c109958d-0fb5-4976-b82c-ac416d1a356f",
   "metadata": {},
   "outputs": [
    {
     "data": {
      "text/plain": [
       "{'이름': '이순신', '나이': 30, '결혼여부': False}"
      ]
     },
     "execution_count": 32,
     "metadata": {},
     "output_type": "execute_result"
    }
   ],
   "source": [
    "customer_info2 = dict(이름=\"이순신\", 나이=30, 결혼여부=False)\n",
    "customer_info2"
   ]
  },
  {
   "cell_type": "code",
   "execution_count": 33,
   "id": "8524bae0-e302-41e8-b496-6a87d3c0b048",
   "metadata": {},
   "outputs": [
    {
     "data": {
      "text/plain": [
       "{'이름': '홍길동', '나이': 20, '주소': '서울시 서초구', '결혼여부': True}"
      ]
     },
     "execution_count": 33,
     "metadata": {},
     "output_type": "execute_result"
    }
   ],
   "source": [
    "# 값 변경 - 있는 key에 값을 대입\n",
    "customer_info[\"나이\"] = 20\n",
    "customer_info"
   ]
  },
  {
   "cell_type": "code",
   "execution_count": 34,
   "id": "b6fdc59f-d5aa-49de-9e4d-4232e4429d13",
   "metadata": {},
   "outputs": [
    {
     "data": {
      "text/plain": [
       "{'이름': '홍길동', '나이': 20, '주소': '서울시 서초구', '결혼여부': True, '혈액형': 'A형'}"
      ]
     },
     "execution_count": 34,
     "metadata": {},
     "output_type": "execute_result"
    }
   ],
   "source": [
    "# 값 추가 - 없는 key에 값을 대입\n",
    "customer_info[\"혈액형\"] = \"A형\"\n",
    "customer_info"
   ]
  },
  {
   "cell_type": "markdown",
   "id": "8aee9b15-a50a-488c-bf7b-0a7dce15fcfa",
   "metadata": {},
   "source": [
    "### Dict 주요 메소드"
   ]
  },
  {
   "cell_type": "code",
   "execution_count": 35,
   "id": "47b85d7f-d64b-4cbc-b28a-221aaa78971d",
   "metadata": {},
   "outputs": [],
   "source": [
    "customer_info.get(\"몸무게\") # 없는 key로 조회 시, None을 반환"
   ]
  },
  {
   "cell_type": "code",
   "execution_count": 36,
   "id": "332e5081-b698-4c12-a558-fbd655a02cf4",
   "metadata": {},
   "outputs": [
    {
     "data": {
      "text/plain": [
       "-100"
      ]
     },
     "execution_count": 36,
     "metadata": {},
     "output_type": "execute_result"
    }
   ],
   "source": [
    "customer_info.get(\"몸무게\", -100) # 지정한 값을 반환"
   ]
  },
  {
   "cell_type": "code",
   "execution_count": 37,
   "id": "b4cac953-d2e6-4586-88d3-f8888908dbb4",
   "metadata": {},
   "outputs": [
    {
     "data": {
      "text/plain": [
       "{'이름': '홍길동', '나이': 20, '주소': '서울시 서초구', '결혼여부': True}"
      ]
     },
     "execution_count": 37,
     "metadata": {},
     "output_type": "execute_result"
    }
   ],
   "source": [
    "del customer_info['혈액형']\n",
    "customer_info # key의 item을 삭제"
   ]
  },
  {
   "cell_type": "markdown",
   "id": "d4ee65bc-83ac-4f1b-be63-c1ce288f1016",
   "metadata": {},
   "source": [
    "## 집합(Set)\n",
    "\n",
    "- 중복되는 값을 허용하지 않고 순서를 신경 쓰지 않음  \n",
    "- indexing과 slicing을 지원하지 않음\n"
   ]
  },
  {
   "cell_type": "code",
   "execution_count": 38,
   "id": "72e4189e-8784-4d3f-afef-3701c62950dc",
   "metadata": {},
   "outputs": [
    {
     "data": {
      "text/plain": [
       "{1, 2, 3}"
      ]
     },
     "execution_count": 38,
     "metadata": {},
     "output_type": "execute_result"
    }
   ],
   "source": [
    "s1 = {1,2,3}\n",
    "s1"
   ]
  },
  {
   "cell_type": "code",
   "execution_count": 39,
   "id": "2760f839-8325-4321-8eb6-75b37a01c60a",
   "metadata": {},
   "outputs": [
    {
     "data": {
      "text/plain": [
       "{1, 2, 3}"
      ]
     },
     "execution_count": 39,
     "metadata": {},
     "output_type": "execute_result"
    }
   ],
   "source": [
    "s2 = {1,2,3,1,2,3}\n",
    "s2 # 개별 원소를 조회할 수 없다."
   ]
  },
  {
   "cell_type": "code",
   "execution_count": 40,
   "id": "022c399c-92e1-4a88-93ea-6709e2a428f5",
   "metadata": {},
   "outputs": [
    {
     "data": {
      "text/plain": [
       "{1, 2, 3, 4, 10, 100, 1000}"
      ]
     },
     "execution_count": 40,
     "metadata": {},
     "output_type": "execute_result"
    }
   ],
   "source": [
    "s1 = {1,2,3,4}\n",
    "s1.update([1, 10, 100, 1000]) # 하나는 add()\n",
    "s1 # 원소들을 모두 집합에 추가"
   ]
  },
  {
   "cell_type": "code",
   "execution_count": 41,
   "id": "2a7efcbc-4c4c-49b1-90da-716f4318f9db",
   "metadata": {},
   "outputs": [
    {
     "data": {
      "text/plain": [
       "{1, 2, 3, 4, 5, 6, 7}"
      ]
     },
     "execution_count": 41,
     "metadata": {},
     "output_type": "execute_result"
    }
   ],
   "source": [
    "s1 = {1,2,3,4,5}\n",
    "s2 = {3,4,5,6,7}\n",
    "s1 | s2 # 합집합"
   ]
  },
  {
   "cell_type": "code",
   "execution_count": 42,
   "id": "80216f68-1740-4db7-a323-ddad98cb97a5",
   "metadata": {},
   "outputs": [
    {
     "data": {
      "text/plain": [
       "{3, 4, 5}"
      ]
     },
     "execution_count": 42,
     "metadata": {},
     "output_type": "execute_result"
    }
   ],
   "source": [
    "s1 & s2 # 교집합"
   ]
  },
  {
   "cell_type": "code",
   "execution_count": 43,
   "id": "c9480f5d-ade5-4d37-8d1f-3442dd767cb7",
   "metadata": {},
   "outputs": [
    {
     "data": {
      "text/plain": [
       "{1, 2}"
      ]
     },
     "execution_count": 43,
     "metadata": {},
     "output_type": "execute_result"
    }
   ],
   "source": [
    "s1 - s2 # 차집합"
   ]
  },
  {
   "cell_type": "markdown",
   "id": "f9dfeb24-5fdd-4699-ae8f-090044c164a8",
   "metadata": {},
   "source": [
    "---\n",
    "자료구조를 이용한 대입"
   ]
  },
  {
   "cell_type": "code",
   "execution_count": 44,
   "id": "950257df-5b17-4472-9876-b00bb97f947b",
   "metadata": {},
   "outputs": [],
   "source": [
    "n1, n2, n3 = [10, 20, 30] # 리스트 대입\n",
    "\n",
    "n10, n20, n30 = (100, 200, 300) # 튜플 대입\n",
    "a, b, c = 1, 2, 3\n",
    "\n",
    "n100, n200, n300 = {1,2,3} # 셋 대입"
   ]
  },
  {
   "cell_type": "markdown",
   "id": "e0385620-22e0-4c3d-b4e4-d2659368d1af",
   "metadata": {},
   "source": [
    "## 자료구조 타입 변환\n",
    "\n",
    "- list(자료구조): 자료구조를 List로 변환  \n",
    "- tuple(자료구조): 자료구조를 Tuple로 변환  \n",
    "- set(자료구조): 자료구조를 Set으로 변환  \n",
    "    - 다른 자료구조의 원소 중 중복을 빼고 조회할 때 이용  \n",
    "\n",
    "Iterable: 반복가능한 객체  \n",
    "- Iterable이 제공하는 값을 반복문을 이용해 조회  \n",
    "- 자료구조, 문자열"
   ]
  },
  {
   "cell_type": "markdown",
   "id": "543c3c7d-e6c8-4d44-8cbf-179247fbc6d5",
   "metadata": {},
   "source": [
    "1. 좋았던 점  \n",
    "   문자열에 관한 메소드를 통해 이후 자연어 처리를 할 때 도움이 될 것 같다.\n",
    "\n",
    "2. 배운 점  \n",
    "   인덱싱과 슬라이싱, 문자열을 처리하는 방법, 다양한 자료구조를 배웠다.\n",
    "\n",
    "3. 아쉬웠던 점  \n",
    "   건강 관리를 못해 수업을 받는데 체력적으로 힘들었었다.  \n",
    "\n",
    "4. 앞으로의 계획  \n",
    "   오늘 배운 내용을 응용하면 다양한 전처리를 할 수 있을 것이다."
   ]
  }
 ],
 "metadata": {
  "kernelspec": {
   "display_name": "Python 3 (ipykernel)",
   "language": "python",
   "name": "python3"
  },
  "language_info": {
   "codemirror_mode": {
    "name": "ipython",
    "version": 3
   },
   "file_extension": ".py",
   "mimetype": "text/x-python",
   "name": "python",
   "nbconvert_exporter": "python",
   "pygments_lexer": "ipython3",
   "version": "3.11.5"
  }
 },
 "nbformat": 4,
 "nbformat_minor": 5
}
