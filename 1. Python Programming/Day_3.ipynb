{
 "cells": [
  {
   "cell_type": "markdown",
   "id": "c705eed6-36f2-4696-afb6-d51e498e8649",
   "metadata": {},
   "source": [
    "# 3일차(2023.12.29)\n",
    "- 개요\n",
    "    - 조건문과 반복문"
   ]
  },
  {
   "cell_type": "markdown",
   "id": "90131161-2872-4399-a0da-be9bf3dca61c",
   "metadata": {
    "slideshow": {
     "slide_type": "slide"
    }
   },
   "source": [
    "# 제어문\n",
    "\n",
    "제어문은 **조건문** 과 **반복문**이 있다.\n",
    "- **조건문**\n",
    "    - if 문\n",
    "- **반복문**\n",
    "    - while 문\n",
    "    - for in 문"
   ]
  },
  {
   "cell_type": "markdown",
   "id": "3f83209b-13af-4811-917d-ba8d29267a6b",
   "metadata": {
    "slideshow": {
     "slide_type": "slide"
    }
   },
   "source": [
    "# 조건문 (conditional statement)\n",
    "- 프로그램이 명령문들을 실행하는 도중 특정 순서에서 **조건에 따라 흐름의 나눠져야 하는 경우 사용한다**.\n",
    "- 파이썬은 조건문으로 **if문**이 있다."
   ]
  },
  {
   "cell_type": "markdown",
   "id": "5518e742-69e0-421a-a0e2-8c05e4a3f5f5",
   "metadata": {
    "slideshow": {
     "slide_type": "subslide"
    }
   },
   "source": [
    "\n",
    "```python\n",
    "if 조건1:\n",
    "    명령문1_1  # 조건1이 True일 경우 실행할 코드블록. \n",
    "    명령문1_2\n",
    "    ...\n",
    "elif 조건2:    # 다음 조건으로 앞의 조건들이 모드 False일 경우 비교한다.\n",
    "    명령문2_1  # 조건2가 True일 경우 실행할 코드블록.\n",
    "    명령문2_2\n",
    "    ...\n",
    "elif 조건3 :\n",
    "    명령문3_1\n",
    "    명령문3_2\n",
    "    ...\n",
    "else:         # 위의 모든 조건이 False일 경우 실행하는 코드블록. 생략 가능하다.\n",
    "    명령문4\n",
    "```"
   ]
  },
  {
   "cell_type": "code",
   "execution_count": 1,
   "id": "4c6a532d",
   "metadata": {
    "slideshow": {
     "slide_type": "fragment"
    }
   },
   "outputs": [
    {
     "name": "stdin",
     "output_type": "stream",
     "text": [
      "ID:  abcde\n"
     ]
    },
    {
     "name": "stdout",
     "output_type": "stream",
     "text": [
      "abcde가 등록되었습니다.\n"
     ]
    }
   ],
   "source": [
    "# 아이디 체크 -> 5글자 이상이면 등록 아니면 가입불가 메세지 출력\n",
    "user_id = input(\"ID: \")\n",
    "if len(user_id) >= 5:\n",
    "    # 등록\n",
    "    print(f\"{user_id}가 등록되었습니다.\")\n",
    "else:\n",
    "    print(\"아이디는 5글자 이상 입력하세요.\")"
   ]
  },
  {
   "cell_type": "markdown",
   "id": "4ee827c3-af86-44de-8688-c4e1d8962485",
   "metadata": {
    "slideshow": {
     "slide_type": "slide"
    }
   },
   "source": [
    "# 반복문 (Loop statement)\n",
    "\n",
    "특정 구문들을 반복해서 실행할 때 사용한다.  \n",
    "단순 반복을 처리하는 **while문**과 iterable객체가 제공하는 값들을 반복 조회하는 **for in문** 두가지 문법이 있다."
   ]
  },
  {
   "cell_type": "markdown",
   "id": "c822484f-8f55-464b-ad4e-ad11274962a4",
   "metadata": {
    "slideshow": {
     "slide_type": "subslide"
    }
   },
   "source": [
    "## while문\n",
    "- 조건이 True인 동안 구문을 반복해서 실행한다.\n",
    "\n",
    "```python\n",
    "while 조건:       # 조건은 bool 표현식을 기술한다.\n",
    "    반복할 구문1  # 반복할 구문을 코드블록으로 작성한다.  \n",
    "    반복할 구문2\n",
    "    ...\n",
    "```"
   ]
  },
  {
   "cell_type": "code",
   "execution_count": 2,
   "id": "6b11bde6",
   "metadata": {
    "slideshow": {
     "slide_type": "fragment"
    }
   },
   "outputs": [
    {
     "name": "stdin",
     "output_type": "stream",
     "text": [
      "반복할 횟수:  10\n"
     ]
    },
    {
     "name": "stdout",
     "output_type": "stream",
     "text": [
      "1 번째 실행.\n",
      "2 번째 실행.\n",
      "3 번째 실행.\n",
      "4 번째 실행.\n",
      "5 번째 실행.\n",
      "6 번째 실행.\n",
      "7 번째 실행.\n",
      "8 번째 실행.\n",
      "9 번째 실행.\n",
      "10 번째 실행.\n"
     ]
    }
   ],
   "source": [
    "limit = int(input(\"반복할 횟수: \")) # 1.\n",
    "count = 0 # 2. 몇번째 반복인지 횟수를 저장할 변수.\n",
    "\n",
    "# 3.\n",
    "while count < limit: # 조건식이 True인 동안 코드블록을 반복 실행한다.\n",
    "    count += 1 # count 값을 증가\n",
    "    print(f\"{count} 번째 실행.\")"
   ]
  },
  {
   "cell_type": "markdown",
   "id": "d3b298b4-e69f-4700-8472-7ff164eb1ce8",
   "metadata": {
    "slideshow": {
     "slide_type": "subslide"
    }
   },
   "source": [
    "## for  in 문\n",
    "- Iterable 객체를 순환조회하는 구문\n",
    "- for in문은 Iterable 타입의 객체가 가지고 있는 값들을 하나씩 처리하는 구문을 작성할 때 사용한다.\n",
    "\n",
    "\n",
    "```python\n",
    "for 변수 in Iterable: # for in 선언후 : 으로 선언부와 구현부를 나눈다.\n",
    "    반복구문          # Iterable이 반복시 제공하는 값을 가지는 \"변수\"를 이용해 값들을 처리하는 구문을 코드블록으로 작성한다.\n",
    "    반복구문\n",
    "```"
   ]
  },
  {
   "cell_type": "markdown",
   "id": "89095847-7a7b-46af-9995-edd958db5d55",
   "metadata": {},
   "source": [
    "**Iterable**\n",
    " - 반복가능한 객체. 반복문(for in)을 이용해 일련의 값들을 반복적으로 각각 제공하는 객체를 말한다. \n",
    " - 대표적으로 List, Tuple, Dictionary, Set, 문자열 등이 있다.\n"
   ]
  },
  {
   "cell_type": "code",
   "execution_count": 3,
   "id": "da0ce0f6",
   "metadata": {
    "slideshow": {
     "slide_type": "fragment"
    }
   },
   "outputs": [
    {
     "name": "stdout",
     "output_type": "stream",
     "text": [
      "11\n",
      "20\n",
      "15\n",
      "0\n",
      "12\n",
      "-60\n"
     ]
    }
   ],
   "source": [
    "lst = [1, 10, 5, -10, 2, -70]\n",
    "result = []\n",
    "for var in lst: # iterable lst의 원소들을 하나씩 조회해서 var에 저장\n",
    "    print(var + 10)\n",
    "    result.append(var + 10)"
   ]
  },
  {
   "cell_type": "markdown",
   "id": "11ddfe03-524a-4ff3-af34-c3362ea683fb",
   "metadata": {
    "slideshow": {
     "slide_type": "subslide"
    }
   },
   "source": [
    "### 반복문 제어\n",
    "- **continue**\n",
    "    - 실행 블록에서 continue가 실행되면 현재 반복을 중단하고 다음 반복을 진행한다.\n",
    "    - 특정 조건에서 처리를 멈추고 다음 처리를 반복할 때 사용한다.\n",
    "- **break**\n",
    "    - 반복문 실행을 중단한다.\n",
    "    - 특정 조건에서 반복문을 중간에 중지할때 사용한다.\n",
    "- continue와 break는 특정 조건에서 실행되야 하는 경우가 대부분이므로 if문 안에 작성한다.    "
   ]
  },
  {
   "cell_type": "code",
   "execution_count": 4,
   "id": "90c41e9f",
   "metadata": {
    "slideshow": {
     "slide_type": "fragment"
    }
   },
   "outputs": [
    {
     "name": "stdout",
     "output_type": "stream",
     "text": [
      "종료\n"
     ]
    }
   ],
   "source": [
    "import random # 실행할 때마다 정수 난수를 발생\n",
    "result = []\n",
    "# 생성된 난수를 result에 저장 -> 0이 나올 때까지.\n",
    "\n",
    "while True:\n",
    "    num = random.randint(-10,10) # -100 ~ 100 사이의 난수\n",
    "    # result.append(num)\n",
    "    if num == 0: # 종료 조건\n",
    "        break\n",
    "    if num < 0: # 음수이면\n",
    "        continue # 저장하는 코드 실행하지 않고 다음 반복 실행\n",
    "    result.append(num)\n",
    "print(\"종료\")"
   ]
  },
  {
   "cell_type": "markdown",
   "id": "8ba8fac7-d7d0-4ffa-ac6e-48f30a6b9a0a",
   "metadata": {
    "slideshow": {
     "slide_type": "slide"
    }
   },
   "source": [
    "### 반복문 연관 함수\n",
    "\n",
    "range([시작값], 멈춤값, [증감값])\n",
    "- 일정한 간격의 연속된 정수를 제공하는 반복가능 객체 생성한다."
   ]
  },
  {
   "cell_type": "code",
   "execution_count": 5,
   "id": "352d937b",
   "metadata": {
    "slideshow": {
     "slide_type": "fragment"
    }
   },
   "outputs": [
    {
     "data": {
      "text/plain": [
       "{1, 2, 3, 4, 5, 6, 7, 8, 9, 10}"
      ]
     },
     "execution_count": 5,
     "metadata": {},
     "output_type": "execute_result"
    }
   ],
   "source": [
    "list(range(1,11))\n",
    "tuple(range(1,11))\n",
    "set(range(1,11))"
   ]
  },
  {
   "cell_type": "markdown",
   "id": "4c775620-8e5b-4532-85c2-849deea8c6ce",
   "metadata": {
    "slideshow": {
     "slide_type": "subslide"
    }
   },
   "source": [
    "enumerate(Iterable,  [, start=정수])\n",
    "- 현재 몇번째 값을 제공하는 지(현재 몇번째 반복인지)를 나타내는 **index**와 제공하는 **원소**를 tuple로 묶어서 반환"
   ]
  },
  {
   "cell_type": "code",
   "execution_count": 6,
   "id": "75ee8510-8184-455e-94b9-354df9538e9f",
   "metadata": {},
   "outputs": [
    {
     "name": "stdout",
     "output_type": "stream",
     "text": [
      "100,000 - 중간 결과\n",
      "200,000 - 중간 결과\n",
      "300,000 - 중간 결과\n",
      "400,000 - 중간 결과\n",
      "500,000 - 중간 결과\n",
      "600,000 - 중간 결과\n",
      "700,000 - 중간 결과\n",
      "800,000 - 중간 결과\n",
      "900,000 - 중간 결과\n",
      "1,000,000 - 중간 결과\n"
     ]
    }
   ],
   "source": [
    "# 1,000,000번 반복 처리\n",
    "# for i in raidxnge(1_000_000):\n",
    "for idx, value in enumerate(range(1_000_000), start=1):\n",
    "    # 처리코드\n",
    "    # 10만번당 한번씩 중간결과를 출력\n",
    "    if idx % 100000 == 0:\n",
    "        print(f\"{format(idx, ',')} - 중간 결과\")"
   ]
  },
  {
   "cell_type": "markdown",
   "id": "55251b93-c0a0-48a5-b114-856ec2834c92",
   "metadata": {
    "slideshow": {
     "slide_type": "subslide"
    }
   },
   "source": [
    "zip(Iterable1, Iterable2, Iterable3 [, .......])\n",
    "- 여러 개의 Iterable 객체를 받아 반복시 같은 index의 값끼리 튜플로 묶어 반환한다."
   ]
  },
  {
   "cell_type": "code",
   "execution_count": 7,
   "id": "1b99057f",
   "metadata": {
    "slideshow": {
     "slide_type": "fragment"
    }
   },
   "outputs": [],
   "source": [
    "# 여러 사람의 정보(이름, 나이, 주소)를 따로 저장\n",
    "names = [\"이순신\", \"유관순\", \"강감찬\"]\n",
    "ages = [30, 40, 50]\n",
    "addresses = [\"서울\", \"인천\", \"부산\"]\n",
    "# 같은 index 값들이 한 사람의 정보"
   ]
  },
  {
   "cell_type": "code",
   "execution_count": 8,
   "id": "422ae71b-ef29-43d2-8e09-4924d62add34",
   "metadata": {},
   "outputs": [
    {
     "name": "stdout",
     "output_type": "stream",
     "text": [
      "이순신 30 서울 0\n",
      "유관순 40 인천 1\n",
      "강감찬 50 부산 2\n"
     ]
    }
   ],
   "source": [
    "# iterable들의 원소의 개수가 다를 경우 가장 적은 개수만큼 반복 조회한다.\n",
    "for name, age, address, value in zip(names, ages, addresses, range(10)):\n",
    "    print(name, age, address, value)"
   ]
  },
  {
   "cell_type": "code",
   "execution_count": 9,
   "id": "390aaad0-43a2-42f6-aba6-8a3b8573ad1b",
   "metadata": {},
   "outputs": [
    {
     "name": "stdout",
     "output_type": "stream",
     "text": [
      "1. 이름: 이순신, 나이: 30, 주소: 서울\n",
      "2. 이름: 유관순, 나이: 40, 주소: 인천\n",
      "3. 이름: 강감찬, 나이: 50, 주소: 부산\n"
     ]
    }
   ],
   "source": [
    "for idx, (name, age, address) in enumerate(zip(names, ages, addresses)):\n",
    "    print(f\"{idx+1}. 이름: {name}, 나이: {age}, 주소: {address}\")"
   ]
  },
  {
   "cell_type": "markdown",
   "id": "d2a41028-a785-4f1b-a3cf-0a85b8994abe",
   "metadata": {},
   "source": [
    "# 느낀 점\n",
    "\n",
    "1. 좋았던 점  \n",
    "   조건문과 반복문을 활용한다면 다양한 데이터 처리가 가능해질 것이다.\n",
    "\n",
    "2. 배운 점  \n",
    "   다양한 조건을 활용한 조건문과 이를 응용한 반복문을 배웠다.\n",
    "\n",
    "3. 아쉬웠던 점\n",
    "   \n",
    "4. 앞으로의 계획  \n",
    "   어떤 공부를 추가적으로 할 지 생각 중이다."
   ]
  }
 ],
 "metadata": {
  "kernelspec": {
   "display_name": "Python 3 (ipykernel)",
   "language": "python",
   "name": "python3"
  },
  "language_info": {
   "codemirror_mode": {
    "name": "ipython",
    "version": 3
   },
   "file_extension": ".py",
   "mimetype": "text/x-python",
   "name": "python",
   "nbconvert_exporter": "python",
   "pygments_lexer": "ipython3",
   "version": "3.11.5"
  }
 },
 "nbformat": 4,
 "nbformat_minor": 5
}
