{
 "cells": [
  {
   "cell_type": "markdown",
   "id": "1057f36d-88dc-421b-b843-29a8767d4615",
   "metadata": {
    "editable": true,
    "slideshow": {
     "slide_type": ""
    },
    "tags": []
   },
   "source": [
    "# 7일차(2024.01.05)\n",
    "\n",
    "- 개요\n",
    "    - 메인모듈\n",
    "    - 예외처리\n",
    "    - 입출력"
   ]
  },
  {
   "cell_type": "markdown",
   "id": "42f6dcbd-ecb4-4c6a-8e8a-484de94202d2",
   "metadata": {
    "editable": true,
    "slideshow": {
     "slide_type": ""
    },
    "tags": []
   },
   "source": [
    "# 메인 모듈\n",
    "\n",
    "- **메인 모듈**\n",
    "    - 현재 실행하고 있는 모듈\n",
    "- **하위 모듈**\n",
    "    - 메인 모듈에서 import 되어 실행되는 모듈\n",
    "- <b>`__name__`</b> 내장 전역변수\n",
    "    - 모듈이 메인 모듈로 시작하는지 여부 확인 할 때 사용한다."
   ]
  },
  {
   "cell_type": "raw",
   "id": "e1254719-78f1-418b-82dc-c84a62ba9b6c",
   "metadata": {},
   "source": [
    "%%writefile my_module.py\n",
    "# 모듈 -> 재사용 가능한 전역변수, 함수, 클래스들을 정의한 스크립트 파일\n",
    "\n",
    "__version__ = 1.0\n",
    "\n",
    "def greet(name):\n",
    "    return f\"{name}님 안녕하세요\"\n",
    "\n",
    "class Person:\n",
    "\n",
    "    def __init__(self, name, age):\n",
    "        self.name = name\n",
    "        self.age = age\n",
    "\n",
    "    def __str__(self):\n",
    "        return f\"이름: {self.name}, 나이: {self.age}\"\n",
    "\n",
    "print(\"my_module.__name__:\", __name__)\n",
    "\n",
    "# 메인 모듈로 실행될 때 실행할 코드 (sub 모듈로 실행될 때는 실행 안돼야함)\n",
    "if __name__ == \"__main__\":\n",
    "    print(\"my_module.__name__:\", __name__)\n",
    "    print(greet(\"이름\"))\n",
    "    p = Person(\"이영수\", 10)\n",
    "    print(p)"
   ]
  },
  {
   "cell_type": "raw",
   "id": "b287ee42-59e6-42f5-910c-49e490ce91fb",
   "metadata": {
    "editable": true,
    "slideshow": {
     "slide_type": ""
    },
    "tags": []
   },
   "source": [
    "%%writefile run.py\n",
    "# run.py에서 my_module의 함수를 사용\n",
    "import my_module as mm\n",
    "print(\"run.__name__:\", __name__)\n",
    "\n",
    "txt = mm.greet(\"홍길동\")\n",
    "print(txt)\n",
    "\n",
    "p = mm.Person(\"이순신\", 30)\n",
    "print(p)\n",
    "\n",
    "txt2 = mm.greet(p.name)\n",
    "print(txt2)"
   ]
  },
  {
   "cell_type": "raw",
   "id": "f27f0322-658b-4a6c-b8b2-fa6163bb3099",
   "metadata": {},
   "source": [
    "run.py 안에 import my_module -> my_module은 서브 모듈\n",
    "\n",
    "서브 모듈의 __name__은 my_module\n",
    "메인 모듈의 __name__은 run"
   ]
  },
  {
   "cell_type": "code",
   "execution_count": 15,
   "id": "e8caaa58-e9a5-475e-8da9-047aee860117",
   "metadata": {},
   "outputs": [
    {
     "name": "stdout",
     "output_type": "stream",
     "text": [
      "my_module.__name__: my_module\n",
      "run.__name__: __main__\n",
      "홍길동님 안녕하세요\n",
      "이름: 이순신, 나이: 30\n",
      "이순신님 안녕하세요\n"
     ]
    }
   ],
   "source": [
    "!python run.py"
   ]
  },
  {
   "cell_type": "code",
   "execution_count": 16,
   "id": "9e487d0d-1e86-4828-80f0-bd2558dacda7",
   "metadata": {
    "editable": true,
    "slideshow": {
     "slide_type": ""
    },
    "tags": []
   },
   "outputs": [
    {
     "name": "stdout",
     "output_type": "stream",
     "text": [
      "my_module.__name__: __main__\n",
      "my_module.__name__: __main__\n",
      "이름님 안녕하세요\n",
      "이름: 이영수, 나이: 10\n"
     ]
    }
   ],
   "source": [
    "!python my_module.py"
   ]
  },
  {
   "cell_type": "markdown",
   "id": "4e56a522-efad-49e5-b643-0511c77d2845",
   "metadata": {
    "editable": true,
    "slideshow": {
     "slide_type": ""
    },
    "tags": []
   },
   "source": [
    "## 3rd party library 설치\n",
    "\n",
    "- 기능을 모아 놓은 것이 **모듈(module)**\n",
    "- 모듈을 모아 놓은 것이 **패키지**\n",
    "- 패키지들을 모아서 놓은 것이 **Library**\n",
    "<br><br>\n",
    "- **PyPI:** 파이썬 공식 라이브러리 저장소 (https://pypi.org/)\n",
    "    - pip tool을 이용해 라이브러리를 관리한다.\n",
    "- `pip install 라이브러리[==version]` \n",
    "    - Library를 설치한다.\n",
    "<br><br>\n",
    "- **Conda Repository:** Anaconda 에서 제공하는 라이브러리 저장소\n",
    "    - conda tool 을 이용해 라이브러리를 관리한다."
   ]
  },
  {
   "cell_type": "markdown",
   "id": "28317587-3d93-4e9c-89e3-8e4a9806de5e",
   "metadata": {
    "editable": true,
    "slideshow": {
     "slide_type": ""
    },
    "tags": []
   },
   "source": [
    "# 예외처리\n",
    "\n",
    "- 오류 중 처리 가능한 것을 Exception(예외)\n",
    "- 예외를 처리하는 것을 Exception Handling"
   ]
  },
  {
   "cell_type": "markdown",
   "id": "d29dbe6d-df00-4a4d-a2d6-9c53b6d3b82e",
   "metadata": {
    "slideshow": {
     "slide_type": "slide"
    }
   },
   "source": [
    "## Exception handling"
   ]
  },
  {
   "cell_type": "code",
   "execution_count": 17,
   "id": "8c0e60cf-189c-434d-81e5-8214dd35add7",
   "metadata": {},
   "outputs": [
    {
     "name": "stdout",
     "output_type": "stream",
     "text": [
      "시작\n"
     ]
    },
    {
     "name": "stdin",
     "output_type": "stream",
     "text": [
      " 0\n"
     ]
    },
    {
     "name": "stdout",
     "output_type": "stream",
     "text": [
      "실행도중 ZeroDivisionError 발생함.\n",
      "프로그램 종료\n"
     ]
    }
   ],
   "source": [
    "# try - except\n",
    "print(\"시작\") # 1.\n",
    "\n",
    "try:\n",
    "    num = int(input()) # 2.\n",
    "    result = 10 // num # 3.\n",
    "    print(\"결과:\", result) # 4.\n",
    "    print(result2)\n",
    "except ValueError: # except Exception 이름 => Exception 이름의 예외만 처리\n",
    "    print(\"실행도중 ValueError 발생했습니다.\") # 예외처리\n",
    "except ZeroDivisionError:\n",
    "    print(\"실행도중 ZeroDivisionError 발생함.\")\n",
    "except: # 위 두개 Exception을 제외한 나머지 Exception을 처리하는 block\n",
    "    print(\"ValueError, ZDE 이외의 예외가 발생함.\")\n",
    "\n",
    "print(\"프로그램 종료\") # 5.\n"
   ]
  },
  {
   "cell_type": "raw",
   "id": "4209bd0c-a98d-449d-a934-43f898ef2fa1",
   "metadata": {},
   "source": [
    "- 예외(Exception)가 발생하지 않은 경우 실행 순서\n",
    "    - 1 => 2 => 3 => 4 => 5 ('예외처리'는 실행이 안됨)\n",
    "- 예외가 발생한 경우 (2번 라인에서 발생)\n",
    "    - 1 => 2(x) => 예외처리 => 5\n",
    "    - 실행안된 라인: 2, 3, 4\n",
    "\n",
    "0을 입력하면 3번에서 에러 발생"
   ]
  },
  {
   "cell_type": "raw",
   "id": "89505081-8690-4eb5-9aaf-bc1a57037d45",
   "metadata": {
    "slideshow": {
     "slide_type": "subslide"
    }
   },
   "source": [
    "# finally 구문\n",
    "- 예외 발생여부와 관계없이 무조건 실행되는 코드블록\n",
    "- 구문순서: try - except - finally"
   ]
  },
  {
   "cell_type": "code",
   "execution_count": 18,
   "id": "668f08ba-d5c8-4d6c-8103-e9dc170de5cd",
   "metadata": {},
   "outputs": [
    {
     "name": "stdout",
     "output_type": "stream",
     "text": [
      "# run.py에서 my_module의 함수를 사용\n",
      "import my_module as mm\n",
      "print(\"run.__name__:\", __name__)\n",
      "\n",
      "txt = mm.greet(\"홍길동\")\n",
      "print(txt)\n",
      "\n",
      "p = mm.Person(\"이순신\", 30)\n",
      "print(p)\n",
      "\n",
      "txt2 = mm.greet(p.name)\n",
      "print(txt2)\n",
      "\n"
     ]
    }
   ],
   "source": [
    "# run.py 파일과 연결해서 그 안의 text를 읽기.\n",
    "\n",
    "try:\n",
    "    # 1. 파일과 연결 => 사용\n",
    "    fr = open(\"run.py\", encoding=\"UTF-8\")\n",
    "    # 2. 읽기\n",
    "    txt = fr.read()\n",
    "    print(txt) # 사용\n",
    "except:\n",
    "    print(\"처리\")\n",
    "finally:\n",
    "    # 3. 연결 끊기(닫기) => 사용종료\n",
    "    fr.close()"
   ]
  },
  {
   "cell_type": "raw",
   "id": "72dad697-3f15-496c-a210-2d6573351ea6",
   "metadata": {
    "slideshow": {
     "slide_type": "slide"
    }
   },
   "source": [
    "# Exception 발생 시키기\n",
    "- Exception 상황을 클래스로 정의해 사용한다."
   ]
  },
  {
   "cell_type": "code",
   "execution_count": 19,
   "id": "e1fdaa13-daaf-4f63-9637-7c4158a58e91",
   "metadata": {
    "slideshow": {
     "slide_type": "fragment"
    }
   },
   "outputs": [],
   "source": [
    "# 월 1 ~ 12 이외의 값이 대입됐을 때 발생시킬 Exception 클래스 정의\n",
    "class InvalidMonthException(Exception):\n",
    "\n",
    "    def __init__(self, invalid_month):\n",
    "        # Exception이 발생된 상황과 관련된 값들을 초기화\n",
    "        self.invalid_month = invalid_month\n",
    "\n",
    "    def __str__(self):\n",
    "        # 오류 메시지를 문자열로 반환\n",
    "        return f\"{self.invalid_month}는 잘못된 월입니다. 1 ~ 12 사이의 값을 넣으세요.\""
   ]
  },
  {
   "cell_type": "markdown",
   "id": "91d0e20c-930a-4811-8461-c41db6fd6828",
   "metadata": {
    "slideshow": {
     "slide_type": "slide"
    }
   },
   "source": [
    "Exception 발생시키기\n",
    "\n",
    "- 더 이상 작업을 진행할 수 없으면 Exception을 강제로 발생\n",
    "- **Call Stack Mechanism**"
   ]
  },
  {
   "cell_type": "code",
   "execution_count": 20,
   "id": "64ceb66f-f3de-47d8-a2e9-0aac827b2008",
   "metadata": {
    "slideshow": {
     "slide_type": "fragment"
    }
   },
   "outputs": [
    {
     "name": "stdout",
     "output_type": "stream",
     "text": [
      "a시작\n",
      "b시작\n",
      "c시작\n",
      "처리=========\n",
      "b종료\n",
      "a종료\n"
     ]
    }
   ],
   "source": [
    "# call stack mechanism\n",
    "def a():\n",
    "    print(\"a시작\")\n",
    "    b()\n",
    "    print(\"a종료\")\n",
    "\n",
    "def b():\n",
    "    print(\"b시작\")\n",
    "    try:\n",
    "        c()\n",
    "    except:\n",
    "        print(\"처리=========\")\n",
    "    print(\"b종료\")\n",
    "\n",
    "def c():\n",
    "    print(\"c시작\")\n",
    "    print(1/0)\n",
    "    print(\"c종료\")\n",
    "\n",
    "if __name__ == \"__main__\":\n",
    "    a()"
   ]
  },
  {
   "cell_type": "raw",
   "id": "11f5d680-1bf5-4ad4-8b5c-64559e6b23a8",
   "metadata": {
    "slideshow": {
     "slide_type": "subslide"
    }
   },
   "source": [
    "# raise 구문\n",
    "- Exception을 강제로 발생시킨다.\n",
    "\n",
    "- return과 raise 구문이 실행되면 모두 caller로 돌아간다.\n",
    "- return은 정상적으로 끝나서 돌아가는 의미\n",
    "- raise는 실행도중 문제가 생겨 비정상적으로 끝나서 돌아가는 의미\n",
    "\n",
    "비정상적인 상황 정보를 가지는 Exception 객체를 반환값으로 가지고 돌아간다."
   ]
  },
  {
   "cell_type": "code",
   "execution_count": 21,
   "id": "34f522df-0743-403a-94f6-d2c2a63110d5",
   "metadata": {
    "editable": true,
    "slideshow": {
     "slide_type": ""
    },
    "tags": []
   },
   "outputs": [],
   "source": [
    "def save_month(month):\n",
    "    \"\"\"월을 저장하는 함수\n",
    "    Parameter:\n",
    "        month: int - 저장할 월. 1 ~ 12\n",
    "    Return:\n",
    "    Raise:\n",
    "        InvalidMonthException - 잘못된 월을 받았을 때 발생\n",
    "    \"\"\"\n",
    "    if month < 1 or month > 12:\n",
    "        # print(\"저장할 수 없음\")\n",
    "        raise InvalidMonthException(month) # return은 정상적으로 마무리했다는 의미 -> 다음 작업 day가 수행됨\n",
    "    else:\n",
    "        print(f\"월로 {month}를 저장합니다.\")\n",
    "\n",
    "def save_day(day):\n",
    "    print(f\"일로 {day}를 저장합니다.\")"
   ]
  },
  {
   "cell_type": "code",
   "execution_count": 22,
   "id": "3f0466c6-a01c-4c19-a061-313c7e091e50",
   "metadata": {},
   "outputs": [
    {
     "name": "stdout",
     "output_type": "stream",
     "text": [
      "월로 10를 저장합니다.\n",
      "일로 3를 저장합니다.\n"
     ]
    }
   ],
   "source": [
    "save_month(10)\n",
    "save_day(3)"
   ]
  },
  {
   "cell_type": "code",
   "execution_count": 23,
   "id": "9edb52b0-918f-4b11-9103-d0dec4b7d807",
   "metadata": {},
   "outputs": [
    {
     "name": "stdout",
     "output_type": "stream",
     "text": [
      "처리 -10는 잘못된 월입니다. 1 ~ 12 사이의 값을 넣으세요.\n",
      "다음 작업\n"
     ]
    }
   ],
   "source": [
    "try:\n",
    "    save_month(-10)\n",
    "    save_day(3)\n",
    "except InvalidMonthException as e: # e: 발생된 Exception 객체를 받을 변수\n",
    "    print('처리', e)\n",
    "\n",
    "print(\"다음 작업\")"
   ]
  },
  {
   "cell_type": "markdown",
   "id": "e3baa47a-3f25-4eb5-9e3c-b8cf75d8cb29",
   "metadata": {
    "editable": true,
    "slideshow": {
     "slide_type": ""
    },
    "tags": []
   },
   "source": [
    "# 입출력\n",
    "\n",
    "파일 열기(연결)\n",
    "- `open(file, mode='r', encoding=None)`\n",
    "\n",
    " \n",
    "|mode타입|mode문자|설명|\n",
    "|:-|-|-|\n",
    "|목적|r|읽기 모드-목적의 기본 모드|\n",
    "||w|새로 쓰기 모드|\n",
    "||a|이어 쓰기 모드|\n",
    "||x|새로 쓰기모드-연결하려는 파일이 있으면 Exception발생|\n",
    "|데이터종류|b|binary 모드|\n",
    "||t|Text모드-text데이터 입출력시 사용|\n",
    "    \n",
    "\n",
    "출력 메소드\n",
    "- write(출력할 Data)\n",
    "- writelines(문자열을 가진 컬렉션)\n",
    "    - 리스트, 튜플, 집합이 원소로 가진 문자열들을 한번에 출력한다."
   ]
  },
  {
   "cell_type": "code",
   "execution_count": 24,
   "id": "6b5b67b1-0033-4d0d-b8b3-0bac1ab92e7c",
   "metadata": {
    "slideshow": {
     "slide_type": "fragment"
    }
   },
   "outputs": [],
   "source": [
    "import os\n",
    "# 파일들을 저장할 디렉토리 생성\n",
    "os.makedirs(r\"c:\\a\\b\\c\",\n",
    "           exist_ok=True) # 디렉토리가 이미 있으면 안만든다.\n",
    "                            # False(기본) - 있으면 Exception 발생"
   ]
  },
  {
   "cell_type": "code",
   "execution_count": 25,
   "id": "87244845-1061-4a7b-8272-868d9564492c",
   "metadata": {},
   "outputs": [],
   "source": [
    "## 생성한 파일들을 저장할 디렉토리를 생성\n",
    "os.makedirs(\"output\", exist_ok=True)"
   ]
  },
  {
   "cell_type": "code",
   "execution_count": 26,
   "id": "4d531aec-6b71-462d-b810-c7921edff7df",
   "metadata": {},
   "outputs": [
    {
     "name": "stdout",
     "output_type": "stream",
     "text": [
      "연결종료 여부: False\n",
      "close 후 연결종료 여부: True\n"
     ]
    }
   ],
   "source": [
    "## Text 출력 작업\n",
    "# 1. 연결\n",
    "fw = open(\"output/a.txt\", # 연결대상파일경로 -> 절대/상\n",
    "         \"wt\", # 연결 모드(목적) - w: 쓰기, t: 텍스트(str)\n",
    "         encoding=\"utf-8\" # encoding 방식. 생략: os 기본 인코딩 방식\n",
    "         ) \n",
    "# 2. 쓰기작업 (출력-output)\n",
    "fw.write(\"안녕하세요.\\n반갑습니다.\\nabcdefg\\n\")\n",
    "fw.write(\"123456\")\n",
    "fw.write(\"1000\")\n",
    "\n",
    "# 3. 파일연결 닫기(끊기 - 자원반납)\n",
    "print(\"연결종료 여부:\", fw.closed) # True: 닫힌 상태, False: 연결상태\n",
    "fw.close()\n",
    "print(\"close 후 연결종료 여부:\", fw.closed)"
   ]
  },
  {
   "cell_type": "code",
   "execution_count": 27,
   "id": "65f1ff0d-226a-42b0-9c1f-3ff31289c67b",
   "metadata": {},
   "outputs": [
    {
     "name": "stdout",
     "output_type": "stream",
     "text": [
      "<class 'str'>\n",
      "안녕하세요.\n",
      "반갑습니다.\n",
      "abcdefg\n",
      "1234561000\n"
     ]
    }
   ],
   "source": [
    "## 입력작업 (위의 출력 내용 읽어들이기)\n",
    "# 1. 연결\n",
    "fr = open(\"output/a.txt\", # 연결대상파일경로\n",
    "         \"rt\", # 모드: r - 읽기, t - text\n",
    "         encoding=\"utf-8\")\n",
    "\n",
    "# 2. 입력(읽기)\n",
    "txt = fr.read()\n",
    "print(type(txt))\n",
    "print(txt)\n",
    "\n",
    "# 3. 연결닫기 (자원반납)\n",
    "fr.close()"
   ]
  },
  {
   "cell_type": "code",
   "execution_count": 28,
   "id": "1f838159-7e24-40d4-87ff-b82b8a151b9a",
   "metadata": {},
   "outputs": [],
   "source": [
    "txt_list = [\"안녕하세요\\n\", \"반갑습니다.\\n\", \"저는 홍길동입니다.\\n\"]\n",
    "fw = open(\"output/b.txt\", \"wt\", encoding=\"utf-8\")\n",
    "# for txt in txt_list:\n",
    "#     fw.write(txt)\n",
    "\n",
    "fw.writelines(txt_list)\n",
    "fw.close()"
   ]
  },
  {
   "cell_type": "markdown",
   "id": "f87e0dfc-d2b1-4b4d-b56e-90b36cc6c3a5",
   "metadata": {
    "slideshow": {
     "slide_type": "slide"
    }
   },
   "source": [
    "입력 메소드\n",
    "- read() : 문자열, bytes \n",
    "    - 연결된 파일의 내용을 한번에 모두 읽어 들인다.\n",
    "- readline()\n",
    "    - 한 줄만 읽는다.\n",
    "- readlines()\n",
    "    - 다 읽은 뒤 각각의 라인을 리스트로 반환\n",
    "- Text Input Stream은 Iterable 타입"
   ]
  },
  {
   "cell_type": "code",
   "execution_count": 29,
   "id": "e6bf8429-6478-462f-b06c-e540f0618533",
   "metadata": {
    "slideshow": {
     "slide_type": "fragment"
    }
   },
   "outputs": [
    {
     "name": "stdout",
     "output_type": "stream",
     "text": [
      "readlines(): 한번에 다 읽은 것을 라인별로 리스트에 담아 반환\n",
      "-------------\n",
      "['안녕하세요.\\n', '반갑습니다.\\n', 'abcdefg\\n', '1234561000']\n",
      "-------------\n"
     ]
    }
   ],
   "source": [
    "fr = open(\"output/a.txt\", \"rt\", encoding=\"utf-8\")\n",
    "# print(\"read(): 한번에 다 읽기\")\n",
    "print(\"readlines(): 한번에 다 읽은 것을 라인별로 리스트에 담아 반환\")\n",
    "print(\"-------------\")\n",
    "print(fr.readlines())\n",
    "print(\"-------------\")\n",
    "fr.close()"
   ]
  },
  {
   "cell_type": "code",
   "execution_count": 30,
   "id": "f5d52691-971a-4b45-a6be-52674262c669",
   "metadata": {},
   "outputs": [
    {
     "name": "stdout",
     "output_type": "stream",
     "text": [
      "readline(): 한줄씩 읽기 => enter 포함\n",
      "-------------\n",
      "안녕하세요.\n",
      "\n",
      "반갑습니다.\n",
      "-------------\n"
     ]
    }
   ],
   "source": [
    "fr = open(\"output/a.txt\", \"rt\", encoding=\"utf-8\")\n",
    "print(\"readline(): 한줄씩 읽기 => enter 포함\")\n",
    "print(\"-------------\")\n",
    "print(fr.readline()) # .strip(): 엔터 제거\n",
    "print(fr.readline(), end=\"\") # end=\"\": 엔터 제거\n",
    "print(\"-------------\")\n",
    "fr.close()"
   ]
  },
  {
   "cell_type": "code",
   "execution_count": 31,
   "id": "d247899a-c4fe-4454-ab1a-2e9a493ef9be",
   "metadata": {},
   "outputs": [
    {
     "name": "stdout",
     "output_type": "stream",
     "text": [
      "1, 안녕하세요.\n",
      "2, 반갑습니다.\n",
      "3, abcdefg\n",
      "4, 1234561000\n"
     ]
    }
   ],
   "source": [
    "# 라인단위 처리\n",
    "fr = open(\"output/a.txt\", \"rt\", encoding=\"utf-8\")\n",
    "for index, txt in enumerate(fr): # 한번 반복시마다 한줄을 읽어서 반환\n",
    "    print(f\"{index+1}, {txt.strip()}\")\n",
    "fr.close()"
   ]
  },
  {
   "cell_type": "markdown",
   "id": "0f5089aa-6902-44f7-a529-c3912bc716d7",
   "metadata": {
    "slideshow": {
     "slide_type": "slide"
    }
   },
   "source": [
    "**with block은 block을 벗어나면 자동으로 연결을 닫아 준다.** "
   ]
  },
  {
   "cell_type": "code",
   "execution_count": 32,
   "id": "3ca435ac-89e7-42af-9806-da9c2d7b91cd",
   "metadata": {
    "slideshow": {
     "slide_type": "fragment"
    }
   },
   "outputs": [
    {
     "name": "stdin",
     "output_type": "stream",
     "text": [
      "파일명: d\n"
     ]
    },
    {
     "name": "stdout",
     "output_type": "stream",
     "text": [
      "예외발생: write() argument must be str, not int\n"
     ]
    }
   ],
   "source": [
    "filename = input(\"파일명:\")\n",
    "\n",
    "try:\n",
    "    fw = open(f\"output/{filename}.txt\",\n",
    "             \"xt\" # x: 없는 파일과 연결해서 출력. 파일이 있으면 Exception 발생\n",
    "             ) # FileExistsError 발생 가능성이 있는 코드\n",
    "\n",
    "    fw.write(\"안녕하세요.\")\n",
    "    fw.write(\"안녕하세요.\")\n",
    "    fw.write(\"안녕하세요.\")\n",
    "    fw.write(1000) # TypeError\n",
    "\n",
    "    # fw.close() 예외 발생 후 close를 실행하지 않고 넘어가는 문제 -> finally\n",
    "except Exception as e:\n",
    "    print(\"예외발생:\", e)\n",
    "finally:\n",
    "    if fw:\n",
    "        fw.close()"
   ]
  },
  {
   "cell_type": "code",
   "execution_count": 33,
   "id": "df5a016f-f11f-4a39-9d86-c484cf0af066",
   "metadata": {},
   "outputs": [
    {
     "name": "stdout",
     "output_type": "stream",
     "text": [
      "with block 종료 -> close는 자동으로 실행\n"
     ]
    }
   ],
   "source": [
    "# 연결\n",
    "with open(\"output/e.txt\", \"wt\", encoding=\"utf-8\") as fw:\n",
    "    try:\n",
    "        fw.write(\"안녕하세요\\n\")\n",
    "        fw.write(\"abcde\")\n",
    "    except:\n",
    "        print(\"예외발생\")\n",
    "\n",
    "print(\"with block 종료 -> close는 자동으로 실행\")"
   ]
  },
  {
   "cell_type": "code",
   "execution_count": 34,
   "id": "af02bf29-3545-40cf-ae86-b2f0ec449e2a",
   "metadata": {},
   "outputs": [
    {
     "name": "stdout",
     "output_type": "stream",
     "text": [
      "종료\n"
     ]
    }
   ],
   "source": [
    "# a.txt를 읽어서 a2.txt에 출력\n",
    "try:\n",
    "    with open(\"output/a.txt\", \"rt\", encoding=\"utf-8\") as fr:\n",
    "        with open(\"output/a2.txt\", \"wt\", encoding=\"utf-8\") as fw:\n",
    "            for line_num, line_txt in enumerate(fr, start=1):\n",
    "                fw.write(f\"{line_num}. {line_txt}\")\n",
    "\n",
    "except Exception as e:\n",
    "    print(e)\n",
    "print(\"종료\")"
   ]
  },
  {
   "cell_type": "markdown",
   "id": "b25401f2-5616-410d-bc8d-a350884bb723",
   "metadata": {},
   "source": [
    "`bytes` type\n",
    "- 다양한 데이터 타입의 값을 출력하기 위해 **bytes 타입으로 변환** 해야한다."
   ]
  },
  {
   "cell_type": "code",
   "execution_count": 35,
   "id": "6a201bdc-939f-4d8e-b8ed-719aec959f86",
   "metadata": {},
   "outputs": [
    {
     "name": "stdout",
     "output_type": "stream",
     "text": [
      "<class 'bytes'> <class 'bytes'>\n"
     ]
    }
   ],
   "source": [
    "a = \"안녕\"\n",
    "b = 30\n",
    "with open(\"a10.dat\", \"wb\") as fw: # binary 출력 => bytes로 출력값을 받는다.\n",
    "    a_byte = a.encode(\"utf-8\")\n",
    "    b_byte = b.to_bytes(1, byteorder=\"little\", signed=True) # 숫자->byte 변환. signed: 양수, 음수 부호\n",
    "    print(type(a_byte), type(a_byte))\n",
    "    fw.write(a_byte) # 값: bytes\n",
    "    fw.write(b_byte)"
   ]
  },
  {
   "cell_type": "markdown",
   "id": "e0c06687-7ce8-4d83-9abc-d068214cbc40",
   "metadata": {
    "slideshow": {
     "slide_type": "slide"
    }
   },
   "source": [
    "## pickle 모듈\n",
    "- binary data 입출력을 도와주는 표준 라이브러리.\n",
    "\n",
    "- **메소드**\n",
    "    - dump(저장할 객체, fw) : 출력\n",
    "    - load(fr): 입력 - 읽은 객체를 반환한다."
   ]
  },
  {
   "cell_type": "code",
   "execution_count": 36,
   "id": "27a3ddab-128b-4756-827b-23957a291473",
   "metadata": {
    "slideshow": {
     "slide_type": "fragment"
    }
   },
   "outputs": [],
   "source": [
    "import pickle\n",
    "i = 10\n",
    "with open(\"output/data.pkl\", \"wb\") as fw:\n",
    "    pickle.dump(i, fw) # i를 fw를 이용해서 출력"
   ]
  },
  {
   "cell_type": "code",
   "execution_count": 37,
   "id": "bb2c8198-a311-42e3-83fb-26f2647e0da0",
   "metadata": {},
   "outputs": [
    {
     "name": "stdout",
     "output_type": "stream",
     "text": [
      "<class 'int'> 10\n"
     ]
    }
   ],
   "source": [
    "# 읽기\n",
    "with open('output/data.pkl', 'rb') as fr:\n",
    "    j = pickle.load(fr)\n",
    "    print(type(j), j)"
   ]
  },
  {
   "cell_type": "code",
   "execution_count": 38,
   "id": "ef7f496f-d464-4944-97b3-b0e71123da62",
   "metadata": {},
   "outputs": [],
   "source": [
    "l = [True, \"홍길동\", 30, 100.234]\n",
    "with open(\"output/list.pkl\", \"wb\") as fw:\n",
    "    pickle.dump(l, fw)"
   ]
  },
  {
   "cell_type": "code",
   "execution_count": 39,
   "id": "b6748790-db36-475d-bec9-9323bf94a82c",
   "metadata": {},
   "outputs": [
    {
     "name": "stdout",
     "output_type": "stream",
     "text": [
      "[True, '홍길동', 30, 100.234]\n"
     ]
    }
   ],
   "source": [
    "with open(\"output/list.pkl\", \"rb\") as fr:\n",
    "    read_list = pickle.load(fr)\n",
    "\n",
    "print(read_list)"
   ]
  },
  {
   "cell_type": "code",
   "execution_count": 40,
   "id": "876403b4-31d5-47e5-8423-9118eb494de0",
   "metadata": {},
   "outputs": [],
   "source": [
    "class Person:\n",
    "\n",
    "    def __init__(self, name, age):\n",
    "        self.name = name\n",
    "        self.age = age\n",
    "\n",
    "    def __str__(self):\n",
    "        return f\"{self.name}, {self.age}\""
   ]
  },
  {
   "cell_type": "code",
   "execution_count": 41,
   "id": "b4251a0b-86af-4ebd-b8cf-c5a1dcd2b6ea",
   "metadata": {},
   "outputs": [],
   "source": [
    "p = Person(\"이순신\",33)\n",
    "\n",
    "with open(\"output/person.pkl\", \"wb\") as fw:\n",
    "    pickle.dump(p, fw)"
   ]
  },
  {
   "cell_type": "code",
   "execution_count": 42,
   "id": "8896fe90-1b45-46e2-8989-21a8712869a8",
   "metadata": {},
   "outputs": [],
   "source": [
    "with open(\"output/person.pkl\", \"rb\") as fr:\n",
    "    saved_p = pickle.load(fr)"
   ]
  },
  {
   "cell_type": "code",
   "execution_count": 43,
   "id": "86336d68-4e86-4ca0-94f1-f6f52b52be1b",
   "metadata": {},
   "outputs": [
    {
     "name": "stdout",
     "output_type": "stream",
     "text": [
      "이순신, 33\n",
      "<class '__main__.Person'>\n"
     ]
    }
   ],
   "source": [
    "print(saved_p)\n",
    "print(type(saved_p))"
   ]
  },
  {
   "cell_type": "code",
   "execution_count": 44,
   "id": "28af591c-01d1-4bfe-8b5a-07cf45b37cf3",
   "metadata": {},
   "outputs": [
    {
     "name": "stdout",
     "output_type": "stream",
     "text": [
      "이순신 33\n"
     ]
    }
   ],
   "source": [
    "print(saved_p.name, saved_p.age)"
   ]
  },
  {
   "cell_type": "markdown",
   "id": "b971ab59-d1be-4bd1-95a7-4742e50a9cb4",
   "metadata": {
    "slideshow": {
     "slide_type": "skip"
    }
   },
   "source": [
    "- ## 간단한 CLI 기반 메모장\n",
    "    1. 사용자로부터 파일명을 입력받는다.\n",
    "    2. 사용자로부터 파일에 저장할 문장을 입력받아서 파일에 저장한다.\n",
    "        - 한줄씩 입력받는다.\n",
    "        - 사용자가 !q 를 입력하면 저장후 종료한다.\n",
    "    3. 사용자가 저장한 파일을 읽어서 출력한다.\n"
   ]
  },
  {
   "cell_type": "code",
   "execution_count": 45,
   "id": "5dfad683-b013-4d32-82d8-95aec96f1c2a",
   "metadata": {},
   "outputs": [
    {
     "name": "stdout",
     "output_type": "stream",
     "text": [
      "Writing simple_momo.py\n"
     ]
    }
   ],
   "source": [
    "%%writefile simple_momo.py\n",
    "\n",
    "import os\n",
    "def memo():\n",
    "    # 디렉토리 생성\n",
    "    os.makedirs(\"output\", exist_ok=True)\n",
    "    print(\"저장할 파일명을 입력하세요.\")\n",
    "    filename = input(\"파일명: \")\n",
    "    print(\"=\"*50)\n",
    "    \n",
    "    with open(f\"output/{filename}\", \"wt\", encoding=\"utf-8\") as fw:\n",
    "        print(\"저장할 내용을 입력하세요.\")\n",
    "        print(\"=\"*50)\n",
    "        while True:\n",
    "            line_txt = input(\">>\")\n",
    "            if line_txt == \"!q\":\n",
    "                break\n",
    "            fw.write(line_txt+\"\\n\")\n",
    "\n",
    "if __name__ == \"__main__\":\n",
    "    memo()"
   ]
  },
  {
   "cell_type": "code",
   "execution_count": 46,
   "id": "0a57ca3a-6f14-4a8f-9fe1-b6a0faed5939",
   "metadata": {},
   "outputs": [
    {
     "name": "stdout",
     "output_type": "stream",
     "text": [
      "저장할 파일명을 입력하세요.\n"
     ]
    },
    {
     "name": "stdin",
     "output_type": "stream",
     "text": [
      "파일명:  my_text.txt\n"
     ]
    },
    {
     "name": "stdout",
     "output_type": "stream",
     "text": [
      "==================================================\n",
      "저장할 내용을 입력하세요.\n",
      "==================================================\n"
     ]
    },
    {
     "name": "stdin",
     "output_type": "stream",
     "text": [
      ">> aaa\n",
      ">> bbb\n",
      ">> !q\n"
     ]
    }
   ],
   "source": [
    "from simple_momo import memo\n",
    "memo()"
   ]
  },
  {
   "cell_type": "markdown",
   "id": "aca7769e-7127-42ab-9b48-98d50b595812",
   "metadata": {
    "editable": true,
    "slideshow": {
     "slide_type": ""
    },
    "tags": []
   },
   "source": [
    "- ## CSV 데이터파일 조회\n",
    "member.csv 파일을 읽어서 각 열의 값(속성값)들을 리스트에 담는다.  \n",
    "이름은 names, 나이는 ages, 주소는 addresses 리스트에 넣는다.\n",
    "- 단 첫줄은 head이므로 읽지 않는다.\n",
    "- 참고 함수: 문자열 split(), for문 관련 enumerate()\n",
    "\n",
    "```\n",
    "이름,나이,주소\n",
    "이순신,17,서울\n",
    "유관순,27,광주\n",
    "홍길동,20,서울\n",
    "김영수,30,인천\n",
    "박영희,23,부산\n",
    "```"
   ]
  },
  {
   "cell_type": "code",
   "execution_count": 47,
   "id": "6cd2df8f-0da6-4622-b0f7-13ea8cedd216",
   "metadata": {},
   "outputs": [
    {
     "name": "stdout",
     "output_type": "stream",
     "text": [
      "Writing member.csv\n"
     ]
    }
   ],
   "source": [
    "%%writefile member.csv\n",
    "이름,나이,주소\n",
    "이순신,17,서울\n",
    "유관순,27,광주\n",
    "홍길동,20,서울\n",
    "김영수,30,인천\n",
    "박영희,23,부산"
   ]
  },
  {
   "cell_type": "code",
   "execution_count": 48,
   "id": "29ef43a8-3649-4601-848d-9f35c913671c",
   "metadata": {},
   "outputs": [],
   "source": [
    "names, ages, addresses = [],[],[]\n",
    "\n",
    "with open(\"member.csv\", \"rt\", encoding=\"utf-8\") as fr:\n",
    "    for idx, line_txt in enumerate(fr):\n",
    "        if idx == 0:\n",
    "            continue\n",
    "        name, age, address = line_txt.strip().split(\",\")\n",
    "        names.append(name)\n",
    "        ages.append(age)\n",
    "        addresses.append(address)"
   ]
  },
  {
   "cell_type": "code",
   "execution_count": 49,
   "id": "9f324422-28c8-496d-9410-0e7555d95f91",
   "metadata": {},
   "outputs": [
    {
     "name": "stdout",
     "output_type": "stream",
     "text": [
      "['이순신', '유관순', '홍길동', '김영수', '박영희']\n",
      "['17', '27', '20', '30', '23']\n",
      "['서울', '광주', '서울', '인천', '부산']\n"
     ]
    }
   ],
   "source": [
    "print(names)\n",
    "print(ages)\n",
    "print(addresses)"
   ]
  }
 ],
 "metadata": {
  "kernelspec": {
   "display_name": "Python 3 (ipykernel)",
   "language": "python",
   "name": "python3"
  },
  "language_info": {
   "codemirror_mode": {
    "name": "ipython",
    "version": 3
   },
   "file_extension": ".py",
   "mimetype": "text/x-python",
   "name": "python",
   "nbconvert_exporter": "python",
   "pygments_lexer": "ipython3",
   "version": "3.11.5"
  },
  "toc": {
   "base_numbering": 1
  }
 },
 "nbformat": 4,
 "nbformat_minor": 5
}
