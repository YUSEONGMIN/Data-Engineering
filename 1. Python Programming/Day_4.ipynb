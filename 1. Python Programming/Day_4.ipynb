{
 "cells": [
  {
   "cell_type": "markdown",
   "id": "96abaec1-9609-4988-9a08-d6daa1c65c21",
   "metadata": {},
   "source": [
    "# 4일차(2024.01.02)\n",
    "- 개요\n",
    "    - 컴프리헨션\n",
    "    - 함수\n",
    "    - 매개변수\n",
    "    - 지역변수/전역변수"
   ]
  },
  {
   "cell_type": "markdown",
   "id": "a95731bf-c42b-4723-ba5e-8c9fc01e46d0",
   "metadata": {
    "slideshow": {
     "slide_type": "subslide"
    }
   },
   "source": [
    "# 컴프리헨션(Comprehension)\n",
    "\n",
    "- 기존 Iterable의 원소들을 이용해서 새로운 자료구조(List, Dictionary, Set)를 생성하는 구문.\n",
    "    - 기존 Iterable의 **원소들을 처리한 결과**나  **특정 조건이 True인 값들을** 새로운 자료구조에 넣을때 사용."
   ]
  },
  {
   "cell_type": "code",
   "execution_count": 1,
   "id": "e04827d9",
   "metadata": {
    "slideshow": {
     "slide_type": "fragment"
    }
   },
   "outputs": [
    {
     "data": {
      "text/plain": [
       "[10, 20, 30, 40, 50, 60, 70, 80, 90]"
      ]
     },
     "execution_count": 1,
     "metadata": {},
     "output_type": "execute_result"
    }
   ],
   "source": [
    "l1 = list(range(1,10))\n",
    "# l1의 모든 원소들의 10배한 값을 가지는 리스트\n",
    "result = []\n",
    "for v in l1:\n",
    "    result.append(v * 10)\n",
    "result"
   ]
  },
  {
   "cell_type": "code",
   "execution_count": 2,
   "id": "07f9e4b5-fd91-4f82-b6e2-cf84399c9657",
   "metadata": {},
   "outputs": [
    {
     "data": {
      "text/plain": [
       "[10, 20, 30, 40, 50, 60, 70, 80, 90]"
      ]
     },
     "execution_count": 2,
     "metadata": {},
     "output_type": "execute_result"
    }
   ],
   "source": [
    "result2 = [v * 10 for v in l1] # list comprehension\n",
    "result2"
   ]
  },
  {
   "cell_type": "code",
   "execution_count": 3,
   "id": "c8173ae6-d719-4a8a-920f-8b60d472ed4d",
   "metadata": {},
   "outputs": [
    {
     "data": {
      "text/plain": [
       "{10, 20, 30, 40, 50, 60, 70, 80, 90}"
      ]
     },
     "execution_count": 3,
     "metadata": {},
     "output_type": "execute_result"
    }
   ],
   "source": [
    "{v*10 for v in l1} # set comprehension"
   ]
  },
  {
   "cell_type": "code",
   "execution_count": 4,
   "id": "3e59737d-e04d-4708-aa6e-643d1d65bf1e",
   "metadata": {},
   "outputs": [
    {
     "data": {
      "text/plain": [
       "{'key-1': 10,\n",
       " 'key-2': 20,\n",
       " 'key-3': 30,\n",
       " 'key-4': 40,\n",
       " 'key-5': 50,\n",
       " 'key-6': 60,\n",
       " 'key-7': 70,\n",
       " 'key-8': 80,\n",
       " 'key-9': 90}"
      ]
     },
     "execution_count": 4,
     "metadata": {},
     "output_type": "execute_result"
    }
   ],
   "source": [
    "{f\"key-{v}\":v*10 for v in l1} # dictionary comprehension"
   ]
  },
  {
   "cell_type": "code",
   "execution_count": 5,
   "id": "56f99717-c54c-4098-b120-4ffc825570bc",
   "metadata": {},
   "outputs": [
    {
     "data": {
      "text/plain": [
       "[2, 4, 6, 8]"
      ]
     },
     "execution_count": 5,
     "metadata": {},
     "output_type": "execute_result"
    }
   ],
   "source": [
    "[v for v in l1 if v % 2 ==0] # if 조건이 True인 v만 리스트에 추가"
   ]
  },
  {
   "cell_type": "markdown",
   "id": "c4e0e733-829d-4bfd-abe7-4e31f5a1bd14",
   "metadata": {
    "slideshow": {
     "slide_type": "slide"
    }
   },
   "source": [
    "# 함수\n",
    "- 함수란 입력변수와 출력변수간의 대응 관계를 정의한 것을 말한다.\n",
    "    - 함수는 값을 **입력(Input)을** 받아서 **처리 후** 처리결과를 **출력(Output)하는** 일련의 과정을 정의한 것을 말한다.\n",
    "    - 만들어진 함수는 동일한 작업이 필요할 때 마다 재사용될 수 있다.\n",
    "    - 파이썬에서 함수는 일급 시민 객체(First Class Citizen/First Class Object)이다."
   ]
  },
  {
   "cell_type": "code",
   "execution_count": 6,
   "id": "46844a24-21aa-4d96-9f57-e2d2dac2b8a8",
   "metadata": {
    "slideshow": {
     "slide_type": "fragment"
    }
   },
   "outputs": [
    {
     "name": "stdout",
     "output_type": "stream",
     "text": [
      "안녕하세요.\n",
      "반갑습니다.\n"
     ]
    }
   ],
   "source": [
    "# 함수 정의 = 함수 구현 + 실행 환경에 등록\n",
    "def greet(): # header (선언부). () => parameter(피연산자)가 없는 함수\n",
    "    # body(구현부) -> 함수 호출 시 실행될 코드 (처리될 코드)\n",
    "    print(\"안녕하세요.\")\n",
    "    print(\"반갑습니다.\")\n",
    "    # 반환값(처리결과-return value)가 없는 함수\n",
    "\n",
    "greet()"
   ]
  },
  {
   "cell_type": "code",
   "execution_count": 7,
   "id": "956d0be0-23ae-4bd8-8438-f34eb0125d86",
   "metadata": {},
   "outputs": [
    {
     "name": "stdout",
     "output_type": "stream",
     "text": [
      "서울에 사는 30세 이순신님 안녕하세요.\n",
      "반갑습니다.\n"
     ]
    }
   ],
   "source": [
    "def greet3(name, age, address): # 파라미터가 3개\n",
    "    print(f\"{address}에 사는 {age}세 {name}님 안녕하세요.\")\n",
    "    print(\"반갑습니다.\")\n",
    "\n",
    "greet3(\"이순신\",30,\"서울\")\n",
    "# 기본적으로 파라미터와 argument의 개수는 같아야 한다."
   ]
  },
  {
   "cell_type": "markdown",
   "id": "fc94cfd9-2795-4535-b280-d7ca082d7aa9",
   "metadata": {
    "slideshow": {
     "slide_type": "subslide"
    }
   },
   "source": [
    "- return value(반환값)\n",
    "    - 함수가 호출받아 처리한 결과값으로 호출한 곳으로 반환하는 값이다.\n",
    "    - 반환값이 없을 경우 None을 반환한다.\n",
    "    - 여러개의 값을 return 하는 경우 자료구조로 묶어서 전달해야한다."
   ]
  },
  {
   "cell_type": "code",
   "execution_count": 8,
   "id": "06182e90-6f0b-4df1-a8a7-b5dfae6e1120",
   "metadata": {
    "slideshow": {
     "slide_type": "fragment"
    }
   },
   "outputs": [],
   "source": [
    "def greet4(name, age, address): # 파라미터 3개\n",
    "    txt = f\"{address}에 사는 {age}세 {name}님 안녕하세요.\\n반갑습니다.\"\n",
    "    return txt # 호출한 곳으로(caller) txt 값을 가지고 돌아가라"
   ]
  },
  {
   "cell_type": "code",
   "execution_count": 9,
   "id": "a3ff663f-14ec-4df4-94d0-cd597d01e181",
   "metadata": {
    "slideshow": {
     "slide_type": "fragment"
    }
   },
   "outputs": [
    {
     "name": "stdout",
     "output_type": "stream",
     "text": [
      "서울에 사는 30세 이순신님 안녕하세요.\n",
      "반갑습니다.\n"
     ]
    }
   ],
   "source": [
    "value = greet4(\"이순신\",30,\"서울\")\n",
    "# greet4() 함수의 처리결과(return 값)을 변수 value에 할당\n",
    "print(value)"
   ]
  },
  {
   "cell_type": "code",
   "execution_count": 10,
   "id": "02032732-3499-4e21-9ced-3ad9ce38c81c",
   "metadata": {},
   "outputs": [],
   "source": [
    "# 값을 여러개 리턴해야 하는 함수 (처리 결과가 여러)\n",
    "def calculate(num1, num2):\n",
    "    # 산술연산 처리\n",
    "    r1 = num1 + num2\n",
    "    r2 = num1 - num2\n",
    "    r3 = num1 * num2\n",
    "    r4 = num1 / num2\n",
    "    r5 = num1 ** num2\n",
    "    return r1, r2, r3, r4, r5\n",
    "# return 값: 1개만 가능 -> 반환값이 여러개인 경우 자료구조를 묶어서 return\n",
    "# return r1, r2, r3, ... -> 튜플로 묶어서 반환"
   ]
  },
  {
   "cell_type": "code",
   "execution_count": 11,
   "id": "b4184ef2-0032-4cd5-b3f7-5d2cb6f957a8",
   "metadata": {},
   "outputs": [],
   "source": [
    "v = calculate(10, 5)"
   ]
  },
  {
   "cell_type": "code",
   "execution_count": 12,
   "id": "f4f8445a-e762-4b52-8851-03dbae1eab00",
   "metadata": {},
   "outputs": [
    {
     "name": "stdout",
     "output_type": "stream",
     "text": [
      "<class 'tuple'> (15, 5, 50, 2.0, 100000)\n"
     ]
    }
   ],
   "source": [
    "print(type(v), v)"
   ]
  },
  {
   "cell_type": "code",
   "execution_count": 13,
   "id": "31e6ff57-f684-44a8-a3d3-7954012cab4b",
   "metadata": {},
   "outputs": [],
   "source": [
    "def greet10():\n",
    "    print(\"안녕\")\n",
    "    # return 값(구문)이 없는 함수 => return None"
   ]
  },
  {
   "cell_type": "code",
   "execution_count": 14,
   "id": "1d0c780e-7289-439a-a5ac-b92e72eac2af",
   "metadata": {},
   "outputs": [
    {
     "name": "stdout",
     "output_type": "stream",
     "text": [
      "안녕\n",
      "None\n"
     ]
    }
   ],
   "source": [
    "v = greet10()\n",
    "print(v)"
   ]
  },
  {
   "cell_type": "code",
   "execution_count": 15,
   "id": "d194b031-1582-4f1e-aed6-9fbde6f27d4b",
   "metadata": {},
   "outputs": [],
   "source": [
    "def divide(num1, num2): # num1/num2\n",
    "    if num2 == 0:\n",
    "        print(\"0으로 나눌 수 없습니다.\")\n",
    "        return None\n",
    "    return num1/num2"
   ]
  },
  {
   "cell_type": "code",
   "execution_count": 16,
   "id": "56b4fff5-6bb4-4b2f-9293-09b15be101a8",
   "metadata": {},
   "outputs": [
    {
     "name": "stdout",
     "output_type": "stream",
     "text": [
      "0으로 나눌 수 없습니다.\n"
     ]
    }
   ],
   "source": [
    "divide(10,0)"
   ]
  },
  {
   "cell_type": "markdown",
   "id": "f8593662-dfa5-41c9-89b4-6f71fed6a908",
   "metadata": {
    "slideshow": {
     "slide_type": "slide"
    }
   },
   "source": [
    "# Parameter (매개변수)\n",
    " \n",
    "기본값이 있는 Parameter\n",
    "- 매개변수에 값을 대입하는 구문을 작성하면 호출할 때 argument 가 넘어오지 않으면 대입해놓은 기본값을 사용한다."
   ]
  },
  {
   "cell_type": "code",
   "execution_count": 17,
   "id": "3f6618b1-3bc6-4684-920d-c65737b05109",
   "metadata": {
    "slideshow": {
     "slide_type": "fragment"
    }
   },
   "outputs": [],
   "source": [
    "def print_info2(name=\"무명\"):\n",
    "    print(f\"이름: {name}\")\n",
    "# 기본값이 있는 파라미터 - 호출하는 곳(caller)에서 argument를 전달하지 않으면 기본값(대입된 값)을 사용한다."
   ]
  },
  {
   "cell_type": "code",
   "execution_count": 18,
   "id": "7ccc2474-9313-4389-9709-f642ecb57a13",
   "metadata": {},
   "outputs": [
    {
     "name": "stdout",
     "output_type": "stream",
     "text": [
      "이름: 홍길동\n",
      "이름: 무명\n"
     ]
    }
   ],
   "source": [
    "print_info2(\"홍길동\")\n",
    "print_info2()"
   ]
  },
  {
   "cell_type": "code",
   "execution_count": 19,
   "id": "8bb556c1-591d-433a-88e9-25f64292c1a4",
   "metadata": {},
   "outputs": [],
   "source": [
    "# name, age, address => 필수\n",
    "# hobby => 선택사항\n",
    "def print_info3(name, age, address, hobby=None):\n",
    "    print(name, age, address)\n",
    "    if hobby != None:\n",
    "        print(\"취미: \", hobby)"
   ]
  },
  {
   "cell_type": "code",
   "execution_count": 20,
   "id": "115e2aa4-f4b0-40e5-8a60-ff48251d8fd1",
   "metadata": {},
   "outputs": [
    {
     "name": "stdout",
     "output_type": "stream",
     "text": [
      "이순신 30 서울\n",
      "취미:  독서\n"
     ]
    }
   ],
   "source": [
    "print_info3(\"이순신\",30,\"서울\",\"독서\")"
   ]
  },
  {
   "cell_type": "markdown",
   "id": "48682d09-d8de-49da-9c18-d3a1505aaef1",
   "metadata": {
    "slideshow": {
     "slide_type": "subslide"
    }
   },
   "source": [
    "### Positional argument와 Keyword argument \n",
    "- Argument는 함수/메소드를 호출할 때 전달하는 입력값을 말한다.\n",
    "    - Argument는 전달하는 값이고 Parameter는 그 값을 저장하는 변수\n",
    "- Positional argument\n",
    "    -  함수 호출 할때 argument(전달인자)를 Parameter  순서에 맞춰 값을 넣어서 호출.\n",
    "- keyword  argument \n",
    "    - 함수 호출할 때 argument를 `Parameter변수명 = 전달할값` 형식으로 선언해서 어떤 parameter에 어떤 값을 전달할 것인지 지정해서 호출.\n",
    "    - 순서와 상관없이 호출하는 것이 가능.\n",
    "    - parameter가 많고 대부분 기본값이 있는 함수 호출 할 때 뒤 쪽에 선언된 parameter에만 값을 전달하고 싶을 경우 유용하다."
   ]
  },
  {
   "cell_type": "code",
   "execution_count": 21,
   "id": "6b854275-8ccb-403b-ad2a-00ae37bd7996",
   "metadata": {},
   "outputs": [
    {
     "name": "stdout",
     "output_type": "stream",
     "text": [
      "강감찬 30 인천\n",
      "취미:  스포츠\n"
     ]
    }
   ],
   "source": [
    "# positional arguments를 먼저 넣고 그 다음에 keyword arguments 들을 넣어 호출\n",
    "print_info3(\"강감찬\",30,address=\"인천\",hobby=\"스포츠\")"
   ]
  },
  {
   "cell_type": "markdown",
   "id": "5b292202-408c-4a18-8a36-a742ba73e83a",
   "metadata": {
    "slideshow": {
     "slide_type": "subslide"
    }
   },
   "source": [
    "### 가변인자 (Var args) 파라미터\n",
    "- **\\*변수명**: **positional argument**를 개수와 상관없이 하나의 변수로 받을 수 있도록 선언하는 가변인자.\n",
    "    - 전달된 값들은 tuple로 받아서 처리한다.\n",
    "    - 관례적으로 변수명은 \\*args 를 사용한다.\n",
    "- **\\*\\*변수명**: **keyword argument**를 개수와 상관없이 하나의 변수로 받을 수 있도록 선언하는 가변인자.\n",
    "    - 전달된 값들은 dictionary로 받아서 처리한다.\n",
    "    - 관례적으로 변수명은 \\*\\*kwargs 를 사용한다."
   ]
  },
  {
   "cell_type": "code",
   "execution_count": 22,
   "id": "51211e4c-7d99-4e31-a200-954a93028972",
   "metadata": {},
   "outputs": [],
   "source": [
    "def summation_var_args(*nums):\n",
    "    print(type(nums))\n",
    "    value = 0\n",
    "    for v in nums:\n",
    "        value += v\n",
    "    return value"
   ]
  },
  {
   "cell_type": "code",
   "execution_count": 23,
   "id": "3504969a-7bb2-4335-ad6b-6e25096ff7d7",
   "metadata": {},
   "outputs": [
    {
     "name": "stdout",
     "output_type": "stream",
     "text": [
      "<class 'tuple'>\n",
      "3\n"
     ]
    }
   ],
   "source": [
    "r = summation_var_args(1, 2)\n",
    "print(r)"
   ]
  },
  {
   "cell_type": "code",
   "execution_count": 24,
   "id": "ef11aa1c-6ea1-4328-be6d-68b8496566fa",
   "metadata": {},
   "outputs": [],
   "source": [
    "def print_info(**info):\n",
    "    print(type(info))\n",
    "    print(info)"
   ]
  },
  {
   "cell_type": "code",
   "execution_count": 25,
   "id": "0c623820-9359-430d-8cba-cfa40e376e51",
   "metadata": {},
   "outputs": [
    {
     "name": "stdout",
     "output_type": "stream",
     "text": [
      "<class 'dict'>\n",
      "{'name': '홍길동', 'address': '서울', 'age': 40}\n"
     ]
    }
   ],
   "source": [
    "print_info(name=\"홍길동\", address=\"서울\", age=40)"
   ]
  },
  {
   "cell_type": "code",
   "execution_count": 26,
   "id": "76eb5192-ec70-4e6d-bf2e-c913a1edba18",
   "metadata": {},
   "outputs": [],
   "source": [
    "### 파라미터 선언 순서\n",
    "def test(n1, n2, n3=100, *args, **kwargs):\n",
    "    print(n1,n2,n3)\n",
    "    print(args)\n",
    "    print(kwargs)"
   ]
  },
  {
   "cell_type": "code",
   "execution_count": 27,
   "id": "c51871f1-2965-4a61-9efa-f8b1d6b61c8f",
   "metadata": {},
   "outputs": [
    {
     "name": "stdout",
     "output_type": "stream",
     "text": [
      "1 2 3\n",
      "(4, 5)\n",
      "{'a': 1, 'b': 2}\n"
     ]
    }
   ],
   "source": [
    "test(1,2,3,4,5,a=1,b=2)"
   ]
  },
  {
   "cell_type": "markdown",
   "id": "da229c86-e32d-4449-9cfd-7dbb2c90f2a3",
   "metadata": {
    "slideshow": {
     "slide_type": "slide"
    }
   },
   "source": [
    "# 지역변수/전역변수\n",
    "\n",
    "- **지역변수 (local variable)**\n",
    "    - 함수안에 선언된 변수\n",
    "    - 선언된 그 함수 안에서만 사용할 수 있다.\n",
    "- **전역변수 (global variable)**\n",
    "    - 함수 밖에 선언 된 변수\n",
    "    - 모든 함수들이 공통적으로 사용할 수 있다.\n",
    "    - 하나의 함수에서 값을 변경하면 그 변한 값이 모든 함수에 영향을 주기 때문에 함부로 변경하지 않는다.\n",
    "    - 함수내에서 전역변수에 값을 대입하기 위해서는 global 키워드를 이용해 사용할 것을 미리 선언해야 한다.\n",
    "        - global로 선언하지 않고 함수안에서 전역변수와 이름이 같은 변수에 값을 대입하면 그 변수와 동일한 지역변수을 생성한다.\n",
    "        - 조회할 경우에는 상관없다.\n",
    "            - 함수에서 변수를 조회할 경우 **먼저 지역변수를 찾고 없으면 전역변수를 찾는다.**\n",
    "            \n"
   ]
  },
  {
   "cell_type": "code",
   "execution_count": 28,
   "id": "b3491ac2-cfb4-4a90-b698-49fa3a09b502",
   "metadata": {},
   "outputs": [],
   "source": [
    "# 변수: age(파라미터), name => fun1() 함수의 지역변수 => 함수 내에서만 사용 가능\n",
    "def fun1(age):\n",
    "    name=\"이순신\"\n",
    "    print(name,age)"
   ]
  },
  {
   "cell_type": "code",
   "execution_count": 29,
   "id": "55911fb0-b6e5-4be1-8af0-0c873f371130",
   "metadata": {
    "slideshow": {
     "slide_type": "fragment"
    }
   },
   "outputs": [],
   "source": [
    "# 전역변수(global variable)\n",
    "value1 = 100\n",
    "value2 = 2000\n",
    "\n",
    "def fun2():\n",
    "    print(value1, value2)"
   ]
  },
  {
   "cell_type": "code",
   "execution_count": 30,
   "id": "2c8c7114-48de-4eec-9e61-e0d829c3fddf",
   "metadata": {},
   "outputs": [
    {
     "name": "stdout",
     "output_type": "stream",
     "text": [
      "100 2000\n",
      "100 2000\n"
     ]
    }
   ],
   "source": [
    "print(value1, value2)\n",
    "fun2()"
   ]
  },
  {
   "cell_type": "code",
   "execution_count": 31,
   "id": "2f2ca33e-a20a-478d-897f-17a41fce3f0d",
   "metadata": {},
   "outputs": [],
   "source": [
    "# 전역변수 value3\n",
    "value3 = 1000\n",
    "\n",
    "def fun4():\n",
    "    # 함수 안에서 변수=값 => 지역변수 (이름이 전역변수와 같은 지역변수)\n",
    "    global value3 # value3 변수는 전역변수이다. 선언. (전역변수 값을 변)\n",
    "    value3 = 5000\n",
    "    print(value3)"
   ]
  },
  {
   "cell_type": "code",
   "execution_count": 32,
   "id": "23eaa25e-d630-48b3-9a86-8252f314f513",
   "metadata": {},
   "outputs": [
    {
     "name": "stdout",
     "output_type": "stream",
     "text": [
      "5000\n"
     ]
    }
   ],
   "source": [
    "fun4()"
   ]
  },
  {
   "cell_type": "code",
   "execution_count": 33,
   "id": "ea60ed17-abc6-4841-b742-2b76e7fb52dc",
   "metadata": {},
   "outputs": [
    {
     "data": {
      "text/plain": [
       "5000"
      ]
     },
     "execution_count": 33,
     "metadata": {},
     "output_type": "execute_result"
    }
   ],
   "source": [
    "value3"
   ]
  },
  {
   "cell_type": "markdown",
   "id": "1bab97c8-01a4-45af-9c32-67515aecc38d",
   "metadata": {
    "slideshow": {
     "slide_type": "slide"
    }
   },
   "source": [
    "함수는 일급시민(First class citizen) 이다. \n",
    "- 일급 시민\n",
    "    1. 변수에 대입 할 수 있다.\n",
    "    1. Argument로 사용할 수 있다.\n",
    "    1. 함수나 메소드의 반환값으로 사용 할 수 있다.\n",
    "- 일급\n",
    "    - 모든 권리를 다 가진다는 의미\n",
    "- 시민\n",
    "    - 프로그래밍 언어를 구성하는 객체를 의미\n",
    "- 즉 파이썬에서 함수는 일반 값(객체) 로 취급된다. "
   ]
  },
  {
   "cell_type": "code",
   "execution_count": 34,
   "id": "ba6ed93c-3baa-4bfa-849f-f9cdb3016534",
   "metadata": {},
   "outputs": [],
   "source": [
    "def greet(name=None):\n",
    "    print(f\"{name}님 안녕하세요\")"
   ]
  },
  {
   "cell_type": "code",
   "execution_count": 35,
   "id": "7488e4d0-1eee-4311-8e6c-8480222a4e61",
   "metadata": {},
   "outputs": [
    {
     "name": "stdout",
     "output_type": "stream",
     "text": [
      "None님 안녕하세요\n",
      "이순신님 안녕하세요\n"
     ]
    }
   ],
   "source": [
    "# 함수 호출: 함수이름([args,..])\n",
    "greet()\n",
    "greet(\"이순신\")"
   ]
  },
  {
   "cell_type": "code",
   "execution_count": 36,
   "id": "e03828b9-3f9a-49b2-9c4b-f473618c126f",
   "metadata": {},
   "outputs": [
    {
     "name": "stdout",
     "output_type": "stream",
     "text": [
      "None님 안녕하세요\n"
     ]
    }
   ],
   "source": [
    "my_greet = greet() # greet() 호출해서 반환값을 my_greet 변수에 대입"
   ]
  },
  {
   "cell_type": "code",
   "execution_count": 37,
   "id": "22a966e5-067e-4448-bb6f-665588ef1610",
   "metadata": {},
   "outputs": [
    {
     "data": {
      "text/plain": [
       "<function __main__.greet(name=None)>"
      ]
     },
     "execution_count": 37,
     "metadata": {},
     "output_type": "execute_result"
    }
   ],
   "source": [
    "my_greet = greet # 함수 greet를 변수에 대입 (호출 X)\n",
    "my_greet"
   ]
  },
  {
   "cell_type": "code",
   "execution_count": 38,
   "id": "909a04b4-a394-4e93-a198-190155098003",
   "metadata": {},
   "outputs": [
    {
     "name": "stdout",
     "output_type": "stream",
     "text": [
      "None님 안녕하세요\n"
     ]
    }
   ],
   "source": [
    "my_greet()"
   ]
  },
  {
   "cell_type": "code",
   "execution_count": 39,
   "id": "3c784ac2-f5d9-445a-9b84-10fc661cacd6",
   "metadata": {},
   "outputs": [],
   "source": [
    "def test(func):\n",
    "    func(\"test\") # 2. greet 함수를 호출"
   ]
  },
  {
   "cell_type": "code",
   "execution_count": 40,
   "id": "893a9879-46b1-40cf-bd52-74bde0854ed3",
   "metadata": {},
   "outputs": [
    {
     "name": "stdout",
     "output_type": "stream",
     "text": [
      "test님 안녕하세요\n"
     ]
    }
   ],
   "source": [
    "test(greet) # 1. func에 greet 함수를 전달"
   ]
  },
  {
   "cell_type": "code",
   "execution_count": 41,
   "id": "c3c20242-6345-4632-8c3a-3398843a0fc3",
   "metadata": {},
   "outputs": [],
   "source": [
    "def greet2(name=None):\n",
    "    print(f\"Hello {name}!\")"
   ]
  },
  {
   "cell_type": "code",
   "execution_count": 42,
   "id": "ac3c1c4c-275b-4ee3-8493-6a6c08f3b969",
   "metadata": {},
   "outputs": [
    {
     "name": "stdout",
     "output_type": "stream",
     "text": [
      "Hello test!\n"
     ]
    }
   ],
   "source": [
    "test(greet2)"
   ]
  },
  {
   "cell_type": "code",
   "execution_count": 43,
   "id": "65cb4f97-4d2a-4ac9-8005-a9b6fabf1232",
   "metadata": {},
   "outputs": [],
   "source": [
    "def calc(func):\n",
    "    num1, num2 = 10, 20\n",
    "    result = func(num1, num2) # callback 함수 호출\n",
    "    return result"
   ]
  },
  {
   "cell_type": "code",
   "execution_count": 44,
   "id": "14d0f3e8-4280-4c99-b006-3c2179f6a46e",
   "metadata": {},
   "outputs": [],
   "source": [
    "# callback 함수: 다른 함수 호출할 때 argument로 전달하는 함수\n",
    "# 호출되는 방식에 맞춰서 정의해야 한다.\n",
    "def power(n1, n2):\n",
    "    return n1 ** n2\n",
    "\n",
    "def minus(n1, n2):\n",
    "    return n1-n2\n",
    "\n",
    "def plus(n1, n2):\n",
    "    return n1+n2"
   ]
  },
  {
   "cell_type": "code",
   "execution_count": 45,
   "id": "86adc561-c48b-4143-ae49-4ec006292276",
   "metadata": {},
   "outputs": [
    {
     "data": {
      "text/plain": [
       "-10"
      ]
     },
     "execution_count": 45,
     "metadata": {},
     "output_type": "execute_result"
    }
   ],
   "source": [
    "calc(minus)"
   ]
  },
  {
   "cell_type": "markdown",
   "id": "dcb2475c-d5fc-49a6-8664-6800fd464f28",
   "metadata": {},
   "source": [
    "# 느낀 점\n",
    "\n",
    "1. 좋았던 점  \n",
    "   컴프리헨션을 통해 반복문을 한 줄로 줄일 수 있어 좋았다.\n",
    "\n",
    "2. 배운 점  \n",
    "   컴프리헨션과 함수에 들어가는 인자들을 처리할 다양한 방법을 배웠다.\n",
    "\n",
    "3. 아쉬웠던 점  \n",
    "    \n",
    "4. 앞으로의 계획  \n",
    "   코딩 문제를 풀 때 컴프리헨션을 적용해봐야겠다."
   ]
  }
 ],
 "metadata": {
  "kernelspec": {
   "display_name": "Python 3 (ipykernel)",
   "language": "python",
   "name": "python3"
  },
  "language_info": {
   "codemirror_mode": {
    "name": "ipython",
    "version": 3
   },
   "file_extension": ".py",
   "mimetype": "text/x-python",
   "name": "python",
   "nbconvert_exporter": "python",
   "pygments_lexer": "ipython3",
   "version": "3.11.5"
  }
 },
 "nbformat": 4,
 "nbformat_minor": 5
}
