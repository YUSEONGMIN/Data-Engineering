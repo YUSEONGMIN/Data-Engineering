{
 "cells": [
  {
   "cell_type": "markdown",
   "id": "68d63d8a-bc19-4cc5-aa09-a07f3282de82",
   "metadata": {},
   "source": [
    "### 1일차(2023.12.27)\n",
    "- 개요\n",
    "    - 프로그래밍과 파이썬에 대해 알아본다.\n",
    "    - 변수와 데이터 타입에 대해 알아본다."
   ]
  },
  {
   "cell_type": "markdown",
   "id": "d5697e6f-207d-4aa9-9fa7-b013978b4e17",
   "metadata": {},
   "source": [
    "# 1. 프로그래밍과 파이썬\n",
    "---\n",
    "## 1.1. 프로그래밍\n",
    "- 용어 설명\n",
    "    - 프로그램: 컴퓨터에 특정 작업을 실행시키기 위한 처리 방법과 순서를 논리적으로 작성한 명령문들의 집합\n",
    "    - 로직: 프로그램이 시작해서 목적한 결과를 낼 때까지 일의 순서\n",
    "    - 프로그래밍: 로직을 작성하는 작업\n",
    "    - 프로그래밍 언어: 프로그램을 작성할 때 사용하는 언어 (ex: 파이썬, 자바, C 등)\n",
    "    - 라이브러리/API: 프로그램을 작성할 때 반복적으로 사용되는 코드를 미리 작성하여 제공하는 것\n",
    "\n",
    "프로그래밍 언어 순위: https://www.tiobe.com/tiobe-index/ (2023년 12월 기준)\n",
    "> 1위: 파이썬  \n",
    "> 2위: C  \n",
    "> 4위: 자바  \n",
    "\n",
    "### High/Low Level & Compiler/Interpter\n",
    "\n",
    "프로그램을 **작성**할 때는 **사람**이 이해하는 언어를 사용하기 (High Level)   \n",
    "프로그램을 **실행**할 때는 **기계**가 이해하는 언어로 변환하기 (Low Level)  \n",
    "\n",
    "High Level Language로 코드를 작성한 것: Source code  \n",
    "Low Level Language (기계어): 0,1의 **Binary Code**  \n",
    "\n",
    "High Level Language를 실행하기 위한 Binary Code 변환 방식 2가지\n",
    "1. Compiled 방식  \n",
    "   - **Compiler**를 이용해 Source code를 변환하여 Binary 파일을 실행\n",
    "   - 장점: 프로그램 실행 속도가 빠름 / 단점: **OS 종속적**\n",
    "2. Interpreted 방식\n",
    "   - **Interpreter**를 이용해 한 명령문씩 Binary로 변환 후 실행\n",
    "   - 장점: **OS 독립적** / 단점: 프로그램 실행 속도가 느림"
   ]
  },
  {
   "cell_type": "markdown",
   "id": "b6c99f17-3bb7-4687-86a8-6f8a1f871e8f",
   "metadata": {},
   "source": [
    "## 1.2. 파이썬\n",
    "\n",
    "파이썬의 특징\n",
    "- 가독성, 유지 보수성\n",
    "- 유연한 확장 구조\n",
    "- 동적 타입\n",
    "- 다양한 라이브러리\n",
    "\n",
    "파이썬의 활용\n",
    "- 업무 자동화\n",
    "- 범용 (웹) APP 개발\n",
    "- 머신러닝\n",
    "\n",
    "파이썬 실행 방식 2가지\n",
    "1. REPL(Read-Eval-Print Loop) 방식\n",
    "- 한 명령문 단위로 실행\n",
    "- 처리(Evaluate) 결과가 있으면 출력\n",
    "\n",
    "2. Script 방식\n",
    "- text 파일에 명령문들을 작성한 뒤 한번에 실행\n",
    "- Script 파일의 확장자는 `.py`\n",
    "- IDE(VS Code, Pycharm 등)을 이용해 작성   "
   ]
  },
  {
   "cell_type": "markdown",
   "id": "7cf63328-7f30-4316-9338-0d1d9a539a8f",
   "metadata": {},
   "source": [
    "# 2. 변수와 데이터 타입\n",
    "---\n",
    "## 2.1. 변수\n",
    "- 사용할 값을 저장하는 메모리 공간\n",
    "- 하나의 변수는 하나의 값만 가질 수 있다. (단, 객체나 자료 구조를 이용하면 예외)\n",
    "- 변수의 이름은 식별자(Identifier)로 관리된다.\n",
    "\n",
    "Identifier 규칙\n",
    "- 일반문자, 숫자, _(underscore) 가능 (단, 숫자는 두번째 글자부터)\n",
    "- 예약어는 사용 불가\n",
    "- 대소문자 구별\n",
    "\n",
    "변수명 관례 종류\n",
    "1. Snake 표기법 `customer_name`, `product_id`, `sale_price` (A_B_C 뱀 모양)\n",
    "2. Camel 표기법 `userName`, `bankAccount`, `saveData` (낙타 봉우리 모양)\n",
    "3. 파스칼 표기법 `UserName`, `BankAccount`, `SaveData`\n",
    "\n",
    "> print() 함수 옵션\n",
    "> - 구분자 사용: sep=구분자\n",
    "> - 맨 끝 붙일 문자열: end=붙일 문자열\n",
    "\n",
    "변수 사용\n",
    "- 대입/할당 (assignment): `=`\n",
    "> - a = 10\n",
    "> - a = b = c = 10\n",
    "> - a, b, c = 10, 20, 30\n",
    "> - a += 1"
   ]
  },
  {
   "cell_type": "markdown",
   "id": "fb175550-c46f-4181-9ece-24194c15e97c",
   "metadata": {},
   "source": [
    "# 2.2. 데이터 타입\n",
    "1. None: 아무 값도 없음\n",
    "2. Numeric: 정수, 실수\n",
    "   - 정수 표현식(16진수, 8진수 등)\n",
    "   - 지수 표기법\n",
    "3. Bool: True, False\n",
    "   - False: 0, None, 원소가 없는 자료 구조\n",
    "   - 비교 연산자의 결과는 Bool 타입\n",
    "   - 논리 연산자의 피연산자와 결과 모두 Bool 타입\n",
    "4. String\n",
    "   - \"\",'',\"\"\"\"\"\"\n",
    "   - Escape 문자: `\\문자`\n",
    "   - Escape 문자 그대로 출력: r'\\문자' (raw string)\n",
    "\n",
    "문자열 연산\n",
    "- 문자열 + 문자열: 두 문자열을 합친다.\n",
    "- 문자열 * 정수: 문자열을 정수번 반복해서 합친다.\n",
    "- 문자열 A in 문자열 B: 문자열 A가 문자열 B에 있으면 True (반대는 not in)\n",
    "- len(문자열): 글자 수 반환"
   ]
  },
  {
   "cell_type": "markdown",
   "id": "d9a74ea7-f145-4e26-ba5f-008f77103e03",
   "metadata": {},
   "source": [
    "1. 좋았던 점  \n",
    "   파이썬에 대해 어느 정도 익숙해서 수업을 따라가는데 큰 문제가 없었고,  \n",
    "   카페 분위기에서 다양한 책들을 보며 공부할 수 있다는  것이 좋았다.\n",
    "\n",
    "2. 배운 점  \n",
    "   프로그래밍과 파이썬에 대해 기초적인 부분들을 배웠다.\n",
    "\n",
    "3. 아쉬웠던 점  \n",
    "   학습에 참고할 사이트나 현업에서 요구하는 역량, 트렌드 등을 알려주면 다른 수강생들에게도 도움이 될 것 같다.\n",
    "\n",
    "4. 앞으로의 계획  \n",
    "   아침에 일어나 장시간 수업을 받으려면 체력 관리도 중요할 것이다."
   ]
  }
 ],
 "metadata": {
  "kernelspec": {
   "display_name": "Python 3 (ipykernel)",
   "language": "python",
   "name": "python3"
  },
  "language_info": {
   "codemirror_mode": {
    "name": "ipython",
    "version": 3
   },
   "file_extension": ".py",
   "mimetype": "text/x-python",
   "name": "python",
   "nbconvert_exporter": "python",
   "pygments_lexer": "ipython3",
   "version": "3.11.5"
  }
 },
 "nbformat": 4,
 "nbformat_minor": 5
}
