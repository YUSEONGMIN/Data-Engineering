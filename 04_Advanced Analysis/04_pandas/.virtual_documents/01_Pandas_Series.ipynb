











import pandas as pd


s1 = pd.Series([1,2,3,4])
s1 # index 이름: 0 1 2 3, 값: 1 2 3 4, dtype: 값들의 타입 (C언어의 타입)


print("데이터 타입:", s1.dtype)
print("원소개수:", s1.size)


s2 = pd.Series([100,70,90], index=["국어","영어","수학"])
s2


# index name 조회
s1.index


s2.index








s2.iloc[1], s2.iloc[-1]


s2


s2.loc['국어'], s2.loc['수학']


s2['국어'] # index 이름으로 조회


# fancy indexing
# s2['국어'], s2['영어']

s2[['국어','영어']]








s3 = pd.Series(range(100))
s3


s3.iloc[10:30:2]


s3.iloc[10:15] # step: 1


s3.iloc[95:] # stop: 끝까지


s3.iloc[:10] # start: 0


s3.loc[10:15] # index 이름으로 slicing -> stop도 포함


s2['국어':'수학']


s2.iloc[0:2]


s2['국어'] = 60 # 값을 변경 (있는 index에 값을 대입)
s2['과학'] = 100 # 없는 index 이름으로 대입 -> 추가
s2


s2['파이썬'] = 100
b = s2['영어':'과학']
b['수학'] = 10
b


s2


c = s2['국어':'수학'].copy() # 조회 결과를 복사해서 새로 만든다.
# c를 이용해 값을 변경해도 s2는 영향을 안받는다.
c['국어'] = 100
c


s2





s10 = pd.Series([1,2,3,4,5,-10,-9,-8])
s10 + 20 # s10의 모든 원소에 연산처리
s10 * 10


s10 < 0


s11 = pd.Series([10,20,30,40,50,-100,-90,-80])
s10.size, s11.size # 원소 개수


# Series와 Series 연산 => 같은 index 이름끼리 계산
s10 + s11


s10 + s2
# Nan: 모르는 값, 없는 값 (null, None). Not a Number
# na, NA: 모르는 값, 없는 값. Not Available





s2[[True, False, False]] # True인 index에 있는 값들을 조회


s2[s2 >= 80]


s10[(s10 >= 2) & (s10 <= 10)]


s10[~((s10 >= 2) & (s10 <= 10))]


s10[(s10 < 2) | (s10 > 10)]


s10.between(2, 10) # 원소별로 2~10 사이에 있는지 확인


s10[~s10.between(2, 10)]


s10[s10.between(2, 10)].index


import numpy as np
np.where(s10.between(2, 10))


np.where(s10.between(2, 10), '범위안', '범위밖')














s1 = pd.Series(np.arange(0,10))
s2 = pd.Series(['학생', '자영업', '회사원', '회사원', '자영업', '학생', '학생'])


# 속성
s1.size, s2.size # 원소개수
# len(s1)
s1.shape, s2.shape # 차원별 원소의 개수 -> 2차원 이상에서 의미가 있다.
print(s1.dtype, s2.dtype) # 원소들의 데이터 타입


s3 = s1.astype("float") # 타입 변환. 변환한 새로운 series를 변환
print(s1.dtype, s3.dtype)





s = pd.Series([10_000_000, 2])
s.astype("int16")


s = pd.Series([10_000_000, 2])
s.astype("int32")


s2.isin(['학생','자영업']) # 원소별 비교 (sql의 in 연산)


s1.head() # 앞 5개
s1.head(2) 


s1.tail() # 뒤 5개
s1.tail(2)


s1[:2]
s1[-5:]





s100 = s1.sort_index(ascending=False) # index 이름 기준 정렬
s100


s1.sort_index(ascending=False, inplace=True)
s1


s101 = s2.sort_values() # 값 기준 정렬
s101


s101.loc[1:5]


s101.reset_index(drop=True) # 기존 index 이름을 버라고 자동증가 index로 변경





# 평균
print("평균:", s1.mean())
print("표준편차:", s1.std())
print("분산:", s1.var())


s10 = s1.copy()
s10[5] = 1000
print(s10.mean(), s10.median())


s10.sort_values()


# 분위수
s10.quantile(q=0.5) # q=분위 -> 분위: 0 ~ 1 실수(비율), 여러개: 리스트
s10.quantile(q=[0.25, 0.5, 0.75]) # 4분위
s10.quantile(q=[0.1, 0.9]) # 하위 10%, 상위 10%의 기준값


print("최빈값")
print(s2.mode()) # 시리즈


# 각 범주값 (class)의 개수를 확인
s2.value_counts()


print("최소, 최대값")
s10.min(), s10.max()


print("최소, 최대값의 index 이름")
s10.idxmin(), s10.idxmax()


s10[0], s10[5]


# 여러 통계량을 묶어서 반환
# 공통: count() - 결측치 뺀 값의 개수
# 숫자: min, max, 평균, 4분위수
# 문자열: 최빈값, 최빈값의 개수, class의 개수
s1.describe() # ["std"]


s2.describe()
# unique: class의 개수, top: 최빈값, freq: 최빈값의 개수





s1 = pd.Series(["Python", "C++", None, "C++", "Python", None, "Java"])


# 결측치 확인
s1.isnull()


# 결측치의 개수
s1.isnull().sum() # bool 계산 -> True: 1, False: 0


# 결측치의 비율
s1.isnull().mean()


s1.isna()


import numpy as np
s2 = pd.Series(["Python", "C++", np.nan, "C++", "Python", np.nan, "Java"])
s2.isna()





# 결측치 처리
# 1. 조회
print(s2.isnull().sum())
# 2. 처리 -> 제거
s3 = s2.dropna(inplace=False)
s3


s3.isnull().sum()


s2


# 범주형 -> 최빈값
v = s2.mode().iloc[0]
v


s2.fillna(v)


s2
