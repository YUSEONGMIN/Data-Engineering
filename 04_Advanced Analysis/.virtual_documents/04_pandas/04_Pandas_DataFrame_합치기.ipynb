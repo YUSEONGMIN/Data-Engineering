








import pandas as pd


pd.read_csv('data/stocks_2016.csv')
# pd.read_csv("data/stocks_2017.csv")
# pd.read_csv("data/stocks_2018.csv")
# pd.read_csv("data/stocks_info.csv")


file_names = ['2016','2017','2018','info']
stock_2016, stock_2017, stock_2018, stock_info = \
[pd.read_csv(f"data/stocks_{name}.csv") for name in file_names]


stock_2016, stock_info














# 2016, 2017, 2018 stock DF 합치기
result = pd.concat([stock_2016,stock_2017,stock_2018])
# 행이 늘어나도록 합친다. (수직결합) -> 같은 컬럼명끼리 합친다.
result


# axis='columns': 컬럼이 늘어나도록 붙인다. 행이름(index name)이 같은 행끼리 합친다.
result = pd.concat([stock_2016,stock_2017,stock_2018], axis='columns',
                   join='inner'
                  )
result


result = pd.concat([stock_2016,stock_2017,stock_2018])
result.iloc[2] # index(순번) 조회


result.loc[2] # index -> 2가 3개


# 기존 index name을 버리고 읽기 -> 자동증가 index로 변경
result = pd.concat([stock_2016,stock_2017,stock_2018],
                   ignore_index=True)
result


# 기존 index name을 버리고 읽기 -> 자동증가 index로 변경
result = pd.concat([stock_2016,stock_2017,stock_2018], keys=['2016','2017','2018'])
result


result.loc['2016']


result


result.loc[[("2016",0)]]


result.loc[[("2016", 0), ("2016", 1)]]








# 행이름(index name) 이 같은 행끼리 붙인다.
# 아래코드는 잘못된  join (연관성 없는 행끼리 합친 것.)
stock_info.join(stock_2017, lsuffix="_info")


# 연관성 있는 컬럼을 index name으로 만들고 join 한다.
## default: left outer join
stock_info.set_index("Symbol").join(stock_2016.set_index("Symbol"))


# how=left  : left outer join (default)
# how=right : Right outer join
# how=outer : full outer join
# how=inner : inner join

stock_info.set_index("Symbol").join(stock_2016.set_index("Symbol"),
                                   how='right')


stock_2016.set_index("Symbol").join(stock_2018.set_index("Symbol"), 
                                   lsuffix='_2016', rsuffix="_2018", 
#                                    how="left"
#                                    how="right"
#                                     how="inner"
                                    how="outer"
                                   )


stock_2016_2 = stock_2016.set_index("Symbol").add_suffix("_2016")
stock_2017_2 = stock_2017.set_index("Symbol").add_suffix("_2017")
stock_2018_2 = stock_2018.set_index("Symbol").add_suffix("_2018")
stock_2018_2


stock_info.set_index('Symbol').join([stock_2016_2, stock_2017_2, stock_2018_2])


# stock_2016.add_suffix("-1111")
# stock_2016.add_prefix("aaaa-")





stock_2016.merge(stock_info)  # 기본: 같은 이름의 컬럼을 기준으로 join


stock_2016.merge(stock_info, how='right') # default: inner => right 


#stock_2018_2: left => index
# stock_info: right => Symbol 컬럼
stock_2018_2.merge(stock_info, left_index=True, right_on="Symbol")


stock_info.merge(stock_2018_2, left_on="Symbol", right_index=True)


stock_2016.merge(stock_2018, on="Symbol", 
                 suffixes=["_16", "_18"]  # 같은 컬럼명 뒤에 붙일 접미어(default: _x, _y)
                )








# 1 data/customer.csv, data/order.csv, data/qna.csv 를 DataFrame으로 읽으시오.
cust, order, qna = \
[pd.read_csv(f'data/{name}.csv') for name in ['customer','order','qna']]


# 2 1 에서 읽은 세개의 데이터셋의 정보를 확인하세요. 
cust.shape, order.shape, qna.shape


cust.info()


cust


order.info()


order


qna.info()


qna


# 3 customer DataFrame과 order DataFrame을 고객정보는 모두 나오도록 join 하세요.
# merge
cust.merge(order, left_on="id", right_on="cust_id").drop(columns='cust_id').set_index('id')
# 메소드 체인


# join
cust.set_index('id').join(order.set_index('cust_id'), how='inner')


# 4 customer DataFrame의 index를 id컬럼으로 변경.
cust2 = cust.set_index('id')
cust2


# 5 4에서 만든 customer DataFrame과 qna DataFrame을 inner join 하세요.
cust2.merge(qna, left_index=True, right_on='cust_id').set_index('cust_id')


cust2.join(qna.set_index("cust_id"), how="inner")


# 6. 세개의 DataFrame을 고객정보는 모두 나오도록 join 하세요.
cust2.join([order.set_index('cust_id'), qna.set_index('cust_id')],
           how='outer')


import pymysql


import warnings
warnings.filterwarnings(action='ignore')


with pymysql.connect(host='127.0.0.1', port=3306,
                       user='scott', password='tiger',
                       database='hr_join') as conn:
    emp = pd.read_sql("select * from emp", conn)
    dept = pd.read_sql("select * from dept", conn)
    job = pd.read_sql("select * from job", conn)


sql = "select * from emp e left join dept d on e.dept_id = d.dept_id\
                            left join job j on e.job_id = j.job_id"


with pymysql.connect(host='127.0.0.1', port=3306,
                       user='scott', password='tiger',
                       database='hr_join') as conn:
    df = pd.read_sql(sql, conn)


df


emp.info()


dept.info()


tmp = emp.merge(dept)
tmp.head()
tmp


d = tmp.merge(job)
d.head()
d
