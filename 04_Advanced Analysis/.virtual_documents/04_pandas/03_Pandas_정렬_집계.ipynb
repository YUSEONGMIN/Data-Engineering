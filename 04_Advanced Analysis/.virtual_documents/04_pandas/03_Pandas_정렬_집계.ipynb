


import pandas as pd
df = pd.read_csv('data/movie.csv', index_col="movie_title")
df.shape


# df.sort_index(axis="columns")
df.sort_index(axis=1, ascending=False)


df.sort_index() # 행이름(index_name) 기준 정렬
df.sort_index(ascending=False)


df2 = df.sort_index()
df2.loc['A':'C'] # index 이름이 A로 시작 ~ B로 시작 (C는 포함안됨)


# df.loc['A':'C'] # 정렬 후에 가능





df.sort_values('duration')
df.sort_values('duration', ascending=False)


df.sort_values('duration').head()


# 1차: duration으로 정렬
# 2차: duration이 같은 행들을 director_facebook_likes로 정렬
df.sort_values(['duration','actor_3_facebook_likes']).head() # 둘다 오름차순


df.sort_values(['duration','actor_3_facebook_likes'], ascending=[True,False]).head(30)[['duration','actor_3_facebook_likes']]





import pandas as pd

df = pd.read_csv('data/flights.csv')
df.shape


df.head()


df.info()


df.isna().sum()


df.isna().sum(axis=1)


df['AIRLINE'].value_counts()


df['AIRLINE'].unique()


df['AIRLINE'].nunique()











df.max()


df.sum(numeric_only=True) # numeric_only=True: 숫자형(정수, 실수들) 컬럼만 계산


# mean()/std()/var()/idxmax(),idxmin() -> 숫자형만 가능. DF 안에 문자열 컬럼이 있으면 numeric_only를 설정
df.mean(numeric_only=True)


df.idxmax(numeric_only=True)


df.mean(numeric_only=True, skipna=False) # na를 skip하지 않고 계산 => na가 있는 컬럼의 결과 = na





df['ARR_DELAY'].min()


# 도착지연시간 -> 최소, 최대
df['ARR_DELAY'].aggregate(["min", "max"]) # pandas 제공 통계함수 -> 문자열로 이름만 전달


df['ARR_DELAY'].agg(["min","max"])


# 컬럼별로 다른 집계
func = {
    "DEP_DELAY":"mean",
    "AIR_TIME":["min","max"],
    "AIRLINE":"mode"
}
# key: 컬럼명, value: 통계량 구하는 메소드
df.agg(func)


df['AIR_TIME'].describe()


# 사용자 정의 집계함수 적용
# 컬럼의 max와 min의 차이를 계산
# 매개변수: Series = 컬럼, 반환: 집계결과
def min_max_diff(column):
    return column.max() - column.min()


min_max_diff(df['AIR_TIME'])


df[['AIR_TIME','DEP_DELAY']].agg(min_max_diff)


df[['AIR_TIME','DEP_DELAY']].agg(["min","max",min_max_diff])


df.select_dtypes(exclude="object").agg(['min','max',min_max_diff,'mean']).T


df['AIR_TIME'].agg(lambda col: col.max() - col.min())


df[['DEP_DELAY','ARR_DELAY']].agg(['min','max'])





dfgb = df.groupby('AIRLINE')
type(dfgb)


dfgb.groups


dfgb.mean(numeric_only=True)


df.groupby('AIRLINE').mean(numeric_only=True)


# AIRLINE 별 도착지연 시간 (ARR_DELAY)의 평균
df.groupby('AIRLINE')['ARR_DELAY'].mean()


# AIRLINE 별 출발/도착지연 시간 (DEP_DELAY, ARR_DELAY)의 평균
df.groupby('AIRLINE')[['DEP_DELAY','ARR_DELAY']].mean()





df.groupby(['ORG_AIR','DEST_AIR']).groups


df.groupby(['ORG_AIR','DEST_AIR'])['DEP_DELAY'].mean()


result = df.groupby(['ORG_AIR','DEST_AIR'])[['DEP_DELAY','ARR_DELAY']].mean()
result['DEP_DELAY'].max(), result['DEP_DELAY'].idxmax()


# groupby + agg
df.groupby('AIRLINE')['DEP_DELAY'].agg(['min','max',min_max_diff])


df['CANCELLED'].value_counts()


# 항공사 월별 총 취소건수
result = df.groupby(['AIRLINE','MONTH'])['CANCELLED'].sum()
result


result.loc[['AA','WN']]





# 취소건수가 100건 이상인 항공사만 조회
result = df.groupby('AIRLINE')['CANCELLED'].sum()
result[result >= 100]














df.groupby(['AIRLINE','ORG_AIR'])['CANCELLED'].sum()


df.pivot_table(index='AIRLINE', # groupby 대상 중 index(행)에 위치시킬 컬럼
               columns='ORG_AIR', # groupby 대상 중 column(열)에 위치시킬 컬럼
               values='CANCELLED', # 집계대상 컬럼
               aggfunc='sum', # 집계함수 (default: "mean")
               margins=True, # 행/열별 + 총 집계
               margins_name="총계", # margin 행/열의 이름 (default: all)
               # fill_value=0 # na를 대신할 값
              )





df.groupby(['AIRLINE','MONTH','ORG_AIR'])['CANCELLED'].sum()


df.pivot_table(index=['AIRLINE','ORG_AIR'],
               columns="MONTH",
               values="CANCELLED",
               aggfunc="sum",
               margins=True
              )





import numpy as np


df = pd.DataFrame(np.arange(24).reshape(6,4))
df.columns = ['C1', 'C2', 'C3', 'C4']
df


def func1(value):
    print(value)
    # if value < 0:
    #     return value * 10
    # else:
    #     return value * 20
    return value + 10


func1(df['C1'])


df['C1'].apply(func1)


def func2(value:"시리즈 원소", cnt="더해줄값"):
    return value + cnt


df['C1'].apply(func2, cnt=5)
df['C1'].apply(func2, cnt=100)


# dataframe.apply()에 전달할 함수
def func3(series:"하나의 행/열"):
    # print(series)
    # print("___________")
    # return series.max()
    return series + 100


df.apply(func3)





d = {
    "age":np.random.randint(1, 100, size=30),
    "tall":np.round(np.random.normal(170,10, size=30),2)
}


df = pd.DataFrame(d)
df


df['age'].value_counts()


df['tall'].value_counts()


a = pd.cut(df['age'], # 범주형으로 만들 대상
       bins=3, # 정수: n(3)등분 (최소 ~ 최대)
       right=False,
       labels=["소","중","대"]
      )
# (): opened (불포함),[]: closed (포함)
# (3.906, 35.333]
# 3.906 < n <= 35.333


a


df['나이대'] = a
df


df.groupby('나이대', observed=False)['tall'].mean()


df.groupby('나이대',observed=True)['tall'].count()


# 나누는 지점을 정의 -> list
bins = [0, 20, 60, 90, 100]
b = pd.cut(df['age'],
           bins=bins,
           labels=['청소년','청장년','노년1','노년2']
          )
b


df['나이대2'] = b
df



