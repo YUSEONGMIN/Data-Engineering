








import pandas as pd


# 중첩 리스트(튜플) 이용해서 사용 -> list 안에 list
d1 = pd.DataFrame([[10, 20, 30],
                   [100, 200, 300],
                   [1, 2, 3]],
                  columns=["C1","C2","C3"],
                  index=["I1","I2","I3"])


# print(d1)
d1


# dictionary 이용 생성 {"컬럼명":[컬럼에 들어갈 값들]}
d = {
    "id":['id-1','id-2','id-3','id-4','id-5'],
    "korean":[100,50,70,60,90],
    "english":[90,80,100,60,40]
} # 리스트 원소 개수는 모두 동일해야 함

grade = pd.DataFrame(d)


grade








import os
os.makedirs("saved_data", exist_ok=True)


# 컬럼 구분자: ',', 컬럼명, index명 모두 저장
grade.to_csv("saved_data/grade1.csv")


# index명이 자동증가 정수일 경우 **저장하지 않는 것이 좋다.**
grade.to_csv("saved_data/grade2.csv", index=False) # index 명은 저장안함


grade.to_csv("saved_data/grade3.csv", index=False, header=False) # 컬럼명을 저장안함


grade.to_csv("saved_data/grade4.csv", index=False, sep='\t')





grade.to_excel("saved_data/grade1.xlsx") # pip install 


grade.to_excel("saved_data/grade2.xlsx", index=False) # pip install 





# 피클
grade.to_pickle("saved_data/grade.pkl")


# html
grade.to_html("saved_data/grade.html")





df1 = pd.read_csv("saved_data/grade1.csv")
df1


df2 = pd.read_csv("saved_data/grade1.csv",
                  index_col=0) # 0번 (첫번째) 컬럼을 index 이름으로 사용
df2


df3 = pd.read_csv("saved_data/grade1.csv",
                  index_col='english') # 'id' 컬럼을 index로 사용
df3


# column명만 있는 csv
df4 = pd.read_csv("saved_data/grade2.csv") # 첫행을 column명으로 읽는다.
df4


# 값만 저장돼있는 csv
df5 = pd.read_csv("saved_data/grade3.csv", header=None,
                 names=["id","국어","영어"]) # 컬럼명 지정
df5


# multi index로 저장된 csv
df6 = pd.read_csv("saved_data/grade5.csv", header=[0,1]) # header로 사용할 행들을 묶어서 지정
df6


pd.read_csv('saved_data/grade4.csv', sep='\t')


df_na = pd.read_csv("saved_data/grade_na.csv",
                   na_values=["?","모름"])
df_na # NA, N/A, #NA -> NaN





df7 = pd.read_excel("saved_data/grade2.xlsx")
df7


df8 = pd.read_excel("saved_data/grade1.xlsx", index_col=0)
df8





df9 = pd.read_pickle("saved_data/grade.pkl")
df9


df_list = pd.read_html("saved_data/grade.html")
type(df_list)


df_list[0]


wc_df = pd.read_html("https://ko.wikipedia.org/wiki/FIFA_%EC%9B%94%EB%93%9C%EC%BB%B5")
len(wc_df)


wc_df[0]


#1. data/movie.csv 를 읽어서 변수 movie에 할당.
import pandas as pd
movie = pd.read_csv("data/movie.csv")
movie.shape # (행, 열)


movie.head() # 5행만 조회


#2. 1의 데이터프레임을 csv 파일로 저장(파일명 : saved_data/movie_df.csv)
movie.to_csv("saved_data/movie_df.csv", index=False)


#3. 1의 데이터프레임을 엑셀파일로 저장(파일명 : saved_data/movie_df.xlsx)
movie.to_excel("saved_data/movie_df.xlsx", index=False)


#4. 3에서 저장한 movie_df1.xlsx 파일을 읽어서 m_df 변수에 할당
m_df = pd.read_excel("saved_data/movie_df.xlsx")
m_df.head()


# select 결과를 DataFrame으로 로딩
import pymysql
conn = pymysql.connect(host='127.0.0.1', port=3306,
                       user='scott', password='tiger', db='hr_join')

emp_sql = "select * from emp"
emp_df = pd.read_sql(emp_sql, conn)

sql2 = "select e.emp_name, e.salary, d.dept_name, d.loc\
        from emp e left join dept d on e.dept_id = d.dept_id"
emp_dept_df = pd.read_sql(sql2, conn)

conn.close()


emp_df.head()


emp_dept_df.head()











# movie

df = pd.read_csv('data/movie.csv')
df.shape # 몇행, 몇열


# dataframe의 정보 -> 행/열에 대한 정보
df.info()

# 행 정보: 0 to 4915
# 열 정보: total 28 columns
# 컬럼명: Column
# Non-Null Count: 값의 개수
# Dtype: 컬럼의 데이터 타입
# object => 문자열
# dtypes: Dtype별 컬럼 개수
# movie_facebook_likes -> int64 -> 작은 타입으로 수정 (좋아요 수 한계) => 메모리 절약
# NA 있으면 float로 통일, 더 큰 타입으로 변경


# 컬럼별 결측치 개수
# isnull() -> 원소별로 결측치 여부
# DataFrame.통계량함수() => 컬럼별로 계
df.isnull().sum()
df.isna().sum()


# 데이터 일부 확인
df.head() # 상위 N행을 조회 (기본: 5행)
df.head(20)


df.tail() # 하위 N행을 조회 (기본: 5행)


# 기본적인 통계량을 확인 - describe(): DF - 컬럼을 묶어서 계산
df.describe() # 숫자 타입 컬럼들의 요약 통계량을 출력


df.describe().T # df.T 행과 열의 위치를 바꿈 -> transpose


df.describe(include=['object']).T # 통계량을 볼 컬럼들의 타입을 지정


df.describe(include=['int64','int8'])





df.columns


df.index


grade = pd.read_csv("saved_data/grade2.csv", index_col=0)
grade


grade.columns


grade.index





grade = pd.read_csv("saved_data/grade2.csv")
grade


grade.columns = ["ID", "국어", "영어"]
grade


grade.index = list("ABCDE")
grade





grade.rename(columns={"국어":"KOR","영어":"ENG"}, inplace=True)


grade


grade.rename(index={'A':'가행'})





# 특정 컬럼을 index name으로 만들기
grade.set_index("id", inplace=True)


grade


# index name을 column으로 빼준다.
grade.reset_index()


# index name을 자동증가 index 이름으로 변경 (RangeIndex)
grade.reset_index(drop=True)





grade.drop(columns="english")


grade.drop(columns=["korean","english"])


grade.drop(index="id-2") # 행 삭제


grade.drop(index=["id-2","id-4","id-5"])


grade2 = grade.reset_index()
grade2


grade2.drop(index=[0,2]) # 없는 컬럼/ index 이름으로 지정 -> KeyError 발생. => 타입도 맞춰야함


grade.drop(labels=['id-1','id-3'], axis=0) # 이름, 축방향





grade['math'] = 100 # df['없는 컬럼명'] = 값 추가
grade


grade['math'] = 80 # df['있는컬럼명'] = 값 변경
grade


grade['python'] = [100, 80, 90, 75, 60]
grade


grade['korean']


grade.iloc[1]


grade['총점'] = grade['korean'] + grade['english'] + grade['math'] + grade['python']
grade


grade['평균'] = grade['총점'] / 4
grade








grade["korean"] # 한개 컬럼 조회 -> Series로 변환


r = grade["평균"]
r.name
r.index


# 여러개 컬럼 조회 (리스트에 묶어서 전달): DataFrame으로 반환
grade[['평균','총점']]


grade["english":"python"] # 컬럼 slicing은 안됨. 행 slicing


grade["id-1":"id-3"]
grade.loc["id-1":"id-3"]


grade[grade.columns[1:4]]





movie = pd.read_csv("data/movie.csv")

# 1.  director_name 컬럼의 값들 조회
movie['director_name']
movie.director_name


# 2. actor_1_name, actor_2_name, actor_3_name 컬럼의 값들 
movie[['actor_1_name','actor_2_name','actor_3_name']]


# 3. 1, 3, 4, 7 번 컬럼 조회('director_name', 'duration', 'director_facebook_likes', 'actor_1_facebook_likes')
movie[['director_name', 'duration', 'director_facebook_likes', 'actor_1_facebook_likes']]


movie[movie.columns[[1,3,4,7]]]


# 4. 1 ~ 5 번 컬럼 조회('director_name', 'num_critic_for_reviews', 'duration', director_facebook_likes', 'actor_3_facebook_likes')
movie[movie.columns[1:6]]





movie.info()


movie.select_dtypes(include="object")


movie.select_dtypes(include=["float64","int64"])


movie.select_dtypes(exclude="object")


# filter
# movie[['color','director']]
movie.filter(items=['color','director'])


movie.filter(like='name') # 컬럼명에 name이 포함된 것들을 조회


movie.filter(like='actor')


movie.filter(regex=r"actor_[123]_name")





# 1. 정수형(int64) 컬럼만 조회

# 2. 정수형(int64)과 실수형(float64) 타입을 제외한 컬럼들만 조회

# 3. actor_1_name, actor_2_name, actor_3_name 컬럼의 값을 조회

# 4. actor_1_facebook_likes, actor_1_name 컬럼의 값을 조회

# 5. color, director 컬럼을 조회. 없는 컬럼명이라도 에러가 안나도록 조회하시오.

# 6. movie가 들어가는 컬럼들을 조회.








grade.loc['id-3']


grade.loc[['id-3','id-1','id-5']]


grade.loc["id-2":"id-4"] # index name으로 slicing -> stop을 포함


grade.loc[::-1]


# 행, 열 같이 조회
# loc index: index 이름, 컬럼 이름으로 설정
grade.loc['id-2', '평균']


grade.loc[['id-2','id-4'], '평균']


grade.loc[['id-2','id-4'], ['평균','총점']]


grade.loc[['id-2','id-4'], 'korean':'python']





grade.iloc[0]


grade.iloc[-1]


grade.iloc[[0,-1]]


grade.iloc[1:3] # iloc에서는 stop index는 포함안됨


# 행, 열 (모두 순번으로 지정)
grade.iloc[2, 1]


grade.iloc[2,:4]





# 1.  movie_title 컬럼을 index명으로 지정
m = movie.set_index("movie_title")
m.head()


# 2.  행이름이 Avatar인 행 조회
m.loc["Avatar"]


# 3.  행이름이 Spider-Man 3, The Avengers, Titanic 인 행 조회
m.loc[["Spider-Man 3", "The Avengers", "Titanic"]]


# 4.  행이름 Spectre ~ Robin Hood 까지 범위로 조회
m.loc["Spectre":"Robin Hood"] # :3]


# 5.  행이름이 John Carter 이고 열이름이 director_name 인 값 조회 - John Carter의 감독이름
m.loc["John Carter", ["director_name", "duration"]]


# 6.  1번행 조회
m.iloc[0]


# 7.  마지막 행 조회
m.iloc[-1]


# 8.  1, 2, 5, 6, 9 번행 조회
m.iloc[[1,2,5,6,9]]


# 9.  10 ~ 20 행 조회
m.iloc[10:21]


# 10.  movie dataframe에서 5 ~ 10 행의 color, director_name, num_critic_for_reviews 컬럼(0,1,2번째 컬럼)을 iloc을 이용해 조회
m.iloc[5:11, [0,1,2]]
m.iloc[5:11, :3]





# True인 행들만 조회
# grade[[True,True,False,False,False]]
grade.loc[[True,True,False,False,False]]
grade.iloc[[True,True,False,False,False]]


grade[grade['총점'] >= 300]


grade[grade['총점'] >= 300]['korean']
grade.loc[grade['총점'] >= 300, 'korean']


grade.loc[(grade['총점'] >= 300) & (grade['평균'] >= 90)]





# movie dataframe의 index명을 컬럼 설정한다.

# 1.  상영시간 (duration)이 300 이상인 영화들 조회
movie[movie['duration'] >= 300]


# 2.  상영시간 (duration)이 300 이상인 영화들의 영화제목(movie_title)과 감독이름(director_name) 조회
movie[movie['duration'] >= 300][["movie_title","director_name"]]
movie.loc[movie['duration'] >= 300, ["movie_title","director_name"]]


# 3.  감독이름(director_name)이 'Quentin Tarantino' 의 영화들만 조회
movie.loc[movie['director_name'] == 'Quentin Tarantino']


# 4. James Cameron의 영화중 상영시간이 150분 이상인 영화들의 제목(movie_title), 상영시간(duration), 컬러여부(color) 조회
movie.loc[(movie['director_name'] == 'James Cameron') & (movie['duration'] >= 150), ['movie_title', 'duration', 'color']]
