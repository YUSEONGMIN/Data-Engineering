{
 "cells": [
  {
   "cell_type": "code",
   "execution_count": null,
   "id": "f4a7f42a",
   "metadata": {
    "ExecuteTime": {
     "end_time": "2023-07-11T08:31:13.107604Z",
     "start_time": "2023-07-11T08:31:03.457665Z"
    },
    "executionInfo": {
     "elapsed": 4049,
     "status": "ok",
     "timestamp": 1707192730787,
     "user": {
      "displayName": "김성환",
      "userId": "02802166581970122576"
     },
     "user_tz": -540
    },
    "id": "f4a7f42a"
   },
   "outputs": [],
   "source": [
    "import tensorflow as tf\n",
    "from tensorflow import keras\n",
    "from tensorflow.keras import layers, models, optimizers\n",
    "\n",
    "import numpy as np\n",
    "import matplotlib.pyplot as plt\n",
    "import random\n",
    "\n",
    "random.seed(0)\n",
    "np.random.seed(0)\n",
    "tf.random.set_seed(0)"
   ]
  },
  {
   "cell_type": "code",
   "execution_count": null,
   "id": "50c5e566",
   "metadata": {
    "ExecuteTime": {
     "end_time": "2023-07-11T08:31:13.990576Z",
     "start_time": "2023-07-11T08:31:13.975389Z"
    },
    "executionInfo": {
     "elapsed": 21,
     "status": "ok",
     "timestamp": 1707192730788,
     "user": {
      "displayName": "김성환",
      "userId": "02802166581970122576"
     },
     "user_tz": -540
    },
    "id": "50c5e566"
   },
   "outputs": [],
   "source": [
    "def plot_result(hist, loss_min=None, loss_max=None):\n",
    "\n",
    "    plt.figure(figsize=(10, 5))\n",
    "    plt.subplot(1, 2, 1)\n",
    "    plt.plot(hist.epoch, hist.history['loss'], label=\"train\")\n",
    "    plt.plot(hist.epoch, hist.history['val_loss'], label='validation')\n",
    "    plt.title('Loss')\n",
    "    if loss_min!=None and loss_max!=None:\n",
    "        plt.ylim(loss_min, loss_max)\n",
    "\n",
    "    plt.xlabel('에폭수')\n",
    "    plt.ylabel('loss')\n",
    "    plt.legend()\n",
    "\n",
    "    plt.subplot(1, 2, 2)\n",
    "    plt.plot(hist.epoch, hist.history['accuracy'], label='train')\n",
    "    plt.plot(hist.epoch, hist.history['val_accuracy'], label='validation')\n",
    "    plt.title('Accuracy')\n",
    "    plt.xlabel('에폭수')\n",
    "    plt.ylabel('accuracy')\n",
    "    plt.legend()\n",
    "\n",
    "    plt.tight_layout()\n",
    "    plt.show()"
   ]
  },
  {
   "cell_type": "code",
   "execution_count": 39,
   "id": "3917afab-5ec0-4dab-a233-22dfffa7658d",
   "metadata": {
    "ExecuteTime": {
     "end_time": "2023-07-11T08:31:15.101523Z",
     "start_time": "2023-07-11T08:31:14.641362Z"
    },
    "colab": {
     "base_uri": "https://localhost:8080/"
    },
    "executionInfo": {
     "elapsed": 923,
     "status": "ok",
     "timestamp": 1707283768059,
     "user": {
      "displayName": "Sunghwan KIM",
      "userId": "06010856989212311727"
     },
     "user_tz": -540
    },
    "id": "b0ec5b2d",
    "outputId": "cee8a550-7799-4426-abf7-eb5bffa028ad"
   },
   "outputs": [
    {
     "name": "stdout",
     "output_type": "stream",
     "text": [
      "(60000, 28, 28) (10000, 28, 28) (60000, 10) (10000, 10)\n",
      "float32 float32\n"
     ]
    }
   ],
   "source": [
    "# MNIST 데이터셋 로딩\n",
    "(train_image, train_label), (test_image, test_label)  = keras.datasets.mnist.load_data()\n",
    "\n",
    "# 전처리 - X: scaling, y: one hot encoding 처리\n",
    "y_train = keras.utils.to_categorical(train_label)\n",
    "y_test = keras.utils.to_categorical(test_label)\n",
    "\n",
    "X_train = train_image.astype('float32')/255  # uint8->float32, min max scaling\n",
    "X_test = test_image.astype('float32')/255\n",
    "\n",
    "print(X_train.shape, X_test.shape, y_train.shape, y_test.shape)\n",
    "print(X_train.dtype, X_test.dtype)"
   ]
  },
  {
   "cell_type": "code",
   "execution_count": null,
   "id": "4e98a908",
   "metadata": {
    "ExecuteTime": {
     "end_time": "2023-07-11T08:31:16.269477Z",
     "start_time": "2023-07-11T08:31:16.240545Z"
    },
    "executionInfo": {
     "elapsed": 5,
     "status": "ok",
     "timestamp": 1707192731562,
     "user": {
      "displayName": "김성환",
      "userId": "02802166581970122576"
     },
     "user_tz": -540
    },
    "id": "4e98a908"
   },
   "outputs": [],
   "source": [
    "# 하이퍼파리미터\n",
    "LEARNING_RATE = 0.001\n",
    "N_EPOCH = 20\n",
    "N_BATCH = 1000"
   ]
  },
  {
   "cell_type": "markdown",
   "id": "f6b71a5f",
   "metadata": {
    "id": "f6b71a5f"
   },
   "source": [
    "# 모델의 크기 변경 -> 성능 확인"
   ]
  },
  {
   "cell_type": "code",
   "execution_count": null,
   "id": "7bfacdc2",
   "metadata": {
    "ExecuteTime": {
     "end_time": "2023-07-11T08:31:20.623957Z",
     "start_time": "2023-07-11T08:31:20.592408Z"
    },
    "executionInfo": {
     "elapsed": 4,
     "status": "ok",
     "timestamp": 1707192731562,
     "user": {
      "displayName": "김성환",
      "userId": "02802166581970122576"
     },
     "user_tz": -540
    },
    "id": "7bfacdc2"
   },
   "outputs": [],
   "source": [
    "def get_small_model():\n",
    "    model = keras.Sequential()\n",
    "    model.add(layers.Flatten(input_shape=(28,28)))\n",
    "    model.add(layers.Dense(10, activation='softmax', name='output_layer'))\n",
    "\n",
    "    model.compile(optimizer=optimizers.Adam(learning_rate=LEARNING_RATE),\n",
    "                  loss='categorical_crossentropy', metrics=['accuracy'])\n",
    "    return model"
   ]
  },
  {
   "cell_type": "code",
   "execution_count": 7,
   "id": "0c722215",
   "metadata": {
    "ExecuteTime": {
     "end_time": "2023-07-11T08:32:01.608888Z",
     "start_time": "2023-07-11T08:32:01.549420Z"
    },
    "colab": {
     "base_uri": "https://localhost:8080/"
    },
    "executionInfo": {
     "elapsed": 379,
     "status": "ok",
     "timestamp": 1707268743099,
     "user": {
      "displayName": "Sunghwan KIM",
      "userId": "06010856989212311727"
     },
     "user_tz": -540
    },
    "id": "0c722215",
    "outputId": "4072c4bf-5c19-4043-c765-bdd387ad225d"
   },
   "outputs": [
    {
     "name": "stdout",
     "output_type": "stream",
     "text": [
      "Model: \"sequential\"\n",
      "_________________________________________________________________\n",
      " Layer (type)                Output Shape              Param #   \n",
      "=================================================================\n",
      " flatten (Flatten)           (None, 784)               0         \n",
      "                                                                 \n",
      " output_layer (Dense)        (None, 10)                7850      \n",
      "                                                                 \n",
      "=================================================================\n",
      "Total params: 7850 (30.66 KB)\n",
      "Trainable params: 7850 (30.66 KB)\n",
      "Non-trainable params: 0 (0.00 Byte)\n",
      "_________________________________________________________________\n"
     ]
    }
   ],
   "source": [
    "small_model = get_small_model()\n",
    "small_model.summary()"
   ]
  },
  {
   "cell_type": "code",
   "execution_count": 8,
   "id": "f1d030fd",
   "metadata": {
    "ExecuteTime": {
     "end_time": "2023-07-11T08:32:11.892148Z",
     "start_time": "2023-07-11T08:32:03.792895Z"
    },
    "colab": {
     "base_uri": "https://localhost:8080/"
    },
    "executionInfo": {
     "elapsed": 8483,
     "status": "ok",
     "timestamp": 1707268837562,
     "user": {
      "displayName": "Sunghwan KIM",
      "userId": "06010856989212311727"
     },
     "user_tz": -540
    },
    "id": "f1d030fd",
    "outputId": "aa1e7ca0-0632-4ad0-de67-f58c78694ab0",
    "scrolled": true
   },
   "outputs": [
    {
     "name": "stdout",
     "output_type": "stream",
     "text": [
      "Epoch 1/20\n",
      "45/45 [==============================] - 1s 13ms/step - loss: 1.5940 - accuracy: 0.5828 - val_loss: 1.0347 - val_accuracy: 0.8077\n",
      "Epoch 2/20\n",
      "45/45 [==============================] - 0s 7ms/step - loss: 0.8629 - accuracy: 0.8252 - val_loss: 0.6953 - val_accuracy: 0.8536\n",
      "Epoch 3/20\n",
      "45/45 [==============================] - 0s 6ms/step - loss: 0.6501 - accuracy: 0.8545 - val_loss: 0.5665 - val_accuracy: 0.8695\n",
      "Epoch 4/20\n",
      "45/45 [==============================] - 0s 9ms/step - loss: 0.5518 - accuracy: 0.8692 - val_loss: 0.4978 - val_accuracy: 0.8782\n",
      "Epoch 5/20\n",
      "45/45 [==============================] - 1s 12ms/step - loss: 0.4938 - accuracy: 0.8801 - val_loss: 0.4542 - val_accuracy: 0.8876\n",
      "Epoch 6/20\n",
      "45/45 [==============================] - 0s 10ms/step - loss: 0.4546 - accuracy: 0.8864 - val_loss: 0.4242 - val_accuracy: 0.8910\n",
      "Epoch 7/20\n",
      "45/45 [==============================] - 1s 12ms/step - loss: 0.4265 - accuracy: 0.8919 - val_loss: 0.4020 - val_accuracy: 0.8961\n",
      "Epoch 8/20\n",
      "45/45 [==============================] - 1s 12ms/step - loss: 0.4051 - accuracy: 0.8959 - val_loss: 0.3849 - val_accuracy: 0.9000\n",
      "Epoch 9/20\n",
      "45/45 [==============================] - 0s 7ms/step - loss: 0.3883 - accuracy: 0.8990 - val_loss: 0.3715 - val_accuracy: 0.9033\n",
      "Epoch 10/20\n",
      "45/45 [==============================] - 0s 7ms/step - loss: 0.3745 - accuracy: 0.9017 - val_loss: 0.3611 - val_accuracy: 0.9037\n",
      "Epoch 11/20\n",
      "45/45 [==============================] - 0s 7ms/step - loss: 0.3629 - accuracy: 0.9039 - val_loss: 0.3520 - val_accuracy: 0.9063\n",
      "Epoch 12/20\n",
      "45/45 [==============================] - 0s 7ms/step - loss: 0.3532 - accuracy: 0.9058 - val_loss: 0.3442 - val_accuracy: 0.9078\n",
      "Epoch 13/20\n",
      "45/45 [==============================] - 0s 7ms/step - loss: 0.3450 - accuracy: 0.9077 - val_loss: 0.3373 - val_accuracy: 0.9091\n",
      "Epoch 14/20\n",
      "45/45 [==============================] - 0s 7ms/step - loss: 0.3377 - accuracy: 0.9093 - val_loss: 0.3317 - val_accuracy: 0.9094\n",
      "Epoch 15/20\n",
      "45/45 [==============================] - 0s 6ms/step - loss: 0.3314 - accuracy: 0.9105 - val_loss: 0.3265 - val_accuracy: 0.9109\n",
      "Epoch 16/20\n",
      "45/45 [==============================] - 0s 7ms/step - loss: 0.3258 - accuracy: 0.9119 - val_loss: 0.3219 - val_accuracy: 0.9124\n",
      "Epoch 17/20\n",
      "45/45 [==============================] - 0s 7ms/step - loss: 0.3206 - accuracy: 0.9133 - val_loss: 0.3183 - val_accuracy: 0.9131\n",
      "Epoch 18/20\n",
      "45/45 [==============================] - 0s 7ms/step - loss: 0.3161 - accuracy: 0.9140 - val_loss: 0.3145 - val_accuracy: 0.9132\n",
      "Epoch 19/20\n",
      "45/45 [==============================] - 0s 6ms/step - loss: 0.3120 - accuracy: 0.9151 - val_loss: 0.3119 - val_accuracy: 0.9139\n",
      "Epoch 20/20\n",
      "45/45 [==============================] - 0s 6ms/step - loss: 0.3083 - accuracy: 0.9156 - val_loss: 0.3087 - val_accuracy: 0.9144\n"
     ]
    }
   ],
   "source": [
    "# TODO: 100 에폭 이상 학습\n",
    "hist = small_model.fit(X_train, y_train, epochs=N_EPOCH, batch_size=N_BATCH, validation_split=0.25)"
   ]
  },
  {
   "cell_type": "code",
   "execution_count": 10,
   "id": "f5049ab1",
   "metadata": {
    "ExecuteTime": {
     "end_time": "2023-07-11T08:32:14.387059Z",
     "start_time": "2023-07-11T08:32:13.742294Z"
    },
    "colab": {
     "base_uri": "https://localhost:8080/",
     "height": 507
    },
    "executionInfo": {
     "elapsed": 1199,
     "status": "ok",
     "timestamp": 1707269028226,
     "user": {
      "displayName": "Sunghwan KIM",
      "userId": "06010856989212311727"
     },
     "user_tz": -540
    },
    "id": "f5049ab1",
    "outputId": "dab375db-0995-4b32-caf0-ec13b7911674"
   },
   "outputs": [
    {
     "data": {
      "image/png": "[encoded data removed]",
      "text/plain": [
       "<Figure size 1000x500 with 2 Axes>"
      ]
     },
     "metadata": {},
     "output_type": "display_data"
    }
   ],
   "source": [
    "# 시각화\n",
    "plot_result(hist, 0.25, 0.5)"
   ]
  },
  {
   "cell_type": "code",
   "execution_count": null,
   "id": "bc3176b2",
   "metadata": {
    "ExecuteTime": {
     "end_time": "2023-07-11T08:32:30.325895Z",
     "start_time": "2023-07-11T08:32:30.288089Z"
    },
    "executionInfo": {
     "elapsed": 10,
     "status": "ok",
     "timestamp": 1707192744394,
     "user": {
      "displayName": "김성환",
      "userId": "02802166581970122576"
     },
     "user_tz": -540
    },
    "id": "bc3176b2"
   },
   "outputs": [],
   "source": [
    "def get_big_model():\n",
    "    model = keras.Sequential()\n",
    "    model.add(layers.Flatten(input_shape=(28,28)))\n",
    "\n",
    "    model.add(layers.Dense(512, activation='relu'))\n",
    "    model.add(layers.Dense(512, activation='relu'))\n",
    "    model.add(layers.Dense(256, activation='relu'))\n",
    "    model.add(layers.Dense(256, activation='relu'))\n",
    "    model.add(layers.Dense(128, activation='relu'))\n",
    "    model.add(layers.Dense(128, activation='relu'))\n",
    "    model.add(layers.Dense(64, activation='relu'))\n",
    "    model.add(layers.Dense(64, activation='relu'))\n",
    "\n",
    "    model.add(layers.Dense(10, activation='softmax', name='output_layer'))\n",
    "\n",
    "    model.compile(optimizer=optimizers.Adam(learning_rate=LEARNING_RATE),\n",
    "                  loss='categorical_crossentropy', metrics=['accuracy'])\n",
    "    return model"
   ]
  },
  {
   "cell_type": "code",
   "execution_count": 12,
   "id": "a635f70a",
   "metadata": {
    "ExecuteTime": {
     "end_time": "2023-07-11T08:32:31.259205Z",
     "start_time": "2023-07-11T08:32:31.042756Z"
    },
    "colab": {
     "base_uri": "https://localhost:8080/"
    },
    "executionInfo": {
     "elapsed": 367,
     "status": "ok",
     "timestamp": 1707269197216,
     "user": {
      "displayName": "Sunghwan KIM",
      "userId": "06010856989212311727"
     },
     "user_tz": -540
    },
    "id": "a635f70a",
    "outputId": "f8b866b5-f17c-4cf2-b57f-72740d578364"
   },
   "outputs": [
    {
     "name": "stdout",
     "output_type": "stream",
     "text": [
      "Model: \"sequential_1\"\n",
      "_________________________________________________________________\n",
      " Layer (type)                Output Shape              Param #   \n",
      "=================================================================\n",
      " flatten_1 (Flatten)         (None, 784)               0         \n",
      "                                                                 \n",
      " dense (Dense)               (None, 512)               401920    \n",
      "                                                                 \n",
      " dense_1 (Dense)             (None, 512)               262656    \n",
      "                                                                 \n",
      " dense_2 (Dense)             (None, 256)               131328    \n",
      "                                                                 \n",
      " dense_3 (Dense)             (None, 256)               65792     \n",
      "                                                                 \n",
      " dense_4 (Dense)             (None, 128)               32896     \n",
      "                                                                 \n",
      " dense_5 (Dense)             (None, 128)               16512     \n",
      "                                                                 \n",
      " dense_6 (Dense)             (None, 64)                8256      \n",
      "                                                                 \n",
      " dense_7 (Dense)             (None, 64)                4160      \n",
      "                                                                 \n",
      " output_layer (Dense)        (None, 10)                650       \n",
      "                                                                 \n",
      "=================================================================\n",
      "Total params: 924170 (3.53 MB)\n",
      "Trainable params: 924170 (3.53 MB)\n",
      "Non-trainable params: 0 (0.00 Byte)\n",
      "_________________________________________________________________\n"
     ]
    }
   ],
   "source": [
    "big_model = get_big_model()\n",
    "big_model.summary()"
   ]
  },
  {
   "cell_type": "code",
   "execution_count": 13,
   "id": "9911faf7",
   "metadata": {
    "ExecuteTime": {
     "end_time": "2023-07-11T08:33:25.144868Z",
     "start_time": "2023-07-11T08:32:34.635402Z"
    },
    "colab": {
     "base_uri": "https://localhost:8080/"
    },
    "executionInfo": {
     "elapsed": 143816,
     "status": "ok",
     "timestamp": 1707269385209,
     "user": {
      "displayName": "Sunghwan KIM",
      "userId": "06010856989212311727"
     },
     "user_tz": -540
    },
    "id": "9911faf7",
    "outputId": "589d765f-21bf-4722-e55e-cb7477487fda",
    "scrolled": true
   },
   "outputs": [
    {
     "name": "stdout",
     "output_type": "stream",
     "text": [
      "Epoch 1/20\n",
      "45/45 [==============================] - 7s 126ms/step - loss: 0.8318 - accuracy: 0.7217 - val_loss: 0.2611 - val_accuracy: 0.9240\n",
      "Epoch 2/20\n",
      "45/45 [==============================] - 4s 98ms/step - loss: 0.1889 - accuracy: 0.9443 - val_loss: 0.1472 - val_accuracy: 0.9555\n",
      "Epoch 3/20\n",
      "45/45 [==============================] - 6s 127ms/step - loss: 0.1188 - accuracy: 0.9647 - val_loss: 0.1395 - val_accuracy: 0.9601\n",
      "Epoch 4/20\n",
      "45/45 [==============================] - 4s 94ms/step - loss: 0.0833 - accuracy: 0.9749 - val_loss: 0.1107 - val_accuracy: 0.9694\n",
      "Epoch 5/20\n",
      "45/45 [==============================] - 4s 94ms/step - loss: 0.0582 - accuracy: 0.9832 - val_loss: 0.1286 - val_accuracy: 0.9641\n",
      "Epoch 6/20\n",
      "45/45 [==============================] - 5s 117ms/step - loss: 0.0422 - accuracy: 0.9874 - val_loss: 0.1010 - val_accuracy: 0.9733\n",
      "Epoch 7/20\n",
      "45/45 [==============================] - 4s 98ms/step - loss: 0.0295 - accuracy: 0.9917 - val_loss: 0.0990 - val_accuracy: 0.9741\n",
      "Epoch 8/20\n",
      "45/45 [==============================] - 4s 98ms/step - loss: 0.0259 - accuracy: 0.9924 - val_loss: 0.1100 - val_accuracy: 0.9721\n",
      "Epoch 9/20\n",
      "45/45 [==============================] - 5s 116ms/step - loss: 0.0215 - accuracy: 0.9932 - val_loss: 0.1127 - val_accuracy: 0.9732\n",
      "Epoch 10/20\n",
      "45/45 [==============================] - 4s 98ms/step - loss: 0.0162 - accuracy: 0.9951 - val_loss: 0.1244 - val_accuracy: 0.9705\n",
      "Epoch 11/20\n",
      "45/45 [==============================] - 5s 117ms/step - loss: 0.0109 - accuracy: 0.9968 - val_loss: 0.1213 - val_accuracy: 0.9741\n",
      "Epoch 12/20\n",
      "45/45 [==============================] - 4s 98ms/step - loss: 0.0094 - accuracy: 0.9974 - val_loss: 0.1272 - val_accuracy: 0.9743\n",
      "Epoch 13/20\n",
      "45/45 [==============================] - 4s 98ms/step - loss: 0.0111 - accuracy: 0.9964 - val_loss: 0.1423 - val_accuracy: 0.9694\n",
      "Epoch 14/20\n",
      "45/45 [==============================] - 5s 120ms/step - loss: 0.0135 - accuracy: 0.9958 - val_loss: 0.1283 - val_accuracy: 0.9731\n",
      "Epoch 15/20\n",
      "45/45 [==============================] - 4s 98ms/step - loss: 0.0118 - accuracy: 0.9964 - val_loss: 0.1186 - val_accuracy: 0.9745\n",
      "Epoch 16/20\n",
      "45/45 [==============================] - 5s 104ms/step - loss: 0.0094 - accuracy: 0.9970 - val_loss: 0.1256 - val_accuracy: 0.9744\n",
      "Epoch 17/20\n",
      "45/45 [==============================] - 5s 110ms/step - loss: 0.0096 - accuracy: 0.9969 - val_loss: 0.1103 - val_accuracy: 0.9776\n",
      "Epoch 18/20\n",
      "45/45 [==============================] - 4s 98ms/step - loss: 0.0060 - accuracy: 0.9982 - val_loss: 0.1288 - val_accuracy: 0.9748\n",
      "Epoch 19/20\n",
      "45/45 [==============================] - 5s 121ms/step - loss: 0.0025 - accuracy: 0.9994 - val_loss: 0.1432 - val_accuracy: 0.9767\n",
      "Epoch 20/20\n",
      "45/45 [==============================] - 4s 98ms/step - loss: 0.0047 - accuracy: 0.9985 - val_loss: 0.1347 - val_accuracy: 0.9756\n"
     ]
    }
   ],
   "source": [
    "hist = big_model.fit(X_train, y_train, epochs=N_EPOCH, batch_size=N_BATCH, validation_split=0.25)"
   ]
  },
  {
   "cell_type": "code",
   "execution_count": null,
   "id": "96dceb00",
   "metadata": {
    "ExecuteTime": {
     "end_time": "2023-07-11T08:33:29.694718Z",
     "start_time": "2023-07-11T08:33:28.994390Z"
    },
    "colab": {
     "base_uri": "https://localhost:8080/",
     "height": 617
    },
    "executionInfo": {
     "elapsed": 841,
     "status": "ok",
     "timestamp": 1707192758167,
     "user": {
      "displayName": "김성환",
      "userId": "02802166581970122576"
     },
     "user_tz": -540
    },
    "id": "96dceb00",
    "outputId": "8bc278b6-1330-40a1-a582-416bc4171b92"
   },
   "outputs": [],
   "source": [
    "plot_result(hist, 0.05, 0.15)"
   ]
  },
  {
   "cell_type": "code",
   "execution_count": 16,
   "id": "614815cb",
   "metadata": {
    "ExecuteTime": {
     "end_time": "2023-07-11T08:33:29.694718Z",
     "start_time": "2023-07-11T08:33:28.994390Z"
    },
    "colab": {
     "base_uri": "https://localhost:8080/",
     "height": 507
    },
    "executionInfo": {
     "elapsed": 1925,
     "status": "ok",
     "timestamp": 1707269587254,
     "user": {
      "displayName": "Sunghwan KIM",
      "userId": "06010856989212311727"
     },
     "user_tz": -540
    },
    "id": "96dceb00",
    "outputId": "af865ee5-c708-4b86-952f-32a538b895a3"
   },
   "outputs": [
    {
     "data": {
      "image/png": "[encoded data removed]",
      "text/plain": [
       "<Figure size 1000x500 with 2 Axes>"
      ]
     },
     "metadata": {},
     "output_type": "display_data"
    }
   ],
   "source": [
    "plot_result(hist)#, 0.05, 0.15)"
   ]
  },
  {
   "cell_type": "code",
   "execution_count": 17,
   "id": "38b17641-90f6-4158-ac7c-37c6f1b4da2c",
   "metadata": {
    "ExecuteTime": {
     "end_time": "2023-07-11T08:33:34.776685Z",
     "start_time": "2023-07-11T08:33:34.435825Z"
    },
    "colab": {
     "base_uri": "https://localhost:8080/"
    },
    "executionInfo": {
     "elapsed": 2248,
     "status": "ok",
     "timestamp": 1707269650580,
     "user": {
      "displayName": "Sunghwan KIM",
      "userId": "06010856989212311727"
     },
     "user_tz": -540
    },
    "id": "08463639",
    "outputId": "0eaa34c7-7940-4c1d-92d3-12fe613f4b29"
   },
   "outputs": [
    {
     "name": "stdout",
     "output_type": "stream",
     "text": [
      "313/313 [==============================] - 1s 1ms/step - loss: 0.2987 - accuracy: 0.9169\n",
      "[0.29868367314338684, 0.9168999791145325]\n",
      "313/313 [==============================] - 1s 3ms/step - loss: 0.1141 - accuracy: 0.9772\n",
      "[0.11409172415733337, 0.9771999716758728]\n"
     ]
    }
   ],
   "source": [
    "print(small_model.evaluate(X_test, y_test))\n",
    "print(big_model.evaluate(X_test, y_test))"
   ]
  },
  {
   "cell_type": "markdown",
   "id": "c7170b74",
   "metadata": {
    "id": "c7170b74"
   },
   "source": [
    "# Dropout Layer"
   ]
  },
  {
   "cell_type": "code",
   "execution_count": null,
   "id": "ade6cce4",
   "metadata": {
    "ExecuteTime": {
     "end_time": "2023-07-11T08:44:11.063075Z",
     "start_time": "2023-07-11T08:44:11.028544Z"
    },
    "executionInfo": {
     "elapsed": 47,
     "status": "ok",
     "timestamp": 1707192809920,
     "user": {
      "displayName": "김성환",
      "userId": "02802166581970122576"
     },
     "user_tz": -540
    },
    "id": "ade6cce4"
   },
   "outputs": [],
   "source": [
    "# Dropout Layer는 Dropout을 적용하려는 Layer 앞에 정의한다.\n",
    "def get_dropout_model():\n",
    "    model = keras.Sequential()\n",
    "    model.add(layers.Flatten(input_shape=(28,28)))\n",
    "\n",
    "    model.add(layers.Dropout(rate=0.3))  # rate: dropout node의 비율 (0.2 ~ 0.5)\n",
    "    model.add(layers.Dense(512, activation='relu'))\n",
    "\n",
    "    model.add(layers.Dropout(0.3))\n",
    "    model.add(layers.Dense(512, activation='relu'))\n",
    "\n",
    "    model.add(layers.Dropout(0.3))\n",
    "    model.add(layers.Dense(256, activation='relu'))\n",
    "\n",
    "    model.add(layers.Dropout(0.3))\n",
    "    model.add(layers.Dense(256, activation='relu'))\n",
    "    model.add(layers.Dropout(0.3))\n",
    "    model.add(layers.Dense(128, activation='relu'))\n",
    "    model.add(layers.Dropout(0.3))\n",
    "    model.add(layers.Dense(128, activation='relu'))\n",
    "    model.add(layers.Dropout(0.3))\n",
    "    model.add(layers.Dense(64, activation='relu'))\n",
    "    model.add(layers.Dropout(0.3))\n",
    "    model.add(layers.Dense(64, activation='relu'))\n",
    "\n",
    "    model.add(layers.Dropout(0.3))\n",
    "    model.add(layers.Dense(10, activation='softmax', name='output_layer')) # output layer\n",
    "\n",
    "    model.compile(optimizer=optimizers.Adam(learning_rate=LEARNING_RATE),\n",
    "                  loss='categorical_crossentropy', metrics=['accuracy'])\n",
    "    return model"
   ]
  },
  {
   "cell_type": "code",
   "execution_count": 20,
   "id": "d82efcfb",
   "metadata": {
    "ExecuteTime": {
     "end_time": "2023-07-11T08:44:12.244616Z",
     "start_time": "2023-07-11T08:44:11.962055Z"
    },
    "colab": {
     "base_uri": "https://localhost:8080/"
    },
    "executionInfo": {
     "elapsed": 738,
     "status": "ok",
     "timestamp": 1707272054850,
     "user": {
      "displayName": "Sunghwan KIM",
      "userId": "06010856989212311727"
     },
     "user_tz": -540
    },
    "id": "d82efcfb",
    "outputId": "f0aafc10-872a-4ee5-991d-a9ecfd1ffc8d",
    "scrolled": true
   },
   "outputs": [
    {
     "name": "stdout",
     "output_type": "stream",
     "text": [
      "Model: \"sequential_2\"\n",
      "_________________________________________________________________\n",
      " Layer (type)                Output Shape              Param #   \n",
      "=================================================================\n",
      " flatten_2 (Flatten)         (None, 784)               0         \n",
      "                                                                 \n",
      " dropout (Dropout)           (None, 784)               0         \n",
      "                                                                 \n",
      " dense_8 (Dense)             (None, 512)               401920    \n",
      "                                                                 \n",
      " dropout_1 (Dropout)         (None, 512)               0         \n",
      "                                                                 \n",
      " dense_9 (Dense)             (None, 512)               262656    \n",
      "                                                                 \n",
      " dropout_2 (Dropout)         (None, 512)               0         \n",
      "                                                                 \n",
      " dense_10 (Dense)            (None, 256)               131328    \n",
      "                                                                 \n",
      " dropout_3 (Dropout)         (None, 256)               0         \n",
      "                                                                 \n",
      " dense_11 (Dense)            (None, 256)               65792     \n",
      "                                                                 \n",
      " dropout_4 (Dropout)         (None, 256)               0         \n",
      "                                                                 \n",
      " dense_12 (Dense)            (None, 128)               32896     \n",
      "                                                                 \n",
      " dropout_5 (Dropout)         (None, 128)               0         \n",
      "                                                                 \n",
      " dense_13 (Dense)            (None, 128)               16512     \n",
      "                                                                 \n",
      " dropout_6 (Dropout)         (None, 128)               0         \n",
      "                                                                 \n",
      " dense_14 (Dense)            (None, 64)                8256      \n",
      "                                                                 \n",
      " dropout_7 (Dropout)         (None, 64)                0         \n",
      "                                                                 \n",
      " dense_15 (Dense)            (None, 64)                4160      \n",
      "                                                                 \n",
      " dropout_8 (Dropout)         (None, 64)                0         \n",
      "                                                                 \n",
      " output_layer (Dense)        (None, 10)                650       \n",
      "                                                                 \n",
      "=================================================================\n",
      "Total params: 924170 (3.53 MB)\n",
      "Trainable params: 924170 (3.53 MB)\n",
      "Non-trainable params: 0 (0.00 Byte)\n",
      "_________________________________________________________________\n"
     ]
    }
   ],
   "source": [
    "dropout_model = get_dropout_model()\n",
    "dropout_model.summary()"
   ]
  },
  {
   "cell_type": "code",
   "execution_count": 21,
   "id": "dec74d32",
   "metadata": {
    "ExecuteTime": {
     "end_time": "2023-07-11T08:45:35.596796Z",
     "start_time": "2023-07-11T08:44:15.596384Z"
    },
    "colab": {
     "base_uri": "https://localhost:8080/"
    },
    "executionInfo": {
     "elapsed": 144947,
     "status": "ok",
     "timestamp": 1707272242777,
     "user": {
      "displayName": "Sunghwan KIM",
      "userId": "06010856989212311727"
     },
     "user_tz": -540
    },
    "id": "dec74d32",
    "outputId": "d5436cfe-1b83-47cc-916f-e79d86d4f27c",
    "scrolled": true
   },
   "outputs": [
    {
     "name": "stdout",
     "output_type": "stream",
     "text": [
      "Epoch 1/20\n",
      "45/45 [==============================] - 8s 131ms/step - loss: 2.0861 - accuracy: 0.2072 - val_loss: 1.5121 - val_accuracy: 0.5263\n",
      "Epoch 2/20\n",
      "45/45 [==============================] - 6s 129ms/step - loss: 1.2113 - accuracy: 0.5754 - val_loss: 0.5251 - val_accuracy: 0.8032\n",
      "Epoch 3/20\n",
      "45/45 [==============================] - 6s 126ms/step - loss: 0.6344 - accuracy: 0.7938 - val_loss: 0.2665 - val_accuracy: 0.9314\n",
      "Epoch 4/20\n",
      "45/45 [==============================] - 5s 119ms/step - loss: 0.4141 - accuracy: 0.8964 - val_loss: 0.1881 - val_accuracy: 0.9509\n",
      "Epoch 5/20\n",
      "45/45 [==============================] - 6s 137ms/step - loss: 0.3344 - accuracy: 0.9212 - val_loss: 0.1722 - val_accuracy: 0.9576\n",
      "Epoch 6/20\n",
      "45/45 [==============================] - 5s 116ms/step - loss: 0.2900 - accuracy: 0.9342 - val_loss: 0.1623 - val_accuracy: 0.9603\n",
      "Epoch 7/20\n",
      "45/45 [==============================] - 6s 141ms/step - loss: 0.2587 - accuracy: 0.9413 - val_loss: 0.1425 - val_accuracy: 0.9653\n",
      "Epoch 8/20\n",
      "45/45 [==============================] - 5s 120ms/step - loss: 0.2277 - accuracy: 0.9486 - val_loss: 0.1421 - val_accuracy: 0.9661\n",
      "Epoch 9/20\n",
      "45/45 [==============================] - 6s 137ms/step - loss: 0.2162 - accuracy: 0.9496 - val_loss: 0.1323 - val_accuracy: 0.9683\n",
      "Epoch 10/20\n",
      "45/45 [==============================] - 5s 119ms/step - loss: 0.1995 - accuracy: 0.9540 - val_loss: 0.1294 - val_accuracy: 0.9693\n",
      "Epoch 11/20\n",
      "45/45 [==============================] - 6s 142ms/step - loss: 0.1965 - accuracy: 0.9560 - val_loss: 0.1261 - val_accuracy: 0.9696\n",
      "Epoch 12/20\n",
      "45/45 [==============================] - 5s 120ms/step - loss: 0.1739 - accuracy: 0.9598 - val_loss: 0.1255 - val_accuracy: 0.9709\n",
      "Epoch 13/20\n",
      "45/45 [==============================] - 6s 138ms/step - loss: 0.1668 - accuracy: 0.9624 - val_loss: 0.1241 - val_accuracy: 0.9721\n",
      "Epoch 14/20\n",
      "45/45 [==============================] - 5s 114ms/step - loss: 0.1660 - accuracy: 0.9616 - val_loss: 0.1216 - val_accuracy: 0.9708\n",
      "Epoch 15/20\n",
      "45/45 [==============================] - 6s 135ms/step - loss: 0.1592 - accuracy: 0.9640 - val_loss: 0.1122 - val_accuracy: 0.9731\n",
      "Epoch 16/20\n",
      "45/45 [==============================] - 6s 123ms/step - loss: 0.1525 - accuracy: 0.9653 - val_loss: 0.1051 - val_accuracy: 0.9745\n",
      "Epoch 17/20\n",
      "45/45 [==============================] - 5s 119ms/step - loss: 0.1440 - accuracy: 0.9662 - val_loss: 0.1069 - val_accuracy: 0.9750\n",
      "Epoch 18/20\n",
      "45/45 [==============================] - 6s 132ms/step - loss: 0.1414 - accuracy: 0.9672 - val_loss: 0.1094 - val_accuracy: 0.9755\n",
      "Epoch 19/20\n",
      "45/45 [==============================] - 5s 119ms/step - loss: 0.1365 - accuracy: 0.9675 - val_loss: 0.1122 - val_accuracy: 0.9745\n",
      "Epoch 20/20\n",
      "45/45 [==============================] - 6s 141ms/step - loss: 0.1306 - accuracy: 0.9697 - val_loss: 0.1149 - val_accuracy: 0.9744\n"
     ]
    }
   ],
   "source": [
    "# Dropout Layer를 사용하면 사용하지 않았을 때 보다 epoch을 더 늘려야 한다.\n",
    "hist = dropout_model.fit(X_train, y_train, epochs=N_EPOCH, batch_size=N_BATCH, validation_split=0.25)"
   ]
  },
  {
   "cell_type": "code",
   "execution_count": 22,
   "id": "9432294d",
   "metadata": {
    "ExecuteTime": {
     "end_time": "2023-02-21T08:40:13.478489Z",
     "start_time": "2023-02-21T08:40:12.998512Z"
    },
    "colab": {
     "base_uri": "https://localhost:8080/",
     "height": 507
    },
    "executionInfo": {
     "elapsed": 1326,
     "status": "ok",
     "timestamp": 1707272305131,
     "user": {
      "displayName": "Sunghwan KIM",
      "userId": "06010856989212311727"
     },
     "user_tz": -540
    },
    "id": "9432294d",
    "outputId": "e7832055-61ea-43d9-fc42-b14b5825ca57"
   },
   "outputs": [
    {
     "data": {
      "image/png": "[encoded data removed]",
      "text/plain": [
       "<Figure size 1000x500 with 2 Axes>"
      ]
     },
     "metadata": {},
     "output_type": "display_data"
    }
   ],
   "source": [
    "plot_result(hist)"
   ]
  },
  {
   "cell_type": "markdown",
   "id": "976893a2",
   "metadata": {
    "id": "976893a2"
   },
   "source": [
    "# Batch Normalization 예제"
   ]
  },
  {
   "cell_type": "code",
   "execution_count": null,
   "id": "3a96fa75",
   "metadata": {
    "ExecuteTime": {
     "end_time": "2023-07-11T08:46:12.348158Z",
     "start_time": "2023-07-11T08:46:12.335112Z"
    },
    "executionInfo": {
     "elapsed": 14,
     "status": "ok",
     "timestamp": 1707192832853,
     "user": {
      "displayName": "김성환",
      "userId": "02802166581970122576"
     },
     "user_tz": -540
    },
    "id": "3a96fa75"
   },
   "outputs": [],
   "source": [
    "def get_model_bn(lr=0.01):\n",
    "\n",
    "    model = keras.Sequential()\n",
    "    model.add(layers.Flatten(input_shape=(28,28)))\n",
    "\n",
    "\n",
    "    # (Dropout Layer ->) Dense Layer -> Batch Normalization -> ReLU(Activation)\n",
    "    model.add(layers.Dense(256))  # WX + B\n",
    "    model.add(layers.BatchNormalization())  # 평균: 0+beta, 표준편차: 1 * gamma\n",
    "    model.add(layers.ReLU())      # activation 함수:   layers.Activation(\"함수명\")\n",
    "\n",
    "    model.add(layers.Dense(256))\n",
    "    model.add(layers.BatchNormalization())\n",
    "    model.add(layers.ReLU())\n",
    "\n",
    "    model.add(layers.Dense(128))\n",
    "    model.add(layers.BatchNormalization())\n",
    "    model.add(layers.ReLU())\n",
    "\n",
    "    model.add(layers.Dense(128))\n",
    "    model.add(layers.BatchNormalization())\n",
    "    model.add(layers.ReLU())\n",
    "\n",
    "    model.add(layers.Dense(64))\n",
    "    model.add(layers.BatchNormalization())\n",
    "    model.add(layers.ReLU())\n",
    "\n",
    "    model.add(layers.Dense(64))\n",
    "    model.add(layers.BatchNormalization())\n",
    "    model.add(layers.ReLU())\n",
    "\n",
    "    # output layer\n",
    "    model.add(layers.Dense(10))\n",
    "    model.add(layers.Softmax())\n",
    "\n",
    "    model.compile(optimizer=optimizers.Adam(learning_rate=lr),\n",
    "                  loss='categorical_crossentropy', metrics=['accuracy'])\n",
    "    return model"
   ]
  },
  {
   "cell_type": "code",
   "execution_count": 24,
   "id": "5e44f0e3",
   "metadata": {
    "ExecuteTime": {
     "end_time": "2023-07-11T08:46:14.314460Z",
     "start_time": "2023-07-11T08:46:13.933806Z"
    },
    "colab": {
     "base_uri": "https://localhost:8080/"
    },
    "executionInfo": {
     "elapsed": 1529,
     "status": "ok",
     "timestamp": 1707274098635,
     "user": {
      "displayName": "Sunghwan KIM",
      "userId": "06010856989212311727"
     },
     "user_tz": -540
    },
    "id": "5e44f0e3",
    "outputId": "bba83f81-96ae-4481-9f34-12e5b53b5bdd",
    "scrolled": true
   },
   "outputs": [
    {
     "name": "stdout",
     "output_type": "stream",
     "text": [
      "Model: \"sequential_3\"\n",
      "_________________________________________________________________\n",
      " Layer (type)                Output Shape              Param #   \n",
      "=================================================================\n",
      " flatten_3 (Flatten)         (None, 784)               0         \n",
      "                                                                 \n",
      " dense_16 (Dense)            (None, 256)               200960    \n",
      "                                                                 \n",
      " batch_normalization (Batch  (None, 256)               1024      \n",
      " Normalization)                                                  \n",
      "                                                                 \n",
      " re_lu (ReLU)                (None, 256)               0         \n",
      "                                                                 \n",
      " dense_17 (Dense)            (None, 256)               65792     \n",
      "                                                                 \n",
      " batch_normalization_1 (Bat  (None, 256)               1024      \n",
      " chNormalization)                                                \n",
      "                                                                 \n",
      " re_lu_1 (ReLU)              (None, 256)               0         \n",
      "                                                                 \n",
      " dense_18 (Dense)            (None, 128)               32896     \n",
      "                                                                 \n",
      " batch_normalization_2 (Bat  (None, 128)               512       \n",
      " chNormalization)                                                \n",
      "                                                                 \n",
      " re_lu_2 (ReLU)              (None, 128)               0         \n",
      "                                                                 \n",
      " dense_19 (Dense)            (None, 128)               16512     \n",
      "                                                                 \n",
      " batch_normalization_3 (Bat  (None, 128)               512       \n",
      " chNormalization)                                                \n",
      "                                                                 \n",
      " re_lu_3 (ReLU)              (None, 128)               0         \n",
      "                                                                 \n",
      " dense_20 (Dense)            (None, 64)                8256      \n",
      "                                                                 \n",
      " batch_normalization_4 (Bat  (None, 64)                256       \n",
      " chNormalization)                                                \n",
      "                                                                 \n",
      " re_lu_4 (ReLU)              (None, 64)                0         \n",
      "                                                                 \n",
      " dense_21 (Dense)            (None, 64)                4160      \n",
      "                                                                 \n",
      " batch_normalization_5 (Bat  (None, 64)                256       \n",
      " chNormalization)                                                \n",
      "                                                                 \n",
      " re_lu_5 (ReLU)              (None, 64)                0         \n",
      "                                                                 \n",
      " dense_22 (Dense)            (None, 10)                650       \n",
      "                                                                 \n",
      " softmax (Softmax)           (None, 10)                0         \n",
      "                                                                 \n",
      "=================================================================\n",
      "Total params: 332810 (1.27 MB)\n",
      "Trainable params: 331018 (1.26 MB)\n",
      "Non-trainable params: 1792 (7.00 KB)\n",
      "_________________________________________________________________\n"
     ]
    }
   ],
   "source": [
    "model_bn = get_model_bn(LEARNING_RATE)\n",
    "model_bn.summary()"
   ]
  },
  {
   "cell_type": "code",
   "execution_count": 25,
   "id": "4c78c908",
   "metadata": {
    "ExecuteTime": {
     "end_time": "2023-07-11T08:46:50.665888Z",
     "start_time": "2023-07-11T08:46:19.381985Z"
    },
    "colab": {
     "base_uri": "https://localhost:8080/"
    },
    "executionInfo": {
     "elapsed": 50655,
     "status": "ok",
     "timestamp": 1707274252607,
     "user": {
      "displayName": "Sunghwan KIM",
      "userId": "06010856989212311727"
     },
     "user_tz": -540
    },
    "id": "4c78c908",
    "outputId": "45ef7d29-b2e0-45d4-adef-d28b3e6a5829",
    "scrolled": true
   },
   "outputs": [
    {
     "name": "stdout",
     "output_type": "stream",
     "text": [
      "Epoch 1/20\n",
      "45/45 [==============================] - 6s 79ms/step - loss: 0.6862 - accuracy: 0.8197 - val_loss: 1.5431 - val_accuracy: 0.9221\n",
      "Epoch 2/20\n",
      "45/45 [==============================] - 2s 48ms/step - loss: 0.1577 - accuracy: 0.9606 - val_loss: 0.7911 - val_accuracy: 0.9490\n",
      "Epoch 3/20\n",
      "45/45 [==============================] - 2s 48ms/step - loss: 0.0824 - accuracy: 0.9809 - val_loss: 0.3756 - val_accuracy: 0.9582\n",
      "Epoch 4/20\n",
      "45/45 [==============================] - 2s 49ms/step - loss: 0.0483 - accuracy: 0.9897 - val_loss: 0.1849 - val_accuracy: 0.9677\n",
      "Epoch 5/20\n",
      "45/45 [==============================] - 2s 47ms/step - loss: 0.0281 - accuracy: 0.9948 - val_loss: 0.1337 - val_accuracy: 0.9709\n",
      "Epoch 6/20\n",
      "45/45 [==============================] - 3s 76ms/step - loss: 0.0166 - accuracy: 0.9976 - val_loss: 0.1040 - val_accuracy: 0.9730\n",
      "Epoch 7/20\n",
      "45/45 [==============================] - 2s 46ms/step - loss: 0.0109 - accuracy: 0.9984 - val_loss: 0.0979 - val_accuracy: 0.9732\n",
      "Epoch 8/20\n",
      "45/45 [==============================] - 2s 46ms/step - loss: 0.0068 - accuracy: 0.9993 - val_loss: 0.0930 - val_accuracy: 0.9751\n",
      "Epoch 9/20\n",
      "45/45 [==============================] - 2s 48ms/step - loss: 0.0047 - accuracy: 0.9997 - val_loss: 0.0950 - val_accuracy: 0.9743\n",
      "Epoch 10/20\n",
      "45/45 [==============================] - 2s 47ms/step - loss: 0.0029 - accuracy: 1.0000 - val_loss: 0.0924 - val_accuracy: 0.9763\n",
      "Epoch 11/20\n",
      "45/45 [==============================] - 3s 67ms/step - loss: 0.0021 - accuracy: 1.0000 - val_loss: 0.0926 - val_accuracy: 0.9762\n",
      "Epoch 12/20\n",
      "45/45 [==============================] - 2s 50ms/step - loss: 0.0017 - accuracy: 1.0000 - val_loss: 0.0932 - val_accuracy: 0.9768\n",
      "Epoch 13/20\n",
      "45/45 [==============================] - 2s 46ms/step - loss: 0.0013 - accuracy: 1.0000 - val_loss: 0.0941 - val_accuracy: 0.9771\n",
      "Epoch 14/20\n",
      "45/45 [==============================] - 2s 49ms/step - loss: 0.0012 - accuracy: 1.0000 - val_loss: 0.0961 - val_accuracy: 0.9764\n",
      "Epoch 15/20\n",
      "45/45 [==============================] - 2s 49ms/step - loss: 0.0010 - accuracy: 1.0000 - val_loss: 0.0961 - val_accuracy: 0.9767\n",
      "Epoch 16/20\n",
      "45/45 [==============================] - 2s 52ms/step - loss: 8.7255e-04 - accuracy: 1.0000 - val_loss: 0.0971 - val_accuracy: 0.9764\n",
      "Epoch 17/20\n",
      "45/45 [==============================] - 3s 63ms/step - loss: 7.9427e-04 - accuracy: 1.0000 - val_loss: 0.0983 - val_accuracy: 0.9763\n",
      "Epoch 18/20\n",
      "45/45 [==============================] - 2s 49ms/step - loss: 6.9776e-04 - accuracy: 1.0000 - val_loss: 0.0982 - val_accuracy: 0.9773\n",
      "Epoch 19/20\n",
      "45/45 [==============================] - 2s 49ms/step - loss: 6.4085e-04 - accuracy: 1.0000 - val_loss: 0.0995 - val_accuracy: 0.9768\n",
      "Epoch 20/20\n",
      "45/45 [==============================] - 2s 47ms/step - loss: 5.7945e-04 - accuracy: 1.0000 - val_loss: 0.1003 - val_accuracy: 0.9771\n"
     ]
    }
   ],
   "source": [
    "hist = model_bn.fit(X_train, y_train, epochs=N_EPOCH, batch_size=N_BATCH, validation_split=0.25)"
   ]
  },
  {
   "cell_type": "code",
   "execution_count": 26,
   "id": "dd159e40",
   "metadata": {
    "ExecuteTime": {
     "end_time": "2023-02-22T02:03:55.827225Z",
     "start_time": "2023-02-22T02:03:55.241212Z"
    },
    "colab": {
     "base_uri": "https://localhost:8080/",
     "height": 507
    },
    "executionInfo": {
     "elapsed": 1180,
     "status": "ok",
     "timestamp": 1707275114935,
     "user": {
      "displayName": "Sunghwan KIM",
      "userId": "06010856989212311727"
     },
     "user_tz": -540
    },
    "id": "dd159e40",
    "outputId": "fd61bd77-9629-47bc-a053-7c140f36330a"
   },
   "outputs": [
    {
     "data": {
      "image/png": "[encoded data removed]",
      "text/plain": [
       "<Figure size 1000x500 with 2 Axes>"
      ]
     },
     "metadata": {},
     "output_type": "display_data"
    }
   ],
   "source": [
    "plot_result(hist)"
   ]
  },
  {
   "cell_type": "markdown",
   "id": "167dd99f",
   "metadata": {
    "id": "167dd99f"
   },
   "source": [
    "# Learning Rate 변화를 통한 성능개선\n",
    "\n",
    "## Learning Rate scheduler 를 이용\n",
    "- 특정 step 마다 learning rate를 변경"
   ]
  },
  {
   "cell_type": "code",
   "execution_count": 32,
   "id": "OprkhhqgoFAu",
   "metadata": {
    "colab": {
     "base_uri": "https://localhost:8080/"
    },
    "executionInfo": {
     "elapsed": 360,
     "status": "ok",
     "timestamp": 1707277102906,
     "user": {
      "displayName": "Sunghwan KIM",
      "userId": "06010856989212311727"
     },
     "user_tz": -540
    },
    "id": "OprkhhqgoFAu",
    "outputId": "e62cb61b-0d92-4f02-f42c-b56c71466ace"
   },
   "outputs": [
    {
     "data": {
      "text/plain": [
       "45"
      ]
     },
     "execution_count": 32,
     "metadata": {},
     "output_type": "execute_result"
    }
   ],
   "source": [
    "# 에폭당 step 수\n",
    "# ceil(train데이터개수/batch_size)\n",
    "int(np.ceil(X_train.shape[0]*0.75/N_BATCH))"
   ]
  },
  {
   "cell_type": "code",
   "execution_count": null,
   "id": "2d33ce3b",
   "metadata": {
    "ExecuteTime": {
     "end_time": "2023-02-22T02:47:30.300438Z",
     "start_time": "2023-02-22T02:47:30.287010Z"
    },
    "executionInfo": {
     "elapsed": 434,
     "status": "ok",
     "timestamp": 1707193000210,
     "user": {
      "displayName": "김성환",
      "userId": "02802166581970122576"
     },
     "user_tz": -540
    },
    "id": "2d33ce3b"
   },
   "outputs": [],
   "source": [
    "def get_model_lr(initial_lr=0.01):\n",
    "    model = keras.Sequential()\n",
    "    model.add(layers.Flatten(input_shape=(28,28)))\n",
    "    model.add(layers.Dense(256, activation='relu'))\n",
    "    model.add(layers.Dense(128, activation='relu'))\n",
    "    model.add(layers.Dense(64, activation='relu'))\n",
    "    model.add(layers.Dense(10, activation='softmax', name='output_layer'))\n",
    "\n",
    "    # Learning Rate Scheduler 객체 생성 -> optimizer의 LR로 설정\n",
    "    # Learning Rate Scheduler: 학습하는 동안 LR를 어떻게 바꿀지 스케줄링 하는 객체.\n",
    "    #     ExponentialDecay: 특정 step당 특정 비율로 LR를 변경해 나간다.\n",
    "    lr_sch = optimizers.schedules.ExponentialDecay(\n",
    "        initial_learning_rate=initial_lr,   # 시작 LR\n",
    "        decay_steps=int(np.ceil(X_train.shape[0]*0.75/N_BATCH)) * 5,   # 5 epoch. 몇 step당  변경할지 step수를 설정.\n",
    "        decay_rate=0.5,  # 변경 비율. 현재LR * decay_rate = 새LR\n",
    "        staircase=True # decay_steps 가 되면 한번에 바꿀지(True) 조금씩 바꿔 나갈지(False) 여부\n",
    "    )\n",
    "\n",
    "    model.compile(optimizer=optimizers.Adam(learning_rate=lr_sch),\n",
    "                  loss='categorical_crossentropy', metrics=['accuracy'])\n",
    "\n",
    "    return model"
   ]
  },
  {
   "cell_type": "code",
   "execution_count": 36,
   "id": "ab5e3436",
   "metadata": {
    "ExecuteTime": {
     "end_time": "2023-02-22T02:48:52.838966Z",
     "start_time": "2023-02-22T02:48:29.400420Z"
    },
    "colab": {
     "base_uri": "https://localhost:8080/"
    },
    "executionInfo": {
     "elapsed": 42814,
     "status": "ok",
     "timestamp": 1707277443869,
     "user": {
      "displayName": "Sunghwan KIM",
      "userId": "06010856989212311727"
     },
     "user_tz": -540
    },
    "id": "ab5e3436",
    "outputId": "f819d933-a364-4da6-b87b-355147244004",
    "scrolled": true
   },
   "outputs": [
    {
     "name": "stdout",
     "output_type": "stream",
     "text": [
      "Epoch 1/20\n",
      "45/45 [==============================] - 3s 41ms/step - loss: 0.7400 - accuracy: 0.8025 - val_loss: 0.2858 - val_accuracy: 0.9173\n",
      "Epoch 2/20\n",
      "45/45 [==============================] - 1s 30ms/step - loss: 0.2402 - accuracy: 0.9306 - val_loss: 0.2052 - val_accuracy: 0.9410\n",
      "Epoch 3/20\n",
      "45/45 [==============================] - 1s 27ms/step - loss: 0.1731 - accuracy: 0.9496 - val_loss: 0.1710 - val_accuracy: 0.9514\n",
      "Epoch 4/20\n",
      "45/45 [==============================] - 1s 30ms/step - loss: 0.1311 - accuracy: 0.9617 - val_loss: 0.1373 - val_accuracy: 0.9601\n",
      "Epoch 5/20\n",
      "45/45 [==============================] - 1s 27ms/step - loss: 0.1044 - accuracy: 0.9695 - val_loss: 0.1273 - val_accuracy: 0.9621\n",
      "Epoch 6/20\n",
      "45/45 [==============================] - 1s 27ms/step - loss: 0.0839 - accuracy: 0.9760 - val_loss: 0.1188 - val_accuracy: 0.9655\n",
      "Epoch 7/20\n",
      "45/45 [==============================] - 1s 27ms/step - loss: 0.0792 - accuracy: 0.9778 - val_loss: 0.1174 - val_accuracy: 0.9661\n",
      "Epoch 8/20\n",
      "45/45 [==============================] - 1s 27ms/step - loss: 0.0772 - accuracy: 0.9786 - val_loss: 0.1174 - val_accuracy: 0.9655\n",
      "Epoch 9/20\n",
      "45/45 [==============================] - 2s 38ms/step - loss: 0.0754 - accuracy: 0.9795 - val_loss: 0.1166 - val_accuracy: 0.9661\n",
      "Epoch 10/20\n",
      "45/45 [==============================] - 2s 37ms/step - loss: 0.0738 - accuracy: 0.9798 - val_loss: 0.1149 - val_accuracy: 0.9661\n",
      "Epoch 11/20\n",
      "45/45 [==============================] - 1s 26ms/step - loss: 0.0713 - accuracy: 0.9805 - val_loss: 0.1138 - val_accuracy: 0.9663\n",
      "Epoch 12/20\n",
      "45/45 [==============================] - 1s 27ms/step - loss: 0.0708 - accuracy: 0.9809 - val_loss: 0.1137 - val_accuracy: 0.9666\n",
      "Epoch 13/20\n",
      "45/45 [==============================] - 1s 30ms/step - loss: 0.0706 - accuracy: 0.9809 - val_loss: 0.1137 - val_accuracy: 0.9667\n",
      "Epoch 14/20\n",
      "45/45 [==============================] - 1s 27ms/step - loss: 0.0704 - accuracy: 0.9809 - val_loss: 0.1135 - val_accuracy: 0.9665\n",
      "Epoch 15/20\n",
      "45/45 [==============================] - 1s 26ms/step - loss: 0.0702 - accuracy: 0.9811 - val_loss: 0.1135 - val_accuracy: 0.9666\n",
      "Epoch 16/20\n",
      "45/45 [==============================] - 1s 26ms/step - loss: 0.0699 - accuracy: 0.9811 - val_loss: 0.1134 - val_accuracy: 0.9669\n",
      "Epoch 17/20\n",
      "45/45 [==============================] - 1s 26ms/step - loss: 0.0699 - accuracy: 0.9811 - val_loss: 0.1134 - val_accuracy: 0.9667\n",
      "Epoch 18/20\n",
      "45/45 [==============================] - 1s 29ms/step - loss: 0.0699 - accuracy: 0.9811 - val_loss: 0.1134 - val_accuracy: 0.9667\n",
      "Epoch 19/20\n",
      "45/45 [==============================] - 2s 45ms/step - loss: 0.0699 - accuracy: 0.9811 - val_loss: 0.1134 - val_accuracy: 0.9667\n",
      "Epoch 20/20\n",
      "45/45 [==============================] - 1s 31ms/step - loss: 0.0698 - accuracy: 0.9811 - val_loss: 0.1134 - val_accuracy: 0.9667\n"
     ]
    }
   ],
   "source": [
    "model_lr = get_model_lr(LEARNING_RATE)\n",
    "hist = model_lr.fit(X_train, y_train, epochs=N_EPOCH, batch_size=N_BATCH, validation_split=0.25)"
   ]
  },
  {
   "cell_type": "markdown",
   "id": "64ea9b5f",
   "metadata": {
    "id": "64ea9b5f"
   },
   "source": [
    "## callback 을 이용해 학습률 변경\n",
    "- ReduceLROnPlateau callback을 이용"
   ]
  },
  {
   "cell_type": "code",
   "execution_count": null,
   "id": "91b2a407",
   "metadata": {
    "ExecuteTime": {
     "end_time": "2023-02-22T03:27:19.206159Z",
     "start_time": "2023-02-22T03:27:19.198043Z"
    },
    "executionInfo": {
     "elapsed": 573,
     "status": "ok",
     "timestamp": 1707193043948,
     "user": {
      "displayName": "김성환",
      "userId": "02802166581970122576"
     },
     "user_tz": -540
    },
    "id": "91b2a407"
   },
   "outputs": [],
   "source": [
    "def get_model_lr2(initial_lr=0.01):\n",
    "    model = keras.Sequential()\n",
    "    model.add(layers.Flatten(input_shape=(28,28)))\n",
    "    model.add(layers.Dense(256, activation='relu'))\n",
    "    model.add(layers.Dense(128, activation='relu'))\n",
    "    model.add(layers.Dense(64, activation='relu'))\n",
    "    model.add(layers.Dense(10, activation='softmax', name='output_layer'))\n",
    "\n",
    "    model.compile(optimizer=optimizers.Adam(learning_rate=initial_lr),\n",
    "                  loss='categorical_crossentropy', metrics=['accuracy'])\n",
    "\n",
    "    return model"
   ]
  },
  {
   "cell_type": "code",
   "execution_count": null,
   "id": "b401e266",
   "metadata": {
    "ExecuteTime": {
     "end_time": "2023-02-22T03:27:57.532586Z",
     "start_time": "2023-02-22T03:27:57.438685Z"
    },
    "executionInfo": {
     "elapsed": 4,
     "status": "ok",
     "timestamp": 1707193046030,
     "user": {
      "displayName": "김성환",
      "userId": "02802166581970122576"
     },
     "user_tz": -540
    },
    "id": "b401e266"
   },
   "outputs": [],
   "source": [
    "model_lr2 = get_model_lr2(LEARNING_RATE)"
   ]
  },
  {
   "cell_type": "code",
   "execution_count": 43,
   "id": "dd9bcae6",
   "metadata": {
    "ExecuteTime": {
     "end_time": "2023-02-22T03:33:11.067426Z",
     "start_time": "2023-02-22T03:32:28.895971Z"
    },
    "colab": {
     "base_uri": "https://localhost:8080/"
    },
    "executionInfo": {
     "elapsed": 42352,
     "status": "ok",
     "timestamp": 1707284489688,
     "user": {
      "displayName": "Sunghwan KIM",
      "userId": "06010856989212311727"
     },
     "user_tz": -540
    },
    "id": "dd9bcae6",
    "outputId": "5f24cf69-ef4f-4ce2-9347-1ad2918ec2ce",
    "scrolled": true
   },
   "outputs": [
    {
     "name": "stdout",
     "output_type": "stream",
     "text": [
      "Epoch 1/20\n",
      "45/45 [==============================] - 2s 33ms/step - loss: 0.7560 - accuracy: 0.8014 - val_loss: 0.2726 - val_accuracy: 0.9232 - lr: 0.0010\n",
      "Epoch 2/20\n",
      "45/45 [==============================] - 1s 31ms/step - loss: 0.2316 - accuracy: 0.9333 - val_loss: 0.2084 - val_accuracy: 0.9400 - lr: 0.0010\n",
      "Epoch 3/20\n",
      "45/45 [==============================] - 1s 31ms/step - loss: 0.1688 - accuracy: 0.9516 - val_loss: 0.1751 - val_accuracy: 0.9503 - lr: 0.0010\n",
      "Epoch 4/20\n",
      "45/45 [==============================] - 1s 31ms/step - loss: 0.1316 - accuracy: 0.9617 - val_loss: 0.1526 - val_accuracy: 0.9553 - lr: 0.0010\n",
      "Epoch 5/20\n",
      "45/45 [==============================] - 1s 27ms/step - loss: 0.1069 - accuracy: 0.9688 - val_loss: 0.1365 - val_accuracy: 0.9605 - lr: 0.0010\n",
      "Epoch 6/20\n",
      "45/45 [==============================] - 1s 31ms/step - loss: 0.0883 - accuracy: 0.9746 - val_loss: 0.1379 - val_accuracy: 0.9613 - lr: 0.0010\n",
      "Epoch 7/20\n",
      "45/45 [==============================] - 2s 36ms/step - loss: 0.0848 - accuracy: 0.9751 - val_loss: 0.1138 - val_accuracy: 0.9678 - lr: 0.0010\n",
      "Epoch 8/20\n",
      "45/45 [==============================] - 2s 43ms/step - loss: 0.0635 - accuracy: 0.9817 - val_loss: 0.1149 - val_accuracy: 0.9667 - lr: 0.0010\n",
      "Epoch 9/20\n",
      "45/45 [==============================] - 1s 30ms/step - loss: 0.0547 - accuracy: 0.9844 - val_loss: 0.1066 - val_accuracy: 0.9701 - lr: 0.0010\n",
      "Epoch 10/20\n",
      "45/45 [==============================] - 1s 27ms/step - loss: 0.0447 - accuracy: 0.9876 - val_loss: 0.1024 - val_accuracy: 0.9713 - lr: 0.0010\n",
      "Epoch 11/20\n",
      "45/45 [==============================] - 1s 27ms/step - loss: 0.0401 - accuracy: 0.9888 - val_loss: 0.1038 - val_accuracy: 0.9701 - lr: 0.0010\n",
      "Epoch 12/20\n",
      "45/45 [==============================] - 1s 27ms/step - loss: 0.0349 - accuracy: 0.9905 - val_loss: 0.0973 - val_accuracy: 0.9723 - lr: 0.0010\n",
      "Epoch 13/20\n",
      "45/45 [==============================] - 1s 27ms/step - loss: 0.0284 - accuracy: 0.9927 - val_loss: 0.0985 - val_accuracy: 0.9728 - lr: 0.0010\n",
      "Epoch 14/20\n",
      "45/45 [==============================] - 1s 27ms/step - loss: 0.0241 - accuracy: 0.9940 - val_loss: 0.0991 - val_accuracy: 0.9737 - lr: 0.0010\n",
      "Epoch 15/20\n",
      "43/45 [===========================>..] - ETA: 0s - loss: 0.0213 - accuracy: 0.9948\n",
      "Epoch 15: ReduceLROnPlateau reducing learning rate to 0.0005000000237487257.\n",
      "45/45 [==============================] - 1s 27ms/step - loss: 0.0212 - accuracy: 0.9948 - val_loss: 0.0998 - val_accuracy: 0.9727 - lr: 0.0010\n",
      "Epoch 16/20\n",
      "45/45 [==============================] - 1s 32ms/step - loss: 0.0152 - accuracy: 0.9969 - val_loss: 0.0938 - val_accuracy: 0.9745 - lr: 5.0000e-04\n",
      "Epoch 17/20\n",
      "45/45 [==============================] - 2s 46ms/step - loss: 0.0129 - accuracy: 0.9978 - val_loss: 0.0941 - val_accuracy: 0.9735 - lr: 5.0000e-04\n",
      "Epoch 18/20\n",
      "45/45 [==============================] - 1s 27ms/step - loss: 0.0118 - accuracy: 0.9981 - val_loss: 0.0939 - val_accuracy: 0.9749 - lr: 5.0000e-04\n",
      "Epoch 19/20\n",
      "44/45 [============================>.] - ETA: 0s - loss: 0.0103 - accuracy: 0.9986\n",
      "Epoch 19: ReduceLROnPlateau reducing learning rate to 0.0002500000118743628.\n",
      "45/45 [==============================] - 1s 27ms/step - loss: 0.0104 - accuracy: 0.9986 - val_loss: 0.0972 - val_accuracy: 0.9753 - lr: 5.0000e-04\n",
      "Epoch 20/20\n",
      "45/45 [==============================] - 1s 27ms/step - loss: 0.0091 - accuracy: 0.9989 - val_loss: 0.0934 - val_accuracy: 0.9751 - lr: 2.5000e-04\n"
     ]
    }
   ],
   "source": [
    "# 학습중, 특정 평가지표의 성능이 지정한 epoch동안 학습을 해도 개선이 안되면 LR를 변경.\n",
    "lr_callback = keras.callbacks.ReduceLROnPlateau(monitor='val_loss', # 평가지표\n",
    "                                                factor=0.5,  # LR 변화율. 새LR = 현재LR * factor\n",
    "                                                patience=3,  # 개선되는지 기다려볼 epoch수.\n",
    "                                                verbose=2    # LR가 변경될때 마다 log(기록)을 출력.(0, 1, 2)\n",
    "                                               )\n",
    "\n",
    "hist = model_lr2.fit(X_train, y_train, epochs=N_EPOCH + 20, batch_size=N_BATCH, validation_split=0.25\n",
    "                     , callbacks=[lr_callback])"
   ]
  }
 ],
 "metadata": {
  "colab": {
   "provenance": []
  },
  "kernelspec": {
   "display_name": "Python 3 (ipykernel)",
   "language": "python",
   "name": "python3"
  },
  "language_info": {
   "codemirror_mode": {
    "name": "ipython",
    "version": 3
   },
   "file_extension": ".py",
   "mimetype": "text/x-python",
   "name": "python",
   "nbconvert_exporter": "python",
   "pygments_lexer": "ipython3",
   "version": "3.11.5"
  },
  "toc": {
   "base_numbering": 1,
   "nav_menu": {},
   "number_sections": true,
   "sideBar": true,
   "skip_h1_title": false,
   "title_cell": "Table of Contents",
   "title_sidebar": "Contents",
   "toc_cell": false,
   "toc_position": {},
   "toc_section_display": true,
   "toc_window_display": false
  },
  "varInspector": {
   "cols": {
    "lenName": 16,
    "lenType": 16,
    "lenVar": 40
   },
   "kernels_config": {
    "python": {
     "delete_cmd_postfix": "",
     "delete_cmd_prefix": "del ",
     "library": "var_list.py",
     "varRefreshCmd": "print(var_dic_list())"
    },
    "r": {
     "delete_cmd_postfix": ") ",
     "delete_cmd_prefix": "rm(",
     "library": "var_list.r",
     "varRefreshCmd": "cat(var_dic_list()) "
    }
   },
   "types_to_exclude": [
    "module",
    "function",
    "builtin_function_or_method",
    "instance",
    "_Feature"
   ],
   "window_display": false
  }
 },
 "nbformat": 4,
 "nbformat_minor": 5
}
