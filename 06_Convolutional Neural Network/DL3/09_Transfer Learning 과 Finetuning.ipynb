{
 "cells": [
  {
   "cell_type": "code",
   "execution_count": null,
   "metadata": {
    "colab": {
     "base_uri": "https://localhost:8080/"
    },
    "executionInfo": {
     "elapsed": 30491,
     "status": "ok",
     "timestamp": 1707302449940,
     "user": {
      "displayName": "김성환",
      "userId": "02802166581970122576"
     },
     "user_tz": -540
    },
    "id": "_ky92HC_AePb",
    "outputId": "5dbd45dc-bd50-49bb-eec5-0926c1340c57"
   },
   "outputs": [],
   "source": [
    "from google.colab import drive\n",
    "drive.mount('/content/drive')"
   ]
  },
  {
   "cell_type": "markdown",
   "metadata": {
    "id": "qYJvarnUbfRC"
   },
   "source": [
    "# GlobalAveragePooling (GAP)\n",
    "- 입력 Feature map의 채널별로 평균값을 추출하여 1 x 1 x channel 의 Feature map을 생성하는 Pooling\n",
    "- `model.add(keras.layers.GlobalAveragePooling2D())`\n",
    "![gap01](figures/09_gap_01.png)"
   ]
  },
  {
   "cell_type": "markdown",
   "metadata": {
    "id": "aVaIaFDfbfRN"
   },
   "source": [
    "- Feature Extraction layer에서 추출한 Feature map을 Classifier layer로 Flatten해서 전달하면 많은 연결노드와 파라미터가 필요하게된다.     \n",
    "GAP를 사용하면 노드와 파라미터의 개수를 효과적으로 줄일 수 있다.\n",
    "- Feature map의 채널수가 많을 경우 GAP를 사용하는 것이 효과적이나 채널수가 적다면 Flatten을 사용하는 것이 좋다.\n",
    "\n",
    "\n",
    "![gap02](figures/09_gap_02.png)"
   ]
  },
  {
   "cell_type": "markdown",
   "metadata": {
    "id": "ZEiUymWcbfRZ"
   },
   "source": [
    "# Pretrained Model\n",
    "\n",
    "- (다른 목적을 위해)미리 학습된 모델.\n",
    "- Pretrained model을 현재 해결하려는 문제에 이용한다.\n",
    "- 대부분 내가 만들려는 네트워크 모델에 포함시켜 사용한다.\n",
    "    - Pretrained Model의 Feature Extractor 부분(Backbone network)을 내가 만드는 모델의 Feature Extractor로 추가하여 모델을 구성한다.\n",
    "    - 이런 방식을 Transfer Learning (전이 학습)이라고 한다."
   ]
  },
  {
   "cell_type": "markdown",
   "metadata": {
    "id": "ZMoMaAtpAZ6J"
   },
   "source": [
    "## Keras에서 제공하는 Pretrained Model\n",
    "- tensorflow.keras.applications 패키지를 통해 제공\n",
    "    - https://www.tensorflow.org/api_docs/python/tf/keras/applications?hl=ko\n",
    "    - Modules\n",
    "        - 각 모델별 입력 Image 전처리 함수 제공\n",
    "    - Functions\n",
    "        - 각 모델 생성함수\n",
    "- 모델 생성함수의 주요 매개변수\n",
    "    - `weights`: 모델의 학습된 weight 지정.\n",
    "        - 기본값- 'imagenet'. ImageNet 데이터셋으로 학습된 weight를 가진 모델 생성\n",
    "    - `include_top`: fully connected layer(분류기)를 포함할지 여부. True 포함시킴, False: 포함 안 시킴\n",
    "        - False를 지정하면 Feature Extractor인 Convolution Layer들로만 구성된 모델이 생성된다.\n",
    "    - `input_shape`: Input(입력) 이미지의 크기 shape. 3D 텐서로 지정. (높이, 너비, 채널). 기본값: (224,224,3)\n",
    "    "
   ]
  },
  {
   "cell_type": "markdown",
   "metadata": {
    "id": "d2KnohqLAZ6K"
   },
   "source": [
    "> 딥러닝 모델기반 application 개발시 대부분 Transfer Learning을 한다.  \n",
    "> 다양한 분야에서 다양한 네트워크 모델들이 구현되어 공개 되어 있으며 학습된 Parameter들도 제공되고 있다.  \n",
    "> [paperswithcode](https://paperswithcode.com/)에서 State Of The Art(SOTA) 논문들과 그 구현된 모델을 확인할 수 있다.\n",
    "\n",
    "> **State Of The Art(SOTA)**: 특정 시점에 특정 분야에서 가장 성능이 좋은 모델을 말한다."
   ]
  },
  {
   "cell_type": "markdown",
   "metadata": {
    "id": "QOCdlXbgAZ6K"
   },
   "source": [
    "## Keras 제공 Pretrained model"
   ]
  },
  {
   "cell_type": "code",
   "execution_count": null,
   "metadata": {
    "ExecuteTime": {
     "end_time": "2023-07-18T08:27:23.025596Z",
     "start_time": "2023-07-18T08:27:17.627678Z"
    },
    "executionInfo": {
     "elapsed": 2854,
     "status": "ok",
     "timestamp": 1707302452791,
     "user": {
      "displayName": "김성환",
      "userId": "02802166581970122576"
     },
     "user_tz": -540
    },
    "id": "HNtzy3FRAZ6K"
   },
   "outputs": [],
   "source": [
    "from tensorflow import keras\n",
    "from tensorflow.keras import applications"
   ]
  },
  {
   "cell_type": "code",
   "execution_count": null,
   "metadata": {
    "ExecuteTime": {
     "end_time": "2023-07-18T08:27:28.008988Z",
     "start_time": "2023-07-18T08:27:23.494008Z"
    },
    "colab": {
     "base_uri": "https://localhost:8080/"
    },
    "executionInfo": {
     "elapsed": 4728,
     "status": "ok",
     "timestamp": 1707302457516,
     "user": {
      "displayName": "김성환",
      "userId": "02802166581970122576"
     },
     "user_tz": -540
    },
    "id": "CldjGUsgAZ6L",
    "outputId": "91b8231f-1ef5-4233-ea6c-f94c4c833e62"
   },
   "outputs": [],
   "source": [
    "vgg16_1 = applications.VGG16(weights='imagenet',\n",
    "                             include_top=False,\n",
    "                             input_shape=(224,224,3)\n",
    "                            )"
   ]
  },
  {
   "cell_type": "code",
   "execution_count": null,
   "metadata": {
    "ExecuteTime": {
     "end_time": "2023-07-18T08:27:29.142522Z",
     "start_time": "2023-07-18T08:27:29.077319Z"
    },
    "colab": {
     "base_uri": "https://localhost:8080/"
    },
    "executionInfo": {
     "elapsed": 11,
     "status": "ok",
     "timestamp": 1707302457516,
     "user": {
      "displayName": "김성환",
      "userId": "02802166581970122576"
     },
     "user_tz": -540
    },
    "id": "QNqWeYN6AZ6L",
    "outputId": "9e510300-c1f0-4a93-f5ef-2227f694888c"
   },
   "outputs": [],
   "source": [
    "vgg16_1.summary()"
   ]
  },
  {
   "cell_type": "code",
   "execution_count": null,
   "metadata": {
    "ExecuteTime": {
     "end_time": "2023-07-18T08:28:00.958959Z",
     "start_time": "2023-07-18T08:27:33.429761Z"
    },
    "colab": {
     "base_uri": "https://localhost:8080/"
    },
    "executionInfo": {
     "elapsed": 29723,
     "status": "ok",
     "timestamp": 1707302490824,
     "user": {
      "displayName": "김성환",
      "userId": "02802166581970122576"
     },
     "user_tz": -540
    },
    "id": "_h9WxKcfAZ6M",
    "outputId": "d49878a3-b27b-4b55-9251-5c61bb2bc825"
   },
   "outputs": [],
   "source": [
    "vgg16_2 = applications.VGG16(include_top=True)\n",
    "vgg16_2.summary()"
   ]
  },
  {
   "cell_type": "code",
   "execution_count": null,
   "metadata": {
    "ExecuteTime": {
     "end_time": "2023-07-18T08:28:26.786134Z",
     "start_time": "2023-07-18T08:28:18.755546Z"
    },
    "colab": {
     "base_uri": "https://localhost:8080/"
    },
    "executionInfo": {
     "elapsed": 8028,
     "status": "ok",
     "timestamp": 1707302503023,
     "user": {
      "displayName": "김성환",
      "userId": "02802166581970122576"
     },
     "user_tz": -540
    },
    "id": "HVmg9RtUAZ6M",
    "outputId": "67e12aee-a68c-49f1-bd62-256fde5bf0c1"
   },
   "outputs": [],
   "source": [
    "resnet50 = applications.ResNet50V2()\n",
    "# Default: weights='imagenet', include_top=True, input_shape=(224,224,3)"
   ]
  },
  {
   "cell_type": "code",
   "execution_count": null,
   "metadata": {
    "ExecuteTime": {
     "end_time": "2023-07-18T08:28:27.493274Z",
     "start_time": "2023-07-18T08:28:26.842120Z"
    },
    "colab": {
     "base_uri": "https://localhost:8080/"
    },
    "executionInfo": {
     "elapsed": 2694,
     "status": "ok",
     "timestamp": 1707302508164,
     "user": {
      "displayName": "김성환",
      "userId": "02802166581970122576"
     },
     "user_tz": -540
    },
    "id": "ePzWxaakAZ6M",
    "outputId": "0bd4d923-6f1d-4dd8-9839-1ffc9ab9e7c4"
   },
   "outputs": [],
   "source": [
    "resnet50.summary()"
   ]
  },
  {
   "cell_type": "code",
   "execution_count": null,
   "metadata": {
    "colab": {
     "base_uri": "https://localhost:8080/",
     "height": 1000,
     "output_embedded_package_id": "1Qw6j74hR-_bruTg28hh9z64t_VWopdK5"
    },
    "executionInfo": {
     "elapsed": 15422,
     "status": "ok",
     "timestamp": 1707302556338,
     "user": {
      "displayName": "김성환",
      "userId": "02802166581970122576"
     },
     "user_tz": -540
    },
    "id": "Ma5eaJ6PKOZY",
    "outputId": "5e74d010-a5f4-453f-f11e-667e469351c0"
   },
   "outputs": [],
   "source": [
    "keras.utils.plot_model(resnet50, show_shapes=True)"
   ]
  },
  {
   "cell_type": "markdown",
   "metadata": {
    "id": "eZo5C10XAZ6N"
   },
   "source": [
    "## VGG16 Pretrained 모델을 이용해 이미지 분류\n",
    "- Keras에서 제공하는 Pretrain 모델들은 Image Net 데이터셋을 학습 했다.\n",
    "- 최종 Output 결과로 1000개의 class에 대한 확률을 출력한다.\n",
    "    - Dense(units=1000, activation='softmax')\n",
    "\n"
   ]
  },
  {
   "cell_type": "code",
   "execution_count": null,
   "metadata": {
    "ExecuteTime": {
     "end_time": "2023-07-18T08:28:43.685882Z",
     "start_time": "2023-07-18T08:28:43.670311Z"
    },
    "executionInfo": {
     "elapsed": 680,
     "status": "ok",
     "timestamp": 1707302581195,
     "user": {
      "displayName": "김성환",
      "userId": "02802166581970122576"
     },
     "user_tz": -540
    },
    "id": "uo0hcRNbAZ6N"
   },
   "outputs": [],
   "source": [
    "import tensorflow as tf\n",
    "from tensorflow import keras\n",
    "from tensorflow.keras import applications\n",
    "from tensorflow.keras.preprocessing.image import load_img, img_to_array\n",
    "\n",
    "import numpy as np"
   ]
  },
  {
   "cell_type": "markdown",
   "metadata": {
    "id": "pT1XymLhAZ6N"
   },
   "source": [
    "##### Pretrained Model download\n",
    "- VGG16 전체 모델을 이용해 추론\n",
    "- backbone + 추론기 모델을 받는다."
   ]
  },
  {
   "cell_type": "code",
   "execution_count": null,
   "metadata": {
    "ExecuteTime": {
     "end_time": "2023-07-18T08:35:19.519936Z",
     "start_time": "2023-07-18T08:35:16.084748Z"
    },
    "executionInfo": {
     "elapsed": 2662,
     "status": "ok",
     "timestamp": 1707302587659,
     "user": {
      "displayName": "김성환",
      "userId": "02802166581970122576"
     },
     "user_tz": -540
    },
    "id": "g4JgMfzLAZ6N"
   },
   "outputs": [],
   "source": [
    "vgg16 = applications.VGG16()"
   ]
  },
  {
   "cell_type": "markdown",
   "metadata": {
    "id": "D37EpdJMAZ6O"
   },
   "source": [
    "##### 추론할 이미지 로딩"
   ]
  },
  {
   "cell_type": "code",
   "execution_count": null,
   "metadata": {
    "ExecuteTime": {
     "end_time": "2023-07-18T08:35:29.259410Z",
     "start_time": "2023-07-18T08:35:29.221914Z"
    },
    "colab": {
     "base_uri": "https://localhost:8080/"
    },
    "executionInfo": {
     "elapsed": 4,
     "status": "ok",
     "timestamp": 1707302669606,
     "user": {
      "displayName": "김성환",
      "userId": "02802166581970122576"
     },
     "user_tz": -540
    },
    "id": "jLfWwxvyAZ6O",
    "outputId": "5192f7ce-18b2-4274-d2aa-72e198c19bce"
   },
   "outputs": [],
   "source": [
    "img_path = 'test_img/bicycle.jpg'\n",
    "img = load_img(img_path, target_size=(224,224))\n",
    "input_array = img_to_array(img)[np.newaxis, ...]\n",
    "print(input_array.shape)"
   ]
  },
  {
   "cell_type": "code",
   "execution_count": null,
   "metadata": {
    "colab": {
     "base_uri": "https://localhost:8080/",
     "height": 241
    },
    "executionInfo": {
     "elapsed": 1047,
     "status": "ok",
     "timestamp": 1707302674093,
     "user": {
      "displayName": "김성환",
      "userId": "02802166581970122576"
     },
     "user_tz": -540
    },
    "id": "hhb7QANXK1De",
    "outputId": "3ee96f73-558d-4fac-9fd4-5095ed202826"
   },
   "outputs": [],
   "source": [
    "img"
   ]
  },
  {
   "cell_type": "markdown",
   "metadata": {
    "id": "rsjhCGidAZ6O"
   },
   "source": [
    "##### 전처리"
   ]
  },
  {
   "cell_type": "code",
   "execution_count": null,
   "metadata": {
    "ExecuteTime": {
     "end_time": "2023-07-18T08:36:07.762874Z",
     "start_time": "2023-07-18T08:36:07.732574Z"
    },
    "executionInfo": {
     "elapsed": 512,
     "status": "ok",
     "timestamp": 1707302701595,
     "user": {
      "displayName": "김성환",
      "userId": "02802166581970122576"
     },
     "user_tz": -540
    },
    "id": "6Qu8c_pXAZ6O"
   },
   "outputs": [],
   "source": [
    "# Preprocessing - 제공되는 Pretrained model 별로 적용된 전처리 함수를 사용한다.\n",
    "input_tensor = applications.vgg16.preprocess_input(input_array)"
   ]
  },
  {
   "cell_type": "markdown",
   "metadata": {
    "id": "lEQtOQnpAZ6P"
   },
   "source": [
    "##### 추론"
   ]
  },
  {
   "cell_type": "code",
   "execution_count": null,
   "metadata": {
    "ExecuteTime": {
     "end_time": "2023-07-18T08:36:16.236968Z",
     "start_time": "2023-07-18T08:36:15.932909Z"
    },
    "colab": {
     "base_uri": "https://localhost:8080/"
    },
    "executionInfo": {
     "elapsed": 3421,
     "status": "ok",
     "timestamp": 1707302709682,
     "user": {
      "displayName": "김성환",
      "userId": "02802166581970122576"
     },
     "user_tz": -540
    },
    "id": "9s5VsaYtAZ6P",
    "outputId": "4aad88e8-384e-4798-ff07-015561354e4e"
   },
   "outputs": [],
   "source": [
    "pred = vgg16.predict(input_tensor)\n",
    "pred.shape"
   ]
  },
  {
   "cell_type": "code",
   "execution_count": null,
   "metadata": {
    "ExecuteTime": {
     "end_time": "2023-07-18T08:36:20.960597Z",
     "start_time": "2023-07-18T08:36:20.944413Z"
    },
    "colab": {
     "base_uri": "https://localhost:8080/"
    },
    "executionInfo": {
     "elapsed": 524,
     "status": "ok",
     "timestamp": 1707302717936,
     "user": {
      "displayName": "김성환",
      "userId": "02802166581970122576"
     },
     "user_tz": -540
    },
    "id": "6hIa19oLAZ6P",
    "outputId": "a5fbca1a-e1c0-471d-d190-230cb8cac308"
   },
   "outputs": [],
   "source": [
    "print(\"추론한 클래스 index:\", pred[0].argmax(axis=-1))"
   ]
  },
  {
   "cell_type": "code",
   "execution_count": null,
   "metadata": {
    "ExecuteTime": {
     "end_time": "2023-07-18T08:36:41.992661Z",
     "start_time": "2023-07-18T08:36:41.950593Z"
    },
    "colab": {
     "base_uri": "https://localhost:8080/"
    },
    "executionInfo": {
     "elapsed": 542,
     "status": "ok",
     "timestamp": 1707302851971,
     "user": {
      "displayName": "김성환",
      "userId": "02802166581970122576"
     },
     "user_tz": -540
    },
    "id": "veG5C79lAZ6P",
    "outputId": "998ca57d-0276-44a1-dba2-9cc3dceaaea9"
   },
   "outputs": [],
   "source": [
    "# 모델이 예측한 결과(확률)을 후처리한 결과를 반환\n",
    "## Keras 제공 Pretrained 모델이 학습한 ImageNet의 class name과 확률을 묶어서 반환\n",
    "label_name = applications.vgg16.decode_predictions(pred, top=3)\n",
    "label_name"
   ]
  },
  {
   "cell_type": "code",
   "execution_count": null,
   "metadata": {
    "ExecuteTime": {
     "end_time": "2023-07-18T08:37:01.852385Z",
     "start_time": "2023-07-18T08:37:01.836698Z"
    },
    "colab": {
     "base_uri": "https://localhost:8080/"
    },
    "executionInfo": {
     "elapsed": 4,
     "status": "ok",
     "timestamp": 1707302924942,
     "user": {
      "displayName": "김성환",
      "userId": "02802166581970122576"
     },
     "user_tz": -540
    },
    "id": "IPY5jYvjAZ6P",
    "outputId": "415523f5-cfca-4af5-ab6d-b626183a5624"
   },
   "outputs": [],
   "source": [
    "for idx, (_, cls_name, proba) in enumerate(label_name[0], start=1):\n",
    "    print(f\"{idx}. {cls_name}: {proba*100:.2f}%\")"
   ]
  },
  {
   "cell_type": "markdown",
   "metadata": {
    "id": "lqsi6ts8I9p3"
   },
   "source": [
    "### 함수화"
   ]
  },
  {
   "cell_type": "code",
   "execution_count": null,
   "metadata": {
    "ExecuteTime": {
     "end_time": "2023-07-18T08:31:21.772134Z",
     "start_time": "2023-07-18T08:31:21.756033Z"
    },
    "executionInfo": {
     "elapsed": 516,
     "status": "ok",
     "timestamp": 1707302931003,
     "user": {
      "displayName": "김성환",
      "userId": "02802166581970122576"
     },
     "user_tz": -540
    },
    "id": "C6qGblHjAZ6O"
   },
   "outputs": [],
   "source": [
    "# 전처리 함수\n",
    "def load_preprocess_image(path):\n",
    "    \"\"\"\n",
    "    이미지를 Loading 한 뒤 전처리 후 반환. 모델에 입력할 수 있는 데이터로 변환 후 반환한다.\n",
    "    [Parameter]\n",
    "        path: str - 추론한 이미지 경로\n",
    "    [Return]\n",
    "        ndarray: 전처리한 이미지 데이터.\n",
    "    \"\"\"\n",
    "    img_array = img_to_array(load_img(path, target_size=(224,224)))\n",
    "    return applications.vgg16.preprocess_input(img_array)"
   ]
  },
  {
   "cell_type": "code",
   "execution_count": null,
   "metadata": {
    "ExecuteTime": {
     "end_time": "2023-07-18T08:41:38.552610Z",
     "start_time": "2023-07-18T08:41:38.530449Z"
    },
    "executionInfo": {
     "elapsed": 2,
     "status": "ok",
     "timestamp": 1707302933823,
     "user": {
      "displayName": "김성환",
      "userId": "02802166581970122576"
     },
     "user_tz": -540
    },
    "id": "faQkkc7lAZ6O"
   },
   "outputs": [],
   "source": [
    "def postprocess(pred):\n",
    "    \"\"\"\n",
    "    모델이 추론한 결과인 클래스별 확률을 받아서 후처리 하여 반환한다.\n",
    "    반환 형식은 각 데이터 포인트 별로 추론한 것 중 Top 3 를 \"순위. 클래스이름 - 확률\" 형식으로 출력한다.\n",
    "    [Parameter]\n",
    "        pred: ndarray - 모델이 추론한 결과\n",
    "    [Return]\n",
    "        None\n",
    "    \"\"\"\n",
    "    results = applications.vgg16.decode_predictions(pred, top=3)  # 1개 이상의 이미지 추론 결과 (5, 3, 3)\n",
    "    for result in results:  # 추론 이미지별 반복\n",
    "        for idx, (_, class_name, proba) in enumerate(result, start=1):\n",
    "            print(f\"{idx}. {class_name} - {proba*100:.2f}%\")\n",
    "        print('------------------------------------------')"
   ]
  },
  {
   "cell_type": "code",
   "execution_count": null,
   "metadata": {
    "ExecuteTime": {
     "end_time": "2023-07-18T08:41:40.990378Z",
     "start_time": "2023-07-18T08:41:40.491579Z"
    },
    "colab": {
     "base_uri": "https://localhost:8080/"
    },
    "executionInfo": {
     "elapsed": 2263,
     "status": "ok",
     "timestamp": 1707302946893,
     "user": {
      "displayName": "김성환",
      "userId": "02802166581970122576"
     },
     "user_tz": -540
    },
    "id": "qxSbIlYKI9p4",
    "outputId": "ebb0b411-4fe4-4d23-a831-b3162d921f2d"
   },
   "outputs": [],
   "source": [
    "img_path = ['test_img/bicycle.jpg', 'test_img/car.jpg', 'test_img/cat.jpg']\n",
    "input_tensor = np.array([load_preprocess_image(path)  for path in img_path])\n",
    "print(input_tensor.shape)\n",
    "\n",
    "pred = vgg16.predict(input_tensor)\n",
    "print(\"--------------------추론결과--------------------\")\n",
    "postprocess(pred)"
   ]
  },
  {
   "cell_type": "markdown",
   "metadata": {
    "id": "lHbshB36AZ6Q"
   },
   "source": [
    "# Transfer learning (전이학습)\n",
    "- 사전에 학습된 모델의 구조와 파라미터를 재사용해서 새로운 모델를 만든 뒤 해결하려는 문제를 위해 내 데이터(Custom data)를 재 학습시킨다.\n",
    "- Transfer Learning을 이용해 다음을 해결할 수 있다.\n",
    "    1. 데이터 부족문제\n",
    "        - 딥러닝은 대용량의 학습데이터가 필요하다.\n",
    "        - 충분한 데이터를 수집하는 것은 항상 어렵다.\n",
    "        - 대용량 데이터를 이용해 미리 학습한 Layer들을 이용하므로 적은 데이터를 학습시켜도 좋은 결과를 얻을 수 있다.\n",
    "    2. 과다한 계산량\n",
    "        - 딥러닝 모델을 학습하는데 엄청난 양의 계산 자원이 필요하다.\n",
    "        - Transfer Learning은 미리 학습된 모델의 Layer들을 사용하기 때문에 새로 학습하는 것 보다 적은 학습으로 좋은 결과를 얻을 수 있다."
   ]
  },
  {
   "cell_type": "markdown",
   "metadata": {
    "id": "Cj9RRN6QbfRR"
   },
   "source": [
    "![transfer_learning01](figures/09_transfer_01.png)"
   ]
  },
  {
   "cell_type": "markdown",
   "metadata": {
    "id": "n9S3nrFGI9p6"
   },
   "source": [
    "- 보통 Pretrained Model에서 Feature Extraction 부분을 사용한다.\n",
    "    - Computer Vision 문제의 경우 Bottom 쪽의 Convolution Layer(Feature Extractor)들은 이미지에 나타나는 일반적인 특성을 추출하므로 **다른 대상을 가지고 학습했다고 하더라도 재사용할 수 있다.**\n",
    "    - Top 부분 Layer 부분은 특히 출력 Layer의 경우 대상 데이터셋의 목적에 맞게 변경 해야 하므로 재사용할 수 없다."
   ]
  },
  {
   "cell_type": "markdown",
   "metadata": {
    "id": "ZnS6S0QPbfRT"
   },
   "source": [
    "![transfer_learning02](figures/09_transfer_02.png)\n",
    "\n",
    "> **Frozon**: Training시 parameter가 update 되지 않도록 하는 것을 말한다."
   ]
  },
  {
   "cell_type": "markdown",
   "metadata": {
    "id": "NRLhG6D8bfRb"
   },
   "source": [
    "### Feature Extractor 재사용\n",
    "- Pretrained Model에서 Feature Extractor 만 가져오고 추론기(Fully connected layer)만 새로 정의한 뒤 그 둘을 합쳐서 모델을 만든다.\n",
    "- 학습시 직접 구성한 추론기만 학습되도록 한다.\n",
    "    - Feature Extractor는 추론을 위한 Feature 추출을 하는 역할만 하고 그 parameter(weight)가 학습되지 않도록 한다.\n",
    "- Keras에서 모델/레이어의 parameter trainable 속성 변경\n",
    "    -  **Layer.trainable=False**\n",
    "        - Layer의 trainable 속성을 변경\n",
    "    - **Model.trainable=False**\n",
    "        - 모델내의 모든 Layer들의 trainable 속성을 변경\n",
    "    - trainable 속성변경은 **모델 컴파일 전에** 해야 한다.\n",
    "        \n",
    "> #### Backbone, Base network\n",
    "> 전체 네트워크에서 Feature Extraction의 역할을 담당하는 부분을 backbone/base network라고 한다."
   ]
  },
  {
   "cell_type": "markdown",
   "metadata": {
    "executionInfo": {
     "elapsed": 4429,
     "status": "ok",
     "timestamp": 1619495130756,
     "user": {
      "displayName": "김성환",
      "photoUrl": "https://lh3.googleusercontent.com/a-/AOh14GjqNkeEG8Sp5Fmsq56VZoiRsSxwUXmtH2Mb14M3YQA=s64",
      "userId": "02802166581970122576"
     },
     "user_tz": -540
    },
    "id": "u2xEPmIQbfRO",
    "outputId": "e669b58c-b03c-41ef-cf71-2e8503998c4f"
   },
   "source": [
    "##### 이미지 다운로드"
   ]
  },
  {
   "cell_type": "code",
   "execution_count": null,
   "metadata": {
    "ExecuteTime": {
     "end_time": "2023-02-28T05:28:46.459660Z",
     "start_time": "2023-02-28T05:28:44.320217Z"
    },
    "colab": {
     "base_uri": "https://localhost:8080/"
    },
    "executionInfo": {
     "elapsed": 6105,
     "status": "ok",
     "timestamp": 1707303007175,
     "user": {
      "displayName": "김성환",
      "userId": "02802166581970122576"
     },
     "user_tz": -540
    },
    "id": "8PjfNiZlAZ6Q",
    "outputId": "ef5c7762-56bb-4121-b8c9-ad074d9bfcaf"
   },
   "outputs": [],
   "source": [
    "!pip install gdown --upgrade"
   ]
  },
  {
   "cell_type": "code",
   "execution_count": null,
   "metadata": {
    "ExecuteTime": {
     "end_time": "2023-02-28T05:29:28.916028Z",
     "start_time": "2023-02-28T05:29:23.731807Z"
    },
    "colab": {
     "base_uri": "https://localhost:8080/",
     "height": 127
    },
    "executionInfo": {
     "elapsed": 2826,
     "status": "ok",
     "timestamp": 1707303010767,
     "user": {
      "displayName": "김성환",
      "userId": "02802166581970122576"
     },
     "user_tz": -540
    },
    "id": "ZFkN8RkMAZ6Q",
    "outputId": "d4879469-4085-4882-9f78-74b7e2eaaaef"
   },
   "outputs": [],
   "source": [
    "import gdown\n",
    "import os\n",
    "from zipfile import ZipFile\n",
    "url = 'https://drive.google.com/uc?id=1YIxDL0XJhhAMdScdRUfDgccAqyCw5-ZV'\n",
    "fname = 'cats_and_dogs_small.zip'\n",
    "gdown.download(url, fname, quiet=False)"
   ]
  },
  {
   "cell_type": "code",
   "execution_count": 3,
   "metadata": {
    "colab": {
     "base_uri": "https://localhost:8080/",
     "height": 35
    },
    "executionInfo": {
     "elapsed": 2892,
     "status": "ok",
     "timestamp": 1707805986117,
     "user": {
      "displayName": "Sunghwan KIM",
      "userId": "06010856989212311727"
     },
     "user_tz": -540
    },
    "id": "0e9xxiLvek6W",
    "outputId": "d3900a12-9646-42ff-842e-47fa152435bd"
   },
   "outputs": [
    {
     "data": {
      "application/vnd.google.colaboratory.intrinsic+json": {
       "type": "string"
      },
      "text/plain": [
       "'data/cats_and_dogs_small.zip'"
      ]
     },
     "execution_count": 3,
     "metadata": {},
     "output_type": "execute_result"
    }
   ],
   "source": [
    "### GoogleDrive의 zip파일을 Local VM(Colab환경)으로 복사\n",
    "import shutil\n",
    "import os\n",
    "\n",
    "zipPath = \"/content/drive/MyDrive/data/cats_and_dogs_small.zip\"\n",
    "target_path = \"data\"\n",
    "os.makedirs(target_path, exist_ok=True)  # 복사할 디렉토리 생성\n",
    "# 복사\n",
    "shutil.copy(zipPath, target_path) # (src_path, target_path)"
   ]
  },
  {
   "cell_type": "code",
   "execution_count": null,
   "metadata": {
    "ExecuteTime": {
     "end_time": "2023-02-28T05:33:32.746970Z",
     "start_time": "2023-02-28T05:33:29.355590Z"
    },
    "executionInfo": {
     "elapsed": 1052,
     "status": "ok",
     "timestamp": 1707303016736,
     "user": {
      "displayName": "김성환",
      "userId": "02802166581970122576"
     },
     "user_tz": -540
    },
    "id": "yDf3llcLAZ6R"
   },
   "outputs": [],
   "source": [
    "with ZipFile('cats_and_dogs_small.zip') as zf:\n",
    "    zf.extractall(\"data/cats_and_dogs_small\")   # 압축풀 디렉토리 경로를 넣어서 푼다."
   ]
  },
  {
   "cell_type": "markdown",
   "metadata": {
    "id": "S-t7t7mHAZ6R"
   },
   "source": [
    "##### import"
   ]
  },
  {
   "cell_type": "code",
   "execution_count": null,
   "metadata": {
    "ExecuteTime": {
     "end_time": "2023-03-02T00:39:24.741061Z",
     "start_time": "2023-03-02T00:39:17.942552Z"
    },
    "executionInfo": {
     "elapsed": 582,
     "status": "ok",
     "timestamp": 1707303022622,
     "user": {
      "displayName": "김성환",
      "userId": "02802166581970122576"
     },
     "user_tz": -540
    },
    "id": "Z2Jk8b_VAZ6R"
   },
   "outputs": [],
   "source": [
    "import tensorflow as tf\n",
    "from tensorflow import keras\n",
    "from tensorflow.keras import layers, models, applications, optimizers\n",
    "from tensorflow.keras.preprocessing.image import ImageDataGenerator, load_img, img_to_array\n",
    "\n",
    "import numpy as np\n",
    "import os\n",
    "import random\n",
    "\n",
    "random.seed(0)\n",
    "np.random.seed(0)\n",
    "tf.random.set_seed(0)"
   ]
  },
  {
   "cell_type": "markdown",
   "metadata": {
    "id": "GUMiyMP3AZ6R"
   },
   "source": [
    "##### 하이퍼파라미터 설정"
   ]
  },
  {
   "cell_type": "code",
   "execution_count": null,
   "metadata": {
    "ExecuteTime": {
     "end_time": "2023-03-02T00:39:30.722841Z",
     "start_time": "2023-03-02T00:39:30.705376Z"
    },
    "executionInfo": {
     "elapsed": 3,
     "status": "ok",
     "timestamp": 1707304751360,
     "user": {
      "displayName": "김성환",
      "userId": "02802166581970122576"
     },
     "user_tz": -540
    },
    "id": "XkMIPN_xAZ6R"
   },
   "outputs": [],
   "source": [
    "LEARNING_RATE = 0.001\n",
    "N_EPOCH = 10  # 200\n",
    "N_BATCH = 64"
   ]
  },
  {
   "cell_type": "markdown",
   "metadata": {
    "id": "kDD_vyAZAZ6S"
   },
   "source": [
    "##### ImageDataGenerator 를 생성하는 함수"
   ]
  },
  {
   "cell_type": "code",
   "execution_count": null,
   "metadata": {
    "ExecuteTime": {
     "end_time": "2023-03-02T00:39:42.504370Z",
     "start_time": "2023-03-02T00:39:42.490278Z"
    },
    "executionInfo": {
     "elapsed": 3,
     "status": "ok",
     "timestamp": 1707304752469,
     "user": {
      "displayName": "김성환",
      "userId": "02802166581970122576"
     },
     "user_tz": -540
    },
    "id": "hBLMajOoAZ6S"
   },
   "outputs": [],
   "source": [
    "def get_generator(preprocess_input, image_size=224):\n",
    "    \"\"\"\n",
    "    cat/dog 데이터의 train/validation/test 용 ImageDataGenerator를 반환하는 함수\n",
    "    [parameter]\n",
    "        preprocess_input: function - 전처리용 함수\n",
    "    [return]\n",
    "        tuple: (train_dataset_iterator, val_dataset_iterator, test_dataset_iterator)\n",
    "    \"\"\"\n",
    "    train_dir = 'data/cats_and_dogs_small/train/'\n",
    "    val_dir = 'data/cats_and_dogs_small/validation/'\n",
    "    test_dir = 'data/cats_and_dogs_small/test/'\n",
    "\n",
    "    # ImageDataGenerator생성 - train: image augmentation을 적용, 공통: preprocessing_input (전처리) 함수 적용\n",
    "    train_gen = ImageDataGenerator(preprocessing_function=preprocess_input,\n",
    "                                   rotation_range=40,\n",
    "                                   width_shift_range=0.2,\n",
    "                                   height_shift_range=0.2,\n",
    "                                   zoom_range=0.2,\n",
    "                                   horizontal_flip=True,\n",
    "                                   fill_mode='constant'\n",
    "                                  )\n",
    "    val_gen = ImageDataGenerator(preprocessing_function=preprocess_input)\n",
    "    test_gen = ImageDataGenerator(preprocessing_function=preprocess_input)\n",
    "\n",
    "    train_iter = train_gen.flow_from_directory(train_dir, target_size=(image_size, image_size), batch_size=N_BATCH, class_mode='categorical')\n",
    "    val_iter = val_gen.flow_from_directory(val_dir, target_size=(image_size, image_size), batch_size=N_BATCH, class_mode='categorical')\n",
    "    test_iter = test_gen.flow_from_directory(test_dir, target_size=(image_size, image_size), batch_size=N_BATCH, class_mode='categorical')\n",
    "\n",
    "    return train_iter, val_iter, test_iter\n"
   ]
  },
  {
   "cell_type": "markdown",
   "metadata": {
    "id": "edysZvlIAZ6T"
   },
   "source": [
    "##### train/validation/test 데이터셋 로드"
   ]
  },
  {
   "cell_type": "code",
   "execution_count": 9,
   "metadata": {
    "ExecuteTime": {
     "end_time": "2023-02-28T06:24:57.655899Z",
     "start_time": "2023-02-28T06:24:57.373058Z"
    },
    "colab": {
     "base_uri": "https://localhost:8080/"
    },
    "executionInfo": {
     "elapsed": 2,
     "status": "ok",
     "timestamp": 1707801405819,
     "user": {
      "displayName": "Sunghwan KIM",
      "userId": "06010856989212311727"
     },
     "user_tz": -540
    },
    "id": "PUzUtQfpAZ6T",
    "outputId": "2b58a523-8367-49d4-eb02-36733a9c78fd"
   },
   "outputs": [
    {
     "name": "stdout",
     "output_type": "stream",
     "text": [
      "Found 2000 images belonging to 2 classes.\n",
      "Found 1000 images belonging to 2 classes.\n",
      "Found 1000 images belonging to 2 classes.\n"
     ]
    }
   ],
   "source": [
    "train_iter, val_iter, test_iter = get_generator(applications.vgg16.preprocess_input)"
   ]
  },
  {
   "cell_type": "code",
   "execution_count": 10,
   "metadata": {
    "ExecuteTime": {
     "end_time": "2023-02-28T06:25:18.276550Z",
     "start_time": "2023-02-28T06:25:18.268130Z"
    },
    "colab": {
     "base_uri": "https://localhost:8080/"
    },
    "executionInfo": {
     "elapsed": 3,
     "status": "ok",
     "timestamp": 1707801408455,
     "user": {
      "displayName": "Sunghwan KIM",
      "userId": "06010856989212311727"
     },
     "user_tz": -540
    },
    "id": "BS7Q29ToAZ6T",
    "outputId": "33687296-3c96-4f6a-9fd9-51dab6247b39"
   },
   "outputs": [
    {
     "data": {
      "text/plain": [
       "{'cats': 0, 'dogs': 1}"
      ]
     },
     "execution_count": 10,
     "metadata": {},
     "output_type": "execute_result"
    }
   ],
   "source": [
    "train_iter.class_indices"
   ]
  },
  {
   "cell_type": "markdown",
   "metadata": {
    "id": "czB-BI-lAZ6U"
   },
   "source": [
    "## 모델정의"
   ]
  },
  {
   "cell_type": "markdown",
   "metadata": {
    "id": "Y6mDuy7UAZ6U"
   },
   "source": [
    "### 모델/Layer frozon Exam\n",
    "- frozon\n",
    "    - 학습시 파라미터가 업데이트 되지 않도록 한다.\n",
    "    - `model.trainable = False`\n",
    "    - `layer.trainable = False`"
   ]
  },
  {
   "cell_type": "code",
   "execution_count": 16,
   "metadata": {
    "ExecuteTime": {
     "end_time": "2023-02-28T06:35:02.633202Z",
     "start_time": "2023-02-28T06:35:02.581079Z"
    },
    "colab": {
     "base_uri": "https://localhost:8080/"
    },
    "executionInfo": {
     "elapsed": 580,
     "status": "ok",
     "timestamp": 1707795483033,
     "user": {
      "displayName": "Sunghwan KIM",
      "userId": "06010856989212311727"
     },
     "user_tz": -540
    },
    "id": "BTQFfLKMAZ6U",
    "outputId": "a9cb14ad-c878-4c4d-a041-4a9b8bd85698"
   },
   "outputs": [
    {
     "name": "stdout",
     "output_type": "stream",
     "text": [
      "Model: \"sequential_3\"\n",
      "_________________________________________________________________\n",
      " Layer (type)                Output Shape              Param #   \n",
      "=================================================================\n",
      " dense_6 (Dense)             (None, 32)                352       \n",
      "                                                                 \n",
      " dense_7 (Dense)             (None, 64)                2112      \n",
      "                                                                 \n",
      "=================================================================\n",
      "Total params: 2464 (9.62 KB)\n",
      "Trainable params: 0 (0.00 Byte)\n",
      "Non-trainable params: 2464 (9.62 KB)\n",
      "_________________________________________________________________\n"
     ]
    }
   ],
   "source": [
    "# Layer를 Frozen 시키기\n",
    "dense1 = layers.Dense(32, activation='relu')\n",
    "# print(dense1.trainable)\n",
    "# dense1.trainable = False  #frozen - 레이어의 파라미터들은 학습시 update가 안된다.\n",
    "\n",
    "temp_model = keras.Sequential()\n",
    "temp_model.add(layers.InputLayer(input_shape=(10, )))\n",
    "temp_model.add(dense1)\n",
    "temp_model.add(layers.Dense(64, activation='relu'))\n",
    "\n",
    "# 모델을 Frozen 시키기\n",
    "temp_model.trainable = False\n",
    "\n",
    "temp_model.summary()\n"
   ]
  },
  {
   "cell_type": "markdown",
   "metadata": {
    "id": "QzssUu36AZ6U"
   },
   "source": [
    "###  model 에 model을 추가"
   ]
  },
  {
   "cell_type": "code",
   "execution_count": 17,
   "metadata": {
    "ExecuteTime": {
     "end_time": "2023-02-28T06:38:33.557850Z",
     "start_time": "2023-02-28T06:38:33.485461Z"
    },
    "colab": {
     "base_uri": "https://localhost:8080/"
    },
    "executionInfo": {
     "elapsed": 535,
     "status": "ok",
     "timestamp": 1707795706047,
     "user": {
      "displayName": "Sunghwan KIM",
      "userId": "06010856989212311727"
     },
     "user_tz": -540
    },
    "id": "-ewANs5wAZ6V",
    "outputId": "d9853908-8082-4798-a75b-da9d062b48bb"
   },
   "outputs": [
    {
     "name": "stdout",
     "output_type": "stream",
     "text": [
      "Model: \"sequential_4\"\n",
      "_________________________________________________________________\n",
      " Layer (type)                Output Shape              Param #   \n",
      "=================================================================\n",
      " sequential_3 (Sequential)   (None, 64)                2464      \n",
      "                                                                 \n",
      " dense_8 (Dense)             (None, 1)                 65        \n",
      "                                                                 \n",
      "=================================================================\n",
      "Total params: 2529 (9.88 KB)\n",
      "Trainable params: 65 (260.00 Byte)\n",
      "Non-trainable params: 2464 (9.62 KB)\n",
      "_________________________________________________________________\n"
     ]
    }
   ],
   "source": [
    "final_model = keras.Sequential()\n",
    "\n",
    "final_model.add(layers.InputLayer(input_shape=(10, )))\n",
    "final_model.add(temp_model) # Sequential 모델을 Layer로 추가.\n",
    "final_model.add(layers.Dense(1, activation='sigmoid'))\n",
    "\n",
    "final_model.summary()\n"
   ]
  },
  {
   "cell_type": "markdown",
   "metadata": {
    "id": "AM1qx7QPI9qL"
   },
   "source": [
    "### Cats and Dogs 분류 모델 정의"
   ]
  },
  {
   "cell_type": "code",
   "execution_count": null,
   "metadata": {
    "ExecuteTime": {
     "end_time": "2023-02-28T07:51:50.116942Z",
     "start_time": "2023-02-28T07:51:50.105597Z"
    },
    "executionInfo": {
     "elapsed": 3,
     "status": "ok",
     "timestamp": 1707304792358,
     "user": {
      "displayName": "김성환",
      "userId": "02802166581970122576"
     },
     "user_tz": -540
    },
    "id": "NPQJiN4wAZ6W"
   },
   "outputs": [],
   "source": [
    "def get_model_1(backbone):\n",
    "    \"\"\"\n",
    "    매개변수로 Feature Extractor(Backbone) 모델을 받아서 개/고양이를 분류하는 모델을 생성.\n",
    "    [parameter]\n",
    "        backbone: Model - Pretrained backbone 네트워크 모델\n",
    "    [return]\n",
    "        model 객체 - 추론기를 추가한 모델\n",
    "    \"\"\"\n",
    "    # 모델 정의\n",
    "    model = keras.Sequential()\n",
    "    ## backbone network를 frozen 시킨뒤 모델에 추가.\n",
    "    backbone.trainable = False\n",
    "    model.add(backbone)\n",
    "    model.add(layers.GlobalAveragePooling2D())\n",
    "    model.add(layers.Dense(units=2, activation='softmax', name='output_layer'))\n",
    "\n",
    "    # 모델 컴파일\n",
    "    model.compile(optimizer=optimizers.Adam(LEARNING_RATE),\n",
    "                  loss='categorical_crossentropy',\n",
    "                  metrics=['accuracy'])\n",
    "\n",
    "    return model"
   ]
  },
  {
   "cell_type": "code",
   "execution_count": 12,
   "metadata": {
    "ExecuteTime": {
     "end_time": "2023-02-28T07:51:51.479760Z",
     "start_time": "2023-02-28T07:51:50.839069Z"
    },
    "colab": {
     "base_uri": "https://localhost:8080/"
    },
    "executionInfo": {
     "elapsed": 2360,
     "status": "ok",
     "timestamp": 1707801430900,
     "user": {
      "displayName": "Sunghwan KIM",
      "userId": "06010856989212311727"
     },
     "user_tz": -540
    },
    "id": "j_Dw6SBmAZ6W",
    "outputId": "4ff0af6b-3190-405f-f156-bd42e19971ff"
   },
   "outputs": [
    {
     "name": "stdout",
     "output_type": "stream",
     "text": [
      "Downloading data from https://storage.googleapis.com/tensorflow/keras-applications/vgg16/vgg16_weights_tf_dim_ordering_tf_kernels_notop.h5\n",
      "58889256/58889256 [==============================] - 0s 0us/step\n"
     ]
    }
   ],
   "source": [
    "backbone = applications.VGG16(include_top=False,   # Feature Extractor(backbone) 모델만 생성.\n",
    "                              input_shape=(224, 224, 3))\n",
    "model_1 = get_model_1(backbone)"
   ]
  },
  {
   "cell_type": "code",
   "execution_count": 13,
   "metadata": {
    "ExecuteTime": {
     "end_time": "2023-02-28T07:51:52.254874Z",
     "start_time": "2023-02-28T07:51:52.224379Z"
    },
    "colab": {
     "base_uri": "https://localhost:8080/"
    },
    "executionInfo": {
     "elapsed": 386,
     "status": "ok",
     "timestamp": 1707801446379,
     "user": {
      "displayName": "Sunghwan KIM",
      "userId": "06010856989212311727"
     },
     "user_tz": -540
    },
    "id": "AGz9EClmAZ6X",
    "outputId": "bdedfa42-231f-4b6f-d0b7-c6a6a97b8f80"
   },
   "outputs": [
    {
     "name": "stdout",
     "output_type": "stream",
     "text": [
      "Model: \"sequential\"\n",
      "_________________________________________________________________\n",
      " Layer (type)                Output Shape              Param #   \n",
      "=================================================================\n",
      " vgg16 (Functional)          (None, 7, 7, 512)         14714688  \n",
      "                                                                 \n",
      " global_average_pooling2d (  (None, 512)               0         \n",
      " GlobalAveragePooling2D)                                         \n",
      "                                                                 \n",
      " output_layer (Dense)        (None, 2)                 1026      \n",
      "                                                                 \n",
      "=================================================================\n",
      "Total params: 14715714 (56.14 MB)\n",
      "Trainable params: 1026 (4.01 KB)\n",
      "Non-trainable params: 14714688 (56.13 MB)\n",
      "_________________________________________________________________\n"
     ]
    }
   ],
   "source": [
    "model_1.summary()"
   ]
  },
  {
   "cell_type": "code",
   "execution_count": 14,
   "metadata": {
    "ExecuteTime": {
     "end_time": "2023-02-28T06:56:53.051098Z",
     "start_time": "2023-02-28T06:56:52.472563Z"
    },
    "colab": {
     "base_uri": "https://localhost:8080/",
     "height": 422
    },
    "executionInfo": {
     "elapsed": 663,
     "status": "ok",
     "timestamp": 1707801531490,
     "user": {
      "displayName": "Sunghwan KIM",
      "userId": "06010856989212311727"
     },
     "user_tz": -540
    },
    "id": "uDU9n60OAZ6X",
    "outputId": "0ac305d8-1c43-4bd1-fdae-bdad58d24a1f",
    "scrolled": true
   },
   "outputs": [
    {
     "data": {
      "image/png": "[encoded data removed]",
      "text/plain": [
       "<IPython.core.display.Image object>"
      ]
     },
     "execution_count": 14,
     "metadata": {},
     "output_type": "execute_result"
    }
   ],
   "source": [
    "keras.utils.plot_model(model_1, show_shapes=True)"
   ]
  },
  {
   "cell_type": "markdown",
   "metadata": {
    "id": "ZWnz9vIRAZ6X"
   },
   "source": [
    "##### 학습"
   ]
  },
  {
   "cell_type": "code",
   "execution_count": null,
   "metadata": {
    "executionInfo": {
     "elapsed": 524,
     "status": "ok",
     "timestamp": 1707304823518,
     "user": {
      "displayName": "김성환",
      "userId": "02802166581970122576"
     },
     "user_tz": -540
    },
    "id": "WBIp9coqAZ6X"
   },
   "outputs": [],
   "source": [
    "g_drive_root = \"/content/drive/MyDrive\"\n",
    "save_path = os.path.join(g_drive_root, 'saved_model', 'cat_dog_transfer_learning')\n",
    "mc_callback = keras.callbacks.ModelCheckpoint(save_path, save_best_only=True, save_weights_only=True, verbose=1)\n",
    "es_callback = keras.callbacks.EarlyStopping(patience=3, verbose=2)  #(patience=10, verbose=2) # epoch 을 크게 잡은 경우."
   ]
  },
  {
   "cell_type": "code",
   "execution_count": null,
   "metadata": {
    "ExecuteTime": {
     "end_time": "2023-02-28T07:17:27.089590Z",
     "start_time": "2023-02-28T06:58:34.637638Z"
    },
    "colab": {
     "base_uri": "https://localhost:8080/"
    },
    "id": "gOV9aoivAZ6X",
    "outputId": "77039ec9-b5e0-4311-9f86-59156d1be21c",
    "scrolled": true
   },
   "outputs": [
    {
     "name": "stdout",
     "output_type": "stream",
     "text": [
      "Epoch 1/10\n",
      "32/32 [==============================] - ETA: 0s - loss: 0.9604 - accuracy: 0.7730\n",
      "Epoch 1: val_loss improved from inf to 0.42340, saving model to /content/drive/MyDrive/saved_model/cat_dog_transfer_learning/ckpt\n",
      "32/32 [==============================] - 51s 1s/step - loss: 0.9604 - accuracy: 0.7730 - val_loss: 0.4234 - val_accuracy: 0.9070\n",
      "Epoch 2/10\n",
      "32/32 [==============================] - ETA: 0s - loss: 0.3564 - accuracy: 0.9030\n",
      "Epoch 2: val_loss improved from 0.42340 to 0.25310, saving model to /content/drive/MyDrive/saved_model/cat_dog_transfer_learning/ckpt\n",
      "32/32 [==============================] - 30s 928ms/step - loss: 0.3564 - accuracy: 0.9030 - val_loss: 0.2531 - val_accuracy: 0.9430\n",
      "Epoch 3/10\n",
      "32/32 [==============================] - ETA: 0s - loss: 0.2264 - accuracy: 0.9285\n",
      "Epoch 3: val_loss improved from 0.25310 to 0.19837, saving model to /content/drive/MyDrive/saved_model/cat_dog_transfer_learning/ckpt\n",
      "32/32 [==============================] - 30s 916ms/step - loss: 0.2264 - accuracy: 0.9285 - val_loss: 0.1984 - val_accuracy: 0.9550\n",
      "Epoch 4/10\n",
      "32/32 [==============================] - ETA: 0s - loss: 0.2183 - accuracy: 0.9290\n",
      "Epoch 4: val_loss improved from 0.19837 to 0.17203, saving model to /content/drive/MyDrive/saved_model/cat_dog_transfer_learning/ckpt\n",
      "32/32 [==============================] - 30s 930ms/step - loss: 0.2183 - accuracy: 0.9290 - val_loss: 0.1720 - val_accuracy: 0.9610\n",
      "Epoch 5/10\n",
      "32/32 [==============================] - ETA: 0s - loss: 0.1815 - accuracy: 0.9445\n",
      "Epoch 5: val_loss improved from 0.17203 to 0.15035, saving model to /content/drive/MyDrive/saved_model/cat_dog_transfer_learning/ckpt\n",
      "32/32 [==============================] - 30s 927ms/step - loss: 0.1815 - accuracy: 0.9445 - val_loss: 0.1503 - val_accuracy: 0.9640\n",
      "Epoch 6/10\n",
      "32/32 [==============================] - ETA: 0s - loss: 0.1555 - accuracy: 0.9490\n",
      "Epoch 6: val_loss improved from 0.15035 to 0.13491, saving model to /content/drive/MyDrive/saved_model/cat_dog_transfer_learning/ckpt\n",
      "32/32 [==============================] - 30s 926ms/step - loss: 0.1555 - accuracy: 0.9490 - val_loss: 0.1349 - val_accuracy: 0.9740\n",
      "Epoch 7/10\n",
      "32/32 [==============================] - ETA: 0s - loss: 0.1341 - accuracy: 0.9555\n",
      "Epoch 7: val_loss improved from 0.13491 to 0.12981, saving model to /content/drive/MyDrive/saved_model/cat_dog_transfer_learning/ckpt\n",
      "32/32 [==============================] - 29s 910ms/step - loss: 0.1341 - accuracy: 0.9555 - val_loss: 0.1298 - val_accuracy: 0.9700\n",
      "Epoch 8/10\n",
      "32/32 [==============================] - ETA: 0s - loss: 0.1128 - accuracy: 0.9625\n",
      "Epoch 8: val_loss improved from 0.12981 to 0.12607, saving model to /content/drive/MyDrive/saved_model/cat_dog_transfer_learning/ckpt\n",
      "32/32 [==============================] - 30s 929ms/step - loss: 0.1128 - accuracy: 0.9625 - val_loss: 0.1261 - val_accuracy: 0.9760\n",
      "Epoch 9/10\n",
      "32/32 [==============================] - ETA: 0s - loss: 0.1216 - accuracy: 0.9555"
     ]
    }
   ],
   "source": [
    "hist = model_1.fit(train_iter,\n",
    "                   epochs=N_EPOCH,\n",
    "                   steps_per_epoch=len(train_iter),\n",
    "                   validation_data=val_iter,\n",
    "                   validation_steps=len(val_iter),\n",
    "                   callbacks=[mc_callback, es_callback])"
   ]
  },
  {
   "cell_type": "markdown",
   "metadata": {
    "id": "nXqzwXQwAZ6X"
   },
   "source": [
    "##### 평가"
   ]
  },
  {
   "cell_type": "code",
   "execution_count": 17,
   "metadata": {
    "ExecuteTime": {
     "end_time": "2023-02-28T07:27:56.365812Z",
     "start_time": "2023-02-28T07:25:06.983237Z"
    },
    "colab": {
     "base_uri": "https://localhost:8080/"
    },
    "executionInfo": {
     "elapsed": 5659,
     "status": "ok",
     "timestamp": 1707802131198,
     "user": {
      "displayName": "Sunghwan KIM",
      "userId": "06010856989212311727"
     },
     "user_tz": -540
    },
    "id": "n_o10dVoAZ6Y",
    "outputId": "ce3a4c3b-0b9e-4487-cca5-f2f51eee8281"
   },
   "outputs": [
    {
     "name": "stdout",
     "output_type": "stream",
     "text": [
      "16/16 [==============================] - 4s 238ms/step - loss: 0.1255 - accuracy: 0.9700\n"
     ]
    },
    {
     "data": {
      "text/plain": [
       "[0.1254580169916153, 0.9700000286102295]"
      ]
     },
     "execution_count": 17,
     "metadata": {},
     "output_type": "execute_result"
    }
   ],
   "source": [
    "model_1.evaluate(test_iter)"
   ]
  },
  {
   "cell_type": "markdown",
   "metadata": {
    "id": "fAOR7UGIAZ6Y"
   },
   "source": [
    "### 새로운 데이터 추론"
   ]
  },
  {
   "cell_type": "markdown",
   "metadata": {
    "id": "gUZZy41SV7aC"
   },
   "source": [
    "#### 추론 함수"
   ]
  },
  {
   "cell_type": "code",
   "execution_count": null,
   "metadata": {
    "executionInfo": {
     "elapsed": 646,
     "status": "ok",
     "timestamp": 1707305664146,
     "user": {
      "displayName": "김성환",
      "userId": "02802166581970122576"
     },
     "user_tz": -540
    },
    "id": "UQjT6ITaWBBq"
   },
   "outputs": [],
   "source": [
    "def predict_func(image_path, model, preprocess_func, image_size=224):\n",
    "    \"\"\"\n",
    "    이미지 경로를 받아서 모델을 이용해 추론결과를 반환하는 함수\n",
    "    [parameter]\n",
    "        image_path: str - 추론한 이미지의 경로\n",
    "        model: Model객체 - 개/고양이 분류를 위해 학습된 딥러닝 모델\n",
    "        prerpocess_input: function - 이미지 전처리 함수 객체\n",
    "    [반환값]\n",
    "        tuple: (예측확률, 예측라벨, 예측라벨이름)\n",
    "    \"\"\"\n",
    "    class_names = [\"고양이\", \"개\"]\n",
    "\n",
    "    # 이미지 로드\n",
    "    img = load_img(img_path, target_size=(224, 224))\n",
    "    img_arr = img_to_array(img)[np.newaxis, ...]\n",
    "\n",
    "    # 전처리\n",
    "    input_tensor = preprocess_func(img_arr)\n",
    "\n",
    "    # 추론 - shape: (1: 추론개수, 2: class별 확률)\n",
    "    pred = model.predict(input_tensor)\n",
    "\n",
    "    # 결과 후처리\n",
    "    proba = pred[0].max(axis=-1)\n",
    "    class_idx = pred[0].argmax(axis=-1)\n",
    "    class_name = class_names[class_idx]\n",
    "\n",
    "    return proba, class_idx, class_name"
   ]
  },
  {
   "cell_type": "code",
   "execution_count": null,
   "metadata": {
    "ExecuteTime": {
     "end_time": "2023-02-28T07:23:41.888696Z",
     "start_time": "2023-02-28T07:23:41.650438Z"
    },
    "colab": {
     "base_uri": "https://localhost:8080/"
    },
    "executionInfo": {
     "elapsed": 528,
     "status": "ok",
     "timestamp": 1707305717548,
     "user": {
      "displayName": "김성환",
      "userId": "02802166581970122576"
     },
     "user_tz": -540
    },
    "id": "Gvz4RzjGAZ6Y",
    "outputId": "e11d81b5-bdaf-4477-fe96-3b6731e9f62b"
   },
   "outputs": [],
   "source": [
    "img_path = 'test_img/dog.jpg'\n",
    "# img_path = 'test_img/cat.jpg'\n",
    "predict_func(img_path, model_1, applications.vgg16.preprocess_input)"
   ]
  },
  {
   "cell_type": "code",
   "execution_count": 23,
   "metadata": {
    "ExecuteTime": {
     "end_time": "2023-02-28T07:23:41.888696Z",
     "start_time": "2023-02-28T07:23:41.650438Z"
    },
    "colab": {
     "base_uri": "https://localhost:8080/"
    },
    "executionInfo": {
     "elapsed": 300,
     "status": "ok",
     "timestamp": 1707802399559,
     "user": {
      "displayName": "Sunghwan KIM",
      "userId": "06010856989212311727"
     },
     "user_tz": -540
    },
    "id": "Gvz4RzjGAZ6Y",
    "outputId": "a586e002-78b5-4e79-bce4-1824307c3348"
   },
   "outputs": [
    {
     "name": "stdout",
     "output_type": "stream",
     "text": [
      "1/1 [==============================] - 0s 18ms/step\n"
     ]
    },
    {
     "data": {
      "text/plain": [
       "(1.0, 1, '개')"
      ]
     },
     "execution_count": 23,
     "metadata": {},
     "output_type": "execute_result"
    }
   ],
   "source": [
    "img_path = 'test_img/dog2.jpg'\n",
    "# img_path = 'test_img/cat2.jpg'\n",
    "predict_func(img_path, model_1, applications.vgg16.preprocess_input)\n",
    "\n",
    "# (0.9999999, 1, '개')"
   ]
  },
  {
   "cell_type": "markdown",
   "metadata": {
    "id": "miqV_0WSbfRm"
   },
   "source": [
    "## Fine-tuning(미세조정)\n",
    "- Transfer Learning을 위한 Pretrained 모델을 내 데이터셋(Custom Dataset)으로 재(추가)학습시키는 것을 fine tunning 이라고 한다.\n",
    "- 주어진 문제에 더 적합하도록 Feature Extractor(backbone)의 가중치들도 조정 한다."
   ]
  },
  {
   "cell_type": "markdown",
   "metadata": {
    "id": "py7c3rmmbfRm"
   },
   "source": [
    "### Fine tuning 전략\n",
    "![transfer02](figures/09_transfer_03.png)\n",
    "\n",
    "- **세 전략 모두 추론기는 trainable로 한다.**"
   ]
  },
  {
   "cell_type": "markdown",
   "metadata": {
    "id": "4wtxXsYUbfRn"
   },
   "source": [
    "**<font size='5'>1. 전체 모델을 전부 학습시킨다.(1번)</font>**    \n",
    "- Pretrained 모델의 weight는 Feature extraction 의 초기 weight 역할을 한다.\n",
    "- **Train dataset의 양이 많고** Pretrained 모델이 학습했던 dataset과 Custom dataset의 class간의 유사성이 **낮은 경우** 적용.\n",
    "- 학습에 시간이 많이 걸린다.\n",
    "    \n",
    "    \n",
    "**<font size='5'>2. Pretrained 모델 Bottom layer들(Input과 가까운 Layer들)은 고정시키고 Top layer의 일부를 재학습시킨다.(2번)</font>**     \n",
    "- **Train dataset의 양이 많고** Pretrained 모델이 학습했던 dataset과 Custom dataset의 class간의 유사성이 **높은 경우** 적용.\n",
    "- **Train dataset의 양이 적고** Pretained 모델이 학습했던 dataset과 custom dataset의 class간의 유사성이 **낮은 경우** 적용\n",
    "    \n",
    "    \n",
    "**<font size='5'>3. Pretrained 모델 전체를 고정시키고 classifier layer들만 학습시킨다.(3번)</font>**      \n",
    "- **Train dataset의 양이 적고** Pretrained 모델이 학습했던 dataset과 Custom dataset의 class간의 유사성이 **높은 경우** 적용.\n",
    "  \n",
    "  \n",
    "> **Custom dataset:** 내가 학습시키고자 하는 dataset\n",
    "> 1번 2번 전략을 Fine tuning 이라고 한다.\n",
    "\n",
    "![fine tuning](figures/09_finetuning.png)"
   ]
  },
  {
   "cell_type": "markdown",
   "metadata": {
    "id": "G-YtyWqaAZ6Z"
   },
   "source": [
    "## Model, Layer의 weight 조회\n",
    "- Transfer Learning을 구현하기 위해 기존 학습된 모델(Pretrained Model)의 Layer를 변경시켜야 한다.\n",
    "\n",
    "### Model에서 Layer들 조회\n",
    "- model객체.layers\n",
    "    - 모델을 구성하는 layer 객체들을 담은 리스트\n",
    "- model객체.get_layer(Layer이름:str)\n",
    "    - argument로 전달한 이름의 Layer객체를 반환\n",
    "    "
   ]
  },
  {
   "cell_type": "markdown",
   "metadata": {
    "id": "RTa3E28HAZ6Z"
   },
   "source": [
    "### Model과 Layer의 weight들 조회 및 설정\n",
    "- Layer와 Model은 **Weight 조회**와 관련해 세가지 **속성**을 제공\n",
    "    - **weights:** 레이어의 모든 weight들을 담은 리스트\n",
    "    - **trainable_weights:** Train(학습)시 업데이트 되는 weights들 리스트\n",
    "    - **non_trainable_weights:** Train(학습)시 업데이트 되지 않는(훈련되지 않는) weights들 리스트\n",
    "- Layer와 Model은 boolean 값을 가지는 속성 `trainable`을 제공\n",
    "    - trainable을 **False로** 설정하면 Layer의 weights들이 훈련가능에서 **훈련 불가능** 상태로 변경된다. 이런 상태를 **Frozen**상태 이라고 하며 학습 할 때 weight들이 업데이트 되지 않는다."
   ]
  },
  {
   "cell_type": "code",
   "execution_count": null,
   "metadata": {
    "ExecuteTime": {
     "end_time": "2023-02-28T08:16:23.417754Z",
     "start_time": "2023-02-28T08:16:23.327446Z"
    },
    "executionInfo": {
     "elapsed": 548,
     "status": "ok",
     "timestamp": 1707305736478,
     "user": {
      "displayName": "김성환",
      "userId": "02802166581970122576"
     },
     "user_tz": -540
    },
    "id": "3Xs2FePXAZ6Z"
   },
   "outputs": [],
   "source": [
    "### Layer, weight 조회 기본 예제\n",
    "test_model = keras.Sequential([\n",
    "    layers.Conv2D(filters=32, kernel_size=3, padding='same', activation='relu', input_shape=(28,28,1), name='my_conv'),\n",
    "    layers.MaxPooling2D(padding='same'),\n",
    "\n",
    "    layers.Conv2D(filters=64, kernel_size=3, padding='same', activation='relu'),\n",
    "    layers.MaxPooling2D(padding='same'),\n",
    "\n",
    "    layers.Flatten(),\n",
    "    layers.Dense(units=256, activation='relu'),\n",
    "    layers.Dense(units=10, activation='softmax', name='output_layer')\n",
    "])"
   ]
  },
  {
   "cell_type": "code",
   "execution_count": null,
   "metadata": {
    "ExecuteTime": {
     "end_time": "2023-02-28T08:16:23.821477Z",
     "start_time": "2023-02-28T08:16:23.777196Z"
    },
    "colab": {
     "base_uri": "https://localhost:8080/"
    },
    "executionInfo": {
     "elapsed": 6,
     "status": "ok",
     "timestamp": 1707305738996,
     "user": {
      "displayName": "김성환",
      "userId": "02802166581970122576"
     },
     "user_tz": -540
    },
    "id": "rUHo-xqBAZ6a",
    "outputId": "f99b153b-64fc-47db-d5cc-553f9c34c2ee"
   },
   "outputs": [],
   "source": [
    "test_model.summary()"
   ]
  },
  {
   "cell_type": "code",
   "execution_count": null,
   "metadata": {
    "ExecuteTime": {
     "end_time": "2023-02-28T08:18:45.090330Z",
     "start_time": "2023-02-28T08:18:45.069894Z"
    },
    "colab": {
     "base_uri": "https://localhost:8080/"
    },
    "executionInfo": {
     "elapsed": 525,
     "status": "ok",
     "timestamp": 1707305745629,
     "user": {
      "displayName": "김성환",
      "userId": "02802166581970122576"
     },
     "user_tz": -540
    },
    "id": "FRrGf91SAZ6a",
    "outputId": "1baa178f-3ffa-41f5-f304-f173003a3650"
   },
   "outputs": [],
   "source": [
    "# 모델을 구성하는 Layer들 리스트 조회\n",
    "layer_list = test_model.layers\n",
    "type(layer_list), len(layer_list)"
   ]
  },
  {
   "cell_type": "code",
   "execution_count": null,
   "metadata": {
    "ExecuteTime": {
     "end_time": "2023-02-28T08:19:52.455219Z",
     "start_time": "2023-02-28T08:19:52.440187Z"
    },
    "colab": {
     "base_uri": "https://localhost:8080/"
    },
    "executionInfo": {
     "elapsed": 536,
     "status": "ok",
     "timestamp": 1707305754443,
     "user": {
      "displayName": "김성환",
      "userId": "02802166581970122576"
     },
     "user_tz": -540
    },
    "id": "zGOFHQjuAZ6a",
    "outputId": "89b6de1d-796f-4cfa-99e0-d67b5c749e8d"
   },
   "outputs": [],
   "source": [
    "print(layer_list[0], layer_list[1])"
   ]
  },
  {
   "cell_type": "code",
   "execution_count": null,
   "metadata": {
    "ExecuteTime": {
     "end_time": "2023-02-28T08:22:36.783043Z",
     "start_time": "2023-02-28T08:22:36.766559Z"
    },
    "colab": {
     "base_uri": "https://localhost:8080/"
    },
    "executionInfo": {
     "elapsed": 568,
     "status": "ok",
     "timestamp": 1707305761621,
     "user": {
      "displayName": "김성환",
      "userId": "02802166581970122576"
     },
     "user_tz": -540
    },
    "id": "huOl2I8eAZ6a",
    "outputId": "1f37a79d-8454-4806-91ff-682494b0b086"
   },
   "outputs": [],
   "source": [
    "# Layer의 이름을 이용해 개별 layer 조회\n",
    "l1 = test_model.get_layer(\"my_conv\")\n",
    "print(l1)"
   ]
  },
  {
   "cell_type": "code",
   "execution_count": null,
   "metadata": {
    "ExecuteTime": {
     "end_time": "2023-02-28T08:23:09.132463Z",
     "start_time": "2023-02-28T08:23:09.109287Z"
    },
    "colab": {
     "base_uri": "https://localhost:8080/"
    },
    "executionInfo": {
     "elapsed": 527,
     "status": "ok",
     "timestamp": 1707305775622,
     "user": {
      "displayName": "김성환",
      "userId": "02802166581970122576"
     },
     "user_tz": -540
    },
    "id": "UxymxP45AZ6b",
    "outputId": "d18aa86b-bbf5-4e60-e8d3-645d1b399d8d"
   },
   "outputs": [],
   "source": [
    "l2 = test_model.get_layer('conv2d')\n",
    "l2"
   ]
  },
  {
   "cell_type": "code",
   "execution_count": null,
   "metadata": {
    "ExecuteTime": {
     "end_time": "2023-02-28T08:24:34.563820Z",
     "start_time": "2023-02-28T08:24:34.557187Z"
    },
    "colab": {
     "base_uri": "https://localhost:8080/"
    },
    "executionInfo": {
     "elapsed": 507,
     "status": "ok",
     "timestamp": 1707305785834,
     "user": {
      "displayName": "김성환",
      "userId": "02802166581970122576"
     },
     "user_tz": -540
    },
    "id": "zF1evo6-AZ6b",
    "outputId": "40045f53-dc6d-4d9a-fb39-bfbb17f7568e"
   },
   "outputs": [],
   "source": [
    "# layer의 trainable 상태 조회(변경)\n",
    "print(l1.trainable)\n",
    "l1.trainable = False\n",
    "print(l1.trainable)"
   ]
  },
  {
   "cell_type": "code",
   "execution_count": null,
   "metadata": {
    "ExecuteTime": {
     "end_time": "2023-02-28T08:26:35.192802Z",
     "start_time": "2023-02-28T08:26:35.176194Z"
    },
    "colab": {
     "base_uri": "https://localhost:8080/",
     "height": 35
    },
    "executionInfo": {
     "elapsed": 548,
     "status": "ok",
     "timestamp": 1707305792666,
     "user": {
      "displayName": "김성환",
      "userId": "02802166581970122576"
     },
     "user_tz": -540
    },
    "id": "35FzK3PjAZ6b",
    "outputId": "7f75efc1-bb61-4999-c6f9-c6936a62779f"
   },
   "outputs": [],
   "source": [
    "# layer의 이름 조회(변경은 안됨)\n",
    "l1.name"
   ]
  },
  {
   "cell_type": "code",
   "execution_count": null,
   "metadata": {
    "ExecuteTime": {
     "end_time": "2023-02-28T08:27:42.542107Z",
     "start_time": "2023-02-28T08:27:42.526404Z"
    },
    "colab": {
     "base_uri": "https://localhost:8080/"
    },
    "executionInfo": {
     "elapsed": 3,
     "status": "ok",
     "timestamp": 1707305812832,
     "user": {
      "displayName": "김성환",
      "userId": "02802166581970122576"
     },
     "user_tz": -540
    },
    "id": "s_aqX0JKAZ6b",
    "outputId": "91a1d87d-982a-4c72-98f3-ea785d4e3957"
   },
   "outputs": [],
   "source": [
    "# layer의 파라미터들을 조회\n",
    "param = l1.weights\n",
    "type(param), len(param)\n",
    "param[0].shape, param[1].shape   # weight, bias"
   ]
  },
  {
   "cell_type": "markdown",
   "metadata": {
    "id": "W9iEOpsCbfRr"
   },
   "source": [
    "### Fine Tuning 예제\n",
    "\n",
    "#### Pretrained 모델 Bottom layer들(Input과 가까운 Layer들)은 고정시키고 Top layer의 일부를 재학습"
   ]
  },
  {
   "cell_type": "markdown",
   "metadata": {
    "id": "jGgjrGaIbfRr"
   },
   "source": [
    "- Conv_base에서 가장 Top부분에 있는 레이어에 대해 fine-tuning.\n",
    "    - 앞의 layer들은 비교적 일반적이고 재사용 가능한 feature를 학습\n",
    "    - 너무 많은 parameter를 학습시키면 overfitting의 위험이 있음 (특히 새로운 데이터의 수가 적을 때)"
   ]
  },
  {
   "cell_type": "code",
   "execution_count": null,
   "metadata": {
    "ExecuteTime": {
     "end_time": "2023-03-02T01:20:42.025915Z",
     "start_time": "2023-03-02T01:20:42.012644Z"
    },
    "executionInfo": {
     "elapsed": 572,
     "status": "ok",
     "timestamp": 1707305855897,
     "user": {
      "displayName": "김성환",
      "userId": "02802166581970122576"
     },
     "user_tz": -540
    },
    "id": "R9M_z2KGAZ6c"
   },
   "outputs": [],
   "source": [
    "import tensorflow as tf\n",
    "from tensorflow import keras\n",
    "from tensorflow.keras import applications, layers, models, callbacks, optimizers\n",
    "\n",
    "import numpy as np\n",
    "import random\n",
    "\n",
    "np.random.seed(0)\n",
    "random.seed(0)\n",
    "tf.random.set_seed(0)"
   ]
  },
  {
   "cell_type": "code",
   "execution_count": null,
   "metadata": {
    "ExecuteTime": {
     "end_time": "2023-03-02T01:21:57.345399Z",
     "start_time": "2023-03-02T01:21:57.333342Z"
    },
    "executionInfo": {
     "elapsed": 3,
     "status": "ok",
     "timestamp": 1707306084413,
     "user": {
      "displayName": "김성환",
      "userId": "02802166581970122576"
     },
     "user_tz": -540
    },
    "id": "NFdsv58cAZ6c"
   },
   "outputs": [],
   "source": [
    "LEARNING_RATE = 0.001\n",
    "N_EPOCH = 10 # 100\n",
    "N_BATCH = 64"
   ]
  },
  {
   "cell_type": "markdown",
   "metadata": {
    "id": "hx3dVOg7AZ6c"
   },
   "source": [
    "##### 모델 정의, 컴파일"
   ]
  },
  {
   "cell_type": "code",
   "execution_count": null,
   "metadata": {
    "ExecuteTime": {
     "end_time": "2023-03-02T01:40:57.967306Z",
     "start_time": "2023-03-02T01:40:57.956983Z"
    },
    "executionInfo": {
     "elapsed": 3,
     "status": "ok",
     "timestamp": 1707306089180,
     "user": {
      "displayName": "김성환",
      "userId": "02802166581970122576"
     },
     "user_tz": -540
    },
    "id": "FHXLr127AZ6c"
   },
   "outputs": [],
   "source": [
    "def get_model_2(block_name='block5_conv2'):\n",
    "    \"\"\"\n",
    "    backbone 네트워크로 VGG 16을 사용.\n",
    "    block5_conv2, bloc5_conv3 는 추가 학습이 되도록 구현.  => trainable, 나머지는 frozen\n",
    "    [parameter]\n",
    "        block_name: str - trainable을 시작할 layer의 이름.\n",
    "                          지정한 block 아래 있는 layer들을 trainable로 한다.\n",
    "    [retunr]\n",
    "        model\n",
    "    \"\"\"\n",
    "    model = keras.Sequential()\n",
    "    backbone = applications.VGG16(include_top=False, input_shape=(224, 224, 3))\n",
    "\n",
    "    # block5_conv2 를 포함해서 그 다음 레이어들의 trainable 속성을 True로 변환.\n",
    "    is_trainable = False\n",
    "    for layer in backbone.layers:\n",
    "        if layer.name == block_name:\n",
    "            is_trainable = True\n",
    "        layer.trainable = is_trainable\n",
    "\n",
    "    model.add(backbone)\n",
    "    model.add(layers.GlobalAveragePooling2D())\n",
    "    model.add(layers.Dense(256, activation='relu'))\n",
    "    model.add(layers.Dense(2, activation='softmax', name='output_layer'))\n",
    "\n",
    "    # 컴파일\n",
    "    model.compile(optimizer=optimizers.Adam(LEARNING_RATE), loss='categorical_crossentropy', metrics=['accuracy'])\n",
    "    return model"
   ]
  },
  {
   "cell_type": "code",
   "execution_count": 10,
   "metadata": {
    "ExecuteTime": {
     "end_time": "2023-03-02T01:41:24.369310Z",
     "start_time": "2023-03-02T01:41:23.819352Z"
    },
    "colab": {
     "base_uri": "https://localhost:8080/"
    },
    "executionInfo": {
     "elapsed": 1947,
     "status": "ok",
     "timestamp": 1707806112362,
     "user": {
      "displayName": "Sunghwan KIM",
      "userId": "06010856989212311727"
     },
     "user_tz": -540
    },
    "id": "ruhE4mcAAZ6c",
    "outputId": "50678856-8b83-4053-e1c0-bd5fe20db995"
   },
   "outputs": [
    {
     "name": "stdout",
     "output_type": "stream",
     "text": [
      "Downloading data from https://storage.googleapis.com/tensorflow/keras-applications/vgg16/vgg16_weights_tf_dim_ordering_tf_kernels_notop.h5\n",
      "58889256/58889256 [==============================] - 0s 0us/step\n",
      "Model: \"sequential\"\n",
      "_________________________________________________________________\n",
      " Layer (type)                Output Shape              Param #   \n",
      "=================================================================\n",
      " vgg16 (Functional)          (None, 7, 7, 512)         14714688  \n",
      "                                                                 \n",
      " global_average_pooling2d (  (None, 512)               0         \n",
      " GlobalAveragePooling2D)                                         \n",
      "                                                                 \n",
      " dense (Dense)               (None, 256)               131328    \n",
      "                                                                 \n",
      " output_layer (Dense)        (None, 2)                 514       \n",
      "                                                                 \n",
      "=================================================================\n",
      "Total params: 14846530 (56.64 MB)\n",
      "Trainable params: 4851458 (18.51 MB)\n",
      "Non-trainable params: 9995072 (38.13 MB)\n",
      "_________________________________________________________________\n"
     ]
    }
   ],
   "source": [
    "model2 = get_model_2()\n",
    "model2.summary()"
   ]
  },
  {
   "cell_type": "markdown",
   "metadata": {
    "id": "VWpWAx66AZ6c"
   },
   "source": [
    "##### 학습"
   ]
  },
  {
   "cell_type": "code",
   "execution_count": 11,
   "metadata": {
    "ExecuteTime": {
     "end_time": "2023-03-02T01:45:17.177093Z",
     "start_time": "2023-03-02T01:45:16.932006Z"
    },
    "colab": {
     "base_uri": "https://localhost:8080/"
    },
    "executionInfo": {
     "elapsed": 374,
     "status": "ok",
     "timestamp": 1707806135431,
     "user": {
      "displayName": "Sunghwan KIM",
      "userId": "06010856989212311727"
     },
     "user_tz": -540
    },
    "id": "SGOnt0cXAZ6c",
    "outputId": "f3a9101b-77b6-468d-e0ca-b531f215cbae"
   },
   "outputs": [
    {
     "name": "stdout",
     "output_type": "stream",
     "text": [
      "Found 2000 images belonging to 2 classes.\n",
      "Found 1000 images belonging to 2 classes.\n",
      "Found 1000 images belonging to 2 classes.\n"
     ]
    }
   ],
   "source": [
    "train_iter2, val_iter2, test_iter2 = get_generator(applications.vgg16.preprocess_input)"
   ]
  },
  {
   "cell_type": "code",
   "execution_count": 12,
   "metadata": {
    "colab": {
     "base_uri": "https://localhost:8080/"
    },
    "executionInfo": {
     "elapsed": 336745,
     "status": "ok",
     "timestamp": 1707806537297,
     "user": {
      "displayName": "Sunghwan KIM",
      "userId": "06010856989212311727"
     },
     "user_tz": -540
    },
    "id": "btm4_8o2AZ6c",
    "outputId": "5d42a129-66ce-457a-ac7a-430bac2d0d5c",
    "scrolled": true
   },
   "outputs": [
    {
     "name": "stdout",
     "output_type": "stream",
     "text": [
      "Epoch 1/10\n",
      "32/32 [==============================] - ETA: 0s - loss: 7.8851 - accuracy: 0.5985\n",
      "Epoch 1: val_loss improved from inf to 1.07003, saving model to /content/drive/MyDrive/saved_model/cat_dog_fine_tuning\n",
      "32/32 [==============================] - 59s 1s/step - loss: 7.8851 - accuracy: 0.5985 - val_loss: 1.0700 - val_accuracy: 0.6640\n",
      "Epoch 2/10\n",
      "32/32 [==============================] - ETA: 0s - loss: 0.2321 - accuracy: 0.9000\n",
      "Epoch 2: val_loss improved from 1.07003 to 0.16595, saving model to /content/drive/MyDrive/saved_model/cat_dog_fine_tuning\n",
      "32/32 [==============================] - 33s 1s/step - loss: 0.2321 - accuracy: 0.9000 - val_loss: 0.1660 - val_accuracy: 0.9410\n",
      "Epoch 3/10\n",
      "32/32 [==============================] - ETA: 0s - loss: 0.1348 - accuracy: 0.9480\n",
      "Epoch 3: val_loss improved from 0.16595 to 0.14169, saving model to /content/drive/MyDrive/saved_model/cat_dog_fine_tuning\n",
      "32/32 [==============================] - 34s 1s/step - loss: 0.1348 - accuracy: 0.9480 - val_loss: 0.1417 - val_accuracy: 0.9540\n",
      "Epoch 4/10\n",
      "32/32 [==============================] - ETA: 0s - loss: 0.1267 - accuracy: 0.9410\n",
      "Epoch 4: val_loss improved from 0.14169 to 0.08057, saving model to /content/drive/MyDrive/saved_model/cat_dog_fine_tuning\n",
      "32/32 [==============================] - 34s 1s/step - loss: 0.1267 - accuracy: 0.9410 - val_loss: 0.0806 - val_accuracy: 0.9710\n",
      "Epoch 5/10\n",
      "32/32 [==============================] - ETA: 0s - loss: 0.1407 - accuracy: 0.9430\n",
      "Epoch 5: val_loss did not improve from 0.08057\n",
      "32/32 [==============================] - 32s 986ms/step - loss: 0.1407 - accuracy: 0.9430 - val_loss: 0.1215 - val_accuracy: 0.9590\n",
      "Epoch 6/10\n",
      "32/32 [==============================] - ETA: 0s - loss: 0.1096 - accuracy: 0.9610\n",
      "Epoch 6: val_loss improved from 0.08057 to 0.06825, saving model to /content/drive/MyDrive/saved_model/cat_dog_fine_tuning\n",
      "32/32 [==============================] - 33s 1s/step - loss: 0.1096 - accuracy: 0.9610 - val_loss: 0.0683 - val_accuracy: 0.9740\n",
      "Epoch 7/10\n",
      "32/32 [==============================] - ETA: 0s - loss: 0.0600 - accuracy: 0.9795\n",
      "Epoch 7: val_loss did not improve from 0.06825\n",
      "32/32 [==============================] - 32s 985ms/step - loss: 0.0600 - accuracy: 0.9795 - val_loss: 0.1941 - val_accuracy: 0.9470\n",
      "Epoch 8/10\n",
      "32/32 [==============================] - ETA: 0s - loss: 0.0625 - accuracy: 0.9785\n",
      "Epoch 8: val_loss did not improve from 0.06825\n",
      "32/32 [==============================] - 32s 970ms/step - loss: 0.0625 - accuracy: 0.9785 - val_loss: 0.0766 - val_accuracy: 0.9740\n",
      "Epoch 9/10\n",
      "32/32 [==============================] - ETA: 0s - loss: 0.0592 - accuracy: 0.9785\n",
      "Epoch 9: val_loss did not improve from 0.06825\n",
      "32/32 [==============================] - 31s 977ms/step - loss: 0.0592 - accuracy: 0.9785 - val_loss: 0.0966 - val_accuracy: 0.9710\n",
      "Epoch 9: early stopping\n"
     ]
    }
   ],
   "source": [
    "import os\n",
    "save_path2 = \"/content/drive/MyDrive/saved_model/cat_dog_fine_tuning\"\n",
    "mc_callback2 = callbacks.ModelCheckpoint(save_path2, save_best_only=True, verbose=2)\n",
    "es_callback2 = callbacks.EarlyStopping(patience=3, verbose=2)\n",
    "\n",
    "hist2 = model2.fit(train_iter2,\n",
    "                  epochs=N_EPOCH,\n",
    "                  steps_per_epoch=len(train_iter2),\n",
    "                  validation_data=val_iter2,\n",
    "                  validation_steps=len(val_iter2),\n",
    "                  callbacks=[mc_callback2, es_callback2])"
   ]
  },
  {
   "cell_type": "markdown",
   "metadata": {
    "id": "f4300xE8AZ6d"
   },
   "source": [
    "##### 최종 평가"
   ]
  },
  {
   "cell_type": "code",
   "execution_count": null,
   "metadata": {
    "colab": {
     "base_uri": "https://localhost:8080/"
    },
    "executionInfo": {
     "elapsed": 6300,
     "status": "ok",
     "timestamp": 1707306317118,
     "user": {
      "displayName": "김성환",
      "userId": "02802166581970122576"
     },
     "user_tz": -540
    },
    "id": "IANlIBZ5AZ6d",
    "outputId": "764fd1bd-7a9b-4a35-c74a-cd9567863c57"
   },
   "outputs": [],
   "source": [
    "model2.evaluate(test_iter2)"
   ]
  },
  {
   "cell_type": "code",
   "execution_count": 13,
   "metadata": {
    "executionInfo": {
     "elapsed": 888,
     "status": "ok",
     "timestamp": 1707806594543,
     "user": {
      "displayName": "Sunghwan KIM",
      "userId": "06010856989212311727"
     },
     "user_tz": -540
    },
    "id": "TfiB_gotNCUc"
   },
   "outputs": [],
   "source": [
    "saved_model2 = keras.models.load_model(save_path2)"
   ]
  },
  {
   "cell_type": "code",
   "execution_count": 14,
   "metadata": {
    "colab": {
     "base_uri": "https://localhost:8080/"
    },
    "executionInfo": {
     "elapsed": 5718,
     "status": "ok",
     "timestamp": 1707806612835,
     "user": {
      "displayName": "Sunghwan KIM",
      "userId": "06010856989212311727"
     },
     "user_tz": -540
    },
    "id": "IANlIBZ5AZ6d",
    "outputId": "b118239d-9a51-4100-eeb8-864e53140be7"
   },
   "outputs": [
    {
     "name": "stdout",
     "output_type": "stream",
     "text": [
      "16/16 [==============================] - 5s 259ms/step - loss: 0.0712 - accuracy: 0.9740\n"
     ]
    },
    {
     "data": {
      "text/plain": [
       "[0.07124575972557068, 0.9739999771118164]"
      ]
     },
     "execution_count": 14,
     "metadata": {},
     "output_type": "execute_result"
    }
   ],
   "source": [
    "saved_model2.evaluate(test_iter2)"
   ]
  },
  {
   "cell_type": "markdown",
   "metadata": {
    "id": "-_w5XjIKAZ6d"
   },
   "source": [
    "### 새로운 데이터 추론"
   ]
  },
  {
   "cell_type": "code",
   "execution_count": 22,
   "metadata": {
    "colab": {
     "base_uri": "https://localhost:8080/"
    },
    "executionInfo": {
     "elapsed": 2,
     "status": "ok",
     "timestamp": 1707806773663,
     "user": {
      "displayName": "Sunghwan KIM",
      "userId": "06010856989212311727"
     },
     "user_tz": -540
    },
    "id": "nRloBmqKAZ6d",
    "outputId": "f1569cc4-9374-4371-f3cc-82765bf07b8c"
   },
   "outputs": [
    {
     "name": "stdout",
     "output_type": "stream",
     "text": [
      "1/1 [==============================] - 0s 19ms/step\n"
     ]
    },
    {
     "data": {
      "text/plain": [
       "(1.0, 1, '개')"
      ]
     },
     "execution_count": 22,
     "metadata": {},
     "output_type": "execute_result"
    }
   ],
   "source": [
    "img_path = 'dog2.jpg'\n",
    "# img_path = 'cat2.jpg'\n",
    "predict_func(img_path, saved_model2, applications.vgg16.preprocess_input)"
   ]
  }
 ],
 "metadata": {
  "anaconda-cloud": {},
  "colab": {
   "provenance": []
  },
  "kernelspec": {
   "display_name": "Python 3 (ipykernel)",
   "language": "python",
   "name": "python3"
  },
  "language_info": {
   "codemirror_mode": {
    "name": "ipython",
    "version": 3
   },
   "file_extension": ".py",
   "mimetype": "text/x-python",
   "name": "python",
   "nbconvert_exporter": "python",
   "pygments_lexer": "ipython3",
   "version": "3.11.5"
  },
  "toc": {
   "base_numbering": 1,
   "nav_menu": {},
   "number_sections": false,
   "sideBar": true,
   "skip_h1_title": false,
   "title_cell": "Table of Contents",
   "title_sidebar": "Contents",
   "toc_cell": false,
   "toc_position": {},
   "toc_section_display": true,
   "toc_window_display": false
  },
  "varInspector": {
   "cols": {
    "lenName": 16,
    "lenType": 16,
    "lenVar": 40
   },
   "kernels_config": {
    "python": {
     "delete_cmd_postfix": "",
     "delete_cmd_prefix": "del ",
     "library": "var_list.py",
     "varRefreshCmd": "print(var_dic_list())"
    },
    "r": {
     "delete_cmd_postfix": ") ",
     "delete_cmd_prefix": "rm(",
     "library": "var_list.r",
     "varRefreshCmd": "cat(var_dic_list()) "
    }
   },
   "position": {
    "height": "551.4px",
    "left": "1166px",
    "right": "20px",
    "top": "120px",
    "width": "350px"
   },
   "types_to_exclude": [
    "module",
    "function",
    "builtin_function_or_method",
    "instance",
    "_Feature"
   ],
   "window_display": false
  }
 },
 "nbformat": 4,
 "nbformat_minor": 4
}
