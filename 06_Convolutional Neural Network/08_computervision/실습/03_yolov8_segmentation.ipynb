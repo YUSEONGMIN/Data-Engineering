{
 "cells": [
  {
   "cell_type": "markdown",
   "id": "fe7a56c7",
   "metadata": {},
   "source": [
    "## Segmentation\n",
    "\n",
    "- 모델명 : xxxxx-seg\n",
    "\n",
    "### 모델로딩 및 추론"
   ]
  },
  {
   "cell_type": "code",
   "execution_count": 1,
   "id": "a42ecf08",
   "metadata": {
    "ExecuteTime": {
     "end_time": "2023-11-08T14:25:58.905615Z",
     "start_time": "2023-11-08T14:25:58.888889Z"
    },
    "tags": []
   },
   "outputs": [],
   "source": [
    "from ultralytics import YOLO\n",
    "import matplotlib.pyplot as plt\n",
    "import numpy as np\n",
    "import cv2"
   ]
  },
  {
   "cell_type": "code",
   "execution_count": 2,
   "id": "977e60fd",
   "metadata": {
    "ExecuteTime": {
     "end_time": "2023-11-08T14:17:56.247536Z",
     "start_time": "2023-11-08T14:17:55.617398Z"
    },
    "tags": []
   },
   "outputs": [
    {
     "name": "stdout",
     "output_type": "stream",
     "text": [
      "Downloading https://github.com/ultralytics/assets/releases/download/v8.1.0/yolov8m-seg.pt to 'models\\yolov8m-seg.pt'...\n"
     ]
    },
    {
     "name": "stderr",
     "output_type": "stream",
     "text": [
      "100%|██████████████████████████████████████████████████████████████████████████████| 52.4M/52.4M [02:02<00:00, 449kB/s]\n"
     ]
    },
    {
     "name": "stdout",
     "output_type": "stream",
     "text": [
      "\n",
      "0: 640x640 5 persons, 10 cars, 1: 640x640 4 persons, 1 bus, 1 tie, 4944.8ms\n",
      "Speed: 15.6ms preprocess, 2472.4ms inference, 70.5ms postprocess per image at shape (1, 3, 640, 640)\n",
      "Results saved to \u001b[1mruns\\segment\\predict\u001b[0m\n",
      "2 labels saved to runs\\segment\\predict\\labels\n"
     ]
    }
   ],
   "source": [
    "model_path = 'models/yolov8m-seg.pt'\n",
    "file_path = r'02_test_image_seg/beatles.jpg'\n",
    "file_path = [r'02_test_image_seg/beatles.jpg', '02_test_image_seg/bus.jpg']\n",
    "\n",
    "model_seg = YOLO(model_path)\n",
    "results = model_seg(file_path, save=True, save_txt=True, line_width=1)\n",
    "# results의 타입: List => 조회 이미지 개수별로 Results를 리스트에 묶어 반환."
   ]
  },
  {
   "cell_type": "code",
   "execution_count": 3,
   "id": "3d66ad78",
   "metadata": {
    "ExecuteTime": {
     "end_time": "2023-11-08T14:17:56.829207Z",
     "start_time": "2023-11-08T14:17:56.824207Z"
    },
    "tags": []
   },
   "outputs": [
    {
     "data": {
      "text/plain": [
       "(2, list, ultralytics.engine.results.Results)"
      ]
     },
     "execution_count": 3,
     "metadata": {},
     "output_type": "execute_result"
    }
   ],
   "source": [
    "len(results), type(results), type(results[0])"
   ]
  },
  {
   "cell_type": "markdown",
   "id": "a8d7c5f3",
   "metadata": {},
   "source": [
    "## Segmentation 추론결과 조회\n",
    "- segmentation 추론 결과는 Boxes를 이용해 추론한 bounding box의 결과와 Masks를 이용해 분할된 mask 정보를 조회한다.\n",
    "- **ultralytics.yolo.engine.results.Masks**\n",
    "    - Segmentation 의 결과 type\n",
    "    - Results.masks 로 조회한다.\n",
    "    - 주요 속성, 메소드\n",
    "        - shape: [object 개수, height, width]\n",
    "            - height, width: mask image size\n",
    "        - data: 결과 Tensor(3차원 배열) 반환. `0: 배경, 1: 물체` 를 원소로 가지는 결과 Tensor를 반환한다.\n",
    "            - 픽셀별로 물체 인지 아닌 지를 표현하는 tensor를 반환\n",
    "        - xy, xyn : mask의 bounding 좌표(경계선 좌표)를 물체별로 list에 담아서 반환한다.\n",
    "            - 물체의 외곽선을 그리는 좌표들을 반환\n",
    "            - xy: 실제 좌표, xyn: 이미지의 width/height 대비 비율\n",
    "- **ultralytics.yolo.engine.results.Boxes**\n",
    "     - Results.boxes로 조회\n",
    "    - 주요 속성\n",
    "        - shape: 결과 shape. (찾은 물체개수, 6)\n",
    "        - boxes\n",
    "            - 6: 좌상단 x, 좌상단 y, 우하단 x, 우하단 y, confidence score, label\n",
    "        - xyxy\n",
    "            - bounding box의 `좌상단 x, 좌상단 y, 우하단 x, 우하단 y` 좌표 반환\n",
    "        - xyxyn\n",
    "            - xyxy를 이미지 대비 비율로 반환\n",
    "        - xywh\n",
    "            - bounding box의 `center x, center y, 너비, 높이` 를 반환\n",
    "        - xywhn\n",
    "            - xywh를 이미지 대비 비율로 반환\n",
    "        - cls: 찾은 물체의 label\n",
    "        - conf: cls에 대한 confidence score (그 물체일 확률)\n",
    "        - boxes\n",
    "            - `x, y, x, y, conf, cls` tensor를 반환"
   ]
  },
  {
   "cell_type": "code",
   "execution_count": 4,
   "id": "febc8939",
   "metadata": {
    "ExecuteTime": {
     "end_time": "2023-11-08T14:18:01.926291Z",
     "start_time": "2023-11-08T14:18:01.921291Z"
    }
   },
   "outputs": [],
   "source": [
    "# 첫번째이미지 추론결과\n",
    "result = results[0]"
   ]
  },
  {
   "cell_type": "code",
   "execution_count": 5,
   "id": "156a7135",
   "metadata": {
    "ExecuteTime": {
     "end_time": "2023-11-08T15:05:36.578030Z",
     "start_time": "2023-11-08T15:05:30.966902Z"
    }
   },
   "outputs": [],
   "source": [
    "cv2.imshow('result', result.plot())\n",
    "cv2.waitKey()\n",
    "cv2.destroyAllWindows()"
   ]
  },
  {
   "cell_type": "code",
   "execution_count": 6,
   "id": "f259f595",
   "metadata": {
    "ExecuteTime": {
     "end_time": "2023-11-08T14:18:02.587748Z",
     "start_time": "2023-11-08T14:18:02.568900Z"
    }
   },
   "outputs": [
    {
     "name": "stdout",
     "output_type": "stream",
     "text": [
      "torch.Size([15, 4])\n",
      "torch.Size([15])\n",
      "torch.Size([15])\n"
     ]
    }
   ],
   "source": [
    "## bbox 추론 결과들.\n",
    "boxes = result.boxes\n",
    "print(boxes.xyxy.shape)\n",
    "print(boxes.cls.shape)\n",
    "print(boxes.conf.shape)"
   ]
  },
  {
   "cell_type": "code",
   "execution_count": 7,
   "id": "c16b37ae",
   "metadata": {
    "ExecuteTime": {
     "end_time": "2023-11-08T14:18:24.869495Z",
     "start_time": "2023-11-08T14:18:24.865919Z"
    },
    "tags": []
   },
   "outputs": [
    {
     "name": "stdout",
     "output_type": "stream",
     "text": [
      "<class 'ultralytics.engine.results.Masks'>\n"
     ]
    }
   ],
   "source": [
    "## segmentation 추론 결과\n",
    "masks = result.masks\n",
    "print(type(masks))"
   ]
  },
  {
   "cell_type": "code",
   "execution_count": 8,
   "id": "13be783b",
   "metadata": {
    "ExecuteTime": {
     "end_time": "2023-11-08T15:12:24.401270Z",
     "start_time": "2023-11-08T15:12:24.384315Z"
    }
   },
   "outputs": [
    {
     "name": "stdout",
     "output_type": "stream",
     "text": [
      "15 <class 'list'> (374, 2)\n"
     ]
    }
   ],
   "source": [
    "print(len(masks.xy), type(masks.xy), masks.xy[0].shape)  # masks.xy[0]: 첫번째 instance. (point개수, 2-xy좌표)"
   ]
  },
  {
   "cell_type": "code",
   "execution_count": 9,
   "id": "a5a8a093",
   "metadata": {
    "ExecuteTime": {
     "end_time": "2023-11-08T15:12:26.746597Z",
     "start_time": "2023-11-08T15:12:26.743597Z"
    }
   },
   "outputs": [
    {
     "name": "stdout",
     "output_type": "stream",
     "text": [
      "15 <class 'list'> (374, 2)\n"
     ]
    }
   ],
   "source": [
    "print(len(masks.xyn), type(masks.xyn), masks.xyn[0].shape)  # masks.xyn[0]: 첫번째 이미지. (point개수, 2) - width, height 대비 비율"
   ]
  },
  {
   "cell_type": "code",
   "execution_count": 10,
   "id": "487ed738",
   "metadata": {
    "ExecuteTime": {
     "end_time": "2023-11-08T14:42:26.383067Z",
     "start_time": "2023-11-08T14:42:26.372037Z"
    }
   },
   "outputs": [],
   "source": [
    "a = np.zeros(result.orig_shape)\n",
    "\n",
    "idx = masks.xy[0].astype('int')\n",
    "y, x = idx[:,0], idx[:,1]   # y, x 좌표 나누기\n",
    "a[x, y] = 255"
   ]
  },
  {
   "cell_type": "code",
   "execution_count": 11,
   "id": "7db4d398",
   "metadata": {
    "ExecuteTime": {
     "end_time": "2023-11-08T14:42:27.016047Z",
     "start_time": "2023-11-08T14:42:26.907791Z"
    }
   },
   "outputs": [
    {
     "data": {
      "text/plain": [
       "<matplotlib.image.AxesImage at 0x2611db0b280>"
      ]
     },
     "execution_count": 11,
     "metadata": {},
     "output_type": "execute_result"
    },
    {
     "data": {
      "image/png": "[encoded data removed]",
      "text/plain": [
       "<Figure size 640x480 with 1 Axes>"
      ]
     },
     "metadata": {},
     "output_type": "display_data"
    }
   ],
   "source": [
    "plt.imshow(a, cmap='gray')"
   ]
  },
  {
   "cell_type": "code",
   "execution_count": 12,
   "id": "8cb64a5c",
   "metadata": {
    "ExecuteTime": {
     "end_time": "2023-11-08T15:16:11.070767Z",
     "start_time": "2023-11-08T15:16:11.037803Z"
    }
   },
   "outputs": [
    {
     "name": "stdout",
     "output_type": "stream",
     "text": [
      "<class 'ultralytics.engine.results.Masks'> (374, 2)\n",
      "<class 'ultralytics.engine.results.Masks'> (298, 2)\n",
      "<class 'ultralytics.engine.results.Masks'> (357, 2)\n",
      "<class 'ultralytics.engine.results.Masks'> (315, 2)\n",
      "<class 'ultralytics.engine.results.Masks'> (95, 2)\n",
      "<class 'ultralytics.engine.results.Masks'> (12, 2)\n",
      "<class 'ultralytics.engine.results.Masks'> (24, 2)\n",
      "<class 'ultralytics.engine.results.Masks'> (29, 2)\n",
      "<class 'ultralytics.engine.results.Masks'> (26, 2)\n",
      "<class 'ultralytics.engine.results.Masks'> (60, 2)\n",
      "<class 'ultralytics.engine.results.Masks'> (10, 2)\n",
      "<class 'ultralytics.engine.results.Masks'> (11, 2)\n",
      "<class 'ultralytics.engine.results.Masks'> (11, 2)\n",
      "<class 'ultralytics.engine.results.Masks'> (21, 2)\n",
      "<class 'ultralytics.engine.results.Masks'> (28, 2)\n"
     ]
    }
   ],
   "source": [
    "# masks -> iterable\n",
    "for m in masks:\n",
    "    print(type(m), m.xy[0].shape)  #### 개별 object 조회결과를 가진 Masks 반환"
   ]
  },
  {
   "cell_type": "code",
   "execution_count": 14,
   "id": "f86cb51a",
   "metadata": {
    "ExecuteTime": {
     "end_time": "2023-11-08T17:06:29.675667Z",
     "start_time": "2023-11-08T17:06:27.137575Z"
    },
    "tags": []
   },
   "outputs": [
    {
     "name": "stdout",
     "output_type": "stream",
     "text": [
      "\n",
      "image 1/1 C:\\Users\\Playdata\\Downloads\\Playdata_\\08_computervision\\실습\\02_test_image_seg\\bus.jpg: 640x480 4 persons, 1 bus, 1 tie, 1645.6ms\n",
      "Speed: 0.0ms preprocess, 1645.6ms inference, 31.2ms postprocess per image at shape (1, 3, 640, 480)\n"
     ]
    }
   ],
   "source": [
    "#### xy 를 이용해 찾은 대상 물체 경계 그리기.\n",
    "\n",
    "import cv2\n",
    "import matplotlib.pyplot as plt\n",
    "from ultralytics import YOLO\n",
    "\n",
    "# 모델 생성\n",
    "model = YOLO(\"models/yolov8m-seg.pt\")\n",
    "# 추론\n",
    "result = model(\"02_test_image_seg/bus.jpg\")[0]\n",
    "masks = result.masks\n",
    "\n",
    "# 원본 이미지의 shape\n",
    "shape = result.orig_shape\n",
    "\n",
    "# 결과를 그릴 배열 - 원본이미지와 동일한 크기의 배열 생성\n",
    "arr = np.zeros(shape, dtype='uint8')  # 엣지 형식으로 선만 그릴 것\n",
    "instance_mask = np.zeros(shape, dtype=\"uint8\")  # 물체만 추출하기 위한 mask\n",
    "background_mask = np.full(shape, fill_value=255, dtype='uint8')  # 배경을 선택하기 위한 mask => blur 시킬 것.\n",
    "\n",
    "# 찾은 instance들의 경계 좌표 조회들\n",
    "xy_list = masks.xy  # 리스트: object 개수 (전체 object들에 대한 segment 결과)\n",
    "\n",
    "############# 사람만 따기\n",
    "for i in range(len(masks)):\n",
    "    if result.boxes[i].cls.item()==0: # class가 Person이면 (coco dataset에서 0: Person)\n",
    "        coords = xy_list[i].astype('int32')\n",
    "        arr = cv2.polylines(arr, [coords], isClosed=True, color=(255,255,255), thickness=2) # 선그리기\n",
    "        cv2.fillPoly(instance_mask, [coords], 255)                                          # 선 안쪽을 255로 채우기\n",
    "        cv2.fillPoly(background_mask, [coords], 0)                                          # 선 안쪽을 0으로 채우기\n",
    "\n",
    "        result_img = cv2.add(result.orig_img, # 원본 이미지 배열\n",
    "                             cv2.cvtColor(instance_mask, cv2.COLOR_GRAY2BGR) # 대상\n",
    "                            )\n",
    "        # cv2.add(배열1, 배열2) 배열1(uint8) + 배열2(uint8): 결과가 0 ~ 255 범위 밖이면 0, 255에 맞춘다. -> satu\n",
    "\n",
    "cv2.imshow(\"frame1\", arr)\n",
    "# cv2.waitKey()\n",
    "cv2.imshow(\"frame2\", instance_mask)\n",
    "# cv2.waitKey()\n",
    "cv2.imshow(\"frame3\", background_mask)\n",
    "# cv2.waitKey()\n",
    "cv2.imshow(\"frame4\", result_img)\n",
    "cv2.waitKey()\n",
    "\n",
    "cv2.destroyAllWindows()"
   ]
  },
  {
   "cell_type": "markdown",
   "id": "7003ac18",
   "metadata": {},
   "source": [
    "# custom dataset training\n",
    "\n",
    "- custom dataset training은 object detection과 동일\n",
    "- custom dataset: https://universe.roboflow.com/angelo-maglasang-vuuq3/crack_flip_rotate/dataset/1\n"
   ]
  },
  {
   "cell_type": "markdown",
   "id": "2cb1bc55",
   "metadata": {},
   "source": [
    "1. labeling\n",
    "    - 이미지 파일당 한개의 txt\n",
    "    - 한줄에 하나의 instance에 대한 설정. \n",
    "    ```\n",
    "    label x1 y1 x2 y2 .....  # x,y가 polygon 의 좌표\n",
    "    ```\n",
    "2. 학습관련 설정\n",
    "    - yaml 파일\n",
    "        - train: train set의 경로\n",
    "        - val: validation set의 경로\n",
    "        - test: test set의 경로\n",
    "        - nc: 클래스개수\n",
    "        - names: [클래스 이름]"
   ]
  },
  {
   "cell_type": "code",
   "execution_count": 19,
   "id": "b870bd92",
   "metadata": {
    "scrolled": true
   },
   "outputs": [
    {
     "name": "stdout",
     "output_type": "stream",
     "text": [
      "New https://pypi.org/project/ultralytics/8.1.14 available 😃 Update with 'pip install -U ultralytics'\n",
      "Ultralytics YOLOv8.1.13 🚀 Python-3.10.13 torch-2.2.0+cpu CPU (11th Gen Intel Core(TM) i5-1135G7 2.40GHz)\n",
      "\u001b[34m\u001b[1mengine\\trainer: \u001b[0mtask=segment, mode=train, model=models/yolov8n-seg.pt, data=C:/Users/Playdata/Downloads/Playdata_/08_computervision/실습/crack_flip_rotate.v1i.yolov8/data.yaml, epochs=100, time=None, patience=30, batch=32, imgsz=640, save=True, save_period=-1, cache=False, device=None, workers=8, project=None, name=train3, exist_ok=False, pretrained=True, optimizer=Adam, verbose=True, seed=0, deterministic=True, single_cls=False, rect=False, cos_lr=False, close_mosaic=10, resume=False, amp=True, fraction=1.0, profile=False, freeze=None, multi_scale=False, overlap_mask=True, mask_ratio=4, dropout=0.0, val=True, split=val, save_json=False, save_hybrid=False, conf=None, iou=0.7, max_det=300, half=False, dnn=False, plots=True, source=None, vid_stride=1, stream_buffer=False, visualize=False, augment=False, agnostic_nms=False, classes=None, retina_masks=False, embed=None, show=False, save_frames=False, save_txt=False, save_conf=False, save_crop=False, show_labels=True, show_conf=True, show_boxes=True, line_width=None, format=torchscript, keras=False, optimize=False, int8=False, dynamic=False, simplify=False, opset=None, workspace=4, nms=False, lr0=0.01, lrf=0.01, momentum=0.937, weight_decay=0.0005, warmup_epochs=3.0, warmup_momentum=0.8, warmup_bias_lr=0.1, box=7.5, cls=0.5, dfl=1.5, pose=12.0, kobj=1.0, label_smoothing=0.0, nbs=64, hsv_h=0.015, hsv_s=0.7, hsv_v=0.4, degrees=0.0, translate=0.1, scale=0.5, shear=0.0, perspective=0.0, flipud=0.0, fliplr=0.5, mosaic=1.0, mixup=0.0, copy_paste=0.0, auto_augment=randaugment, erasing=0.4, crop_fraction=1.0, cfg=None, tracker=botsort.yaml, save_dir=runs\\segment\\train3\n",
      "Downloading https://ultralytics.com/assets/Arial.ttf to 'C:\\Users\\Playdata\\AppData\\Roaming\\Ultralytics\\Arial.ttf'...\n"
     ]
    },
    {
     "name": "stderr",
     "output_type": "stream",
     "text": [
      "100%|████████████████████████████████████████████████████████████████████████████████| 755k/755k [00:05<00:00, 151kB/s]\n"
     ]
    },
    {
     "name": "stdout",
     "output_type": "stream",
     "text": [
      "WARNING:tensorflow:From C:\\Users\\Playdata\\anaconda3\\envs\\ml\\lib\\site-packages\\keras\\src\\losses.py:2976: The name tf.losses.sparse_softmax_cross_entropy is deprecated. Please use tf.compat.v1.losses.sparse_softmax_cross_entropy instead.\n",
      "\n",
      "Overriding model.yaml nc=80 with nc=1\n",
      "\n",
      "                   from  n    params  module                                       arguments                     \n",
      "  0                  -1  1       464  ultralytics.nn.modules.conv.Conv             [3, 16, 3, 2]                 \n",
      "  1                  -1  1      4672  ultralytics.nn.modules.conv.Conv             [16, 32, 3, 2]                \n",
      "  2                  -1  1      7360  ultralytics.nn.modules.block.C2f             [32, 32, 1, True]             \n",
      "  3                  -1  1     18560  ultralytics.nn.modules.conv.Conv             [32, 64, 3, 2]                \n",
      "  4                  -1  2     49664  ultralytics.nn.modules.block.C2f             [64, 64, 2, True]             \n",
      "  5                  -1  1     73984  ultralytics.nn.modules.conv.Conv             [64, 128, 3, 2]               \n",
      "  6                  -1  2    197632  ultralytics.nn.modules.block.C2f             [128, 128, 2, True]           \n",
      "  7                  -1  1    295424  ultralytics.nn.modules.conv.Conv             [128, 256, 3, 2]              \n",
      "  8                  -1  1    460288  ultralytics.nn.modules.block.C2f             [256, 256, 1, True]           \n",
      "  9                  -1  1    164608  ultralytics.nn.modules.block.SPPF            [256, 256, 5]                 \n",
      " 10                  -1  1         0  torch.nn.modules.upsampling.Upsample         [None, 2, 'nearest']          \n",
      " 11             [-1, 6]  1         0  ultralytics.nn.modules.conv.Concat           [1]                           \n",
      " 12                  -1  1    148224  ultralytics.nn.modules.block.C2f             [384, 128, 1]                 \n",
      " 13                  -1  1         0  torch.nn.modules.upsampling.Upsample         [None, 2, 'nearest']          \n",
      " 14             [-1, 4]  1         0  ultralytics.nn.modules.conv.Concat           [1]                           \n",
      " 15                  -1  1     37248  ultralytics.nn.modules.block.C2f             [192, 64, 1]                  \n",
      " 16                  -1  1     36992  ultralytics.nn.modules.conv.Conv             [64, 64, 3, 2]                \n",
      " 17            [-1, 12]  1         0  ultralytics.nn.modules.conv.Concat           [1]                           \n",
      " 18                  -1  1    123648  ultralytics.nn.modules.block.C2f             [192, 128, 1]                 \n",
      " 19                  -1  1    147712  ultralytics.nn.modules.conv.Conv             [128, 128, 3, 2]              \n",
      " 20             [-1, 9]  1         0  ultralytics.nn.modules.conv.Concat           [1]                           \n",
      " 21                  -1  1    493056  ultralytics.nn.modules.block.C2f             [384, 256, 1]                 \n",
      " 22        [15, 18, 21]  1   1004275  ultralytics.nn.modules.head.Segment          [1, 32, 64, [64, 128, 256]]   \n",
      "YOLOv8n-seg summary: 261 layers, 3263811 parameters, 3263795 gradients, 12.1 GFLOPs\n",
      "\n",
      "Transferred 381/417 items from pretrained weights\n",
      "\u001b[34m\u001b[1mTensorBoard: \u001b[0mWARNING ⚠️ TensorBoard not initialized correctly, not logging this run. runs\\segment\\train3 is not a directory\n",
      "Freezing layer 'model.22.dfl.conv.weight'\n"
     ]
    },
    {
     "name": "stderr",
     "output_type": "stream",
     "text": [
      "\u001b[34m\u001b[1mtrain: \u001b[0mScanning C:\\Users\\Playdata\\Downloads\\Playdata_\\08_computervision\\실습\\crack_flip_rotate.v1i.yolov8\\train\\labels.\u001b[0m\n"
     ]
    },
    {
     "name": "stdout",
     "output_type": "stream",
     "text": [
      "\u001b[34m\u001b[1mtrain: \u001b[0mNew cache created: C:\\Users\\Playdata\\Downloads\\Playdata_\\08_computervision\\실습\\crack_flip_rotate.v1i.yolov8\\train\\labels.cache\n"
     ]
    },
    {
     "name": "stderr",
     "output_type": "stream",
     "text": [
      "\u001b[34m\u001b[1mval: \u001b[0mScanning C:\\Users\\Playdata\\Downloads\\Playdata_\\08_computervision\\실습\\crack_flip_rotate.v1i.yolov8\\valid\\labels...\u001b[0m"
     ]
    },
    {
     "name": "stdout",
     "output_type": "stream",
     "text": [
      "\u001b[34m\u001b[1mval: \u001b[0mNew cache created: C:\\Users\\Playdata\\Downloads\\Playdata_\\08_computervision\\실습\\crack_flip_rotate.v1i.yolov8\\valid\\labels.cache\n"
     ]
    },
    {
     "name": "stderr",
     "output_type": "stream",
     "text": [
      "\n"
     ]
    },
    {
     "name": "stdout",
     "output_type": "stream",
     "text": [
      "Plotting labels to runs\\segment\\train3\\labels.jpg... \n",
      "\u001b[34m\u001b[1moptimizer:\u001b[0m Adam(lr=0.01, momentum=0.937) with parameter groups 66 weight(decay=0.0), 77 weight(decay=0.0005), 76 bias(decay=0.0)\n",
      "Image sizes 640 train, 640 val\n",
      "Using 0 dataloader workers\n",
      "Logging results to \u001b[1mruns\\segment\\train3\u001b[0m\n",
      "Starting training for 100 epochs...\n",
      "\n",
      "      Epoch    GPU_mem   box_loss   seg_loss   cls_loss   dfl_loss  Instances       Size\n"
     ]
    },
    {
     "name": "stderr",
     "output_type": "stream",
     "text": [
      "      1/100         0G      1.937      3.596      3.226      1.765         67        640:  32%|███▏      | 6/19 [05:59<\n"
     ]
    },
    {
     "ename": "KeyboardInterrupt",
     "evalue": "",
     "output_type": "error",
     "traceback": [
      "\u001b[1;31m---------------------------------------------------------------------------\u001b[0m",
      "\u001b[1;31mKeyboardInterrupt\u001b[0m                         Traceback (most recent call last)",
      "Cell \u001b[1;32mIn[19], line 2\u001b[0m\n\u001b[0;32m      1\u001b[0m ft_model \u001b[38;5;241m=\u001b[39m YOLO(\u001b[38;5;124m'\u001b[39m\u001b[38;5;124mmodels/yolov8n-seg.pt\u001b[39m\u001b[38;5;124m'\u001b[39m) \u001b[38;5;66;03m# pretrained 모델의 경로 => fine tuning\u001b[39;00m\n\u001b[1;32m----> 2\u001b[0m \u001b[43mft_model\u001b[49m\u001b[38;5;241;43m.\u001b[39;49m\u001b[43mtrain\u001b[49m\u001b[43m(\u001b[49m\u001b[43mdata\u001b[49m\u001b[38;5;241;43m=\u001b[39;49m\u001b[38;5;124;43m'\u001b[39;49m\u001b[38;5;124;43mC:/Users/Playdata/Downloads/Playdata_/08_computervision/실습/crack_flip_rotate.v1i.yolov8/data.yaml\u001b[39;49m\u001b[38;5;124;43m'\u001b[39;49m\u001b[43m,\u001b[49m\u001b[43m \u001b[49m\u001b[38;5;66;43;03m# 데이터셋 설정파일\u001b[39;49;00m\n\u001b[0;32m      3\u001b[0m \u001b[43m               \u001b[49m\u001b[43mepochs\u001b[49m\u001b[38;5;241;43m=\u001b[39;49m\u001b[38;5;241;43m100\u001b[39;49m\u001b[43m,\u001b[49m\u001b[43m \u001b[49m\n\u001b[0;32m      4\u001b[0m \u001b[43m               \u001b[49m\u001b[43mbatch\u001b[49m\u001b[38;5;241;43m=\u001b[39;49m\u001b[38;5;241;43m32\u001b[39;49m\u001b[43m,\u001b[49m\u001b[43m  \u001b[49m\u001b[38;5;66;43;03m# default: 16\u001b[39;49;00m\n\u001b[0;32m      5\u001b[0m \u001b[43m               \u001b[49m\u001b[43mimgsz\u001b[49m\u001b[38;5;241;43m=\u001b[39;49m\u001b[38;5;241;43m640\u001b[39;49m\u001b[43m,\u001b[49m\u001b[43m \u001b[49m\u001b[38;5;66;43;03m# default: 640\u001b[39;49;00m\n\u001b[0;32m      6\u001b[0m \u001b[43m               \u001b[49m\u001b[43mpatience\u001b[49m\u001b[38;5;241;43m=\u001b[39;49m\u001b[38;5;241;43m30\u001b[39;49m\u001b[43m,\u001b[49m\u001b[43m \u001b[49m\u001b[38;5;66;43;03m# 조기종료 조건. \u001b[39;49;00m\n\u001b[0;32m      7\u001b[0m \u001b[43m               \u001b[49m\u001b[43moptimizer\u001b[49m\u001b[38;5;241;43m=\u001b[39;49m\u001b[38;5;124;43m'\u001b[39;49m\u001b[38;5;124;43mAdam\u001b[39;49m\u001b[38;5;124;43m'\u001b[39;49m\n\u001b[0;32m      8\u001b[0m \u001b[43m              \u001b[49m\u001b[43m)\u001b[49m\n",
      "File \u001b[1;32m~\\anaconda3\\envs\\ml\\lib\\site-packages\\ultralytics\\engine\\model.py:601\u001b[0m, in \u001b[0;36mModel.train\u001b[1;34m(self, trainer, **kwargs)\u001b[0m\n\u001b[0;32m    598\u001b[0m             \u001b[38;5;28;01mpass\u001b[39;00m\n\u001b[0;32m    600\u001b[0m \u001b[38;5;28mself\u001b[39m\u001b[38;5;241m.\u001b[39mtrainer\u001b[38;5;241m.\u001b[39mhub_session \u001b[38;5;241m=\u001b[39m \u001b[38;5;28mself\u001b[39m\u001b[38;5;241m.\u001b[39msession  \u001b[38;5;66;03m# attach optional HUB session\u001b[39;00m\n\u001b[1;32m--> 601\u001b[0m \u001b[38;5;28;43mself\u001b[39;49m\u001b[38;5;241;43m.\u001b[39;49m\u001b[43mtrainer\u001b[49m\u001b[38;5;241;43m.\u001b[39;49m\u001b[43mtrain\u001b[49m\u001b[43m(\u001b[49m\u001b[43m)\u001b[49m\n\u001b[0;32m    602\u001b[0m \u001b[38;5;66;03m# Update model and cfg after training\u001b[39;00m\n\u001b[0;32m    603\u001b[0m \u001b[38;5;28;01mif\u001b[39;00m RANK \u001b[38;5;129;01min\u001b[39;00m (\u001b[38;5;241m-\u001b[39m\u001b[38;5;241m1\u001b[39m, \u001b[38;5;241m0\u001b[39m):\n",
      "File \u001b[1;32m~\\anaconda3\\envs\\ml\\lib\\site-packages\\ultralytics\\engine\\trainer.py:208\u001b[0m, in \u001b[0;36mBaseTrainer.train\u001b[1;34m(self)\u001b[0m\n\u001b[0;32m    205\u001b[0m         ddp_cleanup(\u001b[38;5;28mself\u001b[39m, \u001b[38;5;28mstr\u001b[39m(file))\n\u001b[0;32m    207\u001b[0m \u001b[38;5;28;01melse\u001b[39;00m:\n\u001b[1;32m--> 208\u001b[0m     \u001b[38;5;28;43mself\u001b[39;49m\u001b[38;5;241;43m.\u001b[39;49m\u001b[43m_do_train\u001b[49m\u001b[43m(\u001b[49m\u001b[43mworld_size\u001b[49m\u001b[43m)\u001b[49m\n",
      "File \u001b[1;32m~\\anaconda3\\envs\\ml\\lib\\site-packages\\ultralytics\\engine\\trainer.py:384\u001b[0m, in \u001b[0;36mBaseTrainer._do_train\u001b[1;34m(self, world_size)\u001b[0m\n\u001b[0;32m    379\u001b[0m     \u001b[38;5;28mself\u001b[39m\u001b[38;5;241m.\u001b[39mtloss \u001b[38;5;241m=\u001b[39m (\n\u001b[0;32m    380\u001b[0m         (\u001b[38;5;28mself\u001b[39m\u001b[38;5;241m.\u001b[39mtloss \u001b[38;5;241m*\u001b[39m i \u001b[38;5;241m+\u001b[39m \u001b[38;5;28mself\u001b[39m\u001b[38;5;241m.\u001b[39mloss_items) \u001b[38;5;241m/\u001b[39m (i \u001b[38;5;241m+\u001b[39m \u001b[38;5;241m1\u001b[39m) \u001b[38;5;28;01mif\u001b[39;00m \u001b[38;5;28mself\u001b[39m\u001b[38;5;241m.\u001b[39mtloss \u001b[38;5;129;01mis\u001b[39;00m \u001b[38;5;129;01mnot\u001b[39;00m \u001b[38;5;28;01mNone\u001b[39;00m \u001b[38;5;28;01melse\u001b[39;00m \u001b[38;5;28mself\u001b[39m\u001b[38;5;241m.\u001b[39mloss_items\n\u001b[0;32m    381\u001b[0m     )\n\u001b[0;32m    383\u001b[0m \u001b[38;5;66;03m# Backward\u001b[39;00m\n\u001b[1;32m--> 384\u001b[0m \u001b[38;5;28;43mself\u001b[39;49m\u001b[38;5;241;43m.\u001b[39;49m\u001b[43mscaler\u001b[49m\u001b[38;5;241;43m.\u001b[39;49m\u001b[43mscale\u001b[49m\u001b[43m(\u001b[49m\u001b[38;5;28;43mself\u001b[39;49m\u001b[38;5;241;43m.\u001b[39;49m\u001b[43mloss\u001b[49m\u001b[43m)\u001b[49m\u001b[38;5;241;43m.\u001b[39;49m\u001b[43mbackward\u001b[49m\u001b[43m(\u001b[49m\u001b[43m)\u001b[49m\n\u001b[0;32m    386\u001b[0m \u001b[38;5;66;03m# Optimize - https://pytorch.org/docs/master/notes/amp_examples.html\u001b[39;00m\n\u001b[0;32m    387\u001b[0m \u001b[38;5;28;01mif\u001b[39;00m ni \u001b[38;5;241m-\u001b[39m last_opt_step \u001b[38;5;241m>\u001b[39m\u001b[38;5;241m=\u001b[39m \u001b[38;5;28mself\u001b[39m\u001b[38;5;241m.\u001b[39maccumulate:\n",
      "File \u001b[1;32m~\\anaconda3\\envs\\ml\\lib\\site-packages\\torch\\_tensor.py:522\u001b[0m, in \u001b[0;36mTensor.backward\u001b[1;34m(self, gradient, retain_graph, create_graph, inputs)\u001b[0m\n\u001b[0;32m    512\u001b[0m \u001b[38;5;28;01mif\u001b[39;00m has_torch_function_unary(\u001b[38;5;28mself\u001b[39m):\n\u001b[0;32m    513\u001b[0m     \u001b[38;5;28;01mreturn\u001b[39;00m handle_torch_function(\n\u001b[0;32m    514\u001b[0m         Tensor\u001b[38;5;241m.\u001b[39mbackward,\n\u001b[0;32m    515\u001b[0m         (\u001b[38;5;28mself\u001b[39m,),\n\u001b[1;32m   (...)\u001b[0m\n\u001b[0;32m    520\u001b[0m         inputs\u001b[38;5;241m=\u001b[39minputs,\n\u001b[0;32m    521\u001b[0m     )\n\u001b[1;32m--> 522\u001b[0m \u001b[43mtorch\u001b[49m\u001b[38;5;241;43m.\u001b[39;49m\u001b[43mautograd\u001b[49m\u001b[38;5;241;43m.\u001b[39;49m\u001b[43mbackward\u001b[49m\u001b[43m(\u001b[49m\n\u001b[0;32m    523\u001b[0m \u001b[43m    \u001b[49m\u001b[38;5;28;43mself\u001b[39;49m\u001b[43m,\u001b[49m\u001b[43m \u001b[49m\u001b[43mgradient\u001b[49m\u001b[43m,\u001b[49m\u001b[43m \u001b[49m\u001b[43mretain_graph\u001b[49m\u001b[43m,\u001b[49m\u001b[43m \u001b[49m\u001b[43mcreate_graph\u001b[49m\u001b[43m,\u001b[49m\u001b[43m \u001b[49m\u001b[43minputs\u001b[49m\u001b[38;5;241;43m=\u001b[39;49m\u001b[43minputs\u001b[49m\n\u001b[0;32m    524\u001b[0m \u001b[43m\u001b[49m\u001b[43m)\u001b[49m\n",
      "File \u001b[1;32m~\\anaconda3\\envs\\ml\\lib\\site-packages\\torch\\autograd\\__init__.py:266\u001b[0m, in \u001b[0;36mbackward\u001b[1;34m(tensors, grad_tensors, retain_graph, create_graph, grad_variables, inputs)\u001b[0m\n\u001b[0;32m    261\u001b[0m     retain_graph \u001b[38;5;241m=\u001b[39m create_graph\n\u001b[0;32m    263\u001b[0m \u001b[38;5;66;03m# The reason we repeat the same comment below is that\u001b[39;00m\n\u001b[0;32m    264\u001b[0m \u001b[38;5;66;03m# some Python versions print out the first line of a multi-line function\u001b[39;00m\n\u001b[0;32m    265\u001b[0m \u001b[38;5;66;03m# calls in the traceback and some print out the last line\u001b[39;00m\n\u001b[1;32m--> 266\u001b[0m \u001b[43mVariable\u001b[49m\u001b[38;5;241;43m.\u001b[39;49m\u001b[43m_execution_engine\u001b[49m\u001b[38;5;241;43m.\u001b[39;49m\u001b[43mrun_backward\u001b[49m\u001b[43m(\u001b[49m\u001b[43m  \u001b[49m\u001b[38;5;66;43;03m# Calls into the C++ engine to run the backward pass\u001b[39;49;00m\n\u001b[0;32m    267\u001b[0m \u001b[43m    \u001b[49m\u001b[43mtensors\u001b[49m\u001b[43m,\u001b[49m\n\u001b[0;32m    268\u001b[0m \u001b[43m    \u001b[49m\u001b[43mgrad_tensors_\u001b[49m\u001b[43m,\u001b[49m\n\u001b[0;32m    269\u001b[0m \u001b[43m    \u001b[49m\u001b[43mretain_graph\u001b[49m\u001b[43m,\u001b[49m\n\u001b[0;32m    270\u001b[0m \u001b[43m    \u001b[49m\u001b[43mcreate_graph\u001b[49m\u001b[43m,\u001b[49m\n\u001b[0;32m    271\u001b[0m \u001b[43m    \u001b[49m\u001b[43minputs\u001b[49m\u001b[43m,\u001b[49m\n\u001b[0;32m    272\u001b[0m \u001b[43m    \u001b[49m\u001b[43mallow_unreachable\u001b[49m\u001b[38;5;241;43m=\u001b[39;49m\u001b[38;5;28;43;01mTrue\u001b[39;49;00m\u001b[43m,\u001b[49m\n\u001b[0;32m    273\u001b[0m \u001b[43m    \u001b[49m\u001b[43maccumulate_grad\u001b[49m\u001b[38;5;241;43m=\u001b[39;49m\u001b[38;5;28;43;01mTrue\u001b[39;49;00m\u001b[43m,\u001b[49m\n\u001b[0;32m    274\u001b[0m \u001b[43m\u001b[49m\u001b[43m)\u001b[49m\n",
      "\u001b[1;31mKeyboardInterrupt\u001b[0m: "
     ]
    }
   ],
   "source": [
    "ft_model = YOLO('models/yolov8n-seg.pt') # pretrained 모델의 경로 => fine tuning\n",
    "ft_model.train(data='C:/Users/Playdata/Downloads/Playdata_/08_computervision/실습/crack_flip_rotate.v1i.yolov8/data.yaml', # 데이터셋 설정파일\n",
    "               epochs=100, \n",
    "               batch=32,  # default: 16\n",
    "               imgsz=640, # default: 640\n",
    "               patience=30, # 조기종료 조건. \n",
    "               optimizer='Adam'\n",
    "              )"
   ]
  },
  {
   "cell_type": "code",
   "execution_count": 17,
   "id": "006122a2",
   "metadata": {},
   "outputs": [
    {
     "data": {
      "text/plain": [
       "['02_test_image_seg\\\\crack0.jpg',\n",
       " '02_test_image_seg\\\\crack1.jpg',\n",
       " '02_test_image_seg\\\\crack2.jpg',\n",
       " '02_test_image_seg\\\\crack3.jpg',\n",
       " '02_test_image_seg\\\\crack4.jpg',\n",
       " '02_test_image_seg\\\\crack5.jpg',\n",
       " '02_test_image_seg\\\\crack6.jpg',\n",
       " '02_test_image_seg\\\\crack7.jpg',\n",
       " '02_test_image_seg\\\\crack8.jpg',\n",
       " '02_test_image_seg\\\\crack9.jpg']"
      ]
     },
     "execution_count": 17,
     "metadata": {},
     "output_type": "execute_result"
    }
   ],
   "source": [
    "###### 추론\n",
    "\n",
    "from glob import glob\n",
    "from ultralytics import YOLO\n",
    "best_model_path = 'crack_model/best.pt'\n",
    "image_files_path = glob('02_test_image_seg/crack*.jpg')\n",
    "image_files_path"
   ]
  },
  {
   "cell_type": "code",
   "execution_count": 18,
   "id": "76203567",
   "metadata": {},
   "outputs": [
    {
     "name": "stdout",
     "output_type": "stream",
     "text": [
      "\n",
      "0: 640x640 1 crack, 1: 640x640 1 crack, 2: 640x640 1 crack, 3: 640x640 2 cracks, 4: 640x640 1 crack, 5: 640x640 2 cracks, 6: 640x640 1 crack, 7: 640x640 4 cracks, 8: 640x640 2 cracks, 9: 640x640 1 crack, 4861.6ms\n",
      "Speed: 9.5ms preprocess, 486.2ms inference, 14.1ms postprocess per image at shape (1, 3, 640, 640)\n",
      "Results saved to \u001b[1mruns\\segment\\predict2\u001b[0m\n",
      "10 labels saved to runs\\segment\\predict2\\labels\n"
     ]
    }
   ],
   "source": [
    "best_model = YOLO(best_model_path)\n",
    "\n",
    "results = best_model(image_files_path, save=True, save_txt=True)[0]"
   ]
  }
 ],
 "metadata": {
  "kernelspec": {
   "display_name": "Python 3 (ipykernel)",
   "language": "python",
   "name": "python3"
  },
  "language_info": {
   "codemirror_mode": {
    "name": "ipython",
    "version": 3
   },
   "file_extension": ".py",
   "mimetype": "text/x-python",
   "name": "python",
   "nbconvert_exporter": "python",
   "pygments_lexer": "ipython3",
   "version": "3.11.5"
  },
  "toc": {
   "base_numbering": 1,
   "nav_menu": {},
   "number_sections": true,
   "sideBar": true,
   "skip_h1_title": false,
   "title_cell": "Table of Contents",
   "title_sidebar": "Contents",
   "toc_cell": false,
   "toc_position": {},
   "toc_section_display": true,
   "toc_window_display": false
  },
  "varInspector": {
   "cols": {
    "lenName": 16,
    "lenType": 16,
    "lenVar": 40
   },
   "kernels_config": {
    "python": {
     "delete_cmd_postfix": "",
     "delete_cmd_prefix": "del ",
     "library": "var_list.py",
     "varRefreshCmd": "print(var_dic_list())"
    },
    "r": {
     "delete_cmd_postfix": ") ",
     "delete_cmd_prefix": "rm(",
     "library": "var_list.r",
     "varRefreshCmd": "cat(var_dic_list()) "
    }
   },
   "types_to_exclude": [
    "module",
    "function",
    "builtin_function_or_method",
    "instance",
    "_Feature"
   ],
   "window_display": false
  },
  "vscode": {
   "interpreter": {
    "hash": "d6bb26803bcea62f49e4c67963aa289be587a14c784102c9499967ce94407a08"
   }
  }
 },
 "nbformat": 4,
 "nbformat_minor": 5
}
