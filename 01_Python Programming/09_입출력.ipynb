{
 "cells": [
  {
   "cell_type": "markdown",
   "metadata": {
    "editable": true,
    "slideshow": {
     "slide_type": ""
    },
    "tags": []
   },
   "source": [
    "# Path (경로)\n",
    "\n",
    "- **경로(Path)**\n",
    "    - 프로그램에서 사용할 **자원의 위치를 path(경로)** 라고 한다.\n",
    "    - **파일 시스템**에서는 파일이나 디렉토리가 있는 위치의 경로를 말한다.\n",
    "    "
   ]
  },
  {
   "cell_type": "markdown",
   "metadata": {
    "editable": true,
    "slideshow": {
     "slide_type": ""
    },
    "tags": []
   },
   "source": [
    "- **절대경로**\n",
    "    - 자원의 전체 경로를 표현하는 방식\n",
    "    - 시작 경로부터 자원(파일, 디렉토리)이 있는 위치까지 표현한다.\n",
    "        - 시작 경로: Root Path\n",
    "            - windows: `c:`, `d:`\n",
    "            - Unix, Linux: `/`"
   ]
  },
  {
   "cell_type": "markdown",
   "metadata": {
    "slideshow": {
     "slide_type": "fragment"
    }
   },
   "source": [
    "- **상대경로**\n",
    "    - 현재 작업 경로(위치)에서 부터 자원이 있는 위치까지 표현한다.\n",
    "        - 시작 경로: 현재 작업경로\n",
    "    - 구문\n",
    "        - `.` : 현재 디렉토리\n",
    "        - `..`: 상위 디렉토리\n",
    "        - `/` : 경로 구분자,  상위경로/하위경로"
   ]
  },
  {
   "cell_type": "markdown",
   "metadata": {
    "slideshow": {
     "slide_type": "fragment"
    }
   },
   "source": [
    "- 운영체제(O/S)별 경로구분자\n",
    "    - 윈도우즈: `\\` (역슬래쉬)\n",
    "    - 리눅스/유닉스: `/` (슬래쉬)"
   ]
  },
  {
   "cell_type": "code",
   "execution_count": 16,
   "metadata": {
    "slideshow": {
     "slide_type": "fragment"
    }
   },
   "outputs": [
    {
     "name": "stdout",
     "output_type": "stream",
     "text": [
      "C:\\Users\\Playdata\\Downloads\\Playdata\n"
     ]
    }
   ],
   "source": [
    "# 현재 작업 경로 (work directory)\n",
    "import os\n",
    "print(os.getcwd())"
   ]
  },
  {
   "cell_type": "code",
   "execution_count": 17,
   "metadata": {},
   "outputs": [],
   "source": [
    "# 현재 작업경로를 변경\n",
    "os.chdir(r\"C:/source\")"
   ]
  },
  {
   "cell_type": "code",
   "execution_count": 18,
   "metadata": {},
   "outputs": [
    {
     "name": "stdout",
     "output_type": "stream",
     "text": [
      "C:\\source\n"
     ]
    }
   ],
   "source": [
    "print(os.getcwd())"
   ]
  },
  {
   "cell_type": "markdown",
   "metadata": {
    "editable": true,
    "slideshow": {
     "slide_type": "slide"
    },
    "tags": []
   },
   "source": [
    "# 입출력 (IO)\n",
    "\n",
    "## 입출력이란\n",
    "- 프로그램이 사용하려는 외부 자원을 연결하여 데이터를 입력 받거나 출력하는 작업을 IO라고 한다.\n",
    "- 외부 자원\n",
    "    - 파일, 원격지 컴퓨터(Network으로 연결된 컴퓨터의 자원), 데이터베이스 등.\n",
    "- **Stream**\n",
    "    - 입출력 시 **데이터의 흐름을 stream** 이라고 한다.\n",
    "- InputStream \n",
    "    - Program이 외부로 부터 데이터를 읽어 들이는 흐름.\n",
    "- OutputStream \n",
    "    - Program이 외부로 데이터를 써주는 흐름.\n",
    "\n",
    "\n",
    "![io](images/ch09_01.png)"
   ]
  },
  {
   "cell_type": "markdown",
   "metadata": {
    "slideshow": {
     "slide_type": "subslide"
    }
   },
   "source": [
    "## IO 코딩 순서\n",
    "![순서](images/ch09_02.png)"
   ]
  },
  {
   "cell_type": "markdown",
   "metadata": {
    "editable": true,
    "slideshow": {
     "slide_type": ""
    },
    "tags": []
   },
   "source": [
    "### 파일 열기(연결)\n",
    "- open() 함수 사용\n",
    "    - 연결된 파일과 입출력 메소드를 제공하는 객체(Stream)를 리턴\n",
    "- 구문\n",
    "    - `open(file, mode='r', encoding=None)`\n",
    "    - 함수 주요 매개변수\n",
    "        - file : 연결할 파일 경로\n",
    "        - mode : 열기 모드\n",
    "            - mode는 목적, 데이터종류를 조합한 문자열을 사용한다.\n",
    "        - encoding \n",
    "            - 입출력 대상이 **텍스트 파일일 경우** 인코딩 방식 설정\n",
    "            - 생략하면  **os 기본 encoding방식을 따른다.**\n",
    "                - Windows: cp949/euckr\n",
    "                - Linux, Unix: utf-8\n",
    "|mode타입|mode문자|설명|\n",
    "|:-|-|-|\n",
    "|목적|r|읽기 모드-목적의 기본 모드|\n",
    "||w|새로 쓰기 모드|\n",
    "||a|이어 쓰기 모드|\n",
    "||x|새로 쓰기모드-연결하려는 파일이 있으면 Exception발생|\n",
    "|데이터종류|b|binary 모드|\n",
    "||t|Text모드-text데이터 입출력시 사용|\n",
    "    "
   ]
  },
  {
   "cell_type": "markdown",
   "metadata": {
    "slideshow": {
     "slide_type": "subslide"
    }
   },
   "source": [
    "### 출력 메소드\n",
    "\n",
    "- write(출력할 Data)\n",
    "    - 연결된 파일에 `출력할 Data` 출력한다.\n",
    "- writelines(문자열을 가진 컬렉션)\n",
    "    - 리스트, 튜플, 집합이 원소로 가진 문자열들을 한번에 출력한다.\n",
    "    - text 출력일 경우에만 사용가능.\n",
    "    - 원소에 문자열 이외의 타입의 값이 있을 경우 TypeError 발생"
   ]
  },
  {
   "cell_type": "code",
   "execution_count": 9,
   "metadata": {
    "slideshow": {
     "slide_type": "fragment"
    }
   },
   "outputs": [],
   "source": [
    "import os\n",
    "# 파일들을 저장할 디렉토리 생성\n",
    "os.makedirs(r\"c:\\a\\b\\c\",\n",
    "           exist_ok=True) # 디렉토리가 이미 있으면 안만든다.\n",
    "                            # False(기본) - 있으면 Exception 발생"
   ]
  },
  {
   "cell_type": "code",
   "execution_count": 8,
   "metadata": {},
   "outputs": [],
   "source": [
    "try:\n",
    "    os.makedirs(r\"c:\\a\\b\\c\")\n",
    "except:\n",
    "    pass"
   ]
  },
  {
   "cell_type": "code",
   "execution_count": 10,
   "metadata": {},
   "outputs": [],
   "source": [
    "## 생성한 파일들을 저장할 디렉토리를 생성\n",
    "os.makedirs(\"output\", exist_ok=True)"
   ]
  },
  {
   "cell_type": "code",
   "execution_count": 38,
   "metadata": {},
   "outputs": [
    {
     "name": "stdout",
     "output_type": "stream",
     "text": [
      "연결종료 여부: False\n",
      "close 후 연결종료 여부: True\n"
     ]
    }
   ],
   "source": [
    "## Text 출력 작업\n",
    "# 1. 연결\n",
    "fw = open(\"output/a.txt\", # 연결대상파일경로 -> 절대/상\n",
    "         \"wt\", # 연결 모드(목적) - w: 쓰기, t: 텍스트(str)\n",
    "         encoding=\"utf-8\" # encoding 방식. 생략: os 기본 인코딩 방식\n",
    "         ) \n",
    "# 2. 쓰기작업 (출력-output)\n",
    "fw.write(\"안녕하세요.\\n반갑습니다.\\nabcdefg\\n\")\n",
    "fw.write(\"123456\")\n",
    "fw.write(\"1000\")\n",
    "\n",
    "# 3. 파일연결 닫기(끊기 - 자원반납)\n",
    "print(\"연결종료 여부:\", fw.closed) # True: 닫힌 상태, False: 연결상태\n",
    "fw.close()\n",
    "print(\"close 후 연결종료 여부:\", fw.closed)"
   ]
  },
  {
   "cell_type": "code",
   "execution_count": 39,
   "metadata": {},
   "outputs": [
    {
     "name": "stdout",
     "output_type": "stream",
     "text": [
      "<class 'str'>\n",
      "안녕하세요.\n",
      "반갑습니다.\n",
      "abcdefg\n",
      "1234561000\n"
     ]
    }
   ],
   "source": [
    "## 입력작업 (위의 출력 내용 읽어들이기)\n",
    "# 1. 연결\n",
    "fr = open(\"output/a.txt\", # 연결대상파일경로\n",
    "         \"rt\", # 모드: r - 읽기, t - text\n",
    "         encoding=\"utf-8\")\n",
    "\n",
    "# 2. 입력(읽기)\n",
    "txt = fr.read()\n",
    "print(type(txt))\n",
    "print(txt)\n",
    "\n",
    "# 3. 연결닫기 (자원반납)\n",
    "fr.close()"
   ]
  },
  {
   "cell_type": "code",
   "execution_count": 40,
   "metadata": {},
   "outputs": [],
   "source": [
    "txt_list = [\"안녕하세요\\n\", \"반갑습니다.\\n\", \"저는 홍길동입니다.\\n\"]\n",
    "fw = open(\"output/b.txt\", \"wt\", encoding=\"utf-8\")\n",
    "# for txt in txt_list:\n",
    "#     fw.write(txt)\n",
    "\n",
    "fw.writelines(txt_list)\n",
    "fw.close()"
   ]
  },
  {
   "cell_type": "markdown",
   "metadata": {
    "slideshow": {
     "slide_type": "slide"
    }
   },
   "source": [
    "### 입력 메소드\n",
    "- read() : 문자열(text mode), bytes(binary mode) \n",
    "    - 연결된 파일의 내용을 한번에 모두 읽어 들인다.\n",
    "- readline() : 문자열(text mode), bytes(binary mode)\n",
    "    - 한 줄만 읽는다.\n",
    "    - text 입력일 경우만 사용가능\n",
    "    - 읽은 라인이 없으면 **빈문자열**을 리턴한다.\n",
    "- readlines() : 리스트\n",
    "    - 한번에 다 읽은 뒤 각각의 라인을 리스트에 원소로 담아 반환한다.\n",
    "- Text Input Stream (TextIOWrapper, BufferedReader)은 Iterable 타입.\n",
    "    - for문을 이용한 라인단위 순차 조회할 수 있다."
   ]
  },
  {
   "cell_type": "code",
   "execution_count": 41,
   "metadata": {
    "slideshow": {
     "slide_type": "fragment"
    }
   },
   "outputs": [
    {
     "name": "stdout",
     "output_type": "stream",
     "text": [
      "readlines(): 한번에 다 읽은 것을 라인별로 리스트에 담아 반환\n",
      "-------------\n",
      "['안녕하세요.\\n', '반갑습니다.\\n', 'abcdefg\\n', '1234561000']\n",
      "-------------\n"
     ]
    }
   ],
   "source": [
    "fr = open(\"output/a.txt\", \"rt\", encoding=\"utf-8\")\n",
    "# print(\"read(): 한번에 다 읽기\")\n",
    "print(\"readlines(): 한번에 다 읽은 것을 라인별로 리스트에 담아 반환\")\n",
    "print(\"-------------\")\n",
    "print(fr.readlines())\n",
    "print(\"-------------\")\n",
    "fr.close()"
   ]
  },
  {
   "cell_type": "code",
   "execution_count": 42,
   "metadata": {},
   "outputs": [
    {
     "name": "stdout",
     "output_type": "stream",
     "text": [
      "readline(): 한줄씩 읽기 => enter 포함\n",
      "-------------\n",
      "안녕하세요.\n",
      "\n",
      "반갑습니다.\n",
      "-------------\n"
     ]
    }
   ],
   "source": [
    "fr = open(\"output/a.txt\", \"rt\", encoding=\"utf-8\")\n",
    "print(\"readline(): 한줄씩 읽기 => enter 포함\")\n",
    "print(\"-------------\")\n",
    "print(fr.readline()) # .strip(): 엔터 제거\n",
    "print(fr.readline(), end=\"\") # end=\"\": 엔터 제거\n",
    "print(\"-------------\")\n",
    "fr.close()"
   ]
  },
  {
   "cell_type": "code",
   "execution_count": 43,
   "metadata": {},
   "outputs": [
    {
     "name": "stdout",
     "output_type": "stream",
     "text": [
      "1, 안녕하세요.\n",
      "2, 반갑습니다.\n",
      "3, abcdefg\n",
      "4, 1234561000\n"
     ]
    }
   ],
   "source": [
    "# 라인단위 처리\n",
    "fr = open(\"output/a.txt\", \"rt\", encoding=\"utf-8\")\n",
    "for index, txt in enumerate(fr): # 한번 반복시마다 한줄을 읽어서 반환\n",
    "    print(f\"{index+1}, {txt.strip()}\")\n",
    "fr.close()"
   ]
  },
  {
   "cell_type": "markdown",
   "metadata": {
    "slideshow": {
     "slide_type": "slide"
    }
   },
   "source": [
    "## with block\n",
    "\n",
    "파일과 입출력 작업이 다 끝나면 반드시 연결을 닫아야 한다. 매번 연결을 닫는 작업을 하는 것이 번거롭고 실수로 안 닫을 경우 문제가 생길 수 있다. **with block은 block을 벗어나면 자동으로 연결을 닫아 준다.** 그래서 연결을 닫는 코드를 생략할 수 있다.\n",
    "\n",
    "- 구문\n",
    "```python\n",
    "with open() as 변수: # `변수`는 open()이 반환하는 Stream객체를 참조한다.\n",
    "    입출력 작업      # 변수를 이용해 입출력 작업을 처리한다.\n",
    "# with block을 빠져 나오면 close()가 자동으로 실행된다.\n",
    "```"
   ]
  },
  {
   "cell_type": "code",
   "execution_count": 46,
   "metadata": {
    "slideshow": {
     "slide_type": "fragment"
    }
   },
   "outputs": [
    {
     "name": "stdin",
     "output_type": "stream",
     "text": [
      "파일명: d\n"
     ]
    },
    {
     "name": "stdout",
     "output_type": "stream",
     "text": [
      "예외발생: [Errno 17] File exists: 'output/d.txt'\n"
     ]
    }
   ],
   "source": [
    "filename = input(\"파일명:\")\n",
    "\n",
    "try:\n",
    "    fw = open(f\"output/{filename}.txt\",\n",
    "             \"xt\" # x: 없는 파일과 연결해서 출력. 파일이 있으면 Exception 발생\n",
    "             ) # FileExistsError 발생 가능성이 있는 코드\n",
    "\n",
    "    fw.write(\"안녕하세요.\")\n",
    "    fw.write(\"안녕하세요.\")\n",
    "    fw.write(\"안녕하세요.\")\n",
    "    fw.write(1000) # TypeError\n",
    "\n",
    "    # fw.close() 예외 발생 후 close를 실행하지 않고 넘어가는 문제 -> finally\n",
    "except Exception as e:\n",
    "    print(\"예외발생:\", e)\n",
    "finally:\n",
    "    if fw:\n",
    "        fw.close()"
   ]
  },
  {
   "cell_type": "code",
   "execution_count": 47,
   "metadata": {},
   "outputs": [
    {
     "name": "stdout",
     "output_type": "stream",
     "text": [
      "with block 종료 -> close는 자동으로 실행\n"
     ]
    }
   ],
   "source": [
    "# 연결\n",
    "with open(\"output/e.txt\", \"wt\", encoding=\"utf-8\") as fw:\n",
    "    try:\n",
    "        fw.write(\"안녕하세요\\n\")\n",
    "        fw.write(\"abcde\")\n",
    "    except:\n",
    "        print(\"예외발생\")\n",
    "\n",
    "print(\"with block 종료 -> close는 자동으로 실행\")"
   ]
  },
  {
   "cell_type": "code",
   "execution_count": 48,
   "metadata": {},
   "outputs": [
    {
     "name": "stdout",
     "output_type": "stream",
     "text": [
      "종료\n"
     ]
    }
   ],
   "source": [
    "# a.txt를 읽어서 a2.txt에 출력\n",
    "try:\n",
    "    with open(\"output/a.txt\", \"rt\", encoding=\"utf-8\") as fr:\n",
    "        with open(\"output/a2.txt\", \"wt\", encoding=\"utf-8\") as fw:\n",
    "            for line_num, line_txt in enumerate(fr, start=1):\n",
    "                fw.write(f\"{line_num}. {line_txt}\")\n",
    "\n",
    "except Exception as e:\n",
    "    print(e)\n",
    "print(\"종료\")"
   ]
  },
  {
   "cell_type": "markdown",
   "metadata": {},
   "source": [
    "# Binary Data 입출력\n",
    "\n",
    "## `bytes` type\n",
    "binary 데이터를 입출력하기 위한 타입.  \n",
    "파이썬의 하나의 출력함수로 다양한 데이터타입의 값을 출력하기 위해 **bytes 타입으로 변환** 해야 한다. \n",
    "또 binary 데이터를 읽을 경우 **bytes 타입**으로 반환한다. 이것을 저장 전 원래 타입으로 쓰기 위해서는 bytes에서 원래 타입으로 변환하는 작업이 필요하다.   "
   ]
  },
  {
   "cell_type": "code",
   "execution_count": 64,
   "metadata": {},
   "outputs": [
    {
     "name": "stdout",
     "output_type": "stream",
     "text": [
      "<class 'bytes'> <class 'bytes'>\n"
     ]
    }
   ],
   "source": [
    "a = \"안녕\"\n",
    "b = 30\n",
    "with open(\"a10.dat\", \"wb\") as fw: # binary 출력 => bytes로 출력값을 받는다.\n",
    "    a_byte = a.encode(\"utf-8\")\n",
    "    b_byte = b.to_bytes(1, byteorder=\"little\", signed=True) # 숫자->byte 변환. signed: 양수, 음수 부호\n",
    "    print(type(a_byte), type(a_byte))\n",
    "    fw.write(a_byte) # 값: bytes\n",
    "    fw.write(b_byte)"
   ]
  },
  {
   "cell_type": "markdown",
   "metadata": {
    "slideshow": {
     "slide_type": "slide"
    }
   },
   "source": [
    "## pickle 모듈을 이용한 객체 직렬화\n",
    "- pickle 모듈: binary data 입출력을 도와주는 표준 라이브러리.\n",
    "\n",
    "### 객체 직렬화(Object Serialization)\n",
    "- 객체의 속성값들을 bytes로 변환해 출력하는 것을 객체 직렬화(Object Serialization) 이라고 한다.\n",
    "- bytes로 출력된 데이터를 읽어 객체화 하는 것을 객체 역직렬화(Object Deserialization) 이라고 한다."
   ]
  },
  {
   "cell_type": "markdown",
   "metadata": {
    "slideshow": {
     "slide_type": "fragment"
    }
   },
   "source": [
    "### pickle 모듈\n",
    "- binary 모드로 출력하거나 입력받을 경우 **bytes**  타입으로 입출력을 진행한다.\n",
    "    - 그런데 각각의 타입이 변환하는 방식이 다르기때문에 입출력 코드가 복잡해 지는 문제가 있다. 이것을 추상화해서 binary 데이터 입출력을 쉽게 처리할 수 있게하는 표준모듈이 pickle이다.\n",
    "    - 파이썬의 모든 값은 객체 이므로 pickle은 객체 직렬화, 역직렬화를 위한 파이썬 표준모듈이다.\n",
    "\n",
    "- 저장시 파일 확장자는 보통 `pkl` 이나 `pickle` 로 한다.\n",
    "- ex)\n",
    "```python\n",
    "#### binary mode로 설정한다.\n",
    "fw = open(\"data.pkl\", \"wb\") # 객체를 pickle에 저장하기 위한 output stream 생성\n",
    "fr = open(\"data.pkl\", \"rb\") # 파일에 저장된 객체를 읽어오기 위한 input stream 생성\n",
    "```\n",
    "- **메소드**\n",
    "    - dump(저장할 객체, fw) : 출력\n",
    "    - load(fr): 입력 - 읽은 객체를 반환한다."
   ]
  },
  {
   "cell_type": "code",
   "execution_count": 65,
   "metadata": {
    "slideshow": {
     "slide_type": "fragment"
    }
   },
   "outputs": [],
   "source": [
    "import pickle\n",
    "i = 10\n",
    "with open(\"output/data.pkl\", \"wb\") as fw:\n",
    "    pickle.dump(i, fw) # i를 fw를 이용해서 출력"
   ]
  },
  {
   "cell_type": "code",
   "execution_count": 67,
   "metadata": {},
   "outputs": [
    {
     "name": "stdout",
     "output_type": "stream",
     "text": [
      "<class 'int'> 10\n"
     ]
    }
   ],
   "source": [
    "# 읽기\n",
    "with open('output/data.pkl', 'rb') as fr:\n",
    "    j = pickle.load(fr)\n",
    "    print(type(j), j)"
   ]
  },
  {
   "cell_type": "code",
   "execution_count": 68,
   "metadata": {},
   "outputs": [],
   "source": [
    "l = [True, \"홍길동\", 30, 100.234]\n",
    "with open(\"output/list.pkl\", \"wb\") as fw:\n",
    "    pickle.dump(l, fw)"
   ]
  },
  {
   "cell_type": "code",
   "execution_count": 69,
   "metadata": {},
   "outputs": [
    {
     "name": "stdout",
     "output_type": "stream",
     "text": [
      "[True, '홍길동', 30, 100.234]\n"
     ]
    }
   ],
   "source": [
    "with open(\"output/list.pkl\", \"rb\") as fr:\n",
    "    read_list = pickle.load(fr)\n",
    "\n",
    "print(read_list)"
   ]
  },
  {
   "cell_type": "code",
   "execution_count": 96,
   "metadata": {},
   "outputs": [],
   "source": [
    "class Person:\n",
    "\n",
    "    def __init__(self, name, age):\n",
    "        self.name = name\n",
    "        self.age = age\n",
    "\n",
    "    def __str__(self):\n",
    "        return f\"{self.name}, {self.age}\""
   ]
  },
  {
   "cell_type": "code",
   "execution_count": 99,
   "metadata": {},
   "outputs": [],
   "source": [
    "p = Person(\"이순신\",33)\n",
    "\n",
    "with open(\"output/person.pkl\", \"wb\") as fw:\n",
    "    pickle.dump(p, fw)"
   ]
  },
  {
   "cell_type": "code",
   "execution_count": 100,
   "metadata": {},
   "outputs": [],
   "source": [
    "with open(\"output/person.pkl\", \"rb\") as fr:\n",
    "    saved_p = pickle.load(fr)"
   ]
  },
  {
   "cell_type": "code",
   "execution_count": 102,
   "metadata": {},
   "outputs": [
    {
     "name": "stdout",
     "output_type": "stream",
     "text": [
      "이순신, 33\n",
      "<class '__main__.Person'>\n"
     ]
    }
   ],
   "source": [
    "print(saved_p)\n",
    "print(type(saved_p))"
   ]
  },
  {
   "cell_type": "code",
   "execution_count": 105,
   "metadata": {},
   "outputs": [
    {
     "name": "stdout",
     "output_type": "stream",
     "text": [
      "이순신 33\n"
     ]
    }
   ],
   "source": [
    "print(saved_p.name, saved_p.age)"
   ]
  },
  {
   "cell_type": "markdown",
   "metadata": {
    "slideshow": {
     "slide_type": "skip"
    }
   },
   "source": [
    "# TODO"
   ]
  },
  {
   "cell_type": "markdown",
   "metadata": {
    "slideshow": {
     "slide_type": "skip"
    }
   },
   "source": [
    "- ## 간단한 CLI 기반 메모장\n",
    "    1. 사용자로부터 파일명을 입력받는다.\n",
    "    2. 사용자로부터 파일에 저장할 문장을 입력받아서 파일에 저장한다.\n",
    "        - 한줄씩 입력받는다.\n",
    "        - 사용자가 !q 를 입력하면 저장후 종료한다.\n",
    "    3. 사용자가 저장한 파일을 읽어서 출력한다.\n"
   ]
  },
  {
   "cell_type": "code",
   "execution_count": 257,
   "metadata": {},
   "outputs": [
    {
     "name": "stdout",
     "output_type": "stream",
     "text": [
      "Writing simple_momo.py\n"
     ]
    }
   ],
   "source": [
    "%%writefile simple_momo.py\n",
    "\n",
    "import os\n",
    "def memo():\n",
    "    # 디렉토리 생성\n",
    "    os.makedirs(\"output\", exist_ok=True)\n",
    "    print(\"저장할 파일명을 입력하세요.\")\n",
    "    filename = input(\"파일명: \")\n",
    "    print(\"=\"*50)\n",
    "    \n",
    "    with open(f\"output/{filename}\", \"wt\", encoding=\"utf-8\") as fw:\n",
    "        print(\"저장할 내용을 입력하세요.\")\n",
    "        print(\"=\"*50)\n",
    "        while True:\n",
    "            line_txt = input(\">>\")\n",
    "            if line_txt == \"!q\":\n",
    "                break\n",
    "            fw.write(line_txt+\"\\n\")\n",
    "\n",
    "if __name__ == \"__main__\":\n",
    "    memo()"
   ]
  },
  {
   "cell_type": "code",
   "execution_count": 259,
   "metadata": {},
   "outputs": [
    {
     "name": "stdout",
     "output_type": "stream",
     "text": [
      "저장할 파일명을 입력하세요.\n"
     ]
    },
    {
     "name": "stdin",
     "output_type": "stream",
     "text": [
      "파일명:  my_text.txt\n"
     ]
    },
    {
     "name": "stdout",
     "output_type": "stream",
     "text": [
      "==================================================\n",
      "저장할 내용을 입력하세요.\n",
      "==================================================\n"
     ]
    },
    {
     "name": "stdin",
     "output_type": "stream",
     "text": [
      ">> aaa\n",
      ">> bbb\n",
      ">> !q\n"
     ]
    }
   ],
   "source": [
    "from simple_momo import memo\n",
    "memo()"
   ]
  },
  {
   "cell_type": "markdown",
   "metadata": {
    "slideshow": {
     "slide_type": "skip"
    }
   },
   "source": [
    "- ## CSV 데이터파일 조회\n",
    "member.csv 파일을 읽어서 각 열의 값(속성값)들을 리스트에 담는다.  \n",
    "이름은 names, 나이는 ages, 주소는 addresses 리스트에 넣는다.\n",
    "- 단 첫줄은 head이므로 읽지 않는다.\n",
    "- 참고 함수: 문자열 split(), for문 관련 enumerate()\n",
    "\n",
    "```\n",
    "이름,나이,주소\n",
    "이순신,17,서울\n",
    "유관순,27,광주\n",
    "홍길동,20,서울\n",
    "김영수,30,인천\n",
    "박영희,23,부산\n",
    "```"
   ]
  },
  {
   "cell_type": "code",
   "execution_count": 166,
   "metadata": {},
   "outputs": [
    {
     "name": "stdout",
     "output_type": "stream",
     "text": [
      "Overwriting member.csv\n"
     ]
    }
   ],
   "source": [
    "%%writefile member.csv\n",
    "이름,나이,주소\n",
    "이순신,17,서울\n",
    "유관순,27,광주\n",
    "홍길동,20,서울\n",
    "김영수,30,인천\n",
    "박영희,23,부산"
   ]
  },
  {
   "cell_type": "markdown",
   "metadata": {
    "slideshow": {
     "slide_type": "skip"
    }
   },
   "source": [
    "> **CSV (Comma Separated Value)** 파일\n",
    "> - 데이터들을 정형화(표)된 형태로 텍스트파일에 저장하는 방식\n",
    "> - 하나의 데이터는 한줄에 표시. (데이터 구분자는 엔터)\n",
    "> - 하나의 데이터를 구성하는 값들(속성)들은 , 로 구분\n",
    ">     - tab으로 구분하는 경우 TSV \n",
    ">     - 각 속성값들은 \" \" 로 감싸기도 한다.\n",
    "> - 텍스트기반\n",
    "> - 파일 확장자는 `.csv`, `.tsv` 로 준다."
   ]
  },
  {
   "cell_type": "code",
   "execution_count": 297,
   "metadata": {},
   "outputs": [
    {
     "data": {
      "text/plain": [
       "[[], [], []]"
      ]
     },
     "execution_count": 297,
     "metadata": {},
     "output_type": "execute_result"
    }
   ],
   "source": [
    "[[]]*3"
   ]
  },
  {
   "cell_type": "code",
   "execution_count": 298,
   "metadata": {},
   "outputs": [
    {
     "data": {
      "text/plain": [
       "[[], [], []]"
      ]
     },
     "execution_count": 298,
     "metadata": {},
     "output_type": "execute_result"
    }
   ],
   "source": [
    "[[] for _ in range(3)]"
   ]
  },
  {
   "cell_type": "code",
   "execution_count": 295,
   "metadata": {},
   "outputs": [
    {
     "data": {
      "text/plain": [
       "([1], [1], [1])"
      ]
     },
     "execution_count": 295,
     "metadata": {},
     "output_type": "execute_result"
    }
   ],
   "source": [
    "a,b,c = [[]]*3\n",
    "# a,b,c = [[] for _ in range(3)]\n",
    "\n",
    "a.append(1)\n",
    "\n",
    "a,b,c"
   ]
  },
  {
   "cell_type": "code",
   "execution_count": 290,
   "metadata": {},
   "outputs": [],
   "source": [
    "names, ages, addresses = [],[],[]\n",
    "\n",
    "with open(\"member.csv\", \"rt\", encoding=\"utf-8\") as fr:\n",
    "    for idx, line_txt in enumerate(fr):\n",
    "        if idx == 0:\n",
    "            continue\n",
    "        name, age, address = line_txt.strip().split(\",\")\n",
    "        names.append(name)\n",
    "        ages.append(age)\n",
    "        addresses.append(address)"
   ]
  },
  {
   "cell_type": "code",
   "execution_count": 291,
   "metadata": {},
   "outputs": [
    {
     "name": "stdout",
     "output_type": "stream",
     "text": [
      "['이순신', '유관순', '홍길동', '김영수', '박영희']\n",
      "['17', '27', '20', '30', '23']\n",
      "['서울', '광주', '서울', '인천', '부산']\n"
     ]
    }
   ],
   "source": [
    "print(names)\n",
    "print(ages)\n",
    "print(addresses)"
   ]
  },
  {
   "cell_type": "code",
   "execution_count": 287,
   "metadata": {},
   "outputs": [
    {
     "name": "stdout",
     "output_type": "stream",
     "text": [
      "['이순신', '17', '서울']\n",
      "['유관순', '27', '광주']\n",
      "['홍길동', '20', '서울']\n",
      "['김영수', '30', '인천']\n",
      "['박영희', '23', '부산']\n"
     ]
    }
   ],
   "source": [
    "names, ages, addresses = [],[],[]\n",
    "\n",
    "with open(\"member.csv\", \"rt\", encoding=\"utf-8\") as fr:\n",
    "    next(fr)\n",
    "    for a,b in enumerate(fr):\n",
    "        b_list = b.strip().split(',')\n",
    "        print(b_list)\n",
    "        names.append(b_list[0])\n",
    "        ages.append(b_list[1])\n",
    "        addresses.append(b_list[2])"
   ]
  },
  {
   "cell_type": "code",
   "execution_count": 288,
   "metadata": {},
   "outputs": [
    {
     "data": {
      "text/plain": [
       "(['이순신', '유관순', '홍길동', '김영수', '박영희'],\n",
       " ['17', '27', '20', '30', '23'],\n",
       " ['서울', '광주', '서울', '인천', '부산'])"
      ]
     },
     "execution_count": 288,
     "metadata": {},
     "output_type": "execute_result"
    }
   ],
   "source": [
    "names, ages, addresses"
   ]
  },
  {
   "cell_type": "code",
   "execution_count": 289,
   "metadata": {},
   "outputs": [
    {
     "data": {
      "text/plain": [
       "[17, 27, 20, 30, 23]"
      ]
     },
     "execution_count": 289,
     "metadata": {},
     "output_type": "execute_result"
    }
   ],
   "source": [
    "list(map(int,ages))"
   ]
  }
 ],
 "metadata": {
  "kernelspec": {
   "display_name": "Python 3 (ipykernel)",
   "language": "python",
   "name": "python3"
  },
  "language_info": {
   "codemirror_mode": {
    "name": "ipython",
    "version": 3
   },
   "file_extension": ".py",
   "mimetype": "text/x-python",
   "name": "python",
   "nbconvert_exporter": "python",
   "pygments_lexer": "ipython3",
   "version": "3.11.5"
  },
  "toc": {
   "base_numbering": 1,
   "nav_menu": {},
   "number_sections": true,
   "sideBar": true,
   "skip_h1_title": false,
   "title_cell": "Table of Contents",
   "title_sidebar": "Contents",
   "toc_cell": false,
   "toc_position": {},
   "toc_section_display": true,
   "toc_window_display": false
  },
  "varInspector": {
   "cols": {
    "lenName": 16,
    "lenType": 16,
    "lenVar": 40
   },
   "kernels_config": {
    "python": {
     "delete_cmd_postfix": "",
     "delete_cmd_prefix": "del ",
     "library": "var_list.py",
     "varRefreshCmd": "print(var_dic_list())"
    },
    "r": {
     "delete_cmd_postfix": ") ",
     "delete_cmd_prefix": "rm(",
     "library": "var_list.r",
     "varRefreshCmd": "cat(var_dic_list()) "
    }
   },
   "types_to_exclude": [
    "module",
    "function",
    "builtin_function_or_method",
    "instance",
    "_Feature"
   ],
   "window_display": false
  }
 },
 "nbformat": 4,
 "nbformat_minor": 4
}
