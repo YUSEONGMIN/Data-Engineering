{
 "cells": [
  {
   "cell_type": "markdown",
   "id": "8c49cd8e",
   "metadata": {
    "slideshow": {
     "slide_type": "slide"
    }
   },
   "source": [
    "# 제어문(Control flow statement)\n",
    "기본적으로 프로그램은 순차구조를 가진다. 즉 작성한 순서대로 실행이 된다.  \n",
    "이런 실행흐름을 다른 순서로 제어하기 위한 구문을 만드는 문법이 제어문이다.  \n",
    "제어문은 **조건문** 과 **반복문** 두가지 문법이 있다.\n",
    "- **조건문**\n",
    "    - if 문\n",
    "- **반복문**\n",
    "    - while 문\n",
    "    - for in 문"
   ]
  },
  {
   "cell_type": "markdown",
   "id": "92c502ce",
   "metadata": {
    "slideshow": {
     "slide_type": "slide"
    }
   },
   "source": [
    "# 조건문/분기문 (conditional statement)\n",
    "- 프로그램이 명령문들을 실행하는 도중 특정 순서에서 **조건에 따라 흐름의 나눠져야 하는 경우 사용한다**\n",
    "- 파이썬은 조건문으로 **if문**이 있다.\n",
    "\n",
    "![조건문](images/ch03_01.png)\n",
    "\n",
    "<center>입력 받은 a 의 값이 0인지 여부에 따라 두가지 흐름으로 분기된다.</center>\n"
   ]
  },
  {
   "cell_type": "markdown",
   "id": "2a3c1835",
   "metadata": {
    "slideshow": {
     "slide_type": "subslide"
    }
   },
   "source": [
    "## 구문\n",
    "\n",
    "- 조건이 True일 경우만 특정 구문들을 실행 하는 조건문.\n",
    "```python\n",
    "if 조건:    # 조건은 bool 표현식을 기술한다. 조건선언 다음에 : 으로 선언해서 코드블록을 구분한다.\n",
    "    명령문1  # 조건이 True이면 실행할 구문들을 코드블럭에 기술한다.\n",
    "    명령문2  # 코드 블록은 들여쓰기를 이용해 묶어준다. 보통 공백 4칸으로 들여쓰기를 한다.\n",
    "    ...\n",
    "```\n",
    "> ### 파이썬의 코드블록(code block)  \n",
    "> 코드블록이란 **여러 명령문들을 묶어놓은 것을** 말한다. 코드블록으로 묶이면 실행시 같이 다 실행되고 실행이 안되면 같이 다 실행이 안된다.    \n",
    "> 파이썬에서는 코드블록을 작성할 때 **들여쓰기를 이용해 묶어준다.**   \n",
    "> 같은 칸만큼 들여쓰기를 한 명령문들이 같은 블록으로 묶인다.\n",
    "> 들여쓰기는 관례적으로 **공백 4칸을** 사용한다. \n",
    "\n",
    "> ### pass 키워드(예약어)\n",
    "> - 빈 구현부를 만들때 사용\n",
    ">     - 제어문, 함수의 body 코드블럭은 비울 수 없다. 반드시 명령문을 한개 이상 작성해야한다. \n",
    ">     - 작성할 내용이 없을 경우 사용하는 키워드로 `pass`를 사용한다. \n",
    ">     - `...` 을 대신 사용할 수 있다."
   ]
  },
  {
   "cell_type": "markdown",
   "id": "09c79c35",
   "metadata": {
    "slideshow": {
     "slide_type": "subslide"
    }
   },
   "source": [
    "- **조건이 True일때 실행할 구문과 False일때 실행하는 조건문.**\n",
    "```python\n",
    "if 조건:     \n",
    "    명령문1_1 # 조건이 True일 경우 실행할 구문들\n",
    "    명령문1_2\n",
    "    ...\n",
    "else:\n",
    "    명령문2_1 # 조건이 False일 경우 실행할 구문들\n",
    "    명령문2_2\n",
    "    ...\n",
    "```"
   ]
  },
  {
   "cell_type": "markdown",
   "id": "621eae9a",
   "metadata": {
    "slideshow": {
     "slide_type": "subslide"
    }
   },
   "source": [
    "- **조건이 여러 개인 조건문.**\n",
    "```python\n",
    "if 조건1:\n",
    "    명령문1_1  # 조건1이 True일 경우 실행할 코드블록. \n",
    "    명령문1_2\n",
    "    ...\n",
    "elif 조건2:    # 다음 조건으로 앞의 조건들이 모드 False일 경우 비교한다.\n",
    "    명령문2_1  # 조건2가 True일 경우 실행할 코드블록.\n",
    "    명령문2_2\n",
    "    ...\n",
    "elif 조건3 :\n",
    "    명령문3_1\n",
    "    명령문3_2\n",
    "    ...\n",
    "else:         # 위의 모든 조건이 False일 경우 실행하는 코드블록. 생략 가능하다.\n",
    "    명령문4\n",
    "```"
   ]
  },
  {
   "cell_type": "code",
   "execution_count": 3,
   "id": "f8ad6731-6c56-483a-982d-67c333a1d11f",
   "metadata": {},
   "outputs": [
    {
     "name": "stdout",
     "output_type": "stream",
     "text": [
      "시작\n",
      "==영입니다.\n",
      "==Zero\n",
      "종료\n"
     ]
    }
   ],
   "source": [
    "# if 문 -> 조건이 True이면 코드를 실행하고 False이면 안한다.\n",
    "print(\"시작\") # 1.\n",
    "num = input(\"정수: \") # 2. 입력받기\n",
    "num = int(num) # 3. 문자열 -> 정수\n",
    "if num == 0:\n",
    "    print(\"==영입니다.\") # 4. 출력 -> 입력받은 숫자가 0일 때만\n",
    "    print(\"==Zero\")\n",
    "else:\n",
    "    print(\"==영이 아닙니다.\")\n",
    "    print(\"==Not Zero\")\n",
    "\n",
    "print(\"종료\") # 5."
   ]
  },
  {
   "cell_type": "code",
   "execution_count": 4,
   "id": "a849de9a-6fa6-4193-8366-3ac0479d6efa",
   "metadata": {},
   "outputs": [
    {
     "name": "stdout",
     "output_type": "stream",
     "text": [
      "===양수입니다.\n"
     ]
    }
   ],
   "source": [
    "# if - elif - else ==> 조건이 여러개인 경우\n",
    "num = int(input(\"정수: \")) # 1. 입력 -> 변환\n",
    "# 2. 부호를 출력 => 3중 하나를 출력\n",
    "if num > 0:\n",
    "    print(\"===양수입니다.\")\n",
    "elif num < 0:\n",
    "    print(\"===음수입니다.\")\n",
    "# elif num == 0:\n",
    "else:\n",
    "    print(\"===영입니다.\")"
   ]
  },
  {
   "cell_type": "code",
   "execution_count": 5,
   "id": "4c6a532d",
   "metadata": {
    "slideshow": {
     "slide_type": "fragment"
    }
   },
   "outputs": [
    {
     "name": "stdout",
     "output_type": "stream",
     "text": [
      "아이디는 5글자 이상 입력하세요.\n"
     ]
    }
   ],
   "source": [
    "# 아이디 체크 -> 5글자 이상이면 등록 아니면 가입불가 메세지 출력\n",
    "user_id = input(\"ID: \")\n",
    "if len(user_id) >= 5:\n",
    "    # 등록\n",
    "    print(f\"{user_id}가 등록되었습니다.\")\n",
    "else:\n",
    "    print(\"아이디는 5글자 이상 입력하세요.\")"
   ]
  },
  {
   "cell_type": "markdown",
   "id": "2149b728",
   "metadata": {
    "slideshow": {
     "slide_type": "slide"
    }
   },
   "source": [
    "# 반복문 (Loop statement)\n",
    "\n",
    "특정 구문들을 반복해서 실행할 때 사용한다. 동일한 코드를 여러번 반복하거나 값이 일정하게 변하는 코드를 반복할 경우 사용한다.  \n",
    "단순 반복을 처리하는 **while문**과 iterable객체가 제공하는 값들을 반복 조회하는 **for in문** 두가지 문법이 있다.\n",
    "\n",
    "![반복문](images/ch03_02.png)\n",
    "<center>count의 값이 limit의 값보다 크거나 같을때 까지 count의 값을 1증가 후 출력하는 구문을 반복한다. </center>"
   ]
  },
  {
   "cell_type": "markdown",
   "id": "b4740a36",
   "metadata": {
    "slideshow": {
     "slide_type": "subslide"
    }
   },
   "source": [
    "## while문\n",
    "- 조건이 True인 동안 구문을 반복해서 실행한다.\n",
    "\n",
    "### 구문\n",
    "```python\n",
    "while 조건:       # 조건은 bool 표현식을 기술한다. 조건선언 다음에 : 으로 선언해서 코드블록을 구분한다\n",
    "    반복할 구문1  # 반복할 구문을 코드블록으로 작성한다.  \n",
    "    반복할 구문2\n",
    "    ...\n",
    "```"
   ]
  },
  {
   "cell_type": "code",
   "execution_count": 6,
   "id": "6b11bde6",
   "metadata": {
    "slideshow": {
     "slide_type": "fragment"
    }
   },
   "outputs": [
    {
     "name": "stdout",
     "output_type": "stream",
     "text": [
      "1 번째 실행.\n",
      "2 번째 실행.\n",
      "3 번째 실행.\n"
     ]
    }
   ],
   "source": [
    "limit = int(input(\"반복할 횟수: \")) # 1.\n",
    "count = 0 # 2. 몇번째 반복인지 횟수를 저장할 변수.\n",
    "\n",
    "# 3.\n",
    "while count < limit: # 조건식이 True인 동안 코드블록을 반복 실행한다.\n",
    "    count += 1 # count 값을 증가\n",
    "    print(f\"{count} 번째 실행.\")"
   ]
  },
  {
   "cell_type": "markdown",
   "id": "04f12e55",
   "metadata": {
    "slideshow": {
     "slide_type": "subslide"
    }
   },
   "source": [
    "## for  in 문\n",
    "- Iterable 객체를 순환조회하는 구문\n",
    "    - for in문은 Iterable 타입의 객체가 가지고 있는 값들을 하나씩 처리하는 구문을 작성할 때 사용한다.\n",
    "\n",
    "> - **Iterable**\n",
    ">    - 반복가능한 객체. 반복문(for in)을 이용해 일련의 값들을 반복적으로 각각 제공하는 객체를 말한다. \n",
    ">    - 대표적으로 List, Tuple, Dictionary, Set, 문자열 등이 있다.\n",
    "\n",
    "### 구문\n",
    "```python\n",
    "for 변수 in Iterable: # for in 선언후 : 으로 선언부와 구현부를 나눈다.\n",
    "    반복구문          # Iterable이 반복시 제공하는 값을 가지는 \"변수\"를 이용해 값들을 처리하는 구문을 코드블록으로 작성한다.\n",
    "    반복구문\n",
    "```"
   ]
  },
  {
   "cell_type": "code",
   "execution_count": 7,
   "id": "da0ce0f6",
   "metadata": {
    "slideshow": {
     "slide_type": "fragment"
    }
   },
   "outputs": [
    {
     "name": "stdout",
     "output_type": "stream",
     "text": [
      "11\n",
      "20\n",
      "15\n",
      "0\n",
      "12\n",
      "-60\n"
     ]
    }
   ],
   "source": [
    "lst = [1, 10, 5, -10, 2, -70]\n",
    "result = []\n",
    "for var in lst: # iterable lst의 원소들을 하나씩 조회해서 var에 저장\n",
    "    print(var + 10)\n",
    "    result.append(var + 10)"
   ]
  },
  {
   "cell_type": "code",
   "execution_count": 8,
   "id": "040f758b-1538-4832-b78a-48abbf33986b",
   "metadata": {},
   "outputs": [
    {
     "name": "stdout",
     "output_type": "stream",
     "text": [
      "20\n",
      "12\n",
      "15\n",
      "20\n",
      "12\n",
      "15\n"
     ]
    }
   ],
   "source": [
    "for var in (10, 2, 5):\n",
    "    print(var + 10)\n",
    "\n",
    "for var in {10, 2, 5}:\n",
    "    print(var + 10)"
   ]
  },
  {
   "cell_type": "code",
   "execution_count": 9,
   "id": "c0f4dc76-0621-49bc-994c-8239cccef147",
   "metadata": {},
   "outputs": [
    {
     "data": {
      "text/plain": [
       "dict_items([('a', 10), ('b', 100), ('c', 3000)])"
      ]
     },
     "execution_count": 9,
     "metadata": {},
     "output_type": "execute_result"
    }
   ],
   "source": [
    "d = {\n",
    "    \"a\": 10,\n",
    "    \"b\": 100,\n",
    "    \"c\": 3000\n",
    "}\n",
    "\n",
    "d.items()"
   ]
  },
  {
   "cell_type": "code",
   "execution_count": 10,
   "id": "cba9f7f3-bbb6-4463-8a63-c17ca50a06e1",
   "metadata": {},
   "outputs": [
    {
     "name": "stdout",
     "output_type": "stream",
     "text": [
      "10\n",
      "100\n",
      "3000\n"
     ]
    }
   ],
   "source": [
    "for var in d.values():\n",
    "    print(var)"
   ]
  },
  {
   "cell_type": "code",
   "execution_count": 11,
   "id": "6d699ddf-383c-4261-9076-6c5400d97f84",
   "metadata": {},
   "outputs": [
    {
     "name": "stdout",
     "output_type": "stream",
     "text": [
      "a 10\n",
      "b 100\n",
      "c 3000\n"
     ]
    }
   ],
   "source": [
    "for key, value in d.items():\n",
    "    print(key, value)"
   ]
  },
  {
   "cell_type": "code",
   "execution_count": 12,
   "id": "69360299-d0a5-4464-80db-0ebeb4cacd57",
   "metadata": {},
   "outputs": [
    {
     "name": "stdout",
     "output_type": "stream",
     "text": [
      "20\t30\t40\t\n",
      "110\t210\t310\t\n",
      "1010\t2010\t3010\t\n"
     ]
    }
   ],
   "source": [
    "lst2 = [[10,20,30],[100,200,300],[1000,2000,3000]]\n",
    "\n",
    "for v in lst2:\n",
    "    for value in v:\n",
    "        print(value + 10, end=\"\\t\")\n",
    "    print()"
   ]
  },
  {
   "cell_type": "code",
   "execution_count": 13,
   "id": "2361e110-25a7-4486-bb08-61a6129b5775",
   "metadata": {},
   "outputs": [
    {
     "name": "stdout",
     "output_type": "stream",
     "text": [
      "10 20 30\n",
      "100 200 300\n",
      "1000 2000 3000\n"
     ]
    }
   ],
   "source": [
    "for v1, v2, v3 in lst2:\n",
    "    print(v1,v2,v3)\n",
    "    # print()"
   ]
  },
  {
   "cell_type": "code",
   "execution_count": 14,
   "id": "d25c8135-2bbf-4a12-9980-09372c95f8c3",
   "metadata": {},
   "outputs": [
    {
     "data": {
      "text/plain": [
       "[0, 1, 0, 1, 0, 1, 0, 1, 0, 1, 0, 1, 0, 1, 0, 1, 0, 1, 0, 1]"
      ]
     },
     "execution_count": 14,
     "metadata": {},
     "output_type": "execute_result"
    }
   ],
   "source": [
    "[0,1]*10"
   ]
  },
  {
   "cell_type": "markdown",
   "id": "1f30cd6f",
   "metadata": {
    "slideshow": {
     "slide_type": "subslide"
    }
   },
   "source": [
    "## continue와 break를 이용한 반복문 제어\n",
    "- **continue**\n",
    "    - 실행 블록에서 continue가 실행되면 현재 반복을 중단하고 다음 반복을 진행한다.\n",
    "    - 특정 조건에서 처리를 멈추고 다음 처리를 반복할 때 사용한다.\n",
    "- **break**\n",
    "    - 반복문 실행을 중단한다.\n",
    "    - 특정 조건에서 반복문을 중간에 중지할때 사용한다.\n",
    "- continue와 break는 특정 조건에서 실행되야 하는 경우가 대부분이므로 if문 안에 작성한다.    "
   ]
  },
  {
   "cell_type": "code",
   "execution_count": 15,
   "id": "90c41e9f",
   "metadata": {
    "slideshow": {
     "slide_type": "fragment"
    }
   },
   "outputs": [
    {
     "name": "stdout",
     "output_type": "stream",
     "text": [
      "종료\n"
     ]
    }
   ],
   "source": [
    "import random # 실행할 때마다 정수 난수를 발생\n",
    "result = []\n",
    "# 생성된 난수를 result에 저장 -> 0이 나올 때까지.\n",
    "\n",
    "while True:\n",
    "    num = random.randint(-10,10) # -100 ~ 100 사이의 난수\n",
    "    # result.append(num)\n",
    "    if num == 0: # 종료 조건\n",
    "        break\n",
    "    if num < 0: # 음수이면\n",
    "        continue # 저장하는 코드 실행하지 않고 다음 반복 실행\n",
    "    result.append(num)\n",
    "print(\"종료\")"
   ]
  },
  {
   "cell_type": "code",
   "execution_count": 16,
   "id": "9667c8bc-b0d9-46e3-813e-2948b4b2bd1e",
   "metadata": {},
   "outputs": [
    {
     "data": {
      "text/plain": [
       "[9, 5, 4, 9, 6, 5, 7, 4, 3, 4, 4, 9, 3, 1, 7]"
      ]
     },
     "execution_count": 16,
     "metadata": {},
     "output_type": "execute_result"
    }
   ],
   "source": [
    "result"
   ]
  },
  {
   "cell_type": "code",
   "execution_count": 17,
   "id": "da56b483-ba17-42a5-961f-e8e9171e5c37",
   "metadata": {},
   "outputs": [
    {
     "data": {
      "text/plain": [
       "[1, 10, 5, -10, 2, -70]"
      ]
     },
     "execution_count": 17,
     "metadata": {},
     "output_type": "execute_result"
    }
   ],
   "source": [
    "lst"
   ]
  },
  {
   "cell_type": "code",
   "execution_count": 18,
   "id": "73de77a7-68d6-43d7-a626-748d71d2fbba",
   "metadata": {},
   "outputs": [],
   "source": [
    "result = False # 결과 - True: 있다. False: 없다.\n",
    "for v in lst:\n",
    "    if v == 5:\n",
    "        result = True\n",
    "        break"
   ]
  },
  {
   "cell_type": "code",
   "execution_count": 19,
   "id": "062bc4e4-92ad-4f02-9bf6-dfc44a13dcc3",
   "metadata": {},
   "outputs": [
    {
     "data": {
      "text/plain": [
       "'5가 있음'"
      ]
     },
     "execution_count": 19,
     "metadata": {},
     "output_type": "execute_result"
    }
   ],
   "source": [
    "\"5가 있음\" if result else \"5가 없음\""
   ]
  },
  {
   "cell_type": "markdown",
   "id": "dc6099c5",
   "metadata": {
    "slideshow": {
     "slide_type": "slide"
    }
   },
   "source": [
    "## for in 문 연관 내장 함수\n",
    "\n",
    "### range()\n",
    "- 일정한 간격의 연속된 정수를 제공하는 반복가능 객체 생성한다.\n",
    "- 구문\n",
    "    - `range([시작값], 멈춤값, [증감값])`\n",
    "        - 시작값, 멈춤값, 증감값 모두 정수만 가능하다.\n",
    "        - 시작값 > 멈춤값 이고 증감값이 음수이면 내림차순으로 값을 제공한다.\n",
    "        1. 전달값이 **1개: 멈춤값**. \n",
    "            - 0 ~ (멈춤값-1)까지 1씩 증가하는 정수를 제공\n",
    "        2. 전달값이 **2개: 시작값, 멈춤값**. \n",
    "            - 시작값 ~ (멈춤값-1) 까지 1씩 증가하는 정수 제공\n",
    "        3. 전달값이 **3개: 시작값, 멈춤값, 증감값(간격)**. \n",
    "            - 시작값 ~ (멈춤값-1)까지 증감값만큼 증가하는 정수를 제공.\n"
   ]
  },
  {
   "cell_type": "code",
   "execution_count": 20,
   "id": "352d937b",
   "metadata": {
    "slideshow": {
     "slide_type": "fragment"
    }
   },
   "outputs": [
    {
     "data": {
      "text/plain": [
       "[1, 2, 3, 4, 5, 6, 7, 8, 9, 10]"
      ]
     },
     "execution_count": 20,
     "metadata": {},
     "output_type": "execute_result"
    }
   ],
   "source": [
    "list(range(1,11))"
   ]
  },
  {
   "cell_type": "code",
   "execution_count": 21,
   "id": "2b97a574-0eab-49a1-b3f5-c7c0b86b38e2",
   "metadata": {},
   "outputs": [
    {
     "data": {
      "text/plain": [
       "(1, 2, 3, 4, 5, 6, 7, 8, 9, 10)"
      ]
     },
     "execution_count": 21,
     "metadata": {},
     "output_type": "execute_result"
    }
   ],
   "source": [
    "tuple(range(1,11))"
   ]
  },
  {
   "cell_type": "code",
   "execution_count": 22,
   "id": "f91381b5-feae-47f0-b57a-38d12b47ae63",
   "metadata": {},
   "outputs": [
    {
     "data": {
      "text/plain": [
       "{1, 2, 3, 4, 5, 6, 7, 8, 9, 10}"
      ]
     },
     "execution_count": 22,
     "metadata": {},
     "output_type": "execute_result"
    }
   ],
   "source": [
    "set(range(1,11))"
   ]
  },
  {
   "cell_type": "markdown",
   "id": "5de9d74e",
   "metadata": {
    "slideshow": {
     "slide_type": "subslide"
    }
   },
   "source": [
    "## enumerate()\n",
    "\n",
    "- 구문\n",
    "    - `enumerate(Iterable,  [, start=정수])`\n",
    "        - 현재 몇번째 값을 제공하는 지(현재 몇번째 반복인지)를 나타내는 **index**와 제공하는 **원소**를 tuple로 묶어서 반환\n",
    "        - Iterable\n",
    "            - 값을 제공할 Iterable객체\n",
    "        - start: 정수\n",
    "            - index 시작 값. 생략하면 0부터 시작한다."
   ]
  },
  {
   "cell_type": "code",
   "execution_count": 23,
   "id": "a1d71ced-5512-4a41-bcf6-56cb8e9de9c4",
   "metadata": {},
   "outputs": [
    {
     "name": "stdout",
     "output_type": "stream",
     "text": [
      "(0, 1)\n",
      "(1, 10)\n",
      "(2, 5)\n",
      "(3, -10)\n",
      "(4, 2)\n",
      "(5, -70)\n"
     ]
    }
   ],
   "source": [
    "for v in enumerate(lst):\n",
    "    print(v)"
   ]
  },
  {
   "cell_type": "code",
   "execution_count": 24,
   "id": "33dd96c5",
   "metadata": {
    "slideshow": {
     "slide_type": "fragment"
    }
   },
   "outputs": [
    {
     "name": "stdout",
     "output_type": "stream",
     "text": [
      "1 1\n",
      "2 10\n",
      "3 5\n",
      "4 -10\n",
      "5 2\n",
      "6 -70\n"
     ]
    }
   ],
   "source": [
    "for idx, value in enumerate(lst, start=1):\n",
    "    print(idx,value)"
   ]
  },
  {
   "cell_type": "code",
   "execution_count": 25,
   "id": "75ee8510-8184-455e-94b9-354df9538e9f",
   "metadata": {},
   "outputs": [
    {
     "name": "stdout",
     "output_type": "stream",
     "text": [
      "100,000 - 중간 결과\n",
      "200,000 - 중간 결과\n",
      "300,000 - 중간 결과\n",
      "400,000 - 중간 결과\n",
      "500,000 - 중간 결과\n",
      "600,000 - 중간 결과\n",
      "700,000 - 중간 결과\n",
      "800,000 - 중간 결과\n",
      "900,000 - 중간 결과\n",
      "1,000,000 - 중간 결과\n"
     ]
    }
   ],
   "source": [
    "# 1,000,000번 반복 처리\n",
    "# for i in raidxnge(1_000_000):\n",
    "for idx, value in enumerate(range(1_000_000), start=1):\n",
    "    # 처리코드\n",
    "    # 10만번당 한번씩 중간결과를 출력\n",
    "    if idx % 100000 == 0:\n",
    "        print(f\"{format(idx, ',')} - 중간 결과\")"
   ]
  },
  {
   "cell_type": "markdown",
   "id": "f5a5540f",
   "metadata": {
    "slideshow": {
     "slide_type": "subslide"
    }
   },
   "source": [
    "## zip()\n",
    "- 여러 개의 Iterable 객체를 받아 반복시 같은 index의 값끼리 튜플로 묶어 반환한다.\n",
    "- 구문\n",
    "    - `zip(Iterable1, Iterable2, Iterable3 [, .......])`\n",
    "        - Iterable 2개이상.전달한다.\n",
    "- 각 Iterable이 제공하는 원소의 개수가가 다를 경우 가장 적은 것의 개수에 맞춰 반복한다."
   ]
  },
  {
   "cell_type": "code",
   "execution_count": 26,
   "id": "1b99057f",
   "metadata": {
    "slideshow": {
     "slide_type": "fragment"
    }
   },
   "outputs": [],
   "source": [
    "# 여러 사람의 정보(이름, 나이, 주소)를 따로 저장\n",
    "names = [\"이순신\", \"유관순\", \"강감찬\"]\n",
    "ages = [30, 40, 50]\n",
    "addresses = [\"서울\", \"인천\", \"부산\"]\n",
    "# 같은 index 값들이 한 사람의 정보"
   ]
  },
  {
   "cell_type": "code",
   "execution_count": 27,
   "id": "ec8b188a-0c30-4ec8-b9cf-14da35ff2bdc",
   "metadata": {},
   "outputs": [
    {
     "name": "stdout",
     "output_type": "stream",
     "text": [
      "('이순신', 30, '서울', 0)\n",
      "('유관순', 40, '인천', 1)\n",
      "('강감찬', 50, '부산', 2)\n"
     ]
    }
   ],
   "source": [
    "for value in zip(names, ages, addresses, range(3)):\n",
    "    print(value)"
   ]
  },
  {
   "cell_type": "code",
   "execution_count": 28,
   "id": "b5c5e1fd-e0a9-419e-8a7d-dc75333e53bf",
   "metadata": {},
   "outputs": [
    {
     "name": "stdout",
     "output_type": "stream",
     "text": [
      "유관순 40 인천\n",
      "강감찬 50 부산\n"
     ]
    }
   ],
   "source": [
    "for name, age, address in zip(names, ages, addresses):\n",
    "    if age >= 40:\n",
    "        print(name, age, address)"
   ]
  },
  {
   "cell_type": "code",
   "execution_count": 29,
   "id": "422ae71b-ef29-43d2-8e09-4924d62add34",
   "metadata": {},
   "outputs": [
    {
     "name": "stdout",
     "output_type": "stream",
     "text": [
      "이순신 30 서울 0\n",
      "유관순 40 인천 1\n",
      "강감찬 50 부산 2\n"
     ]
    }
   ],
   "source": [
    "# iterable들의 원소의 개수가 다를 경우 가장 적은 개수만큼 반복 조회한다.\n",
    "for name, age, address, value in zip(names, ages, addresses, range(10)):\n",
    "    print(name, age, address, value)"
   ]
  },
  {
   "cell_type": "code",
   "execution_count": 30,
   "id": "1979a19c-283f-4f38-874e-3f5f0f233406",
   "metadata": {},
   "outputs": [
    {
     "name": "stdout",
     "output_type": "stream",
     "text": [
      "(1, 2)\n",
      "3\n"
     ]
    }
   ],
   "source": [
    "a, b = (1,2), 3\n",
    "print(a)\n",
    "print(b)"
   ]
  },
  {
   "cell_type": "code",
   "execution_count": 31,
   "id": "b3a5e987-a8bc-4abd-a50b-172eb2deec2e",
   "metadata": {},
   "outputs": [
    {
     "name": "stdout",
     "output_type": "stream",
     "text": [
      "1 2 3\n"
     ]
    }
   ],
   "source": [
    "(a, b), c = (1,2), 3\n",
    "print(a,b,c)"
   ]
  },
  {
   "cell_type": "code",
   "execution_count": 32,
   "id": "325ec4e8-df64-49f7-96e6-70ce958e636e",
   "metadata": {},
   "outputs": [
    {
     "name": "stdout",
     "output_type": "stream",
     "text": [
      "(0, ('이순신', 30, '서울'))\n",
      "(1, ('유관순', 40, '인천'))\n",
      "(2, ('강감찬', 50, '부산'))\n"
     ]
    }
   ],
   "source": [
    "for v in enumerate(zip(names, ages, addresses)):\n",
    "    print(v)"
   ]
  },
  {
   "cell_type": "code",
   "execution_count": 33,
   "id": "390aaad0-43a2-42f6-aba6-8a3b8573ad1b",
   "metadata": {},
   "outputs": [
    {
     "name": "stdout",
     "output_type": "stream",
     "text": [
      "1. 이름: 이순신, 나이: 30, 주소: 서울\n",
      "2. 이름: 유관순, 나이: 40, 주소: 인천\n",
      "3. 이름: 강감찬, 나이: 50, 주소: 부산\n"
     ]
    }
   ],
   "source": [
    "for idx, (name, age, address) in enumerate(zip(names, ages, addresses)):\n",
    "    print(f\"{idx+1}. 이름: {name}, 나이: {age}, 주소: {address}\")"
   ]
  },
  {
   "cell_type": "markdown",
   "id": "2df89dae",
   "metadata": {
    "slideshow": {
     "slide_type": "subslide"
    }
   },
   "source": [
    "# 컴프리헨션(Comprehension)\n",
    "\n",
    "- 기존 Iterable의 원소들을 이용해서 새로운 자료구조(List, Dictionary, Set)를 생성하는 구문.\n",
    "    - 기존 Iterable의 **원소들을 처리한 결과**나  **특정 조건이 True인 값들을** 새로운 자료구조에 넣을때 사용.\n",
    "    - 결과를 넣을 새로운 자료구조 타입에 따라 다음 세가지가 있다.\n",
    "        - 리스트 컴프리헨션\n",
    "        - 딕셔너리  컴프리헨션\n",
    "        - 셋  컴프리헨션\n",
    "- **튜플 컴프리헨션**은 없다.\n",
    "- **딕셔너리 컴프리헨션**과 **셋 컴프리헨션**은 파이썬 3 에 새로 추가되었다."
   ]
  },
  {
   "cell_type": "code",
   "execution_count": 34,
   "id": "e04827d9",
   "metadata": {
    "slideshow": {
     "slide_type": "fragment"
    }
   },
   "outputs": [
    {
     "data": {
      "text/plain": [
       "[10, 20, 30, 40, 50, 60, 70, 80, 90]"
      ]
     },
     "execution_count": 34,
     "metadata": {},
     "output_type": "execute_result"
    }
   ],
   "source": [
    "l1 = list(range(1,10))\n",
    "# l1의 모든 원소들의 10배한 값을 가지는 리스트\n",
    "result = []\n",
    "for v in l1:\n",
    "    result.append(v * 10)\n",
    "result"
   ]
  },
  {
   "cell_type": "code",
   "execution_count": 35,
   "id": "07f9e4b5-fd91-4f82-b6e2-cf84399c9657",
   "metadata": {},
   "outputs": [
    {
     "data": {
      "text/plain": [
       "[10, 20, 30, 40, 50, 60, 70, 80, 90]"
      ]
     },
     "execution_count": 35,
     "metadata": {},
     "output_type": "execute_result"
    }
   ],
   "source": [
    "result2 = [v * 10 for v in l1] # list comprehension\n",
    "result2"
   ]
  },
  {
   "cell_type": "code",
   "execution_count": 36,
   "id": "c8173ae6-d719-4a8a-920f-8b60d472ed4d",
   "metadata": {},
   "outputs": [
    {
     "data": {
      "text/plain": [
       "{10, 20, 30, 40, 50, 60, 70, 80, 90}"
      ]
     },
     "execution_count": 36,
     "metadata": {},
     "output_type": "execute_result"
    }
   ],
   "source": [
    "{v*10 for v in l1} # set comprehension"
   ]
  },
  {
   "cell_type": "code",
   "execution_count": 37,
   "id": "3e59737d-e04d-4708-aa6e-643d1d65bf1e",
   "metadata": {},
   "outputs": [
    {
     "data": {
      "text/plain": [
       "{'key-1': 10,\n",
       " 'key-2': 20,\n",
       " 'key-3': 30,\n",
       " 'key-4': 40,\n",
       " 'key-5': 50,\n",
       " 'key-6': 60,\n",
       " 'key-7': 70,\n",
       " 'key-8': 80,\n",
       " 'key-9': 90}"
      ]
     },
     "execution_count": 37,
     "metadata": {},
     "output_type": "execute_result"
    }
   ],
   "source": [
    "{f\"key-{v}\":v*10 for v in l1} # dictionary comprehension"
   ]
  },
  {
   "cell_type": "code",
   "execution_count": 38,
   "id": "49dc1da2-8885-4348-bc66-d32cf4d96096",
   "metadata": {},
   "outputs": [
    {
     "data": {
      "text/plain": [
       "[2, 4, 6, 8]"
      ]
     },
     "execution_count": 38,
     "metadata": {},
     "output_type": "execute_result"
    }
   ],
   "source": [
    "l1 = list(range(1,10))\n",
    "# l1의 모든 원소들의 10배한 값을 가지는 리스트\n",
    "result = []\n",
    "for v in l1:\n",
    "    if v % 2 == 0:\n",
    "        result.append(v)\n",
    "result"
   ]
  },
  {
   "cell_type": "code",
   "execution_count": 39,
   "id": "56f99717-c54c-4098-b120-4ffc825570bc",
   "metadata": {},
   "outputs": [
    {
     "data": {
      "text/plain": [
       "[2, 4, 6, 8]"
      ]
     },
     "execution_count": 39,
     "metadata": {},
     "output_type": "execute_result"
    }
   ],
   "source": [
    "[v for v in l1 if v % 2 ==0] # if 조건이 True인 v만 리스트에 추가"
   ]
  },
  {
   "cell_type": "code",
   "execution_count": 40,
   "id": "53f6622c-60a8-433d-8cdd-f5203dab8d80",
   "metadata": {},
   "outputs": [
    {
     "data": {
      "text/plain": [
       "[1, 2, 3, 4, 5]"
      ]
     },
     "execution_count": 40,
     "metadata": {},
     "output_type": "execute_result"
    }
   ],
   "source": [
    "r = []\n",
    "l1 = [[1,2,3],[4,5]]\n",
    "for v in l1:\n",
    "    for value in v:\n",
    "        if value > 0:\n",
    "            r.append(value)\n",
    "\n",
    "[value for v in l1 for value in v if value > 0]"
   ]
  },
  {
   "cell_type": "code",
   "execution_count": 41,
   "id": "9fcd2369-a770-4caf-8226-8b1ca577e002",
   "metadata": {},
   "outputs": [
    {
     "data": {
      "text/plain": [
       "{'aaaa': 4, 'abBa': 4, 'Acddef': 6, 'AcDCcc': 6}"
      ]
     },
     "execution_count": 41,
     "metadata": {},
     "output_type": "execute_result"
    }
   ],
   "source": [
    "l2 = [\"aaaa\", \"abBa\", \"Acddef\", \"AcDCcc\"]\n",
    "result = [v.upper() for v in l2]\n",
    "result\n",
    "{v:len(v) for v in l2}"
   ]
  },
  {
   "cell_type": "markdown",
   "id": "092288d7",
   "metadata": {
    "slideshow": {
     "slide_type": "skip"
    }
   },
   "source": [
    "# TODO"
   ]
  },
  {
   "cell_type": "code",
   "execution_count": 42,
   "id": "0b2f2c5c-c028-4f11-be13-4ce31cc62bcc",
   "metadata": {},
   "outputs": [
    {
     "name": "stdout",
     "output_type": "stream",
     "text": [
      "C학점\n"
     ]
    }
   ],
   "source": [
    "#(1) 다음 점수 구간에 맞게 학점을 출력하세요.\n",
    "# 91 ~ 100 : A학점\n",
    "# 81 ~ 90 :  B학점\n",
    "# 71 ~ 80 :  C학점\n",
    "# 61 ~ 70 :  D학점\n",
    "# 60이하   :  F학점\n",
    "\n",
    "jumsu = int(input('변환할 점수: '))\n",
    "if jumsu < 0 or jumsu > 100:\n",
    "    print(f'{jumsu}는 변환할 수 없는 점수입니다. 0 ~ 100 사이의 값을 넣으세요.')\n",
    "elif jumsu >= 91:\n",
    "    print('A학점')\n",
    "elif jumsu >= 81:\n",
    "    print('B학점')\n",
    "elif jumsu >= 71:\n",
    "    print('C학점')\n",
    "elif jumsu >= 61:\n",
    "    print('D학점')\n",
    "else:\n",
    "    print('F학점')"
   ]
  },
  {
   "cell_type": "code",
   "execution_count": 43,
   "id": "b911d722-b87f-4a31-89e5-26105d8af369",
   "metadata": {},
   "outputs": [
    {
     "name": "stdout",
     "output_type": "stream",
     "text": [
      "사용할 수 없는 ID입니다.\n"
     ]
    }
   ],
   "source": [
    "#(2) 사용자로 부터 ID를 입력 받은 뒤 입력받은 ID가 5글자 이상이면 \"사용할 수 있습니다.\"를 \n",
    "# 5글자 미만이면 \"사용할 수 없는 ID입니다.\"를 출력하세요.\n",
    "\n",
    "ID = input('ID: ')\n",
    "if len(ID) >= 5:\n",
    "    print('사용할 수 있습니다.')\n",
    "else:\n",
    "    print('사용할 수 없는 ID입니다.')"
   ]
  },
  {
   "cell_type": "code",
   "execution_count": 44,
   "id": "5d4e90c2-46e4-4165-bbf0-75ccf4e0a7b3",
   "metadata": {},
   "outputs": [
    {
     "name": "stdout",
     "output_type": "stream",
     "text": [
      "특별시\n"
     ]
    }
   ],
   "source": [
    "#(3) 사용자로부터 우리나라 도시명을 입력 받은 뒤 입력받은 도시명이 서울이면 \"특별시\"를 \n",
    "# 인천,부산,광주,대구,대전,울산 이면 \"광역시\"를 나머지는 \"특별시나 광역시가 아닙니다.\"를 출력하세요.\n",
    "\n",
    "city = input('도시명: ').strip()\n",
    "\n",
    "if city == '서울':\n",
    "    print('특별시')\n",
    "elif city in ['인천','부산','광주','대구','대전','울산']:\n",
    "    print('광역시')\n",
    "else:\n",
    "    print('특별시나 광역시가 아닙니다.')"
   ]
  },
  {
   "cell_type": "code",
   "execution_count": 45,
   "id": "81aaaf4f-903a-41ee-a3bc-a51ca21c4feb",
   "metadata": {},
   "outputs": [
    {
     "name": "stdout",
     "output_type": "stream",
     "text": [
      "총점:  890\n",
      "평균:  89.0\n"
     ]
    }
   ],
   "source": [
    "#(4) 아래 리스트의 평균을 구하시오.\n",
    "\n",
    "jumsu = [100, 90, 100, 80, 70, 100, 80, 90, 95, 85]\n",
    "jumsu_sum = 0\n",
    "for j in jumsu:\n",
    "    jumsu_sum += j\n",
    "print(\"총점: \", jumsu_sum)\n",
    "jumsu_avg = jumsu_sum / len(jumsu)\n",
    "print(\"평균: \", jumsu_avg)"
   ]
  },
  {
   "cell_type": "code",
   "execution_count": 46,
   "id": "d0cc6c3b-3169-4fa3-8d0b-9e52c0bd49d6",
   "metadata": {},
   "outputs": [
    {
     "name": "stdout",
     "output_type": "stream",
     "text": [
      "0-Pass\n",
      "1-Pass\n",
      "2-Pass\n",
      "3-Fail\n",
      "4-Fail\n",
      "5-Pass\n",
      "6-Fail\n",
      "7-Pass\n",
      "8-Pass\n",
      "9-Fail\n"
     ]
    }
   ],
   "source": [
    "#(5) 위 jumsu리스트에서 평균점수이상은 pass, 미만은 fail을 index번호와 함께 출력하시오. (ex: 0-pass, 1-pass, 2-fail)\n",
    "\n",
    "for index, value in enumerate(jumsu):\n",
    "    if value >= jumsu_avg:\n",
    "        print(f\"{index}-Pass\")\n",
    "    else:\n",
    "        print(f\"{index}-Fail\")"
   ]
  },
  {
   "cell_type": "code",
   "execution_count": 47,
   "id": "f62da24e",
   "metadata": {},
   "outputs": [
    {
     "name": "stdout",
     "output_type": "stream",
     "text": [
      "0 - Pass\n",
      "1 - Pass\n",
      "2 - Pass\n",
      "3 - Fail\n",
      "4 - Fail\n",
      "5 - Pass\n",
      "6 - Fail\n",
      "7 - Pass\n",
      "8 - Pass\n",
      "9 - Fail\n"
     ]
    }
   ],
   "source": [
    "for index, value in enumerate(jumsu):\n",
    "    print(f'{index} - {\"Pass\" if value >= jumsu_avg else \"Fail\"}')"
   ]
  },
  {
   "cell_type": "code",
   "execution_count": 48,
   "id": "3043ff50",
   "metadata": {},
   "outputs": [
    {
     "data": {
      "text/plain": [
       "['Pass,0',\n",
       " 'Pass,1',\n",
       " 'Pass,2',\n",
       " 'Fail',\n",
       " 'Fail',\n",
       " 'Pass,5',\n",
       " 'Fail',\n",
       " 'Pass,7',\n",
       " 'Pass,8',\n",
       " 'Fail']"
      ]
     },
     "execution_count": 48,
     "metadata": {},
     "output_type": "execute_result"
    }
   ],
   "source": [
    "[f\"Pass,{idx}\" if val >= jumsu_avg else \"Fail\" for idx,val in enumerate(jumsu)]"
   ]
  },
  {
   "cell_type": "code",
   "execution_count": 49,
   "id": "8d08605c-c4d7-4282-bfa1-9443b8ff6eca",
   "metadata": {},
   "outputs": [
    {
     "name": "stdout",
     "output_type": "stream",
     "text": [
      "최대값:  95\n"
     ]
    }
   ],
   "source": [
    "#(6) 아래 리스트 값들 중 최대값을 조회해 출력\n",
    "\n",
    "jumsu = [60, 90, 80, 80, 70, 55, 80, 90, 95, 85]\n",
    "max_value =  jumsu[0] # 최대값을 저장할 변수. 각각의 원소들을 이 변수 값과 비교해서 큰 값으로 이 변수값을 변경.\n",
    "for value in jumsu:\n",
    "    if value > max_value:\n",
    "        max_value = value\n",
    "        \n",
    "print('최대값: ', max_value)"
   ]
  },
  {
   "cell_type": "code",
   "execution_count": 50,
   "id": "d401dbc8",
   "metadata": {},
   "outputs": [
    {
     "data": {
      "text/plain": [
       "95"
      ]
     },
     "execution_count": 50,
     "metadata": {},
     "output_type": "execute_result"
    }
   ],
   "source": [
    "jumsu.sort()\n",
    "jumsu[-1]"
   ]
  },
  {
   "cell_type": "code",
   "execution_count": 51,
   "id": "ce85100e",
   "metadata": {},
   "outputs": [
    {
     "data": {
      "text/plain": [
       "(95, 55)"
      ]
     },
     "execution_count": 51,
     "metadata": {},
     "output_type": "execute_result"
    }
   ],
   "source": [
    "# 최대/최소값을 계산하는 파이썬 함수\n",
    "max(jumsu), min(jumsu)"
   ]
  },
  {
   "cell_type": "code",
   "execution_count": 52,
   "id": "7c844d7d-f950-4f08-a95e-7cfac228dca5",
   "metadata": {},
   "outputs": [
    {
     "data": {
      "text/plain": [
       "['소', '호랑이', '용', '뱀', '돼지', '호랑이']"
      ]
     },
     "execution_count": 52,
     "metadata": {},
     "output_type": "execute_result"
    }
   ],
   "source": [
    "#(7) 다음 리스트 중에서 \"쥐\"와 \"토끼\" 제외한 나머지를 출력하세요.\n",
    "str_list = [\"쥐\", \"소\", \"호랑이\", \"토끼\", \"용\", \"토끼\", \"뱀\", \"돼지\", \"호랑이\"]\n",
    "[v for v in str_list if v not in [\"쥐\", \"토끼\"]] # v != \"쥐\" and v != \"토끼\""
   ]
  },
  {
   "cell_type": "code",
   "execution_count": 53,
   "id": "87ad177b",
   "metadata": {},
   "outputs": [
    {
     "name": "stdout",
     "output_type": "stream",
     "text": [
      "소\n",
      "호랑이\n",
      "용\n",
      "뱀\n"
     ]
    }
   ],
   "source": [
    "str_list = [\"쥐\", \"소\", \"호랑이\", \"토끼\", \"용\", \"뱀\", \"토끼\"]\n",
    "for value in str_list:\n",
    "    if value not in [\"쥐\", \"토끼\"]:\n",
    "        print(value)\n"
   ]
  },
  {
   "cell_type": "code",
   "execution_count": 54,
   "id": "c1ae22d1",
   "metadata": {},
   "outputs": [
    {
     "name": "stdout",
     "output_type": "stream",
     "text": [
      "소\n",
      "호랑이\n",
      "용\n",
      "뱀\n"
     ]
    }
   ],
   "source": [
    "for value in str_list:\n",
    "    if value in [\"쥐\", \"토끼\"]:\n",
    "        continue\n",
    "    print(value)      "
   ]
  },
  {
   "cell_type": "code",
   "execution_count": 55,
   "id": "b71ac6d3-f914-4a77-a77d-4ae0408c0ab7",
   "metadata": {},
   "outputs": [
    {
     "name": "stdout",
     "output_type": "stream",
     "text": [
      "2 x 1 = 2\n",
      "2 x 2 = 4\n",
      "2 x 3 = 6\n",
      "2 x 4 = 8\n",
      "2 x 5 = 10\n",
      "2 x 6 = 12\n",
      "2 x 7 = 14\n",
      "2 x 8 = 16\n",
      "2 x 9 = 18\n"
     ]
    }
   ],
   "source": [
    "#(8) 사용자로부터 정수를 입력받아 그 정수 단의 구구단을 출력하시오. \n",
    "# ex) \n",
    "# 단을 입력하시오 : 2  \n",
    "# 2 x 1 = 2\n",
    "# 2 x 2 = 4\n",
    "#..\n",
    "# 2 x 9 = 18\n",
    "\n",
    "#컴프리헨션\n",
    "num = int(input())\n",
    "[print(f\"{num} x {i} = {num*i}\") for i in range(1,10)];"
   ]
  },
  {
   "cell_type": "code",
   "execution_count": 56,
   "id": "147baef9",
   "metadata": {},
   "outputs": [
    {
     "name": "stdout",
     "output_type": "stream",
     "text": [
      "2 X 1 = 2\n",
      "2 X 2 = 4\n",
      "2 X 3 = 6\n",
      "2 X 4 = 8\n",
      "2 X 5 = 10\n",
      "2 X 6 = 12\n",
      "2 X 7 = 14\n",
      "2 X 8 = 16\n",
      "2 X 9 = 18\n"
     ]
    }
   ],
   "source": [
    "dan = int(input(\"단을 입력하시오: \"))\n",
    "for i in range(1, 10):\n",
    "    print(f\"{dan} X {i} = {dan*i}\")"
   ]
  },
  {
   "cell_type": "code",
   "execution_count": 57,
   "id": "c4db6354",
   "metadata": {},
   "outputs": [
    {
     "name": "stdout",
     "output_type": "stream",
     "text": [
      "2 X 1 = 2\t3 X 1 = 3\t4 X 1 = 4\t5 X 1 = 5\t6 X 1 = 6\t7 X 1 = 7\t8 X 1 = 8\t9 X 1 = 9\t\n",
      "2 X 2 = 4\t3 X 2 = 6\t4 X 2 = 8\t5 X 2 = 10\t6 X 2 = 12\t7 X 2 = 14\t8 X 2 = 16\t9 X 2 = 18\t\n",
      "2 X 3 = 6\t3 X 3 = 9\t4 X 3 = 12\t5 X 3 = 15\t6 X 3 = 18\t7 X 3 = 21\t8 X 3 = 24\t9 X 3 = 27\t\n",
      "2 X 4 = 8\t3 X 4 = 12\t4 X 4 = 16\t5 X 4 = 20\t6 X 4 = 24\t7 X 4 = 28\t8 X 4 = 32\t9 X 4 = 36\t\n",
      "2 X 5 = 10\t3 X 5 = 15\t4 X 5 = 20\t5 X 5 = 25\t6 X 5 = 30\t7 X 5 = 35\t8 X 5 = 40\t9 X 5 = 45\t\n",
      "2 X 6 = 12\t3 X 6 = 18\t4 X 6 = 24\t5 X 6 = 30\t6 X 6 = 36\t7 X 6 = 42\t8 X 6 = 48\t9 X 6 = 54\t\n",
      "2 X 7 = 14\t3 X 7 = 21\t4 X 7 = 28\t5 X 7 = 35\t6 X 7 = 42\t7 X 7 = 49\t8 X 7 = 56\t9 X 7 = 63\t\n",
      "2 X 8 = 16\t3 X 8 = 24\t4 X 8 = 32\t5 X 8 = 40\t6 X 8 = 48\t7 X 8 = 56\t8 X 8 = 64\t9 X 8 = 72\t\n",
      "2 X 9 = 18\t3 X 9 = 27\t4 X 9 = 36\t5 X 9 = 45\t6 X 9 = 54\t7 X 9 = 63\t8 X 9 = 72\t9 X 9 = 81\t\n"
     ]
    }
   ],
   "source": [
    "for num in range(1, 10):\n",
    "    for dan in range(2, 10):\n",
    "        print(f\"{dan} X {num} = {dan*num}\", end=\"\\t\")\n",
    "    print()"
   ]
  },
  {
   "cell_type": "code",
   "execution_count": 58,
   "id": "5092c093-c349-4945-bea9-b0c57ac9f43a",
   "metadata": {},
   "outputs": [
    {
     "data": {
      "text/plain": [
       "[20, 60, 140, 10, 240, 1400, 2, 70]"
      ]
     },
     "execution_count": 58,
     "metadata": {},
     "output_type": "execute_result"
    }
   ],
   "source": [
    "#(9) 다음 리스트가 가진 값에 두배(* 2)를 가지는 새로운 리스트를 만드시오. (리스트 컴프리헨션 이용)\n",
    "\n",
    "lst = [10, 30, 70, 5, 120, 700, 1, 35]\n",
    "[v*2 for v in lst]"
   ]
  },
  {
   "cell_type": "code",
   "execution_count": 59,
   "id": "d5428e1c-dae0-46d1-ba25-3b5079136526",
   "metadata": {},
   "outputs": [
    {
     "data": {
      "text/plain": [
       "[(10, 100),\n",
       " (30, 300),\n",
       " (70, 700),\n",
       " (5, 50),\n",
       " (5, 50),\n",
       " (120, 1200),\n",
       " (700, 7000),\n",
       " (1, 10),\n",
       " (35, 350),\n",
       " (35, 350)]"
      ]
     },
     "execution_count": 59,
     "metadata": {},
     "output_type": "execute_result"
    }
   ],
   "source": [
    "#(10) 다음 리스트가 가진 값에 10배의 값을 가지는 값을 (원래값, 10배값) 의 튜플 묶음으로 가지는 리스트를 만드시오 (리스트 컴프리헨션 이용)\n",
    "# Ex) [(10,100), (30,300), .., (35, 350)]\n",
    "\n",
    "lst = [10, 30, 70, 5, 5, 120, 700, 1, 35, 35]\n",
    "[(v,v*10) for v in lst]"
   ]
  },
  {
   "cell_type": "code",
   "execution_count": 60,
   "id": "f3cc9677-243c-4757-a1c6-30eccd547077",
   "metadata": {},
   "outputs": [
    {
     "data": {
      "text/plain": [
       "[3, 33, 21, 33, 60, 120]"
      ]
     },
     "execution_count": 60,
     "metadata": {},
     "output_type": "execute_result"
    }
   ],
   "source": [
    "#(11) 다음 리스트가 가진 값들 중 3의 배수만 가지는 리스트를 만드시오. (리스트 컴프리헨션 이용)\n",
    "\n",
    "lst2 = [ 3, 20, 33, 21, 33, 8, 11, 10, 7, 17, 60, 120, 2]\n",
    "[v for v in lst2 if v % 3 == 0]"
   ]
  },
  {
   "cell_type": "code",
   "execution_count": 61,
   "id": "7f6cea8f-364e-46c5-b84d-7834f97cff85",
   "metadata": {},
   "outputs": [
    {
     "data": {
      "text/plain": [
       "['a.exe', 'function.exe', 'b.exe', 'run.exe']"
      ]
     },
     "execution_count": 61,
     "metadata": {},
     "output_type": "execute_result"
    }
   ],
   "source": [
    "#(12) 다음 파일이름들을 담은 리스트에서 확장자가 exe인 파일만 골라서 새로운 리스트에 담으시오.(string의 endswith()함수 이용)\n",
    "\n",
    "file_names=[\"test.txt\", \"a.exe\", \"jupyter.bat\", \"function.exe\", \"b.exe\", \"cat.jpg\", \"dog.png\", \"run.exe\", \"i.dll\"]\n",
    "[v for v in file_names if v.endswith(\"exe\")]"
   ]
  },
  {
   "cell_type": "code",
   "execution_count": 62,
   "id": "819a483e-fc8a-4401-b0a5-9a91d95a18c2",
   "metadata": {},
   "outputs": [
    {
     "data": {
      "text/plain": [
       "['mystroy.txt', 'jupyter.bat', 'function.exe']"
      ]
     },
     "execution_count": 62,
     "metadata": {},
     "output_type": "execute_result"
    }
   ],
   "source": [
    "#(13) 다음 중 10글자 이상인 파일명(확장자포함)만 가지는 리스트를 만드시오.\n",
    "\n",
    "file_names=[\"mystroy.txt\", \"a.exe\", \"jupyter.bat\", \"function.exe\", \"b.exe\", \"cat.jpg\", \"dog.png\", \"run.exe\", \"i.dll\"]\n",
    "[v for v in file_names if len(v) >= 10]"
   ]
  },
  {
   "cell_type": "code",
   "execution_count": 63,
   "id": "379a4a7e-1423-4579-b9ae-d7e34eb4cf52",
   "metadata": {},
   "outputs": [
    {
     "data": {
      "text/plain": [
       "['c', 'g', 'h', 'k']"
      ]
     },
     "execution_count": 63,
     "metadata": {},
     "output_type": "execute_result"
    }
   ],
   "source": [
    "#(14) 다음 리스트에서 소문자만 가지는 새로운 리스트를 만드시오.\n",
    "\n",
    "str_list = [\"A\", \"B\", \"c\", \"D\", \"E\", \"F\", \"g\", \"h\", \"I\", \"J\", \"k\"]\n",
    "[v for v in str_list if v.islower()]"
   ]
  }
 ],
 "metadata": {
  "kernelspec": {
   "display_name": "Python 3 (ipykernel)",
   "language": "python",
   "name": "python3"
  },
  "language_info": {
   "codemirror_mode": {
    "name": "ipython",
    "version": 3
   },
   "file_extension": ".py",
   "mimetype": "text/x-python",
   "name": "python",
   "nbconvert_exporter": "python",
   "pygments_lexer": "ipython3",
   "version": "3.12.2"
  },
  "toc": {
   "base_numbering": 1,
   "nav_menu": {},
   "number_sections": true,
   "sideBar": true,
   "skip_h1_title": false,
   "title_cell": "Table of Contents",
   "title_sidebar": "Contents",
   "toc_cell": false,
   "toc_position": {},
   "toc_section_display": true,
   "toc_window_display": false
  },
  "varInspector": {
   "cols": {
    "lenName": 16,
    "lenType": 16,
    "lenVar": 40
   },
   "kernels_config": {
    "python": {
     "delete_cmd_postfix": "",
     "delete_cmd_prefix": "del ",
     "library": "var_list.py",
     "varRefreshCmd": "print(var_dic_list())"
    },
    "r": {
     "delete_cmd_postfix": ") ",
     "delete_cmd_prefix": "rm(",
     "library": "var_list.r",
     "varRefreshCmd": "cat(var_dic_list()) "
    }
   },
   "types_to_exclude": [
    "module",
    "function",
    "builtin_function_or_method",
    "instance",
    "_Feature"
   ],
   "window_display": false
  }
 },
 "nbformat": 4,
 "nbformat_minor": 5
}
