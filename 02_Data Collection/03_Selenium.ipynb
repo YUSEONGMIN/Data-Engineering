{
 "cells": [
  {
   "cell_type": "markdown",
   "metadata": {},
   "source": [
    "# [Selenium](https://www.selenium.dev/)\n",
    "\n",
    "- **웹 브라우저 제어 도구**\n",
    "    - 원래는 웹 어플리케이션 자동 테스트를 위한 목적으로 만들어진 프레임워크.\n",
    "    - 웹브라우저를 프로그램을 이용해 제어할 수 있다.\n",
    "- **requests 모듈의 한계**   \n",
    "    - Javascript를 이용한 AJAX 기법의 비동기적 요청 처리 페이지 크롤링이 힘들다.\n",
    "    - 로그인 후 요청이 가능한 페이지들에 대한 크롤링이 번거롭다.\n",
    "    - Selenium을 활용하면 이 두가지 모두 쉽게 처리할 수 있다.\n",
    "    \n",
    "- **Selenium 단점** \n",
    "    - 속도가 느림\n",
    "- **설치**\n",
    "    - `conda install selenium`\n",
    "    - `pip install selenium`\n",
    "- [튜토리얼](https://selenium-python.readthedocs.io/)\n",
    "> - 주의: selenium은 3에서 4버전으로 업그레이드 되면서 드라이버 설정과 element 조회 메서드등이 많이 바뀜."
   ]
  },
  {
   "cell_type": "raw",
   "metadata": {
    "scrolled": true
   },
   "source": [
    "#  !터미널 명령어\n",
    "!pip install selenium"
   ]
  },
  {
   "cell_type": "markdown",
   "metadata": {},
   "source": [
    "# Driver\n",
    "\n",
    "- Driver \n",
    "    - 웹브라우저를 제어하는 프로그램으로 웹 브라우저별로 제공된다.\n",
    "    - Selenium 패키지의 Driver객체를 이용해 제어하게 된다.\n",
    "    \n",
    "## 설치\n",
    "1. **DriverManager 이용**\n",
    "    - `pip install webdriver-manager` "
   ]
  },
  {
   "cell_type": "markdown",
   "metadata": {},
   "source": [
    "2. **Hard coding**\n",
    "    1. 브라우져별로 드라이버를 다운로드 받는다.\n",
    "        - https://www.selenium.dev/documentation/webdriver/getting_started/install_drivers/#quick-reference\n",
    "    2. Local 컴퓨터에 설치된 크롬브라우져 버전에 맞는 드라이버 선택\n"
   ]
  },
  {
   "cell_type": "markdown",
   "metadata": {},
   "source": [
    "### DriverManager를 이용해 WebDriver 생성"
   ]
  },
  {
   "cell_type": "raw",
   "metadata": {},
   "source": [
    "!pip install webdriver-manager"
   ]
  },
  {
   "cell_type": "markdown",
   "metadata": {},
   "source": [
    "### 다운 받은 Driver이용해 WebDriver생성"
   ]
  },
  {
   "cell_type": "code",
   "execution_count": 5,
   "metadata": {},
   "outputs": [
    {
     "name": "stdout",
     "output_type": "stream",
     "text": [
      "C:\\Users\\SEONGMIN\\.wdm\\drivers\\edgedriver\\win64\\123.0.2420.97\\msedgedriver.exe\n"
     ]
    }
   ],
   "source": [
    "# from webdriver_manager.chrome import ChromeDriverManager\n",
    "from webdriver_manager.microsoft import EdgeChromiumDriverManager\n",
    "# from selenium.webdriver.chrome.service import Service\n",
    "from selenium.webdriver.edge.service import Service\n",
    "from selenium import webdriver\n",
    "\n",
    "# driver를 다운로드 받기\n",
    "# driver = ChromeDriverManager()\n",
    "driver = EdgeChromiumDriverManager().install() # 다운받은 경로를 반환\n",
    "print(driver)"
   ]
  },
  {
   "cell_type": "code",
   "execution_count": 21,
   "metadata": {},
   "outputs": [
    {
     "name": "stdout",
     "output_type": "stream",
     "text": [
      "<class 'selenium.webdriver.edge.webdriver.WebDriver'>\n"
     ]
    }
   ],
   "source": [
    "service = Service(executable_path=driver) # driver 경로를 넣어서 생성\n",
    "# browser = webdriver.Chrome(service=service)\n",
    "browser = webdriver.Edge(service=service)\n",
    "print(type(browser)) # 웹브라우저(크롬/엣지)을 관리하는 객체"
   ]
  },
  {
   "cell_type": "code",
   "execution_count": 22,
   "metadata": {},
   "outputs": [],
   "source": [
    "browser.get(\"https://www.naver.com\")\n",
    "# browser.get(\"https://www.daum.net\")"
   ]
  },
  {
   "cell_type": "code",
   "execution_count": 23,
   "metadata": {
    "scrolled": true
   },
   "outputs": [],
   "source": [
    "browser.close() # 끄기"
   ]
  },
  {
   "cell_type": "markdown",
   "metadata": {
    "heading_collapsed": true
   },
   "source": [
    "## WebDriver 주요 속성/메소드\n",
    "\n",
    "- **page_source** : 현재 페이지의 html 소스를 반환\n",
    "    - page_source로 html을 받아서 BeautifulSoup으로 크롤링할 원소를 찾을 수 있다.\n",
    "- **get_screenshot_as_file(파일경로)**\n",
    "    - 현재 웹브라우저 화면을 지정한 캡처해서 지정한 파일 경로에 저장한다.\n",
    "- **set_window_size(width, height)**\n",
    "    - 웹브라우저 윈도우 크기 조정\n",
    "- **maximize_window()**\n",
    "    - 웹브라우저 화면 최대 크기로 만들기.\n",
    "- **get_window_size()**\n",
    "    - 웹브라우저 윈도우 크기 조회. (width, height)\n",
    "- **execute_script(\"자바스크립트코드\")**\n",
    "    - 문자열로 전달한 **javascript 코드**를 실행시킨다.\n",
    "- **quit()**, **close()**\n",
    "    - 웹브라우저를 종료한다.\n",
    "    "
   ]
  },
  {
   "cell_type": "markdown",
   "metadata": {
    "heading_collapsed": true
   },
   "source": [
    "## Page의 Element 조회 메소드\n",
    "- BeautifulSoup을 이용하지 않고 셀레늄 자체 parser를 이용할 수 있다.\n",
    "- **find_element()**: 조건을 만족하는 첫번째 요소를 반환한다.\n",
    "    - 매개변수\n",
    "        - **by**: 검색방식\n",
    "            - **By.ID**\n",
    "            - **By.CLASS_NAME**\n",
    "            - **By.TAG_NAME**\n",
    "            - **By.CSS_SELECTOR**\n",
    "            - **By.XPATH**\n",
    "            - **By.LINK_TEXT**\n",
    "            - **By.PARTIAL_LINK_TEXT**\n",
    "        - **value**: str - 검색조건\n",
    "    - 반환타입: **WebElement**\n",
    "- **find_elements()**: 조건을 만족하는 모든 요소를 찾는다.\n",
    "    - 매개변수: find_element()와 동일\n",
    "    - 반환타입\n",
    "        - **list of WebElement**       "
   ]
  },
  {
   "cell_type": "markdown",
   "metadata": {
    "heading_collapsed": true
   },
   "source": [
    "### WebElement (조회결과) 메소드 / 속성\n",
    "- 메소드\n",
    "    - **get_attribute('속성명')**: 태그의 속성값 조회\n",
    "    - **send_keys(\"문자열\")**: 입력폼에 문자열 값을 입력.\n",
    "    - **click()**: element를 클릭\n",
    "    - **submit()**: element가 Form인 경우 폼 전송\n",
    "    - **clear()**: element가 입력폼인 경우 텍스트를 지운다.\n",
    "    - 위 조회 메소드들 : 하위의 elements들 조회\n",
    "- 속성\n",
    "    - **text**: 태그내의 텍스트\n",
    "    - **tag_name**: 태그이름 "
   ]
  },
  {
   "cell_type": "code",
   "execution_count": 2,
   "metadata": {},
   "outputs": [
    {
     "ename": "ModuleNotFoundError",
     "evalue": "No module named 'webdriver_manager'",
     "output_type": "error",
     "traceback": [
      "\u001b[1;31m---------------------------------------------------------------------------\u001b[0m",
      "\u001b[1;31mModuleNotFoundError\u001b[0m                       Traceback (most recent call last)",
      "Cell \u001b[1;32mIn[2], line 1\u001b[0m\n\u001b[1;32m----> 1\u001b[0m \u001b[38;5;28;01mfrom\u001b[39;00m \u001b[38;5;21;01mwebdriver_manager\u001b[39;00m\u001b[38;5;21;01m.\u001b[39;00m\u001b[38;5;21;01mmicrosoft\u001b[39;00m \u001b[38;5;28;01mimport\u001b[39;00m EdgeChromiumDriverManager\n\u001b[0;32m      2\u001b[0m \u001b[38;5;28;01mfrom\u001b[39;00m \u001b[38;5;21;01mselenium\u001b[39;00m \u001b[38;5;28;01mimport\u001b[39;00m webdriver\n\u001b[0;32m      3\u001b[0m \u001b[38;5;28;01mfrom\u001b[39;00m \u001b[38;5;21;01mselenium\u001b[39;00m\u001b[38;5;21;01m.\u001b[39;00m\u001b[38;5;21;01mwebdriver\u001b[39;00m\u001b[38;5;21;01m.\u001b[39;00m\u001b[38;5;21;01medge\u001b[39;00m\u001b[38;5;21;01m.\u001b[39;00m\u001b[38;5;21;01mservice\u001b[39;00m \u001b[38;5;28;01mimport\u001b[39;00m Service\n",
      "\u001b[1;31mModuleNotFoundError\u001b[0m: No module named 'webdriver_manager'"
     ]
    }
   ],
   "source": [
    "from webdriver_manager.microsoft import EdgeChromiumDriverManager\n",
    "from selenium import webdriver\n",
    "from selenium.webdriver.edge.service import Service\n",
    "from selenium.webdriver.common.by import By\n",
    "from selenium.webdriver.common.keys import Keys"
   ]
  },
  {
   "cell_type": "code",
   "execution_count": 25,
   "metadata": {},
   "outputs": [],
   "source": [
    "# web browser(크롬/엣지)을 실행\n",
    "service = Service(executable_path=driver)\n",
    "browser = webdriver.Edge(service=service)\n",
    "\n",
    "# url로 이동 (naver)\n",
    "browser.get(\"https://www.naver.com\")"
   ]
  },
  {
   "cell_type": "code",
   "execution_count": 27,
   "metadata": {},
   "outputs": [
    {
     "name": "stdout",
     "output_type": "stream",
     "text": [
      "<html lang=\"ko\" class=\"fzoom\" data-dark=\"false\"><head><script async=\"\" src=\"https://ntm.pstatic.net/ex/nlog.js\"></script><script async=\"\" src=\"https://ntm.pstatic.net/scripts/ntm_27291e35193e.js\"></script><script async=\"\" type=\"text/javascript\" src=\"https://ssl.pstatic.net/tveta/libs/ndpsdk/prod/ndp-core.js\"></script> <meta charset=\"utf-8\"> <meta name=\"Referrer\" content=\"origin\"> <meta http-equiv=\"X-UA-Compatible\" content=\"IE=edge\"> <meta name=\"viewport\" content=\"width=1190\"> <title>NAVER</title> <meta name=\"apple-mobile-web-app-title\" content=\"NAVER\"> <meta name=\"robots\" content=\"index,nofollow\"> <meta name=\"description\" content=\"네이버 메인에서 다양한 정보와 유용한 컨텐츠를 만나 보세요\"> <meta property=\"og:title\" content=\"네이버\"> <meta property=\"og:url\" content=\"https://www.naver.com/\"> <meta property=\"og:image\" content=\"https://s.pstatic.net/static/www/mobile/edit/2016/0705/mobile_212852414260.png\"> <meta property=\"og:description\" content=\"네이버 메인에서 다양한 정보와 유용한 컨텐츠를 만나 보세요\"> <meta name=\"twitter:card\" content=\"\n"
     ]
    }
   ],
   "source": [
    "# html 소스코드를 조회 -> BeautifulSoup 이용해서 데이터 추출\n",
    "html = browser.page_source\n",
    "print(html[:1000])"
   ]
  },
  {
   "cell_type": "code",
   "execution_count": 50,
   "metadata": {},
   "outputs": [],
   "source": [
    "# 화면 크기를 최대화\n",
    "browser.maximize_window()"
   ]
  },
  {
   "cell_type": "code",
   "execution_count": 37,
   "metadata": {},
   "outputs": [
    {
     "data": {
      "text/plain": [
       "True"
      ]
     },
     "execution_count": 37,
     "metadata": {},
     "output_type": "execute_result"
    }
   ],
   "source": [
    "# 화면 캡쳐\n",
    "browser.get_screenshot_as_file(\"naver_main.png\")"
   ]
  },
  {
   "cell_type": "code",
   "execution_count": 45,
   "metadata": {},
   "outputs": [],
   "source": [
    "browser.set_window_size(1000, 500)"
   ]
  },
  {
   "cell_type": "code",
   "execution_count": 49,
   "metadata": {},
   "outputs": [
    {
     "data": {
      "text/plain": [
       "{'width': 803, 'height': 469}"
      ]
     },
     "execution_count": 49,
     "metadata": {},
     "output_type": "execute_result"
    }
   ],
   "source": [
    "browser.get_window_size()"
   ]
  },
  {
   "cell_type": "code",
   "execution_count": 105,
   "metadata": {},
   "outputs": [
    {
     "name": "stdout",
     "output_type": "stream",
     "text": [
      "<class 'selenium.webdriver.remote.webelement.WebElement'>\n",
      "input query\n"
     ]
    }
   ],
   "source": [
    "textfield = browser.find_element(By.ID, \"query\")\n",
    "print(type(textfield))\n",
    "print(textfield.tag_name, textfield.get_attribute(\"name\"))"
   ]
  },
  {
   "cell_type": "code",
   "execution_count": 106,
   "metadata": {},
   "outputs": [],
   "source": [
    "# 키보드 입력 -> 글자들을 입력\n",
    "textfield.clear()\n",
    "textfield.send_keys(\"날씨\")"
   ]
  },
  {
   "cell_type": "code",
   "execution_count": 116,
   "metadata": {},
   "outputs": [],
   "source": [
    "textfield.send_keys(Keys.ENTER)"
   ]
  },
  {
   "cell_type": "code",
   "execution_count": 118,
   "metadata": {},
   "outputs": [],
   "source": [
    "textfield2 = browser.find_element(By.ID, \"nx_query\")\n",
    "textfield2.clear()\n",
    "textfield2.send_keys(\"미세먼지\")"
   ]
  },
  {
   "cell_type": "code",
   "execution_count": 126,
   "metadata": {},
   "outputs": [
    {
     "name": "stdout",
     "output_type": "stream",
     "text": [
      "button\n"
     ]
    }
   ],
   "source": [
    "submit_btn = browser.find_element(By.CLASS_NAME, \"bt_search\")\n",
    "print(submit_btn.tag_name)\n",
    "submit_btn.click()"
   ]
  },
  {
   "cell_type": "code",
   "execution_count": 127,
   "metadata": {},
   "outputs": [],
   "source": [
    "browser.close()"
   ]
  },
  {
   "cell_type": "markdown",
   "metadata": {
    "editable": true,
    "slideshow": {
     "slide_type": ""
    },
    "tags": []
   },
   "source": [
    "## TODO: 구글 검색\n",
    "1. https://www.google.co.kr 페이지로 이동\n",
    "2. 파이썬을 검색한다.\n",
    "3. 검색결과 title들을 출력한다."
   ]
  },
  {
   "cell_type": "code",
   "execution_count": 6,
   "metadata": {},
   "outputs": [],
   "source": [
    "from webdriver_manager.microsoft import EdgeChromiumDriverManager\n",
    "from selenium import webdriver\n",
    "from selenium.webdriver.edge.service import Service\n",
    "from selenium.webdriver.common.by import By\n",
    "from selenium.webdriver.common.keys import Keys\n",
    "\n",
    "from selenium.webdriver.support.ui import WebDriverWait\n",
    "from selenium.webdriver.support import expected_conditions as EC"
   ]
  },
  {
   "cell_type": "code",
   "execution_count": 303,
   "metadata": {},
   "outputs": [
    {
     "name": "stdout",
     "output_type": "stream",
     "text": [
      "Welcome to Python.org\n",
      "Python - 파이썬\n",
      "1. 파이썬 시작하기 - 왕초보를 위한 Python\n",
      "Python Tutorial\n",
      "파이썬 - 위키백과, 우리 모두의 백과사전\n",
      "Python란 무엇인가요? - Python 언어 설명\n",
      "Python (programming language)\n",
      "파이썬 코딩 무료 강의 (기본편) - 6시간 뒤면 여러분도 개발자가 ...\n"
     ]
    }
   ],
   "source": [
    "option = webdriver.EdgeOptions()\n",
    "option.add_argument(\"--headless\")\n",
    "\n",
    "driver = EdgeChromiumDriverManager().install()\n",
    "service = Service(executable_path=driver)\n",
    "browser = webdriver.Edge(service=service) # 브라우저 띄우기\n",
    "# 구글 이동\n",
    "browser.get(\"https://www.google.co.kr/\")\n",
    "# 키워드 입력필드를 조회\n",
    "keyword_tf = browser.find_element(By.ID, \"APjFqb\") #(By.NAME, 'q')\n",
    "# 검색 키워드 입력\n",
    "keyword_tf.send_keys(\"python\")\n",
    "keyword_tf.send_keys(Keys.ENTER)\n",
    "\n",
    "# import time\n",
    "# time.sleep(5)\n",
    "# title_list = browser.find_elements(By.CSS_SELECTOR, \".LC20lb.MBeuO.DKV0Md\")\n",
    "\n",
    "# element를 가져올 수 있을 때까지 10초까지 대기\n",
    "title_list = WebDriverWait(browser, 10).until(\n",
    "    EC.presence_of_all_elements_located((By.CSS_SELECTOR, \".LC20lb.MBeuO.DKV0Md\"))\n",
    ")\n",
    "\n",
    "## EC.presence_of_all_elements_located = find_elements()\n",
    "## EC.presence_of_element_located = find_element()\n",
    "\n",
    "print(len(title_list))\n",
    "for tag in title_list:\n",
    "    print(tag.text)\n",
    "browser.close()"
   ]
  },
  {
   "cell_type": "markdown",
   "metadata": {},
   "source": [
    "## 브라우저의 headless 모드를 이용.\n",
    "- Headless 브라우저 \n",
    "    - 브라우저의 창을 띄우지 않고 실제 브라우저와 동일하게 동작하도록 하는 방식\n",
    "    - CLI 기반의 OS (리눅스 서버)를 지원하기 위한 브라우저\n",
    "    - 크롬은 버전 60부터 headless 모드 지원\n",
    "- selenium에서 headless 모드\n",
    "    - webdriver options에 headless 설정"
   ]
  },
  {
   "cell_type": "code",
   "execution_count": 7,
   "metadata": {},
   "outputs": [],
   "source": [
    "# option = webdriver.ChromeOptions()\n",
    "option = webdriver.EdgeOptions()\n",
    "option.add_argument(\"--headless\")\n",
    "\n",
    "service = Service(executable_path=driver)\n",
    "browser = webdriver.Edge(service=service, options=option)\n",
    "\n",
    "browser.get(\"https://www.naver.com\")\n",
    "browser.get_screenshot_as_file(\"page_image.png\")\n",
    "browser.close()"
   ]
  },
  {
   "cell_type": "markdown",
   "metadata": {
    "hidden": true
   },
   "source": [
    "# 대기 하기\n",
    "\n",
    "## Explicit Wait\n",
    "- 특정 조건/상황을 만족할 때 까지 대기\n",
    "- `WebDriverWait(driver, 초).until(expected_contition)` 구문 사용\n",
    "- expected_condition 함수\n",
    "     - selenium.webdriver.support.expected_conditions 모듈에 정의된 함수 사용.\n",
    "         - https://selenium-python.readthedocs.io/api.html#module-selenium.webdriver.support.expected_conditions\n",
    "     \n",
    "## Implicit Wait\n",
    "- 현재 페이지에 없는 element나 elememt들이 loading 되기를 설정한 시간만큼 기다린다. \n",
    "- 설정한 시간 이내에 elements가 loading되면 대기가 종료된다.\n",
    "- `implicit_wait(초)` 구문 사용\n",
    "- 한번 설정하면 설정된 WebDriver가 close될때 까지 그 설정이 유지된다.\n",
    "- https://selenium-python.readthedocs.io/waits.html\n",
    "\n",
    "### 예)\n",
    "```python\n",
    "driver.implicitly_wait(5) \n",
    "# 페이지 로딩(dom tree완성)될 때까지 최대 5초간 기다린다. (로딩이 되면 5초가 되지 않아도 대기를 끝낸다.)\n",
    "```\n",
    "<hr>\n",
    "\n",
    "```python\n",
    "from selenium.webdriver.support import expected_conditions as EC\n",
    "\n",
    "...\n",
    "\n",
    "try:\n",
    "    # element가 반환될 때 까지 최대 10초 기다린다.\n",
    "    element = WebDriverWait(driver, 10).until(\n",
    "        EC.presence_of_element_located((By.ID, \"myDynamicElement\"))\n",
    "    )\n",
    "finally:\n",
    "    driver.quit()\n",
    "```"
   ]
  },
  {
   "cell_type": "markdown",
   "metadata": {},
   "source": [
    "# 무한스크롤"
   ]
  },
  {
   "cell_type": "code",
   "execution_count": 15,
   "metadata": {},
   "outputs": [],
   "source": [
    "url = \"https://www.youtube.com/results?search_query=music\"\n",
    "\n",
    "driver = EdgeChromiumDriverManager().install()\n",
    "service = Service(executable_path=driver)\n",
    "browser = webdriver.Edge(service=service)"
   ]
  },
  {
   "cell_type": "code",
   "execution_count": 16,
   "metadata": {},
   "outputs": [],
   "source": [
    "import time\n",
    "\n",
    "browser.maximize_window()\n",
    "browser.get(url)\n",
    "# time.sleep(3)\n",
    "# browser.execute_script(\"자바스크립트 코드\") -> 자바스크립트 코드가 브라우저에서 실행된다.\n",
    "\n",
    "# document.documentElement.scrollHeight 세로 스크롤 길이 (페이지의 height 길이)\n",
    "scroll_pane_height = browser.execute_script(\"return document.documentElement.scrollHeight\")\n",
    "while True:\n",
    "    # scroll 이동 - window.scrollTo(가로스크롤 이동할 위치, 세로스크롤 이동할 위치)\n",
    "    browser.execute_script(\"window.scrollTo(0, document.documentElement.scrollHeight)\")\n",
    "    time.sleep(1)\n",
    "    # 이동 후 height 길이 조회\n",
    "    new_scroll_height = browser.execute_script(\"return document.documentElement.scrollHeight\")\n",
    "    if scroll_pane_height == new_scroll_height:\n",
    "        break # 스크롤 이동을 멈춘다.\n",
    "    scroll_pane_height = new_scroll_height\n",
    "\n",
    "# 페이지에서 원하는 항목 추출\n",
    "browser.close()"
   ]
  },
  {
   "cell_type": "markdown",
   "metadata": {},
   "source": [
    "# 트립어드바이저 크롤링"
   ]
  },
  {
   "cell_type": "code",
   "execution_count": 38,
   "metadata": {},
   "outputs": [],
   "source": [
    "from bs4 import BeautifulSoup\n",
    "\n",
    "# 1페이지 리뷰 조회\n",
    "review_list = []\n",
    "\n",
    "url = \"https://www.tripadvisor.co.kr/Restaurant_Review-g294197-d3200324-Reviews-or50-Jungsik-Seoul.html\"\n",
    "\n",
    "service = Service(executable_path=EdgeChromiumDriverManager().install())\n",
    "browser = webdriver.Edge(service=service)\n",
    "\n",
    "browser.get(url)\n",
    "\n",
    "more_btn = WebDriverWait(browser, 10).until(\n",
    "    EC.presence_of_element_located((By.CSS_SELECTOR, \".taLnk.ulBlueLinks\"))\n",
    ")\n",
    "more_btn.click()\n",
    "\n",
    "time.sleep(1) # 내용이 나오기까지 1초 정도 대기\n",
    "# html -> str 조회\n",
    "html_txt = browser.page_source\n",
    "soup = BeautifulSoup(html_txt, 'lxml')\n",
    "\n",
    "tag_list = soup.select('.partial_entry')\n",
    "for tag in tag_list:\n",
    "    review_list.append(tag.get_text().strip())\n",
    "\n",
    "browser.close()"
   ]
  },
  {
   "cell_type": "code",
   "execution_count": 78,
   "metadata": {},
   "outputs": [
    {
     "name": "stdout",
     "output_type": "stream",
     "text": [
      "종료\n"
     ]
    }
   ],
   "source": [
    "# 전체 리뷰 조회\n",
    "review_list = []\n",
    "\n",
    "url = \"https://www.tripadvisor.co.kr/Restaurant_Review-g294197-d3200324-Reviews-or50-Jungsik-Seoul.html\"\n",
    "\n",
    "service = Service(executable_path=EdgeChromiumDriverManager().install())\n",
    "browser = webdriver.Edge(service=service)\n",
    "browser.get(url)\n",
    "\n",
    "# 반복문 안에서 한페이지 리뷰 조회하는 코드를 실행\n",
    "# 반복문은 '다음' 버튼을 클릭할 수 없을 때까지 반복\n",
    "while True:\n",
    "    more_btn = WebDriverWait(browser, 10).until(\n",
    "        EC.presence_of_element_located((By.CSS_SELECTOR, \".taLnk.ulBlueLinks\"))\n",
    "    )\n",
    "    more_btn.click()\n",
    "    \n",
    "    time.sleep(1) # 내용이 나오기까지 1초 정도 대기\n",
    "    # html -> str 조회\n",
    "    html_txt = browser.page_source\n",
    "    soup = BeautifulSoup(html_txt, 'lxml')\n",
    "    \n",
    "    tag_list = soup.select('.partial_entry')\n",
    "    for tag in tag_list:\n",
    "        review_list.append(tag.get_text().strip())\n",
    "\n",
    "    # 다음 버튼 클릭\n",
    "    try:\n",
    "        next_btn = WebDriverWait(browser, 5).until(\n",
    "            EC.presence_of_element_located((By.CSS_SELECTOR, \"#taplc_location_reviews_list_resp_rr_resp_0 > div > div:nth-child(12) > div > div > a.nav.next.ui_button.primary\"))\n",
    "        )\n",
    "        next_btn.click()\n",
    "    except:\n",
    "        # selector의 다음 버튼이 없다.\n",
    "        break\n",
    "    time.sleep(1)\n",
    "\n",
    "print(\"종료\")"
   ]
  },
  {
   "cell_type": "code",
   "execution_count": 80,
   "metadata": {
    "editable": true,
    "slideshow": {
     "slide_type": ""
    },
    "tags": []
   },
   "outputs": [
    {
     "data": {
      "text/plain": [
       "169"
      ]
     },
     "execution_count": 80,
     "metadata": {},
     "output_type": "execute_result"
    }
   ],
   "source": [
    "browser.close()\n",
    "len(review_list)"
   ]
  }
 ],
 "metadata": {
  "kernelspec": {
   "display_name": "Python 3 (ipykernel)",
   "language": "python",
   "name": "python3"
  },
  "language_info": {
   "codemirror_mode": {
    "name": "ipython",
    "version": 3
   },
   "file_extension": ".py",
   "mimetype": "text/x-python",
   "name": "python",
   "nbconvert_exporter": "python",
   "pygments_lexer": "ipython3",
   "version": "3.11.5"
  },
  "toc": {
   "base_numbering": 1,
   "nav_menu": {},
   "number_sections": false,
   "sideBar": false,
   "skip_h1_title": false,
   "title_cell": "Table of Contents",
   "title_sidebar": "Contents",
   "toc_cell": false,
   "toc_position": {},
   "toc_section_display": true,
   "toc_window_display": false
  },
  "varInspector": {
   "cols": {
    "lenName": 16,
    "lenType": 16,
    "lenVar": 40
   },
   "kernels_config": {
    "python": {
     "delete_cmd_postfix": "",
     "delete_cmd_prefix": "del ",
     "library": "var_list.py",
     "varRefreshCmd": "print(var_dic_list())"
    },
    "r": {
     "delete_cmd_postfix": ") ",
     "delete_cmd_prefix": "rm(",
     "library": "var_list.r",
     "varRefreshCmd": "cat(var_dic_list()) "
    }
   },
   "types_to_exclude": [
    "module",
    "function",
    "builtin_function_or_method",
    "instance",
    "_Feature"
   ],
   "window_display": false
  }
 },
 "nbformat": 4,
 "nbformat_minor": 4
}
